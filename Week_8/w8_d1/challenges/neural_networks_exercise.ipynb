{
 "cells": [
  {
   "cell_type": "markdown",
   "metadata": {},
   "source": [
    "# Practicing Neural Networks with fashion MNIST\n"
   ]
  },
  {
   "cell_type": "markdown",
   "metadata": {},
   "source": [
    "### Loading the fashion MNIST data \n",
    "The data can be found directly in the package keras (`keras.datasets.fashion_mnist`).\n",
    "\n",
    "```python\n",
    "fashion_mnist = keras.datasets.fashion_mnist\n",
    "(train_images, train_labels), (test_images, test_labels) = fashion_mnist.load_data()\n",
    "# returns 4 numpy arrays: 2 training sets and 2 test sets\n",
    "# images: 28x28 arrays, pixel values: 0 to 255\n",
    "# labels: array of integers: 0 to 9 => class of clothings\n",
    "# Training set: 60,000 images, Testing set: 10,000 images\n",
    "\n",
    "# class names are not included, need to create them to plot the images  \n",
    "class_names = ['T-shirt/top', 'Trouser', 'Pullover', 'Dress', 'Coat', 'Sandal', 'Shirt', 'Sneaker', 'Bag', 'Ankle boot']\n",
    "```"
   ]
  },
  {
   "cell_type": "code",
   "execution_count": 1,
   "metadata": {},
   "outputs": [],
   "source": [
    "#https://www.tensorflow.org/tutorials/keras/classification"
   ]
  },
  {
   "cell_type": "code",
   "execution_count": 11,
   "metadata": {},
   "outputs": [],
   "source": [
    "#!pip install tensorflow\n",
    "from tensorflow.keras.datasets import fashion_mnist\n",
    "from tensorflow.keras import models\n",
    "from tensorflow.keras import layers\n",
    "from tensorflow.keras.utils import to_categorical, normalize"
   ]
  },
  {
   "cell_type": "markdown",
   "metadata": {},
   "source": [
    "### Data Exploration\n",
    "\n",
    "- explore the pictures and labels\n",
    "- normalize the data to be between 0 and 1. Think about **why** we do this?"
   ]
  },
  {
   "cell_type": "code",
   "execution_count": 12,
   "metadata": {},
   "outputs": [],
   "source": [
    "(train_images, train_labels), (test_images, test_labels) = fashion_mnist.load_data()"
   ]
  },
  {
   "cell_type": "code",
   "execution_count": 13,
   "metadata": {},
   "outputs": [],
   "source": [
    "# class names are not included, need to create them to plot the images  \n",
    "class_names = {0:'T-shirt/top', 1:'Trouser', 2:'Pullover', 3:'Dress', 4:'Coat', 5:'Sandal', 6:'Shirt', 7:'Sneaker', 8:'Bag', 9:'Ankle boot'}"
   ]
  },
  {
   "cell_type": "code",
   "execution_count": 14,
   "metadata": {},
   "outputs": [
    {
     "output_type": "stream",
     "name": "stdout",
     "text": [
      "(60000, 28, 28)\n(60000,)\n"
     ]
    }
   ],
   "source": [
    "print(train_images.shape)\n",
    "print(train_labels.shape)"
   ]
  },
  {
   "cell_type": "code",
   "execution_count": 15,
   "metadata": {},
   "outputs": [
    {
     "output_type": "execute_result",
     "data": {
      "text/plain": [
       "<PIL.Image.Image image mode=L size=28x28 at 0x7F5CA4FCEF70>"
      ],
      "image/png": "[encoded data removed]"
     },
     "metadata": {},
     "execution_count": 15
    }
   ],
   "source": [
    "from PIL import Image\n",
    "#only works before normalization\n",
    "img = Image.fromarray(train_images[0])\n",
    "img"
   ]
  },
  {
   "cell_type": "code",
   "execution_count": 16,
   "metadata": {},
   "outputs": [],
   "source": [
    "train_images = normalize(train_images)\n",
    "test_images = normalize(test_images)"
   ]
  },
  {
   "cell_type": "markdown",
   "metadata": {},
   "source": [
    "### Training NN model \n",
    "\n",
    "Step 1 - Build the architecture\n",
    "\n",
    "Step 2 - Compile the model \n",
    "\n",
    "Step 3 - Train the model\n",
    "\n",
    "Step 4 - Evaluate the model "
   ]
  },
  {
   "cell_type": "code",
   "execution_count": 17,
   "metadata": {},
   "outputs": [],
   "source": [
    "# Step 1 - Build the architecture\n",
    "network = models.Sequential()\n",
    "network.add(layers.Dense(784, activation='relu', input_shape=(28 * 28,))) # only have\n",
    "network.add(layers.Dense(784, activation='relu'))\n",
    "network.add(layers.Dense(40, activation='relu'))\n",
    "#network.add(layers.Dense(20, activation='relu'))\n",
    "network.add(layers.Dense(10, activation='softmax'))\n",
    "network.compile(optimizer='adam',\n",
    "                loss='categorical_crossentropy',\n",
    "                metrics=['accuracy'])"
   ]
  },
  {
   "cell_type": "code",
   "execution_count": 18,
   "metadata": {},
   "outputs": [],
   "source": [
    "#Step 2 - Compile the model\n",
    "train_images = train_images.reshape((60000, 28 * 28))\n",
    "train_images = train_images.astype('float32') / 255\n",
    "test_images = test_images.reshape((10000, 28 * 28))\n",
    "test_images = test_images.astype('float32') / 255\n",
    "\n",
    "train_labels = to_categorical(train_labels)\n",
    "test_labels = to_categorical(test_labels)"
   ]
  },
  {
   "cell_type": "code",
   "execution_count": 19,
   "metadata": {},
   "outputs": [
    {
     "output_type": "stream",
     "name": "stdout",
     "text": [
      "Model: \"sequential_1\"\n_________________________________________________________________\nLayer (type)                 Output Shape              Param #   \n=================================================================\ndense_4 (Dense)              (None, 784)               615440    \n_________________________________________________________________\ndense_5 (Dense)              (None, 784)               615440    \n_________________________________________________________________\ndense_6 (Dense)              (None, 40)                31400     \n_________________________________________________________________\ndense_7 (Dense)              (None, 10)                410       \n=================================================================\nTotal params: 1,262,690\nTrainable params: 1,262,690\nNon-trainable params: 0\n_________________________________________________________________\n"
     ]
    }
   ],
   "source": [
    "network.summary()"
   ]
  },
  {
   "cell_type": "code",
   "execution_count": 20,
   "metadata": {},
   "outputs": [
    {
     "output_type": "stream",
     "name": "stdout",
     "text": [
      "Epoch 1/60\n",
      "235/235 [==============================] - 3s 11ms/step - loss: 1.2146 - accuracy: 0.5333\n",
      "Epoch 2/60\n",
      "235/235 [==============================] - 3s 11ms/step - loss: 0.7105 - accuracy: 0.7428\n",
      "Epoch 3/60\n",
      "235/235 [==============================] - 2s 11ms/step - loss: 0.5846 - accuracy: 0.7948\n",
      "Epoch 4/60\n",
      "235/235 [==============================] - 2s 10ms/step - loss: 0.5279 - accuracy: 0.8116\n",
      "Epoch 5/60\n",
      "235/235 [==============================] - 3s 11ms/step - loss: 0.4959 - accuracy: 0.8232\n",
      "Epoch 6/60\n",
      "235/235 [==============================] - 2s 11ms/step - loss: 0.4740 - accuracy: 0.8296\n",
      "Epoch 7/60\n",
      "235/235 [==============================] - 2s 11ms/step - loss: 0.4590 - accuracy: 0.8341\n",
      "Epoch 8/60\n",
      "235/235 [==============================] - 2s 11ms/step - loss: 0.4398 - accuracy: 0.8414\n",
      "Epoch 9/60\n",
      "235/235 [==============================] - 3s 11ms/step - loss: 0.4299 - accuracy: 0.8441\n",
      "Epoch 10/60\n",
      "235/235 [==============================] - 3s 11ms/step - loss: 0.4189 - accuracy: 0.8472\n",
      "Epoch 11/60\n",
      "235/235 [==============================] - 3s 11ms/step - loss: 0.4039 - accuracy: 0.8526\n",
      "Epoch 12/60\n",
      "235/235 [==============================] - 3s 11ms/step - loss: 0.3940 - accuracy: 0.8561\n",
      "Epoch 13/60\n",
      "235/235 [==============================] - 3s 11ms/step - loss: 0.3901 - accuracy: 0.8576\n",
      "Epoch 14/60\n",
      "235/235 [==============================] - 3s 11ms/step - loss: 0.3812 - accuracy: 0.8609\n",
      "Epoch 15/60\n",
      "235/235 [==============================] - 2s 10ms/step - loss: 0.3727 - accuracy: 0.8649\n",
      "Epoch 16/60\n",
      "235/235 [==============================] - 2s 10ms/step - loss: 0.3665 - accuracy: 0.8665\n",
      "Epoch 17/60\n",
      "235/235 [==============================] - 3s 11ms/step - loss: 0.3592 - accuracy: 0.8691\n",
      "Epoch 18/60\n",
      "235/235 [==============================] - 3s 11ms/step - loss: 0.3540 - accuracy: 0.8708\n",
      "Epoch 19/60\n",
      "235/235 [==============================] - 3s 11ms/step - loss: 0.3485 - accuracy: 0.8726\n",
      "Epoch 20/60\n",
      "235/235 [==============================] - 3s 11ms/step - loss: 0.3420 - accuracy: 0.8752\n",
      "Epoch 21/60\n",
      "235/235 [==============================] - 3s 11ms/step - loss: 0.3363 - accuracy: 0.8762\n",
      "Epoch 22/60\n",
      "235/235 [==============================] - 3s 11ms/step - loss: 0.3335 - accuracy: 0.8784\n",
      "Epoch 23/60\n",
      "235/235 [==============================] - 2s 11ms/step - loss: 0.3260 - accuracy: 0.8805\n",
      "Epoch 24/60\n",
      "235/235 [==============================] - 3s 11ms/step - loss: 0.3250 - accuracy: 0.8805\n",
      "Epoch 25/60\n",
      "235/235 [==============================] - 2s 11ms/step - loss: 0.3216 - accuracy: 0.8828\n",
      "Epoch 26/60\n",
      "235/235 [==============================] - 3s 11ms/step - loss: 0.3143 - accuracy: 0.8846\n",
      "Epoch 27/60\n",
      "235/235 [==============================] - 3s 11ms/step - loss: 0.3109 - accuracy: 0.8867\n",
      "Epoch 28/60\n",
      "235/235 [==============================] - 3s 11ms/step - loss: 0.3079 - accuracy: 0.8865\n",
      "Epoch 29/60\n",
      "235/235 [==============================] - 2s 11ms/step - loss: 0.3050 - accuracy: 0.8878\n",
      "Epoch 30/60\n",
      "235/235 [==============================] - 3s 11ms/step - loss: 0.2980 - accuracy: 0.8904\n",
      "Epoch 31/60\n",
      "235/235 [==============================] - 3s 11ms/step - loss: 0.2970 - accuracy: 0.8912\n",
      "Epoch 32/60\n",
      "235/235 [==============================] - 3s 11ms/step - loss: 0.2920 - accuracy: 0.8915\n",
      "Epoch 33/60\n",
      "235/235 [==============================] - 2s 11ms/step - loss: 0.2904 - accuracy: 0.8917\n",
      "Epoch 34/60\n",
      "235/235 [==============================] - 3s 11ms/step - loss: 0.2830 - accuracy: 0.8958\n",
      "Epoch 35/60\n",
      "235/235 [==============================] - 3s 11ms/step - loss: 0.2796 - accuracy: 0.8972\n",
      "Epoch 36/60\n",
      "235/235 [==============================] - 3s 11ms/step - loss: 0.2762 - accuracy: 0.8979\n",
      "Epoch 37/60\n",
      "235/235 [==============================] - 3s 11ms/step - loss: 0.2761 - accuracy: 0.8978\n",
      "Epoch 38/60\n",
      "235/235 [==============================] - 2s 11ms/step - loss: 0.2715 - accuracy: 0.8991\n",
      "Epoch 39/60\n",
      "235/235 [==============================] - 2s 11ms/step - loss: 0.2673 - accuracy: 0.9004\n",
      "Epoch 40/60\n",
      "235/235 [==============================] - 3s 11ms/step - loss: 0.2678 - accuracy: 0.8999\n",
      "Epoch 41/60\n",
      "235/235 [==============================] - 2s 11ms/step - loss: 0.2603 - accuracy: 0.9040\n",
      "Epoch 42/60\n",
      "235/235 [==============================] - 3s 11ms/step - loss: 0.2641 - accuracy: 0.9021\n",
      "Epoch 43/60\n",
      "235/235 [==============================] - 3s 11ms/step - loss: 0.2556 - accuracy: 0.9053\n",
      "Epoch 44/60\n",
      "235/235 [==============================] - 3s 11ms/step - loss: 0.2516 - accuracy: 0.9064\n",
      "Epoch 45/60\n",
      "235/235 [==============================] - 3s 11ms/step - loss: 0.2508 - accuracy: 0.9071\n",
      "Epoch 46/60\n",
      "235/235 [==============================] - 3s 11ms/step - loss: 0.2478 - accuracy: 0.9077\n",
      "Epoch 47/60\n",
      "235/235 [==============================] - 3s 11ms/step - loss: 0.2512 - accuracy: 0.9056\n",
      "Epoch 48/60\n",
      "235/235 [==============================] - 3s 11ms/step - loss: 0.2427 - accuracy: 0.9088\n",
      "Epoch 49/60\n",
      "235/235 [==============================] - 3s 11ms/step - loss: 0.2407 - accuracy: 0.9097\n",
      "Epoch 50/60\n",
      "235/235 [==============================] - 3s 11ms/step - loss: 0.2361 - accuracy: 0.9117\n",
      "Epoch 51/60\n",
      "235/235 [==============================] - 3s 11ms/step - loss: 0.2335 - accuracy: 0.9125\n",
      "Epoch 52/60\n",
      "235/235 [==============================] - 2s 11ms/step - loss: 0.2309 - accuracy: 0.9129\n",
      "Epoch 53/60\n",
      "235/235 [==============================] - 3s 11ms/step - loss: 0.2327 - accuracy: 0.9122\n",
      "Epoch 54/60\n",
      "235/235 [==============================] - 3s 11ms/step - loss: 0.2258 - accuracy: 0.9151\n",
      "Epoch 55/60\n",
      "235/235 [==============================] - 3s 11ms/step - loss: 0.2276 - accuracy: 0.9143\n",
      "Epoch 56/60\n",
      "235/235 [==============================] - 3s 11ms/step - loss: 0.2235 - accuracy: 0.9165\n",
      "Epoch 57/60\n",
      "235/235 [==============================] - 3s 11ms/step - loss: 0.2208 - accuracy: 0.9175\n",
      "Epoch 58/60\n",
      "235/235 [==============================] - 3s 11ms/step - loss: 0.2145 - accuracy: 0.9205\n",
      "Epoch 59/60\n",
      "235/235 [==============================] - 3s 11ms/step - loss: 0.2180 - accuracy: 0.9187\n",
      "Epoch 60/60\n",
      "235/235 [==============================] - 3s 11ms/step - loss: 0.2162 - accuracy: 0.9187\n"
     ]
    },
    {
     "output_type": "execute_result",
     "data": {
      "text/plain": [
       "<tensorflow.python.keras.callbacks.History at 0x7f5c9891f6a0>"
      ]
     },
     "metadata": {},
     "execution_count": 20
    }
   ],
   "source": [
    "network.fit(train_images, train_labels, epochs=60, batch_size=256)"
   ]
  },
  {
   "cell_type": "code",
   "execution_count": 21,
   "metadata": {},
   "outputs": [
    {
     "output_type": "stream",
     "name": "stdout",
     "text": [
      "313/313 [==============================] - 1s 2ms/step - loss: 0.3282 - accuracy: 0.8871\n",
      "test_acc: 0.8870999813079834 test_loss 0.32818397879600525\n"
     ]
    }
   ],
   "source": [
    "test_loss, test_acc = network.evaluate(test_images, test_labels)\n",
    "print('test_acc:', test_acc, 'test_loss', test_loss)"
   ]
  },
  {
   "cell_type": "code",
   "execution_count": null,
   "metadata": {},
   "outputs": [],
   "source": []
  }
 ],
 "metadata": {
  "kernelspec": {
   "display_name": "Python 3",
   "language": "python",
   "name": "python3"
  },
  "language_info": {
   "codemirror_mode": {
    "name": "ipython",
    "version": 3
   },
   "file_extension": ".py",
   "mimetype": "text/x-python",
   "name": "python",
   "nbconvert_exporter": "python",
   "pygments_lexer": "ipython3",
   "version": "3.8.5-final"
  }
 },
 "nbformat": 4,
 "nbformat_minor": 4
}