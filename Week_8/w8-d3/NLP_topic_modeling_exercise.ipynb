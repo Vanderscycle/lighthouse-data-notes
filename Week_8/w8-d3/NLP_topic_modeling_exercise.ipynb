{
 "cells": [
  {
   "cell_type": "code",
   "execution_count": 1,
   "metadata": {
    "ExecuteTime": {
     "end_time": "2020-04-29T12:18:12.932082Z",
     "start_time": "2020-04-29T12:18:12.200358Z"
    }
   },
   "outputs": [],
   "source": [
    "# import TfidfVectorizer and CountVectorizer from sklearn\n",
    "from sklearn.feature_extraction.text import TfidfVectorizer, CountVectorizer\n",
    "\n",
    "# import fetch_20newsgroups from sklearn.datasets\n",
    "from sklearn.datasets import fetch_20newsgroups\n",
    "\n",
    "# import NMF and LatentDirichletAllocation from sklearn\n",
    "from sklearn.decomposition import NMF, LatentDirichletAllocation"
   ]
  },
  {
   "cell_type": "code",
   "execution_count": 2,
   "metadata": {
    "ExecuteTime": {
     "end_time": "2020-04-29T12:18:14.463840Z",
     "start_time": "2020-04-29T12:18:13.020189Z"
    }
   },
   "outputs": [],
   "source": [
    "dataset = fetch_20newsgroups(shuffle=True, random_state=1, remove=('headers', 'footers', 'quotes'))\n",
    "documents = dataset.data"
   ]
  },
  {
   "cell_type": "markdown",
   "metadata": {},
   "source": [
    "* create variable 'no_features' and set its value to 100"
   ]
  },
  {
   "cell_type": "code",
   "execution_count": 3,
   "metadata": {
    "ExecuteTime": {
     "end_time": "2020-04-29T12:18:15.590700Z",
     "start_time": "2020-04-29T12:18:15.585820Z"
    }
   },
   "outputs": [],
   "source": [
    "no_features = 100"
   ]
  },
  {
   "cell_type": "markdown",
   "metadata": {},
   "source": [
    "* create variable 'no_topics' and set its value to 100"
   ]
  },
  {
   "cell_type": "code",
   "execution_count": 4,
   "metadata": {
    "ExecuteTime": {
     "end_time": "2020-04-29T12:18:16.743304Z",
     "start_time": "2020-04-29T12:18:16.737763Z"
    }
   },
   "outputs": [],
   "source": [
    "no_topics = 100"
   ]
  },
  {
   "cell_type": "markdown",
   "metadata": {},
   "source": [
    "# NMF"
   ]
  },
  {
   "cell_type": "markdown",
   "metadata": {},
   "source": [
    "* instantiate TfidfVectorizer with following params:\n",
    "* max_df=0.95, min_df=2, max_features=no_features, stop_words='english'"
   ]
  },
  {
   "cell_type": "code",
   "execution_count": 5,
   "metadata": {
    "ExecuteTime": {
     "end_time": "2020-04-29T12:18:17.892838Z",
     "start_time": "2020-04-29T12:18:17.888668Z"
    }
   },
   "outputs": [],
   "source": [
    "vector = TfidfVectorizer(max_df=0.95, min_df=2, max_features=no_features, stop_words='english')"
   ]
  },
  {
   "cell_type": "markdown",
   "metadata": {},
   "source": [
    "* use fit_transform method of TfidfVectorizer to transform documents"
   ]
  },
  {
   "cell_type": "code",
   "execution_count": 6,
   "metadata": {
    "ExecuteTime": {
     "end_time": "2020-04-29T12:18:21.486038Z",
     "start_time": "2020-04-29T12:18:19.135830Z"
    }
   },
   "outputs": [],
   "source": [
    "cleanedFeatures = vector.fit_transform(documents)"
   ]
  },
  {
   "cell_type": "markdown",
   "metadata": {},
   "source": [
    "* get features names from TfidfVectorizer"
   ]
  },
  {
   "cell_type": "code",
   "execution_count": 15,
   "metadata": {
    "ExecuteTime": {
     "end_time": "2020-04-29T12:18:22.661253Z",
     "start_time": "2020-04-29T12:18:22.656169Z"
    }
   },
   "outputs": [
    {
     "output_type": "execute_result",
     "data": {
      "text/plain": [
       "['sure',\n",
       " 'tell',\n",
       " 'thanks',\n",
       " 'thing',\n",
       " 'things',\n",
       " 'think',\n",
       " 'time',\n",
       " 'true',\n",
       " 'try',\n",
       " 'use']"
      ]
     },
     "metadata": {},
     "execution_count": 15
    }
   ],
   "source": [
    "vector.get_feature_names()[80:90]"
   ]
  },
  {
   "cell_type": "markdown",
   "metadata": {},
   "source": [
    "* instantiate NMF and fit transformed data"
   ]
  },
  {
   "cell_type": "code",
   "execution_count": 24,
   "metadata": {
    "ExecuteTime": {
     "end_time": "2020-04-29T12:18:24.532755Z",
     "start_time": "2020-04-29T12:18:23.661009Z"
    }
   },
   "outputs": [],
   "source": [
    "from sklearn.decomposition import NMF, LatentDirichletAllocation, TruncatedSVD\n",
    "model = NMF(n_components=10, init='random', random_state=42)"
   ]
  },
  {
   "cell_type": "code",
   "execution_count": 44,
   "metadata": {},
   "outputs": [],
   "source": [
    "NMFModel = model.fit_transform(cleanedFeatures)"
   ]
  },
  {
   "cell_type": "markdown",
   "metadata": {},
   "source": [
    "# LDA"
   ]
  },
  {
   "cell_type": "markdown",
   "metadata": {},
   "source": [
    "* instantiate CountVectorizer with following params:\n",
    "* max_df=0.95, min_df=2, max_features=no_features, stop_words='english'"
   ]
  },
  {
   "cell_type": "code",
   "execution_count": 29,
   "metadata": {
    "ExecuteTime": {
     "end_time": "2020-04-29T12:18:25.547906Z",
     "start_time": "2020-04-29T12:18:25.540452Z"
    }
   },
   "outputs": [],
   "source": [
    "from sklearn.feature_extraction.text import CountVectorizer\n",
    "CV = CountVectorizer(max_df=0.95, min_df=2, max_features=no_features, stop_words='english')"
   ]
  },
  {
   "cell_type": "markdown",
   "metadata": {},
   "source": [
    "* use fit_transform method of CountVectorizer to transform documents"
   ]
  },
  {
   "cell_type": "code",
   "execution_count": 37,
   "metadata": {},
   "outputs": [],
   "source": [
    "transformed_docs = CV.fit_transform(documents)"
   ]
  },
  {
   "cell_type": "markdown",
   "metadata": {},
   "source": [
    "* get features names from TfidfVectorizer"
   ]
  },
  {
   "cell_type": "code",
   "execution_count": 38,
   "metadata": {
    "ExecuteTime": {
     "end_time": "2020-04-29T12:18:31.516381Z",
     "start_time": "2020-04-29T12:18:31.498740Z"
    }
   },
   "outputs": [
    {
     "output_type": "execute_result",
     "data": {
      "text/plain": [
       "['00', '10', '12', '14', '15', '16', '20', '25', 'a86', 'available']"
      ]
     },
     "metadata": {},
     "execution_count": 38
    }
   ],
   "source": [
    "CV.get_feature_names()[:10]"
   ]
  },
  {
   "cell_type": "markdown",
   "metadata": {},
   "source": [
    "* instantiate LatentDirichletAllocation and fit transformed data "
   ]
  },
  {
   "cell_type": "code",
   "execution_count": 39,
   "metadata": {
    "ExecuteTime": {
     "end_time": "2020-04-29T12:19:03.315322Z",
     "start_time": "2020-04-29T12:18:32.768365Z"
    }
   },
   "outputs": [],
   "source": [
    "LDA = LatentDirichletAllocation().fit(transformed_docs)"
   ]
  },
  {
   "cell_type": "markdown",
   "metadata": {},
   "source": [
    "* create a function display_topics that is able to display the top words in a topic for different models"
   ]
  },
  {
   "cell_type": "code",
   "execution_count": 43,
   "metadata": {
    "ExecuteTime": {
     "end_time": "2020-04-29T12:19:04.476192Z",
     "start_time": "2020-04-29T12:19:04.469045Z"
    }
   },
   "outputs": [
    {
     "output_type": "stream",
     "name": "stdout",
     "text": [
      "LDA Model:\nTopic 0:\n[('file', 1366.8523625024034), ('program', 873.8002857777534), ('year', 864.803541217625), ('new', 843.0789327265327), ('time', 734.805979474687), ('line', 651.0954432618973), ('good', 580.2917201716772), ('long', 364.8556904091742), ('day', 350.8716156640925), ('better', 349.181530060716)]\nTopic 1:\n[('people', 3093.760900634279), ('don', 2675.314616162226), ('just', 2471.1641489024237), ('think', 2459.9194870533956), ('like', 1919.899739477944), ('know', 1860.3264969630065), ('did', 1375.8230117813864), ('said', 1357.2239096968751), ('right', 1306.960397393438), ('say', 1232.9905743774639)]\nTopic 2:\n[('ax', 6298.826752444694), ('g9v', 1081.0688440988808), ('b8f', 960.6396397867891), ('a86', 802.2005838399097), ('max', 399.128386966128), ('14', 101.1326515391622), ('mr', 75.33771680414762), ('25', 22.094119331048926), ('10', 2.2589873293248908), ('20', 1.1025801964682203)]\nTopic 3:\n[('10', 1589.7771836987188), ('00', 1184.1700766816448), ('20', 1041.0962014111324), ('15', 995.9886416799951), ('16', 929.1718743232483), ('25', 902.2385742425747), ('12', 895.9621048828984), ('14', 783.2872612592435), ('new', 329.6473530735436), ('power', 257.5168716880114)]\nTopic 4:\n[('problem', 1144.1606354650642), ('drive', 1118.1768517596379), ('ve', 994.2324780622254), ('work', 812.9747302580492), ('thanks', 701.3418437136824), ('power', 684.780223915601), ('need', 620.1860239105943), ('just', 597.4844365853063), ('help', 534.3864048707707), ('got', 517.3532410258441)]\nTopic 5:\n[('use', 1676.6541075802265), ('does', 1429.5424683627477), ('like', 1186.53990017572), ('know', 989.8327746875201), ('mail', 716.0315159911002), ('used', 622.8652939086438), ('list', 589.0429067140188), ('don', 544.7625598785496), ('make', 537.7970316056741), ('want', 397.22012448818424)]\nTopic 6:\n[('god', 1980.091432641442), ('jesus', 887.0999839221563), ('believe', 710.7058426164864), ('true', 569.0665021775319), ('does', 455.5832411605848), ('say', 409.6731529476979), ('people', 376.98385763788156), ('world', 350.88987544459434), ('question', 304.68163635941704), ('fact', 273.1805601812)]\nTopic 7:\n[('key', 1215.4128085837135), ('government', 1108.3941141448872), ('law', 937.3167158543074), ('mr', 838.3909244747243), ('state', 693.6381047015104), ('number', 602.4149884431948), ('used', 463.38842577260067), ('new', 387.02490323488394), ('use', 377.54299503675986), ('years', 376.6000766733704)]\nTopic 8:\n[('edu', 2240.3832412610186), ('space', 1278.2993539971972), ('windows', 1166.1269075556645), ('data', 1108.073688927447), ('com', 1076.376569094323), ('available', 1050.6170177513595), ('software', 830.4191473582849), ('information', 744.7181098303797), ('use', 584.8850829110271), ('program', 501.5166798293031)]\nTopic 9:\n[('ax', 56088.373246644864), ('max', 4139.164399585841), ('b8f', 150.56035968397083), ('a86', 113.99941558939723), ('g9v', 85.13115563642722), ('mr', 34.02626907174618), ('25', 29.66668686423833), ('14', 19.64378671475557), ('ll', 8.76184557503696), ('12', 4.247815026655611)]\n==========\n"
     ]
    }
   ],
   "source": [
    "def print_topics(model, vectorizer, top_n=10):\n",
    "    for idx, topic in enumerate(model.components_):\n",
    "        print(\"Topic %d:\" % (idx))\n",
    "        print([(vectorizer.get_feature_names()[i], topic[i])\n",
    "                        for i in topic.argsort()[:-top_n - 1:-1]])\n",
    " \n",
    "print(\"LDA Model:\")\n",
    "print_topics(LDA, CV)\n",
    "print(\"=\" * 10)"
   ]
  },
  {
   "cell_type": "markdown",
   "metadata": {},
   "source": [
    "* display top 1o words from each topic from NMF model"
   ]
  },
  {
   "cell_type": "markdown",
   "metadata": {},
   "source": [
    "* display top 1o words from each topic from LDA model"
   ]
  },
  {
   "cell_type": "code",
   "execution_count": null,
   "metadata": {
    "ExecuteTime": {
     "end_time": "2020-04-29T12:19:06.842806Z",
     "start_time": "2020-04-29T12:19:06.831721Z"
    }
   },
   "outputs": [],
   "source": []
  }
 ],
 "metadata": {
  "kernelspec": {
   "display_name": "Python 3",
   "language": "python",
   "name": "python3"
  },
  "language_info": {
   "codemirror_mode": {
    "name": "ipython",
    "version": 3
   },
   "file_extension": ".py",
   "mimetype": "text/x-python",
   "name": "python",
   "nbconvert_exporter": "python",
   "pygments_lexer": "ipython3",
   "version": "3.8.5-final"
  },
  "toc": {
   "base_numbering": 1,
   "nav_menu": {},
   "number_sections": true,
   "sideBar": true,
   "skip_h1_title": false,
   "title_cell": "Table of Contents",
   "title_sidebar": "Contents",
   "toc_cell": false,
   "toc_position": {},
   "toc_section_display": true,
   "toc_window_display": false
  },
  "varInspector": {
   "cols": {
    "lenName": 16,
    "lenType": 16,
    "lenVar": 40
   },
   "kernels_config": {
    "python": {
     "delete_cmd_postfix": "",
     "delete_cmd_prefix": "del ",
     "library": "var_list.py",
     "varRefreshCmd": "print(var_dic_list())"
    },
    "r": {
     "delete_cmd_postfix": ") ",
     "delete_cmd_prefix": "rm(",
     "library": "var_list.r",
     "varRefreshCmd": "cat(var_dic_list()) "
    }
   },
   "types_to_exclude": [
    "module",
    "function",
    "builtin_function_or_method",
    "instance",
    "_Feature"
   ],
   "window_display": false
  }
 },
 "nbformat": 4,
 "nbformat_minor": 2
}