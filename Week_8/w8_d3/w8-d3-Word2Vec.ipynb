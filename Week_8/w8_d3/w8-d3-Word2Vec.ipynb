{
 "metadata": {
  "language_info": {
   "codemirror_mode": {
    "name": "ipython",
    "version": 3
   },
   "file_extension": ".py",
   "mimetype": "text/x-python",
   "name": "python",
   "nbconvert_exporter": "python",
   "pygments_lexer": "ipython3",
   "version": "3.8.5-final"
  },
  "orig_nbformat": 2,
  "kernelspec": {
   "name": "python38564bitnnscrapercondaa354d8fb32614818906b42d96b0e4fbd",
   "display_name": "Python 3.8.5 64-bit ('NNScraper': conda)"
  }
 },
 "nbformat": 4,
 "nbformat_minor": 2,
 "cells": [
  {
   "cell_type": "code",
   "execution_count": 2,
   "metadata": {},
   "outputs": [],
   "source": [
    "import pandas as pd\n",
    "import numpy as np"
   ]
  },
  {
   "source": [
    "# 1. Data Preparation\n",
    "\n",
    "To begin, we start with the following corpus:\n",
    "\n",
    "    natural language processing and machine learning is fun and exciting\n",
    "\n",
    "For simplicity, we have chosen a sentence without punctuation and capitalisation. Also, we did not remove stop words “and” and “is”."
   ],
   "cell_type": "markdown",
   "metadata": {}
  },
  {
   "cell_type": "code",
   "execution_count": 1,
   "metadata": {},
   "outputs": [],
   "source": [
    "text = \"natural language processing and machine learning is fun and exciting\"\n",
    "\n",
    "# Note the .lower() as upper and lowercase does not matter in our implementation\n",
    "# [['natural', 'language', 'processing', 'and', 'machine', 'learning', 'is', 'fun', 'and', 'exciting']]\n",
    "corpus = [[word.lower() for word in text.split()]]"
   ]
  },
  {
   "source": [
    "## 2. Hyperparameters\n",
    "\n",
    "Before we jump into the actual implementation, let us define some of the hyperparameters we need later.\n"
   ],
   "cell_type": "markdown",
   "metadata": {}
  },
  {
   "cell_type": "code",
   "execution_count": 3,
   "metadata": {},
   "outputs": [],
   "source": [
    "settings = {\n",
    "\t'window_size': 2,\t# context window +- center word\n",
    "\t'n': 10,\t\t# dimensions of word embeddings, also refer to size of hidden layer\n",
    "\t'epochs': 50,\t\t# number of training epochs\n",
    "\t'learning_rate': 0.01\t# learning rate\n",
    "}"
   ]
  },
  {
   "source": [
    "## 3. Generate Training Data\n",
    "\n",
    "In this section, our main objective is to turn our corpus into a one-hot encoded representation for the Word2Vec model to train on. From our corpus, Figure 4 zooms into each of the 10 windows (#1 to #10) as shown below. Each window consists of both the target word and its context words, highlighted in orange and green respectively.\n",
    "Image for post"
   ],
   "cell_type": "markdown",
   "metadata": {}
  },
  {
   "source": [
    "Inside the function generate_training_data, we performed the following operations:\n",
    "\n",
    "    self.v_count — Length of vocabulary (note that vocabulary refers to the number of unique words in the corpus)\n",
    "    self.words_list — List of words in vocabulary\n",
    "    self.word_index — Dictionary with each key as word in vocabulary and value as index\n",
    "    self.index_word — Dictionary with each key as index and value as word in vocabulary\n",
    "    for loop to append one-hot representation for each target and its context words to training_data using word2onehot function."
   ],
   "cell_type": "markdown",
   "metadata": {}
  },
  {
   "cell_type": "code",
   "execution_count": 16,
   "metadata": {},
   "outputs": [
    {
     "output_type": "error",
     "ename": "NameError",
     "evalue": "name 'settings' is not defined",
     "traceback": [
      "\u001b[0;31m---------------------------------------------------------------------------\u001b[0m",
      "\u001b[0;31mNameError\u001b[0m                                 Traceback (most recent call last)",
      "\u001b[0;32m<ipython-input-16-09bb0885ca6b>\u001b[0m in \u001b[0;36m<module>\u001b[0;34m\u001b[0m\n\u001b[1;32m      1\u001b[0m \u001b[0;31m# Initialise object\u001b[0m\u001b[0;34m\u001b[0m\u001b[0;34m\u001b[0m\u001b[0;34m\u001b[0m\u001b[0m\n\u001b[0;32m----> 2\u001b[0;31m \u001b[0mw2v\u001b[0m \u001b[0;34m=\u001b[0m \u001b[0mword2vec\u001b[0m\u001b[0;34m(\u001b[0m\u001b[0;34m)\u001b[0m\u001b[0;34m\u001b[0m\u001b[0;34m\u001b[0m\u001b[0m\n\u001b[0m\u001b[1;32m      3\u001b[0m \u001b[0;31m# Numpy ndarray with one-hot representation for [target_word, context_words]\u001b[0m\u001b[0;34m\u001b[0m\u001b[0;34m\u001b[0m\u001b[0;34m\u001b[0m\u001b[0m\n\u001b[1;32m      4\u001b[0m \u001b[0mtraining_data\u001b[0m \u001b[0;34m=\u001b[0m \u001b[0mw2v\u001b[0m\u001b[0;34m.\u001b[0m\u001b[0mgenerate_training_data\u001b[0m\u001b[0;34m(\u001b[0m\u001b[0msettings\u001b[0m\u001b[0;34m,\u001b[0m \u001b[0mcorpus\u001b[0m\u001b[0;34m)\u001b[0m\u001b[0;34m\u001b[0m\u001b[0;34m\u001b[0m\u001b[0m\n",
      "\u001b[0;32m<ipython-input-15-4f08414bf06d>\u001b[0m in \u001b[0;36m__init__\u001b[0;34m(self)\u001b[0m\n\u001b[1;32m      1\u001b[0m \u001b[0;32mclass\u001b[0m \u001b[0mword2vec\u001b[0m\u001b[0;34m(\u001b[0m\u001b[0;34m)\u001b[0m\u001b[0;34m:\u001b[0m\u001b[0;34m\u001b[0m\u001b[0;34m\u001b[0m\u001b[0m\n\u001b[1;32m      2\u001b[0m   \u001b[0;32mdef\u001b[0m \u001b[0m__init__\u001b[0m\u001b[0;34m(\u001b[0m\u001b[0mself\u001b[0m\u001b[0;34m)\u001b[0m\u001b[0;34m:\u001b[0m\u001b[0;34m\u001b[0m\u001b[0;34m\u001b[0m\u001b[0m\n\u001b[0;32m----> 3\u001b[0;31m     \u001b[0mself\u001b[0m\u001b[0;34m.\u001b[0m\u001b[0mn\u001b[0m \u001b[0;34m=\u001b[0m \u001b[0msettings\u001b[0m\u001b[0;34m[\u001b[0m\u001b[0;34m'n'\u001b[0m\u001b[0;34m]\u001b[0m\u001b[0;34m\u001b[0m\u001b[0;34m\u001b[0m\u001b[0m\n\u001b[0m\u001b[1;32m      4\u001b[0m     \u001b[0mself\u001b[0m\u001b[0;34m.\u001b[0m\u001b[0mlr\u001b[0m \u001b[0;34m=\u001b[0m \u001b[0msettings\u001b[0m\u001b[0;34m[\u001b[0m\u001b[0;34m'learning_rate'\u001b[0m\u001b[0;34m]\u001b[0m\u001b[0;34m\u001b[0m\u001b[0;34m\u001b[0m\u001b[0m\n\u001b[1;32m      5\u001b[0m     \u001b[0mself\u001b[0m\u001b[0;34m.\u001b[0m\u001b[0mepochs\u001b[0m \u001b[0;34m=\u001b[0m \u001b[0msettings\u001b[0m\u001b[0;34m[\u001b[0m\u001b[0;34m'epochs'\u001b[0m\u001b[0;34m]\u001b[0m\u001b[0;34m\u001b[0m\u001b[0;34m\u001b[0m\u001b[0m\n",
      "\u001b[0;31mNameError\u001b[0m: name 'settings' is not defined"
     ]
    }
   ],
   "source": [
    "# Initialise object\n",
    "w2v = word2vec()\n",
    "# Numpy ndarray with one-hot representation for [target_word, context_words]\n",
    "training_data = w2v.generate_training_data(settings, corpus)"
   ]
  },
  {
   "cell_type": "code",
   "execution_count": 15,
   "metadata": {},
   "outputs": [],
   "source": [
    "class word2vec():\n",
    "  def __init__(self):\n",
    "    self.n = settings['n']\n",
    "    self.lr = settings['learning_rate']\n",
    "    self.epochs = settings['epochs']\n",
    "    self.window = settings['window_size']\n",
    "\n",
    "  def generate_training_data(self, settings, corpus):\n",
    "    # Find unique word counts using dictonary\n",
    "    word_counts = defaultdict(int)\n",
    "    for row in corpus:\n",
    "      for word in row:\n",
    "        word_counts[word] += 1\n",
    "    ## How many unique words in vocab? 9\n",
    "    self.v_count = len(word_counts.keys())\n",
    "    # Generate Lookup Dictionaries (vocab)\n",
    "    self.words_list = list(word_counts.keys())\n",
    "    # Generate word:index\n",
    "    self.word_index = dict((word, i) for i, word in enumerate(self.words_list))\n",
    "    # Generate index:word\n",
    "    self.index_word = dict((i, word) for i, word in enumerate(self.words_list))\n",
    "\n",
    "    training_data = []\n",
    "    # Cycle through each sentence in corpus\n",
    "    for sentence in corpus:\n",
    "      sent_len = len(sentence)\n",
    "      # Cycle through each word in sentence\n",
    "      for i, word in enumerate(sentence):\n",
    "        # Convert target word to one-hot\n",
    "        w_target = self.word2onehot(sentence[i])\n",
    "        # Cycle through context window\n",
    "        w_context = []\n",
    "        # Note: window_size 2 will have range of 5 values\n",
    "        for j in range(i - self.window, i + self.window+1):\n",
    "          # Criteria for context word \n",
    "          # 1. Target word cannot be context word (j != i)\n",
    "          # 2. Index must be greater or equal than 0 (j >= 0) - if not list index out of range\n",
    "          # 3. Index must be less or equal than length of sentence (j <= sent_len-1) - if not list index out of range \n",
    "          if j != i and j <= sent_len-1 and j >= 0:\n",
    "            # Append the one-hot representation of word to w_context\n",
    "            w_context.append(self.word2onehot(sentence[j]))\n",
    "            # print(sentence[i], sentence[j]) \n",
    "            # training_data contains a one-hot representation of the target word and context words\n",
    "        training_data.append([w_target, w_context])\n",
    "    return np.array(training_data)\n",
    "\n",
    "  def word2onehot(self, word):\n",
    "    # word_vec - initialise a blank vector\n",
    "    word_vec = [0 for i in range(0, self.v_count)] # Alternative - np.zeros(self.v_count)\n",
    "    # Get ID of word from word_index\n",
    "    word_index = self.word_index[word]\n",
    "    # Change value from 0 to 1 according to ID of the word\n",
    "    word_vec[word_index] = 1\n",
    "    return word_vec"
   ]
  },
  {
   "source": [
    "## 4. Model Training"
   ],
   "cell_type": "markdown",
   "metadata": {}
  },
  {
   "cell_type": "code",
   "execution_count": 13,
   "metadata": {},
   "outputs": [
    {
     "output_type": "error",
     "ename": "NameError",
     "evalue": "name 'training_data' is not defined",
     "traceback": [
      "\u001b[0;31m---------------------------------------------------------------------------\u001b[0m",
      "\u001b[0;31mNameError\u001b[0m                                 Traceback (most recent call last)",
      "\u001b[0;32m<ipython-input-13-11a66719fe7c>\u001b[0m in \u001b[0;36m<module>\u001b[0;34m\u001b[0m\n\u001b[1;32m      1\u001b[0m \u001b[0;31m# Training\u001b[0m\u001b[0;34m\u001b[0m\u001b[0;34m\u001b[0m\u001b[0;34m\u001b[0m\u001b[0m\n\u001b[0;32m----> 2\u001b[0;31m \u001b[0mw2v\u001b[0m\u001b[0;34m.\u001b[0m\u001b[0mtrain\u001b[0m\u001b[0;34m(\u001b[0m\u001b[0mtraining_data\u001b[0m\u001b[0;34m)\u001b[0m\u001b[0;34m\u001b[0m\u001b[0;34m\u001b[0m\u001b[0m\n\u001b[0m\u001b[1;32m      3\u001b[0m \u001b[0;34m\u001b[0m\u001b[0m\n\u001b[1;32m      4\u001b[0m \u001b[0;32mclass\u001b[0m \u001b[0mword2vec\u001b[0m\u001b[0;34m(\u001b[0m\u001b[0;34m)\u001b[0m\u001b[0;34m:\u001b[0m\u001b[0;34m\u001b[0m\u001b[0;34m\u001b[0m\u001b[0m\n\u001b[1;32m      5\u001b[0m   \u001b[0;32mdef\u001b[0m \u001b[0mtrain\u001b[0m\u001b[0;34m(\u001b[0m\u001b[0mself\u001b[0m\u001b[0;34m,\u001b[0m \u001b[0mtraining_data\u001b[0m\u001b[0;34m)\u001b[0m\u001b[0;34m:\u001b[0m\u001b[0;34m\u001b[0m\u001b[0;34m\u001b[0m\u001b[0m\n",
      "\u001b[0;31mNameError\u001b[0m: name 'training_data' is not defined"
     ]
    }
   ],
   "source": [
    "# Training\n",
    "w2v.train(training_data)\n",
    "\n",
    "class word2vec():\n",
    "  def train(self, training_data):\n",
    "  # Initialising weight matrices\n",
    "  # Both s1 and s2 should be randomly initialised but for this demo, we pre-determine the arrays (getW1 and getW2)\n",
    "  # getW1 - shape (9x10) and getW2 - shape (10x9)\n",
    "    self.w1 = np.array(getW1)\n",
    "    self.w2 = np.array(getW2)\n",
    "  # self.w1 = np.random.uniform(-1, 1, (self.v_count, self.n))\n",
    "  # self.w2 = np.random.uniform(-1, 1, (self.n, self.v_count))"
   ]
  },
  {
   "cell_type": "code",
   "execution_count": null,
   "metadata": {},
   "outputs": [],
   "source": []
  }
 ]
}