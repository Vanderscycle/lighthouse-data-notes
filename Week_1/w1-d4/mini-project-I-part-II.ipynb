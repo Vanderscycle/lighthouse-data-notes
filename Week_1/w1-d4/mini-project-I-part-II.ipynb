{
 "cells": [
  {
   "cell_type": "markdown",
   "metadata": {},
   "source": [
    "## Movies\n",
    "In this part of mini-project, we need to have our API-KEY ready because this API won't work without it.\n",
    "\n",
    "We encourage you to look for correct endpoints in [the documentation](https://developers.themoviedb.org/3/account). We can also play around with requests there before copying them to Python."
   ]
  },
  {
   "cell_type": "code",
   "execution_count": 3,
   "metadata": {},
   "outputs": [],
   "source": [
    "import requests\n",
    "import json\n",
    "from IPython.display import JSON\n",
    "from collections import deque"
   ]
  },
  {
   "cell_type": "markdown",
   "metadata": {},
   "source": [
    "## Demo"
   ]
  },
  {
   "cell_type": "code",
   "execution_count": 4,
   "metadata": {
    "jupyter": {
     "source_hidden": true
    }
   },
   "outputs": [],
   "source": [
    "base = \"https://api.themoviedb.org/3\"\n",
    "url = \"/search/movie\"\n",
    "\n",
    "query = 'titanic'\n",
    "api_key = '6a34245d58b88fd67aac4681ebe5ea86'\n",
    "params = f'?query={query}&api_key={api_key}' "
   ]
  },
  {
   "cell_type": "code",
   "execution_count": 5,
   "metadata": {},
   "outputs": [],
   "source": [
    "res = requests.get(base+url+params)"
   ]
  },
  {
   "cell_type": "code",
   "execution_count": 6,
   "metadata": {},
   "outputs": [
    {
     "data": {
      "text/plain": [
       "200"
      ]
     },
     "execution_count": 6,
     "metadata": {},
     "output_type": "execute_result"
    }
   ],
   "source": [
    "res.status_code"
   ]
  },
  {
   "cell_type": "code",
   "execution_count": 7,
   "metadata": {},
   "outputs": [],
   "source": [
    "#res.json()"
   ]
  },
  {
   "cell_type": "code",
   "execution_count": 8,
   "metadata": {},
   "outputs": [
    {
     "data": {
      "application/json": {
       "page": 1,
       "results": [
        {
         "adult": false,
         "backdrop_path": "/6VmFqApQRyZZzmiGOQq2C92jyvH.jpg",
         "genre_ids": [
          18,
          10749
         ],
         "id": 597,
         "original_language": "en",
         "original_title": "Titanic",
         "overview": "101-year-old Rose DeWitt Bukater tells the story of her life aboard the Titanic, 84 years later. A young Rose boards the ship with her mother and fiancé. Meanwhile, Jack Dawson and Fabrizio De Rossi win third-class tickets aboard the ship. Rose tells the whole story from Titanic's departure through to its death—on its first and last voyage—on April 15, 1912.",
         "popularity": 62.756,
         "poster_path": "/9xjZS2rlVxm8SFx8kPC3aIGCOYQ.jpg",
         "release_date": "1997-11-18",
         "title": "Titanic",
         "video": false,
         "vote_average": 7.9,
         "vote_count": 17718
        },
        {
         "adult": false,
         "backdrop_path": "/e9XRikkyth0GtG8RkU3XNm0oMsA.jpg",
         "genre_ids": [
          28,
          12,
          53
         ],
         "id": 44918,
         "original_language": "en",
         "original_title": "Titanic II",
         "overview": "On the 100th anniversary of the original voyage, a modern luxury liner christened \"Titanic 2,\" follows the path of its namesake. But when a tsunami hurls an ice berg into the new ship's path, the passengers and crew must fight to avoid a similar fate.",
         "popularity": 21.117,
         "poster_path": "/3bhv6sf3Q8D3tbUvtPCCh3vdYyA.jpg",
         "release_date": "2010-08-07",
         "title": "Titanic 2",
         "video": false,
         "vote_average": 3.6,
         "vote_count": 130
        },
        {
         "adult": false,
         "backdrop_path": "/3oShsRvAyZiQQ5lP2hszWN9Ri0b.jpg",
         "genre_ids": [
          28,
          18,
          10749
         ],
         "id": 16535,
         "original_language": "en",
         "original_title": "Titanic",
         "overview": "Unhappily married, Julia Sturges decides to go to America with her two children on the unsinkable Titanic. Her husband, Richard also arranges passage on the luxury liner so as to have custody of their two children. All this fades to insignificance once the ship hits an iceberg.",
         "popularity": 7.308,
         "poster_path": "/22Fh4UoxP6ejL2IFws76TJ8oYlj.jpg",
         "release_date": "1953-04-11",
         "title": "Titanic",
         "video": false,
         "vote_average": 6.5,
         "vote_count": 63
        },
        {
         "adult": false,
         "backdrop_path": "/xSssW53a2s2euCdyI4aEpzyZfb1.jpg",
         "genre_ids": [
          28,
          12,
          35,
          878
         ],
         "id": 467839,
         "original_language": "en",
         "original_title": "Aliens vs. Titanic",
         "overview": "Offering only the finest amenities, the ‘TITAN 1C’ space-cruiser is considered the most luxurious star-liner ever built. Future spring-breakers on board are excited to be touring through space with some of the world’s elite. However, a sudden meteor storm smashes into the hull, and a deadly biological alien life form is let loose on the ship.  Seeking a suitable host, the retrovirus successfully merges with some the passengers, transforming them into seemingly invincible predators with the “touch of death”. As the ship is destroyed, the surviving passengers crash on a remote planet, and they learn that one of them is “infected”. They must quickly band together before it has a chance to slaughter them all.",
         "popularity": 11.262,
         "poster_path": "/fwVpdX1jCMWT4ogT1kR4vVF1joh.jpg",
         "release_date": "2017-09-18",
         "title": "Aliens vs. Titanic",
         "video": false,
         "vote_average": 4.2,
         "vote_count": 8
        },
        {
         "adult": false,
         "backdrop_path": "/82tRA7Vdf7TwdyJYILUh6FuY88L.jpg",
         "genre_ids": [
          99
         ],
         "id": 198901,
         "original_language": "en",
         "original_title": "Titanic: 100 Years On",
         "overview": "The \"unsinkable\" floating palace set sail from Southampton on 10th April 1912 on her maiden voyage to New York. An iceberg ended this monumental journey 5 days later. Only 705 of the passengers and crew survived. This program features an exclusive look at the Sea City Museum Titanic Exhibit in Southampton, interviews from both survivors and the cast of the blockbuster film.",
         "popularity": 15.173,
         "poster_path": "/uAaXfaJpKjmsA3F1KgowcRJPKPM.jpg",
         "release_date": "2012-06-01",
         "title": "Titanic: 100 Years On",
         "video": false,
         "vote_average": 7.3,
         "vote_count": 12
        },
        {
         "adult": false,
         "backdrop_path": "/edHgXEtPbyVIQ7xKb1cvJJqTVhA.jpg",
         "genre_ids": [
          28,
          18,
          36
         ],
         "id": 11021,
         "original_language": "de",
         "original_title": "Titanic",
         "overview": "This little-known German film retells the true story of the British ocean liner that met a tragic fate. Ernst Fritz Fürbringer plays the president of the White Star Line, who unwisely pressed the Titanic's captain (Otto Wernicke) to make the swiftest possible crossing to New York. Interestingly, director Herbert Selpin was arrested by the Gestapo during this film's production, and German censors banned the film for its scenes of panic and terror.",
         "popularity": 4.911,
         "poster_path": "/Al7oIXQ4dZAofBTZWm6OiXS3MEa.jpg",
         "release_date": "1943-11-10",
         "title": "Titanic",
         "video": false,
         "vote_average": 6.1,
         "vote_count": 36
        },
        {
         "adult": false,
         "backdrop_path": "/sdtfwZulErbQ7y9RVbaOuWVouD6.jpg",
         "genre_ids": [
          18,
          36,
          53,
          10770
         ],
         "id": 86938,
         "original_language": "en",
         "original_title": "S.O.S. Titanic",
         "overview": "The Titanic disaster is depicted as seen through the eyes of one couple in each of the three classes on board.",
         "popularity": 5.147,
         "poster_path": "/ArAIyydoOvtR39OOqqVQJ156LJI.jpg",
         "release_date": "1979-09-23",
         "title": "S.O.S. Titanic",
         "video": false,
         "vote_average": 6.2,
         "vote_count": 19
        },
        {
         "adult": false,
         "backdrop_path": "/vldLBVSl4UeaJVykpZW9SW2Ob38.jpg",
         "genre_ids": [
          12
         ],
         "id": 24575,
         "original_language": "en",
         "original_title": "Raise the Titanic",
         "overview": "To obtain a supply of a rare mineral, a ship raising operation is conducted for the only known source, the Titanic.",
         "popularity": 7.339,
         "poster_path": "/beYNLj44FOdV47tomXuJyPkvCKl.jpg",
         "release_date": "1980-08-01",
         "title": "Raise the Titanic",
         "video": false,
         "vote_average": 5.4,
         "vote_count": 46
        },
        {
         "adult": false,
         "backdrop_path": null,
         "genre_ids": [
          10770,
          99
         ],
         "id": 463397,
         "original_language": "en",
         "original_title": "Nazi Titanic",
         "overview": "During a bizarre chapter of WWII, Nazi propaganda minister Joseph Goebbels decided to make a movie based on the sinking of the Titanic. This epic film was so large in scale that the Nazis were forced to divert men, material and ships from the war effort in order to complete it. Titanic was filmed aboard cruise ship SS Cap Arcona in the Baltic Sea. The movie’s director Herbert Selpin was arrested by the Gestapo over comments he made about the ship’s crew and he was questioned by Goebbels. Selpin was found dead the next day in his cell. The Gestapo’s verdict was suicide. Titanic never received the impressive premiere that Goebbels intended, being first shown in Nazi-occupied Paris in 1943. We reveal this little known but fascinating story by looking at the making of the film, as well as the fate of the German ship Cap Arcona.",
         "popularity": 5.746,
         "poster_path": "/pmCnVAP0dQumyDMgCnzEgnpMt1g.jpg",
         "release_date": "2012-04-14",
         "title": "Nazi Titanic",
         "video": false,
         "vote_average": 7,
         "vote_count": 2
        },
        {
         "adult": false,
         "backdrop_path": "/mEoU71g0SjTDEiMTyRj1bV2EfIp.jpg",
         "genre_ids": [
          99
         ],
         "id": 213362,
         "original_language": "en",
         "original_title": "Reflections on Titanic",
         "overview": "An enthralling and fast-paced four-part documentary feature that covers the making of one of the last major Hollywood epics; Titanic. Cast and crew speak on setting the sinking of the ship against a classic romance. The feature also examines casting and the young couple headlining the film, DiCaprio's and Winslet's on-set friendship and their differing acting styles, the expansive sets and filming locations, the authenticity of the recreated ship, James Cameron's work and dedication, and budgeting. And many more aspects of the film are overviewed.",
         "popularity": 7.145,
         "poster_path": "/54Cp80F0KtRyLjVR10LgrmhWJma.jpg",
         "release_date": "2012-09-10",
         "title": "Reflections on Titanic",
         "video": false,
         "vote_average": 7.2,
         "vote_count": 15
        },
        {
         "adult": false,
         "backdrop_path": "/4Sddw1BFQFHOIQZ3DY7QS0mGnVe.jpg",
         "genre_ids": [
          16,
          10751
         ],
         "id": 71235,
         "original_language": "it",
         "original_title": "Titanic: La leggenda continua",
         "overview": "An animated retelling of the worst passenger ship disaster in history. In this version, love blossoms between the upper-class Sir William and the blue-collar Angelica, who is hoping to find romance in America. At the same time, there are also a number of animal passengers, including talking dogs, cats and mice, who are also looking forward to arriving in the New World.",
         "popularity": 4.494,
         "poster_path": "/s1PHRSlos2hIFrtA8Ze0JybJTGb.jpg",
         "release_date": "2000-09-15",
         "title": "Titanic: The Legend Goes On...",
         "video": false,
         "vote_average": 2.1,
         "vote_count": 42
        },
        {
         "adult": false,
         "backdrop_path": null,
         "genre_ids": [
          18
         ],
         "id": 83036,
         "original_language": "en",
         "original_title": "Titanic Town",
         "overview": "Belfast 1972: The politically naive Bernie is trying to bring up a normal family in less than normal surroundings. Her best friend is accidentally shot dead by the IRA, and her neighbours are constantly raided by the army. In this climate of fear she stands up and condemns the murders. Criticising both factions, her call for a ceasefire is interpreted as an attack against the IRA, and as her peace movement takes momentum, she and her family are placed in the frontline.",
         "popularity": 4.585,
         "poster_path": "/8gl2aeimAngsRHqZQwUKyp93Bdx.jpg",
         "release_date": "1998-08-08",
         "title": "Titanic Town",
         "video": false,
         "vote_average": 1,
         "vote_count": 1
        },
        {
         "adult": false,
         "backdrop_path": "/v6kUC2dsDwSfhwCWdAgldXB7Knu.jpg",
         "genre_ids": [
          99,
          18,
          10770
         ],
         "id": 102370,
         "original_language": "en",
         "original_title": "Saving the Titanic",
         "overview": "In the hours after the Titanic struck an iceberg 100 years ago, a team of shipbuilders and engineers raced against time to save the stricken vessel.  Based on eye-witness accounts, this film reveals what went on below decks in the hours before the Titanic sank, telling the previously relatively unheralded stories of engineers who fought courageously to hold back the power of the sea and keep the power systems running, even when they learned that all was lost.  Most of these men died but their actions bought enough time to save many lives.  This drama-documentary tells a poignant story of self-sacrifice by the Titanic's engineers, stokers and firemen in the face of impending death.",
         "popularity": 4.11,
         "poster_path": "/gei8kg0KouyPJKUmxDwTNSnBUTV.jpg",
         "release_date": "2012-04-15",
         "title": "Saving the Titanic",
         "video": false,
         "vote_average": 7.8,
         "vote_count": 5
        },
        {
         "adult": false,
         "backdrop_path": null,
         "genre_ids": [
          35,
          27
         ],
         "id": 4240,
         "original_language": "en",
         "original_title": "Titanic 2000",
         "overview": "The luxury liner Titanic 2000 has set sail on its maiden voyage, and one of the passengers is the vampire Vladamina. Vladamina is searching for a woman she can turn into a vampire queen, and frustrated rock groupie Shari looks to be a perfect target. As various people get seduced and/or killed as the liner continues on its doomed voyage, Shari must chose between eternity as a living dead sex slave or a frigid grave at the bottom of the ocean.",
         "popularity": 3,
         "poster_path": null,
         "release_date": "1999-01-01",
         "title": "Titanic 2000",
         "video": false,
         "vote_average": 3.1,
         "vote_count": 7
        },
        {
         "adult": false,
         "backdrop_path": null,
         "genre_ids": [
          16,
          10751
         ],
         "id": 44310,
         "original_language": "it",
         "original_title": "La leggenda del Titanic",
         "overview": "Old Grandpa mouse tells to his grandchildren the \"real\" story of the Titanic disaster, including evil sharks, a giant octopus, and an evil whaling scheme.",
         "popularity": 3.297,
         "poster_path": "/72ITKkdanAMTeXczHPSPTT2lvf6.jpg",
         "release_date": "1999-01-01",
         "title": "The Legend of the Titanic",
         "video": false,
         "vote_average": 3.2,
         "vote_count": 27
        },
        {
         "adult": false,
         "backdrop_path": null,
         "genre_ids": [
          99
         ],
         "id": 421657,
         "original_language": "en",
         "original_title": "Inside the Titanic",
         "overview": "An ambitious factual drama that reveals moment by moment exactly how the Titanic sank, telling the untold stories of the engineers and stokers who battled the icy water.",
         "popularity": 3.746,
         "poster_path": "/jDHeorRWLuzyXSUGVX47OSdWvVM.jpg",
         "release_date": "2012-03-22",
         "title": "Inside the Titanic",
         "video": false,
         "vote_average": 8,
         "vote_count": 1
        },
        {
         "adult": false,
         "backdrop_path": "/dxdN3RxJRVYzFxVSR0fNhSBqBSL.jpg",
         "genre_ids": [
          99
         ],
         "id": 682666,
         "original_language": "en",
         "original_title": "Back To The Titanic",
         "overview": "Back to the Titanic documents the first manned dives to Titanic in nearly 15 years. New footage reveals fresh decay and sheds light on the ship’s future.",
         "popularity": 4.702,
         "poster_path": "/wqa5qTTX547R9RIsiLbvQww1wkL.jpg",
         "release_date": "2020-02-23",
         "title": "Back To The Titanic",
         "video": false,
         "vote_average": 9,
         "vote_count": 2
        },
        {
         "adult": false,
         "backdrop_path": "/hDfaa3Nj3K3SkXBr8eALYfPT5pF.jpg",
         "genre_ids": [
          99
         ],
         "id": 428950,
         "original_language": "en",
         "original_title": "Drain the Titanic",
         "overview": "Computer-generated imagery and other visualization techniques reveal how it would look if all the water was removed from RMS Titanic's final resting place.",
         "popularity": 3.1,
         "poster_path": "/68Fppsnpc3OmQK8kIustffrxHbq.jpg",
         "release_date": "2016-05-05",
         "title": "Drain the Titanic",
         "video": false,
         "vote_average": 8,
         "vote_count": 4
        },
        {
         "adult": false,
         "backdrop_path": null,
         "genre_ids": [
          99
         ],
         "id": 185067,
         "original_language": "en",
         "original_title": "Last Mysteries Of The Titanic",
         "overview": "Sitting inside his mini-sub, two and a half miles under the Atlantic Ocean, James Cameron is playing the ultimate video game.  Using piloting techniques perfected in earlier dives to other parts of the ship, he steers a remote operated vehicle down the stairs toward the Turkish Baths - a place he has dreamed of since he first saw the wreck 10 years ago.  Less than one hundred feet away, beyond a series of barriers he can't see, is one of the last great, unseen places inside Titanic...",
         "popularity": 5.268,
         "poster_path": null,
         "release_date": "2005-07-24",
         "title": "Last Mysteries Of The Titanic",
         "video": false,
         "vote_average": 4,
         "vote_count": 2
        },
        {
         "adult": false,
         "backdrop_path": "/kSxlNuZjY6qu3QHri6RAaVxKm2U.jpg",
         "genre_ids": [
          99,
          36
         ],
         "id": 102041,
         "original_language": "en",
         "original_title": "Titanic: The Final Word with James Cameron",
         "overview": "James Cameron brings together some the world's leading Titanic experts, including engineers, naval architects, artists and historians, to solve the lingering mysteries of why and how the 'unsinkable' ship sank.",
         "popularity": 7.038,
         "poster_path": "/sOwAvJ6OdWaK9UIuudoLXPOaxtp.jpg",
         "release_date": "2012-04-08",
         "title": "Titanic: The Final Word with James Cameron",
         "video": false,
         "vote_average": 7.6,
         "vote_count": 18
        }
       ],
       "total_pages": 7,
       "total_results": 127
      },
      "text/plain": [
       "<IPython.core.display.JSON object>"
      ]
     },
     "execution_count": 8,
     "metadata": {
      "application/json": {
       "expanded": false,
       "root": "root"
      }
     },
     "output_type": "execute_result"
    }
   ],
   "source": [
    "JSON_res = JSON(res.json())\n",
    "JSON_res"
   ]
  },
  {
   "cell_type": "code",
   "execution_count": null,
   "metadata": {},
   "outputs": [],
   "source": []
  },
  {
   "cell_type": "markdown",
   "metadata": {},
   "source": [
    "## Task\n",
    "Search for you favorite movie and return the information about the movie:\n",
    "- name\n",
    "- release date\n",
    "- runtime\n",
    "- revenue\n",
    "- length of the overview\n",
    "- number of votes\n",
    "- voting average"
   ]
  },
  {
   "cell_type": "code",
   "execution_count": 43,
   "metadata": {},
   "outputs": [],
   "source": [
    "base = \"https://api.themoviedb.org/3\"\n",
    "url = \"/search/movie\"\n",
    "\n",
    "query = 'initial-d'\n",
    "params = f'?query={query}&api_key={api_key}' "
   ]
  },
  {
   "cell_type": "code",
   "execution_count": 44,
   "metadata": {},
   "outputs": [
    {
     "name": "stdout",
     "output_type": "stream",
     "text": [
      "&append_to_response=budget%2Cruntime\n"
     ]
    }
   ],
   "source": [
    "#weirdly more work\n",
    "# THERE IS A DIFFERENCE BETWEEN SEARCH FOR MOVIE/PERSON AND GET MOVIE/PERSON\n",
    "\n",
    "optional_field = ['budget','runtime']\n",
    "additional_fields = ['&append_to_response=']\n",
    "for index in range(len(optional_field)):\n",
    "    if index >=1:\n",
    "        additional_fields.append('%2C' + optional_field[index])\n",
    "    else:\n",
    "        additional_fields.append(optional_field[index])\n",
    "\n",
    "str_additional_fields = ''.join(additional_fields)\n",
    "print(str_additional_fields)\n"
   ]
  },
  {
   "cell_type": "code",
   "execution_count": 45,
   "metadata": {},
   "outputs": [
    {
     "data": {
      "text/plain": [
       "200"
      ]
     },
     "execution_count": 45,
     "metadata": {},
     "output_type": "execute_result"
    }
   ],
   "source": [
    "# EXTRA INFO TAKEN FROM A DIFFERENT QUERRY\n",
    "web = 'https://api.themoviedb.org/3/movie/16411?api_key=6a34245d58b88fd67aac4681ebe5ea86&append_to_response=revenue%2Cruntime'\n",
    "add_info = requests.get(web)\n",
    "add_info.status_code\n"
   ]
  },
  {
   "cell_type": "code",
   "execution_count": 46,
   "metadata": {},
   "outputs": [
    {
     "name": "stdout",
     "output_type": "stream",
     "text": [
      "https://api.themoviedb.org/3/search/movie?query=initial-d&api_key=6a34245d58b88fd67aac4681ebe5ea86\n"
     ]
    },
    {
     "data": {
      "text/plain": [
       "200"
      ]
     },
     "execution_count": 46,
     "metadata": {},
     "output_type": "execute_result"
    }
   ],
   "source": [
    "res = requests.get(base+url+params)\n",
    "print(base+url+params)\n",
    "res.status_code"
   ]
  },
  {
   "cell_type": "code",
   "execution_count": 47,
   "metadata": {},
   "outputs": [
    {
     "data": {
      "application/json": {
       "page": 1,
       "results": [
        {
         "adult": false,
         "backdrop_path": "/hAPBrjFW2sUqmV0PZ80loaGYxRR.jpg",
         "genre_ids": [
          28,
          80,
          18,
          53
         ],
         "id": 16411,
         "original_language": "cn",
         "original_title": "Initial D",
         "overview": "After winning his first competition, Takumi focuses his attention on drift racing, a sport he has unknowingly perfected while delivering tofu in his father's Toyota AE86.",
         "popularity": 13.06,
         "poster_path": "/6UfOCbfmhyqdjP1zzRFmbiPCViE.jpg",
         "release_date": "2005-05-12",
         "title": "Initial D",
         "video": false,
         "vote_average": 6.3,
         "vote_count": 99
        },
        {
         "adult": false,
         "backdrop_path": "/6w2CPJBYqeZnRkn5zJCdpjEtWYp.jpg",
         "genre_ids": [
          28,
          16,
          18
         ],
         "id": 321487,
         "original_language": "ja",
         "original_title": "新劇場版 頭文字D Legend2 -闘走-",
         "overview": "The planned film trilogy retells the beginning of the story from Shuuichi Shigeno's original car-racing manga. High school student Takumi Fujiwara works as a gas station attendant during the day and a delivery boy for his father's tofu shop during late nights. Little does he know that his precise driving skills and his father's modified Toyota Sprinter AE86 Trueno make him the best amateur road racer on Mt. Akina's highway. Because of this, racing groups from all over the Gunma prefecture issue challenges to Takumi to see if he really has what it takes to be a road legend.",
         "popularity": 50.735,
         "poster_path": "/5w35N9yiBGGL693MqvStl0KIQ1V.jpg",
         "release_date": "2015-05-23",
         "title": "New Initial D the Movie - Legend 2: Racer",
         "video": false,
         "vote_average": 6.8,
         "vote_count": 5
        },
        {
         "adult": false,
         "backdrop_path": "/2vp9fkxoZILSMmYfq36E7gjXeKm.jpg",
         "genre_ids": [
          28,
          16,
          10749
         ],
         "id": 80741,
         "original_language": "ja",
         "original_title": "劇場版 頭文字D Third Stage",
         "overview": "With high school graduation right around the corner, Takumi Fujiwara has a lot on his mind and a lot to prepare for. Everything becomes even more complicated when Takumi is offered a spot on Ryosuke Takahashi's elite Kengai Racing Team, which seeks to assemble the greatest racers in the Gunma area for a tour of Japan's mountain passes. Before he can accept however, Takumi feels the need to settle the score with the Lancer Evo driving Emperor team, defend his downhill-racer crown against the son of his father's greatest rival, and finally settle things with his unfaithful girlfriend Natsuki.",
         "popularity": 5.173,
         "poster_path": "/5UbR6e1spZuDWtzYFpo8oRngKgZ.jpg",
         "release_date": "2001-01-13",
         "title": "Initial D: Third Stage",
         "video": false,
         "vote_average": 6.1,
         "vote_count": 11
        },
        {
         "adult": false,
         "backdrop_path": null,
         "genre_ids": [
          28,
          16,
          10749
         ],
         "id": 277090,
         "original_language": "ja",
         "original_title": "頭文字D Extra Stage インパクトブルーの彼方に…",
         "overview": "The Lancer EVO-driving group \"Emperor\" have defeated every racing team they've met in the Gunma region. Now they're out to challenge the duo of Mako and Sayuki and their SilEighty - the Impact Blue of Usui Mountain.",
         "popularity": 3.834,
         "poster_path": "/A4S4MMhpLlVPyxpgKiklCIIJQBX.jpg",
         "release_date": "2001-05-21",
         "title": "Initial D Extra Stage",
         "video": false,
         "vote_average": 6.5,
         "vote_count": 4
        },
        {
         "adult": false,
         "backdrop_path": null,
         "genre_ids": [
          28,
          16,
          10749
         ],
         "id": 34384,
         "original_language": "ja",
         "original_title": "頭文字D Extra Stage 2 旅立ちのグリーン",
         "overview": "Iketani finally met up with Mako Sato and apologized for not being able to meet her 6 months ago. Mako told Iketani she had something to tell him and asked him to meet her again. Iketani was excited that Mako gave him a second chance, he arrived 2 hours early this time. However, an old man was lost and asked Iketani for directions.....",
         "popularity": 4.359,
         "poster_path": "/6k7WvjIC39xxAejOEvhnBDnzG3x.jpg",
         "release_date": "2008-10-03",
         "title": "Initial D Extra Stage 2",
         "video": false,
         "vote_average": 4.6,
         "vote_count": 5
        },
        {
         "adult": false,
         "backdrop_path": "/q0luM428CMZpIrAmM6sF5MVNuRa.jpg",
         "genre_ids": [
          28,
          16
         ],
         "id": 271709,
         "original_language": "ja",
         "original_title": "新劇場版 頭文字D Legend1 -覚醒-",
         "overview": "The first movie in a trilogy, focusing on the battle against the Takahashi brothers. High school student Takumi Fujiwara works as a gas station attendant during the day and a delivery boy for his father's tofu shop during late nights. Little does he know that his precise driving skills and his father's modified Toyota Sprinter AE86 Trueno make him the best amateur road racer on Mt. Akina's highway. Because of this, racing groups from all over the Gunma prefecture issue challenges to Takumi to see if he really has what it takes to be a road legend.",
         "popularity": 6.482,
         "poster_path": "/jWpg5ShhtM3TpkxRmDJolWEs2Ic.jpg",
         "release_date": "2014-08-24",
         "title": "New Initial D the Movie - Legend 1: Awakening",
         "video": false,
         "vote_average": 7.9,
         "vote_count": 4
        },
        {
         "adult": false,
         "backdrop_path": "/znrwg6iHJHCsgAFas9D7Ei9U2hw.jpg",
         "genre_ids": [
          28,
          16,
          18
         ],
         "id": 372758,
         "original_language": "ja",
         "original_title": "新劇場版 頭文字D Legend3 -夢現-",
         "overview": "Mt. Akina's new downhill racing hero Fujiwara Takumi prepares for the final showdown against Red Sun's unbeaten leader and Akagi's fastest driver, Takahashi Ryosuke.",
         "popularity": 5.719,
         "poster_path": "/uZ7V4pgIibAah9Xm8M3sfPgDQWF.jpg",
         "release_date": "2016-02-06",
         "title": "New Initial D the Movie - Legend 3: Dream",
         "video": false,
         "vote_average": 7.6,
         "vote_count": 5
        },
        {
         "adult": false,
         "backdrop_path": null,
         "genre_ids": [
          28,
          16
         ],
         "id": 19263,
         "original_language": "ja",
         "original_title": "頭文字D Battle Stage 2",
         "overview": "Initial D Battle Stage 2 summarizes the major street races from the Initial D: Fourth Stage. Two races that were previously seen only in the manga were animated specially for this OVA. The first race is Takahashi Keisuke vs. Smiley Sakai, and the other is Keisuke vs. Kawai Atsuro.",
         "popularity": 3.045,
         "poster_path": "/fUlKUk0bClE6zNp0e3WKckEUZLo.jpg",
         "release_date": "2007-05-30",
         "title": "Initial D Battle Stage 2",
         "video": false,
         "vote_average": 4.4,
         "vote_count": 4
        },
        {
         "adult": false,
         "backdrop_path": null,
         "genre_ids": [
          28,
          16
         ],
         "id": 327796,
         "original_language": "ja",
         "original_title": "頭文字D Battle Stage",
         "overview": "",
         "popularity": 2.233,
         "poster_path": "/uCtcPHSZKx0vUEbkVJh5OjaKldC.jpg",
         "release_date": "2003-12-28",
         "title": "Initial D Battle Stage",
         "video": false,
         "vote_average": 4.5,
         "vote_count": 2
        }
       ],
       "total_pages": 1,
       "total_results": 9
      },
      "text/plain": [
       "<IPython.core.display.JSON object>"
      ]
     },
     "execution_count": 47,
     "metadata": {
      "application/json": {
       "expanded": false,
       "root": "root"
      }
     },
     "output_type": "execute_result"
    }
   ],
   "source": [
    "json_res = res.json()\n",
    "JSON_res = JSON(json_res)\n",
    "JSON_res"
   ]
  },
  {
   "cell_type": "code",
   "execution_count": 48,
   "metadata": {},
   "outputs": [
    {
     "data": {
      "application/json": {
       "adult": false,
       "backdrop_path": "/hAPBrjFW2sUqmV0PZ80loaGYxRR.jpg",
       "belongs_to_collection": null,
       "budget": 1549000,
       "genres": [
        {
         "id": 28,
         "name": "Action"
        },
        {
         "id": 80,
         "name": "Crime"
        },
        {
         "id": 53,
         "name": "Thriller"
        },
        {
         "id": 18,
         "name": "Drama"
        }
       ],
       "homepage": "",
       "id": 16411,
       "imdb_id": "tt0439630",
       "original_language": "cn",
       "original_title": "Initial D",
       "overview": "After winning his first competition, Takumi focuses his attention on drift racing, a sport he has unknowingly perfected while delivering tofu in his father's Toyota AE86.",
       "popularity": 13.06,
       "poster_path": "/6UfOCbfmhyqdjP1zzRFmbiPCViE.jpg",
       "production_companies": [
        {
         "id": 51469,
         "logo_path": null,
         "name": "Avex Inc.",
         "origin_country": ""
        },
        {
         "id": 2884,
         "logo_path": null,
         "name": "Media Asia Film",
         "origin_country": ""
        },
        {
         "id": 5686,
         "logo_path": null,
         "name": "Sil-Metropole Organisation",
         "origin_country": ""
        },
        {
         "id": 51470,
         "logo_path": null,
         "name": "Basic Pictures",
         "origin_country": ""
        }
       ],
       "production_countries": [
        {
         "iso_3166_1": "HK",
         "name": "Hong Kong"
        },
        {
         "iso_3166_1": "CN",
         "name": "China"
        }
       ],
       "release_date": "2005-05-12",
       "revenue": 7096000,
       "runtime": 107,
       "spoken_languages": [
        {
         "iso_639_1": "en",
         "name": "English"
        },
        {
         "iso_639_1": "cn",
         "name": "广州话 / 廣州話"
        }
       ],
       "status": "Released",
       "tagline": "",
       "title": "Initial D",
       "video": false,
       "vote_average": 6.3,
       "vote_count": 99
      },
      "text/plain": [
       "<IPython.core.display.JSON object>"
      ]
     },
     "execution_count": 48,
     "metadata": {
      "application/json": {
       "expanded": false,
       "root": "root"
      }
     },
     "output_type": "execute_result"
    }
   ],
   "source": [
    "json_add_info = add_info.json()\n",
    "JSON_add_info = JSON(json_add_info)\n",
    "JSON_add_info"
   ]
  },
  {
   "cell_type": "code",
   "execution_count": 17,
   "metadata": {},
   "outputs": [
    {
     "name": "stdout",
     "output_type": "stream",
     "text": [
      "{'name': 'Initial D', 'release date': '2005-05-12', 'runtime': 107, 'revenue': 7096000, 'overview length': 170, 'number of votes': 99, 'voting average': 6.3}\n"
     ]
    }
   ],
   "source": [
    "\n",
    "favorite_movie = dict()\n",
    "#print(json_res['results'][0]['original_title'])\n",
    "favorite_movie['name'] = json_res['results'][0]['original_title']\n",
    "favorite_movie['release date'] = json_res['results'][0]['release_date']\n",
    "\n",
    "favorite_movie['runtime'] = json_add_info['runtime']\n",
    "favorite_movie['revenue'] = json_add_info['revenue']\n",
    "\n",
    "favorite_movie['overview length'] = len(json_res['results'][0]['overview'])\n",
    "favorite_movie['number of votes'] = json_res['results'][0]['vote_count']\n",
    "favorite_movie['voting average'] = json_res['results'][0]['vote_average']\n",
    "print(favorite_movie)"
   ]
  },
  {
   "cell_type": "code",
   "execution_count": null,
   "metadata": {},
   "outputs": [],
   "source": []
  },
  {
   "cell_type": "markdown",
   "metadata": {},
   "source": [
    "## Task\n",
    "Search for you favorite actor/actress and return the information about him/her:\n",
    "- name\n",
    "- date of birth\n",
    "- place of birth\n",
    "- length of the biography"
   ]
  },
  {
   "cell_type": "code",
   "execution_count": 18,
   "metadata": {},
   "outputs": [],
   "source": [
    "#concocted my own base\n",
    "base = 'https://api.themoviedb.org/3/person/'\n",
    "query = '6384'\n",
    "prm = f'{query}?api_key={api_key}'\n",
    "\n",
    "#https://api.themoviedb.org/3/person/6384?api_key=6a34245d58b88fd67aac4681ebe5ea86"
   ]
  },
  {
   "cell_type": "code",
   "execution_count": 19,
   "metadata": {},
   "outputs": [
    {
     "data": {
      "text/plain": [
       "200"
      ]
     },
     "execution_count": 19,
     "metadata": {},
     "output_type": "execute_result"
    }
   ],
   "source": [
    "p_res = requests.get(base+prm)\n",
    "p_res.status_code\n"
   ]
  },
  {
   "cell_type": "code",
   "execution_count": 21,
   "metadata": {},
   "outputs": [
    {
     "data": {
      "application/json": {
       "adult": false,
       "also_known_as": [
        "Киану Ривз",
        "키아누 리브스",
        "キアヌ・リーブス",
        "เคอานู รีฟส์",
        "基努·里维斯",
        "קיאנו ריבס",
        "Keanu Charles Reeves",
        "Κιάνου Ριβς",
        "Κιάνου Τσαρλς Ριβς",
        "Кіану Рівз",
        "كاينو ريفز"
       ],
       "biography": "Keanu Charles Reeves is a Canadian actor. Reeves is known for his roles in Bill &amp; Ted's Excellent Adventure, Speed, Point Break, and The Matrix trilogy as Neo. He has collaborated with major directors such as Stephen Frears (in the 1988 period drama Dangerous Liaisons); Gus Van Sant (in the 1991 independent film My Own Private Idaho); and Bernardo Bertolucci (in the 1993 film Little Buddha). Referring to his 1991 film releases, The New York Times' critic, Janet Maslin, praised Reeves' versatility, saying that he \"displays considerable discipline and range. He moves easily between the buttoned-down demeanor that suits a police procedural story and the loose-jointed manner of his comic roles.\" A repeated theme in roles he has portrayed is that of saving the world, including the characters of Ted Logan, Buddha, Neo, Johnny Mnemonic, John Constantine and Klaatu.",
       "birthday": "1964-09-02",
       "deathday": null,
       "gender": 2,
       "homepage": null,
       "id": 6384,
       "imdb_id": "nm0000206",
       "known_for_department": "Acting",
       "name": "Keanu Reeves",
       "place_of_birth": "Beirut, Lebanon",
       "popularity": 92.173,
       "profile_path": "/d9HyjGMCt4wgJIOxAGlaYWhKsiN.jpg"
      },
      "text/plain": [
       "<IPython.core.display.JSON object>"
      ]
     },
     "execution_count": 21,
     "metadata": {
      "application/json": {
       "expanded": false,
       "root": "root"
      }
     },
     "output_type": "execute_result"
    }
   ],
   "source": [
    "json_p_res = p_res.json()\n",
    "JSON_p_res = JSON(json_p_res)\n",
    "JSON_p_res"
   ]
  },
  {
   "cell_type": "code",
   "execution_count": 22,
   "metadata": {},
   "outputs": [
    {
     "name": "stdout",
     "output_type": "stream",
     "text": [
      "{'name': 'Keanu Reeves', 'birthday': '1964-09-02', 'place_of_birth': 'Beirut, Lebanon', 'biography': 874}\n"
     ]
    },
    {
     "data": {
      "text/plain": [
       "\"\\n\\nfav_actor['name'] = json_p_res['name']\\nfav_actor['date of birth'] = json_p_res['birthday']\\nfav_actor['place of birth'] = json_p_res['place_of_birth']\\nfav_actor['len of bio'] = len(json_p_res['biography'])\\nprint(fav_actor)\\n\""
      ]
     },
     "execution_count": 22,
     "metadata": {},
     "output_type": "execute_result"
    }
   ],
   "source": [
    "#taken from Crystal and Lane\n",
    "\n",
    "\n",
    "fav_actor = dict()\n",
    "keys = ('name','birthday','place_of_birth','biography')\n",
    "for item in keys:\n",
    "    if item == 'biography':\n",
    "        fav_actor[str(item)] = len(json_p_res[str(item)])\n",
    "        \n",
    "    else:\n",
    "        fav_actor[str(item)] = json_p_res[str(item)]\n",
    "print(fav_actor)\n",
    "\n",
    "'''\n",
    "\n",
    "fav_actor['name'] = json_p_res['name']\n",
    "fav_actor['date of birth'] = json_p_res['birthday']\n",
    "fav_actor['place of birth'] = json_p_res['place_of_birth']\n",
    "fav_actor['len of bio'] = len(json_p_res['biography'])\n",
    "print(fav_actor)\n",
    "'''"
   ]
  },
  {
   "cell_type": "markdown",
   "metadata": {},
   "source": [
    "## Task\n",
    "Search for you favorite tv-show and return the information about it:\n",
    "- name\n",
    "- first air date\n",
    "- number of seasons\n",
    "- number of episodes\n",
    "- genres"
   ]
  },
  {
   "cell_type": "code",
   "execution_count": 23,
   "metadata": {},
   "outputs": [
    {
     "name": "stdout",
     "output_type": "stream",
     "text": [
      "[]\n"
     ]
    },
    {
     "data": {
      "application/json": {
       "page": 1,
       "results": [
        {
         "backdrop_path": "/aVaSm5pFW8gCa47zC8NqMhu2JM6.jpg",
         "first_air_date": "2014-11-17",
         "genre_ids": [],
         "id": 73036,
         "name": "Chef & My Fridge",
         "origin_country": [
          "KR"
         ],
         "original_language": "ko",
         "original_name": "냉장고를 부탁해",
         "overview": "The best chefs of Korea compete to create impromptu dishes that feature ingredients found inside the guest stars' personal refrigerators.",
         "popularity": 0.704,
         "poster_path": "/zc7qvd7CVuYpWMXZxuSbhG8n8g1.jpg",
         "vote_average": 8.5,
         "vote_count": 2
        }
       ],
       "total_pages": 1,
       "total_results": 1
      },
      "text/plain": [
       "<IPython.core.display.JSON object>"
      ]
     },
     "execution_count": 23,
     "metadata": {
      "application/json": {
       "expanded": false,
       "root": "root"
      }
     },
     "output_type": "execute_result"
    }
   ],
   "source": [
    "gens = 'https://api.themoviedb.org/3/search/tv?api_key=6a34245d58b88fd67aac4681ebe5ea86&query=please-take-care-of-my-refrigerator&include_adult=false'\n",
    "gen_tvs_res = requests.get(gens)\n",
    "gen_tvs_res.status_code\n",
    "js_gen_tvs_res = gen_tvs_res.json()\n",
    "print(js_gen_tvs_res['results'][0]['genre_ids'])\n",
    "JSON_tvs_res = JSON(gen_tvs_res.json())\n",
    "JSON_tvs_res"
   ]
  },
  {
   "cell_type": "code",
   "execution_count": 24,
   "metadata": {},
   "outputs": [],
   "source": [
    "# 73036\n",
    "#https://api.themoviedb.org/3/tv/{tv_id}/season/{season_number}?api_key=6a34245d58b88fd67aac4681ebe5ea86&language=en-US\n",
    "base = 'https://api.themoviedb.org/3/tv/'\n",
    "tv_id = '73036'\n",
    "season_number = '1'\n",
    "prm = f'{tv_id}/season/{season_number}?api_key={api_key}'\n",
    "\n"
   ]
  },
  {
   "cell_type": "code",
   "execution_count": 25,
   "metadata": {},
   "outputs": [
    {
     "data": {
      "text/plain": [
       "200"
      ]
     },
     "execution_count": 25,
     "metadata": {},
     "output_type": "execute_result"
    }
   ],
   "source": [
    "tvs_res = requests.get(base+prm)\n",
    "tvs_res.status_code"
   ]
  },
  {
   "cell_type": "code",
   "execution_count": 26,
   "metadata": {},
   "outputs": [
    {
     "data": {
      "application/json": {
       "_id": "597c057dc3a36817c300589b",
       "air_date": "2014-11-17",
       "episodes": [
        {
         "air_date": "2014-11-17",
         "crew": [],
         "episode_number": 1,
         "guest_stars": [],
         "id": 1342098,
         "name": "Episode 1",
         "overview": "Please Take Care of My Refrigerator is a 2014 South Korean cooking-variety program starring by many chefs and celebrity guests. It airs on JTBC on Mondays at 21:30 beginning November 17, 2014.",
         "production_code": "",
         "season_number": 1,
         "show_id": 73036,
         "still_path": null,
         "vote_average": 0,
         "vote_count": 0
        },
        {
         "air_date": "2014-11-24",
         "crew": [],
         "episode_number": 2,
         "guest_stars": [],
         "id": 2178980,
         "name": "Episode 2",
         "overview": "",
         "production_code": "",
         "season_number": 1,
         "show_id": 73036,
         "still_path": null,
         "vote_average": 0,
         "vote_count": 0
        },
        {
         "air_date": "2014-12-01",
         "crew": [],
         "episode_number": 3,
         "guest_stars": [],
         "id": 2178981,
         "name": "Episode 3",
         "overview": "",
         "production_code": "",
         "season_number": 1,
         "show_id": 73036,
         "still_path": null,
         "vote_average": 0,
         "vote_count": 0
        },
        {
         "air_date": "2014-12-08",
         "crew": [],
         "episode_number": 4,
         "guest_stars": [],
         "id": 2178982,
         "name": "Episode 4",
         "overview": "",
         "production_code": "",
         "season_number": 1,
         "show_id": 73036,
         "still_path": null,
         "vote_average": 0,
         "vote_count": 0
        },
        {
         "air_date": "2014-12-15",
         "crew": [],
         "episode_number": 5,
         "guest_stars": [],
         "id": 2178983,
         "name": "Episode 5",
         "overview": "",
         "production_code": "",
         "season_number": 1,
         "show_id": 73036,
         "still_path": null,
         "vote_average": 0,
         "vote_count": 0
        },
        {
         "air_date": "2014-12-22",
         "crew": [],
         "episode_number": 6,
         "guest_stars": [],
         "id": 2178984,
         "name": "Episode 6",
         "overview": "",
         "production_code": "",
         "season_number": 1,
         "show_id": 73036,
         "still_path": null,
         "vote_average": 0,
         "vote_count": 0
        },
        {
         "air_date": "2014-12-29",
         "crew": [],
         "episode_number": 7,
         "guest_stars": [],
         "id": 2178985,
         "name": "Episode 7",
         "overview": "",
         "production_code": "",
         "season_number": 1,
         "show_id": 73036,
         "still_path": null,
         "vote_average": 0,
         "vote_count": 0
        },
        {
         "air_date": "2015-01-05",
         "crew": [],
         "episode_number": 8,
         "guest_stars": [],
         "id": 2178986,
         "name": "Episode 8",
         "overview": "",
         "production_code": "",
         "season_number": 1,
         "show_id": 73036,
         "still_path": null,
         "vote_average": 0,
         "vote_count": 0
        },
        {
         "air_date": "2017-12-11",
         "crew": [],
         "episode_number": 159,
         "guest_stars": [],
         "id": 2178987,
         "name": "Episode 159",
         "overview": "",
         "production_code": "",
         "season_number": 1,
         "show_id": 73036,
         "still_path": null,
         "vote_average": 0,
         "vote_count": 0
        },
        {
         "air_date": "2018-04-30",
         "crew": [],
         "episode_number": 179,
         "guest_stars": [],
         "id": 2178988,
         "name": "Episode 179",
         "overview": "",
         "production_code": "",
         "season_number": 1,
         "show_id": 73036,
         "still_path": null,
         "vote_average": 0,
         "vote_count": 0
        },
        {
         "air_date": "2018-05-07",
         "crew": [],
         "episode_number": 180,
         "guest_stars": [],
         "id": 2178989,
         "name": "Episode 180",
         "overview": "",
         "production_code": "",
         "season_number": 1,
         "show_id": 73036,
         "still_path": null,
         "vote_average": 0,
         "vote_count": 0
        },
        {
         "air_date": "2018-05-14",
         "crew": [],
         "episode_number": 181,
         "guest_stars": [],
         "id": 2178990,
         "name": "Episode 181",
         "overview": "",
         "production_code": "",
         "season_number": 1,
         "show_id": 73036,
         "still_path": null,
         "vote_average": 0,
         "vote_count": 0
        },
        {
         "air_date": "2018-05-21",
         "crew": [],
         "episode_number": 182,
         "guest_stars": [],
         "id": 2178991,
         "name": "Episode 182",
         "overview": "",
         "production_code": "",
         "season_number": 1,
         "show_id": 73036,
         "still_path": null,
         "vote_average": 0,
         "vote_count": 0
        },
        {
         "air_date": "2018-05-28",
         "crew": [],
         "episode_number": 183,
         "guest_stars": [],
         "id": 2178992,
         "name": "Episode 183",
         "overview": "",
         "production_code": "",
         "season_number": 1,
         "show_id": 73036,
         "still_path": null,
         "vote_average": 0,
         "vote_count": 0
        },
        {
         "air_date": "2018-06-11",
         "crew": [],
         "episode_number": 184,
         "guest_stars": [],
         "id": 2178993,
         "name": "Episode 184",
         "overview": "",
         "production_code": "",
         "season_number": 1,
         "show_id": 73036,
         "still_path": null,
         "vote_average": 0,
         "vote_count": 0
        },
        {
         "air_date": "2018-06-25",
         "crew": [],
         "episode_number": 185,
         "guest_stars": [],
         "id": 2178994,
         "name": "Episode 185",
         "overview": "",
         "production_code": "",
         "season_number": 1,
         "show_id": 73036,
         "still_path": null,
         "vote_average": 0,
         "vote_count": 0
        },
        {
         "air_date": "2018-07-02",
         "crew": [],
         "episode_number": 186,
         "guest_stars": [],
         "id": 2178995,
         "name": "Episode 186",
         "overview": "",
         "production_code": "",
         "season_number": 1,
         "show_id": 73036,
         "still_path": null,
         "vote_average": 0,
         "vote_count": 0
        },
        {
         "air_date": "2018-07-09",
         "crew": [],
         "episode_number": 187,
         "guest_stars": [],
         "id": 2178996,
         "name": "Episode 187",
         "overview": "",
         "production_code": "",
         "season_number": 1,
         "show_id": 73036,
         "still_path": null,
         "vote_average": 0,
         "vote_count": 0
        },
        {
         "air_date": "2018-07-16",
         "crew": [],
         "episode_number": 188,
         "guest_stars": [],
         "id": 2178997,
         "name": "Episode 188",
         "overview": "",
         "production_code": "",
         "season_number": 1,
         "show_id": 73036,
         "still_path": null,
         "vote_average": 0,
         "vote_count": 0
        },
        {
         "air_date": "2018-07-23",
         "crew": [],
         "episode_number": 189,
         "guest_stars": [],
         "id": 2178998,
         "name": "Episode 189",
         "overview": "",
         "production_code": "",
         "season_number": 1,
         "show_id": 73036,
         "still_path": null,
         "vote_average": 0,
         "vote_count": 0
        },
        {
         "air_date": "2018-07-30",
         "crew": [],
         "episode_number": 190,
         "guest_stars": [],
         "id": 2178999,
         "name": "Episode 190",
         "overview": "",
         "production_code": "",
         "season_number": 1,
         "show_id": 73036,
         "still_path": null,
         "vote_average": 0,
         "vote_count": 0
        },
        {
         "air_date": "2018-08-06",
         "crew": [],
         "episode_number": 191,
         "guest_stars": [],
         "id": 2179000,
         "name": "Episode 191",
         "overview": "",
         "production_code": "",
         "season_number": 1,
         "show_id": 73036,
         "still_path": null,
         "vote_average": 0,
         "vote_count": 0
        },
        {
         "air_date": "2018-08-13",
         "crew": [],
         "episode_number": 192,
         "guest_stars": [],
         "id": 2179001,
         "name": "Episode 192",
         "overview": "",
         "production_code": "",
         "season_number": 1,
         "show_id": 73036,
         "still_path": null,
         "vote_average": 0,
         "vote_count": 0
        },
        {
         "air_date": "2018-08-20",
         "crew": [],
         "episode_number": 193,
         "guest_stars": [],
         "id": 2179002,
         "name": "Episode 193",
         "overview": "",
         "production_code": "",
         "season_number": 1,
         "show_id": 73036,
         "still_path": null,
         "vote_average": 0,
         "vote_count": 0
        },
        {
         "air_date": "2018-09-03",
         "crew": [],
         "episode_number": 194,
         "guest_stars": [],
         "id": 2179003,
         "name": "Episode 194",
         "overview": "",
         "production_code": "",
         "season_number": 1,
         "show_id": 73036,
         "still_path": null,
         "vote_average": 0,
         "vote_count": 0
        },
        {
         "air_date": "2018-09-10",
         "crew": [],
         "episode_number": 195,
         "guest_stars": [],
         "id": 2179004,
         "name": "Episode 195",
         "overview": "",
         "production_code": "",
         "season_number": 1,
         "show_id": 73036,
         "still_path": null,
         "vote_average": 0,
         "vote_count": 0
        },
        {
         "air_date": "2018-09-17",
         "crew": [],
         "episode_number": 196,
         "guest_stars": [],
         "id": 2179005,
         "name": "Episode 196",
         "overview": "",
         "production_code": "",
         "season_number": 1,
         "show_id": 73036,
         "still_path": null,
         "vote_average": 0,
         "vote_count": 0
        },
        {
         "air_date": "2018-10-01",
         "crew": [],
         "episode_number": 197,
         "guest_stars": [],
         "id": 2179006,
         "name": "Episode 197",
         "overview": "",
         "production_code": "",
         "season_number": 1,
         "show_id": 73036,
         "still_path": null,
         "vote_average": 0,
         "vote_count": 0
        },
        {
         "air_date": "2018-10-08",
         "crew": [],
         "episode_number": 198,
         "guest_stars": [],
         "id": 2179007,
         "name": "Episode 198",
         "overview": "",
         "production_code": "",
         "season_number": 1,
         "show_id": 73036,
         "still_path": null,
         "vote_average": 0,
         "vote_count": 0
        },
        {
         "air_date": "2018-10-15",
         "crew": [],
         "episode_number": 199,
         "guest_stars": [],
         "id": 2179008,
         "name": "Episode 199",
         "overview": "",
         "production_code": "",
         "season_number": 1,
         "show_id": 73036,
         "still_path": null,
         "vote_average": 0,
         "vote_count": 0
        },
        {
         "air_date": "2018-10-22",
         "crew": [],
         "episode_number": 200,
         "guest_stars": [],
         "id": 2179009,
         "name": "Episode 200",
         "overview": "",
         "production_code": "",
         "season_number": 1,
         "show_id": 73036,
         "still_path": null,
         "vote_average": 0,
         "vote_count": 0
        },
        {
         "air_date": "2018-10-29",
         "crew": [],
         "episode_number": 201,
         "guest_stars": [],
         "id": 2179010,
         "name": "Episode 201",
         "overview": "",
         "production_code": "",
         "season_number": 1,
         "show_id": 73036,
         "still_path": null,
         "vote_average": 0,
         "vote_count": 0
        },
        {
         "air_date": "2018-11-05",
         "crew": [],
         "episode_number": 202,
         "guest_stars": [],
         "id": 2179011,
         "name": "Episode 202",
         "overview": "",
         "production_code": "",
         "season_number": 1,
         "show_id": 73036,
         "still_path": null,
         "vote_average": 0,
         "vote_count": 0
        },
        {
         "air_date": "2018-11-12",
         "crew": [],
         "episode_number": 203,
         "guest_stars": [],
         "id": 2179012,
         "name": "Episode 203",
         "overview": "",
         "production_code": "",
         "season_number": 1,
         "show_id": 73036,
         "still_path": null,
         "vote_average": 0,
         "vote_count": 0
        },
        {
         "air_date": "2018-11-19",
         "crew": [],
         "episode_number": 204,
         "guest_stars": [],
         "id": 2179013,
         "name": "Episode 204",
         "overview": "",
         "production_code": "",
         "season_number": 1,
         "show_id": 73036,
         "still_path": null,
         "vote_average": 0,
         "vote_count": 0
        },
        {
         "air_date": "2018-11-26",
         "crew": [],
         "episode_number": 205,
         "guest_stars": [],
         "id": 2179014,
         "name": "Episode 205",
         "overview": "",
         "production_code": "",
         "season_number": 1,
         "show_id": 73036,
         "still_path": null,
         "vote_average": 0,
         "vote_count": 0
        },
        {
         "air_date": "2018-12-03",
         "crew": [],
         "episode_number": 206,
         "guest_stars": [],
         "id": 2179015,
         "name": "Episode 206",
         "overview": "",
         "production_code": "",
         "season_number": 1,
         "show_id": 73036,
         "still_path": null,
         "vote_average": 0,
         "vote_count": 0
        },
        {
         "air_date": "2018-12-10",
         "crew": [],
         "episode_number": 207,
         "guest_stars": [],
         "id": 2179016,
         "name": "Episode 207",
         "overview": "",
         "production_code": "",
         "season_number": 1,
         "show_id": 73036,
         "still_path": null,
         "vote_average": 0,
         "vote_count": 0
        },
        {
         "air_date": "2018-12-17",
         "crew": [],
         "episode_number": 208,
         "guest_stars": [],
         "id": 2179017,
         "name": "Episode 208",
         "overview": "",
         "production_code": "",
         "season_number": 1,
         "show_id": 73036,
         "still_path": null,
         "vote_average": 0,
         "vote_count": 0
        },
        {
         "air_date": "2018-12-24",
         "crew": [],
         "episode_number": 209,
         "guest_stars": [],
         "id": 2179018,
         "name": "Episode 209",
         "overview": "",
         "production_code": "",
         "season_number": 1,
         "show_id": 73036,
         "still_path": null,
         "vote_average": 0,
         "vote_count": 0
        },
        {
         "air_date": "2019-01-14",
         "crew": [],
         "episode_number": 210,
         "guest_stars": [],
         "id": 2179019,
         "name": "Episode 210",
         "overview": "",
         "production_code": "",
         "season_number": 1,
         "show_id": 73036,
         "still_path": null,
         "vote_average": 0,
         "vote_count": 0
        },
        {
         "air_date": "2019-01-21",
         "crew": [],
         "episode_number": 211,
         "guest_stars": [],
         "id": 2179020,
         "name": "Episode 211",
         "overview": "",
         "production_code": "",
         "season_number": 1,
         "show_id": 73036,
         "still_path": null,
         "vote_average": 0,
         "vote_count": 0
        },
        {
         "air_date": "2019-01-28",
         "crew": [],
         "episode_number": 212,
         "guest_stars": [],
         "id": 2179021,
         "name": "Episode 212",
         "overview": "",
         "production_code": "",
         "season_number": 1,
         "show_id": 73036,
         "still_path": null,
         "vote_average": 0,
         "vote_count": 0
        },
        {
         "air_date": "2019-02-11",
         "crew": [],
         "episode_number": 213,
         "guest_stars": [],
         "id": 2179022,
         "name": "Episode 213",
         "overview": "",
         "production_code": "",
         "season_number": 1,
         "show_id": 73036,
         "still_path": null,
         "vote_average": 0,
         "vote_count": 0
        },
        {
         "air_date": "2019-02-18",
         "crew": [],
         "episode_number": 214,
         "guest_stars": [],
         "id": 2179023,
         "name": "Episode 214",
         "overview": "",
         "production_code": "",
         "season_number": 1,
         "show_id": 73036,
         "still_path": null,
         "vote_average": 0,
         "vote_count": 0
        },
        {
         "air_date": "2019-02-25",
         "crew": [],
         "episode_number": 215,
         "guest_stars": [],
         "id": 2179024,
         "name": "Episode 215",
         "overview": "",
         "production_code": "",
         "season_number": 1,
         "show_id": 73036,
         "still_path": null,
         "vote_average": 0,
         "vote_count": 0
        },
        {
         "air_date": "2019-03-04",
         "crew": [],
         "episode_number": 216,
         "guest_stars": [],
         "id": 2179025,
         "name": "Episode 216",
         "overview": "",
         "production_code": "",
         "season_number": 1,
         "show_id": 73036,
         "still_path": null,
         "vote_average": 0,
         "vote_count": 0
        },
        {
         "air_date": "2019-03-11",
         "crew": [],
         "episode_number": 217,
         "guest_stars": [],
         "id": 2179026,
         "name": "Episode 217",
         "overview": "",
         "production_code": "",
         "season_number": 1,
         "show_id": 73036,
         "still_path": null,
         "vote_average": 0,
         "vote_count": 0
        },
        {
         "air_date": "2019-03-18",
         "crew": [],
         "episode_number": 218,
         "guest_stars": [],
         "id": 2179027,
         "name": "Episode 218",
         "overview": "",
         "production_code": "",
         "season_number": 1,
         "show_id": 73036,
         "still_path": null,
         "vote_average": 0,
         "vote_count": 0
        },
        {
         "air_date": "2019-03-25",
         "crew": [],
         "episode_number": 219,
         "guest_stars": [],
         "id": 2179029,
         "name": "Episode 219",
         "overview": "",
         "production_code": "",
         "season_number": 1,
         "show_id": 73036,
         "still_path": null,
         "vote_average": 0,
         "vote_count": 0
        },
        {
         "air_date": "2019-04-01",
         "crew": [],
         "episode_number": 220,
         "guest_stars": [],
         "id": 2179030,
         "name": "Episode 220",
         "overview": "",
         "production_code": "",
         "season_number": 1,
         "show_id": 73036,
         "still_path": null,
         "vote_average": 0,
         "vote_count": 0
        },
        {
         "air_date": "2019-04-08",
         "crew": [],
         "episode_number": 221,
         "guest_stars": [],
         "id": 2179031,
         "name": "Episode 221",
         "overview": "",
         "production_code": "",
         "season_number": 1,
         "show_id": 73036,
         "still_path": null,
         "vote_average": 0,
         "vote_count": 0
        },
        {
         "air_date": "2019-04-15",
         "crew": [],
         "episode_number": 222,
         "guest_stars": [],
         "id": 2179032,
         "name": "Episode 222",
         "overview": "",
         "production_code": "",
         "season_number": 1,
         "show_id": 73036,
         "still_path": null,
         "vote_average": 0,
         "vote_count": 0
        },
        {
         "air_date": "2019-04-22",
         "crew": [],
         "episode_number": 223,
         "guest_stars": [],
         "id": 2179033,
         "name": "Episode 223",
         "overview": "",
         "production_code": "",
         "season_number": 1,
         "show_id": 73036,
         "still_path": null,
         "vote_average": 0,
         "vote_count": 0
        },
        {
         "air_date": "2019-04-29",
         "crew": [],
         "episode_number": 224,
         "guest_stars": [],
         "id": 2179035,
         "name": "Episode 224",
         "overview": "",
         "production_code": "",
         "season_number": 1,
         "show_id": 73036,
         "still_path": null,
         "vote_average": 0,
         "vote_count": 0
        },
        {
         "air_date": "2019-05-06",
         "crew": [],
         "episode_number": 225,
         "guest_stars": [],
         "id": 2179036,
         "name": "Episode 225",
         "overview": "",
         "production_code": "",
         "season_number": 1,
         "show_id": 73036,
         "still_path": null,
         "vote_average": 0,
         "vote_count": 0
        },
        {
         "air_date": "2019-05-13",
         "crew": [],
         "episode_number": 226,
         "guest_stars": [],
         "id": 2179037,
         "name": "Episode 226",
         "overview": "",
         "production_code": "",
         "season_number": 1,
         "show_id": 73036,
         "still_path": null,
         "vote_average": 0,
         "vote_count": 0
        },
        {
         "air_date": "2019-05-20",
         "crew": [],
         "episode_number": 227,
         "guest_stars": [],
         "id": 2179039,
         "name": "Episode 227",
         "overview": "",
         "production_code": "",
         "season_number": 1,
         "show_id": 73036,
         "still_path": null,
         "vote_average": 0,
         "vote_count": 0
        },
        {
         "air_date": "2019-05-27",
         "crew": [],
         "episode_number": 228,
         "guest_stars": [],
         "id": 2179040,
         "name": "Episode 228",
         "overview": "",
         "production_code": "",
         "season_number": 1,
         "show_id": 73036,
         "still_path": null,
         "vote_average": 0,
         "vote_count": 0
        },
        {
         "air_date": "2019-06-03",
         "crew": [],
         "episode_number": 229,
         "guest_stars": [],
         "id": 2179041,
         "name": "Episode 229",
         "overview": "",
         "production_code": "",
         "season_number": 1,
         "show_id": 73036,
         "still_path": null,
         "vote_average": 0,
         "vote_count": 0
        },
        {
         "air_date": "2019-06-10",
         "crew": [],
         "episode_number": 230,
         "guest_stars": [],
         "id": 2179042,
         "name": "Episode 230",
         "overview": "",
         "production_code": "",
         "season_number": 1,
         "show_id": 73036,
         "still_path": null,
         "vote_average": 0,
         "vote_count": 0
        },
        {
         "air_date": "2019-06-17",
         "crew": [],
         "episode_number": 231,
         "guest_stars": [],
         "id": 2179044,
         "name": "Episode 231",
         "overview": "",
         "production_code": "",
         "season_number": 1,
         "show_id": 73036,
         "still_path": null,
         "vote_average": 0,
         "vote_count": 0
        },
        {
         "air_date": "2019-06-24",
         "crew": [],
         "episode_number": 232,
         "guest_stars": [],
         "id": 2179045,
         "name": "Episode 232",
         "overview": "",
         "production_code": "",
         "season_number": 1,
         "show_id": 73036,
         "still_path": null,
         "vote_average": 0,
         "vote_count": 0
        },
        {
         "air_date": "2019-07-01",
         "crew": [],
         "episode_number": 233,
         "guest_stars": [],
         "id": 2179046,
         "name": "Episode 233",
         "overview": "",
         "production_code": "",
         "season_number": 1,
         "show_id": 73036,
         "still_path": null,
         "vote_average": 0,
         "vote_count": 0
        },
        {
         "air_date": "2019-07-08",
         "crew": [],
         "episode_number": 234,
         "guest_stars": [],
         "id": 2179047,
         "name": "Episode 234",
         "overview": "",
         "production_code": "",
         "season_number": 1,
         "show_id": 73036,
         "still_path": null,
         "vote_average": 0,
         "vote_count": 0
        },
        {
         "air_date": "2019-07-15",
         "crew": [],
         "episode_number": 235,
         "guest_stars": [],
         "id": 2179048,
         "name": "Episode 235",
         "overview": "",
         "production_code": "",
         "season_number": 1,
         "show_id": 73036,
         "still_path": null,
         "vote_average": 0,
         "vote_count": 0
        },
        {
         "air_date": "2019-07-22",
         "crew": [],
         "episode_number": 236,
         "guest_stars": [],
         "id": 2179049,
         "name": "Episode 236",
         "overview": "",
         "production_code": "",
         "season_number": 1,
         "show_id": 73036,
         "still_path": null,
         "vote_average": 0,
         "vote_count": 0
        },
        {
         "air_date": "2019-07-29",
         "crew": [],
         "episode_number": 237,
         "guest_stars": [],
         "id": 2179051,
         "name": "Episode 237",
         "overview": "",
         "production_code": "",
         "season_number": 1,
         "show_id": 73036,
         "still_path": null,
         "vote_average": 0,
         "vote_count": 0
        },
        {
         "air_date": "2019-08-05",
         "crew": [],
         "episode_number": 238,
         "guest_stars": [],
         "id": 2179052,
         "name": "Episode 238",
         "overview": "",
         "production_code": "",
         "season_number": 1,
         "show_id": 73036,
         "still_path": null,
         "vote_average": 0,
         "vote_count": 0
        },
        {
         "air_date": "2019-08-12",
         "crew": [],
         "episode_number": 239,
         "guest_stars": [],
         "id": 2179053,
         "name": "Episode 239",
         "overview": "",
         "production_code": "",
         "season_number": 1,
         "show_id": 73036,
         "still_path": null,
         "vote_average": 0,
         "vote_count": 0
        },
        {
         "air_date": "2019-08-19",
         "crew": [],
         "episode_number": 240,
         "guest_stars": [],
         "id": 2179054,
         "name": "Episode 240",
         "overview": "",
         "production_code": "",
         "season_number": 1,
         "show_id": 73036,
         "still_path": null,
         "vote_average": 0,
         "vote_count": 0
        },
        {
         "air_date": "2019-08-26",
         "crew": [],
         "episode_number": 241,
         "guest_stars": [],
         "id": 2179056,
         "name": "Episode 241",
         "overview": "",
         "production_code": "",
         "season_number": 1,
         "show_id": 73036,
         "still_path": null,
         "vote_average": 0,
         "vote_count": 0
        },
        {
         "air_date": "2019-09-02",
         "crew": [],
         "episode_number": 242,
         "guest_stars": [],
         "id": 2179057,
         "name": "Episode 242",
         "overview": "",
         "production_code": "",
         "season_number": 1,
         "show_id": 73036,
         "still_path": null,
         "vote_average": 0,
         "vote_count": 0
        },
        {
         "air_date": "2019-09-09",
         "crew": [],
         "episode_number": 243,
         "guest_stars": [],
         "id": 2179058,
         "name": "Episode 243",
         "overview": "",
         "production_code": "",
         "season_number": 1,
         "show_id": 73036,
         "still_path": null,
         "vote_average": 0,
         "vote_count": 0
        },
        {
         "air_date": "2019-09-16",
         "crew": [],
         "episode_number": 244,
         "guest_stars": [],
         "id": 2179059,
         "name": "Episode 244",
         "overview": "",
         "production_code": "",
         "season_number": 1,
         "show_id": 73036,
         "still_path": null,
         "vote_average": 0,
         "vote_count": 0
        },
        {
         "air_date": "2019-09-23",
         "crew": [],
         "episode_number": 245,
         "guest_stars": [],
         "id": 2179060,
         "name": "Episode 245",
         "overview": "",
         "production_code": "",
         "season_number": 1,
         "show_id": 73036,
         "still_path": null,
         "vote_average": 0,
         "vote_count": 0
        },
        {
         "air_date": "2019-09-30",
         "crew": [],
         "episode_number": 246,
         "guest_stars": [],
         "id": 2179062,
         "name": "Episode 246",
         "overview": "",
         "production_code": "",
         "season_number": 1,
         "show_id": 73036,
         "still_path": null,
         "vote_average": 0,
         "vote_count": 0
        },
        {
         "air_date": "2019-10-07",
         "crew": [],
         "episode_number": 247,
         "guest_stars": [],
         "id": 2179063,
         "name": "Episode 247",
         "overview": "",
         "production_code": "",
         "season_number": 1,
         "show_id": 73036,
         "still_path": null,
         "vote_average": 0,
         "vote_count": 0
        },
        {
         "air_date": "2019-10-14",
         "crew": [],
         "episode_number": 248,
         "guest_stars": [],
         "id": 2179064,
         "name": "Episode 248",
         "overview": "",
         "production_code": "",
         "season_number": 1,
         "show_id": 73036,
         "still_path": null,
         "vote_average": 0,
         "vote_count": 0
        },
        {
         "air_date": "2019-10-21",
         "crew": [],
         "episode_number": 249,
         "guest_stars": [],
         "id": 2179065,
         "name": "Episode 249",
         "overview": "",
         "production_code": "",
         "season_number": 1,
         "show_id": 73036,
         "still_path": null,
         "vote_average": 0,
         "vote_count": 0
        },
        {
         "air_date": "2019-10-28",
         "crew": [],
         "episode_number": 250,
         "guest_stars": [],
         "id": 2179067,
         "name": "Episode 250",
         "overview": "",
         "production_code": "",
         "season_number": 1,
         "show_id": 73036,
         "still_path": null,
         "vote_average": 0,
         "vote_count": 0
        },
        {
         "air_date": "2019-11-04",
         "crew": [],
         "episode_number": 251,
         "guest_stars": [],
         "id": 2179068,
         "name": "Episode 251",
         "overview": "",
         "production_code": "",
         "season_number": 1,
         "show_id": 73036,
         "still_path": null,
         "vote_average": 0,
         "vote_count": 0
        },
        {
         "air_date": "2019-11-11",
         "crew": [],
         "episode_number": 252,
         "guest_stars": [],
         "id": 2179069,
         "name": "Episode 252",
         "overview": "",
         "production_code": "",
         "season_number": 1,
         "show_id": 73036,
         "still_path": null,
         "vote_average": 0,
         "vote_count": 0
        },
        {
         "air_date": "2019-11-18",
         "crew": [],
         "episode_number": 253,
         "guest_stars": [],
         "id": 2179070,
         "name": "Episode 253",
         "overview": "",
         "production_code": "",
         "season_number": 1,
         "show_id": 73036,
         "still_path": null,
         "vote_average": 0,
         "vote_count": 0
        },
        {
         "air_date": "2019-11-25",
         "crew": [],
         "episode_number": 254,
         "guest_stars": [],
         "id": 2179072,
         "name": "Episode 254",
         "overview": "",
         "production_code": "",
         "season_number": 1,
         "show_id": 73036,
         "still_path": null,
         "vote_average": 0,
         "vote_count": 0
        }
       ],
       "id": 90866,
       "name": "Season 1",
       "overview": "",
       "poster_path": null,
       "season_number": 1
      },
      "text/plain": [
       "<IPython.core.display.JSON object>"
      ]
     },
     "execution_count": 26,
     "metadata": {
      "application/json": {
       "expanded": false,
       "root": "root"
      }
     },
     "output_type": "execute_result"
    }
   ],
   "source": [
    "json_tvs_res = tvs_res.json()\n",
    "JSON_p_res = JSON(json_tvs_res)\n",
    "JSON_p_res"
   ]
  },
  {
   "cell_type": "code",
   "execution_count": 27,
   "metadata": {},
   "outputs": [
    {
     "name": "stdout",
     "output_type": "stream",
     "text": [
      "{'name': 'Season 1', 'air_date': '2014-11-17', 'season_number': 1, 'episodes': 85, 'genre_ids': []}\n"
     ]
    }
   ],
   "source": [
    "\n",
    "keys = ['name','air_date','season_number','episodes','genre_ids']\n",
    "fav_tv_show=dict()\n",
    "\n",
    "for item in keys:\n",
    "    \n",
    "    if item == 'episodes':\n",
    "        fav_tv_show[item] = len(json_tvs_res[item])\n",
    "        \n",
    "    elif item == 'genre_ids':\n",
    "         fav_tv_show[item] = js_gen_tvs_res['results'][0][item]\n",
    "        \n",
    "    else:\n",
    "        fav_tv_show[item] = json_tvs_res[item]\n",
    "print(fav_tv_show)"
   ]
  },
  {
   "cell_type": "markdown",
   "metadata": {},
   "source": [
    "## Task \n",
    "Find top 5 trending:\n",
    "- movies\n",
    "- tv-shows\n",
    "- people"
   ]
  },
  {
   "cell_type": "markdown",
   "metadata": {},
   "source": [
    "## THe single line probing for JSON key extraction"
   ]
  },
  {
   "cell_type": "code",
   "execution_count": 31,
   "metadata": {},
   "outputs": [
    {
     "name": "stdout",
     "output_type": "stream",
     "text": [
      "https://api.themoviedb.org/3/trending/movie/['day', 'week']?api_key=6a34245d58b88fd67aac4681ebe5ea86\n"
     ]
    }
   ],
   "source": [
    "#https://api.themoviedb.org/3/trending/tv/day?api_key=6a34245d58b88fd67aac4681ebe5ea86\n",
    "base = 'https://api.themoviedb.org/3/trending/'\n",
    "search_trend = 'movie'\n",
    "prm = f'{search_trend}/{time}?api_key={api_key}'\n",
    "\n",
    "#search_trend = ['movie','tv','person']\n",
    "\n",
    "time = 'day' #can also be week\n",
    "print(base+prm)"
   ]
  },
  {
   "cell_type": "code",
   "execution_count": 32,
   "metadata": {},
   "outputs": [
    {
     "data": {
      "application/json": {
       "page": 1,
       "results": [
        {
         "adult": false,
         "gender": 2,
         "id": 31,
         "known_for": [
          {
           "adult": false,
           "backdrop_path": "/7c9UVPPiTPltouxRVY6N9uugaVA.jpg",
           "genre_ids": [
            35,
            18,
            10749
           ],
           "id": 13,
           "media_type": "movie",
           "original_language": "en",
           "original_title": "Forrest Gump",
           "overview": "A man with a low IQ has accomplished great things in his life and been present during significant historic events—in each case, far exceeding what anyone imagined he could do. But despite all he has achieved, his one true love eludes him.",
           "popularity": 48.732,
           "poster_path": "/clolk7rB5lAjs41SD0Vt6IXYLMm.jpg",
           "release_date": "1994-07-06",
           "title": "Forrest Gump",
           "video": false,
           "vote_average": 8.5,
           "vote_count": 18865
          },
          {
           "adult": false,
           "backdrop_path": "/lxD5ak7BOoinRNehOCA85CQ8ubr.jpg",
           "genre_ids": [
            16,
            35,
            10751
           ],
           "id": 862,
           "media_type": "movie",
           "original_language": "en",
           "original_title": "Toy Story",
           "overview": "Led by Woody, Andy's toys live happily in his room until Andy's birthday brings Buzz Lightyear onto the scene. Afraid of losing his place in Andy's heart, Woody plots against Buzz. But when circumstances separate Buzz and Woody from their owner, the duo eventually learns to put aside their differences.",
           "popularity": 54.892,
           "poster_path": "/uXDfjJbdP4ijW5hWSBrPrlKpxab.jpg",
           "release_date": "1995-10-30",
           "title": "Toy Story",
           "video": false,
           "vote_average": 7.9,
           "vote_count": 12929
          },
          {
           "adult": false,
           "backdrop_path": "/xMIyotorUv2Yz7zpQz2QYc8wkWB.jpg",
           "genre_ids": [
            80,
            18,
            14
           ],
           "id": 497,
           "media_type": "movie",
           "original_language": "en",
           "original_title": "The Green Mile",
           "overview": "A supernatural tale set on death row in a Southern prison, where gentle giant John Coffey possesses the mysterious power to heal people's ailments. When the cell block's head guard, Paul Edgecomb, recognizes Coffey's miraculous gift, he tries desperately to help stave off the condemned man's execution.",
           "popularity": 41.745,
           "poster_path": "/velWPhVMQeQKcxggNEU8YmIo52R.jpg",
           "release_date": "1999-12-10",
           "title": "The Green Mile",
           "video": false,
           "vote_average": 8.5,
           "vote_count": 10913
          }
         ],
         "known_for_department": "Acting",
         "media_type": "person",
         "name": "Tom Hanks",
         "popularity": 27.284,
         "profile_path": "/tAyAXPLnR9Sgi7x2lMV4PUPitai.jpg"
        },
        {
         "adult": false,
         "gender": 1,
         "id": 61134,
         "known_for": [
          {
           "adult": false,
           "backdrop_path": "/st8wr7v8A8clGRoZok8D5ku2xGZ.jpg",
           "genre_ids": [
            18,
            10749
           ],
           "id": 72570,
           "media_type": "movie",
           "original_language": "en",
           "original_title": "The Vow",
           "overview": "Happy young married couple Paige and Leo are, well, happy. Then a car accident puts Paige into a life-threatening coma. Upon awakening she has lost the previous five years of memories, including those of her beloved Leo, her wedding, a confusing relationship with her parents, or the ending of her relationship with her ex-fiance. Despite these complications, Leo endeavors to win her heart again and rebuild their marriage.",
           "popularity": 25.51,
           "poster_path": "/qHNjcjKa6VHJsa0Eu0DHl2BaYw3.jpg",
           "release_date": "2012-02-05",
           "title": "The Vow",
           "video": false,
           "vote_average": 7.2,
           "vote_count": 3018
          },
          {
           "adult": false,
           "backdrop_path": "/nFYMMUdUwNGRRpQV8VvjkeIbT5E.jpg",
           "genre_ids": [
            53,
            80,
            9648
           ],
           "id": 2252,
           "media_type": "movie",
           "original_language": "en",
           "original_title": "Eastern Promises",
           "overview": "A Russian teenager, living in London, dies during childbirth but leaves clues to a midwife in her journal, that could tie her child to a rape involving a violent Russian mob family.",
           "popularity": 14.632,
           "poster_path": "/dpiJWb4NrWgcOg2rusuLhDM0hTm.jpg",
           "release_date": "2007-09-14",
           "title": "Eastern Promises",
           "video": false,
           "vote_average": 7.4,
           "vote_count": 2043
          },
          {
           "adult": false,
           "backdrop_path": "/fWY4LYTlsm64MQIffhiEZ8hLjat.jpg",
           "genre_ids": [
            18
           ],
           "id": 395993,
           "media_type": "movie",
           "original_language": "en",
           "original_title": "Stronger",
           "overview": "A victim of the Boston Marathon bombing in 2013 helps the police track down the killers while struggling to recover from devastating trauma.",
           "popularity": 14.656,
           "poster_path": "/ctQn7IUrWOu8sKk8AEpqNRc6BdP.jpg",
           "release_date": "2017-09-22",
           "title": "Stronger",
           "video": false,
           "vote_average": 7,
           "vote_count": 1024
          }
         ],
         "known_for_department": "Acting",
         "media_type": "person",
         "name": "Tatiana Maslany",
         "popularity": 6.428,
         "profile_path": "/mVdss3kBhKiWYWFFcrdOSAAfwC0.jpg"
        },
        {
         "adult": false,
         "gender": 2,
         "id": 73968,
         "known_for": [
          {
           "adult": false,
           "backdrop_path": "/doiUtOHzcxXFl0GVQ2n8Ay6Pirx.jpg",
           "genre_ids": [
            28,
            12,
            14
           ],
           "id": 209112,
           "media_type": "movie",
           "original_language": "en",
           "original_title": "Batman v Superman: Dawn of Justice",
           "overview": "Fearing the actions of a god-like Super Hero left unchecked, Gotham City’s own formidable, forceful vigilante takes on Metropolis’s most revered, modern-day savior, while the world wrestles with what sort of hero it really needs. And with Batman and Superman at war with one another, a new threat quickly arises, putting mankind in greater danger than it’s ever known before.",
           "popularity": 62.903,
           "poster_path": "/5UsK3grJvtQrtzEgqNlDljJW96w.jpg",
           "release_date": "2016-03-23",
           "title": "Batman v Superman: Dawn of Justice",
           "video": false,
           "vote_average": 5.9,
           "vote_count": 13840
          },
          {
           "adult": false,
           "backdrop_path": "/69EFgWWPFWbRNHmQgYdSnyJ94Ge.jpg",
           "genre_ids": [
            28,
            12,
            14,
            878
           ],
           "id": 49521,
           "media_type": "movie",
           "original_language": "en",
           "original_title": "Man of Steel",
           "overview": "A young boy learns that he has extraordinary powers and is not of this earth. As a young man, he journeys to discover where he came from and what he was sent here to do. But the hero in him must emerge if he is to save the world from annihilation and become the symbol of hope for all mankind.",
           "popularity": 45.126,
           "poster_path": "/7rIPjn5TUK04O25ZkMyHrGNPgLx.jpg",
           "release_date": "2013-06-12",
           "title": "Man of Steel",
           "video": false,
           "vote_average": 6.5,
           "vote_count": 11358
          },
          {
           "adult": false,
           "backdrop_path": "/jorgjEk6a0bed6jdR5wu4S6ZvRm.jpg",
           "genre_ids": [
            28,
            12,
            14,
            878
           ],
           "id": 141052,
           "media_type": "movie",
           "original_language": "en",
           "original_title": "Justice League",
           "overview": "Fuelled by his restored faith in humanity and inspired by Superman's selfless act, Bruce Wayne and Diana Prince assemble a team of metahumans consisting of Barry Allen, Arthur Curry and Victor Stone to face the catastrophic threat of Steppenwolf and the Parademons who are on the hunt for three Mother Boxes on Earth.",
           "popularity": 122.718,
           "poster_path": "/eifGNCSDuxJeS1loAXil5bIGgvC.jpg",
           "release_date": "2017-11-15",
           "title": "Justice League",
           "video": false,
           "vote_average": 6.2,
           "vote_count": 9598
          }
         ],
         "known_for_department": "Acting",
         "media_type": "person",
         "name": "Henry Cavill",
         "popularity": 39.414,
         "profile_path": "/hErUwonrQgY5Y7RfxOfv8Fq11MB.jpg"
        },
        {
         "adult": false,
         "gender": 0,
         "id": 2783084,
         "known_for": [
          {
           "adult": false,
           "backdrop_path": "/5DsO4NXQWTV7AHCMXAouRIlhRuc.jpg",
           "genre_ids": [
            18,
            36
           ],
           "id": 82695,
           "media_type": "movie",
           "original_language": "en",
           "original_title": "Les Misérables",
           "overview": "An adaptation of the successful stage musical based on Victor Hugo's classic novel set in 19th-century France, in which a paroled prisoner named Jean Valjean seeks redemption.",
           "popularity": 20.999,
           "poster_path": "/90PyvT7SI5INKhMC6P7B5NJVx4t.jpg",
           "release_date": "2012-12-18",
           "title": "Les Misérables",
           "video": false,
           "vote_average": 7.4,
           "vote_count": 3947
          },
          {
           "adult": false,
           "backdrop_path": null,
           "genre_ids": [
            27
           ],
           "id": 172342,
           "media_type": "movie",
           "original_language": "en",
           "original_title": "Community",
           "overview": "The Draymen Estate has become an urban legend. Amongst the sinister stories of unsavoury locals and brutal violence, several people have apparently gone missing. Even the police won't go there. Eter two naive student filmmakers with a well-meaning plan to make a sympathetic documentary of life on the estate. The unlucky duo quickly discovers that problems of drugs and crime in this community go way beyond the norm. This is a community which is about to present the students with material of unimaginable horror - turning their final project int their darkest nightmare.",
           "popularity": 6.581,
           "poster_path": null,
           "release_date": "2012-08-26",
           "title": "Community",
           "video": false,
           "vote_average": 4.4,
           "vote_count": 10
          },
          {
           "adult": false,
           "backdrop_path": "/OZJnohN8nJBLWj2zErPPBPGbTu.jpg",
           "genre_ids": [
            80,
            18,
            53
           ],
           "id": 744264,
           "media_type": "movie",
           "original_language": "en",
           "original_title": "The Devil Made Me Do It",
           "overview": "Manhattan, New York, 1973. All low level mafia associate Donnie DiMaggio wants to be is funny until he finds out he's the main suspect in the murder of underboss Jimmy De Luca. Frankie Fredonna, head of the family asks Donnie to arrange his son's eighteenth birthday party. Frankie never asks these things. Donnie knows the score, he's getting whacked. Kill or be killed he counteracts the plot against him by moving up the ranks in the rival Vincenzo crime family. Old scandals intimidate Frankie's Uncle, corrupt Priest Father Roberto Fredonna and position Donnie favorably with rival crews. As the party approaches, Donnie continues to blind side Frankie's plans until the day of reckoning arrives and the brutal climax unfolds.",
           "popularity": 0,
           "poster_path": "/1zlisPHrEYX0EZxiStI1IwMeFfg.jpg",
           "release_date": "2012-09-29",
           "title": "The Devil Made Me Do It",
           "video": false,
           "vote_average": 0,
           "vote_count": 0
          }
         ],
         "known_for_department": "Acting",
         "media_type": "person",
         "name": "Ian Floodgate",
         "popularity": 0,
         "profile_path": null
        },
        {
         "adult": false,
         "gender": 2,
         "id": 6193,
         "known_for": [
          {
           "adult": false,
           "backdrop_path": "/s3TBrRGB1iav7gFOCNx3H31MoES.jpg",
           "genre_ids": [
            28,
            12,
            878
           ],
           "id": 27205,
           "media_type": "movie",
           "original_language": "en",
           "original_title": "Inception",
           "overview": "Cobb, a skilled thief who commits corporate espionage by infiltrating the subconscious of his targets is offered a chance to regain his old life as payment for a task considered to be impossible: \"inception\", the implantation of another person's idea into a target's subconscious.",
           "popularity": 68.862,
           "poster_path": "/9gk7adHYeDvHkCSEqAvQNLV5Uge.jpg",
           "release_date": "2010-07-15",
           "title": "Inception",
           "video": false,
           "vote_average": 8.3,
           "vote_count": 27142
          },
          {
           "adult": false,
           "backdrop_path": "/zTqrLIFED5HYM8tmb7gCahUt4QF.jpg",
           "genre_ids": [
            18,
            37
           ],
           "id": 68718,
           "media_type": "movie",
           "original_language": "en",
           "original_title": "Django Unchained",
           "overview": "With the help of a German bounty hunter, a freed slave sets out to rescue his wife from a brutal Mississippi plantation owner.",
           "popularity": 40.097,
           "poster_path": "/7oWY8VDWW7thTzWh3OKYRkWUlD5.jpg",
           "release_date": "2012-12-25",
           "title": "Django Unchained",
           "video": false,
           "vote_average": 8.1,
           "vote_count": 19029
          },
          {
           "adult": false,
           "backdrop_path": "/6VmFqApQRyZZzmiGOQq2C92jyvH.jpg",
           "genre_ids": [
            18,
            10749
           ],
           "id": 597,
           "media_type": "movie",
           "original_language": "en",
           "original_title": "Titanic",
           "overview": "101-year-old Rose DeWitt Bukater tells the story of her life aboard the Titanic, 84 years later. A young Rose boards the ship with her mother and fiancé. Meanwhile, Jack Dawson and Fabrizio De Rossi win third-class tickets aboard the ship. Rose tells the whole story from Titanic's departure through to its death—on its first and last voyage—on April 15, 1912.",
           "popularity": 56.033,
           "poster_path": "/9xjZS2rlVxm8SFx8kPC3aIGCOYQ.jpg",
           "release_date": "1997-11-18",
           "title": "Titanic",
           "video": false,
           "vote_average": 7.9,
           "vote_count": 17714
          }
         ],
         "known_for_department": "Acting",
         "media_type": "person",
         "name": "Leonardo DiCaprio",
         "popularity": 10.28,
         "profile_path": "/wo2hJpn04vbtmh0B9utCFdsQhxM.jpg"
        },
        {
         "adult": false,
         "gender": 2,
         "id": 1136406,
         "known_for": [
          {
           "adult": false,
           "backdrop_path": "/bOGkgRGdhrBYJSLpXaxhXVstddV.jpg",
           "genre_ids": [
            28,
            12,
            878
           ],
           "id": 299536,
           "media_type": "movie",
           "original_language": "en",
           "original_title": "Avengers: Infinity War",
           "overview": "As the Avengers and their allies have continued to protect the world from threats too large for any one hero to handle, a new danger has emerged from the cosmic shadows: Thanos. A despot of intergalactic infamy, his goal is to collect all six Infinity Stones, artifacts of unimaginable power, and use them to inflict his twisted will on all of reality. Everything the Avengers have fought for has led up to this moment - the fate of Earth and existence itself has never been more uncertain.",
           "popularity": 225.135,
           "poster_path": "/7WsyChQLEftFiDOVTGkv3hFpyyt.jpg",
           "release_date": "2018-04-25",
           "title": "Avengers: Infinity War",
           "video": false,
           "vote_average": 8.3,
           "vote_count": 19670
          },
          {
           "adult": false,
           "backdrop_path": "/7FWlcZq3r6525LWOcvO9kNWurN1.jpg",
           "genre_ids": [
            12,
            28,
            878
           ],
           "id": 271110,
           "media_type": "movie",
           "original_language": "en",
           "original_title": "Captain America: Civil War",
           "overview": "Following the events of Age of Ultron, the collective governments of the world pass an act designed to regulate all superhuman activity. This polarizes opinion amongst the Avengers, causing two factions to side with Iron Man or Captain America, which causes an epic battle between former allies.",
           "popularity": 84.207,
           "poster_path": "/rAGiXaUfPzY7CDEyNKUofk3Kw2e.jpg",
           "release_date": "2016-04-27",
           "title": "Captain America: Civil War",
           "video": false,
           "vote_average": 7.4,
           "vote_count": 16816
          },
          {
           "adult": false,
           "backdrop_path": "/orjiB3oUIsyz60hoEqkiGpy5CeO.jpg",
           "genre_ids": [
            28,
            12,
            878
           ],
           "id": 299534,
           "media_type": "movie",
           "original_language": "en",
           "original_title": "Avengers: Endgame",
           "overview": "After the devastating events of Avengers: Infinity War, the universe is in ruins due to the efforts of the Mad Titan, Thanos. With the help of remaining allies, the Avengers must assemble once more in order to undo Thanos' actions and restore order to the universe once and for all, no matter what consequences may be in store.",
           "popularity": 194.573,
           "poster_path": "/or06FN3Dka5tukK1e9sl16pB3iy.jpg",
           "release_date": "2019-04-24",
           "title": "Avengers: Endgame",
           "video": false,
           "vote_average": 8.3,
           "vote_count": 15039
          }
         ],
         "known_for_department": "Acting",
         "media_type": "person",
         "name": "Tom Holland",
         "popularity": 25.401,
         "profile_path": "/ip7aXVH8s6wXv8cY6KI14OZgCI8.jpg"
        },
        {
         "adult": false,
         "gender": 1,
         "id": 10990,
         "known_for": [
          {
           "adult": false,
           "backdrop_path": "/4GlSMUpzSd3cliYGFJVziSDX53S.jpg",
           "genre_ids": [
            12,
            14,
            10751
           ],
           "id": 671,
           "media_type": "movie",
           "original_language": "en",
           "original_title": "Harry Potter and the Philosopher's Stone",
           "overview": "Harry Potter has lived under the stairs at his aunt and uncle's house his whole life. But on his 11th birthday, he learns he's a powerful wizard -- with a place waiting for him at the Hogwarts School of Witchcraft and Wizardry. As he learns to harness his newfound powers with the help of the school's kindly headmaster, Harry uncovers the truth about his parents' deaths -- and about the villain who's to blame.",
           "popularity": 102.257,
           "poster_path": "/wuMc08IPKEatf9rnMNXvIDxqP4W.jpg",
           "release_date": "2001-11-16",
           "title": "Harry Potter and the Philosopher's Stone",
           "video": false,
           "vote_average": 7.9,
           "vote_count": 18108
          },
          {
           "adult": false,
           "backdrop_path": "/bvRnPaai6JL7XHF4K6414DdSHro.jpg",
           "genre_ids": [
            12,
            14
           ],
           "id": 672,
           "media_type": "movie",
           "original_language": "en",
           "original_title": "Harry Potter and the Chamber of Secrets",
           "overview": "Cars fly, trees fight back, and a mysterious house-elf comes to warn Harry Potter at the start of his second year at Hogwarts. Adventure and danger await when bloody writing on a wall announces: The Chamber Of Secrets Has Been Opened. To save Hogwarts will require all of Harry, Ron and Hermione’s magical abilities and courage.",
           "popularity": 76.311,
           "poster_path": "/sdEOH0992YZ0QSxgXNIGLq1ToUi.jpg",
           "release_date": "2002-11-13",
           "title": "Harry Potter and the Chamber of Secrets",
           "video": false,
           "vote_average": 7.7,
           "vote_count": 14983
          },
          {
           "adult": false,
           "backdrop_path": "/vbk5CfaAHOjQPSAcYm6AoRRz2Af.jpg",
           "genre_ids": [
            12,
            14
           ],
           "id": 673,
           "media_type": "movie",
           "original_language": "en",
           "original_title": "Harry Potter and the Prisoner of Azkaban",
           "overview": "Harry, Ron and Hermione return to Hogwarts for another magic-filled year. Harry comes face to face with danger yet again, this time in the form of escaped convict, Sirius Black—and turns to sympathetic Professor Lupin for help.",
           "popularity": 81.618,
           "poster_path": "/v0wMKEEGaNc9evdqGYfIvoWXh24.jpg",
           "release_date": "2004-05-31",
           "title": "Harry Potter and the Prisoner of Azkaban",
           "video": false,
           "vote_average": 8,
           "vote_count": 14629
          }
         ],
         "known_for_department": "Acting",
         "media_type": "person",
         "name": "Emma Watson",
         "popularity": 14.95,
         "profile_path": "/mf0OANvWYSzU1d8yggrhyw8IbIz.jpg"
        },
        {
         "adult": false,
         "gender": 2,
         "id": 11288,
         "known_for": [
          {
           "adult": false,
           "backdrop_path": "/8f9dnOtpArDrOMEylpSN9Sc6fuz.jpg",
           "genre_ids": [
            12,
            14,
            10751
           ],
           "id": 674,
           "media_type": "movie",
           "original_language": "en",
           "original_title": "Harry Potter and the Goblet of Fire",
           "overview": "Harry starts his fourth year at Hogwarts, competes in the treacherous Triwizard Tournament and faces the evil Lord Voldemort. Ron and Hermione help Harry manage the pressure – but Voldemort lurks, awaiting his chance to destroy Harry and all that he stands for.",
           "popularity": 87.909,
           "poster_path": "/fECBtHlr0RB3foNHDiCBXeg9Bv9.jpg",
           "release_date": "2005-11-16",
           "title": "Harry Potter and the Goblet of Fire",
           "video": false,
           "vote_average": 7.8,
           "vote_count": 14010
          },
          {
           "adult": false,
           "backdrop_path": "/pkxPkHOPJjOvzfQOclANEBT8OfK.jpg",
           "genre_ids": [
            12,
            14,
            9648
           ],
           "id": 675,
           "media_type": "movie",
           "original_language": "en",
           "original_title": "Harry Potter and the Order of the Phoenix",
           "overview": "Returning for his fifth year of study at Hogwarts, Harry is stunned to find that his warnings about the return of Lord Voldemort have been ignored. Left with no choice, Harry takes matters into his own hands, training a small group of students – dubbed 'Dumbledore's Army' – to defend themselves against the dark arts.",
           "popularity": 70.357,
           "poster_path": "/g6n8G0xPnBVUIKKK41sNmbZB5h4.jpg",
           "release_date": "2007-06-28",
           "title": "Harry Potter and the Order of the Phoenix",
           "video": false,
           "vote_average": 7.7,
           "vote_count": 13544
          },
          {
           "adult": false,
           "backdrop_path": "/7eK8FJr4fqq3J5W2xvlr2GVaep2.jpg",
           "genre_ids": [
            18,
            14,
            10749
           ],
           "id": 8966,
           "media_type": "movie",
           "original_language": "en",
           "original_title": "Twilight",
           "overview": "When Bella Swan moves to a small town in the Pacific Northwest to live with her father, she meets the reclusive Edward Cullen, a mysterious classmate who reveals himself to be a 108-year-old vampire. Despite Edward's repeated cautions, Bella can't help but fall in love with him, a fatal move that endangers her own life when a coven of bloodsuckers try to challenge the Cullen clan.",
           "popularity": 71.911,
           "poster_path": "/3Gkb6jm6962ADUPaCBqzz9CTbn9.jpg",
           "release_date": "2008-11-20",
           "title": "Twilight",
           "video": false,
           "vote_average": 6.2,
           "vote_count": 9581
          }
         ],
         "known_for_department": "Acting",
         "media_type": "person",
         "name": "Robert Pattinson",
         "popularity": 15.017,
         "profile_path": "/tdcFEzOb9CENL7icy6bUfj4iSl7.jpg"
        },
        {
         "adult": false,
         "gender": 1,
         "id": 54693,
         "known_for": [
          {
           "adult": false,
           "backdrop_path": "/qJeU7KM4nT2C1WpOrwPcSDGFUWE.jpg",
           "genre_ids": [
            35,
            18,
            10402,
            10749
           ],
           "id": 313369,
           "media_type": "movie",
           "original_language": "en",
           "original_title": "La La Land",
           "overview": "Mia, an aspiring actress, serves lattes to movie stars in between auditions and Sebastian, a jazz musician, scrapes by playing cocktail party gigs in dingy bars, but as success mounts they are faced with decisions that begin to fray the fragile fabric of their love affair, and the dreams they worked so hard to maintain in each other threaten to rip them apart.",
           "popularity": 23.147,
           "poster_path": "/uDO8zWDhfWwoFdKS4fzkUJt0Rf0.jpg",
           "release_date": "2016-11-29",
           "title": "La La Land",
           "video": false,
           "vote_average": 7.9,
           "vote_count": 12362
          },
          {
           "adult": false,
           "backdrop_path": "/eaJwlzDiMC5k4kp766NO8yXnt7U.jpg",
           "genre_ids": [
            28,
            12,
            14
           ],
           "id": 1930,
           "media_type": "movie",
           "original_language": "en",
           "original_title": "The Amazing Spider-Man",
           "overview": "Peter Parker is an outcast high schooler abandoned by his parents as a boy, leaving him to be raised by his Uncle Ben and Aunt May. Like most teenagers, Peter is trying to figure out who he is and how he got to be the person he is today. As Peter discovers a mysterious briefcase that belonged to his father, he begins a quest to understand his parents' disappearance – leading him directly to Oscorp and the lab of Dr. Curt Connors, his father's former partner. As Spider-Man is set on a collision course with Connors' alter ego, The Lizard, Peter will make life-altering choices to use his powers and shape his destiny to become a hero.",
           "popularity": 42.52,
           "poster_path": "/jIfkQNARYyERqRAq1p1c8xgePp4.jpg",
           "release_date": "2012-06-23",
           "title": "The Amazing Spider-Man",
           "video": false,
           "vote_average": 6.6,
           "vote_count": 12147
          },
          {
           "adult": false,
           "backdrop_path": "/pDqwUJJSaHIv2sxyRYfmYBFeU9C.jpg",
           "genre_ids": [
            35,
            18
           ],
           "id": 194662,
           "media_type": "movie",
           "original_language": "en",
           "original_title": "Birdman or (The Unexpected Virtue of Ignorance)",
           "overview": "A fading actor best known for his portrayal of a popular superhero attempts to mount a comeback by appearing in a Broadway play. As opening night approaches, his attempts to become more altruistic, rebuild his career, and reconnect with friends and family prove more difficult than expected.",
           "popularity": 35.054,
           "poster_path": "/lvWL5ZRlYFh7M7fOvYswcRqyprI.jpg",
           "release_date": "2014-08-27",
           "title": "Birdman or (The Unexpected Virtue of Ignorance)",
           "video": false,
           "vote_average": 7.5,
           "vote_count": 9752
          }
         ],
         "known_for_department": "Acting",
         "media_type": "person",
         "name": "Emma Stone",
         "popularity": 14.29,
         "profile_path": "/cZ8a3QvAnj2cgcgVL6g4XaqPzpL.jpg"
        },
        {
         "adult": false,
         "gender": 2,
         "id": 2524,
         "known_for": [
          {
           "adult": false,
           "backdrop_path": "/s3TBrRGB1iav7gFOCNx3H31MoES.jpg",
           "genre_ids": [
            28,
            12,
            878
           ],
           "id": 27205,
           "media_type": "movie",
           "original_language": "en",
           "original_title": "Inception",
           "overview": "Cobb, a skilled thief who commits corporate espionage by infiltrating the subconscious of his targets is offered a chance to regain his old life as payment for a task considered to be impossible: \"inception\", the implantation of another person's idea into a target's subconscious.",
           "popularity": 62.532,
           "poster_path": "/9gk7adHYeDvHkCSEqAvQNLV5Uge.jpg",
           "release_date": "2010-07-15",
           "title": "Inception",
           "video": false,
           "vote_average": 8.3,
           "vote_count": 27149
          },
          {
           "adult": false,
           "backdrop_path": "/nlCHUWjY9XWbuEUQauCBgnY8ymF.jpg",
           "genre_ids": [
            28,
            12,
            878
           ],
           "id": 76341,
           "media_type": "movie",
           "original_language": "en",
           "original_title": "Mad Max: Fury Road",
           "overview": "An apocalyptic story set in the furthest reaches of our planet, in a stark desert landscape where humanity is broken, and most everyone is crazed fighting for the necessities of life. Within this world exist two rebels on the run who just might be able to restore order.",
           "popularity": 52.101,
           "poster_path": "/8tZYtuWezp8JbcsvHYO0O46tFbo.jpg",
           "release_date": "2015-05-13",
           "title": "Mad Max: Fury Road",
           "video": false,
           "vote_average": 7.5,
           "vote_count": 16958
          },
          {
           "adult": false,
           "backdrop_path": "/yzsegNpkRCPadnWmshrJzT3ardR.jpg",
           "genre_ids": [
            28,
            80,
            18,
            53
           ],
           "id": 49026,
           "media_type": "movie",
           "original_language": "en",
           "original_title": "The Dark Knight Rises",
           "overview": "Following the death of District Attorney Harvey Dent, Batman assumes responsibility for Dent's crimes to protect the late attorney's reputation and is subsequently hunted by the Gotham City Police Department. Eight years later, Batman encounters the mysterious Selina Kyle and the villainous Bane, a new terrorist leader who overwhelms Gotham's finest. The Dark Knight resurfaces to protect a city that has branded him an enemy.",
           "popularity": 52.97,
           "poster_path": "/vzvKcPQ4o7TjWeGIn0aGC9FeVNu.jpg",
           "release_date": "2012-07-16",
           "title": "The Dark Knight Rises",
           "video": false,
           "vote_average": 7.7,
           "vote_count": 16636
          }
         ],
         "known_for_department": "Acting",
         "media_type": "person",
         "name": "Tom Hardy",
         "popularity": 23.023,
         "profile_path": "/yVGF9FvDxTDPhGimTbZNfghpllA.jpg"
        },
        {
         "adult": false,
         "gender": 2,
         "id": 35742,
         "known_for": [
          {
           "adult": false,
           "backdrop_path": "/svYzz6A6xleZv5toTLAhigXd1DX.jpg",
           "genre_ids": [
            35,
            18,
            10749
           ],
           "id": 19404,
           "media_type": "movie",
           "original_language": "hi",
           "original_title": "दिलवाले दुल्हनिया ले जायेंगे",
           "overview": "Raj is a rich, carefree, happy-go-lucky second generation NRI. Simran is the daughter of Chaudhary Baldev Singh, who in spite of being an NRI is very strict about adherence to Indian values. Simran has left for India to be married to her childhood fiancé. Raj leaves for India with a mission at his hands, to claim his lady love under the noses of her whole family. Thus begins a saga.",
           "popularity": 23.529,
           "poster_path": "/2CAL2433ZeIihfX1Hb2139CX0pW.jpg",
           "release_date": "1995-10-20",
           "title": "Dilwale Dulhania Le Jayenge",
           "video": false,
           "vote_average": 8.7,
           "vote_count": 2336
          },
          {
           "adult": false,
           "backdrop_path": "/xuqgovav0bbzwxzSg9K0RcEzLPj.jpg",
           "genre_ids": [
            18,
            10749
           ],
           "id": 26022,
           "media_type": "movie",
           "original_language": "hi",
           "original_title": "My Name Is Khan",
           "overview": "Rizwan Khan, a Muslim from the Borivali section of Mumbai, has Asperger's syndrome. He marries a Hindu single mother, Mandira, in San Francisco. After 9/11, Rizwan is detained by authorities at LAX who treat him as a terrorist because of his condition and his race.",
           "popularity": 16.57,
           "poster_path": "/6VJYBNUdtRrW8flaiqrr6sFgwfw.jpg",
           "release_date": "2010-02-11",
           "title": "My Name Is Khan",
           "video": false,
           "vote_average": 8.1,
           "vote_count": 681
          },
          {
           "adult": false,
           "backdrop_path": "/sgDzryFVud6jn3veSlzGAzv4TsF.jpg",
           "genre_ids": [
            35,
            18
           ],
           "id": 10757,
           "media_type": "movie",
           "original_language": "hi",
           "original_title": "कभी ख़ुशी कभी ग़म",
           "overview": "Rahul, the adoptive son of business magnate Yash Raichand, feels eternal gratitude to his father for rescuing him from a life of poverty. Yet, when Yash forbids his love of poor Anjali, Rahul marries her and moves to London with new wife and sister-in-law, breaking the heart of his mother. Ten years later, Rahul's younger brother comes to London intent on brokering peace between father and son.",
           "popularity": 13.566,
           "poster_path": "/ioW5i4R4FEm3QT9yd0aBxJDJi6T.jpg",
           "release_date": "2001-12-14",
           "title": "Kabhi Khushi Kabhie Gham",
           "video": false,
           "vote_average": 7.7,
           "vote_count": 254
          }
         ],
         "known_for_department": "Acting",
         "media_type": "person",
         "name": "Shah Rukh Khan",
         "popularity": 8.764,
         "profile_path": "/1w76N732BRbwQegkHnhwE4zgls0.jpg"
        },
        {
         "adult": false,
         "gender": 2,
         "id": 20049,
         "known_for": [
          {
           "adult": false,
           "backdrop_path": "/8f9dnOtpArDrOMEylpSN9Sc6fuz.jpg",
           "genre_ids": [
            12,
            14,
            10751
           ],
           "id": 674,
           "media_type": "movie",
           "original_language": "en",
           "original_title": "Harry Potter and the Goblet of Fire",
           "overview": "Harry starts his fourth year at Hogwarts, competes in the treacherous Triwizard Tournament and faces the evil Lord Voldemort. Ron and Hermione help Harry manage the pressure – but Voldemort lurks, awaiting his chance to destroy Harry and all that he stands for.",
           "popularity": 87.909,
           "poster_path": "/fECBtHlr0RB3foNHDiCBXeg9Bv9.jpg",
           "release_date": "2005-11-16",
           "title": "Harry Potter and the Goblet of Fire",
           "video": false,
           "vote_average": 7.8,
           "vote_count": 14010
          },
          {
           "adult": false,
           "backdrop_path": "/kxklJL1v8MYEU5xdU6W5VvmBwVz.jpg",
           "genre_ids": [
            12,
            16,
            14,
            10751
           ],
           "id": 10191,
           "media_type": "movie",
           "original_language": "en",
           "original_title": "How to Train Your Dragon",
           "overview": "As the son of a Viking leader on the cusp of manhood, shy Hiccup Horrendous Haddock III faces a rite of passage: he must kill a dragon to prove his warrior mettle. But after downing a feared dragon, he realizes that he no longer wants to destroy it, and instead befriends the beast – which he names Toothless – much to the chagrin of his warrior father",
           "popularity": 39.877,
           "poster_path": "/ygGmAO60t8GyqUo9xYeYxSZAR3b.jpg",
           "release_date": "2010-03-10",
           "title": "How to Train Your Dragon",
           "video": false,
           "vote_average": 7.8,
           "vote_count": 9343
          },
          {
           "adult": false,
           "backdrop_path": "/lFwykSz3Ykj1Q3JXJURnGUTNf1o.jpg",
           "genre_ids": [
            12,
            16,
            10751
           ],
           "id": 166428,
           "media_type": "movie",
           "original_language": "en",
           "original_title": "How to Train Your Dragon: The Hidden World",
           "overview": "As Hiccup fulfills his dream of creating a peaceful dragon utopia, Toothless’ discovery of an untamed, elusive mate draws the Night Fury away. When danger mounts at home and Hiccup’s reign as village chief is tested, both dragon and rider must make impossible decisions to save their kind.",
           "popularity": 86.295,
           "poster_path": "/xvx4Yhf0DVH8G4LzNISpMfFBDy2.jpg",
           "release_date": "2019-01-03",
           "title": "How to Train Your Dragon: The Hidden World",
           "video": false,
           "vote_average": 7.8,
           "vote_count": 3900
          }
         ],
         "known_for_department": "Acting",
         "media_type": "person",
         "name": "David Tennant",
         "popularity": 11.02,
         "profile_path": "/9PJteC0a8POnPhqgxvdtWNKHPsD.jpg"
        },
        {
         "adult": false,
         "gender": 2,
         "id": 18897,
         "known_for": [
          {
           "adult": false,
           "backdrop_path": "/ykdS8bR7eKwjANHeVSSsdyU45ia.jpg",
           "genre_ids": [
            12,
            16,
            35,
            10751
           ],
           "id": 9502,
           "media_type": "movie",
           "original_language": "en",
           "original_title": "Kung Fu Panda",
           "overview": "When the Valley of Peace is threatened, lazy Po the panda discovers his destiny as the \"chosen one\" and trains to become a kung fu hero, but transforming the unsleek slacker into a brave warrior won't be easy. It's up to Master Shifu and the Furious Five -- Tigress, Crane, Mantis, Viper and Monkey -- to give it a try.",
           "popularity": 38.454,
           "poster_path": "/wWt4JYXTg5Wr3xBW2phBrMKgp3x.jpg",
           "release_date": "2008-06-04",
           "title": "Kung Fu Panda",
           "video": false,
           "vote_average": 7.1,
           "vote_count": 7708
          },
          {
           "adult": false,
           "backdrop_path": "/iKJNE3QV0wEc9VMFuHYSZVhmSN9.jpg",
           "genre_ids": [
            16,
            10751
           ],
           "id": 49444,
           "media_type": "movie",
           "original_language": "en",
           "original_title": "Kung Fu Panda 2",
           "overview": "Po is now living his dream as The Dragon Warrior, protecting the Valley of Peace alongside his friends and fellow kung fu masters, The Furious Five - Tigress, Crane, Mantis, Viper and Monkey. But Po’s new life of awesomeness is threatened by the emergence of a formidable villain, who plans to use a secret, unstoppable weapon to conquer China and destroy kung fu. It is up to Po and The Furious Five to journey across China to face this threat and vanquish it. But how can Po stop a weapon that can stop kung fu? He must look to his past and uncover the secrets of his mysterious origins; only then will he be able to unlock the strength he needs to succeed.",
           "popularity": 32.089,
           "poster_path": "/mtqqD00vB4PGRt20gWtGqFhrkd0.jpg",
           "release_date": "2011-05-25",
           "title": "Kung Fu Panda 2",
           "video": false,
           "vote_average": 6.8,
           "vote_count": 4556
          },
          {
           "adult": false,
           "backdrop_path": "/y2Cl2LBYaabgtSLlOa4VqnOiNin.jpg",
           "genre_ids": [
            28,
            12,
            18,
            10751
           ],
           "id": 38575,
           "media_type": "movie",
           "original_language": "en",
           "original_title": "The Karate Kid",
           "overview": "Twelve-year-old Dre Parker could have been the most popular kid in Detroit, but his mother's latest career move has landed him in China. Dre immediately falls for his classmate Mei Ying but the cultural differences make such a friendship impossible. Even worse, Dre's feelings make him an enemy of the class bully, Cheng. With no friends in a strange land, Dre has nowhere to turn but maintenance man Mr. Han, who is a kung fu master. As Han teaches Dre that kung fu is not about punches and parries, but maturity and calm, Dre realizes that facing down the bullies will be the fight of his life.",
           "popularity": 42.941,
           "poster_path": "/tAMQREOoztvluqrfHiGHFVfB04B.jpg",
           "release_date": "2010-06-10",
           "title": "The Karate Kid",
           "video": false,
           "vote_average": 6.4,
           "vote_count": 4006
          }
         ],
         "known_for_department": "Acting",
         "media_type": "person",
         "name": "Jackie Chan",
         "popularity": 13.94,
         "profile_path": "/sVuTm1w5G6ofrx4lRjy64D7MRiS.jpg"
        },
        {
         "adult": false,
         "gender": 2,
         "id": 62,
         "known_for": [
          {
           "adult": false,
           "backdrop_path": "/52StM7zDmcjeKxWkW55X5LtoLQi.jpg",
           "genre_ids": [
            80,
            53
           ],
           "id": 680,
           "media_type": "movie",
           "original_language": "en",
           "original_title": "Pulp Fiction",
           "overview": "A burger-loving hit man, his philosophical partner, a drug-addled gangster's moll and a washed-up boxer converge in this sprawling, comedic crime caper. Their adventures unfurl in three stories that ingeniously trip back and forth in time.",
           "popularity": 45.511,
           "poster_path": "/plnlrtBUULT0rh3Xsjmpubiso3L.jpg",
           "release_date": "1994-09-10",
           "title": "Pulp Fiction",
           "video": false,
           "vote_average": 8.5,
           "vote_count": 19495
          },
          {
           "adult": false,
           "backdrop_path": "/9pkZesKMnblFfKxEhQx45YQ2kIe.jpg",
           "genre_ids": [
            27,
            53
           ],
           "id": 381288,
           "media_type": "movie",
           "original_language": "en",
           "original_title": "Split",
           "overview": "Though Kevin has evidenced 23 personalities to his trusted psychiatrist, Dr. Fletcher, there remains one still submerged who is set to materialize and dominate all the others. Compelled to abduct three teenage girls led by the willful, observant Casey, Kevin reaches a war for survival among all of those contained within him — as well as everyone around him — as the walls between his compartments shatter apart.",
           "popularity": 48.273,
           "poster_path": "/kBvO58pt13dgYImjZNjq6QiOT8n.jpg",
           "release_date": "2017-01-09",
           "title": "Split",
           "video": false,
           "vote_average": 7.3,
           "vote_count": 12858
          },
          {
           "adult": false,
           "backdrop_path": "/6TjllWT3cGrPFyqDXurVZ3L8bBi.jpg",
           "genre_ids": [
            9648,
            53,
            18
           ],
           "id": 745,
           "media_type": "movie",
           "original_language": "en",
           "original_title": "The Sixth Sense",
           "overview": "A psychological thriller about an eight year old boy named Cole Sear who believes he can see into the world of the dead. A child psychologist named Malcolm Crowe comes to Cole to help him deal with his problem, learning that he really can see the ghosts of dead people.",
           "popularity": 28.435,
           "poster_path": "/fIssD3w3SvIhPPmVo4WMgZDVLID.jpg",
           "release_date": "1999-08-06",
           "title": "The Sixth Sense",
           "video": false,
           "vote_average": 7.9,
           "vote_count": 7848
          }
         ],
         "known_for_department": "Acting",
         "media_type": "person",
         "name": "Bruce Willis",
         "popularity": 20.189,
         "profile_path": "/A1XBu3CffBpSK8HEIJM8q7Mn4lz.jpg"
        },
        {
         "adult": false,
         "gender": 2,
         "id": 138,
         "known_for": [
          {
           "adult": false,
           "backdrop_path": "/52StM7zDmcjeKxWkW55X5LtoLQi.jpg",
           "genre_ids": [
            80,
            53
           ],
           "id": 680,
           "media_type": "movie",
           "original_language": "en",
           "original_title": "Pulp Fiction",
           "overview": "A burger-loving hit man, his philosophical partner, a drug-addled gangster's moll and a washed-up boxer converge in this sprawling, comedic crime caper. Their adventures unfurl in three stories that ingeniously trip back and forth in time.",
           "popularity": 52.964,
           "poster_path": "/plnlrtBUULT0rh3Xsjmpubiso3L.jpg",
           "release_date": "1994-09-10",
           "title": "Pulp Fiction",
           "video": false,
           "vote_average": 8.5,
           "vote_count": 19511
          },
          {
           "adult": false,
           "backdrop_path": "/zTqrLIFED5HYM8tmb7gCahUt4QF.jpg",
           "genre_ids": [
            18,
            37
           ],
           "id": 68718,
           "media_type": "movie",
           "original_language": "en",
           "original_title": "Django Unchained",
           "overview": "With the help of a German bounty hunter, a freed slave sets out to rescue his wife from a brutal Mississippi plantation owner.",
           "popularity": 44.52,
           "poster_path": "/7oWY8VDWW7thTzWh3OKYRkWUlD5.jpg",
           "release_date": "2012-12-25",
           "title": "Django Unchained",
           "video": false,
           "vote_average": 8.1,
           "vote_count": 19042
          },
          {
           "adult": false,
           "backdrop_path": "/8pEnePgGyfUqj8Qa6d91OZQ6Aih.jpg",
           "genre_ids": [
            18,
            28,
            53,
            10752
           ],
           "id": 16869,
           "media_type": "movie",
           "original_language": "en",
           "original_title": "Inglourious Basterds",
           "overview": "In Nazi-occupied France during World War II, a group of Jewish-American soldiers known as \"The Basterds\" are chosen specifically to spread fear throughout the Third Reich by scalping and brutally killing Nazis. The Basterds, lead by Lt. Aldo Raine soon cross paths with a French-Jewish teenage girl who runs a movie theater in Paris which is targeted by the soldiers.",
           "popularity": 40.693,
           "poster_path": "/7sfbEnaARXDDhKm0CZ7D7uc2sbo.jpg",
           "release_date": "2009-08-18",
           "title": "Inglourious Basterds",
           "video": false,
           "vote_average": 8.2,
           "vote_count": 15384
          }
         ],
         "known_for_department": "Directing",
         "media_type": "person",
         "name": "Quentin Tarantino",
         "popularity": 12.225,
         "profile_path": "/1gjcpAa99FAOWGnrUvHEXXsRs7o.jpg"
        },
        {
         "adult": false,
         "gender": 2,
         "id": 74568,
         "known_for": [
          {
           "adult": false,
           "backdrop_path": "/kwUQFeFXOOpgloMgZaadhzkbTI4.jpg",
           "genre_ids": [
            28,
            12,
            878
           ],
           "id": 24428,
           "media_type": "movie",
           "original_language": "en",
           "original_title": "The Avengers",
           "overview": "When an unexpected enemy emerges and threatens global safety and security, Nick Fury, director of the international peacekeeping agency known as S.H.I.E.L.D., finds himself in need of a team to pull the world back from the brink of disaster. Spanning the globe, a daring recruitment effort begins!",
           "popularity": 101.482,
           "poster_path": "/RYMX2wcKCBAr24UyPD7xwmjaTn.jpg",
           "release_date": "2012-04-25",
           "title": "The Avengers",
           "video": false,
           "vote_average": 7.7,
           "vote_count": 23139
          },
          {
           "adult": false,
           "backdrop_path": "/bOGkgRGdhrBYJSLpXaxhXVstddV.jpg",
           "genre_ids": [
            28,
            12,
            878
           ],
           "id": 299536,
           "media_type": "movie",
           "original_language": "en",
           "original_title": "Avengers: Infinity War",
           "overview": "As the Avengers and their allies have continued to protect the world from threats too large for any one hero to handle, a new danger has emerged from the cosmic shadows: Thanos. A despot of intergalactic infamy, his goal is to collect all six Infinity Stones, artifacts of unimaginable power, and use them to inflict his twisted will on all of reality. Everything the Avengers have fought for has led up to this moment - the fate of Earth and existence itself has never been more uncertain.",
           "popularity": 240.432,
           "poster_path": "/7WsyChQLEftFiDOVTGkv3hFpyyt.jpg",
           "release_date": "2018-04-25",
           "title": "Avengers: Infinity War",
           "video": false,
           "vote_average": 8.3,
           "vote_count": 19662
          },
          {
           "adult": false,
           "backdrop_path": "/8i6ZDk97Vyh0jHohMG4vFeFuKJh.jpg",
           "genre_ids": [
            28,
            12,
            878
           ],
           "id": 99861,
           "media_type": "movie",
           "original_language": "en",
           "original_title": "Avengers: Age of Ultron",
           "overview": "When Tony Stark tries to jumpstart a dormant peacekeeping program, things go awry and Earth’s Mightiest Heroes are put to the ultimate test as the fate of the planet hangs in the balance. As the villainous Ultron emerges, it is up to The Avengers to stop him from enacting his terrible plans, and soon uneasy alliances and unexpected action pave the way for an epic and unique global adventure.",
           "popularity": 85.479,
           "poster_path": "/4ssDuvEDkSArWEdyBl2X5EHvYKU.jpg",
           "release_date": "2015-04-22",
           "title": "Avengers: Age of Ultron",
           "video": false,
           "vote_average": 7.3,
           "vote_count": 16507
          }
         ],
         "known_for_department": "Acting",
         "media_type": "person",
         "name": "Chris Hemsworth",
         "popularity": 15.48,
         "profile_path": "/oSGVmWhn4WT4TI4PCiQrpym6LfW.jpg"
        },
        {
         "adult": false,
         "gender": 1,
         "id": 38280,
         "known_for": [
          {
           "adult": false,
           "backdrop_path": "/sMEni1oAuBlToW53M3xOjntF1LO.jpg",
           "genre_ids": [
            28,
            80,
            53
           ],
           "id": 201088,
           "media_type": "movie",
           "original_language": "en",
           "original_title": "Blackhat",
           "overview": "A man is released from prison to help American and Chinese authorities pursue a mysterious cyber criminal. The dangerous search leads them from Chicago to Hong Kong.",
           "popularity": 32.871,
           "poster_path": "/6KGxFPcGcyYnN4ct96nmYoabLZ6.jpg",
           "release_date": "2015-01-13",
           "title": "Blackhat",
           "video": false,
           "vote_average": 5.4,
           "vote_count": 1368
          },
          {
           "adult": false,
           "backdrop_path": "/rHevz8ViXjaFQdVJykN0SUCwYtu.jpg",
           "genre_ids": [
            28,
            18,
            53,
            10749
           ],
           "id": 4588,
           "media_type": "movie",
           "original_language": "zh",
           "original_title": "色‧戒",
           "overview": "During World War II a secret agent must seduce, then assassinate an official who works for the Japanese puppet government in Shanghai. Her mission becomes clouded when she finds herself falling in love with the man she is assigned to kill.",
           "popularity": 8.926,
           "poster_path": "/zkkkv85ljiJcIee8FNiEZdDHQMl.jpg",
           "release_date": "2007-09-28",
           "title": "Lust, Caution",
           "video": false,
           "vote_average": 7.1,
           "vote_count": 340
          },
          {
           "adult": false,
           "backdrop_path": "/2SjT4Th1Q3YBXyO4Krle5pI6wxj.jpg",
           "genre_ids": [
            12,
            35,
            14
           ],
           "id": 334298,
           "media_type": "movie",
           "original_language": "zh",
           "original_title": "捉妖记",
           "overview": "Young monster kids try to make peace between the world of humans and the world of the monsters.",
           "popularity": 18.075,
           "poster_path": "/csMASFudtPSyVEFl4qq2Sm5lflM.jpg",
           "release_date": "2015-07-16",
           "title": "Monster Hunt",
           "video": false,
           "vote_average": 6.3,
           "vote_count": 194
          }
         ],
         "known_for_department": "Acting",
         "media_type": "person",
         "name": "Tang Wei",
         "popularity": 3.165,
         "profile_path": "/pXBCiu7mVEnrnDpIRc5cyyg1wPK.jpg"
        },
        {
         "adult": false,
         "gender": 1,
         "id": 1245,
         "known_for": [
          {
           "adult": false,
           "backdrop_path": "/kwUQFeFXOOpgloMgZaadhzkbTI4.jpg",
           "genre_ids": [
            28,
            12,
            878
           ],
           "id": 24428,
           "media_type": "movie",
           "original_language": "en",
           "original_title": "The Avengers",
           "overview": "When an unexpected enemy emerges and threatens global safety and security, Nick Fury, director of the international peacekeeping agency known as S.H.I.E.L.D., finds himself in need of a team to pull the world back from the brink of disaster. Spanning the globe, a daring recruitment effort begins!",
           "popularity": 111.227,
           "poster_path": "/RYMX2wcKCBAr24UyPD7xwmjaTn.jpg",
           "release_date": "2012-04-25",
           "title": "The Avengers",
           "video": false,
           "vote_average": 7.7,
           "vote_count": 23144
          },
          {
           "adult": false,
           "backdrop_path": "/bOGkgRGdhrBYJSLpXaxhXVstddV.jpg",
           "genre_ids": [
            28,
            12,
            878
           ],
           "id": 299536,
           "media_type": "movie",
           "original_language": "en",
           "original_title": "Avengers: Infinity War",
           "overview": "As the Avengers and their allies have continued to protect the world from threats too large for any one hero to handle, a new danger has emerged from the cosmic shadows: Thanos. A despot of intergalactic infamy, his goal is to collect all six Infinity Stones, artifacts of unimaginable power, and use them to inflict his twisted will on all of reality. Everything the Avengers have fought for has led up to this moment - the fate of Earth and existence itself has never been more uncertain.",
           "popularity": 225.135,
           "poster_path": "/7WsyChQLEftFiDOVTGkv3hFpyyt.jpg",
           "release_date": "2018-04-25",
           "title": "Avengers: Infinity War",
           "video": false,
           "vote_average": 8.3,
           "vote_count": 19670
          },
          {
           "adult": false,
           "backdrop_path": "/7FWlcZq3r6525LWOcvO9kNWurN1.jpg",
           "genre_ids": [
            12,
            28,
            878
           ],
           "id": 271110,
           "media_type": "movie",
           "original_language": "en",
           "original_title": "Captain America: Civil War",
           "overview": "Following the events of Age of Ultron, the collective governments of the world pass an act designed to regulate all superhuman activity. This polarizes opinion amongst the Avengers, causing two factions to side with Iron Man or Captain America, which causes an epic battle between former allies.",
           "popularity": 84.207,
           "poster_path": "/rAGiXaUfPzY7CDEyNKUofk3Kw2e.jpg",
           "release_date": "2016-04-27",
           "title": "Captain America: Civil War",
           "video": false,
           "vote_average": 7.4,
           "vote_count": 16816
          }
         ],
         "known_for_department": "Acting",
         "media_type": "person",
         "name": "Scarlett Johansson",
         "popularity": 52.112,
         "profile_path": "/6NsMbJXRlDZuDzatN2akFdGuTvx.jpg"
        },
        {
         "adult": false,
         "gender": 1,
         "id": 99104,
         "known_for": [
          {
           "adult": false,
           "backdrop_path": null,
           "genre_ids": [],
           "id": 211311,
           "media_type": "movie",
           "original_language": "en",
           "original_title": "Emmanuelle - The Private Collection: The Art of Ecstasy",
           "overview": "",
           "popularity": 0.613,
           "poster_path": null,
           "release_date": "2003-01-11",
           "title": "Emmanuelle - The Private Collection: The Art of Ecstasy",
           "video": false,
           "vote_average": 6.2,
           "vote_count": 3
          },
          {
           "adult": false,
           "backdrop_path": null,
           "genre_ids": [
            27
           ],
           "id": 27829,
           "media_type": "movie",
           "original_language": "en",
           "original_title": "Emmanuelle vs. Dracula",
           "overview": "When a bachelorette party at Emmanuelle's house is interrupted by a mysterious loner, strange things begin to happen. The party guests start changing one by one into blood-sucking sexual predators with only Emmanuelle to tame the situation. Will she save her friends or will she fall under the spell of the Prince of Darkness?",
           "popularity": 1.505,
           "poster_path": "/v439pt89iO11ir9rvIP8vKooRRk.jpg",
           "release_date": "2004-01-01",
           "title": "Emmanuelle vs. Dracula",
           "video": false,
           "vote_average": 5.3,
           "vote_count": 3
          },
          {
           "adult": false,
           "backdrop_path": null,
           "genre_ids": [
            18,
            10749
           ],
           "id": 45668,
           "media_type": "movie",
           "original_language": "en",
           "original_title": "Private Moments",
           "overview": "Serena Scott is a late-night host on London Talk Radio. Ratings are down, and she has only two weeks to turn things around or management will switch to elevator music. It's also her 27th birthday, and three friends invite for a girls night in where they play \"Truth or Dare.\" All but one chooses \"Truth,\" and by the end of the evening, each woman's story may give Serena an idea that will save her show, her job, and her private life.",
           "popularity": 2.448,
           "poster_path": "/wj2GIOu3mZLQkiJOgKHlK8NiOIR.jpg",
           "release_date": "2005-05-12",
           "title": "Private Moments",
           "video": false,
           "vote_average": 5.3,
           "vote_count": 3
          }
         ],
         "known_for_department": "Acting",
         "media_type": "person",
         "name": "Natasja Vermeer",
         "popularity": 0.702,
         "profile_path": null
        },
        {
         "adult": false,
         "gender": 2,
         "id": 1413686,
         "known_for": [
          {
           "adult": false,
           "backdrop_path": "/iXdr34TZKUBCZiFXIEWlxQLAnWl.jpg",
           "genre_ids": [
            10751
           ],
           "id": 454687,
           "media_type": "movie",
           "original_language": "de",
           "original_title": "Benjamin Blümchen",
           "overview": "Benjamin and his best friend Otto have to deal with the shrewd Zora Zack and to reach deep into their bag of tricks to save the Newtown Zoo.",
           "popularity": 2.718,
           "poster_path": "/dTDPM8MQBbl64cGnbFq03qwEOmH.jpg",
           "release_date": "2019-08-01",
           "title": "Benjamin the Elephant",
           "video": false,
           "vote_average": 4.8,
           "vote_count": 9
          },
          {
           "backdrop_path": "/3hgifoGmX052AcNHD6IVlnXnsCO.jpg",
           "first_air_date": "2011-09-16",
           "genre_ids": [
            16
           ],
           "id": 102880,
           "media_type": "tv",
           "name": "Ruthe.de - Nachrichten",
           "origin_country": [
            "DE"
           ],
           "original_language": "de",
           "original_name": "Ruthe.de - Nachrichten",
           "overview": "",
           "popularity": 0.6,
           "poster_path": "/p8QnoNbG5A8Kv57BbjmjK8qDRsa.jpg",
           "vote_average": 9,
           "vote_count": 1
          },
          {
           "adult": false,
           "backdrop_path": null,
           "genre_ids": [
            35
           ],
           "id": 318182,
           "media_type": "movie",
           "original_language": "de",
           "original_title": "Ruthe - Shit Happens",
           "overview": "Since 2006 Ruthe produces videos for his own youtube channel.",
           "popularity": 0.6,
           "poster_path": null,
           "release_date": "2013-10-04",
           "title": "Ruthe - Shit Happens",
           "video": false,
           "vote_average": 0,
           "vote_count": 0
          }
         ],
         "known_for_department": "Acting",
         "media_type": "person",
         "name": "Ralph Ruthe",
         "popularity": 0.6,
         "profile_path": "/saTuXFyCDMklbzT5sEQwd2Bfgsh.jpg"
        }
       ],
       "total_pages": 1000,
       "total_results": 20000
      },
      "text/plain": [
       "<IPython.core.display.JSON object>"
      ]
     },
     "execution_count": 32,
     "metadata": {
      "application/json": {
       "expanded": false,
       "root": "root"
      }
     },
     "output_type": "execute_result"
    }
   ],
   "source": [
    "web = 'https://api.themoviedb.org/3/trending/person/day?api_key=6a34245d58b88fd67aac4681ebe5ea86'\n",
    "trend_res = requests.get(web)\n",
    "trend_res.status_code\n",
    "json_trend_res = trend_res.json()\n",
    "JSON_trend_res = JSON(json_trend_res)\n",
    "JSON_trend_res "
   ]
  },
  {
   "cell_type": "markdown",
   "metadata": {},
   "source": [
    "## The Solution"
   ]
  },
  {
   "cell_type": "code",
   "execution_count": 42,
   "metadata": {},
   "outputs": [
    {
     "name": "stdout",
     "output_type": "stream",
     "text": [
      "{'movieday': 'https://api.themoviedb.org/3/trending/movie/day?api_key=6a34245d58b88fd67aac4681ebe5ea86', 'tvday': 'https://api.themoviedb.org/3/trending/tv/day?api_key=6a34245d58b88fd67aac4681ebe5ea86', 'personday': 'https://api.themoviedb.org/3/trending/person/day?api_key=6a34245d58b88fd67aac4681ebe5ea86'}\n",
      "\n",
      "Status code:200\n",
      "\n",
      "Status code:200\n",
      "\n",
      "Status code:200\n",
      "{'movieday1': 'The Devil All the Time', 'movieday2': 'Mulan', 'movieday3': 'El practicante', 'movieday4': 'Antebellum', 'movieday5': 'Lost Girls and Love Hotels', 'tvday1': 'Ratched', 'tvday2': 'Raised by Wolves', 'tvday3': 'The Boys', 'tvday4': 'Jurassic World: Camp Cretaceous', 'tvday5': 'Dragon’s Dogma', 'personday1': 'Tom Hanks', 'personday2': 'Tatiana Maslany', 'personday3': 'Ian Floodgate', 'personday4': 'Henry Cavill', 'personday5': 'Leonardo DiCaprio'}\n",
      "\n",
      "trending: movieday1, name: The Devil All the Time\n",
      "\n",
      "trending: movieday2, name: Mulan\n",
      "\n",
      "trending: movieday3, name: El practicante\n",
      "\n",
      "trending: movieday4, name: Antebellum\n",
      "\n",
      "trending: movieday5, name: Lost Girls and Love Hotels\n",
      "\n",
      "trending: tvday1, name: Ratched\n",
      "\n",
      "trending: tvday2, name: Raised by Wolves\n",
      "\n",
      "trending: tvday3, name: The Boys\n",
      "\n",
      "trending: tvday4, name: Jurassic World: Camp Cretaceous\n",
      "\n",
      "trending: tvday5, name: Dragon’s Dogma\n",
      "\n",
      "trending: personday1, name: Tom Hanks\n",
      "\n",
      "trending: personday2, name: Tatiana Maslany\n",
      "\n",
      "trending: personday3, name: Ian Floodgate\n",
      "\n",
      "trending: personday4, name: Henry Cavill\n",
      "\n",
      "trending: personday5, name: Leonardo DiCaprio\n"
     ]
    }
   ],
   "source": [
    "\n",
    "#url generation function\n",
    "def url_str(genre,time):\n",
    "    '''takes two str of one of the 3 specific parameters values: ['movie','tv','person']/['day','week']\n",
    "    and returns'''\n",
    "    \n",
    "    base = 'https://api.themoviedb.org/3/trending/'\n",
    "    api_key = '6a34245d58b88fd67aac4681ebe5ea86'\n",
    "    prm = f'{genre}/{time}?api_key={api_key}'\n",
    "    return base+prm\n",
    "\n",
    "# list of values for our search\n",
    "time = ['day','week']\n",
    "search_trend = ['movie','tv','person']\n",
    "\n",
    "# creation of our url dictionary\n",
    "url_dict = dict()\n",
    "for search in search_trend:\n",
    "    #issue -2\n",
    "    url_dict[search+time[0]] = url_str(search,time[0])\n",
    "#test    \n",
    "print(url_dict)\n",
    "\n",
    "\n",
    "results = dict()\n",
    "# we loop through the url dict then we loop through the top 5 of \n",
    "for k,v in url_dict.items():\n",
    "    \n",
    "    j_trend = requests.get(v)\n",
    "    print(f'\\nStatus code:{j_trend.status_code}')\n",
    "    \n",
    "    json_trend_res = j_trend.json()\n",
    "    \n",
    "    #construction of the trending result dict\n",
    "    for num in range(5):\n",
    "        if k == search_trend[0] + time[0]:\n",
    "            results[k+str(num+1)] = json_trend_res['results'][num]['original_title']\n",
    "            \n",
    "        elif k == search_trend[1] + time[0]:\n",
    "            results[k+str(num+1)] = json_trend_res['results'][num]['name']\n",
    "            \n",
    "        elif k == search_trend[2] + time[0]:\n",
    "            results[k+str(num+1)] = json_trend_res['results'][num]['name']\n",
    "        else:\n",
    "            print('error')\n",
    "#print(results)\n",
    "for k,v in results.items():\n",
    "    print (f'\\ntrending: {k}, name: {v}')\n",
    "\n"
   ]
  },
  {
   "cell_type": "markdown",
   "metadata": {},
   "source": [
    "## design flaws and issues:\n",
    "* the repeat of variables throughout the program creates readability issues and,depending on the execution order, potentially return the worng data\n",
    "* clarity is an issue and it would be best to separate main.ipnb and learning_mods.py\n",
    "* overengineered the solution ( last question)\n",
    "* python kernel has to be restarted frequently"
   ]
  },
  {
   "cell_type": "markdown",
   "metadata": {},
   "source": [
    "# lessonds learned\n",
    "* loop through values as much as possible and only reserve manual queries for inspection prior automation.\n",
    "    * that means when looping that you should search for 'keys' and rarely for position for it may change in the future\n",
    "    * think about scalability and client\n",
    "    * modularise!\n",
    "    * have a production(show version) and a testing version\n",
    "    use the os module\n",
    "    os.environ['TMBDAPIT KEY']\n",
    "* use user input (use try/except especially with user input) Lane/atlas example\n",
    "* A power presentation with code/output may provide the structure and clarity that you need. Atlas example\n",
    "* Part 1: quick presentation. Part 2: live presentation "
   ]
  },
  {
   "cell_type": "code",
   "execution_count": null,
   "metadata": {},
   "outputs": [],
   "source": []
  }
 ],
 "metadata": {
  "kernelspec": {
   "display_name": "Python 3",
   "language": "python",
   "name": "python3"
  },
  "language_info": {
   "codemirror_mode": {
    "name": "ipython",
    "version": 3
   },
   "file_extension": ".py",
   "mimetype": "text/x-python",
   "name": "python",
   "nbconvert_exporter": "python",
   "pygments_lexer": "ipython3",
   "version": "3.8.5"
  }
 },
 "nbformat": 4,
 "nbformat_minor": 4
}
