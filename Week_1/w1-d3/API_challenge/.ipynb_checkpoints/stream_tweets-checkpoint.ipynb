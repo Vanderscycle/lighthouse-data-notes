{
 "cells": [
  {
   "cell_type": "code",
   "execution_count": 3,
   "metadata": {},
   "outputs": [],
   "source": [
    "#pip install twitter\n",
    "#pip uninstall python-twitter"
   ]
  },
  {
   "cell_type": "code",
   "execution_count": 3,
   "metadata": {},
   "outputs": [],
   "source": [
    "import twitter\n",
    "import json\n",
    "from IPython.display import JSON"
   ]
  },
  {
   "cell_type": "markdown",
   "metadata": {},
   "source": [
    "**Task:** Load the values of access tokens and keys from environmental variables to python variables"
   ]
  },
  {
   "cell_type": "code",
   "execution_count": 4,
   "metadata": {},
   "outputs": [],
   "source": [
    "consumer_key = 'lS9Sm8soUl23ArCmiXTB1B2vL'\n",
    "consumer_secret = 'XIHU8Fb0T5WnP9iIhPMFeHcjsUIwqA0RY7zvAl0kgpbEfEwWcU'\n",
    "access_token = '1306399984300949504-lEklM8nKguntBus1rJi7KgmXAa0pR1'\n",
    "access_token_secret = 'DQFepnRMm0pCU52UJzm0eozC3Iknty9ePDrncoUDVP19C'"
   ]
  },
  {
   "cell_type": "code",
   "execution_count": 5,
   "metadata": {},
   "outputs": [],
   "source": [
    "api = twitter.Api(consumer_key=consumer_key,\n",
    "                  consumer_secret=consumer_secret,\n",
    "                  access_token_key=access_token,\n",
    "                  access_token_secret=access_token_secret)"
   ]
  },
  {
   "cell_type": "code",
   "execution_count": 6,
   "metadata": {},
   "outputs": [
    {
     "name": "stdout",
     "output_type": "stream",
     "text": [
      "<class 'twitter.api.Api'>\n"
     ]
    }
   ],
   "source": [
    "# Checking the type of api object\n",
    "print(type(api))"
   ]
  },
  {
   "cell_type": "code",
   "execution_count": 7,
   "metadata": {},
   "outputs": [],
   "source": [
    "## FOLLOWING FUNCTION WILL COLLECT REAL-TIME TWEETS IN OUR COMPUTER\n",
    "\n",
    "# data returned will be for any tweet mentioning strings in the list FILTER\n",
    "tweet_filter = ['#Food']\n",
    "\n",
    "# Languages to filter tweets by is a list. This will be joined by Twitter\n",
    "# to return data mentioning tweets only in the english language.\n",
    "languages = ['en']\n",
    "\n",
    "\n",
    "def main(FILTER, LANGUAGES):\n",
    "    emojis = [':)',':(']\n",
    "    with open('output.txt', 'w') as f:\n",
    "        # api.GetStreamFilter will return a generator that yields one status\n",
    "        # message (i.e., Tweet) at a time as a JSON dictionary.\n",
    "        print('the twitter api has started \\n')\n",
    "        count = 0\n",
    "        for line in api.GetStreamFilter(track=FILTER, languages=LANGUAGES):\n",
    "            \n",
    "            print(f'tweet #{count+1}')\n",
    "            print(line['text'] + '\\n')\n",
    "            print(f'{count}')\n",
    "            for emoji in emojis:\n",
    "                if emoji in line['text']:\n",
    "                    f.write(json.dumps(line))\n",
    "                    f.write('\\n')\n",
    "                    print('Found a tweet matching your search criterias')\n",
    "                    break\n",
    "            \n",
    "            count += 1\n",
    "\n",
    "            #otherwise it goes on forever\n",
    "            if count == 20:\n",
    "                print('the twitter has api ran out of tries')\n",
    "                break\n",
    "            \n",
    "            "
   ]
  },
  {
   "cell_type": "code",
   "execution_count": 8,
   "metadata": {},
   "outputs": [
    {
     "name": "stdout",
     "output_type": "stream",
     "text": [
      "the twitter api has started \n",
      "\n",
      "tweet #1\n",
      "RT @CKarthikeshwar: #CookingDiary\n",
      "#kitchendecor\n",
      "#kitchendesign\n",
      "#food\n",
      "#foodie\n",
      "#kitchenware\n",
      "#CookFoodServeLove\n",
      "YS .TRADITIONAL COOKWARE\n",
      "POLLA…\n",
      "\n",
      "0\n",
      "tweet #2\n",
      "RT @MatsuhisaW: #matsuhisaathome order #takeout @Postmates @UberEats @Havenlust  #food #travel https://t.co/xPZWE8zNSQ\n",
      "\n",
      "1\n",
      "tweet #3\n",
      "Started the day right with granola and chia with yogurt plus decaf Hazelnut coffee! Feeling so fueled for the day!💪\n",
      "#food #health #wellness\n",
      "\n",
      "2\n",
      "tweet #4\n",
      "\"Black Sesame &amp; Fig Mini Cakes\" #food #eat #health #tastyfix https://t.co/iiDH9jJKq4\n",
      "\n",
      "3\n",
      "tweet #5\n",
      "RT @updatebody: https://t.co/Fb1wyHkD6G \n",
      "\n",
      "#For_weight_loss_food\n",
      "\n",
      "weight loss foods: Have the most weight loss with these foods\n",
      "\n",
      "Here’s a co…\n",
      "\n",
      "4\n",
      "tweet #6\n",
      "Crumble for me!😋😋🤗🤗\n",
      "\n",
      "5\n",
      "tweet #7\n",
      "Gourmet Lightroom Presets &amp; LUTs. Elevate up your photography with these food presets. They enhance the colors of v… https://t.co/4I72VlvpGp\n",
      "\n",
      "6\n",
      "tweet #8\n",
      "Do not reward yourself with #food. You are not a #dog. https://t.co/mRm9iZlVzO\n",
      "\n",
      "7\n",
      "tweet #9\n",
      "[FREE TUTORIAL] How to: Make The Piute Dead-Fall Trap &gt;&gt; https://t.co/lt3uYtMgIg #survival #survivor… https://t.co/jc1rfKdzt8\n",
      "\n",
      "8\n",
      "tweet #10\n",
      "Charles Russell leone IV is always willing to lend a hand to his friends, family or co-workers. He loves helping pe… https://t.co/QTjPmLZBPU\n",
      "\n",
      "9\n",
      "tweet #11\n",
      "Ahoy fellow #food #bloggers. Learn new ways to keep your #content up-to-date at home @https://is.gd/foodbloggingduringlockdown\n",
      "\n",
      "10\n",
      "tweet #12\n",
      "RT @MaryJoe38642126: .@dfat .\n",
      "\n",
      "#WhatsChanged Since ⬇️\n",
      "\n",
      "#AnimalsCrammed #LittleSpace2MoveAround\n",
      "#QuestionableAccess To #Food #Water\n",
      "#Standin…\n",
      "\n",
      "11\n",
      "tweet #13\n",
      "RT @MatsuhisaW: #matsuhisaathome order #takeout @Postmates @UberEats @Havenlust  #food #travel https://t.co/xPZWE8zNSQ\n",
      "\n",
      "12\n",
      "tweet #14\n",
      "Goat cheese is the star of this simple dip. #food #foodie  https://t.co/F1XIwRuaIF https://t.co/kQSVvpBlQ6\n",
      "\n",
      "13\n",
      "tweet #15\n",
      "RT @McBrideWriter: What your favorite apple dessert? \n",
      "🍎🍏🍎🍏🍎🍏🍎🍏🍎🍏\n",
      "#food #fruit #Autumn\n",
      "\n",
      "14\n",
      "tweet #16\n",
      "Did you know Broccolini® is a registered trade mark? Licenced from the Sakata Seed Corporation in Japan, innovative… https://t.co/SvoAjgpwAg\n",
      "\n",
      "15\n",
      "tweet #17\n",
      "FIRST: Apple salad with cream, walnut, pineapple, raisins, grated carrot and a touch of condensed milk instead of s… https://t.co/FIKKR62VIK\n",
      "\n",
      "16\n",
      "tweet #18\n",
      "RT @KrazySkiBunnie2: TY🚶Let's take-out Hunger ™ by making FOOD AFFORDABLE \n",
      "RT&amp;Share!  💋\n",
      "\n",
      "#FemaleFounder working hard at #food #startup with…\n",
      "\n",
      "17\n",
      "tweet #19\n",
      "📷 Home Designs  Check out more #home decor #vids #kitchen designs #kitchen  #furniture #homes #aesthetic… https://t.co/Vx2D2qKYpl\n",
      "\n",
      "18\n",
      "tweet #20\n",
      "Sunday night is the perfect time for a #pizzaparty! Craft some homemade #pizzapies for #NationalPepperoniPizzaDay a… https://t.co/hFogpxar7K\n",
      "\n",
      "19\n",
      "the twitter has api ran out of tries\n"
     ]
    }
   ],
   "source": [
    "# Execute function\n",
    "main(tweet_filter,languages)"
   ]
  },
  {
   "cell_type": "code",
   "execution_count": null,
   "metadata": {},
   "outputs": [],
   "source": []
  },
  {
   "cell_type": "markdown",
   "metadata": {},
   "source": [
    "**Task:** Edit function `main` so it can store tweets anywhere (location specified as parameter). The FILTER and LANGUAGES should be parameters as well. Test it with different values and languages."
   ]
  },
  {
   "cell_type": "markdown",
   "metadata": {},
   "source": [
    "**Task:** Create File `stream_tweets.py` that can be executed from the Terminal"
   ]
  },
  {
   "cell_type": "markdown",
   "metadata": {},
   "source": [
    "**Task:** Start storing tweets with either happy smiley (`:)`) or sad smiley (`:(`). We will use this dataset during the NLP section."
   ]
  },
  {
   "cell_type": "code",
   "execution_count": 9,
   "metadata": {},
   "outputs": [],
   "source": [
    "json_f = open('output.txt', 'r',encoding='UTF-8')\n",
    "tweet = json.load(json_f)\n",
    "json_f.close()"
   ]
  },
  {
   "cell_type": "code",
   "execution_count": null,
   "metadata": {},
   "outputs": [],
   "source": []
  },
  {
   "cell_type": "code",
   "execution_count": 10,
   "metadata": {},
   "outputs": [
    {
     "data": {
      "application/json": {
       "contributors": null,
       "coordinates": null,
       "created_at": "Sun Sep 20 19:32:56 +0000 2020",
       "entities": {
        "hashtags": [
         {
          "indices": [
           36,
           40
          ],
          "text": "ps5"
         }
        ],
        "symbols": [],
        "urls": [
         {
          "display_url": "twitter.com/i/web/status/1…",
          "expanded_url": "https://twitter.com/i/web/status/1307764702710300683",
          "indices": [
           117,
           140
          ],
          "url": "https://t.co/HRoKivqjrU"
         }
        ],
        "user_mentions": [
         {
          "id": 1345519622,
          "id_str": "1345519622",
          "indices": [
           65,
           74
          ],
          "name": "Gleam",
          "screen_name": "gleamapp"
         }
        ]
       },
       "extended_tweet": {
        "display_text_range": [
         0,
         179
        ],
        "entities": {
         "hashtags": [
          {
           "indices": [
            36,
            40
           ],
           "text": "ps5"
          }
         ],
         "symbols": [],
         "urls": [
          {
           "display_url": "wn.nr/zY9A84",
           "expanded_url": "https://wn.nr/zY9A84",
           "indices": [
            156,
            179
           ],
           "url": "https://t.co/8k0vwskM5I"
          }
         ],
         "user_mentions": [
          {
           "id": 1345519622,
           "id_str": "1345519622",
           "indices": [
            65,
            74
           ],
           "name": "Gleam",
           "screen_name": "gleamapp"
          }
         ]
        },
        "full_text": "I'm poor so... Who's ready to win a #ps5 as soon as it launches? @Gleamapp will be one of the first to give one away to a lucky gamer. Get your entries in👇 https://t.co/8k0vwskM5I"
       },
       "favorite_count": 0,
       "favorited": false,
       "filter_level": "low",
       "geo": null,
       "id": 1307764702710300700,
       "id_str": "1307764702710300683",
       "in_reply_to_screen_name": null,
       "in_reply_to_status_id": null,
       "in_reply_to_status_id_str": null,
       "in_reply_to_user_id": null,
       "in_reply_to_user_id_str": null,
       "is_quote_status": false,
       "lang": "en",
       "place": null,
       "possibly_sensitive": false,
       "quote_count": 0,
       "reply_count": 0,
       "retweet_count": 0,
       "retweeted": false,
       "source": "<a href=\"http://www.samruston.co.uk\" rel=\"nofollow\">Flamingo for Android</a>",
       "text": "I'm poor so... Who's ready to win a #ps5 as soon as it launches? @Gleamapp will be one of the first to give one awa… https://t.co/HRoKivqjrU",
       "timestamp_ms": "1600630376876",
       "truncated": true,
       "user": {
        "contributors_enabled": false,
        "created_at": "Fri Oct 01 07:52:08 +0000 2010",
        "default_profile": false,
        "default_profile_image": false,
        "description": "In the ever present fear of being something I'm not I try to establish a position in which I'm not what I am but what I shall become.\n\nMD ; ES / FR / EN",
        "favourites_count": 2797,
        "follow_request_sent": null,
        "followers_count": 329,
        "following": null,
        "friends_count": 231,
        "geo_enabled": false,
        "id": 197349134,
        "id_str": "197349134",
        "is_translator": false,
        "lang": null,
        "listed_count": 4,
        "location": "random nightmares",
        "name": "Yang Wen-li",
        "notifications": null,
        "profile_background_color": "FFFFFF",
        "profile_background_image_url": "http://abs.twimg.com/images/themes/theme3/bg.gif",
        "profile_background_image_url_https": "https://abs.twimg.com/images/themes/theme3/bg.gif",
        "profile_background_tile": true,
        "profile_banner_url": "https://pbs.twimg.com/profile_banners/197349134/1578258824",
        "profile_image_url": "http://pbs.twimg.com/profile_images/1213931154027368448/p-d9r8gm_normal.jpg",
        "profile_image_url_https": "https://pbs.twimg.com/profile_images/1213931154027368448/p-d9r8gm_normal.jpg",
        "profile_link_color": "800909",
        "profile_sidebar_border_color": "000000",
        "profile_sidebar_fill_color": "E3E2DE",
        "profile_text_color": "634047",
        "profile_use_background_image": true,
        "protected": false,
        "screen_name": "87rubidium",
        "statuses_count": 25588,
        "time_zone": null,
        "translator_type": "none",
        "url": "http://rubnduardo.blogspot.com",
        "utc_offset": null,
        "verified": false
       }
      },
      "text/plain": [
       "<IPython.core.display.JSON object>"
      ]
     },
     "execution_count": 10,
     "metadata": {
      "application/json": {
       "expanded": false,
       "root": "root"
      }
     },
     "output_type": "execute_result"
    }
   ],
   "source": [
    "JSON_res = JSON(tweet)\n",
    "JSON_res"
   ]
  },
  {
   "cell_type": "code",
   "execution_count": 45,
   "metadata": {},
   "outputs": [],
   "source": [
    "#help(twitter.api)"
   ]
  },
  {
   "cell_type": "code",
   "execution_count": null,
   "metadata": {},
   "outputs": [],
   "source": []
  }
 ],
 "metadata": {
  "kernelspec": {
   "display_name": "Python 3",
   "language": "python",
   "name": "python3"
  },
  "language_info": {
   "codemirror_mode": {
    "name": "ipython",
    "version": 3
   },
   "file_extension": ".py",
   "mimetype": "text/x-python",
   "name": "python",
   "nbconvert_exporter": "python",
   "pygments_lexer": "ipython3",
   "version": "3.8.3"
  }
 },
 "nbformat": 4,
 "nbformat_minor": 4
}
