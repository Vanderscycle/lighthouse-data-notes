{
 "cells": [
  {
   "cell_type": "code",
   "execution_count": 3,
   "metadata": {},
   "outputs": [],
   "source": [
    "#pip install twitter\n",
    "#pip uninstall python-twitter"
   ]
  },
  {
   "cell_type": "code",
   "execution_count": 1,
   "metadata": {},
   "outputs": [],
   "source": [
    "import twitter\n",
    "import json\n",
    "from IPython.display import JSON"
   ]
  },
  {
   "cell_type": "markdown",
   "metadata": {},
   "source": [
    "**Task:** Load the values of access tokens and keys from environmental variables to python variables"
   ]
  },
  {
   "cell_type": "code",
   "execution_count": 2,
   "metadata": {},
   "outputs": [],
   "source": [
    "# the keys have been changed\n",
    "consumer_key = 'lS9Sm8soUl23ArCmiXTB1B2vL'\n",
    "consumer_secret = 'XIHU8Fb0T5WnP9iIhPMFeHcjsUIwqA0RY7zvAl0kgpbEfEwWcU'\n",
    "access_token = '1306399984300949504-lEklM8nKguntBus1rJi7KgmXAa0pR1'\n",
    "access_token_secret = 'DQFepnRMm0pCU52UJzm0eozC3Iknty9ePDrncoUDVP19C'"
   ]
  },
  {
   "cell_type": "code",
   "execution_count": 3,
   "metadata": {},
   "outputs": [],
   "source": [
    "api = twitter.Api(consumer_key=consumer_key,\n",
    "                  consumer_secret=consumer_secret,\n",
    "                  access_token_key=access_token,\n",
    "                  access_token_secret=access_token_secret)"
   ]
  },
  {
   "cell_type": "code",
   "execution_count": 4,
   "metadata": {},
   "outputs": [
    {
     "name": "stdout",
     "output_type": "stream",
     "text": [
      "<class 'twitter.api.Api'>\n"
     ]
    }
   ],
   "source": [
    "# Checking the type of api object\n",
    "print(type(api))"
   ]
  },
  {
   "cell_type": "code",
   "execution_count": 7,
   "metadata": {},
   "outputs": [],
   "source": [
    "## FOLLOWING FUNCTION WILL COLLECT REAL-TIME TWEETS IN OUR COMPUTER\n",
    "\n",
    "# data returned will be for any tweet mentioning strings in the list FILTER\n",
    "tweet_filter = ['#RBG']\n",
    "\n",
    "# Languages to filter tweets by is a list. This will be joined by Twitter\n",
    "# to return data mentioning tweets only in the english language.\n",
    "languages = ['en']\n",
    "\n",
    "\n",
    "def main(FILTER, LANGUAGES):\n",
    "    emojis = [':)',':(']\n",
    "    with open('output.txt', 'w') as f:\n",
    "        # api.GetStreamFilter will return a generator that yields one status\n",
    "        # message (i.e., Tweet) at a time as a JSON dictionary.\n",
    "        print('the twitter api has started \\n')\n",
    "        count = 0\n",
    "        for line in api.GetStreamFilter(track=FILTER, languages=LANGUAGES):\n",
    "            \n",
    "            print(f'tweet #{count+1}')\n",
    "            print(line['text'] + '\\n')\n",
    "            print(f'{count}')\n",
    "            for emoji in emojis:\n",
    "                if emoji in line['text']:\n",
    "                    f.write(json.dumps(line))\n",
    "                    f.write('\\n')\n",
    "                    print('Found a tweet matching your search criterias')\n",
    "                    break\n",
    "            \n",
    "            count += 1\n",
    "\n",
    "            #otherwise it goes on forever\n",
    "            if count == 20:\n",
    "                print('the twitter has api ran out of tries')\n",
    "                break\n",
    "            \n",
    "            "
   ]
  },
  {
   "cell_type": "code",
   "execution_count": 8,
   "metadata": {},
   "outputs": [
    {
     "name": "stdout",
     "output_type": "stream",
     "text": [
      "the twitter api has started \n",
      "\n",
      "tweet #1\n",
      "RT @BetteMidler: #RBG has knocked #Covid out of the news.  BUT YOU KNOW, AND I KNOW, SHE WANTS YOU TO REMEMBER 200,000 ARE DEAD!   She also…\n",
      "\n",
      "0\n",
      "tweet #2\n",
      "RT @VERBAL_CHANCLA: Who cries like this for strangers? These people are scary unstable.\n",
      "\n",
      "1\n",
      "tweet #3\n",
      "RT @s_back2luv: It really is! We will not let her down 👑\n",
      "\n",
      "2\n",
      "tweet #4\n",
      "y’all rate my aesthetics\n",
      "\n",
      "widgets and custom app icons on iOS 14 home screen is life\n",
      "\n",
      "#Pinterest #blues #rbg… https://t.co/8LpdBWchQ1\n",
      "\n",
      "3\n",
      "tweet #5\n",
      "RT @AZKAYTE: @thehill So you believe the liberal family of a liberal justice that this was her dying wish?  LOL!!!  GIMME A BREAK.\n",
      "\n",
      "The Con…\n",
      "\n",
      "4\n",
      "tweet #6\n",
      "RT @sfpelosi: .@SenateGOP can announce a Supreme Court Justice vote less than 24 hours after #RBG’s death but refuse to bring up a vote on…\n",
      "\n",
      "5\n",
      "tweet #7\n",
      "RT @Jewel4Trump: 👋🏼Buh Bye #TikTok🇨🇳#China Spy App\n",
      "\n",
      "🤣Made you all a VIDEO tribute to the late #RBG &amp; TikTok\n",
      "\n",
      "📽I collected MANY #TDS #RBGRev…\n",
      "\n",
      "6\n",
      "tweet #8\n",
      "RT @tribelaw: With the Senate split 53-47, we need just 4 Republicans to preserve our ability as voters to decide who should fill #RBG’s se…\n",
      "\n",
      "7\n",
      "tweet #9\n",
      "RT @NOLAlatinx: Easy online letter writing campaign to tell your Senators to respect #RBG last wished and to not be a bunch of hypocrites.…\n",
      "\n",
      "8\n",
      "tweet #10\n",
      "RT @LRPow79: 2day I celebrate\n",
      "#RBG👩🏻‍⚖️\n",
      "A warrior who fought\n",
      "4 equality\n",
      "&amp; what better way\n",
      "Than support\n",
      "Humanity\n",
      "Decency\n",
      "&amp; 4 ALL people\n",
      "2 be…\n",
      "\n",
      "9\n",
      "tweet #11\n",
      "RT @ANUPolicyHub: Tune in to @ABCthedrum tonight (6pm &amp; 9pm) to hear @Dr_JenHunt Hunt, #ANUexpert on #disinformation campaigns, discussing…\n",
      "\n",
      "10\n",
      "tweet #12\n",
      "RT @AngelWallace777: Nothing about s by chance https://t.co/X9cJYGBbdw\n",
      "\n",
      "11\n",
      "tweet #13\n",
      "At first I was like\"Trump should wait to fill the seat\" - Then I saw all the blue checks vowing to \"burn it all dow… https://t.co/JQT1oXEhZ9\n",
      "\n",
      "12\n",
      "tweet #14\n",
      "When I get sad about badass female Supreme Court Justices dying, I put on dark eyeliner and write poems. #emo… https://t.co/cqSZKwlU5U\n",
      "\n",
      "13\n",
      "tweet #15\n",
      "RT @warrenleightTV: Americans have now donated over $125 million to ActBlue in the two days since RBG’s passing.  We are angry, motivated,…\n",
      "\n",
      "14\n",
      "tweet #16\n",
      "RT @AlexandraChalup: Flowers, cards, signs, and candles continue to pour in as a constant stream of grateful visitors pay their respects to…\n",
      "\n",
      "15\n",
      "tweet #17\n",
      "RT @AlexandraChalup: Flowers, cards, signs, and candles continue to pour in as a constant stream of grateful visitors pay their respects to…\n",
      "\n",
      "16\n",
      "tweet #18\n",
      "RT @zzxyxy: We need to replace selfish #RBG sit with a real #Conservative judge that will #BitchSlap Chief Justice #JohnRoberts when he get…\n",
      "\n",
      "17\n",
      "tweet #19\n",
      "RT @McFaul: One of my favorite #RBG lines: \"In every good marriage, it helps sometimes to be a little deaf.\"\n",
      "\n",
      "18\n",
      "tweet #20\n",
      "RT @PaulaCobia: The Fearless Girl in NYC sporting a dissent collar in honor and memory of #RBG.\n",
      "\n",
      "#RBGRevolution https://t.co/e5kk1YboAx\n",
      "\n",
      "19\n",
      "the twitter has api ran out of tries\n"
     ]
    }
   ],
   "source": [
    "# Execute function\n",
    "main(tweet_filter,languages)"
   ]
  },
  {
   "cell_type": "code",
   "execution_count": null,
   "metadata": {},
   "outputs": [],
   "source": []
  },
  {
   "cell_type": "markdown",
   "metadata": {},
   "source": [
    "**Task:** Edit function `main` so it can store tweets anywhere (location specified as parameter). The FILTER and LANGUAGES should be parameters as well. Test it with different values and languages."
   ]
  },
  {
   "cell_type": "markdown",
   "metadata": {},
   "source": [
    "**Task:** Create File `stream_tweets.py` that can be executed from the Terminal"
   ]
  },
  {
   "cell_type": "markdown",
   "metadata": {},
   "source": [
    "**Task:** Start storing tweets with either happy smiley (`:)`) or sad smiley (`:(`). We will use this dataset during the NLP section."
   ]
  },
  {
   "cell_type": "code",
   "execution_count": 9,
   "metadata": {},
   "outputs": [],
   "source": [
    "json_f = open('output.txt', 'r',encoding='UTF-8')\n",
    "tweet = json.load(json_f)\n",
    "json_f.close()"
   ]
  },
  {
   "cell_type": "code",
   "execution_count": null,
   "metadata": {},
   "outputs": [],
   "source": []
  },
  {
   "cell_type": "code",
   "execution_count": 10,
   "metadata": {},
   "outputs": [
    {
     "data": {
      "application/json": {
       "contributors": null,
       "coordinates": null,
       "created_at": "Sun Sep 20 19:32:56 +0000 2020",
       "entities": {
        "hashtags": [
         {
          "indices": [
           36,
           40
          ],
          "text": "ps5"
         }
        ],
        "symbols": [],
        "urls": [
         {
          "display_url": "twitter.com/i/web/status/1…",
          "expanded_url": "https://twitter.com/i/web/status/1307764702710300683",
          "indices": [
           117,
           140
          ],
          "url": "https://t.co/HRoKivqjrU"
         }
        ],
        "user_mentions": [
         {
          "id": 1345519622,
          "id_str": "1345519622",
          "indices": [
           65,
           74
          ],
          "name": "Gleam",
          "screen_name": "gleamapp"
         }
        ]
       },
       "extended_tweet": {
        "display_text_range": [
         0,
         179
        ],
        "entities": {
         "hashtags": [
          {
           "indices": [
            36,
            40
           ],
           "text": "ps5"
          }
         ],
         "symbols": [],
         "urls": [
          {
           "display_url": "wn.nr/zY9A84",
           "expanded_url": "https://wn.nr/zY9A84",
           "indices": [
            156,
            179
           ],
           "url": "https://t.co/8k0vwskM5I"
          }
         ],
         "user_mentions": [
          {
           "id": 1345519622,
           "id_str": "1345519622",
           "indices": [
            65,
            74
           ],
           "name": "Gleam",
           "screen_name": "gleamapp"
          }
         ]
        },
        "full_text": "I'm poor so... Who's ready to win a #ps5 as soon as it launches? @Gleamapp will be one of the first to give one away to a lucky gamer. Get your entries in👇 https://t.co/8k0vwskM5I"
       },
       "favorite_count": 0,
       "favorited": false,
       "filter_level": "low",
       "geo": null,
       "id": 1307764702710300700,
       "id_str": "1307764702710300683",
       "in_reply_to_screen_name": null,
       "in_reply_to_status_id": null,
       "in_reply_to_status_id_str": null,
       "in_reply_to_user_id": null,
       "in_reply_to_user_id_str": null,
       "is_quote_status": false,
       "lang": "en",
       "place": null,
       "possibly_sensitive": false,
       "quote_count": 0,
       "reply_count": 0,
       "retweet_count": 0,
       "retweeted": false,
       "source": "<a href=\"http://www.samruston.co.uk\" rel=\"nofollow\">Flamingo for Android</a>",
       "text": "I'm poor so... Who's ready to win a #ps5 as soon as it launches? @Gleamapp will be one of the first to give one awa… https://t.co/HRoKivqjrU",
       "timestamp_ms": "1600630376876",
       "truncated": true,
       "user": {
        "contributors_enabled": false,
        "created_at": "Fri Oct 01 07:52:08 +0000 2010",
        "default_profile": false,
        "default_profile_image": false,
        "description": "In the ever present fear of being something I'm not I try to establish a position in which I'm not what I am but what I shall become.\n\nMD ; ES / FR / EN",
        "favourites_count": 2797,
        "follow_request_sent": null,
        "followers_count": 329,
        "following": null,
        "friends_count": 231,
        "geo_enabled": false,
        "id": 197349134,
        "id_str": "197349134",
        "is_translator": false,
        "lang": null,
        "listed_count": 4,
        "location": "random nightmares",
        "name": "Yang Wen-li",
        "notifications": null,
        "profile_background_color": "FFFFFF",
        "profile_background_image_url": "http://abs.twimg.com/images/themes/theme3/bg.gif",
        "profile_background_image_url_https": "https://abs.twimg.com/images/themes/theme3/bg.gif",
        "profile_background_tile": true,
        "profile_banner_url": "https://pbs.twimg.com/profile_banners/197349134/1578258824",
        "profile_image_url": "http://pbs.twimg.com/profile_images/1213931154027368448/p-d9r8gm_normal.jpg",
        "profile_image_url_https": "https://pbs.twimg.com/profile_images/1213931154027368448/p-d9r8gm_normal.jpg",
        "profile_link_color": "800909",
        "profile_sidebar_border_color": "000000",
        "profile_sidebar_fill_color": "E3E2DE",
        "profile_text_color": "634047",
        "profile_use_background_image": true,
        "protected": false,
        "screen_name": "87rubidium",
        "statuses_count": 25588,
        "time_zone": null,
        "translator_type": "none",
        "url": "http://rubnduardo.blogspot.com",
        "utc_offset": null,
        "verified": false
       }
      },
      "text/plain": [
       "<IPython.core.display.JSON object>"
      ]
     },
     "execution_count": 10,
     "metadata": {
      "application/json": {
       "expanded": false,
       "root": "root"
      }
     },
     "output_type": "execute_result"
    }
   ],
   "source": [
    "JSON_res = JSON(tweet)\n",
    "JSON_res"
   ]
  },
  {
   "cell_type": "code",
   "execution_count": 45,
   "metadata": {},
   "outputs": [],
   "source": [
    "#help(twitter.api)"
   ]
  },
  {
   "cell_type": "code",
   "execution_count": null,
   "metadata": {},
   "outputs": [],
   "source": []
  }
 ],
 "metadata": {
  "kernelspec": {
   "display_name": "Python 3",
   "language": "python",
   "name": "python3"
  },
  "language_info": {
   "codemirror_mode": {
    "name": "ipython",
    "version": 3
   },
   "file_extension": ".py",
   "mimetype": "text/x-python",
   "name": "python",
   "nbconvert_exporter": "python",
   "pygments_lexer": "ipython3",
   "version": "3.8.5"
  }
 },
 "nbformat": 4,
 "nbformat_minor": 4
}
