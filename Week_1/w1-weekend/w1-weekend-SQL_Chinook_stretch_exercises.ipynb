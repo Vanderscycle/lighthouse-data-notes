{
 "cells": [
  {
   "cell_type": "markdown",
   "metadata": {},
   "source": [
    "## We will be working with database chinook.db\n",
    "You can download it here: https://drive.google.com/file/d/0Bz9_0VdXvv9bWUtqM0NBYzhKZ3c/view?usp=sharing\n",
    "\n",
    "The\tChinook\tDatabase is\tabout an imaginary video and music store. Each track is\tstored using one of\tthe digital formats and\thas\ta genre. The store has also\tsome playlists,\twhere a single track can be\tpart of several\tplaylists. Orders are recorded\tfor\tcustomers, but are called invoices. Every customer is assigned a support employee, and Employees report to other employees."
   ]
  },
  {
   "cell_type": "code",
   "execution_count": null,
   "metadata": {},
   "outputs": [],
   "source": []
  },
  {
   "cell_type": "markdown",
   "metadata": {},
   "source": [
    "### How\tmany\taudio tracks\tin\ttotal\twere\tbought\tby\tGerman\tcustomers? And\twhat\twas\tthe\ttotal\tprice\tpaid for\tthem?\n",
    "hint: use subquery to find all of tracks with their prices"
   ]
  },
  {
   "cell_type": "code",
   "execution_count": null,
   "metadata": {},
   "outputs": [],
   "source": [
    "-- Fellow classmates got 152 and I got 38\n",
    "SELECT COUNT(t.TrackId) AS 'Total_track_bought', SUM(ii.UnitPrice *ii.Quantity) AS 'Total_spent'\n",
    "FROM tracks t\n",
    "LEFT JOIN invoice_items ii\n",
    "    ON t.TrackId = ii.TrackId\n",
    "LEFT JOIN invoices i\n",
    "    ON i.InvoiceId = ii.InvoiceId\n",
    "LEFT JOIN customers c\n",
    "    ON i.CustomerId = c.CustomerId \n",
    "WHERE t.MediaTypeId != 3 AND i.CustomerId = (SELECT CustomerId \n",
    "FROM customers\n",
    "WHERE Country = 'Germany')"
   ]
  },
  {
   "cell_type": "markdown",
   "metadata": {},
   "source": [
    "### What\tis\tthe\tspace,\tin\tbytes,\toccupied\tby\tthe\tplaylist\t“Grunge”,\tand\thow\tmuch\twould\tit\tcost?\n",
    "(Assume\tthat\tthe\tcost\tof\ta\tplaylist\tis\tthe\tsum\tof\tthe\tprice\tof\tits\tconstituent\ttracks)."
   ]
  },
  {
   "cell_type": "code",
   "execution_count": null,
   "metadata": {},
   "outputs": [],
   "source": [
    "/*What is the space, in bytes, occupied by the playlist \"Grunge\", \n",
    "and how much would it cost?\n",
    "(Assume that the cost of a playlist is the sum of the price of its constituent tracks).\n",
    "REQ tables:\n",
    "*/\n",
    "\n",
    "SELECT \n",
    "    SUM(t.bytes) AS 'Total_size_bytes' , \n",
    "    SUM(t.UnitPrice) AS 'Total_playlist_cost'\n",
    "FROM playlists p \n",
    "LEFT JOIN playlist_track pt\n",
    "    ON p.PlaylistId = pt.PlaylistId\n",
    "LEFT JOIN tracks t\n",
    "    ON pt.TrackId = t.TrackId\n",
    "WHERE p.Name='Grunge'"
   ]
  },
  {
   "cell_type": "markdown",
   "metadata": {},
   "source": [
    "Because I wasn't sure of the amount of tracks were in the playlist ID I ran the following querry. Since it runs very similarly to my previous methods it is possible that I am repeating my "
   ]
  },
  {
   "cell_type": "code",
   "execution_count": 1,
   "metadata": {},
   "outputs": [
    {
     "ename": "SyntaxError",
     "evalue": "invalid syntax (<ipython-input-1-97b462f678ee>, line 1)",
     "output_type": "error",
     "traceback": [
      "\u001b[1;36m  File \u001b[1;32m\"<ipython-input-1-97b462f678ee>\"\u001b[1;36m, line \u001b[1;32m1\u001b[0m\n\u001b[1;33m    SELECT *\u001b[0m\n\u001b[1;37m            ^\u001b[0m\n\u001b[1;31mSyntaxError\u001b[0m\u001b[1;31m:\u001b[0m invalid syntax\n"
     ]
    }
   ],
   "source": [
    "SELECT *\n",
    "FROM playlists p\n",
    "LEFT JOIN playlist_track pt\n",
    "    ON p.PlaylistId = pt.PlaylistId\n",
    "LEFT JOIN tracks t\n",
    "    ON pt.TrackId = t.TrackId\n",
    "WHERE p.PlayListId = 16"
   ]
  },
  {
   "cell_type": "markdown",
   "metadata": {},
   "source": [
    "### List\tthe\tnames\tand\tthe\tcountries\tof\tthose\tcustomers\twho\tare\tsupported\tby\tan\temployee\twho\twas\tyounger\tthan\t35\twhen\thired. "
   ]
  },
  {
   "cell_type": "code",
   "execution_count": null,
   "metadata": {},
   "outputs": [],
   "source": [
    "/**List the names and the countries of those customers who are supported by an\n",
    " employee who was younger than 35 when hired.*/\n",
    " \n",
    "SELECT c.FirstName, C.LastName, c.Country\n",
    "FROM customers c\n",
    "WHERE SupportRepId IN ( \n",
    "    SELECT DISTINCT EmployeeId\n",
    "    FROM employees\n",
    "    WHERE HireDate - BirthDate < 35)"
   ]
  }
 ],
 "metadata": {
  "kernelspec": {
   "display_name": "Python 3",
   "language": "python",
   "name": "python3"
  },
  "language_info": {
   "codemirror_mode": {
    "name": "ipython",
    "version": 3
   },
   "file_extension": ".py",
   "mimetype": "text/x-python",
   "name": "python",
   "nbconvert_exporter": "python",
   "pygments_lexer": "ipython3",
   "version": "3.8.5"
  }
 },
 "nbformat": 4,
 "nbformat_minor": 4
}
