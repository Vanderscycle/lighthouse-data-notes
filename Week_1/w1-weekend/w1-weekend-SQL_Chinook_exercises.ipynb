{
 "cells": [
  {
   "cell_type": "markdown",
   "metadata": {},
   "source": [
    "## We will be working with database chinook.db\n",
    "You can download it here: https://drive.google.com/file/d/0Bz9_0VdXvv9bWUtqM0NBYzhKZ3c/view?usp=sharing\n",
    "\n",
    "The\tChinook\tDatabase is\tabout an imaginary video and music store. Each track is\tstored using one of\tthe digital formats and\thas\ta genre. The store has also\tsome playlists,\twhere a single track can be\tpart of several\tplaylists. Orders are recorded\tfor\tcustomers, but are called invoices. Every customer is assigned a support employee, and Employees report to other employees."
   ]
  },
  {
   "cell_type": "code",
   "execution_count": null,
   "metadata": {},
   "outputs": [],
   "source": []
  },
  {
   "cell_type": "code",
   "execution_count": null,
   "metadata": {},
   "outputs": [],
   "source": []
  },
  {
   "cell_type": "markdown",
   "metadata": {},
   "source": [
    "### Which\tartists\tdid\tnot\tmake\tany\talbums\tat\tall?\tInclude\ttheir\tnames\tin your\tanswer."
   ]
  },
  {
   "cell_type": "code",
   "execution_count": null,
   "metadata": {},
   "outputs": [],
   "source": [
    "SELECT a.Name\n",
    "FROM artists a\n",
    "LEFT JOIN albums al\n",
    "    ON a.ArtistID = al.Artistid\n",
    "WHERE al.Title IS NULL\n",
    "GROUP BY a.ArtistID"
   ]
  },
  {
   "cell_type": "markdown",
   "metadata": {},
   "source": [
    "### Which\tartists\trecorded\tany\ttracks\tof\tthe\tLatin\tgenre?"
   ]
  },
  {
   "cell_type": "code",
   "execution_count": null,
   "metadata": {},
   "outputs": [],
   "source": [
    "SELECT DISTINCT ar.Name\n",
    "FROM artists ar\n",
    "LEFT JOIN albums al\n",
    "    ON ar.ArtistID = al.Artistid\n",
    "LEFT JOIN tracks tr\n",
    "    ON al.AlbumId = tr.AlbumId\n",
    "LEFT JOIN genres g\n",
    "    ON g.GenreId = tr.GenreId\n",
    "WHERE g.Name LIKE '%Latin%'\n",
    "GROUP BY ar.Name"
   ]
  },
  {
   "cell_type": "markdown",
   "metadata": {},
   "source": [
    "### Which\tvideo track\thas\tthe\tlongest\tlength?"
   ]
  },
  {
   "cell_type": "code",
   "execution_count": null,
   "metadata": {},
   "outputs": [],
   "source": [
    "-- Which video track has the longest length?\n",
    "SELECT *\n",
    "FROM tracks tr\n",
    "  LEFT JOIN media_types mt ON tr.MediaTypeId = mt.MediaTypeId\n",
    "WHERE tr.MediaTypeId = 3\n",
    "ORDER BY tr.Milliseconds DESC \n",
    "LIMIT 1 --  OFFSET 1;\n"
   ]
  },
  {
   "cell_type": "markdown",
   "metadata": {},
   "source": [
    "### Find\tthe\tnames\tof\tcustomers\twho\tlive\tin\tthe\tsame\tcity\tas\tthe\ttop\temployee\t(The\tone\tnot\tmanaged\tby\tanyone)."
   ]
  },
  {
   "cell_type": "code",
   "execution_count": null,
   "metadata": {},
   "outputs": [],
   "source": [
    "/* Find the names of customers who live in the same city as the top employee (The one not managed by anyone).\n",
    "reports to \n",
    "TABLE needed customers/employees\n",
    "*/\n",
    "\n",
    "SELECT c.FirstName,c.LastName \n",
    "FROM customers c\n",
    "WHERE City = ( \n",
    "    SELECT City \n",
    "    FROM employees\n",
    "    WHERE ReportsTo is NULL )\n"
   ]
  },
  {
   "cell_type": "markdown",
   "metadata": {},
   "source": [
    "### Find\tthe\tmanagers of\temployees\tsupporting\tBrazilian\tcustomers."
   ]
  },
  {
   "cell_type": "code",
   "execution_count": null,
   "metadata": {},
   "outputs": [],
   "source": [
    "-- returns nothing...not quite sure why\n",
    "SELECT *\n",
    "FROM employees\n",
    "WHERE Title LIKE '%Manager%' \n",
    "    AND EmployeeId = (\n",
    "        SELECT DISTINCT SupportRepId\n",
    "        FROM customers\n",
    "        WHERE Country = 'Brazil')"
   ]
  },
  {
   "cell_type": "markdown",
   "metadata": {},
   "source": [
    "### Which\tplaylists\thave\tno\tLatin\ttracks?"
   ]
  },
  {
   "cell_type": "code",
   "execution_count": null,
   "metadata": {},
   "outputs": [],
   "source": [
    "/* Which playlists have no Latin tracks?\n",
    "Tables: playlists,playlist track,tracks,genres */\n",
    "SELECT p.PlaylistId, p.Name -- DISTINCT\n",
    "FROM playlists p\n",
    "LEFT JOIN playlist_track pt\n",
    "    ON p.PlaylistId = pt.PlaylistId\n",
    "LEFT JOIN tracks t\n",
    "    ON pt.TrackId = t.TrackId\n",
    "LEFT JOIN genres g\n",
    "    ON t.GenreId = g.GenreId\n",
    "WHERE NOT g.Name = 'Latin'"
   ]
  }
 ],
 "metadata": {
  "kernelspec": {
   "display_name": "Python 3",
   "language": "python",
   "name": "python3"
  },
  "language_info": {
   "codemirror_mode": {
    "name": "ipython",
    "version": 3
   },
   "file_extension": ".py",
   "mimetype": "text/x-python",
   "name": "python",
   "nbconvert_exporter": "python",
   "pygments_lexer": "ipython3",
   "version": "3.8.5"
  }
 },
 "nbformat": 4,
 "nbformat_minor": 4
}
