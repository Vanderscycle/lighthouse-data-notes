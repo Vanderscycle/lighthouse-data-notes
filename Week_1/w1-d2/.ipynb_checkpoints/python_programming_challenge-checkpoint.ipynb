{
 "cells": [
  {
   "cell_type": "markdown",
   "metadata": {},
   "source": [
    "## Poker Hand\n",
    "\n",
    "In this challenge, we have to find out which kind of Poker combination is present in a deck of 5 cards.Every card is a string containing the card value (with the upper-case initial for face-cards) and the lower-case initial for suits, as in the examples below:\n",
    "\n",
    "> \"Ah\" ➞ Ace of hearts <br>\n",
    "> \"Ks\" ➞ King of spades<br>\n",
    "> \"3d\" ➞ Three of diamonds<br>\n",
    "> \"Qc\" ➞ Queen of clubs <br>\n",
    "\n",
    "There are 10 different combinations. Here's the list, in decreasing order of importance:"
   ]
  },
  {
   "cell_type": "markdown",
   "metadata": {},
   "source": [
    "| Name            | Description                                         |\n",
    "|-----------------|-----------------------------------------------------|\n",
    "| Royal Flush     | A, K, Q, J, 10, all with the same suit.             |\n",
    "| Straight Flush  | Five cards in sequence, all with the same suit.     |\n",
    "| Four of a Kind  | Four cards of the same rank.                        |\n",
    "| Full House      | Three of a Kind with a Pair.                        |\n",
    "| Flush           | Any five cards of the same suit, not in sequence    |\n",
    "| Straight        | Five cards in a sequence, but not of the same suit. |\n",
    "| Three of a Kind | Three cards of the same rank.                       |\n",
    "| Two Pair        | Two different Pairs.                                |\n",
    "| Pair            | Two cards of the same rank.                         |\n",
    "| High Card       | No other valid combination.                         |"
   ]
  },
  {
   "cell_type": "markdown",
   "metadata": {},
   "source": [
    "### 1. Given a list `hand` containing five strings being the cards, implement a function `poker_hand_ranking` that returns a string with the name of the **highest** combination obtained, accordingly to the table above.\n",
    "\n",
    "#### Examples\n",
    "\n",
    "> poker_hand_ranking([\"10h\", \"Jh\", \"Qh\", \"Ah\", \"Kh\"]) ➞ \"Royal Flush\"<br>\n",
    "> poker_hand_ranking([\"3h\", \"5h\", \"Qs\", \"9h\", \"Ad\"]) ➞ \"High Card\"<br>\n",
    "> poker_hand_ranking([\"10s\", \"10c\", \"8d\", \"10d\", \"10h\"]) ➞ \"Four of a Kind\"<br>"
   ]
  },
  {
   "cell_type": "code",
   "execution_count": 36,
   "metadata": {},
   "outputs": [
    {
     "name": "stdout",
     "output_type": "stream",
     "text": [
      "give a deck testing\n",
      "['Ac', 'Kc', 'Qc', 'Jc', '10c', '9c', '8c', '7c', '6c', '5c', '4c', '3c', '2c', '1c', 'Ad', 'Kd', 'Qd', 'Jd', '10d', '9d', '8d', '7d', '6d', '5d', '4d', '3d', '2d', '1d', 'As', 'Ks', 'Qs', 'Js', '10s', '9s', '8s', '7s', '6s', '5s', '4s', '3s', '2s', '1s', 'Ah', 'Kh', 'Qh', 'Jh', '10h', '9h', '8h', '7h', '6h', '5h', '4h', '3h', '2h', '1h']\n",
      "card point testing\n",
      "[10, 10, 10, 10, 8]\n",
      "royal flush testing\n",
      "False\n",
      "False\n",
      "straight flush testing\n",
      "Straight Flush\n",
      "Straight Flush\n",
      "False\n",
      "testing flush\n",
      "False\n",
      "Flush\n",
      "testing straight\n",
      "straight\n",
      "False\n",
      "testing four of kind\n",
      "Four of a Kind\n",
      "Full House\n",
      "Three of a Kind\n",
      "Two Pair\n",
      "High Card\n",
      "test\n"
     ]
    },
    {
     "data": {
      "text/plain": [
       "'Four of a Kind'"
      ]
     },
     "execution_count": 36,
     "metadata": {},
     "output_type": "execute_result"
    }
   ],
   "source": [
    "from collections import Counter\n",
    "\n",
    "#hand used\n",
    "# should almost write a testing fuction\n",
    "hand_no1 = [\"10s\", \"10c\", \"8d\", \"10d\", \"10h\"] # 4 of a kind\n",
    "hand_no2 = [\"10s\", \"10c\", \"8d\", \"Jd\", \"10h\"] # three of a kind\n",
    "hand_no3 = [\"10s\", \"10c\", \"8d\", \"8h\", \"10h\"] #full house\n",
    "hand_no4 = [\"Js\", \"Jc\", \"8d\", \"8h\", \"10h\"] # 2 pairs\n",
    "hand_no5 = ['5s', '4s', '3s', '2s', \"10h\"] # high card\n",
    "hand_no6 = ['8c', '7h', '6d', '5d', '4c'] # straight\n",
    "hand_no7 = ['8c', '10d', 'Qc', 'Jc', '9c'] # straight\n",
    "rf = ['Ac', 'Kc', 'Qc', '10c','Jc']\n",
    "sf = ['6s', '5s', '4s', '3s', '2s']\n",
    "sf2 = ['6s', '5s', '4s', '3s', '2s']\n",
    "\n",
    "testing_hand = { \"4 of a kind\" : [\"10s\", \"10c\", \"8d\", \"10d\", \"10h\"], \n",
    "                \"Three of a kind\" : [\"10s\", \"10c\", \"8d\", \"Jd\", \"10h\"],\n",
    "                \"Full House\" : [\"10s\", \"10c\", \"8d\", \"8h\", \"10h\"],\n",
    "                \"2 pairs\" : [\"Js\", \"Jc\", \"8d\", \"8h\", \"10h\"],\n",
    "                \"high card\" : ['5s', '4s', '3s', '2s', \"10h\"] ,\n",
    "                \"straight\" : ['8c', '7h', '6d', '5d', '4c'],\n",
    "                \"straight\" :['8c', '7c', 'Qc', 'Jc', '9c'],\n",
    "                \"Royal Flush\":['Ac', 'Kc', 'Qc', 'Jc', '10c'],\n",
    "                \"Straight Flush\":['6s', '5s', '4s', '3s', '2s'],\n",
    "                \"Straight Flush2\":['Qh', 'Jh', '10h', '9h', '8h']}\n",
    "\n",
    "def give_a_deck():\n",
    "    \"\"\" Creates a full deck of card and return it in a list. e.g. 3c is for 3 of clubs\"\"\"\n",
    "    bl_cards = ['A','K','Q','J','10','9','8','7','6','5','4','3','2','1']\n",
    "    bl_cards.reverse()\n",
    "    heart_cards = [card + 'h' for card in bl_cards]\n",
    "    spade_cards = [card + 's' for card in bl_cards]\n",
    "    diamond_cards = [card + 'd' for card in bl_cards]\n",
    "    club_cards = [card + 'c' for card in bl_cards]\n",
    "    full_deck = heart_cards + spade_cards + diamond_cards + club_cards\n",
    "    return full_deck\n",
    "#tests\n",
    "print('give a deck testing')\n",
    "x = give_a_deck()\n",
    "x.reverse()\n",
    "print(x)\n",
    "\n",
    "\n",
    "def give_a_weigthed_deck():\n",
    "    \"\"\" creates a dictionary where each cards are the keys (e.g. 7d/Jh) have their values (7/11). An ace has the value of 14 \"\"\"\n",
    "    variety = {'heart_cards':'h','spade_cards':'s','diamond_cards':'d','club_cards':'c'}\n",
    "    bl_cards = ['A','K','Q','J','10','9','8','7','6','5','4','3','2','1']\n",
    "    bl_cards.reverse()\n",
    "\n",
    "    weighted_deck = dict()\n",
    "\n",
    "    for k,v in variety.items():\n",
    "        weight = 1\n",
    "        for card in bl_cards:\n",
    "            proper_card = card + v\n",
    "            weighted_deck[proper_card] = weight\n",
    "            weight += 1\n",
    "    return weighted_deck    \n",
    "playing_deck = give_a_weigthed_deck()\n",
    "\n",
    "\n",
    "def card_point(hand):\n",
    "    \"\"\" takes a list of 5 cards and returns its values from the give_a_weigthed_deck() function,\n",
    "    and returns a reversly sorted list.\n",
    "    \n",
    "    e.g. \n",
    "     [\"10s\", \"10c\", \"8d\", \"10d\", \"10h\"] -> [10, 10, 10, 10, 8]]\n",
    "    \"\"\"\n",
    "    num_hand = list()\n",
    "    \n",
    "    for card in hand:\n",
    "        num_hand.append(playing_deck[card])\n",
    "    num_hand.sort(reverse=True)\n",
    "    \n",
    "    return num_hand\n",
    "\n",
    "#tests\n",
    "print('card point testing')\n",
    "test = card_point(hand_no1)\n",
    "print(test)\n",
    "\n",
    "#####\n",
    "# DOES NOT WORK IF CARDS ARE NOT IN THE ORDER GIVEN IN THE SET\n",
    "def royal_flush(hand):\n",
    "    \"\"\" takes a list of 5 cards, convert it to a tuple and check if it is part of the set called royal flush\"\"\"\n",
    "    royal_flush_set = {('Ac', 'Kc', 'Qc', 'Jc', '10c'),\n",
    "                       ('Ad', 'Kd', 'Qd', 'Jd', '10d'),\n",
    "                       ('As', 'Ks', 'Qs', 'Js', '10s'),\n",
    "                       ('Ah', 'Kh', 'Qh', 'Jh', '10h')}\n",
    "    \n",
    "    \n",
    "    if tuple(hand) in royal_flush_set:\n",
    "        return 'Royal Flush'\n",
    "    else:\n",
    "        return False\n",
    "    \n",
    "# testing\n",
    "print('royal flush testing')\n",
    "print(royal_flush(hand_no1))\n",
    "print(royal_flush(rf))\n",
    "\n",
    "\n",
    "def straight_flush(hand):\n",
    "    \"\"\" takes a list of 5 cards and check if all cards are of the same suit and follows each others\"\"\"\n",
    "    '''\n",
    "    hand.sort(reverse=True)\n",
    "    print(hand)\n",
    "    # just sort the dict\n",
    "    '''\n",
    "    # help from:\n",
    "    # https://stackoverflow.com/questions/4843158/check-if-a-python-list-item-contains-a-string-inside-another-string\n",
    "    # https://www.geeksforgeeks.org/python-check-if-list-contains-consecutive-numbers/\n",
    "    \n",
    "    w_hand = card_point(hand)\n",
    "\n",
    "    if sorted(w_hand) == list(range(min(w_hand), max(w_hand)+1)): \n",
    "        # in this case the cards follow each others but may not be of the same suit \n",
    "        \n",
    "        matching_suit = hand[0][1] #the suit type is always one letter after the nums\n",
    "        matching = [s for s in hand if matching_suit in s]\n",
    "        if len(matching) == 5:\n",
    "            return 'Straight Flush'\n",
    "        \n",
    "    else:\n",
    "        # the cards do not follow each others hence can't be a straight flush\n",
    "        return False\n",
    "            \n",
    "    print(w_hand)\n",
    "    \n",
    "    return\n",
    "\n",
    "# testing\n",
    "print('straight flush testing')\n",
    "print(straight_flush(sf))\n",
    "print(straight_flush(sf2 ))\n",
    "print(straight_flush(hand_no2))\n",
    "\n",
    "#Flush \tAny five cards of the same suit, not in sequence\n",
    "# Straight \tFive cards in a sequence, but not of the same suit.\n",
    "def flush(hand):\n",
    "    ''' takes a list of 5 strings (cards) and determine if all cards are of the same suit \n",
    "    return Flush or False\n",
    "    '''\n",
    "    matching_suit = hand[0][1] #the suit type is always one letter after the nums\n",
    "    matching = [s for s in hand if matching_suit in s]\n",
    "    if len(matching) == 5:\n",
    "        return 'Flush'\n",
    "    else:\n",
    "        return False\n",
    "print('testing flush')\n",
    "print(flush(hand_no7))\n",
    "print(flush(['2d', '7d', '6d', 'Jd', '4d']))\n",
    "\n",
    "def straight(hand):\n",
    "    ''' takes a list of 5 strings (cards) and determine if all cards are of the same sequence \n",
    "    return Straight or False\n",
    "    '''\n",
    "    w_hand = card_point(hand)\n",
    "    if sorted(w_hand) == list(range(min(w_hand), max(w_hand)+1)):\n",
    "        return 'straight'\n",
    "    else:\n",
    "        return False\n",
    "\n",
    "    \n",
    "print('testing straight')\n",
    "print(straight(hand_no6)) # straight\n",
    "print(straight(hand_no3))\n",
    "\n",
    "\n",
    "def pairs_and_more(hand):\n",
    "    \"\"\" takes a list of 5 strings (cards) and determines the following possibilities in order of precedence\n",
    "    - Four of a Kind\n",
    "    - Full House\n",
    "    - Three of a Kind\n",
    "    - Two Pairs\n",
    "    - Pairs\n",
    "    - High Card\n",
    "    return a string of the \n",
    "    \"\"\"\n",
    "    w_hand = card_point(hand)\n",
    "    cnt = Counter(w_hand)\n",
    "    dict_len = len(cnt)\n",
    "    #print(cnt)\n",
    "    #print(f'len dict:{len(cnt)}')\n",
    "\n",
    "    for k,v in cnt.items():\n",
    "\n",
    "        if v == 4:\n",
    "            return \"Four of a Kind\"\n",
    "        \n",
    "        elif v == 3 and dict_len == 2 :\n",
    "            return \"Full House\"\n",
    "        \n",
    "        elif v == 2 and dict_len == 3:\n",
    "            return \"Two Pair\"\n",
    "        elif v == 2 and dict_len == 4:\n",
    "            return 'Pair'\n",
    "        # should work but I don't know why it doesn't\n",
    "        elif v == 3 and len(cnt) == 3:\n",
    "            return \"Three of a Kind\"\n",
    "        # there was another else condition which made the program return false if none of the conditions above were met\n",
    "        # this was an issue since we only had one of card was a jack (value 11) but because the dict Counter gives is ordered \n",
    "        # this caused the program to not recognize the three of a kind.\n",
    "\n",
    "    return 'High Card'\n",
    "\n",
    "# testing\n",
    "print('testing four of kind')\n",
    "print(pairs_and_more(hand_no1)) # 4 of a kind\n",
    "print(pairs_and_more(hand_no3)) # full house\n",
    "print(pairs_and_more(hand_no2)) # 3 of a kind\n",
    "print(pairs_and_more(hand_no4)) # 2 pairs\n",
    "print(pairs_and_more(hand_no5)) # high card\n",
    "#for some reason it doesn't work\n",
    "'''\n",
    "if set(rf).issubset(royal_flush_set):\n",
    "    print(True)\n",
    "else:\n",
    "    print(False)\n",
    "''' \n",
    "    \n",
    "# use lambda function \n",
    "# and [:-1] so that you only use numerals and not letters\n",
    "\n",
    "# conver the cards in a hand to a list of (value,suit) pairs\n",
    "# sort the cards in a hand by their value\n",
    "# for each combination (going from best to worst)\n",
    "    # if the player's hand satisfies \n",
    "# assumptions: ace is 14\n",
    "\n",
    "\n",
    "\n",
    "# order of functions\n",
    "'''\n",
    "royal flush(hand)\n",
    "straing flust(hand)\n",
    "flush\n",
    "straight\n",
    "\"four of a kind(hand)\"\n",
    "\n",
    "'''\n",
    "#in order of precedence\n",
    "#how can we store functions \n",
    "hand = [\"10s\", \"10c\", \"8d\", \"10d\", \"10h\"]\n",
    "print('test')\n",
    "# **** QUESTION ****\n",
    "# is there a way to store functions in a list and call them later?\n",
    "#card_eval_functions = [royal_flush(hand),straight_flush(hand),flush(hand),straight(hand),pairs_and_more(hand)]\n",
    "#for f in range(len(card_eval_functions)):\n",
    "\n",
    "#        if card_eval_functions[f](hand):\n",
    "#            print(res)\n",
    "#            return res\n",
    "\n",
    "def poker_hand_ranking(hand):\n",
    "    \n",
    "    # is there a way to use a list of functions?\n",
    "    \n",
    "    if royal_flush(hand) != False:\n",
    "        return royal_flush(hand)\n",
    "    \n",
    "    elif straight_flush(hand) != False:\n",
    "        return straight_flush(hand)\n",
    "    \n",
    "    elif flush(hand) != False:\n",
    "        return flush(hand)\n",
    "    \n",
    "    elif straight(hand)!= False:\n",
    "        return straight(hand)\n",
    "    \n",
    "    elif pairs_and_more(hand)!= False:\n",
    "        return pairs_and_more(hand)\n",
    "    # use all the function we previously typed\n",
    "    else:\n",
    "        return False\n",
    "poker_hand_ranking(hand)\n",
    "#print(give_a_deck())\n",
    "\n"
   ]
  },
  {
   "cell_type": "code",
   "execution_count": 37,
   "metadata": {},
   "outputs": [
    {
     "name": "stdout",
     "output_type": "stream",
     "text": [
      "Intended result:returned result\n",
      "\n",
      "4 of a kind : Four of a Kind\n",
      "\n",
      "Three of a kind : Three of a Kind\n",
      "\n",
      "Full House : Full House\n",
      "\n",
      "2 pairs : Two Pair\n",
      "\n",
      "high card : High Card\n",
      "\n",
      "straight : Flush\n",
      "\n",
      "Royal Flush : Royal Flush\n",
      "\n",
      "Straight Flush : Straight Flush\n",
      "\n",
      "Straight Flush2 : Straight Flush\n",
      "\n"
     ]
    }
   ],
   "source": [
    "print('Intended result:returned result\\n')\n",
    "for k,v in testing_hand.items():\n",
    "\n",
    "    print(f'{k} : {poker_hand_ranking(v)}\\n')\n",
    "\n",
    "#print(dir(list))\n",
    "#print(help(list.sort())"
   ]
  },
  {
   "cell_type": "code",
   "execution_count": 2,
   "metadata": {},
   "outputs": [
    {
     "data": {
      "text/plain": [
       "'hello'"
      ]
     },
     "execution_count": 2,
     "metadata": {},
     "output_type": "execute_result"
    }
   ],
   "source": [
    "# look more on the web\n",
    "# https://briancaffey.github.io/2018/01/02/checking-poker-hands-with-python.html\n",
    "# one of the way to do this\n",
    "x = 'hello'\n",
    "x"
   ]
  },
  {
   "cell_type": "code",
   "execution_count": null,
   "metadata": {},
   "outputs": [],
   "source": []
  },
  {
   "cell_type": "code",
   "execution_count": null,
   "metadata": {},
   "outputs": [],
   "source": []
  },
  {
   "cell_type": "markdown",
   "metadata": {},
   "source": [
    "| Name            | Description                                         |\n",
    "|-----------------|-----------------------------------------------------|\n",
    "| Royal Flush     | A, K, Q, J, 10, all with the same suit.             |\n",
    "| Straight Flush  | Five cards in sequence, all with the same suit.     |\n",
    "| Four of a Kind  | Four cards of the same rank.                        |\n",
    "| Full House      | Three of a Kind with a Pair.                        |\n",
    "| Flush           | Any five cards of the same suit, not in sequence    |\n",
    "| Straight        | Five cards in a sequence, but not of the same suit. |\n",
    "| Three of a Kind | Three cards of the same rank.                       |\n",
    "| Two Pair        | Two different Pairs.                                |\n",
    "| Pair            | Two cards of the same rank.                         |\n",
    "| High Card       | No other valid combination.                         |"
   ]
  },
  {
   "cell_type": "markdown",
   "metadata": {},
   "source": [
    "# **Stretch Content**\n",
    "\n",
    "### 2.  Implement a function `winner_is` that returns the winner given a dictionary with different players and their hands. For example:\n",
    "\n",
    "#### Example\n",
    "\n",
    "We define dictionary like\n",
    "```\n",
    "round_1 = {\"John\" = [\"10h\", \"Jh\", \"Qh\", \"Ah\", \"Kh\"], \n",
    "        \"Peter\" = [\"3h\", \"5h\", \"Qs\", \"9h\", \"Ad\"]\n",
    "}\n",
    "```\n",
    "\n",
    "Our function returns the name of the winner:\n",
    "> winner_is(round_1) -> \"John\"\n",
    "\n",
    "One table can have up to 10 players.\n"
   ]
  },
  {
   "cell_type": "code",
   "execution_count": 56,
   "metadata": {},
   "outputs": [],
   "source": [
    "# ROYAL FLUSH NEEDS TO BE WORKED ON!\n",
    "round_1 = {\"John\" : [\"10h\", \"Jh\", \"Jc\", \"Ah\", \"Kh\"], \n",
    "        \"Peter\" : [\"3h\", \"5h\", \"Qs\", \"9h\", \"Ad\"]}\n",
    "\n",
    "def Winner_is(hand_dict):\n",
    "    '''Takes a a dictionary and returns the winner as a string'''\n",
    "    hand_value = { \n",
    "        'Royal Flush': 10,\n",
    "        'Straight Flush':9,\n",
    "        'Four of a Kind':8,\n",
    "        'Full House':7,\n",
    "        'Flush':6,\n",
    "        'straight':5,\n",
    "        'Three of a Kind':4,\n",
    "        'Two Pair':3,\n",
    "        'Pair':2,\n",
    "        'High Card':1}\n",
    "    \n",
    "    hand_points = dict()\n",
    "    # we transform the cards into its appropriate result String and store into the result dict\n",
    "    # e.g [\"10h\", \"Jh\", \"Jc\", \"Ah\", \"Kh\"] -> 'Pair'\n",
    "    for k,v in hand_dict.items():\n",
    "        hand_points[k] = poker_hand_ranking(v)\n",
    "    print(hand_points)\n",
    "    # with the result dict we want to convert the string into its associated ranking\n",
    "    for k,v in hand_points.items():\n",
    "            \n",
    "        if v in hand_value:\n",
    "            hand_points[k] = hand_value[v]\n",
    "            \n",
    "        else:\n",
    "            print('error')\n",
    "            \n",
    "        \n",
    "    return hand_points\n"
   ]
  },
  {
   "cell_type": "code",
   "execution_count": 57,
   "metadata": {},
   "outputs": [
    {
     "name": "stdout",
     "output_type": "stream",
     "text": [
      "{'John': 'Pair', 'Peter': 'High Card'}\n",
      "2\n",
      "1\n",
      "{'John': 2, 'Peter': 1}\n"
     ]
    }
   ],
   "source": [
    "test = Winner_is(round_1)\n",
    "print(test)"
   ]
  },
  {
   "cell_type": "code",
   "execution_count": 43,
   "metadata": {},
   "outputs": [
    {
     "name": "stdout",
     "output_type": "stream",
     "text": [
      "Help on method_descriptor:\n",
      "\n",
      "values(...)\n",
      "    D.values() -> an object providing a view on D's values\n",
      "\n"
     ]
    }
   ],
   "source": [
    "help(dict.values)"
   ]
  },
  {
   "cell_type": "code",
   "execution_count": null,
   "metadata": {},
   "outputs": [],
   "source": []
  },
  {
   "cell_type": "markdown",
   "metadata": {},
   "source": [
    "### 3. Create a generator that randomly gives 5 cards to every player given a list of player names\n",
    "#### Example\n",
    "\n",
    "> distribute_cards([\"John\",\"Peter\"])  -> round_1 = {\"John\" = [\"10h\", \"Jh\", \"Qh\", \"Ah\", \"Kh\"], \n",
    "        \"Peter\" = [\"3h\", \"5h\", \"Qs\", \"9h\", \"Ad\"]\n",
    "}"
   ]
  },
  {
   "cell_type": "code",
   "execution_count": null,
   "metadata": {},
   "outputs": [],
   "source": [
    "# use the deck string and return a card using the random module in python. has to be non \n",
    "# replacing meaning that once a card is given they can't be handed out to another player"
   ]
  },
  {
   "cell_type": "code",
   "execution_count": null,
   "metadata": {},
   "outputs": [],
   "source": []
  },
  {
   "cell_type": "code",
   "execution_count": null,
   "metadata": {},
   "outputs": [],
   "source": []
  },
  {
   "cell_type": "code",
   "execution_count": 69,
   "metadata": {},
   "outputs": [
    {
     "name": "stdout",
     "output_type": "stream",
     "text": [
      "True\n"
     ]
    }
   ],
   "source": []
  },
  {
   "cell_type": "code",
   "execution_count": 70,
   "metadata": {},
   "outputs": [
    {
     "name": "stdout",
     "output_type": "stream",
     "text": [
      "True\n"
     ]
    }
   ],
   "source": [
    "# found: https://www.geeksforgeeks.org/python-check-if-list-contains-consecutive-numbers/\n",
    "# Python3 Program to Create list  \n",
    "# with integers within given range  \n",
    "  \n",
    "def checkConsecutive(l): \n",
    "    return sorted(l) == list(range(min(l), max(l)+1)) \n",
    "      \n",
    "# Driver Code \n",
    "lst = [2, 3, 1, 4, 5] \n",
    "print(checkConsecutive(lst)) \n"
   ]
  },
  {
   "cell_type": "code",
   "execution_count": 59,
   "metadata": {},
   "outputs": [
    {
     "data": {
      "text/plain": [
       "Counter({'blue': 2, 'red': 4})"
      ]
     },
     "execution_count": 59,
     "metadata": {},
     "output_type": "execute_result"
    }
   ],
   "source": [
    "c = Counter({ 'blue': 2,'red': 4})\n",
    "c"
   ]
  },
  {
   "cell_type": "code",
   "execution_count": null,
   "metadata": {},
   "outputs": [],
   "source": []
  }
 ],
 "metadata": {
  "kernelspec": {
   "display_name": "Python 3",
   "language": "python",
   "name": "python3"
  },
  "language_info": {
   "codemirror_mode": {
    "name": "ipython",
    "version": 3
   },
   "file_extension": ".py",
   "mimetype": "text/x-python",
   "name": "python",
   "nbconvert_exporter": "python",
   "pygments_lexer": "ipython3",
   "version": "3.8.3"
  }
 },
 "nbformat": 4,
 "nbformat_minor": 4
}
