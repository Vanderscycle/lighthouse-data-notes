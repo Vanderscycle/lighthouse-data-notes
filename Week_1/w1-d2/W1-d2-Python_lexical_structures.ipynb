{
 "cells": [
  {
   "cell_type": "code",
   "execution_count": null,
   "metadata": {},
   "outputs": [],
   "source": []
  },
  {
   "cell_type": "markdown",
   "metadata": {},
   "source": [
    "Some of PEP 8 conventions:\n",
    "lines are to be no longer than 79 chars\n",
    "\n",
    "Organize the code as if you are in SQL"
   ]
  },
  {
   "cell_type": "code",
   "execution_count": 5,
   "metadata": {},
   "outputs": [],
   "source": [
    ">>> a = [\n",
    "...     [1, 2, 3, 4, 5],\n",
    "...     [6, 7, 8, 9, 10],\n",
    "...     [11, 12, 13, 14, 15],\n",
    "...     [16, 17, 18, 19, 20],\n",
    "...     [21, 22, 23, 24, 25]\n",
    "... ]\n",
    ">>> person1_age = 42\n",
    ">>> person2_age = 16\n",
    ">>> person3_age = 71\n",
    "\n",
    ">>> someone_is_of_working_age = (\n",
    "...     (person1_age >= 18 and person1_age <= 65)\n",
    "...     or (person2_age >= 18 and person2_age <= 65)\n",
    "...     or (person3_age >= 18 and person3_age <= 65)\n",
    "... )\n"
   ]
  },
  {
   "cell_type": "markdown",
   "metadata": {},
   "source": [
    "#### Explicit line continutation\n",
    "Just be careful to not leave a space after the backslash"
   ]
  },
  {
   "cell_type": "code",
   "execution_count": 11,
   "metadata": {},
   "outputs": [
    {
     "data": {
      "text/plain": [
       "'Hello, World!'"
      ]
     },
     "execution_count": 11,
     "metadata": {},
     "output_type": "execute_result"
    }
   ],
   "source": [
    "s = \\\n",
    "    'Hello, World!'\n",
    "s"
   ]
  },
  {
   "cell_type": "markdown",
   "metadata": {},
   "source": [
    "#### Multiple statements per line\n",
    "Ensure they are separated by a (;) semicolon. However this method is not encouraged by PEP 8"
   ]
  },
  {
   "cell_type": "code",
   "execution_count": 12,
   "metadata": {},
   "outputs": [
    {
     "name": "stdout",
     "output_type": "stream",
     "text": [
      "1\n",
      "2\n",
      "3\n"
     ]
    }
   ],
   "source": [
    ">>> x = 1; y = 2; z = 3\n",
    ">>> print(x); print(y); print(z)"
   ]
  },
  {
   "cell_type": "markdown",
   "metadata": {},
   "source": [
    "##### better method"
   ]
  },
  {
   "cell_type": "code",
   "execution_count": 14,
   "metadata": {},
   "outputs": [
    {
     "name": "stdout",
     "output_type": "stream",
     "text": [
      "1\n",
      "2\n",
      "3\n"
     ]
    }
   ],
   "source": [
    "x, y, z = 1, 2, 3\n",
    ">>> print(x, y, z, sep='\\n')"
   ]
  },
  {
   "cell_type": "markdown",
   "metadata": {},
   "source": [
    "#### Comments\n",
    "Ensure that your comment (#) is the last item on a given line like"
   ]
  },
  {
   "cell_type": "code",
   "execution_count": 15,
   "metadata": {},
   "outputs": [],
   "source": [
    ">>> x = (1 + 2           # I am a comment.\n",
    "...      + 3 + 4         # Me too.\n",
    "...      + 5 + 6)\n",
    ">>> x\n",
    "21\n",
    "\n",
    ">>> a = [\n",
    "...     'foo', 'bar',    # Me three.\n",
    "...     'baz', 'qux'\n",
    "... ]"
   ]
  },
  {
   "cell_type": "markdown",
   "metadata": {},
   "source": [
    "WARNING! \n",
    "Comments cannot be placed after a backslash as they signify explicit line continuation and so comments will return errors."
   ]
  },
  {
   "cell_type": "markdown",
   "metadata": {},
   "source": [
    "Although Python doesn't explicitly allow for block comments you can use the triple string method (\"\"\" string message \"\"\""
   ]
  },
  {
   "cell_type": "code",
   "execution_count": 16,
   "metadata": {},
   "outputs": [
    {
     "name": "stdout",
     "output_type": "stream",
     "text": [
      "The area of a circle with radius 12.35 is 479.163565508706\n"
     ]
    }
   ],
   "source": [
    "\"\"\"Initialize value for radius of circle.\n",
    "\n",
    "Then calculate the area of the circle\n",
    "and display the result to the console.\n",
    "\"\"\"\n",
    "\n",
    "pi = 3.1415926536\n",
    "r = 12.35\n",
    "\n",
    "area = pi * (r ** 2)\n",
    "\n",
    "print('The area of a circle with radius', r, 'is', area)\n"
   ]
  },
  {
   "cell_type": "markdown",
   "metadata": {},
   "source": [
    "WARNING! PEP 8 recommends against this sort of commenting as it is used in DOCSTRINGS to document a specific class/function"
   ]
  },
  {
   "cell_type": "code",
   "execution_count": 17,
   "metadata": {},
   "outputs": [
    {
     "data": {
      "text/plain": [
       "'foobarbaz'"
      ]
     },
     "execution_count": 17,
     "metadata": {},
     "output_type": "execute_result"
    }
   ],
   "source": [
    "# you can juxtapose string literals, with or without whitespaces. The effect is concatenation\n",
    ">>> s = 'foo' \"bar\" '''baz'''\n",
    ">>> s"
   ]
  },
  {
   "cell_type": "markdown",
   "metadata": {},
   "source": [
    "#### Whitespaces"
   ]
  },
  {
   "cell_type": "markdown",
   "metadata": {},
   "source": [
    "Not all whitespaces are ignored in Python unlike the venerable FORTRAN"
   ]
  },
  {
   "cell_type": "markdown",
   "metadata": {},
   "source": [
    "whitespaces are used for indetation to separate block of code\n",
    "Ensure there are whitespaces separating keywords (e.g. not, in, for, etc...)"
   ]
  },
  {
   "cell_type": "code",
   "execution_count": null,
   "metadata": {},
   "outputs": [],
   "source": []
  }
 ],
 "metadata": {
  "kernelspec": {
   "display_name": "Python 3",
   "language": "python",
   "name": "python3"
  },
  "language_info": {
   "codemirror_mode": {
    "name": "ipython",
    "version": 3
   },
   "file_extension": ".py",
   "mimetype": "text/x-python",
   "name": "python",
   "nbconvert_exporter": "python",
   "pygments_lexer": "ipython3",
   "version": "3.8.3"
  }
 },
 "nbformat": 4,
 "nbformat_minor": 4
}
