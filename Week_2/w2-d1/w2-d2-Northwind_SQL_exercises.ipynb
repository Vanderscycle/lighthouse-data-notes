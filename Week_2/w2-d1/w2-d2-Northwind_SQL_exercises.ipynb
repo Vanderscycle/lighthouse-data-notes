{
 "cells": [
  {
   "cell_type": "markdown",
   "metadata": {},
   "source": [
    "-- Q1. Write a query to get Product name and quantity/unit."
   ]
  },
  {
   "cell_type": "code",
   "execution_count": null,
   "metadata": {},
   "outputs": [],
   "source": [
    "SELECT productname,quantityperunit \n",
    "FROM Products"
   ]
  },
  {
   "cell_type": "markdown",
   "metadata": {},
   "source": [
    "-- Q2. Write a query to get most expense and least expensive Product list (name and unit price)\n",
    "\n"
   ]
  },
  {
   "cell_type": "code",
   "execution_count": null,
   "metadata": {},
   "outputs": [],
   "source": [
    "-- most expensive item\n",
    "-- unsure how I can combine the query into a single entry\n",
    "SELECT productname,unitprice\n",
    "FROM Products\n",
    "ORDER BY unitprice DESC\n",
    "LIMIT 1\n",
    "\n",
    "-- least expensive item\n",
    "-- unsure how I can combine the query into a single entry\n",
    "SELECT productname,unitprice\n",
    "FROM Products\n",
    "ORDER BY unitprice ASC\n",
    "LIMIT 1"
   ]
  },
  {
   "cell_type": "markdown",
   "metadata": {},
   "source": [
    "-- Q3. Write a query to count current and discontinued products.\n"
   ]
  },
  {
   "cell_type": "code",
   "execution_count": null,
   "metadata": {},
   "outputs": [],
   "source": [
    "-- assuming discontinued = 1 means no longer avail\n",
    "SELECT COUNT(*)\n",
    "FROM Products\n",
    "WHERE discontinued = 1"
   ]
  },
  {
   "cell_type": "markdown",
   "metadata": {},
   "source": [
    "-- Q4. Select all product names and their category names (77 rows)"
   ]
  },
  {
   "cell_type": "code",
   "execution_count": null,
   "metadata": {},
   "outputs": [],
   "source": [
    "SELECT p.productname,c.categoryname\n",
    "FROM Products p\n",
    "LEFT JOIN categories c\n",
    "    ON p.categoryid = c.categoryid\n"
   ]
  },
  {
   "cell_type": "markdown",
   "metadata": {},
   "source": [
    "-- Q5. Select all product names, unit price and the supplier region that don't have suppliers from USA region. (26 rows)"
   ]
  },
  {
   "cell_type": "code",
   "execution_count": null,
   "metadata": {},
   "outputs": [],
   "source": [
    "-- I do not get 26 rows and I don't know why!!!\n",
    "SELECT p.productname,p.unitprice,s.region -- COUNT(*)\n",
    "FROM Products p\n",
    "JOIN suppliers s\n",
    "    ON p.supplierid = s.supplierid\n",
    "WHERE not s.country = 'USA'"
   ]
  },
  {
   "cell_type": "markdown",
   "metadata": {},
   "source": [
    "-- Q6. Get the total quantity of orders sold.( 51317)"
   ]
  },
  {
   "cell_type": "code",
   "execution_count": null,
   "metadata": {},
   "outputs": [],
   "source": [
    "SELECT SUM(od.quantity)\n",
    "FROM orders o\n",
    "JOIN order_details od\n",
    "    ON o.orderid = od.orderid;"
   ]
  },
  {
   "cell_type": "markdown",
   "metadata": {},
   "source": [
    "-- Q7. Get the total quantity of orders sold for each order.(830 rows)"
   ]
  },
  {
   "cell_type": "code",
   "execution_count": null,
   "metadata": {},
   "outputs": [],
   "source": [
    "-- the question is weirdly worded\n",
    "SELECT o.orderid, sum(od.quantity) \n",
    "FROM orders o\n",
    "JOIN order_details od\n",
    "    ON o.orderid = od.orderid\n",
    "GROUP BY o.orderid,od.quantity"
   ]
  },
  {
   "cell_type": "markdown",
   "metadata": {},
   "source": [
    "-- Q8. Get the number of employees who have been working more than 5 year in the company. (9 rows)"
   ]
  },
  {
   "cell_type": "markdown",
   "metadata": {},
   "source": [
    "SELECT employeeid, lastname, firstname\n",
    "FROM employees\n",
    "WHERE (hiredate + 5) < date('now')"
   ]
  }
 ],
 "metadata": {
  "kernelspec": {
   "display_name": "lighthouse-lab-course",
   "language": "python",
   "name": "lighthouse-lab-course"
  },
  "language_info": {
   "codemirror_mode": {
    "name": "ipython",
    "version": 3
   },
   "file_extension": ".py",
   "mimetype": "text/x-python",
   "name": "python",
   "nbconvert_exporter": "python",
   "pygments_lexer": "ipython3",
   "version": "3.8.5"
  }
 },
 "nbformat": 4,
 "nbformat_minor": 4
}
