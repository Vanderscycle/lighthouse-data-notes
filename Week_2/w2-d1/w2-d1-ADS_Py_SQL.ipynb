{
 "cells": [
  {
   "cell_type": "code",
   "execution_count": 54,
   "metadata": {},
   "outputs": [],
   "source": [
    "import sqlite3\n",
    "import pandas as pd\n",
    "from sqlite3 import Error"
   ]
  },
  {
   "cell_type": "code",
   "execution_count": 59,
   "metadata": {},
   "outputs": [],
   "source": [
    "def create_connection(path):\n",
    "    connection = None\n",
    "    try:\n",
    "        connection = sqlite3.connect(path)\n",
    "        print(\"Connection to SQLite DB successful\")\n",
    "    except Error as e:\n",
    "        print(f\"The error '{e}' occurred\")\n",
    "\n",
    "    return connection\n",
    "\n",
    "# To execute queries in SQLite, use cursor.execute().\n",
    "def ex_q(connection, query): # execute query\n",
    "    cursor = connection.cursor()\n",
    "    try:\n",
    "        cursor.execute(query)\n",
    "        connection.commit()\n",
    "        print(\"Query executed successfully\")\n",
    "    except Error as e:\n",
    "        print(f\"The error '{e}' occurred\")\n",
    "        \n",
    "def er_q(connection, query): #execute read query\n",
    "    cursor = connection.cursor()\n",
    "    result = None\n",
    "    try:\n",
    "        cursor.execute(query)\n",
    "        result = cursor.fetchall()\n",
    "        return result\n",
    "    except Error as e:\n",
    "        print(f\"The error '{e}' occurred\")\n",
    "# OMG IT MAKES SUCH A BEAUTFIFUL DIFFERENCE!!!! \n",
    "\n",
    "\n",
    "def display_query(query,connection=connection):\n",
    "    q = er_q(query,connection)\n",
    "    return pd.read_sql_query(q, connection)\n"
   ]
  },
  {
   "cell_type": "code",
   "execution_count": 7,
   "metadata": {},
   "outputs": [
    {
     "name": "stdout",
     "output_type": "stream",
     "text": [
      "Connection to SQLite DB successful\n"
     ]
    }
   ],
   "source": [
    "connection = create_connection(\"northwind.db\") # in this case the database is in the same"
   ]
  },
  {
   "cell_type": "code",
   "execution_count": 9,
   "metadata": {},
   "outputs": [],
   "source": [
    "drop_end_obs_dates_table = '''DROP TABLE if exists end_obs_dates;'''\n"
   ]
  },
  {
   "cell_type": "code",
   "execution_count": 12,
   "metadata": {},
   "outputs": [],
   "source": [
    "create_end_obs_dates_table = '''CREATE TABLE end_obs_dates \n",
    "AS\n",
    "\n",
    "-- Recursive query example (something like FOR loop for SQL)\n",
    "WITH RECURSIVE\n",
    "  cnt(x) AS (\n",
    "     SELECT 0\n",
    "     UNION ALL\n",
    "     SELECT x+1 FROM cnt\n",
    "      LIMIT (SELECT ROUND(((julianday('1998-06-01') - julianday('1996-08-01'))/30) + 1)) -- this counts number of months between these two days\n",
    "  )\n",
    "SELECT date('1996-08-01', '+' || x || ' month') as end_obs_date FROM cnt;'''\n"
   ]
  },
  {
   "cell_type": "code",
   "execution_count": 13,
   "metadata": {},
   "outputs": [
    {
     "name": "stdout",
     "output_type": "stream",
     "text": [
      "Query executed successfully\n",
      "Query executed successfully\n"
     ]
    }
   ],
   "source": [
    "ex_q(connection,drop_end_obs_dates_table)\n",
    "ex_q(connection,create_end_obs_dates_table)"
   ]
  },
  {
   "cell_type": "code",
   "execution_count": 15,
   "metadata": {},
   "outputs": [],
   "source": [
    "drop_ads_population_hist = '''DROP TABLE if exists ads_population_hist;'''\n"
   ]
  },
  {
   "cell_type": "code",
   "execution_count": 16,
   "metadata": {},
   "outputs": [],
   "source": [
    "create_ads_population_hist = '''\n",
    "CREATE TABLE ads_population_hist \n",
    "AS\n",
    "SELECT A.*,\n",
    "       B.*\n",
    "FROM end_obs_dates AS A\n",
    "CROSS JOIN (SELECT DISTINCT customerid FROM customers) AS B\n",
    ";\n",
    "'''"
   ]
  },
  {
   "cell_type": "code",
   "execution_count": 17,
   "metadata": {},
   "outputs": [
    {
     "name": "stdout",
     "output_type": "stream",
     "text": [
      "Query executed successfully\n",
      "Query executed successfully\n"
     ]
    }
   ],
   "source": [
    "ex_q(connection,drop_ads_population_hist)\n",
    "ex_q(connection,create_ads_population_hist)"
   ]
  },
  {
   "cell_type": "markdown",
   "metadata": {},
   "source": [
    "With Queries it would important to add a header for the columns (from the select query)"
   ]
  },
  {
   "cell_type": "code",
   "execution_count": 33,
   "metadata": {},
   "outputs": [
    {
     "data": {
      "text/plain": [
       "[('1996-08-01', 'ALFKI'),\n",
       " ('1996-08-01', 'ANATR'),\n",
       " ('1996-08-01', 'ANTON'),\n",
       " ('1996-08-01', 'AROUT'),\n",
       " ('1996-08-01', 'BERGS'),\n",
       " ('1996-08-01', 'BLAUS'),\n",
       " ('1996-08-01', 'BLONP'),\n",
       " ('1996-08-01', 'BOLID'),\n",
       " ('1996-08-01', 'BONAP'),\n",
       " ('1996-08-01', 'BOTTM')]"
      ]
     },
     "execution_count": 33,
     "metadata": {},
     "output_type": "execute_result"
    }
   ],
   "source": [
    "q1 = \"\"\"select * from ads_population_hist limit 10;\n",
    "\"\"\"\n",
    "er_q(connection,q1)"
   ]
  },
  {
   "cell_type": "markdown",
   "metadata": {},
   "source": [
    "Now, we have the main table where every customer has exactly one row for every month, even when they didn't buy anything.\n",
    "\n",
    "Our main goal is to create a table where we keep all the important information about our clients. In this tutorial, we will work with clients' orders and create following variables:\n",
    "\n",
    "   * noofitems\n",
    "   * noofdistinct_orders\n",
    "   * total_price\n"
   ]
  },
  {
   "cell_type": "code",
   "execution_count": 34,
   "metadata": {},
   "outputs": [
    {
     "data": {
      "text/plain": [
       "[(10248, 11, 14.0, 12, 0.0, 168.0),\n",
       " (10248, 42, 9.8, 10, 0.0, 98.0),\n",
       " (10248, 72, 34.8, 5, 0.0, 174.0),\n",
       " (10249, 14, 18.6, 9, 0.0, 167.4),\n",
       " (10249, 51, 42.4, 40, 0.0, 1696.0),\n",
       " (10250, 41, 7.7, 10, 0.0, 77.0),\n",
       " (10250, 51, 42.4, 35, 0.15, 1484.0),\n",
       " (10250, 65, 16.8, 15, 0.15, 252.0),\n",
       " (10251, 22, 16.8, 6, 0.05, 100.80000000000001),\n",
       " (10251, 57, 15.6, 15, 0.05, 234.0),\n",
       " (10251, 65, 16.8, 20, 0.0, 336.0),\n",
       " (10252, 20, 64.8, 40, 0.05, 2592.0),\n",
       " (10252, 33, 2.0, 25, 0.05, 50.0),\n",
       " (10252, 60, 27.2, 40, 0.0, 1088.0),\n",
       " (10253, 31, 10.0, 20, 0.0, 200.0),\n",
       " (10253, 39, 14.4, 42, 0.0, 604.8000000000001),\n",
       " (10253, 49, 16.0, 40, 0.0, 640.0),\n",
       " (10254, 24, 3.6, 15, 0.15, 54.0),\n",
       " (10254, 55, 19.2, 21, 0.15, 403.2),\n",
       " (10254, 74, 8.0, 21, 0.0, 168.0)]"
      ]
     },
     "execution_count": 34,
     "metadata": {},
     "output_type": "execute_result"
    }
   ],
   "source": [
    "q2 = '''SELECT *,\n",
    "       unitprice*quantity AS totalprice_for_product\n",
    "FROM \"Order Details\" LIMIT 20\n",
    "'''\n",
    "er_q(connection,q2)"
   ]
  },
  {
   "cell_type": "code",
   "execution_count": 35,
   "metadata": {},
   "outputs": [
    {
     "data": {
      "text/plain": [
       "[(10248, 3, 27, 440.0),\n",
       " (10249, 2, 49, 1863.4),\n",
       " (10250, 3, 60, 1813.0),\n",
       " (10251, 3, 41, 670.8),\n",
       " (10252, 3, 105, 3730.0),\n",
       " (10253, 3, 102, 1444.8000000000002),\n",
       " (10254, 3, 57, 625.2),\n",
       " (10255, 4, 110, 2490.5),\n",
       " (10256, 2, 27, 517.8),\n",
       " (10257, 3, 46, 1119.9),\n",
       " (10258, 3, 121, 2018.6),\n",
       " (10259, 2, 11, 100.8),\n",
       " (10260, 4, 102, 1746.2),\n",
       " (10261, 2, 40, 448.0),\n",
       " (10262, 3, 29, 624.8),\n",
       " (10263, 4, 184, 2464.8),\n",
       " (10264, 2, 60, 724.5),\n",
       " (10265, 2, 50, 1176.0),\n",
       " (10266, 1, 12, 364.79999999999995),\n",
       " (10267, 3, 135, 4031.0)]"
      ]
     },
     "execution_count": 35,
     "metadata": {},
     "output_type": "execute_result"
    }
   ],
   "source": [
    "q3 = '''SELECT A.orderid,\n",
    "     COUNT(DISTINCT A.productid) AS no_of_distinct_products,\n",
    "     SUM(A.quantity) AS no_of_items,\n",
    "     SUM(A.totalprice_for_product) AS total_price \n",
    "     FROM (SELECT *,\n",
    "                  unitprice*quantity AS totalprice_for_product\n",
    "           FROM \"Order Details\") AS A\n",
    "GROUP BY 1\n",
    "LIMIT 20;\n",
    "'''\n",
    "er_q(connection,q3)"
   ]
  },
  {
   "cell_type": "code",
   "execution_count": 36,
   "metadata": {},
   "outputs": [
    {
     "data": {
      "text/plain": [
       "[(10248, 'VINET', '1996-07-04'),\n",
       " (10249, 'TOMSP', '1996-07-05'),\n",
       " (10250, 'HANAR', '1996-07-08'),\n",
       " (10251, 'VICTE', '1996-07-08'),\n",
       " (10252, 'SUPRD', '1996-07-09'),\n",
       " (10253, 'HANAR', '1996-07-10'),\n",
       " (10254, 'CHOPS', '1996-07-11'),\n",
       " (10255, 'RICSU', '1996-07-12'),\n",
       " (10256, 'WELLI', '1996-07-15'),\n",
       " (10257, 'HILAA', '1996-07-16')]"
      ]
     },
     "execution_count": 36,
     "metadata": {},
     "output_type": "execute_result"
    }
   ],
   "source": [
    "q4 = '''SELECT \n",
    "    orderid,\n",
    "    customerid,\n",
    "    orderdate\n",
    "FROM orders \n",
    "LIMIT 10;\n",
    "'''\n",
    "er_q(connection,q4)"
   ]
  },
  {
   "cell_type": "markdown",
   "metadata": {},
   "source": [
    "We need to assign end_obs_date to each order."
   ]
  },
  {
   "cell_type": "code",
   "execution_count": 31,
   "metadata": {},
   "outputs": [
    {
     "data": {
      "text/plain": [
       "[(10248, 'VINET', '1996-07-04', '1996-08-01'),\n",
       " (10249, 'TOMSP', '1996-07-05', '1996-08-01'),\n",
       " (10250, 'HANAR', '1996-07-08', '1996-08-01'),\n",
       " (10251, 'VICTE', '1996-07-08', '1996-08-01'),\n",
       " (10252, 'SUPRD', '1996-07-09', '1996-08-01'),\n",
       " (10253, 'HANAR', '1996-07-10', '1996-08-01'),\n",
       " (10254, 'CHOPS', '1996-07-11', '1996-08-01'),\n",
       " (10255, 'RICSU', '1996-07-12', '1996-08-01'),\n",
       " (10256, 'WELLI', '1996-07-15', '1996-08-01'),\n",
       " (10257, 'HILAA', '1996-07-16', '1996-08-01')]"
      ]
     },
     "execution_count": 31,
     "metadata": {},
     "output_type": "execute_result"
    }
   ],
   "source": [
    "q5 = '''SELECT orderid,\n",
    "       customerid,\n",
    "       orderdate,\n",
    "       date(orderdate,'start of month','+1 month') as end_obs_date\n",
    "FROM orders LIMIT 10;\n",
    "'''\n",
    "er_q(connection,q5)"
   ]
  },
  {
   "cell_type": "code",
   "execution_count": 38,
   "metadata": {},
   "outputs": [
    {
     "name": "stdout",
     "output_type": "stream",
     "text": [
      "Query executed successfully\n"
     ]
    }
   ],
   "source": [
    "drop_ads_orders_hist = '''DROP TABLE if exists ads_orders_hist;'''\n",
    "ex_q(connection,drop_ads_orders_hist)"
   ]
  },
  {
   "cell_type": "code",
   "execution_count": 41,
   "metadata": {},
   "outputs": [
    {
     "name": "stdout",
     "output_type": "stream",
     "text": [
      "Query executed successfully\n"
     ]
    }
   ],
   "source": [
    "create_ads_orders_hist = '''CREATE TABLE ads_orders_hist \n",
    "AS\n",
    "SELECT A.orderid,\n",
    "       A.customerid,\n",
    "       A.end_obs_date,\n",
    "       B.no_of_distinct_products,\n",
    "       B.no_of_items,\n",
    "       B.total_price\n",
    "FROM (\n",
    "    SELECT orderid,\n",
    "             customerid,\n",
    "             orderdate,\n",
    "             date(orderdate,'start of month','+1 month') as end_obs_date\n",
    "    FROM orders)\n",
    "AS A\n",
    "LEFT OUTER JOIN (\n",
    "    SELECT A.orderid,\n",
    "         COUNT(DISTINCT A.productid) AS no_of_distinct_products,\n",
    "         SUM(A.quantity) AS no_of_items,\n",
    "         SUM(A.totalprice_for_product) AS total_price\n",
    "    FROM (\n",
    "        SELECT *,\n",
    "            unitprice*quantity AS totalprice_for_product\n",
    "        FROM \"Order Details\") \n",
    "    AS A\n",
    "    GROUP BY 1) \n",
    "AS B \n",
    "ON A.orderid = B.orderid;\n",
    "'''\n",
    "ex_q(connection,create_ads_orders_hist)"
   ]
  },
  {
   "cell_type": "code",
   "execution_count": 44,
   "metadata": {},
   "outputs": [
    {
     "data": {
      "text/plain": [
       "[(11077, 1), (11076, 1), (11075, 1), (11074, 1), (11073, 1)]"
      ]
     },
     "execution_count": 44,
     "metadata": {},
     "output_type": "execute_result"
    }
   ],
   "source": [
    "q6 = '''select orderid\n",
    "    ,count(*)\n",
    "from ads_orders_hist\n",
    "group by 1\n",
    "order by 2 desc\n",
    "limit 5\n",
    ";\n",
    "'''\n",
    "er_q(connection,q6)"
   ]
  },
  {
   "cell_type": "code",
   "execution_count": 45,
   "metadata": {},
   "outputs": [
    {
     "name": "stdout",
     "output_type": "stream",
     "text": [
      "Query executed successfully\n"
     ]
    }
   ],
   "source": [
    "drop_ads_observation_hist = '''DROP table if exists ads_observation_hist;'''\n",
    "ex_q(connection,drop_ads_observation_hist)"
   ]
  },
  {
   "cell_type": "code",
   "execution_count": 47,
   "metadata": {},
   "outputs": [
    {
     "name": "stdout",
     "output_type": "stream",
     "text": [
      "Query executed successfully\n"
     ]
    }
   ],
   "source": [
    "create_ads_observation_hist = '''create table ads_observation_hist as\n",
    "select \n",
    "    A.*\n",
    "    -- we can replace missings with 0 because it means there were no orders for this client during specific month.\n",
    "    ,coalesce(B.no_of_distinct_orders_1M, 0) as no_of_distinct_orders_1M\n",
    "    ,coalesce(B.no_of_items_1M, 0) as no_of_items_1M\n",
    "    ,coalesce(B.total_price_1M, 0) as total_price_1M\n",
    "from ads_population_hist as A\n",
    "left outer join (\n",
    "    -- we need to group by our orders to customer level\n",
    "    select customerid\n",
    "        ,end_obs_date\n",
    "        ,count(distinct orderid) as no_of_distinct_orders_1M\n",
    "        ,sum(no_of_items) as no_of_items_1M\n",
    "        ,sum(total_price) as total_price_1M\n",
    "    from ads_orders_hist\n",
    "    group by 1,2\n",
    ") as B\n",
    "on A.customerid = B.customerid\n",
    "  and A.end_obs_date = B.end_obs_date\n",
    ";'''\n",
    "ex_q(connection,create_ads_observation_hist)"
   ]
  },
  {
   "cell_type": "code",
   "execution_count": 48,
   "metadata": {},
   "outputs": [
    {
     "data": {
      "text/plain": [
       "[('ALFKI', '1996-08-01', 1),\n",
       " ('ALFKI', '1996-09-01', 1),\n",
       " ('ALFKI', '1996-10-01', 1),\n",
       " ('ALFKI', '1996-11-01', 1),\n",
       " ('ALFKI', '1996-12-01', 1)]"
      ]
     },
     "execution_count": 48,
     "metadata": {},
     "output_type": "execute_result"
    }
   ],
   "source": [
    "q7 = '''select customerid\n",
    "    ,end_obs_date\n",
    "    ,count(*)\n",
    "from ads_observation_hist\n",
    "group by 1,2\n",
    "order by 3 desc\n",
    "limit 5\n",
    ";\n",
    "'''\n",
    "er_q(connection,q7)"
   ]
  },
  {
   "cell_type": "code",
   "execution_count": 82,
   "metadata": {},
   "outputs": [
    {
     "data": {
      "text/html": [
       "<div>\n",
       "<style scoped>\n",
       "    .dataframe tbody tr th:only-of-type {\n",
       "        vertical-align: middle;\n",
       "    }\n",
       "\n",
       "    .dataframe tbody tr th {\n",
       "        vertical-align: top;\n",
       "    }\n",
       "\n",
       "    .dataframe thead th {\n",
       "        text-align: right;\n",
       "    }\n",
       "</style>\n",
       "<table border=\"1\" class=\"dataframe\">\n",
       "  <thead>\n",
       "    <tr style=\"text-align: right;\">\n",
       "      <th></th>\n",
       "      <th>end_obs_date</th>\n",
       "      <th>customerid</th>\n",
       "      <th>no_of_distinct_orders_1M</th>\n",
       "      <th>no_of_items_1M</th>\n",
       "      <th>total_price_1M</th>\n",
       "    </tr>\n",
       "  </thead>\n",
       "  <tbody>\n",
       "    <tr>\n",
       "      <th>0</th>\n",
       "      <td>1996-08-01</td>\n",
       "      <td>BOTTM</td>\n",
       "      <td>0</td>\n",
       "      <td>0</td>\n",
       "      <td>0.0</td>\n",
       "    </tr>\n",
       "    <tr>\n",
       "      <th>1</th>\n",
       "      <td>1996-09-01</td>\n",
       "      <td>BOTTM</td>\n",
       "      <td>0</td>\n",
       "      <td>0</td>\n",
       "      <td>0.0</td>\n",
       "    </tr>\n",
       "    <tr>\n",
       "      <th>2</th>\n",
       "      <td>1996-10-01</td>\n",
       "      <td>BOTTM</td>\n",
       "      <td>0</td>\n",
       "      <td>0</td>\n",
       "      <td>0.0</td>\n",
       "    </tr>\n",
       "    <tr>\n",
       "      <th>3</th>\n",
       "      <td>1996-11-01</td>\n",
       "      <td>BOTTM</td>\n",
       "      <td>0</td>\n",
       "      <td>0</td>\n",
       "      <td>0.0</td>\n",
       "    </tr>\n",
       "    <tr>\n",
       "      <th>4</th>\n",
       "      <td>1996-12-01</td>\n",
       "      <td>BOTTM</td>\n",
       "      <td>0</td>\n",
       "      <td>0</td>\n",
       "      <td>0.0</td>\n",
       "    </tr>\n",
       "    <tr>\n",
       "      <th>5</th>\n",
       "      <td>1997-01-01</td>\n",
       "      <td>BOTTM</td>\n",
       "      <td>1</td>\n",
       "      <td>81</td>\n",
       "      <td>1832.8</td>\n",
       "    </tr>\n",
       "    <tr>\n",
       "      <th>6</th>\n",
       "      <td>1997-02-01</td>\n",
       "      <td>BOTTM</td>\n",
       "      <td>3</td>\n",
       "      <td>269</td>\n",
       "      <td>4533.5</td>\n",
       "    </tr>\n",
       "    <tr>\n",
       "      <th>7</th>\n",
       "      <td>1997-03-01</td>\n",
       "      <td>BOTTM</td>\n",
       "      <td>0</td>\n",
       "      <td>0</td>\n",
       "      <td>0.0</td>\n",
       "    </tr>\n",
       "    <tr>\n",
       "      <th>8</th>\n",
       "      <td>1997-04-01</td>\n",
       "      <td>BOTTM</td>\n",
       "      <td>0</td>\n",
       "      <td>0</td>\n",
       "      <td>0.0</td>\n",
       "    </tr>\n",
       "    <tr>\n",
       "      <th>9</th>\n",
       "      <td>1997-05-01</td>\n",
       "      <td>BOTTM</td>\n",
       "      <td>1</td>\n",
       "      <td>80</td>\n",
       "      <td>896.0</td>\n",
       "    </tr>\n",
       "    <tr>\n",
       "      <th>10</th>\n",
       "      <td>1997-06-01</td>\n",
       "      <td>BOTTM</td>\n",
       "      <td>0</td>\n",
       "      <td>0</td>\n",
       "      <td>0.0</td>\n",
       "    </tr>\n",
       "    <tr>\n",
       "      <th>11</th>\n",
       "      <td>1997-07-01</td>\n",
       "      <td>BOTTM</td>\n",
       "      <td>0</td>\n",
       "      <td>0</td>\n",
       "      <td>0.0</td>\n",
       "    </tr>\n",
       "    <tr>\n",
       "      <th>12</th>\n",
       "      <td>1997-08-01</td>\n",
       "      <td>BOTTM</td>\n",
       "      <td>0</td>\n",
       "      <td>0</td>\n",
       "      <td>0.0</td>\n",
       "    </tr>\n",
       "    <tr>\n",
       "      <th>13</th>\n",
       "      <td>1997-09-01</td>\n",
       "      <td>BOTTM</td>\n",
       "      <td>0</td>\n",
       "      <td>0</td>\n",
       "      <td>0.0</td>\n",
       "    </tr>\n",
       "    <tr>\n",
       "      <th>14</th>\n",
       "      <td>1997-10-01</td>\n",
       "      <td>BOTTM</td>\n",
       "      <td>0</td>\n",
       "      <td>0</td>\n",
       "      <td>0.0</td>\n",
       "    </tr>\n",
       "    <tr>\n",
       "      <th>15</th>\n",
       "      <td>1997-11-01</td>\n",
       "      <td>BOTTM</td>\n",
       "      <td>0</td>\n",
       "      <td>0</td>\n",
       "      <td>0.0</td>\n",
       "    </tr>\n",
       "    <tr>\n",
       "      <th>16</th>\n",
       "      <td>1997-12-01</td>\n",
       "      <td>BOTTM</td>\n",
       "      <td>1</td>\n",
       "      <td>105</td>\n",
       "      <td>3118.0</td>\n",
       "    </tr>\n",
       "    <tr>\n",
       "      <th>17</th>\n",
       "      <td>1998-01-01</td>\n",
       "      <td>BOTTM</td>\n",
       "      <td>0</td>\n",
       "      <td>0</td>\n",
       "      <td>0.0</td>\n",
       "    </tr>\n",
       "    <tr>\n",
       "      <th>18</th>\n",
       "      <td>1998-02-01</td>\n",
       "      <td>BOTTM</td>\n",
       "      <td>0</td>\n",
       "      <td>0</td>\n",
       "      <td>0.0</td>\n",
       "    </tr>\n",
       "    <tr>\n",
       "      <th>19</th>\n",
       "      <td>1998-03-01</td>\n",
       "      <td>BOTTM</td>\n",
       "      <td>0</td>\n",
       "      <td>0</td>\n",
       "      <td>0.0</td>\n",
       "    </tr>\n",
       "    <tr>\n",
       "      <th>20</th>\n",
       "      <td>1998-04-01</td>\n",
       "      <td>BOTTM</td>\n",
       "      <td>5</td>\n",
       "      <td>289</td>\n",
       "      <td>9222.6</td>\n",
       "    </tr>\n",
       "    <tr>\n",
       "      <th>21</th>\n",
       "      <td>1998-05-01</td>\n",
       "      <td>BOTTM</td>\n",
       "      <td>3</td>\n",
       "      <td>132</td>\n",
       "      <td>3004.8</td>\n",
       "    </tr>\n",
       "    <tr>\n",
       "      <th>22</th>\n",
       "      <td>1998-06-01</td>\n",
       "      <td>BOTTM</td>\n",
       "      <td>0</td>\n",
       "      <td>0</td>\n",
       "      <td>0.0</td>\n",
       "    </tr>\n",
       "  </tbody>\n",
       "</table>\n",
       "</div>"
      ],
      "text/plain": [
       "   end_obs_date customerid  no_of_distinct_orders_1M  no_of_items_1M  \\\n",
       "0    1996-08-01      BOTTM                         0               0   \n",
       "1    1996-09-01      BOTTM                         0               0   \n",
       "2    1996-10-01      BOTTM                         0               0   \n",
       "3    1996-11-01      BOTTM                         0               0   \n",
       "4    1996-12-01      BOTTM                         0               0   \n",
       "5    1997-01-01      BOTTM                         1              81   \n",
       "6    1997-02-01      BOTTM                         3             269   \n",
       "7    1997-03-01      BOTTM                         0               0   \n",
       "8    1997-04-01      BOTTM                         0               0   \n",
       "9    1997-05-01      BOTTM                         1              80   \n",
       "10   1997-06-01      BOTTM                         0               0   \n",
       "11   1997-07-01      BOTTM                         0               0   \n",
       "12   1997-08-01      BOTTM                         0               0   \n",
       "13   1997-09-01      BOTTM                         0               0   \n",
       "14   1997-10-01      BOTTM                         0               0   \n",
       "15   1997-11-01      BOTTM                         0               0   \n",
       "16   1997-12-01      BOTTM                         1             105   \n",
       "17   1998-01-01      BOTTM                         0               0   \n",
       "18   1998-02-01      BOTTM                         0               0   \n",
       "19   1998-03-01      BOTTM                         0               0   \n",
       "20   1998-04-01      BOTTM                         5             289   \n",
       "21   1998-05-01      BOTTM                         3             132   \n",
       "22   1998-06-01      BOTTM                         0               0   \n",
       "\n",
       "    total_price_1M  \n",
       "0              0.0  \n",
       "1              0.0  \n",
       "2              0.0  \n",
       "3              0.0  \n",
       "4              0.0  \n",
       "5           1832.8  \n",
       "6           4533.5  \n",
       "7              0.0  \n",
       "8              0.0  \n",
       "9            896.0  \n",
       "10             0.0  \n",
       "11             0.0  \n",
       "12             0.0  \n",
       "13             0.0  \n",
       "14             0.0  \n",
       "15             0.0  \n",
       "16          3118.0  \n",
       "17             0.0  \n",
       "18             0.0  \n",
       "19             0.0  \n",
       "20          9222.6  \n",
       "21          3004.8  \n",
       "22             0.0  "
      ]
     },
     "execution_count": 82,
     "metadata": {},
     "output_type": "execute_result"
    }
   ],
   "source": [
    "q8 = '''select * from ads_observation_hist WHERE customerid = 'BOTTM' ORDER BY customerid limit 50;\n",
    "'''\n",
    "#er_q(connection,q8)\n",
    "display_query(q8)"
   ]
  },
  {
   "cell_type": "markdown",
   "metadata": {},
   "source": [
    "\n",
    "\n",
    "Create following attributes in table ads_observation_hist using SQLWorkbench and database Northwind.\n",
    "\n",
    "    * noofitems_3M (use window functions)\n",
    "    * totalprice3M (use window functions)\n",
    "    * maxmonthlytotalprice3M (use window functions)\n",
    "    * minmonthlytotalprice3M (use window functions)\n",
    "    * avgnoofitems3M (use window functions)\n",
    "\n",
    "All attributes should be in the table that is monthly aggregated and every client is there for every month.\n",
    "Note\n",
    "\n",
    "You can continue directly after the ADS tutorial and build on top of the table ads_observation_hist.\n"
   ]
  },
  {
   "cell_type": "code",
   "execution_count": 110,
   "metadata": {},
   "outputs": [
    {
     "data": {
      "text/html": [
       "<div>\n",
       "<style scoped>\n",
       "    .dataframe tbody tr th:only-of-type {\n",
       "        vertical-align: middle;\n",
       "    }\n",
       "\n",
       "    .dataframe tbody tr th {\n",
       "        vertical-align: top;\n",
       "    }\n",
       "\n",
       "    .dataframe thead th {\n",
       "        text-align: right;\n",
       "    }\n",
       "</style>\n",
       "<table border=\"1\" class=\"dataframe\">\n",
       "  <thead>\n",
       "    <tr style=\"text-align: right;\">\n",
       "      <th></th>\n",
       "      <th>end_obs_date</th>\n",
       "      <th>customerid</th>\n",
       "      <th>no_of_distinct_orders_1M</th>\n",
       "      <th>no_of_orders_3M</th>\n",
       "      <th>avg_no_of_items_3M</th>\n",
       "      <th>no_of_items_1M</th>\n",
       "      <th>no_of_items_3M</th>\n",
       "      <th>total_price_1M</th>\n",
       "      <th>total_price_3M</th>\n",
       "      <th>max_monthly_total_price_3M</th>\n",
       "      <th>min_monthly_total_price_3M</th>\n",
       "    </tr>\n",
       "  </thead>\n",
       "  <tbody>\n",
       "    <tr>\n",
       "      <th>0</th>\n",
       "      <td>1997-06-01</td>\n",
       "      <td>ALFKI</td>\n",
       "      <td>0</td>\n",
       "      <td>0</td>\n",
       "      <td>0.000000</td>\n",
       "      <td>0</td>\n",
       "      <td>0</td>\n",
       "      <td>0.0</td>\n",
       "      <td>0.0</td>\n",
       "      <td>0.0</td>\n",
       "      <td>0</td>\n",
       "    </tr>\n",
       "    <tr>\n",
       "      <th>1</th>\n",
       "      <td>1997-07-01</td>\n",
       "      <td>ALFKI</td>\n",
       "      <td>0</td>\n",
       "      <td>0</td>\n",
       "      <td>0.000000</td>\n",
       "      <td>0</td>\n",
       "      <td>0</td>\n",
       "      <td>0.0</td>\n",
       "      <td>0.0</td>\n",
       "      <td>0.0</td>\n",
       "      <td>0</td>\n",
       "    </tr>\n",
       "    <tr>\n",
       "      <th>2</th>\n",
       "      <td>1997-08-01</td>\n",
       "      <td>ALFKI</td>\n",
       "      <td>0</td>\n",
       "      <td>0</td>\n",
       "      <td>0.000000</td>\n",
       "      <td>0</td>\n",
       "      <td>0</td>\n",
       "      <td>0.0</td>\n",
       "      <td>0.0</td>\n",
       "      <td>0.0</td>\n",
       "      <td>0</td>\n",
       "    </tr>\n",
       "    <tr>\n",
       "      <th>3</th>\n",
       "      <td>1997-09-01</td>\n",
       "      <td>ALFKI</td>\n",
       "      <td>1</td>\n",
       "      <td>1</td>\n",
       "      <td>0.333333</td>\n",
       "      <td>38</td>\n",
       "      <td>38</td>\n",
       "      <td>1086.0</td>\n",
       "      <td>1086.0</td>\n",
       "      <td>1086.0</td>\n",
       "      <td>0</td>\n",
       "    </tr>\n",
       "    <tr>\n",
       "      <th>4</th>\n",
       "      <td>1997-10-01</td>\n",
       "      <td>ALFKI</td>\n",
       "      <td>0</td>\n",
       "      <td>1</td>\n",
       "      <td>0.333333</td>\n",
       "      <td>0</td>\n",
       "      <td>38</td>\n",
       "      <td>0.0</td>\n",
       "      <td>1086.0</td>\n",
       "      <td>1086.0</td>\n",
       "      <td>0</td>\n",
       "    </tr>\n",
       "    <tr>\n",
       "      <th>5</th>\n",
       "      <td>1997-11-01</td>\n",
       "      <td>ALFKI</td>\n",
       "      <td>2</td>\n",
       "      <td>3</td>\n",
       "      <td>1.000000</td>\n",
       "      <td>41</td>\n",
       "      <td>79</td>\n",
       "      <td>1208.0</td>\n",
       "      <td>2294.0</td>\n",
       "      <td>1208.0</td>\n",
       "      <td>0</td>\n",
       "    </tr>\n",
       "    <tr>\n",
       "      <th>6</th>\n",
       "      <td>1997-12-01</td>\n",
       "      <td>ALFKI</td>\n",
       "      <td>0</td>\n",
       "      <td>2</td>\n",
       "      <td>0.666667</td>\n",
       "      <td>0</td>\n",
       "      <td>41</td>\n",
       "      <td>0.0</td>\n",
       "      <td>1208.0</td>\n",
       "      <td>1208.0</td>\n",
       "      <td>0</td>\n",
       "    </tr>\n",
       "    <tr>\n",
       "      <th>7</th>\n",
       "      <td>1998-01-01</td>\n",
       "      <td>ALFKI</td>\n",
       "      <td>0</td>\n",
       "      <td>2</td>\n",
       "      <td>0.666667</td>\n",
       "      <td>0</td>\n",
       "      <td>41</td>\n",
       "      <td>0.0</td>\n",
       "      <td>1208.0</td>\n",
       "      <td>1208.0</td>\n",
       "      <td>0</td>\n",
       "    </tr>\n",
       "    <tr>\n",
       "      <th>8</th>\n",
       "      <td>1998-02-01</td>\n",
       "      <td>ALFKI</td>\n",
       "      <td>1</td>\n",
       "      <td>1</td>\n",
       "      <td>0.333333</td>\n",
       "      <td>17</td>\n",
       "      <td>17</td>\n",
       "      <td>851.0</td>\n",
       "      <td>851.0</td>\n",
       "      <td>851.0</td>\n",
       "      <td>0</td>\n",
       "    </tr>\n",
       "    <tr>\n",
       "      <th>9</th>\n",
       "      <td>1998-03-01</td>\n",
       "      <td>ALFKI</td>\n",
       "      <td>0</td>\n",
       "      <td>1</td>\n",
       "      <td>0.333333</td>\n",
       "      <td>0</td>\n",
       "      <td>17</td>\n",
       "      <td>0.0</td>\n",
       "      <td>851.0</td>\n",
       "      <td>851.0</td>\n",
       "      <td>0</td>\n",
       "    </tr>\n",
       "  </tbody>\n",
       "</table>\n",
       "</div>"
      ],
      "text/plain": [
       "  end_obs_date customerid  no_of_distinct_orders_1M  no_of_orders_3M  \\\n",
       "0   1997-06-01      ALFKI                         0                0   \n",
       "1   1997-07-01      ALFKI                         0                0   \n",
       "2   1997-08-01      ALFKI                         0                0   \n",
       "3   1997-09-01      ALFKI                         1                1   \n",
       "4   1997-10-01      ALFKI                         0                1   \n",
       "5   1997-11-01      ALFKI                         2                3   \n",
       "6   1997-12-01      ALFKI                         0                2   \n",
       "7   1998-01-01      ALFKI                         0                2   \n",
       "8   1998-02-01      ALFKI                         1                1   \n",
       "9   1998-03-01      ALFKI                         0                1   \n",
       "\n",
       "   avg_no_of_items_3M  no_of_items_1M  no_of_items_3M  total_price_1M  \\\n",
       "0            0.000000               0               0             0.0   \n",
       "1            0.000000               0               0             0.0   \n",
       "2            0.000000               0               0             0.0   \n",
       "3            0.333333              38              38          1086.0   \n",
       "4            0.333333               0              38             0.0   \n",
       "5            1.000000              41              79          1208.0   \n",
       "6            0.666667               0              41             0.0   \n",
       "7            0.666667               0              41             0.0   \n",
       "8            0.333333              17              17           851.0   \n",
       "9            0.333333               0              17             0.0   \n",
       "\n",
       "   total_price_3M  max_monthly_total_price_3M  min_monthly_total_price_3M  \n",
       "0             0.0                         0.0                           0  \n",
       "1             0.0                         0.0                           0  \n",
       "2             0.0                         0.0                           0  \n",
       "3          1086.0                      1086.0                           0  \n",
       "4          1086.0                      1086.0                           0  \n",
       "5          2294.0                      1208.0                           0  \n",
       "6          1208.0                      1208.0                           0  \n",
       "7          1208.0                      1208.0                           0  \n",
       "8           851.0                       851.0                           0  \n",
       "9           851.0                       851.0                           0  "
      ]
     },
     "execution_count": 110,
     "metadata": {},
     "output_type": "execute_result"
    }
   ],
   "source": [
    "q9 = '''\n",
    "SELECT\n",
    "    end_obs_date,\n",
    "    customerid,\n",
    "    no_of_distinct_orders_1M,\n",
    "    SUM(no_of_distinct_orders_1M) OVER ( ORDER BY customerid ROWS BETWEEN 2 PRECEDING AND CURRENT ROW) AS no_of_orders_3M,\n",
    "    AVG(no_of_distinct_orders_1M) OVER ( ORDER BY customerid ROWS BETWEEN 2 PRECEDING AND CURRENT ROW) AS avg_no_of_items_3M,\n",
    "    no_of_items_1M,\n",
    "    SUM(no_of_items_1M) OVER ( ORDER BY customerid ROWS BETWEEN 2 PRECEDING AND CURRENT ROW) AS no_of_items_3M, \n",
    "    total_price_1M,\n",
    "    SUM(total_price_1M) OVER ( ORDER BY customerid ROWS BETWEEN 2 PRECEDING AND CURRENT ROW) AS total_price_3M,\n",
    "    MAX(total_price_1M) OVER (ORDER BY customerid ROWS BETWEEN 2 PRECEDING AND CURRENT ROW) as max_monthly_total_price_3M,\n",
    "    MIN(total_price_1M) OVER (ORDER BY customerid ROWS BETWEEN 2 PRECEDING AND CURRENT ROW) as min_monthly_total_price_3M\n",
    "    --MAX(total_price_1m) OVER (PARTITION BY customerid) AS max_monthly_total_price_3M,\n",
    "    --MIN(total_price_1m) OVER (PARTITION BY customerid) AS min_monthly_total_price_3M\n",
    "FROM ads_observation_hist\n",
    "-- WHERE customerid = 'BOTTM'\n",
    "-- ORDER BY customerid\n",
    "--ORDER BY end_obs_date\n",
    "limit 10 OFFSET 10\n",
    "'''\n",
    "\n",
    "#date(end_obs_date,'start of month','+2 month'\n",
    "\n",
    "display_query(q9)"
   ]
  },
  {
   "cell_type": "code",
   "execution_count": 121,
   "metadata": {},
   "outputs": [
    {
     "name": "stdout",
     "output_type": "stream",
     "text": [
      "The error 'near \".\": syntax error' occurred\n"
     ]
    }
   ],
   "source": [
    "alter_ads_observation_hist = '''\n",
    "ALTER TABLE ads_observation_hist \n",
    "    ADD COLUMN no_of_items_3M. \n",
    "    ADD COLUMN total_price_3M,\n",
    "    ADD COLUMN max_monthly_total_price_3M, \n",
    "    ADD COLUMN min_monthly_total_price_3M,\n",
    "    ADD COLUMN avg_no_of_items_3M;'''\n",
    "\n",
    "'''ALTER TABLE ads_observation_hist \n",
    "    ADD COLUMN no_of_items_3m SMALLINT, \n",
    "    ADD COLUMN total_price_3M FLOAT6,\n",
    "    ADD COLUMN max_monthly_total_price_3M FLOAT6, \n",
    "    ADD COLUMN min_monthly_total_price_3M FLOAT6,\n",
    "    ADD COLUMN avg_no_of_items_3M FLOAT6;'''\n",
    "# SMALLINT\n",
    "\n",
    "\n",
    "ex_q(connection, alter_ads_observation_hist)"
   ]
  },
  {
   "cell_type": "code",
   "execution_count": null,
   "metadata": {},
   "outputs": [],
   "source": []
  }
 ],
 "metadata": {
  "kernelspec": {
   "display_name": "lighthouse-lab-course",
   "language": "python",
   "name": "lighthouse-lab-course"
  },
  "language_info": {
   "codemirror_mode": {
    "name": "ipython",
    "version": 3
   },
   "file_extension": ".py",
   "mimetype": "text/x-python",
   "name": "python",
   "nbconvert_exporter": "python",
   "pygments_lexer": "ipython3",
   "version": "3.8.5"
  }
 },
 "nbformat": 4,
 "nbformat_minor": 4
}
