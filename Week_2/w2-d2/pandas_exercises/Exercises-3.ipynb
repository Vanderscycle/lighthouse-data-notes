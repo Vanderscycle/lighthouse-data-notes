{
 "cells": [
  {
   "cell_type": "code",
   "execution_count": 1,
   "metadata": {},
   "outputs": [],
   "source": [
    "import pandas as pd\n",
    "from tabulate import tabulate"
   ]
  },
  {
   "cell_type": "markdown",
   "metadata": {},
   "source": [
    "### Connect Pandas to the database with this URL: "
   ]
  },
  {
   "cell_type": "code",
   "execution_count": 2,
   "metadata": {},
   "outputs": [],
   "source": [
    "# titles = pd.read_csv('data/titles.csv')\n",
    "# titles.head()"
   ]
  },
  {
   "cell_type": "code",
   "execution_count": 3,
   "metadata": {},
   "outputs": [],
   "source": [
    "# cast = pd.read_csv('data/cast.csv')\n",
    "# cast.head()\n"
   ]
  },
  {
   "cell_type": "code",
   "execution_count": 4,
   "metadata": {},
   "outputs": [
    {
     "data": {
      "text/html": [
       "<div>\n",
       "<style scoped>\n",
       "    .dataframe tbody tr th:only-of-type {\n",
       "        vertical-align: middle;\n",
       "    }\n",
       "\n",
       "    .dataframe tbody tr th {\n",
       "        vertical-align: top;\n",
       "    }\n",
       "\n",
       "    .dataframe thead th {\n",
       "        text-align: right;\n",
       "    }\n",
       "</style>\n",
       "<table border=\"1\" class=\"dataframe\">\n",
       "  <thead>\n",
       "    <tr style=\"text-align: right;\">\n",
       "      <th></th>\n",
       "      <th>title</th>\n",
       "      <th>year</th>\n",
       "      <th>name</th>\n",
       "      <th>type</th>\n",
       "      <th>character</th>\n",
       "      <th>n</th>\n",
       "    </tr>\n",
       "  </thead>\n",
       "  <tbody>\n",
       "    <tr>\n",
       "      <th>0</th>\n",
       "      <td>Closet Monster</td>\n",
       "      <td>2015</td>\n",
       "      <td>Buffy #1</td>\n",
       "      <td>actor</td>\n",
       "      <td>Buffy 4</td>\n",
       "      <td>NaN</td>\n",
       "    </tr>\n",
       "    <tr>\n",
       "      <th>1</th>\n",
       "      <td>Suuri illusioni</td>\n",
       "      <td>1985</td>\n",
       "      <td>Homo $</td>\n",
       "      <td>actor</td>\n",
       "      <td>Guests</td>\n",
       "      <td>22.0</td>\n",
       "    </tr>\n",
       "    <tr>\n",
       "      <th>2</th>\n",
       "      <td>Battle of the Sexes</td>\n",
       "      <td>2017</td>\n",
       "      <td>$hutter</td>\n",
       "      <td>actor</td>\n",
       "      <td>Bobby Riggs Fan</td>\n",
       "      <td>10.0</td>\n",
       "    </tr>\n",
       "    <tr>\n",
       "      <th>3</th>\n",
       "      <td>Secret in Their Eyes</td>\n",
       "      <td>2015</td>\n",
       "      <td>$hutter</td>\n",
       "      <td>actor</td>\n",
       "      <td>2002 Dodger Fan</td>\n",
       "      <td>NaN</td>\n",
       "    </tr>\n",
       "    <tr>\n",
       "      <th>4</th>\n",
       "      <td>Steve Jobs</td>\n",
       "      <td>2015</td>\n",
       "      <td>$hutter</td>\n",
       "      <td>actor</td>\n",
       "      <td>1988 Opera House Patron</td>\n",
       "      <td>NaN</td>\n",
       "    </tr>\n",
       "  </tbody>\n",
       "</table>\n",
       "</div>"
      ],
      "text/plain": [
       "                  title  year      name   type                character     n\n",
       "0        Closet Monster  2015  Buffy #1  actor                  Buffy 4   NaN\n",
       "1       Suuri illusioni  1985    Homo $  actor                   Guests  22.0\n",
       "2   Battle of the Sexes  2017   $hutter  actor          Bobby Riggs Fan  10.0\n",
       "3  Secret in Their Eyes  2015   $hutter  actor          2002 Dodger Fan   NaN\n",
       "4            Steve Jobs  2015   $hutter  actor  1988 Opera House Patron   NaN"
      ]
     },
     "execution_count": 4,
     "metadata": {},
     "output_type": "execute_result"
    }
   ],
   "source": [
    "cst_ab_pth = '/home/vanderscycle/Documents/Lighthouse-lab/Databases/w2-d2-db/imdb_pandas/cast.csv'\n",
    "title_ab_pth = '/home/vanderscycle/Documents/Lighthouse-lab/Databases/w2-d2-db/imdb_pandas/titles.csv'\n",
    "\n",
    "\n",
    "titles = pd.read_csv(title_ab_pth) # relative path use the forward slash\n",
    "titles.head()\n",
    "\n",
    "cast = pd.read_csv(cst_ab_pth)\n",
    "cast.head()"
   ]
  },
  {
   "cell_type": "code",
   "execution_count": 5,
   "metadata": {},
   "outputs": [
    {
     "data": {
      "text/plain": [
       "'files_path\\ndef open_rel(rel_path,files):\\n    for file in files:\\n   '"
      ]
     },
     "execution_count": 5,
     "metadata": {},
     "output_type": "execute_result"
    }
   ],
   "source": [
    "'''files_path\n",
    "def open_rel(rel_path,files):\n",
    "    for file in files:\n",
    "   '''\n",
    "# can I create a function to open multiple files?"
   ]
  },
  {
   "cell_type": "code",
   "execution_count": 6,
   "metadata": {},
   "outputs": [],
   "source": [
    "def pprint(df, headers=(), tablefmt='simple', floatfmt='g', numalign='decimal', stralign='left', missingval='', showindex='default', disable_numparse=False, colalign=None):\n",
    "\n",
    "    #help(tabulate)\n",
    "    return print(tabulate(df, headers=df.columns.values))"
   ]
  },
  {
   "cell_type": "markdown",
   "metadata": {},
   "source": [
    "### Using groupby(), count the number of films that have been released each decade in the history of cinema."
   ]
  },
  {
   "cell_type": "code",
   "execution_count": 7,
   "metadata": {},
   "outputs": [
    {
     "data": {
      "text/html": [
       "<div>\n",
       "<style scoped>\n",
       "    .dataframe tbody tr th:only-of-type {\n",
       "        vertical-align: middle;\n",
       "    }\n",
       "\n",
       "    .dataframe tbody tr th {\n",
       "        vertical-align: top;\n",
       "    }\n",
       "\n",
       "    .dataframe thead th {\n",
       "        text-align: right;\n",
       "    }\n",
       "</style>\n",
       "<table border=\"1\" class=\"dataframe\">\n",
       "  <thead>\n",
       "    <tr style=\"text-align: right;\">\n",
       "      <th></th>\n",
       "      <th>title</th>\n",
       "      <th>year</th>\n",
       "    </tr>\n",
       "  </thead>\n",
       "  <tbody>\n",
       "    <tr>\n",
       "      <th>0</th>\n",
       "      <td>The Rising Son</td>\n",
       "      <td>1990</td>\n",
       "    </tr>\n",
       "    <tr>\n",
       "      <th>1</th>\n",
       "      <td>The Thousand Plane Raid</td>\n",
       "      <td>1969</td>\n",
       "    </tr>\n",
       "    <tr>\n",
       "      <th>2</th>\n",
       "      <td>Crucea de piatra</td>\n",
       "      <td>1993</td>\n",
       "    </tr>\n",
       "    <tr>\n",
       "      <th>3</th>\n",
       "      <td>Country</td>\n",
       "      <td>2000</td>\n",
       "    </tr>\n",
       "    <tr>\n",
       "      <th>4</th>\n",
       "      <td>Gaiking II</td>\n",
       "      <td>2011</td>\n",
       "    </tr>\n",
       "  </tbody>\n",
       "</table>\n",
       "</div>"
      ],
      "text/plain": [
       "                     title  year\n",
       "0           The Rising Son  1990\n",
       "1  The Thousand Plane Raid  1969\n",
       "2         Crucea de piatra  1993\n",
       "3                  Country  2000\n",
       "4               Gaiking II  2011"
      ]
     },
     "execution_count": 7,
     "metadata": {},
     "output_type": "execute_result"
    }
   ],
   "source": [
    "titles.head()"
   ]
  },
  {
   "cell_type": "code",
   "execution_count": 8,
   "metadata": {},
   "outputs": [
    {
     "name": "stdout",
     "output_type": "stream",
     "text": [
      "                title    year\n",
      "------------  -------  ------\n",
      "(1880, 1890]        0       0\n",
      "(1890, 1900]        7       7\n",
      "(1900, 1910]       55      55\n",
      "(1910, 1920]     7617    7617\n",
      "(1920, 1930]     8490    8490\n",
      "(1930, 1940]    10277   10277\n",
      "(1940, 1950]     8675    8675\n",
      "(1950, 1960]    13113   13113\n",
      "(1960, 1970]    18166   18166\n",
      "(1970, 1980]    18351   18351\n",
      "(1980, 1990]    20746   20746\n",
      "(1990, 2000]    22672   22672\n",
      "(2000, 2010]    42247   42247\n",
      "(2010, 2020]    61847   61847\n"
     ]
    }
   ],
   "source": [
    "m_decade_range = range(1880,2030,10)\n",
    "titles_range = titles.groupby(pd.cut(titles.year,m_decade_range)).count()\n",
    "pprint(titles_range)"
   ]
  },
  {
   "cell_type": "markdown",
   "metadata": {},
   "source": [
    "### Use groupby() count the number of \"Hamlet\" films made each decade."
   ]
  },
  {
   "cell_type": "code",
   "execution_count": 9,
   "metadata": {},
   "outputs": [
    {
     "name": "stdout",
     "output_type": "stream",
     "text": [
      "                title    year\n",
      "------------  -------  ------\n",
      "(1920, 1930]        1       1\n",
      "(1930, 1940]        0       0\n",
      "(1940, 1950]        1       1\n",
      "                title    year\n",
      "------------  -------  ------\n",
      "(1880, 1890]        0       0\n",
      "(1890, 1900]        0       0\n",
      "(1900, 1910]        1       1\n",
      "(1910, 1920]        2       2\n",
      "(1920, 1930]        1       1\n",
      "(1930, 1940]        0       0\n",
      "(1940, 1950]        1       1\n",
      "(1950, 1960]        1       1\n",
      "(1960, 1970]        2       2\n",
      "(1970, 1980]        2       2\n",
      "(1980, 1990]        2       2\n",
      "(1990, 2000]        2       2\n",
      "(2000, 2010]        1       1\n",
      "(2010, 2020]        3       3\n"
     ]
    }
   ],
   "source": [
    "m_decade_range = range(1880,2030,10)\n",
    "ham = titles[titles['title'].isin(['Hamlet'])]\n",
    "pprint(ham.groupby(pd.cut(ham.year,[1920,1930,1940,1950])).count()) # (most_accurate_df, range/list)\n",
    "\n",
    "pprint(ham.groupby(pd.cut(ham.year,m_decade_range)).count())\n",
    "#titles_range = titles.groupby(pd.cut(titles.year,m_decade_range)).count()\n",
    "#pprint(titles_range)"
   ]
  },
  {
   "cell_type": "code",
   "execution_count": 10,
   "metadata": {},
   "outputs": [],
   "source": [
    "#help(pd.cut)"
   ]
  },
  {
   "cell_type": "markdown",
   "metadata": {},
   "source": [
    "### How many leading (n=1) roles were available to actors, and how many to actresses, in each year of the 1950s?"
   ]
  },
  {
   "cell_type": "code",
   "execution_count": 11,
   "metadata": {},
   "outputs": [],
   "source": [
    "decade1950_range = range(1950,1959,1)\n",
    "cast_50s_in = cast.set_index(['year','type','n']).sort_index(level=[0,1,2])"
   ]
  },
  {
   "cell_type": "code",
   "execution_count": 12,
   "metadata": {},
   "outputs": [],
   "source": [
    "top_male_cast_50s = (cast_50s_in.loc[(decade1950_range,'actor',1)]).groupby(['year']).count()"
   ]
  },
  {
   "cell_type": "code",
   "execution_count": 13,
   "metadata": {},
   "outputs": [],
   "source": [
    "top_female_cast_50s = (cast_50s_in.loc[(decade1950_range,'actress',1)]).groupby(['year']).count()"
   ]
  },
  {
   "cell_type": "code",
   "execution_count": 14,
   "metadata": {},
   "outputs": [
    {
     "data": {
      "text/plain": [
       "array(['actor', 'actress'], dtype=object)"
      ]
     },
     "execution_count": 14,
     "metadata": {},
     "output_type": "execute_result"
    }
   ],
   "source": [
    "pd.unique(cast['type']) #cool methos to only see unique values in a given column(serie)"
   ]
  },
  {
   "cell_type": "code",
   "execution_count": 15,
   "metadata": {},
   "outputs": [
    {
     "name": "stdout",
     "output_type": "stream",
     "text": [
      "        title    name    character\n",
      "----  -------  ------  -----------\n",
      "1950      345     345          345\n",
      "1951      366     366          366\n",
      "1952      314     314          314\n",
      "1953      351     351          351\n",
      "1954      324     324          324\n",
      "1955      360     360          360\n",
      "1956      338     338          338\n",
      "1957      434     434          434\n",
      "1958      415     415          415\n"
     ]
    }
   ],
   "source": [
    "delta_top_cast_roles = top_male_cast_50s-top_female_cast_50s\n",
    "pprint(delta_top_cast_roles)"
   ]
  },
  {
   "cell_type": "markdown",
   "metadata": {},
   "source": [
    "### In the 1950s decade taken as a whole, how many total roles were available to actors, and how many to actresses, for each \"n\" number 1 through 5?"
   ]
  },
  {
   "cell_type": "code",
   "execution_count": 16,
   "metadata": {},
   "outputs": [],
   "source": [
    "male_cast_n1to5 = dict()\n",
    "for i in range(1,6):\n",
    "    male_cast_n1to5[i]= cast_50s_in.loc[(decade1950_range,'actor',i)].groupby(['year'])"
   ]
  },
  {
   "cell_type": "code",
   "execution_count": 17,
   "metadata": {},
   "outputs": [],
   "source": [
    "# for k,v in male_cast_n1to5.items():\n",
    "#     print(f'\\nmale role tier:{k}')\n",
    "#     pprint(v.count())"
   ]
  },
  {
   "cell_type": "code",
   "execution_count": 18,
   "metadata": {},
   "outputs": [],
   "source": [
    "female_cast_n1to5 = dict()\n",
    "for i in range(1,6):\n",
    "    female_cast_n1to5[i]= cast_50s_in.loc[(decade1950_range,'actress',i)].groupby(['year'])"
   ]
  },
  {
   "cell_type": "code",
   "execution_count": 19,
   "metadata": {},
   "outputs": [],
   "source": [
    "# for k,v in male_cast_n1to5.items():\n",
    "#     print(f'\\nfemale role tier:{k}')\n",
    "#     pprint(v.count())"
   ]
  },
  {
   "cell_type": "code",
   "execution_count": 20,
   "metadata": {},
   "outputs": [
    {
     "name": "stdout",
     "output_type": "stream",
     "text": [
      "\n",
      "delta (male-female) for role tier:1\n",
      "negative values means more female in that role\n",
      "        title    name    character\n",
      "----  -------  ------  -----------\n",
      "1950      345     345          345\n",
      "1951      366     366          366\n",
      "1952      314     314          314\n",
      "1953      351     351          351\n",
      "1954      324     324          324\n",
      "1955      360     360          360\n",
      "1956      338     338          338\n",
      "1957      434     434          434\n",
      "1958      415     415          415\n",
      "\n",
      "delta (male-female) for role tier:2\n",
      "negative values means more female in that role\n",
      "        title    name    character\n",
      "----  -------  ------  -----------\n",
      "1950       22      22           22\n",
      "1951       26      26           26\n",
      "1952        1       1            1\n",
      "1953       12      12           12\n",
      "1954      -63     -63          -63\n",
      "1955      -34     -34          -34\n",
      "1956       35      35           35\n",
      "1957      -30     -30          -30\n",
      "1958       16      16           16\n",
      "\n",
      "delta (male-female) for role tier:3\n",
      "negative values means more female in that role\n",
      "        title    name    character\n",
      "----  -------  ------  -----------\n",
      "1950      191     191          191\n",
      "1951      267     267          267\n",
      "1952      233     233          233\n",
      "1953      254     254          254\n",
      "1954      267     267          267\n",
      "1955      257     257          257\n",
      "1956      244     244          244\n",
      "1957      283     283          283\n",
      "1958      249     249          249\n",
      "\n",
      "delta (male-female) for role tier:4\n",
      "negative values means more female in that role\n",
      "        title    name    character\n",
      "----  -------  ------  -----------\n",
      "1950      263     263          263\n",
      "1951      316     316          316\n",
      "1952      240     240          240\n",
      "1953      280     280          280\n",
      "1954      292     292          292\n",
      "1955      262     262          262\n",
      "1956      255     255          255\n",
      "1957      286     286          286\n",
      "1958      268     268          268\n",
      "\n",
      "delta (male-female) for role tier:5\n",
      "negative values means more female in that role\n",
      "        title    name    character\n",
      "----  -------  ------  -----------\n",
      "1950      331     331          331\n",
      "1951      327     327          327\n",
      "1952      316     316          316\n",
      "1953      298     298          298\n",
      "1954      279     279          279\n",
      "1955      295     295          295\n",
      "1956      290     290          290\n",
      "1957      313     313          313\n",
      "1958      308     308          308\n"
     ]
    }
   ],
   "source": [
    "#for (k,v), (k2,v2) in zip(d.items(), d2.items()):\n",
    "for (km,vm),(kf,vf) in zip(male_cast_n1to5.items(),female_cast_n1to5.items()):\n",
    "    delta_c = vm.count() - vf.count()\n",
    "    print(f'\\ndelta (male-female) for role tier:{km}\\nnegative values means more female in that role')\n",
    "    pprint(delta_c)"
   ]
  },
  {
   "cell_type": "code",
   "execution_count": 21,
   "metadata": {},
   "outputs": [],
   "source": [
    "top5_male_cast_50s = (cast_50s_in.loc[(decade1950_range,'actor',range(1,5))]).groupby(['year'])"
   ]
  },
  {
   "cell_type": "code",
   "execution_count": 22,
   "metadata": {},
   "outputs": [],
   "source": [
    "top5_female_cast_50s = (cast_50s_in.loc[(decade1950_range,'actress',range(1,5))]).groupby(['year'])"
   ]
  },
  {
   "cell_type": "code",
   "execution_count": 23,
   "metadata": {},
   "outputs": [],
   "source": [
    "delta_top5_cast_roles = top5_male_cast_50s.count()-top5_female_cast_50s.count()\n",
    "#pprint(delta_top5_cast_roles)"
   ]
  },
  {
   "cell_type": "markdown",
   "metadata": {},
   "source": [
    "### Use groupby() to determine how many roles are listed for each of the Pink Panther movies."
   ]
  },
  {
   "cell_type": "markdown",
   "metadata": {},
   "source": [
    "[next time use the regex](https://kanoki.org/2019/11/12/how-to-use-regex-in-pandas/)"
   ]
  },
  {
   "cell_type": "code",
   "execution_count": 24,
   "metadata": {},
   "outputs": [
    {
     "data": {
      "text/html": [
       "<div>\n",
       "<style scoped>\n",
       "    .dataframe tbody tr th:only-of-type {\n",
       "        vertical-align: middle;\n",
       "    }\n",
       "\n",
       "    .dataframe tbody tr th {\n",
       "        vertical-align: top;\n",
       "    }\n",
       "\n",
       "    .dataframe thead th {\n",
       "        text-align: right;\n",
       "    }\n",
       "</style>\n",
       "<table border=\"1\" class=\"dataframe\">\n",
       "  <thead>\n",
       "    <tr style=\"text-align: right;\">\n",
       "      <th></th>\n",
       "      <th>title</th>\n",
       "      <th>year</th>\n",
       "      <th>name</th>\n",
       "      <th>type</th>\n",
       "      <th>character</th>\n",
       "      <th>n</th>\n",
       "    </tr>\n",
       "  </thead>\n",
       "  <tbody>\n",
       "    <tr>\n",
       "      <th>955</th>\n",
       "      <td>The Pink Panther</td>\n",
       "      <td>2006</td>\n",
       "      <td>William Abadie</td>\n",
       "      <td>actor</td>\n",
       "      <td>Bizu</td>\n",
       "      <td>11.0</td>\n",
       "    </tr>\n",
       "    <tr>\n",
       "      <th>1978</th>\n",
       "      <td>Revenge of the Pink Panther</td>\n",
       "      <td>1978</td>\n",
       "      <td>Fredric Abbott</td>\n",
       "      <td>actor</td>\n",
       "      <td>Douvier's Soldier</td>\n",
       "      <td>38.0</td>\n",
       "    </tr>\n",
       "    <tr>\n",
       "      <th>4691</th>\n",
       "      <td>Curse of the Pink Panther</td>\n",
       "      <td>1983</td>\n",
       "      <td>William Abney</td>\n",
       "      <td>actor</td>\n",
       "      <td>Hugo the Houseman</td>\n",
       "      <td>33.0</td>\n",
       "    </tr>\n",
       "    <tr>\n",
       "      <th>12589</th>\n",
       "      <td>Son of the Pink Panther</td>\n",
       "      <td>1993</td>\n",
       "      <td>Tony Adams</td>\n",
       "      <td>actor</td>\n",
       "      <td>Wedding Guest</td>\n",
       "      <td>NaN</td>\n",
       "    </tr>\n",
       "    <tr>\n",
       "      <th>12590</th>\n",
       "      <td>The Return of the Pink Panther</td>\n",
       "      <td>1975</td>\n",
       "      <td>Tony Adams</td>\n",
       "      <td>actor</td>\n",
       "      <td>Waiter</td>\n",
       "      <td>NaN</td>\n",
       "    </tr>\n",
       "    <tr>\n",
       "      <th>...</th>\n",
       "      <td>...</td>\n",
       "      <td>...</td>\n",
       "      <td>...</td>\n",
       "      <td>...</td>\n",
       "      <td>...</td>\n",
       "      <td>...</td>\n",
       "    </tr>\n",
       "    <tr>\n",
       "      <th>3582494</th>\n",
       "      <td>Revenge of the Pink Panther</td>\n",
       "      <td>1978</td>\n",
       "      <td>Elisabeth Welch</td>\n",
       "      <td>actress</td>\n",
       "      <td>Mrs. Wu</td>\n",
       "      <td>24.0</td>\n",
       "    </tr>\n",
       "    <tr>\n",
       "      <th>3582965</th>\n",
       "      <td>The Pink Panther</td>\n",
       "      <td>1963</td>\n",
       "      <td>Meri Welles</td>\n",
       "      <td>actress</td>\n",
       "      <td>Monica Fawn</td>\n",
       "      <td>12.0</td>\n",
       "    </tr>\n",
       "    <tr>\n",
       "      <th>3584647</th>\n",
       "      <td>The Pink Panther</td>\n",
       "      <td>2006</td>\n",
       "      <td>Colleen Werthmann</td>\n",
       "      <td>actress</td>\n",
       "      <td>Jane</td>\n",
       "      <td>NaN</td>\n",
       "    </tr>\n",
       "    <tr>\n",
       "      <th>3606096</th>\n",
       "      <td>The Pink Panther</td>\n",
       "      <td>2006</td>\n",
       "      <td>Jadin Wong</td>\n",
       "      <td>actress</td>\n",
       "      <td>Granny</td>\n",
       "      <td>NaN</td>\n",
       "    </tr>\n",
       "    <tr>\n",
       "      <th>3616292</th>\n",
       "      <td>Revenge of the Pink Panther</td>\n",
       "      <td>1978</td>\n",
       "      <td>Rosita Yarboy</td>\n",
       "      <td>actress</td>\n",
       "      <td>Sam Spade and the Private Eyes</td>\n",
       "      <td>21.0</td>\n",
       "    </tr>\n",
       "  </tbody>\n",
       "</table>\n",
       "<p>510 rows × 6 columns</p>\n",
       "</div>"
      ],
      "text/plain": [
       "                                  title  year               name     type  \\\n",
       "955                    The Pink Panther  2006     William Abadie    actor   \n",
       "1978        Revenge of the Pink Panther  1978     Fredric Abbott    actor   \n",
       "4691          Curse of the Pink Panther  1983      William Abney    actor   \n",
       "12589           Son of the Pink Panther  1993         Tony Adams    actor   \n",
       "12590    The Return of the Pink Panther  1975         Tony Adams    actor   \n",
       "...                                 ...   ...                ...      ...   \n",
       "3582494     Revenge of the Pink Panther  1978    Elisabeth Welch  actress   \n",
       "3582965                The Pink Panther  1963        Meri Welles  actress   \n",
       "3584647                The Pink Panther  2006  Colleen Werthmann  actress   \n",
       "3606096                The Pink Panther  2006         Jadin Wong  actress   \n",
       "3616292     Revenge of the Pink Panther  1978      Rosita Yarboy  actress   \n",
       "\n",
       "                              character     n  \n",
       "955                                Bizu  11.0  \n",
       "1978                  Douvier's Soldier  38.0  \n",
       "4691                  Hugo the Houseman  33.0  \n",
       "12589                     Wedding Guest   NaN  \n",
       "12590                            Waiter   NaN  \n",
       "...                                 ...   ...  \n",
       "3582494                         Mrs. Wu  24.0  \n",
       "3582965                     Monica Fawn  12.0  \n",
       "3584647                            Jane   NaN  \n",
       "3606096                          Granny   NaN  \n",
       "3616292  Sam Spade and the Private Eyes  21.0  \n",
       "\n",
       "[510 rows x 6 columns]"
      ]
     },
     "execution_count": 24,
     "metadata": {},
     "output_type": "execute_result"
    }
   ],
   "source": [
    "((cast[cast['title'].str.contains('Pink Panther')]).groupby('character')).head()"
   ]
  },
  {
   "cell_type": "markdown",
   "metadata": {},
   "source": [
    "### List, in order by year, each of the films in which Frank Oz has played more than 1 role."
   ]
  },
  {
   "cell_type": "code",
   "execution_count": 31,
   "metadata": {},
   "outputs": [],
   "source": [
    "Fran_oz = cast[cast['name'].isin(['Frank Oz'])].groupby('year')"
   ]
  },
  {
   "cell_type": "code",
   "execution_count": 36,
   "metadata": {},
   "outputs": [
    {
     "ename": "KeyError",
     "evalue": "'Column not found: <pandas.core.groupby.generic.SeriesGroupBy object at 0x7f70b65f0370>'",
     "output_type": "error",
     "traceback": [
      "\u001b[0;31m---------------------------------------------------------------------------\u001b[0m",
      "\u001b[0;31mKeyError\u001b[0m                                  Traceback (most recent call last)",
      "\u001b[0;32m<ipython-input-36-00d0783670be>\u001b[0m in \u001b[0;36m<module>\u001b[0;34m\u001b[0m\n\u001b[0;32m----> 1\u001b[0;31m \u001b[0mFran_oz\u001b[0m\u001b[0;34m[\u001b[0m\u001b[0mFran_oz\u001b[0m\u001b[0;34m.\u001b[0m\u001b[0myear\u001b[0m \u001b[0;34m]\u001b[0m\u001b[0;34m\u001b[0m\u001b[0;34m\u001b[0m\u001b[0m\n\u001b[0m",
      "\u001b[0;32m~/miniconda3/envs/lighthouse-lab-course/lib/python3.8/site-packages/pandas/core/groupby/generic.py\u001b[0m in \u001b[0;36m__getitem__\u001b[0;34m(self, key)\u001b[0m\n\u001b[1;32m   1646\u001b[0m                 \u001b[0mstacklevel\u001b[0m\u001b[0;34m=\u001b[0m\u001b[0;36m2\u001b[0m\u001b[0;34m,\u001b[0m\u001b[0;34m\u001b[0m\u001b[0;34m\u001b[0m\u001b[0m\n\u001b[1;32m   1647\u001b[0m             )\n\u001b[0;32m-> 1648\u001b[0;31m         \u001b[0;32mreturn\u001b[0m \u001b[0msuper\u001b[0m\u001b[0;34m(\u001b[0m\u001b[0;34m)\u001b[0m\u001b[0;34m.\u001b[0m\u001b[0m__getitem__\u001b[0m\u001b[0;34m(\u001b[0m\u001b[0mkey\u001b[0m\u001b[0;34m)\u001b[0m\u001b[0;34m\u001b[0m\u001b[0;34m\u001b[0m\u001b[0m\n\u001b[0m\u001b[1;32m   1649\u001b[0m \u001b[0;34m\u001b[0m\u001b[0m\n\u001b[1;32m   1650\u001b[0m     \u001b[0;32mdef\u001b[0m \u001b[0m_gotitem\u001b[0m\u001b[0;34m(\u001b[0m\u001b[0mself\u001b[0m\u001b[0;34m,\u001b[0m \u001b[0mkey\u001b[0m\u001b[0;34m,\u001b[0m \u001b[0mndim\u001b[0m\u001b[0;34m:\u001b[0m \u001b[0mint\u001b[0m\u001b[0;34m,\u001b[0m \u001b[0msubset\u001b[0m\u001b[0;34m=\u001b[0m\u001b[0;32mNone\u001b[0m\u001b[0;34m)\u001b[0m\u001b[0;34m:\u001b[0m\u001b[0;34m\u001b[0m\u001b[0;34m\u001b[0m\u001b[0m\n",
      "\u001b[0;32m~/miniconda3/envs/lighthouse-lab-course/lib/python3.8/site-packages/pandas/core/base.py\u001b[0m in \u001b[0;36m__getitem__\u001b[0;34m(self, key)\u001b[0m\n\u001b[1;32m    226\u001b[0m         \u001b[0;32melse\u001b[0m\u001b[0;34m:\u001b[0m\u001b[0;34m\u001b[0m\u001b[0;34m\u001b[0m\u001b[0m\n\u001b[1;32m    227\u001b[0m             \u001b[0;32mif\u001b[0m \u001b[0mkey\u001b[0m \u001b[0;32mnot\u001b[0m \u001b[0;32min\u001b[0m \u001b[0mself\u001b[0m\u001b[0;34m.\u001b[0m\u001b[0mobj\u001b[0m\u001b[0;34m:\u001b[0m\u001b[0;34m\u001b[0m\u001b[0;34m\u001b[0m\u001b[0m\n\u001b[0;32m--> 228\u001b[0;31m                 \u001b[0;32mraise\u001b[0m \u001b[0mKeyError\u001b[0m\u001b[0;34m(\u001b[0m\u001b[0;34mf\"Column not found: {key}\"\u001b[0m\u001b[0;34m)\u001b[0m\u001b[0;34m\u001b[0m\u001b[0;34m\u001b[0m\u001b[0m\n\u001b[0m\u001b[1;32m    229\u001b[0m             \u001b[0;32mreturn\u001b[0m \u001b[0mself\u001b[0m\u001b[0;34m.\u001b[0m\u001b[0m_gotitem\u001b[0m\u001b[0;34m(\u001b[0m\u001b[0mkey\u001b[0m\u001b[0;34m,\u001b[0m \u001b[0mndim\u001b[0m\u001b[0;34m=\u001b[0m\u001b[0;36m1\u001b[0m\u001b[0;34m)\u001b[0m\u001b[0;34m\u001b[0m\u001b[0;34m\u001b[0m\u001b[0m\n\u001b[1;32m    230\u001b[0m \u001b[0;34m\u001b[0m\u001b[0m\n",
      "\u001b[0;31mKeyError\u001b[0m: 'Column not found: <pandas.core.groupby.generic.SeriesGroupBy object at 0x7f70b65f0370>'"
     ]
    }
   ],
   "source": []
  },
  {
   "cell_type": "markdown",
   "metadata": {},
   "source": [
    "### List each of the characters that Frank Oz has portrayed at least twice."
   ]
  },
  {
   "cell_type": "code",
   "execution_count": null,
   "metadata": {
    "collapsed": true,
    "jupyter": {
     "outputs_hidden": true
    }
   },
   "outputs": [],
   "source": []
  },
  {
   "cell_type": "code",
   "execution_count": null,
   "metadata": {
    "collapsed": true,
    "jupyter": {
     "outputs_hidden": true
    }
   },
   "outputs": [],
   "source": []
  }
 ],
 "metadata": {
  "kernelspec": {
   "display_name": "Python 3",
   "language": "python",
   "name": "python3"
  },
  "language_info": {
   "codemirror_mode": {
    "name": "ipython",
    "version": 3
   },
   "file_extension": ".py",
   "mimetype": "text/x-python",
   "name": "python",
   "nbconvert_exporter": "python",
   "pygments_lexer": "ipython3",
   "version": "3.8.5"
  }
 },
 "nbformat": 4,
 "nbformat_minor": 4
}
