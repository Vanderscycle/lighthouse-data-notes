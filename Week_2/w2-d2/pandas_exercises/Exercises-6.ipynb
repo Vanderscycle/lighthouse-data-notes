{
 "cells": [
  {
   "cell_type": "code",
   "execution_count": 1,
   "metadata": {},
   "outputs": [],
   "source": [
    "import pandas as pd\n",
    "import numpy as np"
   ]
  },
  {
   "cell_type": "markdown",
   "metadata": {},
   "source": [
    "### Connect Pandas to the database with this URL: "
   ]
  },
  {
   "cell_type": "code",
   "execution_count": 2,
   "metadata": {},
   "outputs": [],
   "source": [
    "# sales1 = pd.read_csv('data/sales1.csv')\n",
    "# sales1"
   ]
  },
  {
   "cell_type": "code",
   "execution_count": 3,
   "metadata": {},
   "outputs": [],
   "source": [
    "# sales2 = pd.read_csv('data/sales2.csv')\n",
    "# sales2"
   ]
  },
  {
   "cell_type": "code",
   "execution_count": 4,
   "metadata": {},
   "outputs": [
    {
     "data": {
      "text/html": [
       "<div>\n",
       "<style scoped>\n",
       "    .dataframe tbody tr th:only-of-type {\n",
       "        vertical-align: middle;\n",
       "    }\n",
       "\n",
       "    .dataframe tbody tr th {\n",
       "        vertical-align: top;\n",
       "    }\n",
       "\n",
       "    .dataframe thead th {\n",
       "        text-align: right;\n",
       "    }\n",
       "</style>\n",
       "<table border=\"1\" class=\"dataframe\">\n",
       "  <thead>\n",
       "    <tr style=\"text-align: right;\">\n",
       "      <th></th>\n",
       "      <th>Book title</th>\n",
       "      <th>Number sold</th>\n",
       "      <th>Sales price</th>\n",
       "      <th>Royalty paid</th>\n",
       "    </tr>\n",
       "  </thead>\n",
       "  <tbody>\n",
       "    <tr>\n",
       "      <th>0</th>\n",
       "      <td>The Bricklayer’s Bible</td>\n",
       "      <td>8</td>\n",
       "      <td>2.99</td>\n",
       "      <td>0.55</td>\n",
       "    </tr>\n",
       "    <tr>\n",
       "      <th>1</th>\n",
       "      <td>Swimrand</td>\n",
       "      <td>2</td>\n",
       "      <td>1.99</td>\n",
       "      <td>0.35</td>\n",
       "    </tr>\n",
       "    <tr>\n",
       "      <th>2</th>\n",
       "      <td>Pining For The Fisheries of Yore</td>\n",
       "      <td>28</td>\n",
       "      <td>2.99</td>\n",
       "      <td>0.55</td>\n",
       "    </tr>\n",
       "    <tr>\n",
       "      <th>3</th>\n",
       "      <td>The Duck Goes Here</td>\n",
       "      <td>34</td>\n",
       "      <td>2.99</td>\n",
       "      <td>0.55</td>\n",
       "    </tr>\n",
       "    <tr>\n",
       "      <th>4</th>\n",
       "      <td>The Tower Commission Report</td>\n",
       "      <td>4</td>\n",
       "      <td>11.50</td>\n",
       "      <td>4.25</td>\n",
       "    </tr>\n",
       "  </tbody>\n",
       "</table>\n",
       "</div>"
      ],
      "text/plain": [
       "                         Book title  Number sold  Sales price  Royalty paid\n",
       "0            The Bricklayer’s Bible            8         2.99          0.55\n",
       "1                          Swimrand            2         1.99          0.35\n",
       "2  Pining For The Fisheries of Yore           28         2.99          0.55\n",
       "3                The Duck Goes Here           34         2.99          0.55\n",
       "4       The Tower Commission Report            4        11.50          4.25"
      ]
     },
     "execution_count": 4,
     "metadata": {},
     "output_type": "execute_result"
    }
   ],
   "source": [
    "sales1_pth = '/home/vanderscycle/Documents/Lighthouse-lab/Databases/w2-d2-db/imdb_pandas/sales1.csv'\n",
    "\n",
    "sales1= pd.read_csv(sales1_pth) # relative path use the forward slash\n",
    "sales1.head()"
   ]
  },
  {
   "cell_type": "code",
   "execution_count": 5,
   "metadata": {},
   "outputs": [
    {
     "data": {
      "text/plain": [
       "5"
      ]
     },
     "execution_count": 5,
     "metadata": {},
     "output_type": "execute_result"
    }
   ],
   "source": [
    "sales1.shape[0]"
   ]
  },
  {
   "cell_type": "code",
   "execution_count": 6,
   "metadata": {},
   "outputs": [
    {
     "data": {
      "text/html": [
       "<div>\n",
       "<style scoped>\n",
       "    .dataframe tbody tr th:only-of-type {\n",
       "        vertical-align: middle;\n",
       "    }\n",
       "\n",
       "    .dataframe tbody tr th {\n",
       "        vertical-align: top;\n",
       "    }\n",
       "\n",
       "    .dataframe thead th {\n",
       "        text-align: right;\n",
       "    }\n",
       "</style>\n",
       "<table border=\"1\" class=\"dataframe\">\n",
       "  <thead>\n",
       "    <tr style=\"text-align: right;\">\n",
       "      <th></th>\n",
       "      <th>Book title</th>\n",
       "      <th>Number sold</th>\n",
       "      <th>Sales price</th>\n",
       "      <th>Royalty paid</th>\n",
       "      <th>currency_type</th>\n",
       "    </tr>\n",
       "  </thead>\n",
       "  <tbody>\n",
       "    <tr>\n",
       "      <th>0</th>\n",
       "      <td>The Bricklayer’s Bible</td>\n",
       "      <td>8</td>\n",
       "      <td>2.99</td>\n",
       "      <td>0.55</td>\n",
       "      <td>USD</td>\n",
       "    </tr>\n",
       "    <tr>\n",
       "      <th>1</th>\n",
       "      <td>Swimrand</td>\n",
       "      <td>2</td>\n",
       "      <td>1.99</td>\n",
       "      <td>0.35</td>\n",
       "      <td>USD</td>\n",
       "    </tr>\n",
       "    <tr>\n",
       "      <th>2</th>\n",
       "      <td>Pining For The Fisheries of Yore</td>\n",
       "      <td>28</td>\n",
       "      <td>2.99</td>\n",
       "      <td>0.55</td>\n",
       "      <td>USD</td>\n",
       "    </tr>\n",
       "    <tr>\n",
       "      <th>3</th>\n",
       "      <td>The Duck Goes Here</td>\n",
       "      <td>34</td>\n",
       "      <td>2.99</td>\n",
       "      <td>0.55</td>\n",
       "      <td>USD</td>\n",
       "    </tr>\n",
       "    <tr>\n",
       "      <th>4</th>\n",
       "      <td>The Tower Commission Report</td>\n",
       "      <td>4</td>\n",
       "      <td>11.50</td>\n",
       "      <td>4.25</td>\n",
       "      <td>USD</td>\n",
       "    </tr>\n",
       "  </tbody>\n",
       "</table>\n",
       "</div>"
      ],
      "text/plain": [
       "                         Book title  Number sold  Sales price  Royalty paid  \\\n",
       "0            The Bricklayer’s Bible            8         2.99          0.55   \n",
       "1                          Swimrand            2         1.99          0.35   \n",
       "2  Pining For The Fisheries of Yore           28         2.99          0.55   \n",
       "3                The Duck Goes Here           34         2.99          0.55   \n",
       "4       The Tower Commission Report            4        11.50          4.25   \n",
       "\n",
       "  currency_type  \n",
       "0           USD  \n",
       "1           USD  \n",
       "2           USD  \n",
       "3           USD  \n",
       "4           USD  "
      ]
     },
     "execution_count": 6,
     "metadata": {},
     "output_type": "execute_result"
    }
   ],
   "source": [
    "sales1['currency_type'] = 'USD'\n",
    "sales1.head()"
   ]
  },
  {
   "cell_type": "code",
   "execution_count": 7,
   "metadata": {},
   "outputs": [],
   "source": [
    "sales1['Number sold']= sales1['Number sold'].astype('float64')"
   ]
  },
  {
   "cell_type": "code",
   "execution_count": 8,
   "metadata": {},
   "outputs": [
    {
     "data": {
      "text/plain": [
       "Book title        object\n",
       "Number sold      float64\n",
       "Sales price      float64\n",
       "Royalty paid     float64\n",
       "currency_type     object\n",
       "dtype: object"
      ]
     },
     "execution_count": 8,
     "metadata": {},
     "output_type": "execute_result"
    }
   ],
   "source": [
    "sales1.dtypes # need to change type of numbersold"
   ]
  },
  {
   "cell_type": "code",
   "execution_count": 9,
   "metadata": {},
   "outputs": [
    {
     "data": {
      "text/plain": [
       "Book title       The Bricklayer’s Bible\n",
       "Number sold                           8\n",
       "Sales price                        2.99\n",
       "Royalty paid                       0.55\n",
       "currency_type                       USD\n",
       "Name: 0, dtype: object"
      ]
     },
     "execution_count": 9,
     "metadata": {},
     "output_type": "execute_result"
    }
   ],
   "source": [
    "sales1.iloc[0]"
   ]
  },
  {
   "cell_type": "code",
   "execution_count": 10,
   "metadata": {},
   "outputs": [
    {
     "data": {
      "text/html": [
       "<div>\n",
       "<style scoped>\n",
       "    .dataframe tbody tr th:only-of-type {\n",
       "        vertical-align: middle;\n",
       "    }\n",
       "\n",
       "    .dataframe tbody tr th {\n",
       "        vertical-align: top;\n",
       "    }\n",
       "\n",
       "    .dataframe thead th {\n",
       "        text-align: right;\n",
       "    }\n",
       "</style>\n",
       "<table border=\"1\" class=\"dataframe\">\n",
       "  <thead>\n",
       "    <tr style=\"text-align: right;\">\n",
       "      <th></th>\n",
       "      <th>Title</th>\n",
       "      <th>Units sold</th>\n",
       "      <th>List price</th>\n",
       "      <th>Royalty</th>\n",
       "    </tr>\n",
       "  </thead>\n",
       "  <tbody>\n",
       "    <tr>\n",
       "      <th>0</th>\n",
       "      <td>NaN</td>\n",
       "      <td>NaN</td>\n",
       "      <td>NaN</td>\n",
       "      <td>NaN</td>\n",
       "    </tr>\n",
       "    <tr>\n",
       "      <th>1</th>\n",
       "      <td>Sales report for Q4</td>\n",
       "      <td>NaN</td>\n",
       "      <td>NaN</td>\n",
       "      <td>NaN</td>\n",
       "    </tr>\n",
       "    <tr>\n",
       "      <th>2</th>\n",
       "      <td>E-Book Reader US Store</td>\n",
       "      <td>NaN</td>\n",
       "      <td>NaN</td>\n",
       "      <td>NaN</td>\n",
       "    </tr>\n",
       "    <tr>\n",
       "      <th>3</th>\n",
       "      <td>Pining for the Fisheries of Yore</td>\n",
       "      <td>80.0</td>\n",
       "      <td>3.50</td>\n",
       "      <td>14.98</td>\n",
       "    </tr>\n",
       "    <tr>\n",
       "      <th>4</th>\n",
       "      <td>Swimrand</td>\n",
       "      <td>1.0</td>\n",
       "      <td>2.99</td>\n",
       "      <td>0.14</td>\n",
       "    </tr>\n",
       "  </tbody>\n",
       "</table>\n",
       "</div>"
      ],
      "text/plain": [
       "                              Title  Units sold  List price  Royalty\n",
       "0                               NaN         NaN         NaN      NaN\n",
       "1               Sales report for Q4         NaN         NaN      NaN\n",
       "2            E-Book Reader US Store         NaN         NaN      NaN\n",
       "3  Pining for the Fisheries of Yore        80.0        3.50    14.98\n",
       "4                          Swimrand         1.0        2.99     0.14"
      ]
     },
     "execution_count": 10,
     "metadata": {},
     "output_type": "execute_result"
    }
   ],
   "source": [
    "sales2_pth = '/home/vanderscycle/Documents/Lighthouse-lab/Databases/w2-d2-db/imdb_pandas/sales2.csv'\n",
    "sales2= pd.read_csv(sales2_pth) # relative path use the forward slash\n",
    "sales2.head()"
   ]
  },
  {
   "cell_type": "code",
   "execution_count": 11,
   "metadata": {},
   "outputs": [
    {
     "data": {
      "text/html": [
       "<div>\n",
       "<style scoped>\n",
       "    .dataframe tbody tr th:only-of-type {\n",
       "        vertical-align: middle;\n",
       "    }\n",
       "\n",
       "    .dataframe tbody tr th {\n",
       "        vertical-align: top;\n",
       "    }\n",
       "\n",
       "    .dataframe thead th {\n",
       "        text-align: right;\n",
       "    }\n",
       "</style>\n",
       "<table border=\"1\" class=\"dataframe\">\n",
       "  <thead>\n",
       "    <tr style=\"text-align: right;\">\n",
       "      <th></th>\n",
       "      <th>Royalty</th>\n",
       "    </tr>\n",
       "  </thead>\n",
       "  <tbody>\n",
       "    <tr>\n",
       "      <th>1</th>\n",
       "      <td>NaN</td>\n",
       "    </tr>\n",
       "  </tbody>\n",
       "</table>\n",
       "</div>"
      ],
      "text/plain": [
       "   Royalty\n",
       "1      NaN"
      ]
     },
     "execution_count": 11,
     "metadata": {},
     "output_type": "execute_result"
    }
   ],
   "source": [
    "sales2.iloc[[1],[3]]"
   ]
  },
  {
   "cell_type": "code",
   "execution_count": 12,
   "metadata": {},
   "outputs": [],
   "source": [
    "sales2['currency_type'] =''"
   ]
  },
  {
   "cell_type": "code",
   "execution_count": 13,
   "metadata": {},
   "outputs": [
    {
     "data": {
      "text/html": [
       "<div>\n",
       "<style scoped>\n",
       "    .dataframe tbody tr th:only-of-type {\n",
       "        vertical-align: middle;\n",
       "    }\n",
       "\n",
       "    .dataframe tbody tr th {\n",
       "        vertical-align: top;\n",
       "    }\n",
       "\n",
       "    .dataframe thead th {\n",
       "        text-align: right;\n",
       "    }\n",
       "</style>\n",
       "<table border=\"1\" class=\"dataframe\">\n",
       "  <thead>\n",
       "    <tr style=\"text-align: right;\">\n",
       "      <th></th>\n",
       "      <th>Title</th>\n",
       "      <th>Units sold</th>\n",
       "      <th>List price</th>\n",
       "      <th>Royalty</th>\n",
       "      <th>currency_type</th>\n",
       "    </tr>\n",
       "  </thead>\n",
       "  <tbody>\n",
       "    <tr>\n",
       "      <th>0</th>\n",
       "      <td>NaN</td>\n",
       "      <td>NaN</td>\n",
       "      <td>NaN</td>\n",
       "      <td>NaN</td>\n",
       "      <td>USD</td>\n",
       "    </tr>\n",
       "    <tr>\n",
       "      <th>1</th>\n",
       "      <td>Sales report for Q4</td>\n",
       "      <td>NaN</td>\n",
       "      <td>NaN</td>\n",
       "      <td>NaN</td>\n",
       "      <td>USD</td>\n",
       "    </tr>\n",
       "    <tr>\n",
       "      <th>2</th>\n",
       "      <td>E-Book Reader US Store</td>\n",
       "      <td>NaN</td>\n",
       "      <td>NaN</td>\n",
       "      <td>NaN</td>\n",
       "      <td>USD</td>\n",
       "    </tr>\n",
       "    <tr>\n",
       "      <th>3</th>\n",
       "      <td>Pining for the Fisheries of Yore</td>\n",
       "      <td>80.0</td>\n",
       "      <td>3.50</td>\n",
       "      <td>14.98</td>\n",
       "      <td>USD</td>\n",
       "    </tr>\n",
       "    <tr>\n",
       "      <th>4</th>\n",
       "      <td>Swimrand</td>\n",
       "      <td>1.0</td>\n",
       "      <td>2.99</td>\n",
       "      <td>0.14</td>\n",
       "      <td>USD</td>\n",
       "    </tr>\n",
       "    <tr>\n",
       "      <th>5</th>\n",
       "      <td>The Bricklayer's Bible</td>\n",
       "      <td>17.0</td>\n",
       "      <td>3.50</td>\n",
       "      <td>5.15</td>\n",
       "      <td>USD</td>\n",
       "    </tr>\n",
       "    <tr>\n",
       "      <th>6</th>\n",
       "      <td>The Duck Goes Here</td>\n",
       "      <td>34.0</td>\n",
       "      <td>2.99</td>\n",
       "      <td>5.78</td>\n",
       "      <td>USD</td>\n",
       "    </tr>\n",
       "    <tr>\n",
       "      <th>7</th>\n",
       "      <td>The Tower Commission Report</td>\n",
       "      <td>4.0</td>\n",
       "      <td>9.50</td>\n",
       "      <td>6.20</td>\n",
       "      <td>USD</td>\n",
       "    </tr>\n",
       "    <tr>\n",
       "      <th>8</th>\n",
       "      <td>US royalties (USD)</td>\n",
       "      <td>NaN</td>\n",
       "      <td>NaN</td>\n",
       "      <td>32.25</td>\n",
       "      <td>USD</td>\n",
       "    </tr>\n",
       "    <tr>\n",
       "      <th>9</th>\n",
       "      <td>NaN</td>\n",
       "      <td>NaN</td>\n",
       "      <td>NaN</td>\n",
       "      <td>NaN</td>\n",
       "      <td>GBP</td>\n",
       "    </tr>\n",
       "    <tr>\n",
       "      <th>10</th>\n",
       "      <td>NaN</td>\n",
       "      <td>NaN</td>\n",
       "      <td>NaN</td>\n",
       "      <td>NaN</td>\n",
       "      <td>GBP</td>\n",
       "    </tr>\n",
       "    <tr>\n",
       "      <th>11</th>\n",
       "      <td>Sales report for Q4</td>\n",
       "      <td>NaN</td>\n",
       "      <td>NaN</td>\n",
       "      <td>NaN</td>\n",
       "      <td>GBP</td>\n",
       "    </tr>\n",
       "    <tr>\n",
       "      <th>12</th>\n",
       "      <td>E-Book Reader UK Store</td>\n",
       "      <td>NaN</td>\n",
       "      <td>NaN</td>\n",
       "      <td>NaN</td>\n",
       "      <td>GBP</td>\n",
       "    </tr>\n",
       "    <tr>\n",
       "      <th>13</th>\n",
       "      <td>Pining for the Fisheries of Yore</td>\n",
       "      <td>47.0</td>\n",
       "      <td>2.99</td>\n",
       "      <td>11.98</td>\n",
       "      <td>GBP</td>\n",
       "    </tr>\n",
       "    <tr>\n",
       "      <th>14</th>\n",
       "      <td>The Bricklayer's Bible</td>\n",
       "      <td>17.0</td>\n",
       "      <td>2.99</td>\n",
       "      <td>3.50</td>\n",
       "      <td>GBP</td>\n",
       "    </tr>\n",
       "    <tr>\n",
       "      <th>15</th>\n",
       "      <td>The Tower Commission Report</td>\n",
       "      <td>4.0</td>\n",
       "      <td>6.50</td>\n",
       "      <td>4.80</td>\n",
       "      <td>GBP</td>\n",
       "    </tr>\n",
       "    <tr>\n",
       "      <th>16</th>\n",
       "      <td>UK royalties (GBP)</td>\n",
       "      <td>NaN</td>\n",
       "      <td>NaN</td>\n",
       "      <td>20.28</td>\n",
       "      <td>GBP</td>\n",
       "    </tr>\n",
       "    <tr>\n",
       "      <th>17</th>\n",
       "      <td>NaN</td>\n",
       "      <td>NaN</td>\n",
       "      <td>NaN</td>\n",
       "      <td>NaN</td>\n",
       "      <td>EUR</td>\n",
       "    </tr>\n",
       "    <tr>\n",
       "      <th>18</th>\n",
       "      <td>NaN</td>\n",
       "      <td>NaN</td>\n",
       "      <td>NaN</td>\n",
       "      <td>NaN</td>\n",
       "      <td>EUR</td>\n",
       "    </tr>\n",
       "    <tr>\n",
       "      <th>19</th>\n",
       "      <td>Sales report for Q4</td>\n",
       "      <td>NaN</td>\n",
       "      <td>NaN</td>\n",
       "      <td>NaN</td>\n",
       "      <td>EUR</td>\n",
       "    </tr>\n",
       "  </tbody>\n",
       "</table>\n",
       "</div>"
      ],
      "text/plain": [
       "                               Title  Units sold  List price  Royalty  \\\n",
       "0                                NaN         NaN         NaN      NaN   \n",
       "1                Sales report for Q4         NaN         NaN      NaN   \n",
       "2             E-Book Reader US Store         NaN         NaN      NaN   \n",
       "3   Pining for the Fisheries of Yore        80.0        3.50    14.98   \n",
       "4                           Swimrand         1.0        2.99     0.14   \n",
       "5             The Bricklayer's Bible        17.0        3.50     5.15   \n",
       "6                 The Duck Goes Here        34.0        2.99     5.78   \n",
       "7        The Tower Commission Report         4.0        9.50     6.20   \n",
       "8                 US royalties (USD)         NaN         NaN    32.25   \n",
       "9                                NaN         NaN         NaN      NaN   \n",
       "10                               NaN         NaN         NaN      NaN   \n",
       "11               Sales report for Q4         NaN         NaN      NaN   \n",
       "12            E-Book Reader UK Store         NaN         NaN      NaN   \n",
       "13  Pining for the Fisheries of Yore        47.0        2.99    11.98   \n",
       "14            The Bricklayer's Bible        17.0        2.99     3.50   \n",
       "15       The Tower Commission Report         4.0        6.50     4.80   \n",
       "16                UK royalties (GBP)         NaN         NaN    20.28   \n",
       "17                               NaN         NaN         NaN      NaN   \n",
       "18                               NaN         NaN         NaN      NaN   \n",
       "19               Sales report for Q4         NaN         NaN      NaN   \n",
       "\n",
       "   currency_type  \n",
       "0            USD  \n",
       "1            USD  \n",
       "2            USD  \n",
       "3            USD  \n",
       "4            USD  \n",
       "5            USD  \n",
       "6            USD  \n",
       "7            USD  \n",
       "8            USD  \n",
       "9            GBP  \n",
       "10           GBP  \n",
       "11           GBP  \n",
       "12           GBP  \n",
       "13           GBP  \n",
       "14           GBP  \n",
       "15           GBP  \n",
       "16           GBP  \n",
       "17           EUR  \n",
       "18           EUR  \n",
       "19           EUR  "
      ]
     },
     "execution_count": 13,
     "metadata": {},
     "output_type": "execute_result"
    }
   ],
   "source": [
    "#First 9 rows are for USD, next 8 rows are for GBP and final 7 are for EUR\n",
    "for row in range(len(sales2)):\n",
    "    #print(row)\n",
    "    if row < 9:\n",
    "        #print(\"USD\")\n",
    "        sales2.iloc[[row],[4]] = 'USD'\n",
    "        #print(sales2.iloc[row]['currency_type'])\n",
    "    elif 9 <= row <17:\n",
    "        #print(\"GBP\")\n",
    "        sales2.iloc[[row],[4]] = 'GBP'\n",
    "    else:\n",
    "        #print(\"EUR\")\n",
    "        sales2.iloc[[row],[4]] = 'EUR'\n",
    "        #sales2.iloc[row]['currency_type'] = 'EUR'\n",
    "sales2.head(20)"
   ]
  },
  {
   "cell_type": "code",
   "execution_count": 14,
   "metadata": {},
   "outputs": [
    {
     "data": {
      "text/plain": [
       "Title             object\n",
       "Units sold       float64\n",
       "List price       float64\n",
       "Royalty          float64\n",
       "currency_type     object\n",
       "dtype: object"
      ]
     },
     "execution_count": 14,
     "metadata": {},
     "output_type": "execute_result"
    }
   ],
   "source": [
    "sales2.dtypes"
   ]
  },
  {
   "cell_type": "code",
   "execution_count": 15,
   "metadata": {},
   "outputs": [
    {
     "data": {
      "text/plain": [
       "Title            The Duck Goes Here\n",
       "Units sold                       34\n",
       "List price                     2.99\n",
       "Royalty                        5.78\n",
       "currency_type                   USD\n",
       "Name: 6, dtype: object"
      ]
     },
     "execution_count": 15,
     "metadata": {},
     "output_type": "execute_result"
    }
   ],
   "source": [
    "sales2.iloc[6]#['Title']"
   ]
  },
  {
   "cell_type": "code",
   "execution_count": 16,
   "metadata": {},
   "outputs": [
    {
     "data": {
      "text/html": [
       "<div>\n",
       "<style scoped>\n",
       "    .dataframe tbody tr th:only-of-type {\n",
       "        vertical-align: middle;\n",
       "    }\n",
       "\n",
       "    .dataframe tbody tr th {\n",
       "        vertical-align: top;\n",
       "    }\n",
       "\n",
       "    .dataframe thead th {\n",
       "        text-align: right;\n",
       "    }\n",
       "</style>\n",
       "<table border=\"1\" class=\"dataframe\">\n",
       "  <thead>\n",
       "    <tr style=\"text-align: right;\">\n",
       "      <th></th>\n",
       "      <th>Book title</th>\n",
       "      <th>Number sold</th>\n",
       "      <th>Sales price</th>\n",
       "      <th>Royalty paid</th>\n",
       "      <th>currency_type</th>\n",
       "    </tr>\n",
       "  </thead>\n",
       "  <tbody>\n",
       "    <tr>\n",
       "      <th>3</th>\n",
       "      <td>The Duck Goes Here</td>\n",
       "      <td>34.0</td>\n",
       "      <td>2.99</td>\n",
       "      <td>0.55</td>\n",
       "      <td>USD</td>\n",
       "    </tr>\n",
       "  </tbody>\n",
       "</table>\n",
       "</div>"
      ],
      "text/plain": [
       "           Book title  Number sold  Sales price  Royalty paid currency_type\n",
       "3  The Duck Goes Here         34.0         2.99          0.55           USD"
      ]
     },
     "execution_count": 16,
     "metadata": {},
     "output_type": "execute_result"
    }
   ],
   "source": [
    "sales1[sales1['Book title'].isin(['The Duck Goes Here'])]"
   ]
  },
  {
   "cell_type": "markdown",
   "metadata": {},
   "source": [
    "### Challenge: first combine these sales together into a single dataframe, then compute how much money consumers spent on each book in each currency.\n",
    "- first table is in USD\n",
    "- second table actually consists of 3 smaller tables. First 9 rows are for USD, next 8 rows are for GBP and final 7 are for EUR."
   ]
  },
  {
   "cell_type": "code",
   "execution_count": 17,
   "metadata": {},
   "outputs": [
    {
     "data": {
      "text/html": [
       "<div>\n",
       "<style scoped>\n",
       "    .dataframe tbody tr th:only-of-type {\n",
       "        vertical-align: middle;\n",
       "    }\n",
       "\n",
       "    .dataframe tbody tr th {\n",
       "        vertical-align: top;\n",
       "    }\n",
       "\n",
       "    .dataframe thead th {\n",
       "        text-align: right;\n",
       "    }\n",
       "</style>\n",
       "<table border=\"1\" class=\"dataframe\">\n",
       "  <thead>\n",
       "    <tr style=\"text-align: right;\">\n",
       "      <th></th>\n",
       "      <th>Book title</th>\n",
       "      <th>Number sold</th>\n",
       "      <th>Sales price</th>\n",
       "      <th>Royalty paid</th>\n",
       "      <th>currency_type</th>\n",
       "      <th>Title</th>\n",
       "      <th>Units sold</th>\n",
       "      <th>List price</th>\n",
       "      <th>Royalty</th>\n",
       "    </tr>\n",
       "  </thead>\n",
       "  <tbody>\n",
       "    <tr>\n",
       "      <th>0</th>\n",
       "      <td>The Bricklayer’s Bible</td>\n",
       "      <td>8.0</td>\n",
       "      <td>2.99</td>\n",
       "      <td>0.55</td>\n",
       "      <td>USD</td>\n",
       "      <td>0</td>\n",
       "      <td>0.0</td>\n",
       "      <td>0.00</td>\n",
       "      <td>0.00</td>\n",
       "    </tr>\n",
       "    <tr>\n",
       "      <th>1</th>\n",
       "      <td>Swimrand</td>\n",
       "      <td>2.0</td>\n",
       "      <td>1.99</td>\n",
       "      <td>0.35</td>\n",
       "      <td>USD</td>\n",
       "      <td>0</td>\n",
       "      <td>0.0</td>\n",
       "      <td>0.00</td>\n",
       "      <td>0.00</td>\n",
       "    </tr>\n",
       "    <tr>\n",
       "      <th>2</th>\n",
       "      <td>Pining For The Fisheries of Yore</td>\n",
       "      <td>28.0</td>\n",
       "      <td>2.99</td>\n",
       "      <td>0.55</td>\n",
       "      <td>USD</td>\n",
       "      <td>0</td>\n",
       "      <td>0.0</td>\n",
       "      <td>0.00</td>\n",
       "      <td>0.00</td>\n",
       "    </tr>\n",
       "    <tr>\n",
       "      <th>3</th>\n",
       "      <td>The Duck Goes Here</td>\n",
       "      <td>34.0</td>\n",
       "      <td>2.99</td>\n",
       "      <td>0.55</td>\n",
       "      <td>USD</td>\n",
       "      <td>0</td>\n",
       "      <td>0.0</td>\n",
       "      <td>0.00</td>\n",
       "      <td>0.00</td>\n",
       "    </tr>\n",
       "    <tr>\n",
       "      <th>4</th>\n",
       "      <td>The Tower Commission Report</td>\n",
       "      <td>4.0</td>\n",
       "      <td>11.50</td>\n",
       "      <td>4.25</td>\n",
       "      <td>USD</td>\n",
       "      <td>0</td>\n",
       "      <td>0.0</td>\n",
       "      <td>0.00</td>\n",
       "      <td>0.00</td>\n",
       "    </tr>\n",
       "    <tr>\n",
       "      <th>0</th>\n",
       "      <td>0</td>\n",
       "      <td>0.0</td>\n",
       "      <td>0.00</td>\n",
       "      <td>0.00</td>\n",
       "      <td>USD</td>\n",
       "      <td>0</td>\n",
       "      <td>0.0</td>\n",
       "      <td>0.00</td>\n",
       "      <td>0.00</td>\n",
       "    </tr>\n",
       "    <tr>\n",
       "      <th>1</th>\n",
       "      <td>0</td>\n",
       "      <td>0.0</td>\n",
       "      <td>0.00</td>\n",
       "      <td>0.00</td>\n",
       "      <td>USD</td>\n",
       "      <td>Sales report for Q4</td>\n",
       "      <td>0.0</td>\n",
       "      <td>0.00</td>\n",
       "      <td>0.00</td>\n",
       "    </tr>\n",
       "    <tr>\n",
       "      <th>2</th>\n",
       "      <td>0</td>\n",
       "      <td>0.0</td>\n",
       "      <td>0.00</td>\n",
       "      <td>0.00</td>\n",
       "      <td>USD</td>\n",
       "      <td>E-Book Reader US Store</td>\n",
       "      <td>0.0</td>\n",
       "      <td>0.00</td>\n",
       "      <td>0.00</td>\n",
       "    </tr>\n",
       "    <tr>\n",
       "      <th>3</th>\n",
       "      <td>0</td>\n",
       "      <td>0.0</td>\n",
       "      <td>0.00</td>\n",
       "      <td>0.00</td>\n",
       "      <td>USD</td>\n",
       "      <td>Pining for the Fisheries of Yore</td>\n",
       "      <td>80.0</td>\n",
       "      <td>3.50</td>\n",
       "      <td>14.98</td>\n",
       "    </tr>\n",
       "    <tr>\n",
       "      <th>4</th>\n",
       "      <td>0</td>\n",
       "      <td>0.0</td>\n",
       "      <td>0.00</td>\n",
       "      <td>0.00</td>\n",
       "      <td>USD</td>\n",
       "      <td>Swimrand</td>\n",
       "      <td>1.0</td>\n",
       "      <td>2.99</td>\n",
       "      <td>0.14</td>\n",
       "    </tr>\n",
       "  </tbody>\n",
       "</table>\n",
       "</div>"
      ],
      "text/plain": [
       "                         Book title  Number sold  Sales price  Royalty paid  \\\n",
       "0            The Bricklayer’s Bible          8.0         2.99          0.55   \n",
       "1                          Swimrand          2.0         1.99          0.35   \n",
       "2  Pining For The Fisheries of Yore         28.0         2.99          0.55   \n",
       "3                The Duck Goes Here         34.0         2.99          0.55   \n",
       "4       The Tower Commission Report          4.0        11.50          4.25   \n",
       "0                                 0          0.0         0.00          0.00   \n",
       "1                                 0          0.0         0.00          0.00   \n",
       "2                                 0          0.0         0.00          0.00   \n",
       "3                                 0          0.0         0.00          0.00   \n",
       "4                                 0          0.0         0.00          0.00   \n",
       "\n",
       "  currency_type                             Title  Units sold  List price  \\\n",
       "0           USD                                 0         0.0        0.00   \n",
       "1           USD                                 0         0.0        0.00   \n",
       "2           USD                                 0         0.0        0.00   \n",
       "3           USD                                 0         0.0        0.00   \n",
       "4           USD                                 0         0.0        0.00   \n",
       "0           USD                                 0         0.0        0.00   \n",
       "1           USD               Sales report for Q4         0.0        0.00   \n",
       "2           USD            E-Book Reader US Store         0.0        0.00   \n",
       "3           USD  Pining for the Fisheries of Yore        80.0        3.50   \n",
       "4           USD                          Swimrand         1.0        2.99   \n",
       "\n",
       "   Royalty  \n",
       "0     0.00  \n",
       "1     0.00  \n",
       "2     0.00  \n",
       "3     0.00  \n",
       "4     0.00  \n",
       "0     0.00  \n",
       "1     0.00  \n",
       "2     0.00  \n",
       "3    14.98  \n",
       "4     0.14  "
      ]
     },
     "execution_count": 17,
     "metadata": {},
     "output_type": "execute_result"
    }
   ],
   "source": [
    "# Merge and join didn't work\n",
    "sales_t = pd.concat([sales1,sales2]).fillna(0) # replacing all values \n",
    "sales_t.head(10)"
   ]
  },
  {
   "cell_type": "code",
   "execution_count": 18,
   "metadata": {},
   "outputs": [
    {
     "data": {
      "text/plain": [
       "Book title       The Bricklayer’s Bible\n",
       "Number sold                           8\n",
       "Sales price                        2.99\n",
       "Royalty paid                       0.55\n",
       "currency_type                       USD\n",
       "Title                                 0\n",
       "Units sold                            0\n",
       "List price                            0\n",
       "Royalty                               0\n",
       "Name: 0, dtype: object"
      ]
     },
     "execution_count": 18,
     "metadata": {},
     "output_type": "execute_result"
    }
   ],
   "source": [
    "sales_t.iloc[0]"
   ]
  },
  {
   "cell_type": "code",
   "execution_count": 19,
   "metadata": {},
   "outputs": [
    {
     "data": {
      "text/plain": [
       "8.0"
      ]
     },
     "execution_count": 19,
     "metadata": {},
     "output_type": "execute_result"
    }
   ],
   "source": [
    "sales_t.iloc[0][1] #interesting we have to only use index vals"
   ]
  },
  {
   "cell_type": "code",
   "execution_count": 20,
   "metadata": {},
   "outputs": [],
   "source": [
    "test = sales_t['currency_type']\n",
    "\n",
    "def change_rate(desired_currency,current_currency):\n",
    "    '''ensure it is all in caps'''\n",
    "    currency_exchage_rates= {\n",
    "    'EUR_to_EUR':1,\n",
    "    'EUR_to_USD':1.17,\n",
    "    'EUR_to_GBP':.97,\n",
    "    'USD_to_USD':1,\n",
    "    'USD_to_EUR':.86,\n",
    "    'USD_to_GBP':.78,\n",
    "    'GBP_to_GBP':1,\n",
    "    'GBP_to_EUR':1.10,\n",
    "    'GBP_to_USD':1.29\n",
    "}\n",
    "    to_from_key = str(desired_currency) + '_to_' + str(current_currency)\n",
    "    change_rate = currency_exchage_rates.get(to_from_key,0)\n",
    "    return(change_rate)"
   ]
  },
  {
   "cell_type": "code",
   "execution_count": 21,
   "metadata": {},
   "outputs": [
    {
     "name": "stdout",
     "output_type": "stream",
     "text": [
      "1.17\n"
     ]
    }
   ],
   "source": [
    "print(change_rate('EUR','USD'))"
   ]
  },
  {
   "cell_type": "code",
   "execution_count": 22,
   "metadata": {},
   "outputs": [],
   "source": [
    "if sales_t.iloc[11]['Book title']:\n",
    "    print(1)"
   ]
  },
  {
   "cell_type": "code",
   "execution_count": 24,
   "metadata": {},
   "outputs": [
    {
     "name": "stdout",
     "output_type": "stream",
     "text": [
      "sales1:0\n",
      "units sold: 8.0 price per unit: 2.99 royalty paid:  0.55 currency type: USD\n",
      "sales1:1\n",
      "units sold: 2.0 price per unit: 1.99 royalty paid:  0.35 currency type: USD\n",
      "sales1:2\n",
      "units sold: 28.0 price per unit: 2.99 royalty paid:  0.55 currency type: USD\n",
      "sales1:3\n",
      "units sold: 34.0 price per unit: 2.99 royalty paid:  0.55 currency type: USD\n",
      "sales1:4\n",
      "units sold: 4.0 price per unit: 11.5 royalty paid:  4.25 currency type: USD\n",
      "sales2:5\n",
      "units sold: 0.0 price per unit: 0.0 royalty paid:  0.0 currency type: USD\n",
      "sales2:6\n",
      "units sold: 0.0 price per unit: 0.0 royalty paid:  0.0 currency type: USD\n",
      "sales2:7\n",
      "units sold: 0.0 price per unit: 0.0 royalty paid:  0.0 currency type: USD\n",
      "sales2:8\n",
      "units sold: 80.0 price per unit: 3.5 royalty paid:  14.98 currency type: USD\n",
      "sales2:9\n",
      "units sold: 1.0 price per unit: 2.99 royalty paid:  0.14 currency type: USD\n",
      "sales2:10\n",
      "units sold: 17.0 price per unit: 3.5 royalty paid:  5.15 currency type: USD\n",
      "sales2:11\n",
      "units sold: 34.0 price per unit: 2.99 royalty paid:  5.78 currency type: USD\n",
      "sales2:12\n",
      "units sold: 4.0 price per unit: 9.5 royalty paid:  6.2 currency type: USD\n",
      "sales2:13\n",
      "units sold: 0.0 price per unit: 0.0 royalty paid:  32.25 currency type: USD\n",
      "sales2:14\n",
      "units sold: 0.0 price per unit: 0.0 royalty paid:  0.0 currency type: GBP\n",
      "sales2:15\n",
      "units sold: 0.0 price per unit: 0.0 royalty paid:  0.0 currency type: GBP\n",
      "sales2:16\n",
      "units sold: 0.0 price per unit: 0.0 royalty paid:  0.0 currency type: GBP\n",
      "sales2:17\n",
      "units sold: 0.0 price per unit: 0.0 royalty paid:  0.0 currency type: GBP\n",
      "sales2:18\n",
      "units sold: 47.0 price per unit: 2.99 royalty paid:  11.98 currency type: GBP\n",
      "sales2:19\n",
      "units sold: 17.0 price per unit: 2.99 royalty paid:  3.5 currency type: GBP\n",
      "sales2:20\n",
      "units sold: 4.0 price per unit: 6.5 royalty paid:  4.8 currency type: GBP\n",
      "sales2:21\n",
      "units sold: 0.0 price per unit: 0.0 royalty paid:  20.28 currency type: GBP\n",
      "sales2:22\n",
      "units sold: 0.0 price per unit: 0.0 royalty paid:  0.0 currency type: EUR\n",
      "sales2:23\n",
      "units sold: 0.0 price per unit: 0.0 royalty paid:  0.0 currency type: EUR\n",
      "sales2:24\n",
      "units sold: 0.0 price per unit: 0.0 royalty paid:  0.0 currency type: EUR\n",
      "sales2:25\n",
      "units sold: 0.0 price per unit: 0.0 royalty paid:  0.0 currency type: EUR\n",
      "sales2:26\n",
      "units sold: 8.0 price per unit: 1.99 royalty paid:  0.88 currency type: EUR\n",
      "sales2:27\n",
      "units sold: 12.0 price per unit: 1.99 royalty paid:  1.5 currency type: EUR\n",
      "sales2:28\n",
      "units sold: 0.0 price per unit: 0.0 royalty paid:  2.38 currency type: EUR\n"
     ]
    },
    {
     "data": {
      "text/plain": [
       "1244.9929999999997"
      ]
     },
     "execution_count": 24,
     "metadata": {},
     "output_type": "execute_result"
    }
   ],
   "source": [
    "total_amount = 0\n",
    "desired_currency = 'EUR'\n",
    "for row in range(len(sales_t)):\n",
    "    \n",
    "    currency = sales_t.iloc[row][4]\n",
    "    modifier = change_rate(desired_currency,currency)    \n",
    "    if sales_t.iloc[row]['Book title']:\n",
    "        print(f'sales1:{row}')\n",
    "        print(f'units sold: {sales_t.iloc[row][1]} price per unit: {sales_t.iloc[row][2]} royalty paid:  {sales_t.iloc[row][3]} currency type: {sales_t.iloc[row][4]}')\n",
    "        total_amount += (sales_t.iloc[row][1] * sales_t.iloc[row][2]*modifier) + (sales_t.iloc[row][3]*modifier)\n",
    "    else:\n",
    "        print(f'sales2:{row}')\n",
    "        print(f'units sold: {sales_t.iloc[row][6]} price per unit: {sales_t.iloc[row][7]} royalty paid:  {sales_t.iloc[row][8]} currency type: {sales_t.iloc[row][4]}')\n",
    "        \n",
    "        total_amount += (sales_t.iloc[row][6] * (sales_t.iloc[row][7]*modifier)) + (sales_t.iloc[row][8]*modifier)\n",
    "\n",
    "total_amount"
   ]
  },
  {
   "cell_type": "code",
   "execution_count": null,
   "metadata": {},
   "outputs": [],
   "source": []
  },
  {
   "cell_type": "code",
   "execution_count": null,
   "metadata": {},
   "outputs": [],
   "source": []
  }
 ],
 "metadata": {
  "kernelspec": {
   "display_name": "Python 3",
   "language": "python",
   "name": "python3"
  },
  "language_info": {
   "codemirror_mode": {
    "name": "ipython",
    "version": 3
   },
   "file_extension": ".py",
   "mimetype": "text/x-python",
   "name": "python",
   "nbconvert_exporter": "python",
   "pygments_lexer": "ipython3",
   "version": "3.8.5"
  }
 },
 "nbformat": 4,
 "nbformat_minor": 4
}
