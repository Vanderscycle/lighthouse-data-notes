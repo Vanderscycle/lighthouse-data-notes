{
 "cells": [
  {
   "cell_type": "code",
   "execution_count": 2,
   "metadata": {},
   "outputs": [],
   "source": [
    "import pandas as pd\n",
    "import numpy as np\n",
    "import matplotlib.pyplot as plt"
   ]
  },
  {
   "cell_type": "markdown",
   "metadata": {},
   "source": [
    "### Connect Pandas to the database with this URL: "
   ]
  },
  {
   "cell_type": "code",
   "execution_count": 3,
   "metadata": {},
   "outputs": [
    {
     "name": "stdout",
     "output_type": "stream",
     "text": [
      "Index(['title', 'year'], dtype='object')\n"
     ]
    },
    {
     "data": {
      "text/html": [
       "<div>\n",
       "<style scoped>\n",
       "    .dataframe tbody tr th:only-of-type {\n",
       "        vertical-align: middle;\n",
       "    }\n",
       "\n",
       "    .dataframe tbody tr th {\n",
       "        vertical-align: top;\n",
       "    }\n",
       "\n",
       "    .dataframe thead th {\n",
       "        text-align: right;\n",
       "    }\n",
       "</style>\n",
       "<table border=\"1\" class=\"dataframe\">\n",
       "  <thead>\n",
       "    <tr style=\"text-align: right;\">\n",
       "      <th></th>\n",
       "      <th>title</th>\n",
       "      <th>year</th>\n",
       "      <th>name</th>\n",
       "      <th>type</th>\n",
       "      <th>character</th>\n",
       "      <th>n</th>\n",
       "    </tr>\n",
       "  </thead>\n",
       "  <tbody>\n",
       "    <tr>\n",
       "      <th>0</th>\n",
       "      <td>Closet Monster</td>\n",
       "      <td>2015</td>\n",
       "      <td>Buffy #1</td>\n",
       "      <td>actor</td>\n",
       "      <td>Buffy 4</td>\n",
       "      <td>NaN</td>\n",
       "    </tr>\n",
       "    <tr>\n",
       "      <th>1</th>\n",
       "      <td>Suuri illusioni</td>\n",
       "      <td>1985</td>\n",
       "      <td>Homo $</td>\n",
       "      <td>actor</td>\n",
       "      <td>Guests</td>\n",
       "      <td>22.0</td>\n",
       "    </tr>\n",
       "    <tr>\n",
       "      <th>2</th>\n",
       "      <td>Battle of the Sexes</td>\n",
       "      <td>2017</td>\n",
       "      <td>$hutter</td>\n",
       "      <td>actor</td>\n",
       "      <td>Bobby Riggs Fan</td>\n",
       "      <td>10.0</td>\n",
       "    </tr>\n",
       "    <tr>\n",
       "      <th>3</th>\n",
       "      <td>Secret in Their Eyes</td>\n",
       "      <td>2015</td>\n",
       "      <td>$hutter</td>\n",
       "      <td>actor</td>\n",
       "      <td>2002 Dodger Fan</td>\n",
       "      <td>NaN</td>\n",
       "    </tr>\n",
       "    <tr>\n",
       "      <th>4</th>\n",
       "      <td>Steve Jobs</td>\n",
       "      <td>2015</td>\n",
       "      <td>$hutter</td>\n",
       "      <td>actor</td>\n",
       "      <td>1988 Opera House Patron</td>\n",
       "      <td>NaN</td>\n",
       "    </tr>\n",
       "  </tbody>\n",
       "</table>\n",
       "</div>"
      ],
      "text/plain": [
       "                  title  year      name   type                character     n\n",
       "0        Closet Monster  2015  Buffy #1  actor                  Buffy 4   NaN\n",
       "1       Suuri illusioni  1985    Homo $  actor                   Guests  22.0\n",
       "2   Battle of the Sexes  2017   $hutter  actor          Bobby Riggs Fan  10.0\n",
       "3  Secret in Their Eyes  2015   $hutter  actor          2002 Dodger Fan   NaN\n",
       "4            Steve Jobs  2015   $hutter  actor  1988 Opera House Patron   NaN"
      ]
     },
     "execution_count": 3,
     "metadata": {},
     "output_type": "execute_result"
    }
   ],
   "source": [
    "cst_ab_pth = '/home/vanderscycle/Documents/Lighthouse-lab/Databases/w2-d2-db/imdb_pandas/cast.csv'\n",
    "title_ab_pth = '/home/vanderscycle/Documents/Lighthouse-lab/Databases/w2-d2-db/imdb_pandas/titles.csv'\n",
    "\n",
    "\n",
    "titles = pd.read_csv(title_ab_pth) # relative path use the forward slash\n",
    "titles.head()\n",
    "print(titles.columns)\n",
    "cast = pd.read_csv(cst_ab_pth)\n",
    "cast.head()"
   ]
  },
  {
   "cell_type": "markdown",
   "metadata": {},
   "source": [
    "### Define a year as a \"Superman year\" whose films feature more Superman characters than Batman. How many years in film history have been Superman years?"
   ]
  },
  {
   "cell_type": "code",
   "execution_count": 4,
   "metadata": {},
   "outputs": [
    {
     "data": {
      "text/html": [
       "<div>\n",
       "<style scoped>\n",
       "    .dataframe tbody tr th:only-of-type {\n",
       "        vertical-align: middle;\n",
       "    }\n",
       "\n",
       "    .dataframe tbody tr th {\n",
       "        vertical-align: top;\n",
       "    }\n",
       "\n",
       "    .dataframe thead th {\n",
       "        text-align: right;\n",
       "    }\n",
       "</style>\n",
       "<table border=\"1\" class=\"dataframe\">\n",
       "  <thead>\n",
       "    <tr style=\"text-align: right;\">\n",
       "      <th></th>\n",
       "      <th>title</th>\n",
       "      <th>year</th>\n",
       "    </tr>\n",
       "  </thead>\n",
       "  <tbody>\n",
       "    <tr>\n",
       "      <th>16198</th>\n",
       "      <td>Superman</td>\n",
       "      <td>1987</td>\n",
       "    </tr>\n",
       "    <tr>\n",
       "      <th>101016</th>\n",
       "      <td>Superman</td>\n",
       "      <td>1997</td>\n",
       "    </tr>\n",
       "    <tr>\n",
       "      <th>107441</th>\n",
       "      <td>Superman</td>\n",
       "      <td>1948</td>\n",
       "    </tr>\n",
       "    <tr>\n",
       "      <th>127419</th>\n",
       "      <td>Superman</td>\n",
       "      <td>1973</td>\n",
       "    </tr>\n",
       "    <tr>\n",
       "      <th>154238</th>\n",
       "      <td>Superman</td>\n",
       "      <td>1978</td>\n",
       "    </tr>\n",
       "    <tr>\n",
       "      <th>183331</th>\n",
       "      <td>Superman</td>\n",
       "      <td>1980</td>\n",
       "    </tr>\n",
       "  </tbody>\n",
       "</table>\n",
       "</div>"
      ],
      "text/plain": [
       "           title  year\n",
       "16198   Superman  1987\n",
       "101016  Superman  1997\n",
       "107441  Superman  1948\n",
       "127419  Superman  1973\n",
       "154238  Superman  1978\n",
       "183331  Superman  1980"
      ]
     },
     "execution_count": 4,
     "metadata": {},
     "output_type": "execute_result"
    }
   ],
   "source": [
    "titles[titles.title == 'Superman']"
   ]
  },
  {
   "cell_type": "code",
   "execution_count": 6,
   "metadata": {},
   "outputs": [],
   "source": [
    "s_titles = titles[titles['title'].str.contains('Superman')]"
   ]
  },
  {
   "cell_type": "code",
   "execution_count": 7,
   "metadata": {},
   "outputs": [
    {
     "data": {
      "text/html": [
       "<div>\n",
       "<style scoped>\n",
       "    .dataframe tbody tr th:only-of-type {\n",
       "        vertical-align: middle;\n",
       "    }\n",
       "\n",
       "    .dataframe tbody tr th {\n",
       "        vertical-align: top;\n",
       "    }\n",
       "\n",
       "    .dataframe thead th {\n",
       "        text-align: right;\n",
       "    }\n",
       "</style>\n",
       "<table border=\"1\" class=\"dataframe\">\n",
       "  <thead>\n",
       "    <tr style=\"text-align: right;\">\n",
       "      <th></th>\n",
       "      <th>title</th>\n",
       "      <th>year</th>\n",
       "    </tr>\n",
       "  </thead>\n",
       "  <tbody>\n",
       "    <tr>\n",
       "      <th>1737</th>\n",
       "      <td>Atom Man vs. Superman</td>\n",
       "      <td>1950</td>\n",
       "    </tr>\n",
       "    <tr>\n",
       "      <th>3177</th>\n",
       "      <td>Zoom, Zoom, Superman!</td>\n",
       "      <td>1973</td>\n",
       "    </tr>\n",
       "    <tr>\n",
       "      <th>8329</th>\n",
       "      <td>Tesla the Superman</td>\n",
       "      <td>2009</td>\n",
       "    </tr>\n",
       "    <tr>\n",
       "      <th>13967</th>\n",
       "      <td>Little Superman</td>\n",
       "      <td>2014</td>\n",
       "    </tr>\n",
       "    <tr>\n",
       "      <th>16198</th>\n",
       "      <td>Superman</td>\n",
       "      <td>1987</td>\n",
       "    </tr>\n",
       "  </tbody>\n",
       "</table>\n",
       "</div>"
      ],
      "text/plain": [
       "                       title  year\n",
       "1737   Atom Man vs. Superman  1950\n",
       "3177   Zoom, Zoom, Superman!  1973\n",
       "8329      Tesla the Superman  2009\n",
       "13967        Little Superman  2014\n",
       "16198               Superman  1987"
      ]
     },
     "execution_count": 7,
     "metadata": {},
     "output_type": "execute_result"
    }
   ],
   "source": [
    "s_titles.head() "
   ]
  },
  {
   "cell_type": "code",
   "execution_count": 61,
   "metadata": {},
   "outputs": [],
   "source": [
    "#s_titles['year'].value_counts()"
   ]
  },
  {
   "cell_type": "code",
   "execution_count": 19,
   "metadata": {},
   "outputs": [],
   "source": [
    "b_titles = titles[titles['title'].str.contains('Batman')]"
   ]
  },
  {
   "cell_type": "code",
   "execution_count": 20,
   "metadata": {},
   "outputs": [
    {
     "data": {
      "text/plain": [
       "2016    6\n",
       "2014    2\n",
       "2017    2\n",
       "1966    2\n",
       "2010    2\n",
       "1943    1\n",
       "1973    1\n",
       "1992    1\n",
       "1967    1\n",
       "1949    1\n",
       "1965    1\n",
       "1964    1\n",
       "1995    1\n",
       "1993    1\n",
       "2005    1\n",
       "1991    1\n",
       "1989    1\n",
       "2012    1\n",
       "1997    1\n",
       "Name: year, dtype: int64"
      ]
     },
     "execution_count": 20,
     "metadata": {},
     "output_type": "execute_result"
    }
   ],
   "source": [
    "#b_titles['year'].value_counts()"
   ]
  },
  {
   "cell_type": "markdown",
   "metadata": {},
   "source": []
  },
  {
   "cell_type": "code",
   "execution_count": 33,
   "metadata": {},
   "outputs": [
    {
     "data": {
      "text/plain": [
       "0.0    1\n",
       "Name: year, dtype: int64"
      ]
     },
     "execution_count": 33,
     "metadata": {},
     "output_type": "execute_result"
    }
   ],
   "source": [
    "#\n",
    "delta_titles = (s_titles['year']-b_titles['year']).value_counts()#.dropna()\n",
    "delta_titles"
   ]
  },
  {
   "cell_type": "code",
   "execution_count": 54,
   "metadata": {},
   "outputs": [
    {
     "data": {
      "text/plain": [
       "1967    0.0\n",
       "1973    1.0\n",
       "1997    0.0\n",
       "2014   -1.0\n",
       "2016   -5.0\n",
       "2017   -1.0\n",
       "Name: year, dtype: float64"
      ]
     },
     "execution_count": 54,
     "metadata": {},
     "output_type": "execute_result"
    }
   ],
   "source": [
    "# gives NaN if there wasn't a batman or superman in the same year\n",
    "delta_titles = (s_titles['year'].value_counts() - b_titles['year'].value_counts()).dropna()\n",
    "delta_titles "
   ]
  },
  {
   "cell_type": "code",
   "execution_count": 56,
   "metadata": {},
   "outputs": [
    {
     "name": "stdout",
     "output_type": "stream",
     "text": [
      "0.0\n",
      "1.0\n",
      "0.0\n",
      "-1.0\n",
      "-5.0\n",
      "-1.0\n"
     ]
    }
   ],
   "source": [
    "for cursor in range(len(delta_titles)):\n",
    "    print(delta_titles.iloc[cursor])"
   ]
  },
  {
   "cell_type": "code",
   "execution_count": null,
   "metadata": {},
   "outputs": [],
   "source": []
  },
  {
   "cell_type": "code",
   "execution_count": 60,
   "metadata": {},
   "outputs": [
    {
     "name": "stdout",
     "output_type": "stream",
     "text": [
      "year: 1967 was neither a Batman nor Superman year as they produced the same amount of movies\n",
      "year: 1973 was a Batman year as 1.0 movies were produced\n",
      "year: 1997 was neither a Batman nor Superman year as they produced the same amount of movies\n",
      "year: 2014 was a Batman year as 1.0 movies were produced\n",
      "year: 2016 was a Batman year as 5.0 movies were produced\n",
      "year: 2017 was a Batman year as 1.0 movies were produced\n"
     ]
    }
   ],
   "source": [
    "for index,value in delta_titles.iteritems():\n",
    "    if value == 0:\n",
    "        print(f'year: {index} was neither a Batman nor Superman year as they produced the same amount of movies')\n",
    "    elif value <=1:\n",
    "        print(f'year: {index} was a Batman year as {abs(value)} movies were produced')\n",
    "    else :\n",
    "        print(f'year: {index} was a Superman year as {abs(value)} movies were produced')\n",
    "    #print(index,value)"
   ]
  },
  {
   "cell_type": "markdown",
   "metadata": {},
   "source": [
    "### How many years have been \"Batman years\", with more Batman characters than Superman characters?"
   ]
  },
  {
   "cell_type": "code",
   "execution_count": 83,
   "metadata": {},
   "outputs": [],
   "source": [
    "#s_titles = titles[titles['title'].str.contains('Superman')]\n",
    "s_cast = (cast[cast['title'].str.contains('Superman')]).groupby(['year']).count()\n",
    "b_cast = (cast[cast['title'].str.contains('Batman')]).groupby(['year']).count()"
   ]
  },
  {
   "cell_type": "code",
   "execution_count": 87,
   "metadata": {},
   "outputs": [],
   "source": [
    "#s_cast.head()"
   ]
  },
  {
   "cell_type": "code",
   "execution_count": 86,
   "metadata": {},
   "outputs": [
    {
     "data": {
      "text/html": [
       "<div>\n",
       "<style scoped>\n",
       "    .dataframe tbody tr th:only-of-type {\n",
       "        vertical-align: middle;\n",
       "    }\n",
       "\n",
       "    .dataframe tbody tr th {\n",
       "        vertical-align: top;\n",
       "    }\n",
       "\n",
       "    .dataframe thead th {\n",
       "        text-align: right;\n",
       "    }\n",
       "</style>\n",
       "<table border=\"1\" class=\"dataframe\">\n",
       "  <thead>\n",
       "    <tr style=\"text-align: right;\">\n",
       "      <th></th>\n",
       "      <th>title</th>\n",
       "      <th>name</th>\n",
       "      <th>type</th>\n",
       "      <th>character</th>\n",
       "      <th>n</th>\n",
       "    </tr>\n",
       "    <tr>\n",
       "      <th>year</th>\n",
       "      <th></th>\n",
       "      <th></th>\n",
       "      <th></th>\n",
       "      <th></th>\n",
       "      <th></th>\n",
       "    </tr>\n",
       "  </thead>\n",
       "  <tbody>\n",
       "    <tr>\n",
       "      <th>1967</th>\n",
       "      <td>0.0</td>\n",
       "      <td>0.0</td>\n",
       "      <td>0.0</td>\n",
       "      <td>0.0</td>\n",
       "      <td>0.0</td>\n",
       "    </tr>\n",
       "    <tr>\n",
       "      <th>1973</th>\n",
       "      <td>36.0</td>\n",
       "      <td>36.0</td>\n",
       "      <td>36.0</td>\n",
       "      <td>36.0</td>\n",
       "      <td>36.0</td>\n",
       "    </tr>\n",
       "    <tr>\n",
       "      <th>1997</th>\n",
       "      <td>-88.0</td>\n",
       "      <td>-88.0</td>\n",
       "      <td>-88.0</td>\n",
       "      <td>-88.0</td>\n",
       "      <td>-67.0</td>\n",
       "    </tr>\n",
       "    <tr>\n",
       "      <th>2016</th>\n",
       "      <td>-99.0</td>\n",
       "      <td>-99.0</td>\n",
       "      <td>-99.0</td>\n",
       "      <td>-99.0</td>\n",
       "      <td>-55.0</td>\n",
       "    </tr>\n",
       "    <tr>\n",
       "      <th>2017</th>\n",
       "      <td>-35.0</td>\n",
       "      <td>-35.0</td>\n",
       "      <td>-35.0</td>\n",
       "      <td>-35.0</td>\n",
       "      <td>0.0</td>\n",
       "    </tr>\n",
       "  </tbody>\n",
       "</table>\n",
       "</div>"
      ],
      "text/plain": [
       "      title  name  type  character     n\n",
       "year                                    \n",
       "1967    0.0   0.0   0.0        0.0   0.0\n",
       "1973   36.0  36.0  36.0       36.0  36.0\n",
       "1997  -88.0 -88.0 -88.0      -88.0 -67.0\n",
       "2016  -99.0 -99.0 -99.0      -99.0 -55.0\n",
       "2017  -35.0 -35.0 -35.0      -35.0   0.0"
      ]
     },
     "execution_count": 86,
     "metadata": {},
     "output_type": "execute_result"
    }
   ],
   "source": [
    "d_cast = (s_cast-b_cast).dropna()\n",
    "d_cast"
   ]
  },
  {
   "cell_type": "code",
   "execution_count": null,
   "metadata": {},
   "outputs": [],
   "source": []
  },
  {
   "cell_type": "code",
   "execution_count": 90,
   "metadata": {},
   "outputs": [
    {
     "name": "stdout",
     "output_type": "stream",
     "text": [
      "year: 1967 was neither a Batman nor Superman year as they produced the same amount of movies\n",
      "year: 1973 was a Superman year as there was 36.0 more characters\n",
      "year: 1997 was a Batman year as there was 88.0 more characters\n",
      "year: 2016 was a Batman year as there was 99.0 more characters\n",
      "year: 2017 was a Batman year as there was 35.0 more characters\n"
     ]
    }
   ],
   "source": [
    "for index,value in d_cast['character'].iteritems():\n",
    "    if value == 0:\n",
    "        print(f'year: {index} was neither a Batman nor Superman year as they produced the same amount of movies')\n",
    "    elif value <=1:\n",
    "        print(f'year: {index} was a Batman year as there was {abs(value)} more characters')\n",
    "    else :\n",
    "        print(f'year: {index} was a Superman year as there was {abs(value)} more characters')\n",
    "    #print(index,value)"
   ]
  },
  {
   "cell_type": "markdown",
   "metadata": {},
   "source": [
    "### Count the number of actor roles each year and the number of actress roles each year over the history of film."
   ]
  },
  {
   "cell_type": "markdown",
   "metadata": {},
   "source": [
    "Made the question harder on myself. Next time jsut drop the last col. Talk to Eric about the powert of multi indexes"
   ]
  },
  {
   "cell_type": "code",
   "execution_count": 100,
   "metadata": {},
   "outputs": [
    {
     "data": {
      "text/html": [
       "<div>\n",
       "<style scoped>\n",
       "    .dataframe tbody tr th:only-of-type {\n",
       "        vertical-align: middle;\n",
       "    }\n",
       "\n",
       "    .dataframe tbody tr th {\n",
       "        vertical-align: top;\n",
       "    }\n",
       "\n",
       "    .dataframe thead th {\n",
       "        text-align: right;\n",
       "    }\n",
       "</style>\n",
       "<table border=\"1\" class=\"dataframe\">\n",
       "  <thead>\n",
       "    <tr style=\"text-align: right;\">\n",
       "      <th></th>\n",
       "      <th>title</th>\n",
       "      <th>year</th>\n",
       "      <th>name</th>\n",
       "      <th>type</th>\n",
       "      <th>character</th>\n",
       "      <th>n</th>\n",
       "    </tr>\n",
       "  </thead>\n",
       "  <tbody>\n",
       "    <tr>\n",
       "      <th>0</th>\n",
       "      <td>Closet Monster</td>\n",
       "      <td>2015</td>\n",
       "      <td>Buffy #1</td>\n",
       "      <td>actor</td>\n",
       "      <td>Buffy 4</td>\n",
       "      <td>NaN</td>\n",
       "    </tr>\n",
       "    <tr>\n",
       "      <th>1</th>\n",
       "      <td>Suuri illusioni</td>\n",
       "      <td>1985</td>\n",
       "      <td>Homo $</td>\n",
       "      <td>actor</td>\n",
       "      <td>Guests</td>\n",
       "      <td>22.0</td>\n",
       "    </tr>\n",
       "    <tr>\n",
       "      <th>2</th>\n",
       "      <td>Battle of the Sexes</td>\n",
       "      <td>2017</td>\n",
       "      <td>$hutter</td>\n",
       "      <td>actor</td>\n",
       "      <td>Bobby Riggs Fan</td>\n",
       "      <td>10.0</td>\n",
       "    </tr>\n",
       "    <tr>\n",
       "      <th>3</th>\n",
       "      <td>Secret in Their Eyes</td>\n",
       "      <td>2015</td>\n",
       "      <td>$hutter</td>\n",
       "      <td>actor</td>\n",
       "      <td>2002 Dodger Fan</td>\n",
       "      <td>NaN</td>\n",
       "    </tr>\n",
       "    <tr>\n",
       "      <th>4</th>\n",
       "      <td>Steve Jobs</td>\n",
       "      <td>2015</td>\n",
       "      <td>$hutter</td>\n",
       "      <td>actor</td>\n",
       "      <td>1988 Opera House Patron</td>\n",
       "      <td>NaN</td>\n",
       "    </tr>\n",
       "    <tr>\n",
       "      <th>...</th>\n",
       "      <td>...</td>\n",
       "      <td>...</td>\n",
       "      <td>...</td>\n",
       "      <td>...</td>\n",
       "      <td>...</td>\n",
       "      <td>...</td>\n",
       "    </tr>\n",
       "    <tr>\n",
       "      <th>1707540</th>\n",
       "      <td>Inside Me</td>\n",
       "      <td>2023</td>\n",
       "      <td>Natalee Paul</td>\n",
       "      <td>actor</td>\n",
       "      <td>Lucy</td>\n",
       "      <td>NaN</td>\n",
       "    </tr>\n",
       "    <tr>\n",
       "      <th>1728670</th>\n",
       "      <td>Soldiers of the Cross</td>\n",
       "      <td>1900</td>\n",
       "      <td>Orrie Perry</td>\n",
       "      <td>actor</td>\n",
       "      <td>Lion</td>\n",
       "      <td>NaN</td>\n",
       "    </tr>\n",
       "    <tr>\n",
       "      <th>1728821</th>\n",
       "      <td>Soldiers of the Cross</td>\n",
       "      <td>1900</td>\n",
       "      <td>Reg Perry</td>\n",
       "      <td>actor</td>\n",
       "      <td>Lion</td>\n",
       "      <td>NaN</td>\n",
       "    </tr>\n",
       "    <tr>\n",
       "      <th>1813305</th>\n",
       "      <td>Inside Me</td>\n",
       "      <td>2023</td>\n",
       "      <td>Adrian (XI) Ramirez</td>\n",
       "      <td>actor</td>\n",
       "      <td>Luke Moldy</td>\n",
       "      <td>NaN</td>\n",
       "    </tr>\n",
       "    <tr>\n",
       "      <th>2268330</th>\n",
       "      <td>Robbery Under Arms</td>\n",
       "      <td>1907</td>\n",
       "      <td>Lance Vane</td>\n",
       "      <td>actor</td>\n",
       "      <td>Inspector of Police</td>\n",
       "      <td>3.0</td>\n",
       "    </tr>\n",
       "  </tbody>\n",
       "</table>\n",
       "<p>596 rows × 6 columns</p>\n",
       "</div>"
      ],
      "text/plain": [
       "                         title  year                 name   type  \\\n",
       "0               Closet Monster  2015             Buffy #1  actor   \n",
       "1              Suuri illusioni  1985               Homo $  actor   \n",
       "2          Battle of the Sexes  2017              $hutter  actor   \n",
       "3         Secret in Their Eyes  2015              $hutter  actor   \n",
       "4                   Steve Jobs  2015              $hutter  actor   \n",
       "...                        ...   ...                  ...    ...   \n",
       "1707540              Inside Me  2023         Natalee Paul  actor   \n",
       "1728670  Soldiers of the Cross  1900          Orrie Perry  actor   \n",
       "1728821  Soldiers of the Cross  1900            Reg Perry  actor   \n",
       "1813305              Inside Me  2023  Adrian (XI) Ramirez  actor   \n",
       "2268330     Robbery Under Arms  1907           Lance Vane  actor   \n",
       "\n",
       "                       character     n  \n",
       "0                        Buffy 4   NaN  \n",
       "1                         Guests  22.0  \n",
       "2                Bobby Riggs Fan  10.0  \n",
       "3                2002 Dodger Fan   NaN  \n",
       "4        1988 Opera House Patron   NaN  \n",
       "...                          ...   ...  \n",
       "1707540                     Lucy   NaN  \n",
       "1728670                     Lion   NaN  \n",
       "1728821                     Lion   NaN  \n",
       "1813305               Luke Moldy   NaN  \n",
       "2268330      Inspector of Police   3.0  \n",
       "\n",
       "[596 rows x 6 columns]"
      ]
     },
     "execution_count": 100,
     "metadata": {},
     "output_type": "execute_result"
    }
   ],
   "source": [
    "m_cast = cast[cast['type'].isin(['actor'])].groupby(['year'])#.value_counts()\n",
    "m_cast.head()"
   ]
  },
  {
   "cell_type": "code",
   "execution_count": 101,
   "metadata": {},
   "outputs": [],
   "source": [
    "cast_multi_ind = cast.set_index(['year','type','n']).sort_index(level=[0,1,2])"
   ]
  },
  {
   "cell_type": "code",
   "execution_count": 109,
   "metadata": {},
   "outputs": [],
   "source": [
    "male_cast_multi = cast_multi_ind.loc[(range(len(cast['year'])),'actor',range(len(cast['n'])))]"
   ]
  },
  {
   "cell_type": "code",
   "execution_count": 232,
   "metadata": {},
   "outputs": [],
   "source": [
    "#should ahve been the answer\n",
    "male_cast_multi_n_count = male_cast_multi.groupby(level=['year','type']).size()"
   ]
  },
  {
   "cell_type": "code",
   "execution_count": 172,
   "metadata": {},
   "outputs": [
    {
     "data": {
      "text/plain": [
       "year  type   n  \n",
       "1906  actor  1.0    2\n",
       "             2.0    2\n",
       "1907  actor  1.0    1\n",
       "             2.0    1\n",
       "             3.0    1\n",
       "dtype: int64"
      ]
     },
     "execution_count": 172,
     "metadata": {},
     "output_type": "execute_result"
    }
   ],
   "source": [
    "#df.groupby(level=['A','B']).size()\n",
    "male_cast_multi_n_count = male_cast_multi.groupby(level=['year','type','n']).size()\n",
    "male_cast_multi_n_count.head()"
   ]
  },
  {
   "cell_type": "code",
   "execution_count": 173,
   "metadata": {},
   "outputs": [
    {
     "data": {
      "text/plain": [
       "year\n",
       "1906        4\n",
       "1907        5\n",
       "1908       25\n",
       "1909        1\n",
       "1910       19\n",
       "        ...  \n",
       "2016    41295\n",
       "2017    11592\n",
       "2018      357\n",
       "2019       35\n",
       "2020       25\n",
       "Length: 115, dtype: int64"
      ]
     },
     "execution_count": 173,
     "metadata": {},
     "output_type": "execute_result"
    }
   ],
   "source": [
    "male_cast_multi_n_count.sum(level=0)"
   ]
  },
  {
   "cell_type": "code",
   "execution_count": 111,
   "metadata": {},
   "outputs": [],
   "source": [
    "female_cast_multi = cast_multi_ind.loc[(range(len(cast['year'])),'actress',range(len(cast['n'])))]"
   ]
  },
  {
   "cell_type": "code",
   "execution_count": 145,
   "metadata": {},
   "outputs": [
    {
     "data": {
      "text/plain": [
       "year  type     n   \n",
       "1906  actress  1.0     1\n",
       "               2.0     1\n",
       "               3.0     1\n",
       "1908  actress  12.0    1\n",
       "               20.0    1\n",
       "                      ..\n",
       "2020  actress  2.0     2\n",
       "               3.0     2\n",
       "               4.0     1\n",
       "               6.0     2\n",
       "               18.0    1\n",
       "Length: 10576, dtype: int64"
      ]
     },
     "execution_count": 145,
     "metadata": {},
     "output_type": "execute_result"
    }
   ],
   "source": [
    "female_cast_multi_n_count = female_cast_multi.groupby(level=['year','type','n']).size()\n",
    "female_cast_multi_n_count.head()"
   ]
  },
  {
   "cell_type": "code",
   "execution_count": 157,
   "metadata": {},
   "outputs": [
    {
     "data": {
      "text/plain": [
       "year\n",
       "1906        3\n",
       "1908       10\n",
       "1910       12\n",
       "1911       36\n",
       "1912       59\n",
       "        ...  \n",
       "2016    24288\n",
       "2017     7318\n",
       "2018      249\n",
       "2019       14\n",
       "2020        8\n",
       "Length: 113, dtype: int64"
      ]
     },
     "execution_count": 157,
     "metadata": {},
     "output_type": "execute_result"
    }
   ],
   "source": [
    "female_cast_multi_n_count.sum(level=0)"
   ]
  },
  {
   "cell_type": "code",
   "execution_count": null,
   "metadata": {},
   "outputs": [],
   "source": []
  },
  {
   "cell_type": "markdown",
   "metadata": {},
   "source": [
    "### Find the difference between the number of actor roles each year and the number of actress roles each year over the history of film."
   ]
  },
  {
   "cell_type": "code",
   "execution_count": 221,
   "metadata": {},
   "outputs": [
    {
     "data": {
      "text/plain": [
       "17007.0"
      ]
     },
     "execution_count": 221,
     "metadata": {},
     "output_type": "execute_result"
    }
   ],
   "source": [
    "#having issues with multi index subs when values are missing e.g.nil female actress in 1907/1909\n",
    "delta_cast_mindex_ncount = male_cast_multi_n_count.sum(level=0) - female_cast_multi_n_count.sum(level=0)\n",
    "delta_cast_mindex_ncount[2016]"
   ]
  },
  {
   "cell_type": "markdown",
   "metadata": {},
   "source": [
    "### What is the fraction of roles that have been 'actor' roles each year in the history of film."
   ]
  },
  {
   "cell_type": "code",
   "execution_count": 218,
   "metadata": {},
   "outputs": [
    {
     "data": {
      "text/plain": [
       "25"
      ]
     },
     "execution_count": 218,
     "metadata": {},
     "output_type": "execute_result"
    }
   ],
   "source": [
    "male_cast_multi_n_count.sum(level=0)[2020]"
   ]
  },
  {
   "cell_type": "code",
   "execution_count": 219,
   "metadata": {},
   "outputs": [
    {
     "data": {
      "text/plain": [
       "range(0, 115)"
      ]
     },
     "execution_count": 219,
     "metadata": {},
     "output_type": "execute_result"
    }
   ],
   "source": [
    "date_r = range(len(male_cast_multi_n_count.sum(level=0)))\n",
    "date_r"
   ]
  },
  {
   "cell_type": "code",
   "execution_count": 278,
   "metadata": {},
   "outputs": [],
   "source": [
    "delta_sum_mindex_ncount = male_cast_multi_n_count.sum(level=0) + female_cast_multi_n_count.sum(level=0)\n",
    "year = 1906\n",
    "fraction_dict = dict()\n",
    "for time in date_r:\n",
    "    year += 1\n",
    "    if year >2020:\n",
    "        break\n",
    "    #m_year = (male_cast_multi_n_count.sum(level=0)[year])\n",
    "    frac = (male_cast_multi_n_count.sum(level=0)[year])/(delta_sum_mindex_ncount[year])\n",
    "\n",
    "    fraction_dict[year] = round(frac,2)\n",
    "\n",
    "    #print(f'{year},{round(frac,2)}')"
   ]
  },
  {
   "cell_type": "code",
   "execution_count": 279,
   "metadata": {},
   "outputs": [
    {
     "data": {
      "image/png": "[encoded data removed]",
      "text/plain": [
       "<Figure size 432x288 with 1 Axes>"
      ]
     },
     "metadata": {
      "needs_background": "light"
     },
     "output_type": "display_data"
    }
   ],
   "source": [
    "#plot\n",
    "lists = sorted(fraction_dict.items())\n",
    "x, y = zip(*lists)\n",
    "plt.plot(x, y)\n",
    "plt.xlabel('x - years')\n",
    "plt.ylabel('y - ratio male/total \"n\"roles')\n",
    "plt.title('Male occupancy of the screen over the course of cinema')\n",
    "plt.show()"
   ]
  },
  {
   "cell_type": "code",
   "execution_count": 223,
   "metadata": {},
   "outputs": [
    {
     "data": {
      "text/plain": [
       "2.38"
      ]
     },
     "execution_count": 223,
     "metadata": {},
     "output_type": "execute_result"
    }
   ],
   "source": []
  },
  {
   "cell_type": "markdown",
   "metadata": {},
   "source": [
    "### What is the fraction of supporting (n=2) roles that have been 'actor' roles each year in the history of film."
   ]
  },
  {
   "cell_type": "code",
   "execution_count": 231,
   "metadata": {},
   "outputs": [
    {
     "data": {
      "text/plain": [
       "year  type \n",
       "1906  actor     4\n",
       "1907  actor     5\n",
       "1908  actor    25\n",
       "1909  actor     1\n",
       "1910  actor    19\n",
       "dtype: int64"
      ]
     },
     "execution_count": 231,
     "metadata": {},
     "output_type": "execute_result"
    }
   ],
   "source": [
    "male_cast_multi_n_count = male_cast_multi.groupby(level=['year','type']).size()\n",
    "male_cast_multi_n_count.head()"
   ]
  },
  {
   "cell_type": "code",
   "execution_count": 245,
   "metadata": {},
   "outputs": [],
   "source": [
    "male_n2_cast_multi = cast_multi_ind.loc[(range(len(cast['year'])),'actor',2)].groupby(level=['year','type']).size()"
   ]
  },
  {
   "cell_type": "code",
   "execution_count": 246,
   "metadata": {},
   "outputs": [
    {
     "data": {
      "text/plain": [
       "year  type \n",
       "1906  actor       2\n",
       "1907  actor       1\n",
       "1908  actor       2\n",
       "1910  actor       2\n",
       "1911  actor      14\n",
       "               ... \n",
       "2016  actor    2337\n",
       "2017  actor     883\n",
       "2018  actor      41\n",
       "2019  actor       7\n",
       "2020  actor       1\n",
       "Length: 114, dtype: int64"
      ]
     },
     "execution_count": 246,
     "metadata": {},
     "output_type": "execute_result"
    }
   ],
   "source": [
    "male_n2_cast_multi"
   ]
  },
  {
   "cell_type": "code",
   "execution_count": 273,
   "metadata": {},
   "outputs": [
    {
     "ename": "ValueError",
     "evalue": "The truth value of a Series is ambiguous. Use a.empty, a.bool(), a.item(), a.any() or a.all().",
     "output_type": "error",
     "traceback": [
      "\u001b[0;31m---------------------------------------------------------------------------\u001b[0m",
      "\u001b[0;31mValueError\u001b[0m                                Traceback (most recent call last)",
      "\u001b[0;32m<ipython-input-273-66f4974d6c83>\u001b[0m in \u001b[0;36m<module>\u001b[0;34m\u001b[0m\n\u001b[1;32m      1\u001b[0m \u001b[0;31m# same as the dict .get() method for possible missing keys\u001b[0m\u001b[0;34m\u001b[0m\u001b[0;34m\u001b[0m\u001b[0;34m\u001b[0m\u001b[0m\n\u001b[0;32m----> 2\u001b[0;31m \u001b[0;32mif\u001b[0m \u001b[0mpd\u001b[0m\u001b[0;34m.\u001b[0m\u001b[0misnull\u001b[0m\u001b[0;34m(\u001b[0m\u001b[0mmale_n2_cast_multi\u001b[0m\u001b[0;34m.\u001b[0m\u001b[0mget\u001b[0m\u001b[0;34m(\u001b[0m\u001b[0;36m1919\u001b[0m\u001b[0;34m)\u001b[0m\u001b[0;34m)\u001b[0m\u001b[0;34m:\u001b[0m\u001b[0;34m\u001b[0m\u001b[0;34m\u001b[0m\u001b[0m\n\u001b[0m\u001b[1;32m      3\u001b[0m     \u001b[0mprint\u001b[0m\u001b[0;34m(\u001b[0m\u001b[0;36m1\u001b[0m\u001b[0;34m)\u001b[0m\u001b[0;34m\u001b[0m\u001b[0;34m\u001b[0m\u001b[0m\n",
      "\u001b[0;32m~/miniconda3/envs/lighthouse-lab-course/lib/python3.8/site-packages/pandas/core/generic.py\u001b[0m in \u001b[0;36m__nonzero__\u001b[0;34m(self)\u001b[0m\n\u001b[1;32m   1324\u001b[0m \u001b[0;34m\u001b[0m\u001b[0m\n\u001b[1;32m   1325\u001b[0m     \u001b[0;32mdef\u001b[0m \u001b[0m__nonzero__\u001b[0m\u001b[0;34m(\u001b[0m\u001b[0mself\u001b[0m\u001b[0;34m)\u001b[0m\u001b[0;34m:\u001b[0m\u001b[0;34m\u001b[0m\u001b[0;34m\u001b[0m\u001b[0m\n\u001b[0;32m-> 1326\u001b[0;31m         raise ValueError(\n\u001b[0m\u001b[1;32m   1327\u001b[0m             \u001b[0;34mf\"The truth value of a {type(self).__name__} is ambiguous. \"\u001b[0m\u001b[0;34m\u001b[0m\u001b[0;34m\u001b[0m\u001b[0m\n\u001b[1;32m   1328\u001b[0m             \u001b[0;34m\"Use a.empty, a.bool(), a.item(), a.any() or a.all().\"\u001b[0m\u001b[0;34m\u001b[0m\u001b[0;34m\u001b[0m\u001b[0m\n",
      "\u001b[0;31mValueError\u001b[0m: The truth value of a Series is ambiguous. Use a.empty, a.bool(), a.item(), a.any() or a.all()."
     ]
    }
   ],
   "source": [
    "# same as the dict .get() method for possible missing keys\n",
    "if pd.isnull(male_n2_cast_multi.get(1919)):\n",
    "    print(1)"
   ]
  },
  {
   "cell_type": "code",
   "execution_count": 280,
   "metadata": {},
   "outputs": [],
   "source": [
    "year = 1906\n",
    "fraction_m2_dict = dict()\n",
    "for time in date_r:\n",
    "    year += 1\n",
    "    if year >2020:\n",
    "        break\n",
    "    try:\n",
    "        frac = (male_n2_cast_multi[year])/(delta_sum_mindex_ncount[year])\n",
    "        fraction_m2_dict[year] = round(frac,2)\n",
    "    except:\n",
    "        fraction_m2_dict[year] = 0\n",
    "\n",
    "\n",
    "        \n",
    "\n",
    "    #print(f'{year},{round(frac,2)}')"
   ]
  },
  {
   "cell_type": "code",
   "execution_count": 281,
   "metadata": {},
   "outputs": [
    {
     "data": {
      "image/png": "[encoded data removed]",
      "text/plain": [
       "<Figure size 432x288 with 1 Axes>"
      ]
     },
     "metadata": {
      "needs_background": "light"
     },
     "output_type": "display_data"
    }
   ],
   "source": [
    "#plot\n",
    "lists = sorted(fraction_m2_dict.items())\n",
    "x, y = zip(*lists)\n",
    "plt.plot(x, y)\n",
    "plt.xlabel('x - years')\n",
    "plt.ylabel('y - ratio male/total \"n\"roles')\n",
    "plt.title('Male occupancy of the screen over the course of cinema')\n",
    "plt.show()"
   ]
  },
  {
   "cell_type": "code",
   "execution_count": null,
   "metadata": {},
   "outputs": [],
   "source": []
  }
 ],
 "metadata": {
  "kernelspec": {
   "display_name": "Python 3",
   "language": "python",
   "name": "python3"
  },
  "language_info": {
   "codemirror_mode": {
    "name": "ipython",
    "version": 3
   },
   "file_extension": ".py",
   "mimetype": "text/x-python",
   "name": "python",
   "nbconvert_exporter": "python",
   "pygments_lexer": "ipython3",
   "version": "3.8.2"
  }
 },
 "nbformat": 4,
 "nbformat_minor": 4
}
