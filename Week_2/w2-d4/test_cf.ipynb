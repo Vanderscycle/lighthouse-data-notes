{
 "cells": [
  {
   "cell_type": "code",
   "execution_count": 2,
   "metadata": {},
   "outputs": [],
   "source": [
    "#python\n",
    "import os\n",
    "import pandas as pd\n",
    "from pandas import json_normalize\n",
    "import numpy as np\n",
    "import foursquare\n",
    "import json\n",
    "import math\n",
    "import types\n",
    "from IPython.display import JSON\n",
    "\n",
    "import sqlite3\n",
    "from sqlite3 import Error\n",
    "\n",
    "\n",
    "\n",
    "#user defined functions\n",
    "import custom_functions as cf"
   ]
  },
  {
   "cell_type": "code",
   "execution_count": 3,
   "metadata": {},
   "outputs": [],
   "source": [
    "connection = 'test'\n",
    "# sql modules\n",
    "def create_connection(path):\n",
    "    connection = None\n",
    "    try:\n",
    "        connection = sqlite3.connect(path)\n",
    "        print(\"Connection to SQLite DB successful\")\n",
    "    except Error as e:\n",
    "        print(f\"The error '{e}' occurred\")\n",
    "\n",
    "    return connection\n",
    "\n",
    "# To execute queries in SQLite, use cursor.execute().\n",
    "def ex_q(connection, query): # execute query\n",
    "    cursor = connection.cursor()\n",
    "    try:\n",
    "        cursor.execute(query)\n",
    "        connection.commit()\n",
    "        print(\"Query executed successfully\")\n",
    "    except Error as e:\n",
    "        print(f\"The error '{e}' occurred\")\n",
    "        \n",
    "def er_q(connection, query): #execute read query\n",
    "    cursor = connection.cursor()\n",
    "    result = None\n",
    "    try:\n",
    "        cursor.execute(query)\n",
    "        result = cursor.fetchall()\n",
    "        return result\n",
    "    except Error as e:\n",
    "        print(f\"The error '{e}' occurred\")\n",
    "# OMG IT MAKES SUCH A BEAUTFIFUL DIFFERENCE!!!! \n",
    "\n",
    "def display_query(query,connection=connection):\n",
    "    q = er_q(query,connection)\n",
    "    return pd.read_sql_query(q, connection)"
   ]
  },
  {
   "cell_type": "markdown",
   "metadata": {},
   "source": [
    "#  Single Querries"
   ]
  },
  {
   "cell_type": "code",
   "execution_count": 10,
   "metadata": {},
   "outputs": [],
   "source": [
    "#KEYS\n",
    "foursquare_id = os.environ[\"FOURSQUARE_PUBLIC_KEY\"]\n",
    "foursquare_secret = os.environ[\"FOURSQUARE_SECRET_KEY\"]\n",
    "\n",
    "yelp_client_id = os.environ['YELP_CLIENT_ID'] #Daily API limit \t5000\n",
    "yelp_api_key = os.environ['YELP_SECRET_KEY']\n",
    "\n",
    "google_key=os.environ['R_DB_GOOGLE_PUBLIC_KEY'] #ing it with the key=API_KEY #Daily API limit \t5000\n"
   ]
  },
  {
   "cell_type": "markdown",
   "metadata": {},
   "source": [
    "## FOURSQUARE API"
   ]
  },
  {
   "cell_type": "code",
   "execution_count": 11,
   "metadata": {},
   "outputs": [],
   "source": [
    "import foursquare"
   ]
  },
  {
   "cell_type": "code",
   "execution_count": 12,
   "metadata": {},
   "outputs": [],
   "source": [
    "# Construct the client object\n",
    "client = foursquare.Foursquare(client_id=foursquare_id, client_secret=foursquare_secret)\n"
   ]
  },
  {
   "cell_type": "markdown",
   "metadata": {},
   "source": [
    "### single query for one categories"
   ]
  },
  {
   "cell_type": "code",
   "execution_count": 13,
   "metadata": {},
   "outputs": [],
   "source": [
    "# single query for a single category\n",
    "ll = '25.033964,121.564468'#25.0330° N, 121.5654° E TAIWAN 101 tower\n",
    "limit = 5 \n",
    "radius = 5000 # 5km\n",
    "categoryId = '4d4b7105d754a06374d81259'\n",
    "    \n",
    "params_vals ={\n",
    "    'categoryId':categoryId, \n",
    "    'll':ll,\n",
    "    'radius':radius,\n",
    "    'limit':limit}\n",
    "\n",
    "query_result_json = client.venues.search(params=params_vals)\n"
   ]
  },
  {
   "cell_type": "code",
   "execution_count": 14,
   "metadata": {},
   "outputs": [],
   "source": [
    "# more testing if I really need json\n",
    "#t = json.dump(query_result_json, fp)\n",
    "#type(t)"
   ]
  },
  {
   "cell_type": "code",
   "execution_count": 15,
   "metadata": {},
   "outputs": [
    {
     "data": {
      "application/json": {
       "confident": false,
       "venues": [
        {
         "categories": [
          {
           "icon": {
            "prefix": "https://ss3.4sqi.net/img/categories_v2/food/dessert_",
            "suffix": ".png"
           },
           "id": "4bf58dd8d48988d1d0941735",
           "name": "Dessert Shop",
           "pluralName": "Dessert Shops",
           "primary": true,
           "shortName": "Desserts"
          }
         ],
         "hasPerk": false,
         "id": "5f576be20ad7f53c9a31fad0",
         "location": {
          "cc": "TW",
          "city": "信義",
          "country": "臺灣",
          "distance": 1763,
          "formattedAddress": [
           "信義, 臺北市 110",
           "臺灣"
          ],
          "labeledLatLngs": [
           {
            "label": "display",
            "lat": 25.044439,
            "lng": 121.577591
           }
          ],
          "lat": 25.044439,
          "lng": 121.577591,
          "postalCode": "110",
          "state": "臺北市"
         },
         "name": "涼涼甜品",
         "referralId": "v-1601041104"
        },
        {
         "categories": [
          {
           "icon": {
            "prefix": "https://ss3.4sqi.net/img/categories_v2/food/breakfast_",
            "suffix": ".png"
           },
           "id": "4bf58dd8d48988d143941735",
           "name": "Breakfast Spot",
           "pluralName": "Breakfast Spots",
           "primary": true,
           "shortName": "Breakfast"
          }
         ],
         "hasPerk": false,
         "id": "517337a1e4b03b4663e73fcb",
         "location": {
          "address": "中正區牯嶺街133號",
          "cc": "TW",
          "city": "台北市",
          "country": "臺灣",
          "distance": 4728,
          "formattedAddress": [
           "中正區牯嶺街133號",
           "台北市,  100",
           "臺灣"
          ],
          "labeledLatLngs": [
           {
            "label": "display",
            "lat": 25.023568457482156,
            "lng": 121.51901916743849
           }
          ],
          "lat": 25.023568457482156,
          "lng": 121.51901916743849,
          "postalCode": "100"
         },
         "name": "萬佳鄉早餐店",
         "referralId": "v-1601041104"
        },
        {
         "categories": [
          {
           "icon": {
            "prefix": "https://ss3.4sqi.net/img/categories_v2/shops/food_foodcourt_",
            "suffix": ".png"
           },
           "id": "4bf58dd8d48988d120951735",
           "name": "Food Court",
           "pluralName": "Food Courts",
           "primary": true,
           "shortName": "Food Court"
          }
         ],
         "hasPerk": false,
         "id": "4bd50ada29eb9c7406dc92e1",
         "location": {
          "address": "北平西路3號(台北火車站B1F、1F、2F)",
          "cc": "TW",
          "city": "台北市",
          "country": "臺灣",
          "distance": 5015,
          "formattedAddress": [
           "北平西路3號(台北火車站B1F、1F、2F)",
           "台北市,  100",
           "臺灣"
          ],
          "labeledLatLngs": [
           {
            "label": "display",
            "lat": 25.047776962237144,
            "lng": 121.51713175511001
           }
          ],
          "lat": 25.047776962237144,
          "lng": 121.51713175511001,
          "neighborhood": "Zhōngzhèng Qū",
          "postalCode": "100"
         },
         "name": "Breeze Taipei Station (微風台北車站)",
         "referralId": "v-1601041104"
        },
        {
         "categories": [
          {
           "icon": {
            "prefix": "https://ss3.4sqi.net/img/categories_v2/shops/food_foodcourt_",
            "suffix": ".png"
           },
           "id": "4bf58dd8d48988d120951735",
           "name": "Food Court",
           "pluralName": "Food Courts",
           "primary": true,
           "shortName": "Food Court"
          }
         ],
         "hasPerk": false,
         "id": "4b68f5a4f964a520ed942be3",
         "location": {
          "address": "舊宗路一段268號",
          "cc": "TW",
          "city": "台北市",
          "country": "臺灣",
          "distance": 3549,
          "formattedAddress": [
           "舊宗路一段268號",
           "台北市,  114",
           "臺灣"
          ],
          "labeledLatLngs": [
           {
            "label": "display",
            "lat": 25.064139842555083,
            "lng": 121.57584320546627
           }
          ],
          "lat": 25.064139842555083,
          "lng": 121.57584320546627,
          "postalCode": "114"
         },
         "name": "Costco Food Court (好市多西式餐飲部‎)",
         "referralId": "v-1601041104"
        },
        {
         "categories": [
          {
           "icon": {
            "prefix": "https://ss3.4sqi.net/img/categories_v2/shops/mall_",
            "suffix": ".png"
           },
           "id": "4bf58dd8d48988d1fd941735",
           "name": "Shopping Mall",
           "pluralName": "Shopping Malls",
           "primary": true,
           "shortName": "Mall"
          }
         ],
         "hasPerk": false,
         "id": "57919fbc498e8543b0bf13fc",
         "location": {
          "address": "忠孝東路七段371號B1",
          "cc": "TW",
          "city": "南港區",
          "country": "臺灣",
          "distance": 4784,
          "formattedAddress": [
           "忠孝東路七段371號B1",
           "南港區, 臺北市 105",
           "臺灣"
          ],
          "labeledLatLngs": [
           {
            "label": "display",
            "lat": 25.052711705868976,
            "lng": 121.60715559016697
           }
          ],
          "lat": 25.052711705868976,
          "lng": 121.60715559016697,
          "postalCode": "105",
          "state": "臺北市"
         },
         "name": "Global Mall (環球購物中心)",
         "referralId": "v-1601041104"
        }
       ]
      },
      "text/plain": [
       "<IPython.core.display.JSON object>"
      ]
     },
     "execution_count": 15,
     "metadata": {
      "application/json": {
       "expanded": false,
       "root": "root"
      }
     },
     "output_type": "execute_result"
    }
   ],
   "source": [
    "display = JSON(query_result_json)\n",
    "display"
   ]
  },
  {
   "cell_type": "markdown",
   "metadata": {},
   "source": [
    "## Yelp API"
   ]
  },
  {
   "cell_type": "code",
   "execution_count": 19,
   "metadata": {},
   "outputs": [],
   "source": [
    "import requests"
   ]
  },
  {
   "cell_type": "code",
   "execution_count": 20,
   "metadata": {},
   "outputs": [],
   "source": [
    "yelp_base = 'https://api.yelp.com/v3/businesses/search'\n",
    "yelp_header = {'Authorization': 'bearer ' + yelp_api_key} # hidden"
   ]
  },
  {
   "cell_type": "markdown",
   "metadata": {},
   "source": [
    "### single query (one category)"
   ]
  },
  {
   "cell_type": "code",
   "execution_count": 21,
   "metadata": {},
   "outputs": [],
   "source": [
    "# location\n",
    "ll = '25.033964,121.564468'#25.0330° N, 121.5654° E TAIWAN 101 tower\n",
    "# yelp categories: https://www.yelp.com/developers/documentation/v3/all_category_list\n",
    "yelp_category = 'landmarks'\n",
    "\n",
    "#parameters\n",
    "yelp_params = {'term':'',\n",
    "               'categories': yelp_category, \n",
    "              'limit':5,\n",
    "              'radius': 40000, # max 40 000 25 miles\n",
    "              'location':ll}"
   ]
  },
  {
   "cell_type": "code",
   "execution_count": 22,
   "metadata": {},
   "outputs": [
    {
     "name": "stdout",
     "output_type": "stream",
     "text": [
      "status code: 200\n"
     ]
    }
   ],
   "source": [
    "yelp_query_request = requests.get(url = yelp_base, params= yelp_params, headers = yelp_header)\n",
    "print(f'status code: {yelp_query_request.status_code}') "
   ]
  },
  {
   "cell_type": "code",
   "execution_count": 23,
   "metadata": {},
   "outputs": [
    {
     "data": {
      "text/plain": [
       "requests.models.Response"
      ]
     },
     "execution_count": 23,
     "metadata": {},
     "output_type": "execute_result"
    }
   ],
   "source": [
    "type(yelp_query_request)"
   ]
  },
  {
   "cell_type": "code",
   "execution_count": 24,
   "metadata": {},
   "outputs": [
    {
     "name": "stdout",
     "output_type": "stream",
     "text": [
      "<class 'dict'>\n"
     ]
    },
    {
     "data": {
      "application/json": {
       "businesses": [
        {
         "alias": "象山親山步道-信義區",
         "categories": [
          {
           "alias": "hiking",
           "title": "Hiking"
          },
          {
           "alias": "landmarks",
           "title": "Landmarks & Historical Buildings"
          }
         ],
         "coordinates": {
          "latitude": 25.0273860627985,
          "longitude": 121.57077635582
         },
         "display_phone": "",
         "distance": 972.9533917589722,
         "id": "LjB6ZK6OgRoWkRhVXCUJFA",
         "image_url": "https://s3-media1.fl.yelpcdn.com/bphoto/LZ4P5EUHLcAjieYpnLuq2w/o.jpg",
         "is_closed": false,
         "location": {
          "address1": "信義路五段150巷342弄",
          "address2": null,
          "address3": null,
          "city": "Xinyi District",
          "country": "TW",
          "display_address": [
           "Alley 342, Lane 150, Section 5, Xinyi Rd",
           "信義路五段150巷342弄",
           "Xinyi District, 台北市 110",
           "Taiwan"
          ],
          "state": "TPE",
          "zip_code": "110"
         },
         "name": "Elephant Mountain Hiking Trail",
         "phone": "",
         "rating": 4.5,
         "review_count": 100,
         "transactions": [],
         "url": "https://www.yelp.com/biz/%E8%B1%A1%E5%B1%B1%E8%A6%AA%E5%B1%B1%E6%AD%A5%E9%81%93-%E4%BF%A1%E7%BE%A9%E5%8D%80?adjust_creative=TUbmOCJfW0Sdesgz5mnbMg&utm_campaign=yelp_api_v3&utm_medium=api_v3_business_search&utm_source=TUbmOCJfW0Sdesgz5mnbMg"
        },
        {
         "alias": "台北101-台北市信義區",
         "categories": [
          {
           "alias": "landmarks",
           "title": "Landmarks & Historical Buildings"
          },
          {
           "alias": "shoppingcenters",
           "title": "Shopping Centers"
          },
          {
           "alias": "sharedofficespaces",
           "title": "Shared Office Spaces"
          }
         ],
         "coordinates": {
          "latitude": 25.0339855381681,
          "longitude": 121.564472428561
         },
         "display_phone": "+886 2 8101 7777",
         "distance": 7.008439597999238,
         "id": "aUwhNi7sYYOLfp2EKiEgmQ",
         "image_url": "https://s3-media4.fl.yelpcdn.com/bphoto/l0lJAMscth4PL6CQooESjQ/o.jpg",
         "is_closed": false,
         "location": {
          "address1": "信義路五段7號",
          "address2": null,
          "address3": null,
          "city": "Xinyi District",
          "country": "TW",
          "display_address": [
           "No. 7, Section 5, Xinyi Road",
           "信義路五段7號",
           "Xinyi District, 台北市 110",
           "Taiwan"
          ],
          "state": "TPE",
          "zip_code": "110"
         },
         "name": "Taipei 101",
         "phone": "+886281017777",
         "price": "$$$",
         "rating": 4,
         "review_count": 143,
         "transactions": [],
         "url": "https://www.yelp.com/biz/%E5%8F%B0%E5%8C%97101-%E5%8F%B0%E5%8C%97%E5%B8%82%E4%BF%A1%E7%BE%A9%E5%8D%80?adjust_creative=TUbmOCJfW0Sdesgz5mnbMg&utm_campaign=yelp_api_v3&utm_medium=api_v3_business_search&utm_source=TUbmOCJfW0Sdesgz5mnbMg"
        },
        {
         "alias": "國立中正紀念堂-中正區",
         "categories": [
          {
           "alias": "landmarks",
           "title": "Landmarks & Historical Buildings"
          }
         ],
         "coordinates": {
          "latitude": 25.0345483797168,
          "longitude": 121.521841990603
         },
         "display_phone": "+886 2 2343 1100",
         "distance": 4288.893798244573,
         "id": "gRbY4EoDZee8jsj-uLuLqg",
         "image_url": "https://s3-media4.fl.yelpcdn.com/bphoto/6ExWeys225MhP6VjChDV3w/o.jpg",
         "is_closed": false,
         "location": {
          "address1": "中山南路21號",
          "address2": null,
          "address3": null,
          "city": "Zhongzheng District",
          "country": "TW",
          "display_address": [
           "No. 21, Zhongshan South Road",
           "中山南路21號",
           "Zhongzheng District, 台北市 100",
           "Taiwan"
          ],
          "state": "TPE",
          "zip_code": "100"
         },
         "name": "National Chiang Kai-Shek Memorial Hall",
         "phone": "+886223431100",
         "rating": 4.5,
         "review_count": 95,
         "transactions": [],
         "url": "https://www.yelp.com/biz/%E5%9C%8B%E7%AB%8B%E4%B8%AD%E6%AD%A3%E7%B4%80%E5%BF%B5%E5%A0%82-%E4%B8%AD%E6%AD%A3%E5%8D%80?adjust_creative=TUbmOCJfW0Sdesgz5mnbMg&utm_campaign=yelp_api_v3&utm_medium=api_v3_business_search&utm_source=TUbmOCJfW0Sdesgz5mnbMg"
        },
        {
         "alias": "臺北101觀景台-信義區",
         "categories": [
          {
           "alias": "landmarks",
           "title": "Landmarks & Historical Buildings"
          },
          {
           "alias": "observatories",
           "title": "Observatories"
          }
         ],
         "coordinates": {
          "latitude": 25.033609,
          "longitude": 121.564759
         },
         "display_phone": "+886 2 8101 8898",
         "distance": 52.98153769320808,
         "id": "U1OlKK-QY1iImmRdNbkIgg",
         "image_url": "https://s3-media1.fl.yelpcdn.com/bphoto/LBzkD8ehpLvdDb4UzjKj1w/o.jpg",
         "is_closed": false,
         "location": {
          "address1": "信義路五段7號",
          "address2": "89樓",
          "address3": null,
          "city": "Xinyi District",
          "country": "TW",
          "display_address": [
           "89/F, No. 7, Section 5, Xinyi Road",
           "信義路五段7號89樓",
           "Xinyi District, 台北市 110",
           "Taiwan"
          ],
          "state": "TPE",
          "zip_code": "110"
         },
         "name": "Taipei 101 Observatory",
         "phone": "+886281018898",
         "rating": 4,
         "review_count": 60,
         "transactions": [],
         "url": "https://www.yelp.com/biz/%E8%87%BA%E5%8C%97101%E8%A7%80%E6%99%AF%E5%8F%B0-%E4%BF%A1%E7%BE%A9%E5%8D%80?adjust_creative=TUbmOCJfW0Sdesgz5mnbMg&utm_campaign=yelp_api_v3&utm_medium=api_v3_business_search&utm_source=TUbmOCJfW0Sdesgz5mnbMg"
        },
        {
         "alias": "松山文創園區-台北市信義區-2",
         "categories": [
          {
           "alias": "culturalcenter",
           "title": "Cultural Center"
          },
          {
           "alias": "landmarks",
           "title": "Landmarks & Historical Buildings"
          },
          {
           "alias": "galleries",
           "title": "Art Galleries"
          }
         ],
         "coordinates": {
          "latitude": 25.04392,
          "longitude": 121.55794
         },
         "display_phone": "+886 2 2765 1388",
         "distance": 1194.9476147426055,
         "id": "qXvbofTJzyim1VYwCfsoWA",
         "image_url": "https://s3-media1.fl.yelpcdn.com/bphoto/1V6v9R-Ov2xmm4-DTRviwQ/o.jpg",
         "is_closed": false,
         "location": {
          "address1": "光復南路133號",
          "address2": "",
          "address3": "",
          "city": "Xinyi District",
          "country": "TW",
          "display_address": [
           "No. 133, Guangfu South Road",
           "光復南路133號",
           "Xinyi District, 台北市 110",
           "Taiwan"
          ],
          "state": "TPE",
          "zip_code": "110"
         },
         "name": "Songshan Cultural and Creative Park",
         "phone": "+886227651388",
         "price": "$",
         "rating": 4,
         "review_count": 29,
         "transactions": [],
         "url": "https://www.yelp.com/biz/%E6%9D%BE%E5%B1%B1%E6%96%87%E5%89%B5%E5%9C%92%E5%8D%80-%E5%8F%B0%E5%8C%97%E5%B8%82%E4%BF%A1%E7%BE%A9%E5%8D%80-2?adjust_creative=TUbmOCJfW0Sdesgz5mnbMg&utm_campaign=yelp_api_v3&utm_medium=api_v3_business_search&utm_source=TUbmOCJfW0Sdesgz5mnbMg"
        }
       ],
       "region": {
        "center": {
         "latitude": 25.033963276420522,
         "longitude": 121.56440734863281
        }
       },
       "total": 178
      },
      "text/plain": [
       "<IPython.core.display.JSON object>"
      ]
     },
     "execution_count": 24,
     "metadata": {
      "application/json": {
       "expanded": false,
       "root": "root"
      }
     },
     "output_type": "execute_result"
    }
   ],
   "source": [
    "yelp_json = yelp_query_request.json()\n",
    "print(type(yelp_json))\n",
    "display = JSON(yelp_json)\n",
    "display"
   ]
  },
  {
   "cell_type": "code",
   "execution_count": null,
   "metadata": {},
   "outputs": [],
   "source": []
  }
 ],
 "metadata": {
  "kernelspec": {
   "display_name": "lighthouse-lab-course",
   "language": "python",
   "name": "lighthouse-lab-course"
  },
  "language_info": {
   "codemirror_mode": {
    "name": "ipython",
    "version": 3
   },
   "file_extension": ".py",
   "mimetype": "text/x-python",
   "name": "python",
   "nbconvert_exporter": "python",
   "pygments_lexer": "ipython3",
   "version": "3.8.5"
  }
 },
 "nbformat": 4,
 "nbformat_minor": 4
}
