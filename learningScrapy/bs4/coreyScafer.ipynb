{
 "metadata": {
  "language_info": {
   "codemirror_mode": {
    "name": "ipython",
    "version": 3
   },
   "file_extension": ".py",
   "mimetype": "text/x-python",
   "name": "python",
   "nbconvert_exporter": "python",
   "pygments_lexer": "ipython3",
   "version": "3.8.5-final"
  },
  "orig_nbformat": 2,
  "kernelspec": {
   "name": "python38564bitnnscrapercondaa354d8fb32614818906b42d96b0e4fbd",
   "display_name": "Python 3.8.5 64-bit ('NNScraper': conda)"
  }
 },
 "nbformat": 4,
 "nbformat_minor": 2,
 "cells": [
  {
   "cell_type": "code",
   "execution_count": 1,
   "metadata": {},
   "outputs": [],
   "source": [
    "from bs4 import BeautifulSoup\n",
    "import requests\n",
    "import csv\n",
    "\n",
    "from IPython.display import JSON"
   ]
  },
  {
   "source": [
    "## local file"
   ],
   "cell_type": "markdown",
   "metadata": {}
  },
  {
   "cell_type": "code",
   "execution_count": 2,
   "metadata": {},
   "outputs": [],
   "source": [
    "url = '/home/henri/Documents/Lighthouse-lab/lighthouse-data-notes/Week_7/w7_weekend/simple.html'\n",
    "with open(url) as html_file:\n",
    "    soup = BeautifulSoup(html_file,'html5lib')"
   ]
  },
  {
   "cell_type": "code",
   "execution_count": 3,
   "metadata": {},
   "outputs": [
    {
     "output_type": "stream",
     "name": "stdout",
     "text": [
      "<!DOCTYPE html>\n<html class=\"no-js\" lang=\"\">\n <head>\n  <title>\n   Test - A Sample Website\n  </title>\n  <meta charset=\"utf-8\"/>\n  <link href=\"css/normalize.css\" rel=\"stylesheet\"/>\n  <link href=\"css/main.css\" rel=\"stylesheet\"/>\n </head>\n <body>\n  <h1 id=\"site_title\">\n   Test Website\n  </h1>\n  <hr/>\n  <div class=\"article\">\n   <h2>\n    <a href=\"article_1.html\">\n     Article 1 Headline\n    </a>\n   </h2>\n   <p>\n    This is a summary of article 1\n   </p>\n  </div>\n  <hr/>\n  <div class=\"article\">\n   <h2>\n    <a href=\"article_2.html\">\n     Article 2 Headline\n    </a>\n   </h2>\n   <p>\n    This is a summary of article 2\n   </p>\n  </div>\n  <hr/>\n  <div class=\"footer\">\n   <p>\n    Footer Information\n   </p>\n  </div>\n  <script src=\"js/vendor/modernizr-3.5.0.min.js\">\n  </script>\n  <script src=\"js/plugins.js\">\n  </script>\n  <script src=\"js/main.js\">\n  </script>\n </body>\n</html>\n"
     ]
    }
   ],
   "source": [
    "print(soup.prettify())"
   ]
  },
  {
   "cell_type": "code",
   "execution_count": 4,
   "metadata": {},
   "outputs": [
    {
     "output_type": "execute_result",
     "data": {
      "text/plain": [
       "<div class=\"article\">\n",
       "            <h2><a href=\"article_1.html\">Article 1 Headline</a></h2>\n",
       "            <p>This is a summary of article 1</p>\n",
       "        </div>"
      ]
     },
     "metadata": {},
     "execution_count": 4
    }
   ],
   "source": [
    "article = soup.find('div',class_='article')\n",
    "article"
   ]
  },
  {
   "cell_type": "code",
   "execution_count": 5,
   "metadata": {},
   "outputs": [
    {
     "output_type": "execute_result",
     "data": {
      "text/plain": [
       "'Article 1 Headline'"
      ]
     },
     "metadata": {},
     "execution_count": 5
    }
   ],
   "source": [
    "article.h2.a.text"
   ]
  },
  {
   "cell_type": "code",
   "execution_count": 6,
   "metadata": {},
   "outputs": [
    {
     "output_type": "execute_result",
     "data": {
      "text/plain": [
       "'This is a summary of article 1'"
      ]
     },
     "metadata": {},
     "execution_count": 6
    }
   ],
   "source": [
    "article.p.text"
   ]
  },
  {
   "cell_type": "code",
   "execution_count": 7,
   "metadata": {},
   "outputs": [
    {
     "output_type": "stream",
     "name": "stdout",
     "text": [
      "Article 1 Headline\nThis is a summary of article 1\nArticle 2 Headline\nThis is a summary of article 2\n"
     ]
    }
   ],
   "source": [
    "for article in soup.find_all('div',class_='article'):\n",
    "    headline = article.h2.a.text\n",
    "    print(headline)\n",
    "    summary = article.p.text\n",
    "    print(summary)"
   ]
  },
  {
   "source": [
    "## from a website "
   ],
   "cell_type": "markdown",
   "metadata": {}
  },
  {
   "cell_type": "code",
   "execution_count": 8,
   "metadata": {},
   "outputs": [],
   "source": [
    "source = requests.get('http://coreyms.com').text"
   ]
  },
  {
   "cell_type": "code",
   "execution_count": 9,
   "metadata": {},
   "outputs": [],
   "source": [
    "soup = BeautifulSoup(source,'html.parser')"
   ]
  },
  {
   "cell_type": "code",
   "execution_count": 10,
   "metadata": {
    "tags": [
     "outputPrepend"
    ]
   },
   "outputs": [
    {
     "output_type": "stream",
     "name": "stdout",
     "text": [
      "y 1, 2019\n         </time>\n         by\n         <span class=\"entry-author\" itemprop=\"author\" itemscope=\"\" itemtype=\"https://schema.org/Person\">\n          <a class=\"entry-author-link\" href=\"https://coreyms.com/author/coreymschafer\" itemprop=\"url\" rel=\"author\">\n           <span class=\"entry-author-name\" itemprop=\"name\">\n            Corey Schafer\n           </span>\n          </a>\n         </span>\n         <span class=\"entry-comments-link\">\n          <a href=\"https://coreyms.com/development/python/visual-studio-code-mac-setting-up-a-python-development-environment-and-complete-overview#respond\">\n           <span class=\"dsq-postid\" data-dsqidentifier=\"1639 http://coreyms.com/?p=1639\">\n            Leave a Comment\n           </span>\n          </a>\n         </span>\n        </p>\n       </header>\n       <div class=\"entry-content\" itemprop=\"text\">\n        <p>\n         In this Python Programming Tutorial, we will be learning how to set up a Python development environment in VSCode on MacOS. VSCode is a very nice free editor for writing Python applications and many developers are now switching over to this editor. In this video, we will learn how to install VSCode, get the Python extension installed, how to change Python interpreters, create virtual environments, format/lint our code, how to use Git within VSCode, how to debug our programs, how unit testing works, and more. We have a lot to cover, so let’s go ahead and get started…\n        </p>\n        <p>\n         VSCode on Windows – https://youtu.be/-nh9rCzPJ20\n        </p>\n        <p>\n         Timestamps for topics in this tutorial:\n         <br/>\n         Installation – 1:11\n         <br/>\n         Python Extension – 6:21\n         <br/>\n         Switching Interpreters – 10:16\n         <br/>\n         Changing Color Themes – 13:08\n         <br/>\n         VSCode Settings – 17:12\n         <br/>\n         Set Default Python – 22:24\n         <br/>\n         Using Virtual Environments – 25:52\n         <br/>\n         IntelliSense – 30:28\n         <br/>\n         Code Formatting – 33:08\n         <br/>\n         Code Linting – 38:01\n         <br/>\n         Code Runner Extension – 40:45\n         <br/>\n         Git Integration – 49:05\n         <br/>\n         Debugging – 58:15\n         <br/>\n         Unit Testing – 1:02:38\n         <br/>\n         Zen Mode – 1:10:42\n        </p>\n        <figure class=\"wp-block-embed-youtube wp-block-embed is-type-video is-provider-youtube wp-embed-aspect-16-9 wp-has-aspect-ratio\">\n         <div class=\"wp-block-embed__wrapper\">\n          <span class=\"embed-youtube\" style=\"text-align:center; display: block;\">\n           <iframe allowfullscreen=\"true\" class=\"youtube-player\" height=\"360\" src=\"https://www.youtube.com/embed/06I63_p-2A4?version=3&amp;rel=1&amp;fs=1&amp;autohide=2&amp;showsearch=0&amp;showinfo=1&amp;iv_load_policy=1&amp;wmode=transparent\" style=\"border:0;\" width=\"640\">\n           </iframe>\n          </span>\n         </div>\n        </figure>\n       </div>\n       <footer class=\"entry-footer\">\n        <p class=\"entry-meta\">\n         <span class=\"entry-categories\">\n          Filed Under:\n          <a href=\"https://coreyms.com/category/development\" rel=\"category tag\">\n           Development\n          </a>\n          ,\n          <a href=\"https://coreyms.com/category/development/python\" rel=\"category tag\">\n           Python\n          </a>\n         </span>\n         <span class=\"entry-tags\">\n          Tagged With:\n          <a href=\"https://coreyms.com/tag/development-environment\" rel=\"tag\">\n           Development Environment\n          </a>\n          ,\n          <a href=\"https://coreyms.com/tag/visual-studio-code\" rel=\"tag\">\n           visual studio code\n          </a>\n          ,\n          <a href=\"https://coreyms.com/tag/visual-studios\" rel=\"tag\">\n           visual studios\n          </a>\n          ,\n          <a href=\"https://coreyms.com/tag/vs-code\" rel=\"tag\">\n           vs code\n          </a>\n          ,\n          <a href=\"https://coreyms.com/tag/vscode\" rel=\"tag\">\n           vscode\n          </a>\n         </span>\n        </p>\n       </footer>\n      </article>\n      <article class=\"post-1634 post type-post status-publish format-standard has-post-thumbnail category-development category-python tag-common-errors tag-common-mistakes tag-functions tag-mutable-default-arguments entry\" itemscope=\"\" itemtype=\"https://schema.org/CreativeWork\">\n       <header class=\"entry-header\">\n        <h2 class=\"entry-title\" itemprop=\"headline\">\n         <a class=\"entry-title-link\" href=\"https://coreyms.com/development/python/clarifying-the-issues-with-mutable-default-arguments\" rel=\"bookmark\">\n          Clarifying the Issues with Mutable Default Arguments\n         </a>\n        </h2>\n        <p class=\"entry-meta\">\n         <time class=\"entry-time\" datetime=\"2019-04-24T11:46:42-04:00\" itemprop=\"datePublished\">\n          April 24, 2019\n         </time>\n         by\n         <span class=\"entry-author\" itemprop=\"author\" itemscope=\"\" itemtype=\"https://schema.org/Person\">\n          <a class=\"entry-author-link\" href=\"https://coreyms.com/author/coreymschafer\" itemprop=\"url\" rel=\"author\">\n           <span class=\"entry-author-name\" itemprop=\"name\">\n            Corey Schafer\n           </span>\n          </a>\n         </span>\n         <span class=\"entry-comments-link\">\n          <a href=\"https://coreyms.com/development/python/clarifying-the-issues-with-mutable-default-arguments#respond\">\n           <span class=\"dsq-postid\" data-dsqidentifier=\"1634 http://coreyms.com/?p=1634\">\n            Leave a Comment\n           </span>\n          </a>\n         </span>\n        </p>\n       </header>\n       <div class=\"entry-content\" itemprop=\"text\">\n        <p>\n         In this Python Programming Tutorial, we will be clarifying the issues with mutable default arguments. We discussed this in my last video titled “5 Common Python Mistakes and How to Fix Them”, but I received many comments from people who were still confused. So we will be doing a deeper dive to explain exactly what is going on here. Let’s get started…\n        </p>\n        <figure class=\"wp-block-embed-youtube wp-block-embed is-type-video is-provider-youtube wp-embed-aspect-16-9 wp-has-aspect-ratio\">\n         <div class=\"wp-block-embed__wrapper\">\n          <span class=\"embed-youtube\" style=\"text-align:center; display: block;\">\n           <iframe allowfullscreen=\"true\" class=\"youtube-player\" height=\"360\" src=\"https://www.youtube.com/embed/_JGmemuINww?version=3&amp;rel=1&amp;fs=1&amp;autohide=2&amp;showsearch=0&amp;showinfo=1&amp;iv_load_policy=1&amp;wmode=transparent\" style=\"border:0;\" width=\"640\">\n           </iframe>\n          </span>\n         </div>\n        </figure>\n       </div>\n       <footer class=\"entry-footer\">\n        <p class=\"entry-meta\">\n         <span class=\"entry-categories\">\n          Filed Under:\n          <a href=\"https://coreyms.com/category/development\" rel=\"category tag\">\n           Development\n          </a>\n          ,\n          <a href=\"https://coreyms.com/category/development/python\" rel=\"category tag\">\n           Python\n          </a>\n         </span>\n         <span class=\"entry-tags\">\n          Tagged With:\n          <a href=\"https://coreyms.com/tag/common-errors\" rel=\"tag\">\n           common errors\n          </a>\n          ,\n          <a href=\"https://coreyms.com/tag/common-mistakes\" rel=\"tag\">\n           common mistakes\n          </a>\n          ,\n          <a href=\"https://coreyms.com/tag/functions\" rel=\"tag\">\n           functions\n          </a>\n          ,\n          <a href=\"https://coreyms.com/tag/mutable-default-arguments\" rel=\"tag\">\n           mutable default arguments\n          </a>\n         </span>\n        </p>\n       </footer>\n      </article>\n      <div class=\"archive-pagination pagination\">\n       <ul>\n        <li class=\"active\">\n         <a aria-current=\"page\" aria-label=\"Current page\" href=\"https://coreyms.com/\">\n          1\n         </a>\n        </li>\n        <li>\n         <a href=\"https://coreyms.com/page/2\">\n          2\n         </a>\n        </li>\n        <li>\n         <a href=\"https://coreyms.com/page/3\">\n          3\n         </a>\n        </li>\n        <li class=\"pagination-omission\">\n         …\n        </li>\n        <li>\n         <a href=\"https://coreyms.com/page/17\">\n          17\n         </a>\n        </li>\n        <li class=\"pagination-next\">\n         <a href=\"https://coreyms.com/page/2\">\n          Next Page »\n         </a>\n        </li>\n       </ul>\n      </div>\n     </main>\n     <aside aria-label=\"Primary Sidebar\" class=\"sidebar sidebar-primary widget-area\" itemscope=\"\" itemtype=\"https://schema.org/WPSideBar\" role=\"complementary\">\n      <section class=\"widget widget_text\" id=\"text-5\">\n       <div class=\"widget-wrap\">\n        <h4 class=\"widget-title widgettitle\">\n         Main Contributor\n        </h4>\n        <div class=\"textwidget\">\n         <ul>\n          <li>\n           <b>\n            Andre Nevares\n           </b>\n          </li>\n         </ul>\n         <h4 style=\"margin-top: 25px; font-size: 17px;\">\n          Top Contributors (17)\n         </h4>\n         <ul>\n          <li>\n           Andre Nevares\n          </li>\n          <li>\n           Cyril Hediger\n          </li>\n          <li>\n           Abhilash Rajan\n          </li>\n          <li>\n           Hien Nguyen\n          </li>\n          <li>\n           Alan Hawse – iotexpert.com\n          </li>\n          <li>\n           Just a Guy\n          </li>\n          <li>\n           Alex Canady\n          </li>\n          <li>\n           Sergey Trubin\n          </li>\n          <li>\n           Justin Presley\n          </li>\n          <li>\n           Sirake\n          </li>\n          <li>\n           chris\n          </li>\n          <li>\n           Jerome Massey\n          </li>\n          <li>\n           Robert Butler\n          </li>\n          <li>\n           Jonathan Llovet\n          </li>\n          <li>\n           David Myers\n          </li>\n          <li>\n           Karthik\n          </li>\n          <li>\n           Michael Zoitas\n          </li>\n         </ul>\n         <hr style=\"border: 0; border-bottom: 1px dotted #ddd;\"/>\n         <p>\n          <b>\n           Thank You!\n          </b>\n          If you would like to have your name listed as a contributor and support the website, you can do so through\n          <a href=\"https://www.patreon.com/coreyms\" rel=\"noopener noreferrer\" target=\"_blank\">\n           my Patreon Page\n          </a>\n          . I am extremely grateful for any support.\n         </p>\n        </div>\n       </div>\n      </section>\n      <section class=\"widget widget_search\" id=\"search-3\">\n       <div class=\"widget-wrap\">\n        <h4 class=\"widget-title widgettitle\">\n         Search CoreyMS.com\n        </h4>\n        <form action=\"https://coreyms.com/\" class=\"search-form\" itemprop=\"potentialAction\" itemscope=\"\" itemtype=\"https://schema.org/SearchAction\" method=\"get\" role=\"search\">\n         <input class=\"search-form-input\" id=\"searchform-5f9f9a0d448ad1.58991053\" itemprop=\"query-input\" name=\"s\" placeholder=\"Search this website\" type=\"search\"/>\n         <input class=\"search-form-submit\" type=\"submit\" value=\"Search\"/>\n         <meta content=\"https://coreyms.com/?s={s}\" itemprop=\"target\"/>\n        </form>\n       </div>\n      </section>\n      <section class=\"widget enews-widget\" id=\"enews-ext-4\">\n       <div class=\"widget-wrap\">\n        <div class=\"enews\">\n         <h4 class=\"widget-title widgettitle\">\n          Subscribe to Future Posts\n         </h4>\n         <form action=\"//coreyms.us9.list-manage.com/subscribe/post?u=f4df8a0f0be5d3754ed52b1ef&amp;id=5b06358625\" id=\"subscribeenews-ext-4\" method=\"post\" name=\"enews-ext-4\" target=\"_blank\">\n          <input aria-label=\"First Name\" class=\"enews-subbox\" id=\"subbox1\" name=\"FNAME\" placeholder=\"First Name\" type=\"text\" value=\"\">\n           <input aria-label=\"E-Mail Address\" id=\"subbox\" name=\"EMAIL\" placeholder=\"E-Mail Address\" required=\"required\" type=\"email\" value=\"\">\n            <input id=\"subbutton\" type=\"submit\" value=\"Subscribe\"/>\n           </input>\n          </input>\n         </form>\n        </div>\n       </div>\n      </section>\n      <section class=\"widget widget_text\" id=\"text-2\">\n       <div class=\"widget-wrap\">\n        <h4 class=\"widget-title widgettitle\">\n         Recommended Books\n        </h4>\n        <div class=\"textwidget\">\n         <a href=\"https://www.amazon.com/gp/product/1449355730/ref=as_li_tl?ie=UTF8&amp;camp=1789&amp;creative=9325&amp;creativeASIN=1449355730&amp;linkCode=as2&amp;tag=coreyms-20&amp;linkId=2f9ceaf471d7d35f2c2657051780fc6f\" rel=\"noopener noreferrer\" target=\"_blank\">\n          <img border=\"0\" class=\"widget_book\" src=\"//ws-na.amazon-adsystem.com/widgets/q?_encoding=UTF8&amp;MarketPlace=US&amp;ASIN=1449355730&amp;ServiceVersion=20070822&amp;ID=AsinImage&amp;WS=1&amp;Format=_SL250_&amp;tag=coreyms-20\"/>\n         </a>\n         <img alt=\"\" border=\"0\" height=\"1\" src=\"//ir-na.amazon-adsystem.com/e/ir?t=coreyms-20&amp;l=am2&amp;o=1&amp;a=1449355730\" style=\"border:none !important; margin:0px !important;\" width=\"1\">\n          <a href=\"https://www.amazon.com/gp/product/1491946008/ref=as_li_tl?ie=UTF8&amp;camp=1789&amp;creative=9325&amp;creativeASIN=1491946008&amp;linkCode=as2&amp;tag=coreyms-20&amp;linkId=39335cdc340fb7ce5bd51d59c57e7e54\" rel=\"noopener noreferrer\" target=\"_blank\">\n           <img border=\"0\" class=\"widget_book\" src=\"//ws-na.amazon-adsystem.com/widgets/q?_encoding=UTF8&amp;MarketPlace=US&amp;ASIN=1491946008&amp;ServiceVersion=20070822&amp;ID=AsinImage&amp;WS=1&amp;Format=_SL250_&amp;tag=coreyms-20\"/>\n          </a>\n          <img alt=\"\" border=\"0\" height=\"1\" src=\"//ir-na.amazon-adsystem.com/e/ir?t=coreyms-20&amp;l=am2&amp;o=1&amp;a=1491946008\" style=\"border:none !important; margin:0px !important;\" width=\"1\">\n           <a href=\"https://www.amazon.com/gp/product/1593276036/ref=as_li_tl?ie=UTF8&amp;camp=1789&amp;creative=9325&amp;creativeASIN=1593276036&amp;linkCode=as2&amp;tag=coreyms-20&amp;linkId=75ff844a147bc8cb5fb325608b286158\" rel=\"noopener noreferrer\" target=\"_blank\">\n            <img border=\"0\" class=\"widget_book\" src=\"//ws-na.amazon-adsystem.com/widgets/q?_encoding=UTF8&amp;MarketPlace=US&amp;ASIN=1593276036&amp;ServiceVersion=20070822&amp;ID=AsinImage&amp;WS=1&amp;Format=_SL250_&amp;tag=coreyms-20\"/>\n           </a>\n           <img alt=\"\" border=\"0\" height=\"1\" src=\"//ir-na.amazon-adsystem.com/e/ir?t=coreyms-20&amp;l=am2&amp;o=1&amp;a=1593276036\" style=\"border:none !important; margin:0px !important;\" width=\"1\">\n            <a href=\"https://www.amazon.com/gp/product/0984782850/ref=as_li_tl?ie=UTF8&amp;camp=1789&amp;creative=9325&amp;creativeASIN=0984782850&amp;linkCode=as2&amp;tag=coreyms-20&amp;linkId=e2f7c21906426f17958a1d04718e7d02\" rel=\"noopener noreferrer\" target=\"_blank\">\n             <img border=\"0\" class=\"widget_book\" src=\"//ws-na.amazon-adsystem.com/widgets/q?_encoding=UTF8&amp;MarketPlace=US&amp;ASIN=0984782850&amp;ServiceVersion=20070822&amp;ID=AsinImage&amp;WS=1&amp;Format=_SL250_&amp;tag=coreyms-20\"/>\n            </a>\n            <img alt=\"\" border=\"0\" height=\"1\" src=\"//ir-na.amazon-adsystem.com/e/ir?t=coreyms-20&amp;l=am2&amp;o=1&amp;a=0984782850\" style=\"border:none !important; margin:0px !important;\" width=\"1\">\n             <a href=\"https://www.amazon.com/gp/product/020161622X/ref=as_li_tl?ie=UTF8&amp;camp=1789&amp;creative=9325&amp;creativeASIN=020161622X&amp;linkCode=as2&amp;tag=coreyms-20&amp;linkId=a2699f6b6cb5814da54f71140c52f2ca\" rel=\"noopener noreferrer\" target=\"_blank\">\n              <img border=\"0\" class=\"widget_book\" src=\"//ws-na.amazon-adsystem.com/widgets/q?_encoding=UTF8&amp;MarketPlace=US&amp;ASIN=020161622X&amp;ServiceVersion=20070822&amp;ID=AsinImage&amp;WS=1&amp;Format=_SL250_&amp;tag=coreyms-20\"/>\n             </a>\n             <img alt=\"\" border=\"0\" height=\"1\" src=\"//ir-na.amazon-adsystem.com/e/ir?t=coreyms-20&amp;l=am2&amp;o=1&amp;a=020161622X\" style=\"border:none !important; margin:0px !important;\" width=\"1\">\n              <a href=\"https://www.amazon.com/gp/product/0201835959/ref=as_li_tl?ie=UTF8&amp;camp=1789&amp;creative=9325&amp;creativeASIN=0201835959&amp;linkCode=as2&amp;tag=coreyms-20&amp;linkId=c3de80ab4a4761f7634751cf323af13f\" rel=\"noopener noreferrer\" target=\"_blank\">\n               <img border=\"0\" class=\"widget_book\" src=\"//ws-na.amazon-adsystem.com/widgets/q?_encoding=UTF8&amp;MarketPlace=US&amp;ASIN=0201835959&amp;ServiceVersion=20070822&amp;ID=AsinImage&amp;WS=1&amp;Format=_SL250_&amp;tag=coreyms-20\"/>\n              </a>\n              <img alt=\"\" border=\"0\" height=\"1\" src=\"//ir-na.amazon-adsystem.com/e/ir?t=coreyms-20&amp;l=am2&amp;o=1&amp;a=0201835959\" style=\"border:none !important; margin:0px !important;\" width=\"1\">\n              </img>\n             </img>\n            </img>\n           </img>\n          </img>\n         </img>\n        </div>\n       </div>\n      </section>\n      <section class=\"widget widget_text\" id=\"text-3\">\n       <div class=\"widget-wrap\">\n        <h4 class=\"widget-title widgettitle\">\n         Podcasts I Listen To\n        </h4>\n        <div class=\"textwidget\">\n         <u>\n          Tech Related\n         </u>\n         :\n         <br/>\n         <a href=\"http://talkpython.fm/\">\n          Talk Python To Me\n         </a>\n         <br/>\n         <a href=\"http://shoptalkshow.com/\">\n          Shoptalk Show\n         </a>\n         <br/>\n         <a href=\"http://www.se-radio.net/\">\n          Software Engineering Radio\n         </a>\n         <br/>\n         <a href=\"http://hanselminutes.com/\">\n          HanselMinutes\n         </a>\n         <br/>\n         <a href=\"https://blog.codepen.io/radio/\">\n          CodePen Radio\n         </a>\n         <br/>\n         <br/>\n         <u>\n          Non-Tech Related\n         </u>\n         :\n         <br/>\n         <a href=\"http://www.dancarlin.com/hardcore-history-series/\">\n          Dan Carlin's Hardcore History\n         </a>\n         <br/>\n         <a href=\"http://www.billburr.com/podcast\">\n          Bill Burr's Monday Morning Podcast\n         </a>\n         <br/>\n         <a href=\"http://www.samharris.org/podcast\">\n          Waking Up with Sam Harris\n         </a>\n         <br/>\n         <a href=\"http://www.startalkradio.net/shows-archive/\">\n          StarTalk Radio\n         </a>\n         <br/>\n         <a href=\"http://carasantamaria.com/podcast/\">\n          Talk Nerdy with Cara Santa Maria\n         </a>\n        </div>\n       </div>\n      </section>\n     </aside>\n    </div>\n   </div>\n   <footer class=\"site-footer\" itemscope=\"\" itemtype=\"https://schema.org/WPFooter\">\n    <div class=\"wrap\">\n     <p>\n      © 2020 ·\n      <a href=\"http://coreyms.com\">\n       CoreyMS\n      </a>\n      · Corey Schafer\n     </p>\n    </div>\n   </footer>\n  </div>\n  <link href=\"//cdnjs.cloudflare.com/ajax/libs/highlight.js/8.4/styles/zenburn.min.css\" rel=\"stylesheet\"/>\n  <script src=\"//cdnjs.cloudflare.com/ajax/libs/highlight.js/8.4/highlight.min.js\">\n  </script>\n  <script>\n   hljs.initHighlightingOnLoad();\n  </script>\n  <script type=\"text/javascript\">\n   /* <![CDATA[ */\nvar wpcf7 = {\"apiSettings\":{\"root\":\"https:\\/\\/coreyms.com\\/wp-json\\/contact-form-7\\/v1\",\"namespace\":\"contact-form-7\\/v1\"},\"cached\":\"1\"};\n/* ]]> */\n  </script>\n  <script src=\"https://coreyms.com/wp-content/cache/minify/0fef6.js\">\n  </script>\n  <script type=\"text/javascript\">\n   /* <![CDATA[ */\nvar countVars = {\"disqusShortname\":\"coreyms\"};\n/* ]]> */\n  </script>\n  <script src=\"https://coreyms.com/wp-content/cache/minify/9b739.js\">\n  </script>\n  <script async=\"async\" defer=\"defer\" src=\"https://stats.wp.com/e-202045.js\" type=\"text/javascript\">\n  </script>\n  <script type=\"text/javascript\">\n   _stq = window._stq || [];\n\t_stq.push([ 'view', {v:'ext',j:'1:9.0.2',blog:'70676981',post:'0',tz:'-5',srv:'coreyms.com'} ]);\n\t_stq.push([ 'clickTrackerInit', '70676981', '0' ]);\n  </script>\n </body>\n</html>\n<!--\nPerformance optimized by W3 Total Cache. Learn more: https://www.w3-edge.com/products/\n\nPage Caching using disk: enhanced (SSL caching disabled) \nMinified using disk\n\nServed from: coreyms.com @ 2020-11-02 00:33:01 by W3 Total Cache\n-->\n\n"
     ]
    }
   ],
   "source": [
    "print(soup.prettify())"
   ]
  },
  {
   "cell_type": "code",
   "execution_count": 82,
   "metadata": {},
   "outputs": [
    {
     "output_type": "stream",
     "name": "stdout",
     "text": [
      "<article class=\"post-1670 post type-post status-publish format-standard has-post-thumbnail category-development category-python tag-gzip tag-shutil tag-zip tag-zipfile entry\" itemscope=\"\" itemtype=\"https://schema.org/CreativeWork\">\n <header class=\"entry-header\">\n  <h2 class=\"entry-title\" itemprop=\"headline\">\n   <a class=\"entry-title-link\" href=\"https://coreyms.com/development/python/python-tutorial-zip-files-creating-and-extracting-zip-archives\" rel=\"bookmark\">\n    Python Tutorial: Zip Files – Creating and Extracting Zip Archives\n   </a>\n  </h2>\n  <p class=\"entry-meta\">\n   <time class=\"entry-time\" datetime=\"2019-11-19T13:02:37-05:00\" itemprop=\"datePublished\">\n    November 19, 2019\n   </time>\n   by\n   <span class=\"entry-author\" itemprop=\"author\" itemscope=\"\" itemtype=\"https://schema.org/Person\">\n    <a class=\"entry-author-link\" href=\"https://coreyms.com/author/coreymschafer\" itemprop=\"url\" rel=\"author\">\n     <span class=\"entry-author-name\" itemprop=\"name\">\n      Corey Schafer\n     </span>\n    </a>\n   </span>\n   <span class=\"entry-comments-link\">\n    <a href=\"https://coreyms.com/development/python/python-tutorial-zip-files-creating-and-extracting-zip-archives#respond\">\n     <span class=\"dsq-postid\" data-dsqidentifier=\"1670 http://coreyms.com/?p=1670\">\n      Leave a Comment\n     </span>\n    </a>\n   </span>\n  </p>\n </header>\n <div class=\"entry-content\" itemprop=\"text\">\n  <p>\n   In this video, we will be learning how to create and extract zip archives. We will start by using the zipfile module, and then we will see how to do this using the shutil module. We will learn how to do this with single files and directories, as well as learning how to use gzip as well. Let’s get started…\n   <br/>\n  </p>\n  <span class=\"embed-youtube\" style=\"text-align:center; display: block;\">\n   <iframe allowfullscreen=\"true\" class=\"youtube-player\" height=\"360\" src=\"https://www.youtube.com/embed/z0gguhEmWiY?version=3&amp;rel=1&amp;fs=1&amp;autohide=2&amp;showsearch=0&amp;showinfo=1&amp;iv_load_policy=1&amp;wmode=transparent\" style=\"border:0;\" width=\"640\">\n   </iframe>\n  </span>\n </div>\n <footer class=\"entry-footer\">\n  <p class=\"entry-meta\">\n   <span class=\"entry-categories\">\n    Filed Under:\n    <a href=\"https://coreyms.com/category/development\" rel=\"category tag\">\n     Development\n    </a>\n    ,\n    <a href=\"https://coreyms.com/category/development/python\" rel=\"category tag\">\n     Python\n    </a>\n   </span>\n   <span class=\"entry-tags\">\n    Tagged With:\n    <a href=\"https://coreyms.com/tag/gzip\" rel=\"tag\">\n     gzip\n    </a>\n    ,\n    <a href=\"https://coreyms.com/tag/shutil\" rel=\"tag\">\n     shutil\n    </a>\n    ,\n    <a href=\"https://coreyms.com/tag/zip\" rel=\"tag\">\n     zip\n    </a>\n    ,\n    <a href=\"https://coreyms.com/tag/zipfile\" rel=\"tag\">\n     zipfile\n    </a>\n   </span>\n  </p>\n </footer>\n</article>\n\n"
     ]
    }
   ],
   "source": [
    "article = soup.find('article')\n",
    "print(article.prettify())"
   ]
  },
  {
   "cell_type": "code",
   "execution_count": 87,
   "metadata": {},
   "outputs": [
    {
     "output_type": "stream",
     "name": "stdout",
     "text": [
      "['https:', '', 'www.youtube.com', 'embed', 'z0gguhEmWiY?version=3&rel=1&fs=1&autohide=2&showsearch=0&showinfo=1&iv_load_policy=1&wmode=transparent']\nz0gguhEmWiY\nhttps://www.youtube.com/watch?v=z0gguhEmWiY\n"
     ]
    }
   ],
   "source": [
    "videoLink = article.find('iframe',class_='youtube-player')['src']\n",
    "vid_id = videoLink.split('/')\n",
    "print(vid_id)\n",
    "vid_id = vid_id[4].split('?')\n",
    "print(vid_id[0])\n",
    "yt_link = f'https://www.youtube.com/watch?v={vid_id[0]}'\n",
    "print(yt_link)"
   ]
  },
  {
   "cell_type": "code",
   "execution_count": 79,
   "metadata": {},
   "outputs": [
    {
     "output_type": "stream",
     "name": "stdout",
     "text": [
      "Python Tutorial: Zip Files – Creating and Extracting Zip Archives \n\nIn this video, we will be learning how to create and extract zip archives. We will start by using the zipfile module, and then we will see how to do this using the shutil module. We will learn how to do this with single files and directories, as well as learning how to use gzip as well. Let’s get started… \n\nz0gguhEmWiY \n\nhttps://www.youtube.com/embed/z0gguhEmWiY?version=3&rel=1&fs=1&autohide=2&showsearch=0&showinfo=1&iv_load_policy=1&wmode=transparent\nPython Data Science Tutorial: Analyzing the 2019 Stack Overflow Developer Survey \n\nIn this Python Programming video, we will be learning how to download and analyze real-world data from the 2019 Stack Overflow Developer Survey. This is terrific practice for anyone getting into the data science field. We will learn different ways to analyze this data and also some best practices. Let’s get started… \n\n_P7X8tMplsw \n\nhttps://www.youtube.com/embed/_P7X8tMplsw?version=3&rel=1&fs=1&autohide=2&showsearch=0&showinfo=1&iv_load_policy=1&wmode=transparent\nPython Multiprocessing Tutorial: Run Code in Parallel Using the Multiprocessing Module \n\nIn this Python Programming video, we will be learning how to run code in parallel using the multiprocessing module. We will also look at how to process multiple high-resolution images at the same time using a ProcessPoolExecutor from the concurrent.futures module. Let’s get started… \n\nfKl2JW_qrso \n\nhttps://www.youtube.com/embed/fKl2JW_qrso?version=3&rel=1&fs=1&autohide=2&showsearch=0&showinfo=1&iv_load_policy=1&wmode=transparent\nPython Threading Tutorial: Run Code Concurrently Using the Threading Module \n\nIn this Python Programming video, we will be learning how to run threads concurrently using the threading module. We will also look at how to download multiple high-resolution images online using a ThreadPoolExecutor from the concurrent.futures module. Let’s get started… \n\nIEEhzQoKtQU \n\nhttps://www.youtube.com/embed/IEEhzQoKtQU?version=3&rel=1&fs=1&autohide=2&showsearch=0&showinfo=1&iv_load_policy=1&wmode=transparent\nUpdate (2019-09-03) \n\nHey everyone. I wanted to give you an update on my videos. I will be releasing videos on threading and multiprocessing within the next week. Thanks so much for your patience. I currently have a temporary recording studio setup at my Airbnb that will allow me to record and edit the threading/multiprocessing videos. I am going to be moving into my new house in 10 days and once I have my recording studio setup then you can expect much faster video releases. I really appreciate how patient everyone has been while I go through this move, especially those of you who are contributing monthly through YouTube  \n\n"
     ]
    },
    {
     "output_type": "error",
     "ename": "TypeError",
     "evalue": "'NoneType' object is not subscriptable",
     "traceback": [
      "\u001b[0;31m---------------------------------------------------------------------------\u001b[0m",
      "\u001b[0;31mTypeError\u001b[0m                                 Traceback (most recent call last)",
      "\u001b[0;32m<ipython-input-79-029e73da6be8>\u001b[0m in \u001b[0;36m<module>\u001b[0;34m\u001b[0m\n\u001b[1;32m      6\u001b[0m     \u001b[0mprint\u001b[0m\u001b[0;34m(\u001b[0m\u001b[0msummary\u001b[0m\u001b[0;34m,\u001b[0m\u001b[0;34m'\\n'\u001b[0m\u001b[0;34m)\u001b[0m\u001b[0;34m\u001b[0m\u001b[0;34m\u001b[0m\u001b[0m\n\u001b[1;32m      7\u001b[0m     \u001b[0;31m#from there you can access it like a dictionary\u001b[0m\u001b[0;34m\u001b[0m\u001b[0;34m\u001b[0m\u001b[0;34m\u001b[0m\u001b[0m\n\u001b[0;32m----> 8\u001b[0;31m     \u001b[0mvideoLink\u001b[0m \u001b[0;34m=\u001b[0m \u001b[0marticle\u001b[0m\u001b[0;34m.\u001b[0m\u001b[0mfind\u001b[0m\u001b[0;34m(\u001b[0m\u001b[0;34m'iframe'\u001b[0m\u001b[0;34m,\u001b[0m\u001b[0mclass_\u001b[0m\u001b[0;34m=\u001b[0m\u001b[0;34m'youtube-player'\u001b[0m\u001b[0;34m)\u001b[0m\u001b[0;34m[\u001b[0m\u001b[0;34m'src'\u001b[0m\u001b[0;34m]\u001b[0m\u001b[0;34m\u001b[0m\u001b[0;34m\u001b[0m\u001b[0m\n\u001b[0m\u001b[1;32m      9\u001b[0m     \u001b[0mvid_id\u001b[0m \u001b[0;34m=\u001b[0m \u001b[0mvideoLink\u001b[0m\u001b[0;34m.\u001b[0m\u001b[0msplit\u001b[0m\u001b[0;34m(\u001b[0m\u001b[0;34m'/'\u001b[0m\u001b[0;34m)\u001b[0m\u001b[0;34m\u001b[0m\u001b[0;34m\u001b[0m\u001b[0m\n\u001b[1;32m     10\u001b[0m     \u001b[0mvid_id\u001b[0m \u001b[0;34m=\u001b[0m \u001b[0mvid_id\u001b[0m\u001b[0;34m[\u001b[0m\u001b[0;36m4\u001b[0m\u001b[0;34m]\u001b[0m\u001b[0;34m.\u001b[0m\u001b[0msplit\u001b[0m\u001b[0;34m(\u001b[0m\u001b[0;34m'?'\u001b[0m\u001b[0;34m)\u001b[0m\u001b[0;34m\u001b[0m\u001b[0;34m\u001b[0m\u001b[0m\n",
      "\u001b[0;31mTypeError\u001b[0m: 'NoneType' object is not subscriptable"
     ]
    }
   ],
   "source": [
    "for article in soup.find_all('article',class_='post'):\n",
    "    \n",
    "    headline = article.a.text\n",
    "    print(headline,'\\n')\n",
    "    summary = article.find('div',class_='entry-content').p.text\n",
    "    print(summary,'\\n')\n",
    "    #from there you can access it like a dictionary\n",
    "    videoLink = article.find('iframe',class_='youtube-player')['src']\n",
    "    vid_id = videoLink.split('/')\n",
    "    vid_id = vid_id[4].split('?')\n",
    "    print(vid_id[0],'\\n')\n",
    "    print(videoLink)"
   ]
  },
  {
   "cell_type": "code",
   "execution_count": null,
   "metadata": {},
   "outputs": [],
   "source": []
  }
 ]
}