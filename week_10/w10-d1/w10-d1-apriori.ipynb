{
 "metadata": {
  "language_info": {
   "codemirror_mode": {
    "name": "ipython",
    "version": 3
   },
   "file_extension": ".py",
   "mimetype": "text/x-python",
   "name": "python",
   "nbconvert_exporter": "python",
   "pygments_lexer": "ipython3",
   "version": "3.8.5-final"
  },
  "orig_nbformat": 2,
  "kernelspec": {
   "name": "python38564bitnnscrapercondaa354d8fb32614818906b42d96b0e4fbd",
   "display_name": "Python 3.8.5 64-bit ('NNScraper': conda)"
  }
 },
 "nbformat": 4,
 "nbformat_minor": 2,
 "cells": [
  {
   "source": [
    "[tutorial](https://stackabuse.com/association-rule-mining-via-apriori-algorithm-in-python/)"
   ],
   "cell_type": "markdown",
   "metadata": {}
  },
  {
   "source": [
    "## Theory of Apriori Algorithm\n",
    "\n",
    "There are three major components of Apriori algorithm:\n",
    "\n",
    "   * Support\n",
    "   * Confidence\n",
    "   * Lift\n"
   ],
   "cell_type": "markdown",
   "metadata": {}
  },
  {
   "source": [
    "## Support\n",
    "\n",
    "Support refers to the default popularity of an item and can be calculated by finding number of transactions containing a particular item divided by total number of transactions. \n",
    "```\n",
    "Support(B) = (Transactions containing (B))/(Total Transactions)\n",
    "```\n"
   ],
   "cell_type": "markdown",
   "metadata": {}
  },
  {
   "source": [
    "## Confidence (sounds like bayes)\n",
    "\n",
    "Confidence refers to the likelihood that an item B is also bought if item A is bought. It can be calculated by finding the number of transactions where A and B are bought together, divided by total number of transactions where A is bought.\n",
    "\n",
    "```\n",
    "Confidence(A→B) = (Transactions containing both (A and B))/(Transactions containing A)\n",
    "```"
   ],
   "cell_type": "markdown",
   "metadata": {}
  },
  {
   "source": [
    "## Lift\n",
    "\n",
    "Lift(A -> B) refers to the increase in the ratio of sale of B when A is sold. Lift(A –> B) can be calculated by dividing Confidence(A -> B) divided by Support(B). \n",
    "```\n",
    "Lift(A→B) = (Confidence (A→B))/(Support (B))\n",
    "```"
   ],
   "cell_type": "markdown",
   "metadata": {}
  },
  {
   "source": [
    "## Steps Involved in Apriori Algorithm\n",
    "   * Set a minimum value for support and confidence. This means that we are only interested in finding rules for the items that have certain default existence (e.g. support) and have a minimum value for co-occurrence with other items (e.g. confidence).\n",
    "   * Extract all the subsets having higher value of support than minimum threshold.\n",
    "   * Select all the rules from the subsets with confidence value higher than minimum threshold.\n",
    "   * Order the rules by descending order of Lift.\n"
   ],
   "cell_type": "markdown",
   "metadata": {}
  },
  {
   "cell_type": "code",
   "execution_count": 6,
   "metadata": {},
   "outputs": [],
   "source": [
    "import numpy as np\n",
    "import matplotlib.pyplot as plt\n",
    "import pandas as pd\n",
    "from apyori import apriori"
   ]
  },
  {
   "cell_type": "code",
   "execution_count": 14,
   "metadata": {},
   "outputs": [],
   "source": [
    "store_data = pd.read_csv('/home/henri/Documents/Lighthouse-lab/Databases/w10-d1-db/store_data.csv', low_memory=False,header=None)\n"
   ]
  },
  {
   "cell_type": "code",
   "execution_count": 15,
   "metadata": {},
   "outputs": [
    {
     "output_type": "execute_result",
     "data": {
      "text/plain": [
       "              0          1           2                 3             4   \\\n",
       "0         shrimp    almonds     avocado    vegetables mix  green grapes   \n",
       "1        burgers  meatballs        eggs               NaN           NaN   \n",
       "2        chutney        NaN         NaN               NaN           NaN   \n",
       "3         turkey    avocado         NaN               NaN           NaN   \n",
       "4  mineral water       milk  energy bar  whole wheat rice     green tea   \n",
       "\n",
       "                 5     6               7             8             9   \\\n",
       "0  whole weat flour  yams  cottage cheese  energy drink  tomato juice   \n",
       "1               NaN   NaN             NaN           NaN           NaN   \n",
       "2               NaN   NaN             NaN           NaN           NaN   \n",
       "3               NaN   NaN             NaN           NaN           NaN   \n",
       "4               NaN   NaN             NaN           NaN           NaN   \n",
       "\n",
       "               10         11     12     13             14      15  \\\n",
       "0  low fat yogurt  green tea  honey  salad  mineral water  salmon   \n",
       "1             NaN        NaN    NaN    NaN            NaN     NaN   \n",
       "2             NaN        NaN    NaN    NaN            NaN     NaN   \n",
       "3             NaN        NaN    NaN    NaN            NaN     NaN   \n",
       "4             NaN        NaN    NaN    NaN            NaN     NaN   \n",
       "\n",
       "                  16               17       18         19  \n",
       "0  antioxydant juice  frozen smoothie  spinach  olive oil  \n",
       "1                NaN              NaN      NaN        NaN  \n",
       "2                NaN              NaN      NaN        NaN  \n",
       "3                NaN              NaN      NaN        NaN  \n",
       "4                NaN              NaN      NaN        NaN  "
      ],
      "text/html": "<div>\n<style scoped>\n    .dataframe tbody tr th:only-of-type {\n        vertical-align: middle;\n    }\n\n    .dataframe tbody tr th {\n        vertical-align: top;\n    }\n\n    .dataframe thead th {\n        text-align: right;\n    }\n</style>\n<table border=\"1\" class=\"dataframe\">\n  <thead>\n    <tr style=\"text-align: right;\">\n      <th></th>\n      <th>0</th>\n      <th>1</th>\n      <th>2</th>\n      <th>3</th>\n      <th>4</th>\n      <th>5</th>\n      <th>6</th>\n      <th>7</th>\n      <th>8</th>\n      <th>9</th>\n      <th>10</th>\n      <th>11</th>\n      <th>12</th>\n      <th>13</th>\n      <th>14</th>\n      <th>15</th>\n      <th>16</th>\n      <th>17</th>\n      <th>18</th>\n      <th>19</th>\n    </tr>\n  </thead>\n  <tbody>\n    <tr>\n      <th>0</th>\n      <td>shrimp</td>\n      <td>almonds</td>\n      <td>avocado</td>\n      <td>vegetables mix</td>\n      <td>green grapes</td>\n      <td>whole weat flour</td>\n      <td>yams</td>\n      <td>cottage cheese</td>\n      <td>energy drink</td>\n      <td>tomato juice</td>\n      <td>low fat yogurt</td>\n      <td>green tea</td>\n      <td>honey</td>\n      <td>salad</td>\n      <td>mineral water</td>\n      <td>salmon</td>\n      <td>antioxydant juice</td>\n      <td>frozen smoothie</td>\n      <td>spinach</td>\n      <td>olive oil</td>\n    </tr>\n    <tr>\n      <th>1</th>\n      <td>burgers</td>\n      <td>meatballs</td>\n      <td>eggs</td>\n      <td>NaN</td>\n      <td>NaN</td>\n      <td>NaN</td>\n      <td>NaN</td>\n      <td>NaN</td>\n      <td>NaN</td>\n      <td>NaN</td>\n      <td>NaN</td>\n      <td>NaN</td>\n      <td>NaN</td>\n      <td>NaN</td>\n      <td>NaN</td>\n      <td>NaN</td>\n      <td>NaN</td>\n      <td>NaN</td>\n      <td>NaN</td>\n      <td>NaN</td>\n    </tr>\n    <tr>\n      <th>2</th>\n      <td>chutney</td>\n      <td>NaN</td>\n      <td>NaN</td>\n      <td>NaN</td>\n      <td>NaN</td>\n      <td>NaN</td>\n      <td>NaN</td>\n      <td>NaN</td>\n      <td>NaN</td>\n      <td>NaN</td>\n      <td>NaN</td>\n      <td>NaN</td>\n      <td>NaN</td>\n      <td>NaN</td>\n      <td>NaN</td>\n      <td>NaN</td>\n      <td>NaN</td>\n      <td>NaN</td>\n      <td>NaN</td>\n      <td>NaN</td>\n    </tr>\n    <tr>\n      <th>3</th>\n      <td>turkey</td>\n      <td>avocado</td>\n      <td>NaN</td>\n      <td>NaN</td>\n      <td>NaN</td>\n      <td>NaN</td>\n      <td>NaN</td>\n      <td>NaN</td>\n      <td>NaN</td>\n      <td>NaN</td>\n      <td>NaN</td>\n      <td>NaN</td>\n      <td>NaN</td>\n      <td>NaN</td>\n      <td>NaN</td>\n      <td>NaN</td>\n      <td>NaN</td>\n      <td>NaN</td>\n      <td>NaN</td>\n      <td>NaN</td>\n    </tr>\n    <tr>\n      <th>4</th>\n      <td>mineral water</td>\n      <td>milk</td>\n      <td>energy bar</td>\n      <td>whole wheat rice</td>\n      <td>green tea</td>\n      <td>NaN</td>\n      <td>NaN</td>\n      <td>NaN</td>\n      <td>NaN</td>\n      <td>NaN</td>\n      <td>NaN</td>\n      <td>NaN</td>\n      <td>NaN</td>\n      <td>NaN</td>\n      <td>NaN</td>\n      <td>NaN</td>\n      <td>NaN</td>\n      <td>NaN</td>\n      <td>NaN</td>\n      <td>NaN</td>\n    </tr>\n  </tbody>\n</table>\n</div>"
     },
     "metadata": {},
     "execution_count": 15
    }
   ],
   "source": [
    "store_data.head()"
   ]
  },
  {
   "source": [
    "## Data Proprocessing\n",
    "\n",
    "The Apriori library we are going to use requires our dataset to be in the form of a list of lists"
   ],
   "cell_type": "markdown",
   "metadata": {}
  },
  {
   "cell_type": "code",
   "execution_count": 16,
   "metadata": {},
   "outputs": [],
   "source": [
    "records = []\n",
    "for i in range(0, 7501):\n",
    "    records.append([str(store_data.values[i,j]) for j in range(0, 20)])\n"
   ]
  },
  {
   "source": [
    "## Applying Apriori\n",
    "\n",
    "The apriori class requires some parameter values to work. The first parameter is the list of list that you want to extract rules from. The second parameter is the min_support parameter. This parameter is used to select the items with support values greater than the value specified by the parameter. Next, the min_confidence parameter filters those rules that have confidence greater than the confidence threshold specified by the parameter. Similarly, the min_lift parameter specifies the minimum lift value for the short listed rules. Finally, the min_length parameter specifies the minimum number of items that you want in your rules."
   ],
   "cell_type": "markdown",
   "metadata": {}
  },
  {
   "cell_type": "code",
   "execution_count": 17,
   "metadata": {},
   "outputs": [],
   "source": [
    "association_rules = apriori(records, min_support=0.0045, min_confidence=0.2, min_lift=3, min_length=2)\n",
    "association_results = list(association_rules)"
   ]
  },
  {
   "cell_type": "code",
   "execution_count": 19,
   "metadata": {},
   "outputs": [
    {
     "output_type": "execute_result",
     "data": {
      "text/plain": [
       "48"
      ]
     },
     "metadata": {},
     "execution_count": 19
    }
   ],
   "source": [
    "len(association_results)"
   ]
  },
  {
   "cell_type": "code",
   "execution_count": 20,
   "metadata": {},
   "outputs": [
    {
     "output_type": "execute_result",
     "data": {
      "text/plain": [
       "RelationRecord(items=frozenset({'light cream', 'chicken'}), support=0.004532728969470737, ordered_statistics=[OrderedStatistic(items_base=frozenset({'light cream'}), items_add=frozenset({'chicken'}), confidence=0.29059829059829057, lift=4.84395061728395)])"
      ]
     },
     "metadata": {},
     "execution_count": 20
    }
   ],
   "source": [
    "association_results[0]"
   ]
  },
  {
   "cell_type": "code",
   "execution_count": 21,
   "metadata": {},
   "outputs": [
    {
     "output_type": "stream",
     "name": "stdout",
     "text": [
      "Rule: light cream -> chicken\nSupport: 0.004532728969470737\nConfidence: 0.29059829059829057\nLift: 4.84395061728395\n=====================================\nRule: escalope -> mushroom cream sauce\nSupport: 0.005732568990801226\nConfidence: 0.3006993006993007\nLift: 3.790832696715049\n=====================================\nRule: escalope -> pasta\nSupport: 0.005865884548726837\nConfidence: 0.3728813559322034\nLift: 4.700811850163794\n=====================================\nRule: herb & pepper -> ground beef\nSupport: 0.015997866951073192\nConfidence: 0.3234501347708895\nLift: 3.2919938411349285\n=====================================\nRule: ground beef -> tomato sauce\nSupport: 0.005332622317024397\nConfidence: 0.3773584905660377\nLift: 3.840659481324083\n=====================================\nRule: olive oil -> whole wheat pasta\nSupport: 0.007998933475536596\nConfidence: 0.2714932126696833\nLift: 4.122410097642296\n=====================================\nRule: pasta -> shrimp\nSupport: 0.005065991201173177\nConfidence: 0.3220338983050847\nLift: 4.506672147735896\n=====================================\nRule: light cream -> nan\nSupport: 0.004532728969470737\nConfidence: 0.29059829059829057\nLift: 4.84395061728395\n=====================================\nRule: frozen vegetables -> chocolate\nSupport: 0.005332622317024397\nConfidence: 0.23255813953488375\nLift: 3.2545123221103784\n=====================================\nRule: ground beef -> cooking oil\nSupport: 0.004799360085321957\nConfidence: 0.5714285714285714\nLift: 3.2819951870487856\n=====================================\nRule: escalope -> mushroom cream sauce\nSupport: 0.005732568990801226\nConfidence: 0.3006993006993007\nLift: 3.790832696715049\n=====================================\nRule: escalope -> pasta\nSupport: 0.005865884548726837\nConfidence: 0.3728813559322034\nLift: 4.700811850163794\n=====================================\nRule: ground beef -> frozen vegetables\nSupport: 0.008665511265164644\nConfidence: 0.31100478468899523\nLift: 3.165328208890303\n=====================================\nRule: frozen vegetables -> milk\nSupport: 0.004799360085321957\nConfidence: 0.20338983050847456\nLift: 3.088314005352364\n=====================================\nRule: mineral water -> frozen vegetables\nSupport: 0.007199040127982935\nConfidence: 0.30508474576271183\nLift: 3.200616332819722\n=====================================\nRule: frozen vegetables -> olive oil\nSupport: 0.005732568990801226\nConfidence: 0.20574162679425836\nLift: 3.1240241752707125\n=====================================\nRule: frozen vegetables -> spaghetti\nSupport: 0.005999200106652446\nConfidence: 0.21531100478468898\nLift: 3.0131489680782684\n=====================================\nRule: frozen vegetables -> tomatoes\nSupport: 0.006665777896280496\nConfidence: 0.23923444976076558\nLift: 3.4980460188216425\n=====================================\nRule: ground beef -> grated cheese\nSupport: 0.005332622317024397\nConfidence: 0.3225806451612903\nLift: 3.283144395325426\n=====================================\nRule: herb & pepper -> ground beef\nSupport: 0.006665777896280496\nConfidence: 0.39062500000000006\nLift: 3.975682666214383\n=====================================\nRule: herb & pepper -> ground beef\nSupport: 0.015997866951073192\nConfidence: 0.3234501347708895\nLift: 3.2919938411349285\n=====================================\nRule: herb & pepper -> ground beef\nSupport: 0.006399146780429276\nConfidence: 0.3934426229508197\nLift: 4.004359721511667\n=====================================\nRule: ground beef -> milk\nSupport: 0.004932675643247567\nConfidence: 0.22424242424242427\nLift: 3.40494417862839\n=====================================\nRule: ground beef -> tomato sauce\nSupport: 0.005332622317024397\nConfidence: 0.3773584905660377\nLift: 3.840659481324083\n=====================================\nRule: ground beef -> spaghetti\nSupport: 0.005999200106652446\nConfidence: 0.5232558139534884\nLift: 3.005315360233627\n=====================================\nRule: milk -> olive oil\nSupport: 0.007199040127982935\nConfidence: 0.20300751879699247\nLift: 3.0825089038385434\n=====================================\nRule: mineral water -> olive oil\nSupport: 0.005199306759098787\nConfidence: 0.22543352601156072\nLift: 3.4230301186492245\n=====================================\nRule: olive oil -> whole wheat pasta\nSupport: 0.007998933475536596\nConfidence: 0.2714932126696833\nLift: 4.13077198425009\n=====================================\nRule: pasta -> shrimp\nSupport: 0.005065991201173177\nConfidence: 0.3220338983050847\nLift: 4.515095833993347\n=====================================\nRule: pancakes -> olive oil\nSupport: 0.005065991201173177\nConfidence: 0.20105820105820105\nLift: 3.0529100529100526\n=====================================\nRule: frozen vegetables -> chocolate\nSupport: 0.005332622317024397\nConfidence: 0.23255813953488375\nLift: 3.260595522712454\n=====================================\nRule: ground beef -> cooking oil\nSupport: 0.004799360085321957\nConfidence: 0.5714285714285714\nLift: 3.2819951870487856\n=====================================\nRule: ground beef -> frozen vegetables\nSupport: 0.008665511265164644\nConfidence: 0.31100478468899523\nLift: 3.165328208890303\n=====================================\nRule: mineral water -> frozen vegetables\nSupport: 0.004532728969470737\nConfidence: 0.28813559322033894\nLift: 3.0228043143297376\n=====================================\nRule: frozen vegetables -> milk\nSupport: 0.004799360085321957\nConfidence: 0.20338983050847456\nLift: 3.094578333963626\n=====================================\nRule: mineral water -> frozen vegetables\nSupport: 0.007199040127982935\nConfidence: 0.30508474576271183\nLift: 3.200616332819722\n=====================================\nRule: frozen vegetables -> olive oil\nSupport: 0.005732568990801226\nConfidence: 0.20574162679425836\nLift: 3.1303609383037156\n=====================================\nRule: frozen vegetables -> spaghetti\nSupport: 0.005999200106652446\nConfidence: 0.21531100478468898\nLift: 3.0187810222242093\n=====================================\nRule: frozen vegetables -> tomatoes\nSupport: 0.006665777896280496\nConfidence: 0.23923444976076558\nLift: 3.4980460188216425\n=====================================\nRule: ground beef -> grated cheese\nSupport: 0.005332622317024397\nConfidence: 0.3225806451612903\nLift: 3.283144395325426\n=====================================\nRule: herb & pepper -> ground beef\nSupport: 0.006665777896280496\nConfidence: 0.39062500000000006\nLift: 3.975682666214383\n=====================================\nRule: herb & pepper -> ground beef\nSupport: 0.006399146780429276\nConfidence: 0.3934426229508197\nLift: 4.004359721511667\n=====================================\nRule: ground beef -> milk\nSupport: 0.004932675643247567\nConfidence: 0.22424242424242427\nLift: 3.4118507591124225\n=====================================\nRule: ground beef -> spaghetti\nSupport: 0.005999200106652446\nConfidence: 0.5232558139534884\nLift: 3.005315360233627\n=====================================\nRule: milk -> olive oil\nSupport: 0.007199040127982935\nConfidence: 0.20300751879699247\nLift: 3.088761457396025\n=====================================\nRule: mineral water -> soup\nSupport: 0.005199306759098787\nConfidence: 0.22543352601156072\nLift: 3.429973384609973\n=====================================\nRule: pancakes -> olive oil\nSupport: 0.005065991201173177\nConfidence: 0.20105820105820105\nLift: 3.0591025682303568\n=====================================\nRule: frozen vegetables -> spaghetti\nSupport: 0.004532728969470737\nConfidence: 0.28813559322033894\nLift: 3.0228043143297376\n=====================================\n"
     ]
    }
   ],
   "source": [
    "for item in association_results:\n",
    "\n",
    "    # first index of the inner list\n",
    "    # Contains base item and add item\n",
    "    pair = item[0] \n",
    "    items = [x for x in pair]\n",
    "    print(\"Rule: \" + items[0] + \" -> \" + items[1])\n",
    "\n",
    "    #second index of the inner list\n",
    "    print(\"Support: \" + str(item[1]))\n",
    "\n",
    "    #third index of the list located at 0th\n",
    "    #of the third index of the inner list\n",
    "\n",
    "    print(\"Confidence: \" + str(item[2][0][2]))\n",
    "    print(\"Lift: \" + str(item[2][0][3]))\n",
    "    print(\"=====================================\")"
   ]
  },
  {
   "cell_type": "code",
   "execution_count": null,
   "metadata": {},
   "outputs": [],
   "source": []
  }
 ]
}