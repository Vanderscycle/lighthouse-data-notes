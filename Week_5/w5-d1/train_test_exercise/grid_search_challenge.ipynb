{
 "cells": [
  {
   "cell_type": "markdown",
   "metadata": {},
   "source": [
    "# Perdiction of sales\n",
    "\n",
    "### Problem Statement\n",
    "The dataset represents sales data for 1559 products across 10 stores in different cities. Also, certain attributes of each product and store are available. The aim is to build a predictive model and find out the sales of each product at a particular store.\n",
    "\n",
    "|Variable|Description|\n",
    "|: ------------- |:-------------|\n",
    "|Item_Identifier|Unique product ID|\n",
    "|Item_Weight|Weight of product|\n",
    "|Item_Fat_Content|Whether the product is low fat or not|\n",
    "|Item_Visibility|The % of total display area of all products in a store allocated to the particular product|\n",
    "|Item_Type|The category to which the product belongs|\n",
    "|Item_MRP|Maximum Retail Price (list price) of the product|\n",
    "|Outlet_Identifier|Unique store ID|\n",
    "|Outlet_Establishment_Year|The year in which store was established|\n",
    "|Outlet_Size|The size of the store in terms of ground area covered|\n",
    "|Outlet_Location_Type|The type of city in which the store is located|\n",
    "|Outlet_Type|Whether the outlet is just a grocery store or some sort of supermarket|\n",
    "|Item_Outlet_Sales|Sales of the product in the particulat store. This is the outcome variable to be predicted.|\n",
    "\n",
    "Please note that the data may have missing values as some stores might not report all the data due to technical glitches. Hence, it will be required to treat them accordingly.\n",
    "\n",
    "\n",
    "\n",
    "### Explore the problem in following stages:\n",
    "\n",
    "1. Hypothesis Generation – understanding the problem better by brainstorming possible factors that can impact the outcome\n",
    "2. Data Exploration – looking at categorical and continuous feature summaries and making inferences about the data.\n",
    "3. Data Cleaning – imputing missing values in the data and checking for outliers\n",
    "4. Feature Engineering – modifying existing variables and creating new ones for analysis\n",
    "5. Model Building – making predictive models on the data"
   ]
  },
  {
   "cell_type": "code",
   "execution_count": 1,
   "metadata": {},
   "outputs": [],
   "source": [
    "import pandas as pd\n",
    "import numpy as np\n",
    "\n",
    "import seaborn as sns\n",
    "import matplotlib.pyplot as plt\n",
    "import datetime\n"
   ]
  },
  {
   "cell_type": "code",
   "execution_count": 2,
   "metadata": {},
   "outputs": [],
   "source": [
    "#Read files:\n",
    "path = '/home/henri/Documents/Lighthouse lab/Databases/w3-d3-db/regression_exercise.csv'\n",
    "data = pd.read_csv(path)"
   ]
  },
  {
   "cell_type": "code",
   "execution_count": 3,
   "metadata": {},
   "outputs": [],
   "source": [
    "## Matplotlib\n",
    "plt.style.use('dark_background')\n",
    "plt.rcParams[\"figure.figsize\"] = (12,8)"
   ]
  },
  {
   "cell_type": "code",
   "execution_count": 4,
   "metadata": {},
   "outputs": [],
   "source": [
    "def how_much_missing_data (df):\n",
    "    \"\"\" Functions that takes a pd.DF and returns the total of missing values per columns:\n",
    "        - count of how many are missing\n",
    "        - from a scale 1(100%) to 0(0%)\n",
    "        - dtypes    \n",
    "    \"\"\"\n",
    "    total = df.isnull().sum().sort_values(ascending=False)\n",
    "    percent = (df.isnull().sum()/df.isnull().count()).sort_values(ascending=False)\n",
    "    types = df.dtypes\n",
    "    # also the scale is from 0 to 1\n",
    "    missing_data = pd.concat([total, percent,types], axis=1, keys=['Total', 'Percent','dtypes'])\n",
    "    return missing_data "
   ]
  },
  {
   "cell_type": "code",
   "execution_count": null,
   "metadata": {},
   "outputs": [],
   "source": []
  },
  {
   "cell_type": "code",
   "execution_count": 5,
   "metadata": {},
   "outputs": [
    {
     "data": {
      "text/html": [
       "<div>\n",
       "<style scoped>\n",
       "    .dataframe tbody tr th:only-of-type {\n",
       "        vertical-align: middle;\n",
       "    }\n",
       "\n",
       "    .dataframe tbody tr th {\n",
       "        vertical-align: top;\n",
       "    }\n",
       "\n",
       "    .dataframe thead th {\n",
       "        text-align: right;\n",
       "    }\n",
       "</style>\n",
       "<table border=\"1\" class=\"dataframe\">\n",
       "  <thead>\n",
       "    <tr style=\"text-align: right;\">\n",
       "      <th></th>\n",
       "      <th>Total</th>\n",
       "      <th>Percent</th>\n",
       "      <th>dtypes</th>\n",
       "    </tr>\n",
       "  </thead>\n",
       "  <tbody>\n",
       "    <tr>\n",
       "      <th>Outlet_Size</th>\n",
       "      <td>2410</td>\n",
       "      <td>0.282764</td>\n",
       "      <td>object</td>\n",
       "    </tr>\n",
       "    <tr>\n",
       "      <th>Item_Weight</th>\n",
       "      <td>1463</td>\n",
       "      <td>0.171653</td>\n",
       "      <td>float64</td>\n",
       "    </tr>\n",
       "    <tr>\n",
       "      <th>Item_Outlet_Sales</th>\n",
       "      <td>0</td>\n",
       "      <td>0.000000</td>\n",
       "      <td>float64</td>\n",
       "    </tr>\n",
       "    <tr>\n",
       "      <th>Outlet_Type</th>\n",
       "      <td>0</td>\n",
       "      <td>0.000000</td>\n",
       "      <td>object</td>\n",
       "    </tr>\n",
       "    <tr>\n",
       "      <th>Outlet_Location_Type</th>\n",
       "      <td>0</td>\n",
       "      <td>0.000000</td>\n",
       "      <td>object</td>\n",
       "    </tr>\n",
       "    <tr>\n",
       "      <th>Outlet_Establishment_Year</th>\n",
       "      <td>0</td>\n",
       "      <td>0.000000</td>\n",
       "      <td>int64</td>\n",
       "    </tr>\n",
       "    <tr>\n",
       "      <th>Outlet_Identifier</th>\n",
       "      <td>0</td>\n",
       "      <td>0.000000</td>\n",
       "      <td>object</td>\n",
       "    </tr>\n",
       "    <tr>\n",
       "      <th>Item_MRP</th>\n",
       "      <td>0</td>\n",
       "      <td>0.000000</td>\n",
       "      <td>float64</td>\n",
       "    </tr>\n",
       "    <tr>\n",
       "      <th>Item_Type</th>\n",
       "      <td>0</td>\n",
       "      <td>0.000000</td>\n",
       "      <td>object</td>\n",
       "    </tr>\n",
       "    <tr>\n",
       "      <th>Item_Visibility</th>\n",
       "      <td>0</td>\n",
       "      <td>0.000000</td>\n",
       "      <td>float64</td>\n",
       "    </tr>\n",
       "    <tr>\n",
       "      <th>Item_Fat_Content</th>\n",
       "      <td>0</td>\n",
       "      <td>0.000000</td>\n",
       "      <td>object</td>\n",
       "    </tr>\n",
       "    <tr>\n",
       "      <th>Item_Identifier</th>\n",
       "      <td>0</td>\n",
       "      <td>0.000000</td>\n",
       "      <td>object</td>\n",
       "    </tr>\n",
       "  </tbody>\n",
       "</table>\n",
       "</div>"
      ],
      "text/plain": [
       "                           Total   Percent   dtypes\n",
       "Outlet_Size                 2410  0.282764   object\n",
       "Item_Weight                 1463  0.171653  float64\n",
       "Item_Outlet_Sales              0  0.000000  float64\n",
       "Outlet_Type                    0  0.000000   object\n",
       "Outlet_Location_Type           0  0.000000   object\n",
       "Outlet_Establishment_Year      0  0.000000    int64\n",
       "Outlet_Identifier              0  0.000000   object\n",
       "Item_MRP                       0  0.000000  float64\n",
       "Item_Type                      0  0.000000   object\n",
       "Item_Visibility                0  0.000000  float64\n",
       "Item_Fat_Content               0  0.000000   object\n",
       "Item_Identifier                0  0.000000   object"
      ]
     },
     "execution_count": 5,
     "metadata": {},
     "output_type": "execute_result"
    }
   ],
   "source": [
    "how_much_missing_data(data)"
   ]
  },
  {
   "cell_type": "code",
   "execution_count": 6,
   "metadata": {},
   "outputs": [],
   "source": [
    "def unique_df_cols(data):    \n",
    "    catVariables = data[data.dtypes[~(data.dtypes == 'float') | (data.dtypes == 'int')].index.tolist()]\n",
    "    numVariables = data[data.dtypes[(data.dtypes == 'float') | (data.dtypes == 'int')].index.tolist()]\n",
    "    print('Only printing the first 20 unique variables')\n",
    "    print('Categorical variables','\\n')\n",
    "    for cat in catVariables.columns.tolist():\n",
    "        print(f'There are {data[cat].nunique()} unique {cat}')\n",
    "        print(f'{data[cat].unique()[:20]} \\n')\n",
    "    print('Numerical variables','\\n')\n",
    "    for num in numVariables.columns.tolist():\n",
    "        print(f'There are {data[num].nunique()} unique {num}')\n",
    "        print(f'{data[num].unique()[:20]} \\n')\n"
   ]
  },
  {
   "cell_type": "code",
   "execution_count": 7,
   "metadata": {},
   "outputs": [
    {
     "name": "stdout",
     "output_type": "stream",
     "text": [
      "Only printing the first 20 unique variables\n",
      "Categorical variables \n",
      "\n",
      "There are 1559 unique Item_Identifier\n",
      "['FDA15' 'DRC01' 'FDN15' 'FDX07' 'NCD19' 'FDP36' 'FDO10' 'FDP10' 'FDH17'\n",
      " 'FDU28' 'FDY07' 'FDA03' 'FDX32' 'FDS46' 'FDF32' 'FDP49' 'NCB42' 'DRI11'\n",
      " 'FDU02' 'FDN22'] \n",
      "\n",
      "There are 5 unique Item_Fat_Content\n",
      "['Low Fat' 'Regular' 'low fat' 'LF' 'reg'] \n",
      "\n",
      "There are 16 unique Item_Type\n",
      "['Dairy' 'Soft Drinks' 'Meat' 'Fruits and Vegetables' 'Household'\n",
      " 'Baking Goods' 'Snack Foods' 'Frozen Foods' 'Breakfast'\n",
      " 'Health and Hygiene' 'Hard Drinks' 'Canned' 'Breads' 'Starchy Foods'\n",
      " 'Others' 'Seafood'] \n",
      "\n",
      "There are 10 unique Outlet_Identifier\n",
      "['OUT049' 'OUT018' 'OUT010' 'OUT013' 'OUT027' 'OUT045' 'OUT017' 'OUT046'\n",
      " 'OUT035' 'OUT019'] \n",
      "\n",
      "There are 9 unique Outlet_Establishment_Year\n",
      "[1999 2009 1998 1987 1985 2002 2007 1997 2004] \n",
      "\n",
      "There are 3 unique Outlet_Size\n",
      "['Medium' nan 'High' 'Small'] \n",
      "\n",
      "There are 3 unique Outlet_Location_Type\n",
      "['Tier 1' 'Tier 3' 'Tier 2'] \n",
      "\n",
      "There are 4 unique Outlet_Type\n",
      "['Supermarket Type1' 'Supermarket Type2' 'Grocery Store'\n",
      " 'Supermarket Type3'] \n",
      "\n",
      "Numerical variables \n",
      "\n",
      "There are 415 unique Item_Weight\n",
      "[ 9.3    5.92  17.5   19.2    8.93  10.395 13.65     nan 16.2   11.8\n",
      " 18.5   15.1   17.6   16.35   9.    13.35  18.85  14.6   13.85  13.   ] \n",
      "\n",
      "There are 7880 unique Item_Visibility\n",
      "[0.0160473  0.01927822 0.01676007 0.         0.01274109 0.12746986\n",
      " 0.01668711 0.09444959 0.04546377 0.1000135  0.04725733 0.0680243\n",
      " 0.06908896 0.00859605 0.06919638 0.03423768 0.10249212 0.13819028\n",
      " 0.03539992 0.02569813] \n",
      "\n",
      "There are 5938 unique Item_MRP\n",
      "[249.8092  48.2692 141.618  182.095   53.8614  51.4008  57.6588 107.7622\n",
      "  96.9726 187.8214  45.5402 144.1102 145.4786 119.6782 196.4426  56.3614\n",
      " 115.3492  54.3614 113.2834 230.5352] \n",
      "\n",
      "There are 9 unique Outlet_Establishment_Year\n",
      "[1999 2009 1998 1987 1985 2002 2007 1997 2004] \n",
      "\n",
      "There are 3493 unique Item_Outlet_Sales\n",
      "[3735.138   443.4228 2097.27    732.38    994.7052  556.6088  343.5528\n",
      " 4022.7636 1076.5986 4710.535  1516.0266 2187.153  1589.2646 2145.2076\n",
      " 1977.426  1547.3192 1621.8888  718.3982 2303.668  2748.4224] \n",
      "\n"
     ]
    }
   ],
   "source": [
    "unique_df_cols(data)"
   ]
  },
  {
   "cell_type": "code",
   "execution_count": 8,
   "metadata": {},
   "outputs": [],
   "source": [
    "data[['Item_Identifier', 'Item_Weight']] = data[['Item_Identifier', 'Item_Weight']].sort_values(by='Item_Identifier').fillna(method='bfill')"
   ]
  },
  {
   "cell_type": "code",
   "execution_count": 9,
   "metadata": {},
   "outputs": [],
   "source": [
    "## real cool wa\n",
    "data['Outlet_Size'] = data['Outlet_Size'].fillna(pd.Series(np.random.choice(['Medium', 'Small', 'High'], \n",
    "                                                     p=[0.456895,0.390643,0.152462], \n",
    "                                                     size=len(data))))"
   ]
  },
  {
   "cell_type": "code",
   "execution_count": 10,
   "metadata": {},
   "outputs": [],
   "source": [
    "for i in data.index:\n",
    "    val = data._get_value(i,'Item_Fat_Content')\n",
    "    if val in ['low fat','LF']:\n",
    "        data._set_value( i,'Item_Fat_Content','Low Fat')\n",
    "    elif val in ['reg']:\n",
    "        data._set_value( i,'Item_Fat_Content','Regular')"
   ]
  },
  {
   "cell_type": "code",
   "execution_count": 11,
   "metadata": {},
   "outputs": [],
   "source": [
    "data = data.replace({\"Outlet_Size\" : {\"Small\":1,'Medium':2,\"High\":3},\n",
    "                     \"Outlet_Location_Type\" : {\"Tier 1\":1, \"Tier 2\":2, \"Tier 3\":3},\n",
    "                     \"Outlet_Type\" : {\"Grocery Store\":0, \"Supermarket Type1\":1, \"Supermarket Type2\":2, \"Supermarket Type3\":3}\n",
    "                     })"
   ]
  },
  {
   "cell_type": "code",
   "execution_count": 12,
   "metadata": {},
   "outputs": [],
   "source": [
    "data['Outlet_Identifier'] = data.Outlet_Identifier.str.extract('(\\d{3})').astype(int)"
   ]
  },
  {
   "cell_type": "code",
   "execution_count": 13,
   "metadata": {},
   "outputs": [
    {
     "data": {
      "text/html": [
       "<div>\n",
       "<style scoped>\n",
       "    .dataframe tbody tr th:only-of-type {\n",
       "        vertical-align: middle;\n",
       "    }\n",
       "\n",
       "    .dataframe tbody tr th {\n",
       "        vertical-align: top;\n",
       "    }\n",
       "\n",
       "    .dataframe thead th {\n",
       "        text-align: right;\n",
       "    }\n",
       "</style>\n",
       "<table border=\"1\" class=\"dataframe\">\n",
       "  <thead>\n",
       "    <tr style=\"text-align: right;\">\n",
       "      <th></th>\n",
       "      <th>Total</th>\n",
       "      <th>Percent</th>\n",
       "      <th>dtypes</th>\n",
       "    </tr>\n",
       "  </thead>\n",
       "  <tbody>\n",
       "    <tr>\n",
       "      <th>Item_Outlet_Sales</th>\n",
       "      <td>0</td>\n",
       "      <td>0.0</td>\n",
       "      <td>float64</td>\n",
       "    </tr>\n",
       "    <tr>\n",
       "      <th>Outlet_Type</th>\n",
       "      <td>0</td>\n",
       "      <td>0.0</td>\n",
       "      <td>int64</td>\n",
       "    </tr>\n",
       "    <tr>\n",
       "      <th>Outlet_Location_Type</th>\n",
       "      <td>0</td>\n",
       "      <td>0.0</td>\n",
       "      <td>int64</td>\n",
       "    </tr>\n",
       "    <tr>\n",
       "      <th>Outlet_Size</th>\n",
       "      <td>0</td>\n",
       "      <td>0.0</td>\n",
       "      <td>int64</td>\n",
       "    </tr>\n",
       "    <tr>\n",
       "      <th>Outlet_Establishment_Year</th>\n",
       "      <td>0</td>\n",
       "      <td>0.0</td>\n",
       "      <td>int64</td>\n",
       "    </tr>\n",
       "    <tr>\n",
       "      <th>Outlet_Identifier</th>\n",
       "      <td>0</td>\n",
       "      <td>0.0</td>\n",
       "      <td>int64</td>\n",
       "    </tr>\n",
       "    <tr>\n",
       "      <th>Item_MRP</th>\n",
       "      <td>0</td>\n",
       "      <td>0.0</td>\n",
       "      <td>float64</td>\n",
       "    </tr>\n",
       "    <tr>\n",
       "      <th>Item_Type</th>\n",
       "      <td>0</td>\n",
       "      <td>0.0</td>\n",
       "      <td>object</td>\n",
       "    </tr>\n",
       "    <tr>\n",
       "      <th>Item_Visibility</th>\n",
       "      <td>0</td>\n",
       "      <td>0.0</td>\n",
       "      <td>float64</td>\n",
       "    </tr>\n",
       "    <tr>\n",
       "      <th>Item_Fat_Content</th>\n",
       "      <td>0</td>\n",
       "      <td>0.0</td>\n",
       "      <td>object</td>\n",
       "    </tr>\n",
       "    <tr>\n",
       "      <th>Item_Weight</th>\n",
       "      <td>0</td>\n",
       "      <td>0.0</td>\n",
       "      <td>float64</td>\n",
       "    </tr>\n",
       "    <tr>\n",
       "      <th>Item_Identifier</th>\n",
       "      <td>0</td>\n",
       "      <td>0.0</td>\n",
       "      <td>object</td>\n",
       "    </tr>\n",
       "  </tbody>\n",
       "</table>\n",
       "</div>"
      ],
      "text/plain": [
       "                           Total  Percent   dtypes\n",
       "Item_Outlet_Sales              0      0.0  float64\n",
       "Outlet_Type                    0      0.0    int64\n",
       "Outlet_Location_Type           0      0.0    int64\n",
       "Outlet_Size                    0      0.0    int64\n",
       "Outlet_Establishment_Year      0      0.0    int64\n",
       "Outlet_Identifier              0      0.0    int64\n",
       "Item_MRP                       0      0.0  float64\n",
       "Item_Type                      0      0.0   object\n",
       "Item_Visibility                0      0.0  float64\n",
       "Item_Fat_Content               0      0.0   object\n",
       "Item_Weight                    0      0.0  float64\n",
       "Item_Identifier                0      0.0   object"
      ]
     },
     "execution_count": 13,
     "metadata": {},
     "output_type": "execute_result"
    }
   ],
   "source": [
    "how_much_missing_data(data)"
   ]
  },
  {
   "cell_type": "code",
   "execution_count": 14,
   "metadata": {},
   "outputs": [
    {
     "data": {
      "text/html": [
       "<div>\n",
       "<style scoped>\n",
       "    .dataframe tbody tr th:only-of-type {\n",
       "        vertical-align: middle;\n",
       "    }\n",
       "\n",
       "    .dataframe tbody tr th {\n",
       "        vertical-align: top;\n",
       "    }\n",
       "\n",
       "    .dataframe thead th {\n",
       "        text-align: right;\n",
       "    }\n",
       "</style>\n",
       "<table border=\"1\" class=\"dataframe\">\n",
       "  <thead>\n",
       "    <tr style=\"text-align: right;\">\n",
       "      <th></th>\n",
       "      <th>Item_Identifier</th>\n",
       "      <th>Item_Weight</th>\n",
       "      <th>Item_Fat_Content</th>\n",
       "      <th>Item_Visibility</th>\n",
       "      <th>Item_Type</th>\n",
       "      <th>Item_MRP</th>\n",
       "      <th>Outlet_Identifier</th>\n",
       "      <th>Outlet_Establishment_Year</th>\n",
       "      <th>Outlet_Size</th>\n",
       "      <th>Outlet_Location_Type</th>\n",
       "      <th>Outlet_Type</th>\n",
       "      <th>Item_Outlet_Sales</th>\n",
       "    </tr>\n",
       "  </thead>\n",
       "  <tbody>\n",
       "    <tr>\n",
       "      <th>0</th>\n",
       "      <td>FDA15</td>\n",
       "      <td>9.30</td>\n",
       "      <td>Low Fat</td>\n",
       "      <td>0.016047</td>\n",
       "      <td>Dairy</td>\n",
       "      <td>249.8092</td>\n",
       "      <td>49</td>\n",
       "      <td>1999</td>\n",
       "      <td>2</td>\n",
       "      <td>1</td>\n",
       "      <td>1</td>\n",
       "      <td>3735.1380</td>\n",
       "    </tr>\n",
       "    <tr>\n",
       "      <th>1</th>\n",
       "      <td>DRC01</td>\n",
       "      <td>5.92</td>\n",
       "      <td>Regular</td>\n",
       "      <td>0.019278</td>\n",
       "      <td>Soft Drinks</td>\n",
       "      <td>48.2692</td>\n",
       "      <td>18</td>\n",
       "      <td>2009</td>\n",
       "      <td>2</td>\n",
       "      <td>3</td>\n",
       "      <td>2</td>\n",
       "      <td>443.4228</td>\n",
       "    </tr>\n",
       "    <tr>\n",
       "      <th>2</th>\n",
       "      <td>FDN15</td>\n",
       "      <td>17.50</td>\n",
       "      <td>Low Fat</td>\n",
       "      <td>0.016760</td>\n",
       "      <td>Meat</td>\n",
       "      <td>141.6180</td>\n",
       "      <td>49</td>\n",
       "      <td>1999</td>\n",
       "      <td>2</td>\n",
       "      <td>1</td>\n",
       "      <td>1</td>\n",
       "      <td>2097.2700</td>\n",
       "    </tr>\n",
       "    <tr>\n",
       "      <th>3</th>\n",
       "      <td>FDX07</td>\n",
       "      <td>19.20</td>\n",
       "      <td>Regular</td>\n",
       "      <td>0.000000</td>\n",
       "      <td>Fruits and Vegetables</td>\n",
       "      <td>182.0950</td>\n",
       "      <td>10</td>\n",
       "      <td>1998</td>\n",
       "      <td>1</td>\n",
       "      <td>3</td>\n",
       "      <td>0</td>\n",
       "      <td>732.3800</td>\n",
       "    </tr>\n",
       "    <tr>\n",
       "      <th>4</th>\n",
       "      <td>NCD19</td>\n",
       "      <td>8.93</td>\n",
       "      <td>Low Fat</td>\n",
       "      <td>0.000000</td>\n",
       "      <td>Household</td>\n",
       "      <td>53.8614</td>\n",
       "      <td>13</td>\n",
       "      <td>1987</td>\n",
       "      <td>3</td>\n",
       "      <td>3</td>\n",
       "      <td>1</td>\n",
       "      <td>994.7052</td>\n",
       "    </tr>\n",
       "  </tbody>\n",
       "</table>\n",
       "</div>"
      ],
      "text/plain": [
       "  Item_Identifier  Item_Weight Item_Fat_Content  Item_Visibility  \\\n",
       "0           FDA15         9.30          Low Fat         0.016047   \n",
       "1           DRC01         5.92          Regular         0.019278   \n",
       "2           FDN15        17.50          Low Fat         0.016760   \n",
       "3           FDX07        19.20          Regular         0.000000   \n",
       "4           NCD19         8.93          Low Fat         0.000000   \n",
       "\n",
       "               Item_Type  Item_MRP  Outlet_Identifier  \\\n",
       "0                  Dairy  249.8092                 49   \n",
       "1            Soft Drinks   48.2692                 18   \n",
       "2                   Meat  141.6180                 49   \n",
       "3  Fruits and Vegetables  182.0950                 10   \n",
       "4              Household   53.8614                 13   \n",
       "\n",
       "   Outlet_Establishment_Year  Outlet_Size  Outlet_Location_Type  Outlet_Type  \\\n",
       "0                       1999            2                     1            1   \n",
       "1                       2009            2                     3            2   \n",
       "2                       1999            2                     1            1   \n",
       "3                       1998            1                     3            0   \n",
       "4                       1987            3                     3            1   \n",
       "\n",
       "   Item_Outlet_Sales  \n",
       "0          3735.1380  \n",
       "1           443.4228  \n",
       "2          2097.2700  \n",
       "3           732.3800  \n",
       "4           994.7052  "
      ]
     },
     "execution_count": 14,
     "metadata": {},
     "output_type": "execute_result"
    }
   ],
   "source": [
    "data.head()"
   ]
  },
  {
   "cell_type": "markdown",
   "metadata": {},
   "source": [
    "We have covered data preparation and feature engineering two weeks ago. Now, it's time to do some predictive models."
   ]
  },
  {
   "cell_type": "code",
   "execution_count": 15,
   "metadata": {},
   "outputs": [
    {
     "data": {
      "text/plain": [
       "array(['Low Fat', 'Regular'], dtype=object)"
      ]
     },
     "execution_count": 15,
     "metadata": {},
     "output_type": "execute_result"
    }
   ],
   "source": [
    "data.Item_Fat_Content.unique()"
   ]
  },
  {
   "cell_type": "code",
   "execution_count": 16,
   "metadata": {},
   "outputs": [
    {
     "data": {
      "text/plain": [
       "(17046, 14)"
      ]
     },
     "execution_count": 16,
     "metadata": {},
     "output_type": "execute_result"
    }
   ],
   "source": [
    "#encoding fat content (nominal values)\n",
    "data_dum = pd.concat([data,pd.get_dummies(data.Item_Fat_Content)])\n",
    "data_dum.shape"
   ]
  },
  {
   "cell_type": "code",
   "execution_count": 17,
   "metadata": {},
   "outputs": [
    {
     "data": {
      "text/plain": [
       "(25569, 30)"
      ]
     },
     "execution_count": 17,
     "metadata": {},
     "output_type": "execute_result"
    }
   ],
   "source": [
    "#encoding item type (nominal values)\n",
    "data_dum = pd.concat([data_dum,pd.get_dummies(data.Item_Type)])\n",
    "data_dum.shape"
   ]
  },
  {
   "cell_type": "code",
   "execution_count": 18,
   "metadata": {},
   "outputs": [],
   "source": [
    "#dropping perceived useless data prior one hot encoding\n",
    "data_reg = data_dum.drop(['Item_Type','Item_Fat_Content','Item_Identifier', 'Outlet_Identifier','Outlet_Size','Outlet_Location_Type','Outlet_Type','Outlet_Establishment_Year'], axis=1).fillna(0)"
   ]
  },
  {
   "cell_type": "code",
   "execution_count": 19,
   "metadata": {},
   "outputs": [
    {
     "data": {
      "text/plain": [
       "array([0., 1.])"
      ]
     },
     "execution_count": 19,
     "metadata": {},
     "output_type": "execute_result"
    }
   ],
   "source": [
    "data_reg.Meat.unique()"
   ]
  },
  {
   "cell_type": "code",
   "execution_count": 20,
   "metadata": {},
   "outputs": [
    {
     "name": "stdout",
     "output_type": "stream",
     "text": [
      "<class 'pandas.core.frame.DataFrame'>\n",
      "Int64Index: 25569 entries, 0 to 8522\n",
      "Data columns (total 22 columns):\n",
      " #   Column                 Non-Null Count  Dtype  \n",
      "---  ------                 --------------  -----  \n",
      " 0   Item_Weight            25569 non-null  float64\n",
      " 1   Item_Visibility        25569 non-null  float64\n",
      " 2   Item_MRP               25569 non-null  float64\n",
      " 3   Item_Outlet_Sales      25569 non-null  float64\n",
      " 4   Low Fat                25569 non-null  float64\n",
      " 5   Regular                25569 non-null  float64\n",
      " 6   Baking Goods           25569 non-null  float64\n",
      " 7   Breads                 25569 non-null  float64\n",
      " 8   Breakfast              25569 non-null  float64\n",
      " 9   Canned                 25569 non-null  float64\n",
      " 10  Dairy                  25569 non-null  float64\n",
      " 11  Frozen Foods           25569 non-null  float64\n",
      " 12  Fruits and Vegetables  25569 non-null  float64\n",
      " 13  Hard Drinks            25569 non-null  float64\n",
      " 14  Health and Hygiene     25569 non-null  float64\n",
      " 15  Household              25569 non-null  float64\n",
      " 16  Meat                   25569 non-null  float64\n",
      " 17  Others                 25569 non-null  float64\n",
      " 18  Seafood                25569 non-null  float64\n",
      " 19  Snack Foods            25569 non-null  float64\n",
      " 20  Soft Drinks            25569 non-null  float64\n",
      " 21  Starchy Foods          25569 non-null  float64\n",
      "dtypes: float64(22)\n",
      "memory usage: 4.5 MB\n"
     ]
    }
   ],
   "source": [
    "data_reg.info()"
   ]
  },
  {
   "cell_type": "code",
   "execution_count": 21,
   "metadata": {},
   "outputs": [],
   "source": [
    "#since we have too many columns let's do a PCA\n",
    "from sklearn.preprocessing import StandardScaler\n",
    "from sklearn.decomposition import PCA\n",
    "scaler = StandardScaler()\n",
    "datascaled = scaler.fit_transform(data_reg)"
   ]
  },
  {
   "cell_type": "code",
   "execution_count": 22,
   "metadata": {},
   "outputs": [],
   "source": [
    "df_customer_scaled = pd.DataFrame(datascaled,columns=data_reg.columns.to_list())"
   ]
  },
  {
   "cell_type": "code",
   "execution_count": 23,
   "metadata": {},
   "outputs": [
    {
     "data": {
      "text/html": [
       "<div>\n",
       "<style scoped>\n",
       "    .dataframe tbody tr th:only-of-type {\n",
       "        vertical-align: middle;\n",
       "    }\n",
       "\n",
       "    .dataframe tbody tr th {\n",
       "        vertical-align: top;\n",
       "    }\n",
       "\n",
       "    .dataframe thead th {\n",
       "        text-align: right;\n",
       "    }\n",
       "</style>\n",
       "<table border=\"1\" class=\"dataframe\">\n",
       "  <thead>\n",
       "    <tr style=\"text-align: right;\">\n",
       "      <th></th>\n",
       "      <th>Item_Weight</th>\n",
       "      <th>Item_Visibility</th>\n",
       "      <th>Item_MRP</th>\n",
       "      <th>Item_Outlet_Sales</th>\n",
       "      <th>Low Fat</th>\n",
       "      <th>Regular</th>\n",
       "      <th>Baking Goods</th>\n",
       "      <th>Breads</th>\n",
       "      <th>Breakfast</th>\n",
       "      <th>Canned</th>\n",
       "      <th>...</th>\n",
       "      <th>Fruits and Vegetables</th>\n",
       "      <th>Hard Drinks</th>\n",
       "      <th>Health and Hygiene</th>\n",
       "      <th>Household</th>\n",
       "      <th>Meat</th>\n",
       "      <th>Others</th>\n",
       "      <th>Seafood</th>\n",
       "      <th>Snack Foods</th>\n",
       "      <th>Soft Drinks</th>\n",
       "      <th>Starchy Foods</th>\n",
       "    </tr>\n",
       "  </thead>\n",
       "  <tbody>\n",
       "    <tr>\n",
       "      <th>0</th>\n",
       "      <td>0.754671</td>\n",
       "      <td>-0.139075</td>\n",
       "      <td>2.683923</td>\n",
       "      <td>2.112305</td>\n",
       "      <td>-0.524533</td>\n",
       "      <td>-0.365003</td>\n",
       "      <td>-0.161252</td>\n",
       "      <td>-0.099569</td>\n",
       "      <td>-0.065732</td>\n",
       "      <td>-0.161379</td>\n",
       "      <td>...</td>\n",
       "      <td>-0.224994</td>\n",
       "      <td>-0.09187</td>\n",
       "      <td>-0.144081</td>\n",
       "      <td>-0.192102</td>\n",
       "      <td>-0.13001</td>\n",
       "      <td>-0.081569</td>\n",
       "      <td>-0.050093</td>\n",
       "      <td>-0.221907</td>\n",
       "      <td>-0.133087</td>\n",
       "      <td>-0.076302</td>\n",
       "    </tr>\n",
       "    <tr>\n",
       "      <th>1</th>\n",
       "      <td>0.245498</td>\n",
       "      <td>-0.064144</td>\n",
       "      <td>0.016828</td>\n",
       "      <td>-0.199201</td>\n",
       "      <td>-0.524533</td>\n",
       "      <td>-0.365003</td>\n",
       "      <td>-0.161252</td>\n",
       "      <td>-0.099569</td>\n",
       "      <td>-0.065732</td>\n",
       "      <td>-0.161379</td>\n",
       "      <td>...</td>\n",
       "      <td>-0.224994</td>\n",
       "      <td>-0.09187</td>\n",
       "      <td>-0.144081</td>\n",
       "      <td>-0.192102</td>\n",
       "      <td>-0.13001</td>\n",
       "      <td>-0.081569</td>\n",
       "      <td>-0.050093</td>\n",
       "      <td>-0.221907</td>\n",
       "      <td>-0.133087</td>\n",
       "      <td>-0.076302</td>\n",
       "    </tr>\n",
       "    <tr>\n",
       "      <th>2</th>\n",
       "      <td>1.989943</td>\n",
       "      <td>-0.122544</td>\n",
       "      <td>1.252166</td>\n",
       "      <td>0.962162</td>\n",
       "      <td>-0.524533</td>\n",
       "      <td>-0.365003</td>\n",
       "      <td>-0.161252</td>\n",
       "      <td>-0.099569</td>\n",
       "      <td>-0.065732</td>\n",
       "      <td>-0.161379</td>\n",
       "      <td>...</td>\n",
       "      <td>-0.224994</td>\n",
       "      <td>-0.09187</td>\n",
       "      <td>-0.144081</td>\n",
       "      <td>-0.192102</td>\n",
       "      <td>-0.13001</td>\n",
       "      <td>-0.081569</td>\n",
       "      <td>-0.050093</td>\n",
       "      <td>-0.221907</td>\n",
       "      <td>-0.133087</td>\n",
       "      <td>-0.076302</td>\n",
       "    </tr>\n",
       "    <tr>\n",
       "      <th>3</th>\n",
       "      <td>2.246036</td>\n",
       "      <td>-0.511241</td>\n",
       "      <td>1.787822</td>\n",
       "      <td>0.003710</td>\n",
       "      <td>-0.524533</td>\n",
       "      <td>-0.365003</td>\n",
       "      <td>-0.161252</td>\n",
       "      <td>-0.099569</td>\n",
       "      <td>-0.065732</td>\n",
       "      <td>-0.161379</td>\n",
       "      <td>...</td>\n",
       "      <td>-0.224994</td>\n",
       "      <td>-0.09187</td>\n",
       "      <td>-0.144081</td>\n",
       "      <td>-0.192102</td>\n",
       "      <td>-0.13001</td>\n",
       "      <td>-0.081569</td>\n",
       "      <td>-0.050093</td>\n",
       "      <td>-0.221907</td>\n",
       "      <td>-0.133087</td>\n",
       "      <td>-0.076302</td>\n",
       "    </tr>\n",
       "    <tr>\n",
       "      <th>4</th>\n",
       "      <td>0.698933</td>\n",
       "      <td>-0.511241</td>\n",
       "      <td>0.090833</td>\n",
       "      <td>0.187920</td>\n",
       "      <td>-0.524533</td>\n",
       "      <td>-0.365003</td>\n",
       "      <td>-0.161252</td>\n",
       "      <td>-0.099569</td>\n",
       "      <td>-0.065732</td>\n",
       "      <td>-0.161379</td>\n",
       "      <td>...</td>\n",
       "      <td>-0.224994</td>\n",
       "      <td>-0.09187</td>\n",
       "      <td>-0.144081</td>\n",
       "      <td>-0.192102</td>\n",
       "      <td>-0.13001</td>\n",
       "      <td>-0.081569</td>\n",
       "      <td>-0.050093</td>\n",
       "      <td>-0.221907</td>\n",
       "      <td>-0.133087</td>\n",
       "      <td>-0.076302</td>\n",
       "    </tr>\n",
       "  </tbody>\n",
       "</table>\n",
       "<p>5 rows × 22 columns</p>\n",
       "</div>"
      ],
      "text/plain": [
       "   Item_Weight  Item_Visibility  Item_MRP  Item_Outlet_Sales   Low Fat  \\\n",
       "0     0.754671        -0.139075  2.683923           2.112305 -0.524533   \n",
       "1     0.245498        -0.064144  0.016828          -0.199201 -0.524533   \n",
       "2     1.989943        -0.122544  1.252166           0.962162 -0.524533   \n",
       "3     2.246036        -0.511241  1.787822           0.003710 -0.524533   \n",
       "4     0.698933        -0.511241  0.090833           0.187920 -0.524533   \n",
       "\n",
       "    Regular  Baking Goods    Breads  Breakfast    Canned  ...  \\\n",
       "0 -0.365003     -0.161252 -0.099569  -0.065732 -0.161379  ...   \n",
       "1 -0.365003     -0.161252 -0.099569  -0.065732 -0.161379  ...   \n",
       "2 -0.365003     -0.161252 -0.099569  -0.065732 -0.161379  ...   \n",
       "3 -0.365003     -0.161252 -0.099569  -0.065732 -0.161379  ...   \n",
       "4 -0.365003     -0.161252 -0.099569  -0.065732 -0.161379  ...   \n",
       "\n",
       "   Fruits and Vegetables  Hard Drinks  Health and Hygiene  Household     Meat  \\\n",
       "0              -0.224994     -0.09187           -0.144081  -0.192102 -0.13001   \n",
       "1              -0.224994     -0.09187           -0.144081  -0.192102 -0.13001   \n",
       "2              -0.224994     -0.09187           -0.144081  -0.192102 -0.13001   \n",
       "3              -0.224994     -0.09187           -0.144081  -0.192102 -0.13001   \n",
       "4              -0.224994     -0.09187           -0.144081  -0.192102 -0.13001   \n",
       "\n",
       "     Others   Seafood  Snack Foods  Soft Drinks  Starchy Foods  \n",
       "0 -0.081569 -0.050093    -0.221907    -0.133087      -0.076302  \n",
       "1 -0.081569 -0.050093    -0.221907    -0.133087      -0.076302  \n",
       "2 -0.081569 -0.050093    -0.221907    -0.133087      -0.076302  \n",
       "3 -0.081569 -0.050093    -0.221907    -0.133087      -0.076302  \n",
       "4 -0.081569 -0.050093    -0.221907    -0.133087      -0.076302  \n",
       "\n",
       "[5 rows x 22 columns]"
      ]
     },
     "execution_count": 23,
     "metadata": {},
     "output_type": "execute_result"
    }
   ],
   "source": [
    "df_customer_scaled.head()"
   ]
  },
  {
   "cell_type": "code",
   "execution_count": 24,
   "metadata": {},
   "outputs": [
    {
     "data": {
      "text/plain": [
       "array([-0.36500269,  2.73970583])"
      ]
     },
     "execution_count": 24,
     "metadata": {},
     "output_type": "execute_result"
    }
   ],
   "source": [
    "df_customer_scaled.Regular.unique()"
   ]
  },
  {
   "cell_type": "code",
   "execution_count": 25,
   "metadata": {},
   "outputs": [],
   "source": [
    "pca = PCA(n_components=13)"
   ]
  },
  {
   "cell_type": "code",
   "execution_count": 26,
   "metadata": {},
   "outputs": [],
   "source": [
    "components = pca.fit_transform(df_customer_scaled)"
   ]
  },
  {
   "cell_type": "code",
   "execution_count": 27,
   "metadata": {},
   "outputs": [
    {
     "data": {
      "image/png": "[encoded data removed]",
      "text/plain": [
       "<Figure size 864x576 with 1 Axes>"
      ]
     },
     "metadata": {},
     "output_type": "display_data"
    }
   ],
   "source": [
    "# Calculates the proportion of variance explained\n",
    "var_exp_cust = np.cumsum(pca.explained_variance_ratio_)\n",
    "\n",
    "# Plots the elbow plot for the wine pca\n",
    "plt.plot(range(1,14), var_exp_cust, marker='o')\n",
    "plt.title(\"Variance explained - Customer\", fontsize=18);\n",
    "plt.axhline(0.95,c='r')\n",
    "plt.axvline(5,c='r')\n",
    "plt.show()"
   ]
  },
  {
   "cell_type": "markdown",
   "metadata": {},
   "source": [
    "## Model Building\n",
    "\n",
    "## Task\n",
    "Make a baseline model. Baseline model is the one which requires no predictive model and its like an informed guess. For instance, predict the sales as the overall average sales or just zero.\n",
    "Making baseline models helps in setting a benchmark. If your predictive algorithm is below this, there is something going seriously wrong and you should check your data."
   ]
  },
  {
   "cell_type": "code",
   "execution_count": 28,
   "metadata": {},
   "outputs": [],
   "source": [
    "import statsmodels.api as sm\n",
    "from sklearn.linear_model import LinearRegression"
   ]
  },
  {
   "cell_type": "code",
   "execution_count": 29,
   "metadata": {},
   "outputs": [
    {
     "data": {
      "image/png": "[encoded data removed]",
      "text/plain": [
       "<Figure size 864x576 with 1 Axes>"
      ]
     },
     "metadata": {},
     "output_type": "display_data"
    }
   ],
   "source": [
    "X = data['Item_MRP']\n",
    "y = data['Item_Outlet_Sales']\n",
    "plt.scatter(X,y)\n",
    "plt.show()"
   ]
  },
  {
   "cell_type": "code",
   "execution_count": 30,
   "metadata": {},
   "outputs": [
    {
     "name": "stdout",
     "output_type": "stream",
     "text": [
      "                                 OLS Regression Results                                \n",
      "=======================================================================================\n",
      "Dep. Variable:      Item_Outlet_Sales   R-squared (uncentered):                   0.743\n",
      "Model:                            OLS   Adj. R-squared (uncentered):              0.743\n",
      "Method:                 Least Squares   F-statistic:                          2.459e+04\n",
      "Date:                Mon, 12 Oct 2020   Prob (F-statistic):                        0.00\n",
      "Time:                        22:36:50   Log-Likelihood:                         -73866.\n",
      "No. Observations:                8523   AIC:                                  1.477e+05\n",
      "Df Residuals:                    8522   BIC:                                  1.477e+05\n",
      "Df Model:                           1                                                  \n",
      "Covariance Type:            nonrobust                                                  \n",
      "==============================================================================\n",
      "                 coef    std err          t      P>|t|      [0.025      0.975]\n",
      "------------------------------------------------------------------------------\n",
      "Item_MRP      15.4843      0.099    156.821      0.000      15.291      15.678\n",
      "==============================================================================\n",
      "Omnibus:                      761.517   Durbin-Watson:                   1.988\n",
      "Prob(Omnibus):                  0.000   Jarque-Bera (JB):             1639.186\n",
      "Skew:                           0.572   Prob(JB):                         0.00\n",
      "Kurtosis:                       4.818   Cond. No.                         1.00\n",
      "==============================================================================\n",
      "\n",
      "Warnings:\n",
      "[1] Standard Errors assume that the covariance matrix of the errors is correctly specified.\n"
     ]
    }
   ],
   "source": [
    "model = sm.OLS(y, X).fit()\n",
    "predictions = model.predict(X)\n",
    "print_model = model.summary()\n",
    "print(print_model)"
   ]
  },
  {
   "cell_type": "markdown",
   "metadata": {},
   "source": [
    "## Task\n",
    "Split your data in 80% train set and 20% test set."
   ]
  },
  {
   "cell_type": "code",
   "execution_count": 31,
   "metadata": {},
   "outputs": [],
   "source": [
    "X = data_reg.drop(['Item_Outlet_Sales'], axis=1)\n",
    "y = data_reg['Item_Outlet_Sales'].values.reshape(-1,1)\n",
    "import sklearn.model_selection as model_selection\n",
    "\n",
    "X_train, X_test, y_train, y_test = model_selection.train_test_split(X, y, \n",
    "train_size=0.80,test_size=0.20, random_state=101)"
   ]
  },
  {
   "cell_type": "markdown",
   "metadata": {},
   "source": [
    "## Task\n",
    "Use grid_search to find the best value of parameter `alpha` for Ridge and Lasso regressions from `sklearn`."
   ]
  },
  {
   "cell_type": "markdown",
   "metadata": {},
   "source": [
    "## Ridge regression"
   ]
  },
  {
   "cell_type": "code",
   "execution_count": 32,
   "metadata": {},
   "outputs": [],
   "source": [
    "from sklearn.linear_model import LinearRegression\n",
    "from sklearn.model_selection import cross_val_score"
   ]
  },
  {
   "cell_type": "code",
   "execution_count": 33,
   "metadata": {},
   "outputs": [],
   "source": [
    "lin_reg = LinearRegression()\n",
    "MSEs = cross_val_score(lin_reg,X_train,y_train,cv=5)"
   ]
  },
  {
   "cell_type": "code",
   "execution_count": 34,
   "metadata": {},
   "outputs": [
    {
     "data": {
      "text/plain": [
       "0.6835078133395103"
      ]
     },
     "execution_count": 34,
     "metadata": {},
     "output_type": "execute_result"
    }
   ],
   "source": [
    "mean_MSE = np.mean(MSEs)\n",
    "mean_MSE"
   ]
  },
  {
   "cell_type": "code",
   "execution_count": 59,
   "metadata": {},
   "outputs": [],
   "source": [
    "from sklearn.linear_model import Ridge\n",
    "from sklearn.model_selection import GridSearchCV"
   ]
  },
  {
   "cell_type": "code",
   "execution_count": 60,
   "metadata": {},
   "outputs": [],
   "source": [
    "ridge = Ridge()\n",
    "parameters = {'alpha':[1e-15, 1e-10, 1e-8, 1e-4, 1e-3,1e-2, 1, 5, 10, 20,100,250,500]}"
   ]
  },
  {
   "cell_type": "code",
   "execution_count": 61,
   "metadata": {},
   "outputs": [],
   "source": [
    "ridge_regression = GridSearchCV(ridge,parameters)"
   ]
  },
  {
   "cell_type": "code",
   "execution_count": 62,
   "metadata": {},
   "outputs": [
    {
     "data": {
      "text/plain": [
       "GridSearchCV(estimator=Ridge(),\n",
       "             param_grid={'alpha': [1e-15, 1e-10, 1e-08, 0.0001, 0.001, 0.01, 1,\n",
       "                                   5, 10, 20, 100, 250, 500]})"
      ]
     },
     "execution_count": 62,
     "metadata": {},
     "output_type": "execute_result"
    }
   ],
   "source": [
    "ridge_regression.fit(X_train,y_train)"
   ]
  },
  {
   "cell_type": "code",
   "execution_count": 63,
   "metadata": {},
   "outputs": [
    {
     "data": {
      "text/plain": [
       "{'alpha': 1e-15}"
      ]
     },
     "execution_count": 63,
     "metadata": {},
     "output_type": "execute_result"
    }
   ],
   "source": [
    "ridge_regression.best_params_"
   ]
  },
  {
   "cell_type": "code",
   "execution_count": 64,
   "metadata": {},
   "outputs": [
    {
     "data": {
      "text/plain": [
       "0.6835078133395046"
      ]
     },
     "execution_count": 64,
     "metadata": {},
     "output_type": "execute_result"
    }
   ],
   "source": [
    "ridge_regression.best_score_"
   ]
  },
  {
   "cell_type": "markdown",
   "metadata": {},
   "source": [
    "## Lasso regression"
   ]
  },
  {
   "cell_type": "code",
   "execution_count": 41,
   "metadata": {},
   "outputs": [],
   "source": [
    "from sklearn.linear_model import Lasso"
   ]
  },
  {
   "cell_type": "code",
   "execution_count": 55,
   "metadata": {},
   "outputs": [],
   "source": [
    "parameters = {'alpha':[1e-15, 1e-10, 1e-8, 1e-4, 1e-3,1e-2, 1, 5, 10, 20,100,250,500,1000]}\n",
    "lasso = Lasso()"
   ]
  },
  {
   "cell_type": "code",
   "execution_count": 56,
   "metadata": {},
   "outputs": [
    {
     "name": "stderr",
     "output_type": "stream",
     "text": [
      "/home/henri/miniconda2/envs/lighthouse-lab-course/lib/python3.8/site-packages/sklearn/linear_model/_coordinate_descent.py:529: ConvergenceWarning: Objective did not converge. You might want to increase the number of iterations. Duality gap: 5095081022.590756, tolerance: 3285743.028998429\n",
      "  model = cd_fast.enet_coordinate_descent(\n",
      "/home/henri/miniconda2/envs/lighthouse-lab-course/lib/python3.8/site-packages/sklearn/linear_model/_coordinate_descent.py:529: ConvergenceWarning: Objective did not converge. You might want to increase the number of iterations. Duality gap: 5186207302.05737, tolerance: 3283193.7883527256\n",
      "  model = cd_fast.enet_coordinate_descent(\n",
      "/home/henri/miniconda2/envs/lighthouse-lab-course/lib/python3.8/site-packages/sklearn/linear_model/_coordinate_descent.py:529: ConvergenceWarning: Objective did not converge. You might want to increase the number of iterations. Duality gap: 5235276958.77319, tolerance: 3273968.332077835\n",
      "  model = cd_fast.enet_coordinate_descent(\n",
      "/home/henri/miniconda2/envs/lighthouse-lab-course/lib/python3.8/site-packages/sklearn/linear_model/_coordinate_descent.py:529: ConvergenceWarning: Objective did not converge. You might want to increase the number of iterations. Duality gap: 5318751308.227448, tolerance: 3353919.2218985255\n",
      "  model = cd_fast.enet_coordinate_descent(\n",
      "/home/henri/miniconda2/envs/lighthouse-lab-course/lib/python3.8/site-packages/sklearn/linear_model/_coordinate_descent.py:529: ConvergenceWarning: Objective did not converge. You might want to increase the number of iterations. Duality gap: 5222324266.420433, tolerance: 3299308.431191008\n",
      "  model = cd_fast.enet_coordinate_descent(\n",
      "/home/henri/miniconda2/envs/lighthouse-lab-course/lib/python3.8/site-packages/sklearn/linear_model/_coordinate_descent.py:529: ConvergenceWarning: Objective did not converge. You might want to increase the number of iterations. Duality gap: 6515614641.338321, tolerance: 4124102.743364047\n",
      "  model = cd_fast.enet_coordinate_descent(\n"
     ]
    },
    {
     "data": {
      "text/plain": [
       "GridSearchCV(estimator=Lasso(),\n",
       "             param_grid={'alpha': [1e-15, 1e-10, 1e-08, 0.0001, 0.001, 0.01, 1,\n",
       "                                   5, 10, 20, 100, 250, 500, 1000]})"
      ]
     },
     "execution_count": 56,
     "metadata": {},
     "output_type": "execute_result"
    }
   ],
   "source": [
    "lasso_regression = GridSearchCV(lasso,parameters)\n",
    "lasso_regression.fit(X_train,y_train)"
   ]
  },
  {
   "cell_type": "code",
   "execution_count": 57,
   "metadata": {},
   "outputs": [
    {
     "data": {
      "text/plain": [
       "{'alpha': 1e-15}"
      ]
     },
     "execution_count": 57,
     "metadata": {},
     "output_type": "execute_result"
    }
   ],
   "source": [
    "lasso_regression.best_params_"
   ]
  },
  {
   "cell_type": "code",
   "execution_count": 58,
   "metadata": {},
   "outputs": [
    {
     "data": {
      "text/plain": [
       "0.6835078133395082"
      ]
     },
     "execution_count": 58,
     "metadata": {},
     "output_type": "execute_result"
    }
   ],
   "source": [
    "lasso_regression.best_score_"
   ]
  },
  {
   "cell_type": "markdown",
   "metadata": {},
   "source": [
    "## Task\n",
    "Using the model from grid_search, predict the values in the test set and compare against the benchmark."
   ]
  },
  {
   "cell_type": "markdown",
   "metadata": {},
   "source": [
    "## Ridge"
   ]
  },
  {
   "cell_type": "code",
   "execution_count": 46,
   "metadata": {},
   "outputs": [],
   "source": [
    "from sklearn.metrics import mean_squared_error"
   ]
  },
  {
   "cell_type": "code",
   "execution_count": 65,
   "metadata": {},
   "outputs": [
    {
     "data": {
      "text/plain": [
       "array([[6.91784408e-11],\n",
       "       [1.14653176e-10],\n",
       "       [9.05431040e+02],\n",
       "       ...,\n",
       "       [3.64547915e+03],\n",
       "       [1.83844996e+03],\n",
       "       [3.49265953e+03]])"
      ]
     },
     "execution_count": 65,
     "metadata": {},
     "output_type": "execute_result"
    }
   ],
   "source": [
    "parameters = {'alpha':1e-15}\n",
    "y_pred = ridge_regression.predict(X_test)\n",
    "y_pred"
   ]
  },
  {
   "cell_type": "code",
   "execution_count": 66,
   "metadata": {},
   "outputs": [
    {
     "data": {
      "text/plain": [
       "662213.5754844059"
      ]
     },
     "execution_count": 66,
     "metadata": {},
     "output_type": "execute_result"
    }
   ],
   "source": [
    "mean_squared_error(y_test,y_pred)"
   ]
  },
  {
   "cell_type": "code",
   "execution_count": 67,
   "metadata": {},
   "outputs": [
    {
     "data": {
      "text/plain": [
       "{'alpha': 1e-15}"
      ]
     },
     "execution_count": 67,
     "metadata": {},
     "output_type": "execute_result"
    }
   ],
   "source": [
    "ridge_regression.best_params_"
   ]
  },
  {
   "cell_type": "code",
   "execution_count": 68,
   "metadata": {},
   "outputs": [
    {
     "data": {
      "text/plain": [
       "0.6835078133395046"
      ]
     },
     "execution_count": 68,
     "metadata": {},
     "output_type": "execute_result"
    }
   ],
   "source": [
    "ridge_regression.best_score_"
   ]
  },
  {
   "cell_type": "markdown",
   "metadata": {},
   "source": [
    "## Lasso"
   ]
  },
  {
   "cell_type": "code",
   "execution_count": 72,
   "metadata": {},
   "outputs": [],
   "source": [
    "{'alpha': 1e-15}\n",
    "y_pred = lasso_regression.predict(X_test)"
   ]
  },
  {
   "cell_type": "code",
   "execution_count": 73,
   "metadata": {},
   "outputs": [
    {
     "data": {
      "text/plain": [
       "662207.9961237747"
      ]
     },
     "execution_count": 73,
     "metadata": {},
     "output_type": "execute_result"
    }
   ],
   "source": [
    "mean_squared_error(y_test,y_pred)"
   ]
  },
  {
   "cell_type": "code",
   "execution_count": 69,
   "metadata": {},
   "outputs": [
    {
     "data": {
      "text/plain": [
       "GridSearchCV(estimator=Lasso(),\n",
       "             param_grid={'alpha': [1e-15, 1e-10, 1e-08, 0.0001, 0.001, 0.01, 1,\n",
       "                                   5, 10, 20, 100, 250, 500, 1000]})"
      ]
     },
     "execution_count": 69,
     "metadata": {},
     "output_type": "execute_result"
    }
   ],
   "source": [
    "\n",
    "lasso_regression.fit(X_test,y_pred)"
   ]
  },
  {
   "cell_type": "code",
   "execution_count": 70,
   "metadata": {},
   "outputs": [
    {
     "data": {
      "text/plain": [
       "{'alpha': 1e-15}"
      ]
     },
     "execution_count": 70,
     "metadata": {},
     "output_type": "execute_result"
    }
   ],
   "source": [
    "lasso_regression.best_params_"
   ]
  },
  {
   "cell_type": "code",
   "execution_count": 71,
   "metadata": {},
   "outputs": [
    {
     "data": {
      "text/plain": [
       "0.9999997687706303"
      ]
     },
     "execution_count": 71,
     "metadata": {},
     "output_type": "execute_result"
    }
   ],
   "source": [
    "lasso_regression.best_score_"
   ]
  },
  {
   "cell_type": "code",
   "execution_count": null,
   "metadata": {},
   "outputs": [],
   "source": []
  }
 ],
 "metadata": {
  "anaconda-cloud": {},
  "kernelspec": {
   "display_name": "Python 3",
   "language": "python",
   "name": "python3"
  },
  "language_info": {
   "codemirror_mode": {
    "name": "ipython",
    "version": 3
   },
   "file_extension": ".py",
   "mimetype": "text/x-python",
   "name": "python",
   "nbconvert_exporter": "python",
   "pygments_lexer": "ipython3",
   "version": "3.8.2"
  }
 },
 "nbformat": 4,
 "nbformat_minor": 4
}
