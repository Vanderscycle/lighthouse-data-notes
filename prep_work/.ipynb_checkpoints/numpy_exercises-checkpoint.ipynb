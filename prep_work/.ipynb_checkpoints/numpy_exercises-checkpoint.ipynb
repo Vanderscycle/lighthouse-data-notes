{
 "cells": [
  {
   "cell_type": "markdown",
   "metadata": {},
   "source": [
    "# NumPy exercises\n",
    "\n",
    "We are going to practice NumPy skills and basic syntax.\n",
    "\n",
    "We put here also some examples that were not in the tutorial on purpose. Try to use google and offial NumPy documentation to solve these exercises."
   ]
  },
  {
   "cell_type": "markdown",
   "metadata": {},
   "source": [
    "#### 1. Import the numpy package under the name `np` (★☆☆)"
   ]
  },
  {
   "cell_type": "code",
   "execution_count": 2,
   "metadata": {},
   "outputs": [],
   "source": [
    "import numpy as np\n",
    "import math\n",
    "import random"
   ]
  },
  {
   "cell_type": "markdown",
   "metadata": {},
   "source": [
    "#### 3. Create a null vector of size 10 (★☆☆)"
   ]
  },
  {
   "cell_type": "code",
   "execution_count": 9,
   "metadata": {
    "collapsed": false,
    "jupyter": {
     "outputs_hidden": false
    }
   },
   "outputs": [
    {
     "name": "stdout",
     "output_type": "stream",
     "text": [
      "[[0. 0. 0. 0. 0. 0. 0. 0. 0. 0.]]\n"
     ]
    }
   ],
   "source": [
    "null_vec = np.zeros((1,10))               \n",
    "print(null_vec)"
   ]
  },
  {
   "cell_type": "markdown",
   "metadata": {},
   "source": [
    "#### 6.  Create a null vector of size 10 but the fifth value which is 1 (★☆☆)"
   ]
  },
  {
   "cell_type": "code",
   "execution_count": 14,
   "metadata": {
    "collapsed": false,
    "jupyter": {
     "outputs_hidden": false
    }
   },
   "outputs": [
    {
     "name": "stdout",
     "output_type": "stream",
     "text": [
      "[[0. 0. 0. 0. 1. 0. 0. 0. 0. 0.]]\n"
     ]
    }
   ],
   "source": [
    "null_vec = np.zeros((1,10))\n",
    "null_vec[0,4] = 1\n",
    "print(null_vec)"
   ]
  },
  {
   "cell_type": "markdown",
   "metadata": {},
   "source": [
    "#### 7.  Create a vector with values ranging from 10 to 49 (★☆☆)"
   ]
  },
  {
   "cell_type": "code",
   "execution_count": 19,
   "metadata": {
    "collapsed": false,
    "jupyter": {
     "outputs_hidden": false
    }
   },
   "outputs": [
    {
     "name": "stdout",
     "output_type": "stream",
     "text": [
      "[[20 43 16 17 22 37 12 39 25 41]]\n"
     ]
    }
   ],
   "source": [
    "rand_ve = np.random.randint(10,49, size=(1,10))\n",
    "print(rand_ve)"
   ]
  },
  {
   "cell_type": "markdown",
   "metadata": {},
   "source": [
    "#### 8.  Reverse a vector (first element becomes last) (★☆☆)"
   ]
  },
  {
   "cell_type": "code",
   "execution_count": 34,
   "metadata": {
    "collapsed": false,
    "jupyter": {
     "outputs_hidden": false
    }
   },
   "outputs": [
    {
     "name": "stdout",
     "output_type": "stream",
     "text": [
      "[1 2 3 4 5 6]\n",
      "[6 5 4 3 2 1]\n"
     ]
    }
   ],
   "source": [
    "a = np.array([1,2,3,4,5,6])\n",
    "print(a)\n",
    "a = a[::-1]\n",
    "print(a)"
   ]
  },
  {
   "cell_type": "markdown",
   "metadata": {},
   "source": [
    "#### 9.  Create a 3x3 matrix with values ranging from 0 to 8 (★☆☆)"
   ]
  },
  {
   "cell_type": "code",
   "execution_count": 36,
   "metadata": {
    "collapsed": false,
    "jupyter": {
     "outputs_hidden": false
    }
   },
   "outputs": [
    {
     "name": "stdout",
     "output_type": "stream",
     "text": [
      "[[5 7 3]\n",
      " [4 1 3]\n",
      " [2 3 3]]\n"
     ]
    }
   ],
   "source": [
    "rand_mat = np.random.randint(0,8, size=(3,3))\n",
    "print(rand_mat)"
   ]
  },
  {
   "cell_type": "markdown",
   "metadata": {},
   "source": [
    "#### 10. Find indices of non-zero elements from \\[1,2,0,0,4,0\\] (★☆☆)"
   ]
  },
  {
   "cell_type": "code",
   "execution_count": 42,
   "metadata": {},
   "outputs": [
    {
     "name": "stdout",
     "output_type": "stream",
     "text": [
      "(array([0, 1, 4], dtype=int64),)\n"
     ]
    }
   ],
   "source": [
    "b = np.array([1,2,0,0,4,0], dtype='int16')\n",
    "res = np.where(b > 0)\n",
    "print(res)"
   ]
  },
  {
   "cell_type": "code",
   "execution_count": null,
   "metadata": {
    "collapsed": false,
    "jupyter": {
     "outputs_hidden": false
    }
   },
   "outputs": [],
   "source": []
  },
  {
   "cell_type": "markdown",
   "metadata": {},
   "source": [
    "#### 12. Create a 3x3x3 array with random values (★☆☆)"
   ]
  },
  {
   "cell_type": "code",
   "execution_count": 52,
   "metadata": {},
   "outputs": [
    {
     "name": "stdout",
     "output_type": "stream",
     "text": [
      "[[[0.91894345 0.30394039 0.49210981]\n",
      "  [0.53686798 0.80146904 0.53411885]\n",
      "  [0.67056392 0.19136714 0.15333865]]\n",
      "\n",
      " [[0.61209217 0.13981904 0.00610838]\n",
      "  [0.20108396 0.53184133 0.16977816]\n",
      "  [0.5611021  0.83666737 0.88482759]]\n",
      "\n",
      " [[0.28669106 0.57707039 0.42317379]\n",
      "  [0.83635841 0.94633405 0.57999706]\n",
      "  [0.5374382  0.20964608 0.57216986]]]\n"
     ]
    }
   ],
   "source": [
    "rand_3d = np.random.rand(3,3,3)\n",
    "print(rand_3d)"
   ]
  },
  {
   "cell_type": "markdown",
   "metadata": {},
   "source": [
    "#### 13. Create a 10x10 array with random values and find the minimum and maximum values (★☆☆)"
   ]
  },
  {
   "cell_type": "code",
   "execution_count": 77,
   "metadata": {
    "collapsed": false,
    "jupyter": {
     "outputs_hidden": false
    }
   },
   "outputs": [
    {
     "name": "stdout",
     "output_type": "stream",
     "text": [
      "[[474 770 998  21 958 804 191 586 425 587]\n",
      " [539 386 378 890  42 462  43 245 545 785]\n",
      " [662 246 479 954  39 193 757 202 855 478]\n",
      " [915 288 568 749  23 654 195 186 363 929]\n",
      " [943 454 921 609 789 512 824 742 261 518]\n",
      " [960 806 655 128 550 241 237 484 444 357]\n",
      " [445 169  32 229 359 534 634 869 106 318]\n",
      " [400  35 429 104  38 436 859  47  12 654]\n",
      " [178 503 254 427 516 944  85 237 495 156]\n",
      " [319 659 984 341 188 170 446 223 461 204]]\n",
      "Min:12 Max: 998\n"
     ]
    }
   ],
   "source": [
    "# large_mat = np.random.rand(10,10) \n",
    "large_mat = np.random.randint(0,999,size=(10,10)) #used integers for clarity\n",
    "print(large_mat)\n",
    "min_val =  np.min(large_mat)\n",
    "max_val = np.max(large_mat)\n",
    "print(f'Min:{min_val} Max: {max_val}')"
   ]
  },
  {
   "cell_type": "markdown",
   "metadata": {},
   "source": [
    "#### 14. Create a random vector of size 30 and find the mean value (★☆☆)"
   ]
  },
  {
   "cell_type": "code",
   "execution_count": 89,
   "metadata": {
    "collapsed": false,
    "jupyter": {
     "outputs_hidden": false
    }
   },
   "outputs": [
    {
     "name": "stdout",
     "output_type": "stream",
     "text": [
      "[[0.20281413 0.60766469 0.9200901  0.7656338  0.50597158 0.48811808\n",
      "  0.68786044 0.46724085 0.44024689 0.06629068 0.98429553 0.98547147\n",
      "  0.61623038 0.16254015 0.81587875 0.76113563 0.4619116  0.09497672\n",
      "  0.92366532 0.00712748 0.13819127 0.11626166 0.97772646 0.26798887\n",
      "  0.31571223 0.19492193 0.70762973 0.38298933 0.36113273 0.18477685]]\n",
      "0.4870831771987171\n"
     ]
    }
   ],
   "source": [
    "long_vec = np.random.rand(1,30)\n",
    "print(long_vec)\n",
    "stat_mean = np.mean(long_vec)\n",
    "print(stat_mean)"
   ]
  },
  {
   "cell_type": "markdown",
   "metadata": {},
   "source": [
    "#### 15. Create a 2d array with 1 on the border and 0 inside (★☆☆)"
   ]
  },
  {
   "cell_type": "code",
   "execution_count": 92,
   "metadata": {
    "collapsed": false,
    "jupyter": {
     "outputs_hidden": false
    }
   },
   "outputs": [
    {
     "name": "stdout",
     "output_type": "stream",
     "text": [
      "[[1. 1. 1. 1. 1. 1. 1. 1. 1. 1. 1. 1. 1. 1. 1. 1. 1. 1. 1. 1.]\n",
      " [1. 0. 0. 0. 0. 0. 0. 0. 0. 0. 0. 0. 0. 0. 0. 0. 0. 0. 0. 1.]\n",
      " [1. 0. 0. 0. 0. 0. 0. 0. 0. 0. 0. 0. 0. 0. 0. 0. 0. 0. 0. 1.]\n",
      " [1. 0. 0. 0. 0. 0. 0. 0. 0. 0. 0. 0. 0. 0. 0. 0. 0. 0. 0. 1.]\n",
      " [1. 0. 0. 0. 0. 0. 0. 0. 0. 0. 0. 0. 0. 0. 0. 0. 0. 0. 0. 1.]\n",
      " [1. 0. 0. 0. 0. 0. 0. 0. 0. 0. 0. 0. 0. 0. 0. 0. 0. 0. 0. 1.]\n",
      " [1. 0. 0. 0. 0. 0. 0. 0. 0. 0. 0. 0. 0. 0. 0. 0. 0. 0. 0. 1.]\n",
      " [1. 0. 0. 0. 0. 0. 0. 0. 0. 0. 0. 0. 0. 0. 0. 0. 0. 0. 0. 1.]\n",
      " [1. 0. 0. 0. 0. 0. 0. 0. 0. 0. 0. 0. 0. 0. 0. 0. 0. 0. 0. 1.]\n",
      " [1. 0. 0. 0. 0. 0. 0. 0. 0. 0. 0. 0. 0. 0. 0. 0. 0. 0. 0. 1.]\n",
      " [1. 0. 0. 0. 0. 0. 0. 0. 0. 0. 0. 0. 0. 0. 0. 0. 0. 0. 0. 1.]\n",
      " [1. 0. 0. 0. 0. 0. 0. 0. 0. 0. 0. 0. 0. 0. 0. 0. 0. 0. 0. 1.]\n",
      " [1. 0. 0. 0. 0. 0. 0. 0. 0. 0. 0. 0. 0. 0. 0. 0. 0. 0. 0. 1.]\n",
      " [1. 0. 0. 0. 0. 0. 0. 0. 0. 0. 0. 0. 0. 0. 0. 0. 0. 0. 0. 1.]\n",
      " [1. 0. 0. 0. 0. 0. 0. 0. 0. 0. 0. 0. 0. 0. 0. 0. 0. 0. 0. 1.]\n",
      " [1. 0. 0. 0. 0. 0. 0. 0. 0. 0. 0. 0. 0. 0. 0. 0. 0. 0. 0. 1.]\n",
      " [1. 0. 0. 0. 0. 0. 0. 0. 0. 0. 0. 0. 0. 0. 0. 0. 0. 0. 0. 1.]\n",
      " [1. 0. 0. 0. 0. 0. 0. 0. 0. 0. 0. 0. 0. 0. 0. 0. 0. 0. 0. 1.]\n",
      " [1. 0. 0. 0. 0. 0. 0. 0. 0. 0. 0. 0. 0. 0. 0. 0. 0. 0. 0. 1.]\n",
      " [1. 1. 1. 1. 1. 1. 1. 1. 1. 1. 1. 1. 1. 1. 1. 1. 1. 1. 1. 1.]]\n"
     ]
    }
   ],
   "source": [
    "q1_arr = np.ones((20,20))\n",
    "q1_arr[1:-1,1:-1] = 0 # the surrounding values of the array set to 1\n",
    "print(q1_arr)"
   ]
  },
  {
   "cell_type": "markdown",
   "metadata": {},
   "source": [
    "#### 16. How to add a border (filled with 0's) around an existing array? (★☆☆)"
   ]
  },
  {
   "cell_type": "code",
   "execution_count": 125,
   "metadata": {
    "collapsed": false,
    "jupyter": {
     "outputs_hidden": false
    }
   },
   "outputs": [
    {
     "name": "stdout",
     "output_type": "stream",
     "text": [
      "[[0. 0. 0. 0. 0. 0. 0. 0. 0. 0. 0. 0. 0. 0. 0. 0. 0. 0. 0. 0.]\n",
      " [0. 1. 1. 1. 1. 1. 1. 1. 1. 1. 1. 1. 1. 1. 1. 1. 1. 1. 1. 0.]\n",
      " [0. 1. 1. 1. 1. 1. 1. 1. 1. 1. 1. 1. 1. 1. 1. 1. 1. 1. 1. 0.]\n",
      " [0. 1. 1. 1. 1. 1. 1. 1. 1. 1. 1. 1. 1. 1. 1. 1. 1. 1. 1. 0.]\n",
      " [0. 1. 1. 1. 1. 1. 1. 1. 1. 1. 1. 1. 1. 1. 1. 1. 1. 1. 1. 0.]\n",
      " [0. 1. 1. 1. 1. 1. 1. 1. 1. 1. 1. 1. 1. 1. 1. 1. 1. 1. 1. 0.]\n",
      " [0. 1. 1. 1. 1. 1. 1. 1. 1. 1. 1. 1. 1. 1. 1. 1. 1. 1. 1. 0.]\n",
      " [0. 1. 1. 1. 1. 1. 1. 1. 1. 1. 1. 1. 1. 1. 1. 1. 1. 1. 1. 0.]\n",
      " [0. 1. 1. 1. 1. 1. 1. 1. 1. 1. 1. 1. 1. 1. 1. 1. 1. 1. 1. 0.]\n",
      " [0. 1. 1. 1. 1. 1. 1. 1. 1. 1. 1. 1. 1. 1. 1. 1. 1. 1. 1. 0.]\n",
      " [0. 1. 1. 1. 1. 1. 1. 1. 1. 1. 1. 1. 1. 1. 1. 1. 1. 1. 1. 0.]\n",
      " [0. 1. 1. 1. 1. 1. 1. 1. 1. 1. 1. 1. 1. 1. 1. 1. 1. 1. 1. 0.]\n",
      " [0. 1. 1. 1. 1. 1. 1. 1. 1. 1. 1. 1. 1. 1. 1. 1. 1. 1. 1. 0.]\n",
      " [0. 1. 1. 1. 1. 1. 1. 1. 1. 1. 1. 1. 1. 1. 1. 1. 1. 1. 1. 0.]\n",
      " [0. 1. 1. 1. 1. 1. 1. 1. 1. 1. 1. 1. 1. 1. 1. 1. 1. 1. 1. 0.]\n",
      " [0. 1. 1. 1. 1. 1. 1. 1. 1. 1. 1. 1. 1. 1. 1. 1. 1. 1. 1. 0.]\n",
      " [0. 1. 1. 1. 1. 1. 1. 1. 1. 1. 1. 1. 1. 1. 1. 1. 1. 1. 1. 0.]\n",
      " [0. 1. 1. 1. 1. 1. 1. 1. 1. 1. 1. 1. 1. 1. 1. 1. 1. 1. 1. 0.]\n",
      " [0. 1. 1. 1. 1. 1. 1. 1. 1. 1. 1. 1. 1. 1. 1. 1. 1. 1. 1. 0.]\n",
      " [0. 0. 0. 0. 0. 0. 0. 0. 0. 0. 0. 0. 0. 0. 0. 0. 0. 0. 0. 0.]]\n"
     ]
    }
   ],
   "source": [
    "q1_arr = np.ones((20,20))\n",
    "# I could not wrap my head around how to make it fit into a single line so I spilt in two\n",
    "q1_arr[[0,-1],] = 0 \n",
    "q1_arr[:,[0,-1]] = 0\n",
    "\n",
    "print(q1_arr)"
   ]
  },
  {
   "cell_type": "markdown",
   "metadata": {},
   "source": [
    "#### 17. What is the result of the following expression? (★☆☆)"
   ]
  },
  {
   "cell_type": "markdown",
   "metadata": {},
   "source": [
    "Python does not use the null work instead it uses NaN and None\n",
    "Nan = Not a Number (float)\n",
    "None Is an object"
   ]
  },
  {
   "cell_type": "markdown",
   "metadata": {},
   "source": [
    "```python\n",
    "0 * np.nan\n",
    "np.nan == np.nan\n",
    "np.inf > np.nan\n",
    "np.nan - np.nan\n",
    "np.nan in set([np.nan])\n",
    "0.3 == 3 * 0.1\n",
    "```"
   ]
  },
  {
   "cell_type": "code",
   "execution_count": 133,
   "metadata": {
    "collapsed": false,
    "jupyter": {
     "outputs_hidden": false
    }
   },
   "outputs": [
    {
     "data": {
      "text/plain": [
       "False"
      ]
     },
     "execution_count": 133,
     "metadata": {},
     "output_type": "execute_result"
    }
   ],
   "source": [
    "0 * np.nan # nan\n",
    "np.nan == np.nan # false\n",
    "np.inf > np.nan #false\n",
    "np.nan - np.nan # Nan\n",
    "np.nan in set([np.nan]) # True\n",
    "0.3 == 3 * 0.1 #False. is it becuase of the way computer represent floats? 1/2 + 1/4 +1/8?"
   ]
  },
  {
   "cell_type": "markdown",
   "metadata": {},
   "source": [
    "#### 18. Create a 5x5 matrix with values 1,2,3,4 just below the diagonal (★☆☆)"
   ]
  },
  {
   "cell_type": "code",
   "execution_count": 34,
   "metadata": {
    "collapsed": false,
    "jupyter": {
     "outputs_hidden": false
    }
   },
   "outputs": [
    {
     "name": "stdout",
     "output_type": "stream",
     "text": [
      "[[0. 0. 0. 0. 0.]\n",
      " [0. 0. 0. 0. 0.]\n",
      " [0. 0. 0. 0. 0.]\n",
      " [0. 0. 0. 0. 0.]\n",
      " [0. 0. 0. 0. 0.]]\n",
      "[[0. 0. 0. 0. 0.]\n",
      " [1. 0. 0. 0. 0.]\n",
      " [1. 2. 0. 0. 0.]\n",
      " [1. 2. 3. 0. 0.]\n",
      " [1. 2. 3. 4. 0.]]\n"
     ]
    }
   ],
   "source": [
    "num_arr = np.zeros((5,5))\n",
    "#num_arr = np.arange(25).reshape(5,5)\n",
    "print(num_arr)\n",
    "\n",
    "num_arr[1,0:1] = 1\n",
    "num_arr[2,0:2] = [1,2]\n",
    "num_arr[3,0:3] = [1,2,3]\n",
    "num_arr[4,0:4] = [1,2,3,4]\n",
    "# I do not know how to arrive to more elegant solution that doesn't require manual input of values\n",
    "print(num_arr)"
   ]
  },
  {
   "cell_type": "markdown",
   "metadata": {},
   "source": [
    "#### 20. Consider a (6,7,8) shape array, what is the index (x,y,z) of the 100th element?"
   ]
  },
  {
   "cell_type": "code",
   "execution_count": 14,
   "metadata": {
    "collapsed": false,
    "jupyter": {
     "outputs_hidden": false
    }
   },
   "outputs": [
    {
     "name": "stdout",
     "output_type": "stream",
     "text": [
      "[[[  0   1   2   3   4   5   6   7]\n",
      "  [  8   9  10  11  12  13  14  15]\n",
      "  [ 16  17  18  19  20  21  22  23]\n",
      "  [ 24  25  26  27  28  29  30  31]\n",
      "  [ 32  33  34  35  36  37  38  39]\n",
      "  [ 40  41  42  43  44  45  46  47]\n",
      "  [ 48  49  50  51  52  53  54  55]]\n",
      "\n",
      " [[ 56  57  58  59  60  61  62  63]\n",
      "  [ 64  65  66  67  68  69  70  71]\n",
      "  [ 72  73  74  75  76  77  78  79]\n",
      "  [ 80  81  82  83  84  85  86  87]\n",
      "  [ 88  89  90  91  92  93  94  95]\n",
      "  [ 96  97  98  99 100 101 102 103]\n",
      "  [104 105 106 107 108 109 110 111]]\n",
      "\n",
      " [[112 113 114 115 116 117 118 119]\n",
      "  [120 121 122 123 124 125 126 127]\n",
      "  [128 129 130 131 132 133 134 135]\n",
      "  [136 137 138 139 140 141 142 143]\n",
      "  [144 145 146 147 148 149 150 151]\n",
      "  [152 153 154 155 156 157 158 159]\n",
      "  [160 161 162 163 164 165 166 167]]\n",
      "\n",
      " [[168 169 170 171 172 173 174 175]\n",
      "  [176 177 178 179 180 181 182 183]\n",
      "  [184 185 186 187 188 189 190 191]\n",
      "  [192 193 194 195 196 197 198 199]\n",
      "  [200 201 202 203 204 205 206 207]\n",
      "  [208 209 210 211 212 213 214 215]\n",
      "  [216 217 218 219 220 221 222 223]]\n",
      "\n",
      " [[224 225 226 227 228 229 230 231]\n",
      "  [232 233 234 235 236 237 238 239]\n",
      "  [240 241 242 243 244 245 246 247]\n",
      "  [248 249 250 251 252 253 254 255]\n",
      "  [256 257 258 259 260 261 262 263]\n",
      "  [264 265 266 267 268 269 270 271]\n",
      "  [272 273 274 275 276 277 278 279]]\n",
      "\n",
      " [[280 281 282 283 284 285 286 287]\n",
      "  [288 289 290 291 292 293 294 295]\n",
      "  [296 297 298 299 300 301 302 303]\n",
      "  [304 305 306 307 308 309 310 311]\n",
      "  [312 313 314 315 316 317 318 319]\n",
      "  [320 321 322 323 324 325 326 327]\n",
      "  [328 329 330 331 332 333 334 335]]]\n",
      "(array([1], dtype=int64), array([5], dtype=int64), array([4], dtype=int64))\n"
     ]
    }
   ],
   "source": [
    "#a = numpy.arange(0,27,3).reshape(3,3) #cool way to futher specialize your arrange matrix np.arrange(start,stop,jump)\n",
    "large_arr =np.arange(336).reshape(6,7,8)\n",
    "print(large_arr)\n",
    "index_num = np.where(large_arr==100)\n",
    "print(index_num)"
   ]
  },
  {
   "cell_type": "markdown",
   "metadata": {},
   "source": [
    "#### 22. Normalize a 5x5 random matrix (★☆☆)"
   ]
  },
  {
   "cell_type": "code",
   "execution_count": 57,
   "metadata": {
    "collapsed": false,
    "jupyter": {
     "outputs_hidden": false
    }
   },
   "outputs": [
    {
     "name": "stdout",
     "output_type": "stream",
     "text": [
      "[[23  3  1  1  6]\n",
      " [ 8  4 13 21 14]\n",
      " [24 10  7 21 12]\n",
      " [ 3 11 11  4  4]\n",
      " [ 5  9  4 22  5]]\n",
      "-21146.0\n"
     ]
    }
   ],
   "source": [
    "mat = np.random.randint(25,size=(5,5))\n",
    "print(mat)\n",
    "det_mat = round(np.linalg.det(mat))\n",
    "print(det_mat)"
   ]
  },
  {
   "cell_type": "markdown",
   "metadata": {},
   "source": [
    "#### 25. Given a 1D array, negate all elements which are between 3 and 8, in place. (★☆☆)"
   ]
  },
  {
   "cell_type": "code",
   "execution_count": 114,
   "metadata": {
    "collapsed": false,
    "jupyter": {
     "outputs_hidden": false
    }
   },
   "outputs": [
    {
     "name": "stdout",
     "output_type": "stream",
     "text": [
      "[[5 1 5 3 0 1 0 5 8 5 0 5 5 8 3 7 5 2 1 3]]\n",
      "[[-5  1 -5  3  0  1  0 -5  8 -5  0 -5 -5  8  3 -7 -5  2  1  3]]\n"
     ]
    }
   ],
   "source": [
    "vect = np.random.randint(10,size=(1,20))\n",
    "print(vect)\n",
    "vect2 = np.where(((vect>3)&(vect<8)),-vect,vect) # this took me a long time to figure out\n",
    "#np.where(condition,if true,if false)\n",
    "#vect[(vect>3)&(vect<8)] = -1\n",
    "print(vect2)"
   ]
  },
  {
   "cell_type": "markdown",
   "metadata": {},
   "source": [
    "#### 29. How to round away from zero a float array ? (★☆☆)"
   ]
  },
  {
   "cell_type": "code",
   "execution_count": 152,
   "metadata": {
    "collapsed": false,
    "jupyter": {
     "outputs_hidden": false
    }
   },
   "outputs": [
    {
     "name": "stdout",
     "output_type": "stream",
     "text": [
      "[[ 1.000e-01  2.000e-01 -1.000e-01]\n",
      " [-1.000e-05  1.000e-09 -9.999e-01]]\n",
      "[[ 1.  1. -1.]\n",
      " [-1.  1. -1.]]\n"
     ]
    }
   ],
   "source": [
    "# assuming the given values are between 1 and -1\n",
    "#r_mat = np.random.rand(4,2) # not sure how to have random ints between 1 and -1 generated\n",
    "r_mat = np.array([[.1,.2,-0.1],[-.00001,.000000001,-.9999]])\n",
    "print(r_mat)\n",
    "# 2 line solution\n",
    "#r_mat = np.where(((r_mat>0)&(r_mat<1)),np.ceil(r_mat),r_mat)\n",
    "#r_mat = np.where(((r_mat<0)&(r_mat>-1)),np.floor(r_mat),r_mat)\n",
    "#1 line solution\n",
    "r_mat = np.where(r_mat>0,np.ceil(r_mat),np.floor(r_mat))\n",
    "print(r_mat)"
   ]
  },
  {
   "cell_type": "markdown",
   "metadata": {},
   "source": [
    "#### 30. How to find common values between two arrays? (★☆☆)"
   ]
  },
  {
   "cell_type": "code",
   "execution_count": 180,
   "metadata": {
    "collapsed": false,
    "jupyter": {
     "outputs_hidden": false
    }
   },
   "outputs": [
    {
     "name": "stdout",
     "output_type": "stream",
     "text": [
      "[[6 3 7 9 3]\n",
      " [3 4 8 1 0]\n",
      " [2 6 2 1 2]\n",
      " [9 4 1 5 3]\n",
      " [0 8 9 1 6]] \n",
      "\n",
      " [[5 2 6 5 7]\n",
      " [1 3 3 8 1]\n",
      " [3 5 0 8 4]\n",
      " [8 1 8 8 7]\n",
      " [4 9 1 0 4]]\n",
      "You need to match the row list with the column list to find the common values e.g [y1,y2,..yn] [x1,x2,..xn]\n",
      "(array([], dtype=int64), array([], dtype=int64))\n"
     ]
    }
   ],
   "source": [
    "# test array \n",
    "#a = np.array([[1,2,3],[4,5,6]])\n",
    "#b = np.array([[6,7,3],[11,45,6]])\n",
    "a = np.random.randint(10,size=(5,5))\n",
    "b = np.random.randint(10,size=(5,5))\n",
    "print(a,'\\n\\n',b)\n",
    "c = np.where(a == b)\n",
    "print('You need to match the row list with the column list to find the common values e.g [y1,y2,..yn] [x1,x2,..xn]')\n",
    "print(c)\n"
   ]
  },
  {
   "cell_type": "markdown",
   "metadata": {},
   "source": [
    "#### 32. Is the following expressions true? (★☆☆)"
   ]
  },
  {
   "cell_type": "markdown",
   "metadata": {},
   "source": [
    "```python\n",
    "np.sqrt(-1) == np.emath.sqrt(-1)\n",
    "```"
   ]
  },
  {
   "cell_type": "code",
   "execution_count": 178,
   "metadata": {
    "collapsed": false,
    "jupyter": {
     "outputs_hidden": false
    }
   },
   "outputs": [
    {
     "data": {
      "text/plain": [
       "1j"
      ]
     },
     "execution_count": 178,
     "metadata": {},
     "output_type": "execute_result"
    }
   ],
   "source": [
    "# sqrt(-1) is i so suspect True\n",
    "#np.sqrt(-1) # returns an invalid value error.\n",
    "np.emath.sqrt(-1) # returns imaginary number 1j"
   ]
  },
  {
   "cell_type": "markdown",
   "metadata": {},
   "source": [
    "#### 38. Consider a generator function that generates 10 integers and use it to build an array (★☆☆)"
   ]
  },
  {
   "cell_type": "code",
   "execution_count": 188,
   "metadata": {
    "collapsed": false,
    "jupyter": {
     "outputs_hidden": false
    }
   },
   "outputs": [
    {
     "name": "stdout",
     "output_type": "stream",
     "text": [
      "<generator object gen_ar at 0x0000023601AD0350>\n"
     ]
    },
    {
     "data": {
      "text/plain": [
       "array([0, 1, 2, 3, 4, 5, 6, 7, 8, 9])"
      ]
     },
     "execution_count": 188,
     "metadata": {},
     "output_type": "execute_result"
    }
   ],
   "source": [
    "#Answer found: https://python-decompiler.com/article/2008-12/how-do-i-build-a-numpy-array-from-a-generator\n",
    "# I never used or created a generator function. \n",
    "# I do understand that they reduce the memory usage and processing time for especially large arrays\n",
    "def gen_ar():\n",
    "    for item in range(10):\n",
    "        yield item\n",
    "print(gen_ar()) # you can have a generator in memory and not have it working.(e.g. there is a fault in your generator)\n",
    "np.array(list(gen_ar()))"
   ]
  },
  {
   "cell_type": "markdown",
   "metadata": {},
   "source": [
    "#### 39. Create a vector of size 10 with values ranging from 0 to 1, both excluded (★★☆)"
   ]
  },
  {
   "cell_type": "code",
   "execution_count": 338,
   "metadata": {
    "collapsed": false,
    "jupyter": {
     "outputs_hidden": false
    }
   },
   "outputs": [
    {
     "name": "stdout",
     "output_type": "stream",
     "text": [
      "[[0.36824153 0.03642119 0.58042315 0.18266895 0.21333963 0.46305043\n",
      "  0.37306765 0.63642167 0.79911796 0.88217741]]\n"
     ]
    }
   ],
   "source": [
    "def rand_vec_f():    \n",
    "    rand_v = np.random.rand(1,10) \n",
    "    if (np.any((rand_v >0 ) & (rand_v <1 ))) != True:\n",
    "        print('error, random.rand() generator either 0|1')\n",
    "    print(rand_v)\n",
    "    return\n",
    "rand_vec_f()\n"
   ]
  },
  {
   "cell_type": "markdown",
   "metadata": {},
   "source": [
    "#### 40. Create a random vector of size 10 and sort it (★★☆)"
   ]
  },
  {
   "cell_type": "code",
   "execution_count": 348,
   "metadata": {
    "collapsed": false,
    "jupyter": {
     "outputs_hidden": false
    }
   },
   "outputs": [
    {
     "name": "stdout",
     "output_type": "stream",
     "text": [
      "random array:\n",
      " [[66  9 50 43 44 84 67 78 16 56]]\n",
      "sorted array:\n",
      " [[ 9 16 43 44 50 56 66 67 78 84]]\n"
     ]
    }
   ],
   "source": [
    "rand_v = np.random.randint(99,size=(1,10))\n",
    "print('random array:\\n', rand_v)\n",
    "sorted_v = np.sort(rand_v)\n",
    "print('sorted array:\\n', sorted_v)"
   ]
  },
  {
   "cell_type": "markdown",
   "metadata": {},
   "source": [
    "#### 42. Consider two random array A and B, check if they are equal (★★☆)"
   ]
  },
  {
   "cell_type": "code",
   "execution_count": 360,
   "metadata": {
    "collapsed": false,
    "jupyter": {
     "outputs_hidden": false
    }
   },
   "outputs": [
    {
     "name": "stdout",
     "output_type": "stream",
     "text": [
      "random array A:\n",
      "[[59 16 77]\n",
      " [36 53 18]\n",
      " [81 60 69]]\n",
      "random array B:\n",
      "[[ 8 26 77]\n",
      " [85  0 47]\n",
      " [12  5 69]]\n"
     ]
    },
    {
     "data": {
      "text/plain": [
       "array([[False, False,  True],\n",
       "       [False, False, False],\n",
       "       [False, False,  True]])"
      ]
     },
     "execution_count": 360,
     "metadata": {},
     "output_type": "execute_result"
    }
   ],
   "source": [
    "r_a = np.random.randint(99,size=(3,3))\n",
    "r_b = np.random.randint(99,size=(3,3))\n",
    "print(f'random array A:\\n{r_a}\\nrandom array B:\\n{r_b}')\n",
    "r_a == r_b\n"
   ]
  },
  {
   "cell_type": "markdown",
   "metadata": {},
   "source": [
    "#### 45. Create random vector of size 10 and replace the maximum value by 0 (★★☆)"
   ]
  },
  {
   "cell_type": "code",
   "execution_count": 368,
   "metadata": {
    "collapsed": false,
    "jupyter": {
     "outputs_hidden": false
    }
   },
   "outputs": [
    {
     "name": "stdout",
     "output_type": "stream",
     "text": [
      "[[78 81 42 75 88 92 48 37 38 60]]\n",
      "the max is:92\n",
      "[[78 81 42 75 88  0 48 37 38 60]]\n"
     ]
    }
   ],
   "source": [
    "r_v = np.random.randint(99,size=(1,10))\n",
    "print(r_v)\n",
    "print(f'the max is:{np.max(r_v)}')\n",
    "r_v[r_v == np.max(r_v)] = 0\n",
    "print(r_v)"
   ]
  },
  {
   "cell_type": "markdown",
   "metadata": {},
   "source": [
    "#### 50. How to find the closest value (to a given scalar) in a vector? (★★☆)"
   ]
  },
  {
   "cell_type": "code",
   "execution_count": 426,
   "metadata": {
    "collapsed": false,
    "jupyter": {
     "outputs_hidden": false
    }
   },
   "outputs": [
    {
     "name": "stdout",
     "output_type": "stream",
     "text": [
      "[[47 95 64 86 53 13  9 80 18 80]]\n"
     ]
    },
    {
     "data": {
      "text/plain": [
       "197.25364381932212"
      ]
     },
     "execution_count": 426,
     "metadata": {},
     "output_type": "execute_result"
    }
   ],
   "source": [
    "#essentially a vector has a certain magnitude and direction eg (7 +.3j)\n",
    "#scalars only have magnitude\n",
    "# https://numpy.org/doc/stable/reference/generated/numpy.linalg.norm.html\n",
    "r_v = np.random.randint(99,size=(1,10))\n",
    "print(r_v)\n",
    "np.linalg.norm(r_v,)\n"
   ]
  },
  {
   "cell_type": "markdown",
   "metadata": {},
   "source": [
    "#### 53. How to convert a float (32 bits) array into an integer (32 bits) in place?"
   ]
  },
  {
   "cell_type": "code",
   "execution_count": 438,
   "metadata": {
    "collapsed": false,
    "jupyter": {
     "outputs_hidden": false
    }
   },
   "outputs": [
    {
     "name": "stdout",
     "output_type": "stream",
     "text": [
      "[[ 1.01    2.141   3.25  ]\n",
      " [ 7.123  98.13    0.1231]]\n",
      "float32\n",
      "[[ 1  2  3]\n",
      " [ 7 98  0]]\n",
      "int32\n"
     ]
    }
   ],
   "source": [
    "# https://stackoverflow.com/questions/10873824/how-to-convert-2d-float-numpy-array-to-2d-int-numpy-array\n",
    "\n",
    "a = np.array([[1.01,2.141,3.25],[7.123,98.13,0.1231]], dtype='float32')\n",
    "print(a)\n",
    "print(a.dtype)\n",
    "a = a.astype(int)\n",
    "print(a)\n",
    "print(a.dtype)"
   ]
  },
  {
   "cell_type": "markdown",
   "metadata": {},
   "source": [
    "#### 59. How to sort an array by the nth column? (★★☆)"
   ]
  },
  {
   "cell_type": "code",
   "execution_count": 442,
   "metadata": {
    "collapsed": false,
    "jupyter": {
     "outputs_hidden": false
    }
   },
   "outputs": [
    {
     "name": "stdout",
     "output_type": "stream",
     "text": [
      "[[80 22 10 47]\n",
      " [30 59 92 92]\n",
      " [68 98 38  9]\n",
      " [93 62 96 32]]\n"
     ]
    }
   ],
   "source": [
    "# https://stackoverflow.com/questions/10873824/how-to-convert-2d-float-numpy-array-to-2d-int-numpy-array\n",
    "# The answer can be found there but I do not comprehend it yet\n"
   ]
  },
  {
   "cell_type": "markdown",
   "metadata": {},
   "source": [
    "#### 60. How to tell if a given 2D array has null columns? (★★☆)"
   ]
  },
  {
   "cell_type": "code",
   "execution_count": 470,
   "metadata": {
    "collapsed": false,
    "jupyter": {
     "outputs_hidden": false
    }
   },
   "outputs": [
    {
     "name": "stdout",
     "output_type": "stream",
     "text": [
      "a:[[nan nan nan]\n",
      " [nan nan nan]\n",
      " [nan nan nan]]\n",
      "b\n",
      ":[[1.01   2.141  3.25  ]\n",
      " [7.123     nan 0.1231]]\n",
      "c\n",
      ":[[ 4 21  6 45]\n",
      " [49 35 86 75]]\n",
      "\n",
      "isNaN.any()?\n",
      "a:True\n",
      "b\n",
      ":True\n",
      "c\n",
      ":False\n",
      "\n",
      "isNaN.all()?\n",
      "a:True\n",
      "b\n",
      ":False\n",
      "c\n",
      ":False\n",
      "\n"
     ]
    }
   ],
   "source": [
    "c = r_v = np.random.randint(99,size=(2,4))\n",
    "b = np.array([[1.01,2.141,3.25],[7.123,np.NaN,0.1231]])\n",
    "#NaN is a weird concept to use\n",
    "a = np.empty((3,3))\n",
    "a[:] = np.NaN\n",
    "print(f'a:{a}\\nb\\n:{b}\\nc\\n:{c}\\n')\n",
    "print(f'isNaN.any()?\\na:{np.isnan(a).any()}\\nb\\n:{np.isnan(b).any()}\\nc\\n:{np.isnan(c).any()}\\n')\n",
    "print(f'isNaN.all()?\\na:{np.isnan(a).all()}\\nb\\n:{np.isnan(b).all()}\\nc\\n:{np.isnan(c).all()}\\n')\n",
    "#also using .isnan() is much faster than iterating the array"
   ]
  },
  {
   "cell_type": "markdown",
   "metadata": {},
   "source": [
    "#### 70. Consider the vector \\[1, 2, 3, 4, 5\\], how to build a new vector with 3 consecutive zeros interleaved between each value? (★★★)"
   ]
  },
  {
   "cell_type": "code",
   "execution_count": 4,
   "metadata": {
    "collapsed": false,
    "jupyter": {
     "outputs_hidden": false
    }
   },
   "outputs": [],
   "source": [
    "# Not finished\n",
    "v = np.array([1,2,3,4,5])\n",
    "b = [i for i in v ]"
   ]
  },
  {
   "cell_type": "markdown",
   "metadata": {},
   "source": [
    "#### 72. How to swap two rows of an array? (★★★)"
   ]
  },
  {
   "cell_type": "code",
   "execution_count": 494,
   "metadata": {
    "collapsed": false,
    "jupyter": {
     "outputs_hidden": false
    }
   },
   "outputs": [
    {
     "name": "stdout",
     "output_type": "stream",
     "text": [
      "before:\n",
      "[[0 1 2]\n",
      " [3 4 5]\n",
      " [6 7 8]]\n",
      "[0 1 2]\n",
      "after:\n",
      "[[6 7 8]\n",
      " [3 4 5]\n",
      " [0 1 2]]\n"
     ]
    }
   ],
   "source": [
    "#swapping the first and last row in this array\n",
    "# arrays uses pointers so it is important to use a copy when making changes.\n",
    "a = np.arange(9).reshape(3,3)\n",
    "\n",
    "b = a.copy()\n",
    "print(f'before:\\n{a}')\n",
    "rt = a[0]\n",
    "\n",
    "b[0] = b[-1]\n",
    "print(rt)\n",
    "b[-1] = rt\n",
    "a = b\n",
    "print(f'after:\\n{a}')\n",
    "del b #clear memory"
   ]
  },
  {
   "cell_type": "markdown",
   "metadata": {},
   "source": [
    "#### 77. How to negate a boolean, or to change the sign of a float inplace? (★★★)"
   ]
  },
  {
   "cell_type": "markdown",
   "metadata": {
    "jupyter": {
     "outputs_hidden": false
    }
   },
   "source": [
    "a:\n",
    "by using Not or the inverse of the boolean condition\n",
    "e.g.\n",
    "\n",
    "<=  / >\n",
    "in  / not in\n",
    "b: I do not understant what we mean by float inplace."
   ]
  },
  {
   "cell_type": "markdown",
   "metadata": {},
   "source": [
    "#### 83. How to find the most frequent value in an array?"
   ]
  },
  {
   "cell_type": "code",
   "execution_count": 524,
   "metadata": {
    "collapsed": false,
    "jupyter": {
     "outputs_hidden": false
    }
   },
   "outputs": [
    {
     "name": "stdout",
     "output_type": "stream",
     "text": [
      "[ 1 15  2  6 12 11  1  1  2  3  5  6  7  7  7  7  7]\n",
      "Most found value in a vector: 7\n",
      "[[4 4 1 9 7]\n",
      " [8 5 1 5 4]\n",
      " [7 6 6 8 0]\n",
      " [3 0 7 3 0]\n",
      " [5 6 6 1 3]]\n",
      "Most common value un the array: 6\n"
     ]
    }
   ],
   "source": [
    "#if there are only ints and no negatives we can use np.bincount\n",
    "a = np.array([1,15,2,6,12,11,1,1,2,3,5,6,7,7,7,7,7])\n",
    "print(a)\n",
    "count = np.bincount(a)\n",
    "print(f'Most found value in a vector: {np.argmax(count)}')\n",
    "# for n order arrays we can flatline the array into a \"vector\"\n",
    "b = np.random.randint(10,size=(5,5))\n",
    "print(b)\n",
    "count = np.argmax(np.bincount(b.flat))\n",
    "print(f'Most common value un the array: {count}')"
   ]
  },
  {
   "cell_type": "markdown",
   "metadata": {},
   "source": [
    "#### 89. How to get the n largest values of an array (★★★)"
   ]
  },
  {
   "cell_type": "code",
   "execution_count": 553,
   "metadata": {
    "collapsed": false,
    "jupyter": {
     "outputs_hidden": false
    }
   },
   "outputs": [
    {
     "name": "stdout",
     "output_type": "stream",
     "text": [
      "[[2 0 4 5 3]\n",
      " [5 5 4 4 1]\n",
      " [5 4 5 1 2]\n",
      " [5 4 4 2 4]\n",
      " [3 5 1 3 2]] \n",
      "\n",
      "[15 12]\n",
      "[[[5 4 4 2 4]\n",
      "  [5 5 4 4 1]\n",
      "  [5 4 5 1 2]\n",
      "  [3 5 1 3 2]\n",
      "  [2 0 4 5 3]]\n",
      "\n",
      " [[5 4 5 1 2]\n",
      "  [3 5 1 3 2]\n",
      "  [2 0 4 5 3]\n",
      "  [5 4 4 2 4]\n",
      "  [5 5 4 4 1]]]\n",
      "[[4 2 1 3 0]\n",
      " [3 4 2 0 1]\n",
      " [3 1 2 0 4]\n",
      " [2 4 0 3 1]]\n"
     ]
    }
   ],
   "source": [
    "# i do not quite understant what we mean with n largest values\n",
    "# interresting discussion about it: \n",
    "# https://stackoverflow.com/questions/6910641/how-do-i-get-indices-of-n-maximum-values-in-a-numpy-array\n",
    "b = np.random.randint(6,size=(5,5))\n",
    "print(b,'\\n')\n",
    "print(np.argsort(b.flat)[-n:])\n",
    "n = 2\n",
    "print (b[np.argsort(b)[-n:]])\n",
    "ind = np.argpartition(b,-4)[-4:]#we chose n =4\n",
    "print(ind)\n",
    "#Tl:dr I am confused"
   ]
  },
  {
   "cell_type": "markdown",
   "metadata": {},
   "source": [
    "#### 96. Given a two dimensional array, how to extract unique rows? (★★★)"
   ]
  },
  {
   "cell_type": "code",
   "execution_count": 612,
   "metadata": {
    "collapsed": false,
    "jupyter": {
     "outputs_hidden": false
    }
   },
   "outputs": [
    {
     "name": "stdout",
     "output_type": "stream",
     "text": [
      "[[1 0 0]\n",
      " [0 1 0]\n",
      " [0 1 1]\n",
      " [1 0 0]\n",
      " [1 0 0]\n",
      " [1 1 1]\n",
      " [0 1 0]\n",
      " [1 1 1]\n",
      " [1 1 1]\n",
      " [0 0 1]]\n",
      "unique rows:\n",
      " [[0 0 1]\n",
      " [0 1 0]\n",
      " [0 1 1]\n",
      " [1 0 0]\n",
      " [1 1 1]]\n"
     ]
    }
   ],
   "source": [
    "#unique rows are rows without repeated value found in other rows\n",
    "a = np.random.randint(2,size=(10,3))\n",
    "print(a)\n",
    "\n",
    "u_rows = np.unique(a,axis=0)\n",
    "print(f'unique rows:\\n {u_rows}')"
   ]
  },
  {
   "cell_type": "markdown",
   "metadata": {},
   "source": [
    "# try again: 89 and 70"
   ]
  },
  {
   "cell_type": "code",
   "execution_count": null,
   "metadata": {},
   "outputs": [],
   "source": []
  }
 ],
 "metadata": {
  "kernelspec": {
   "display_name": "Python 3",
   "language": "python",
   "name": "python3"
  },
  "language_info": {
   "codemirror_mode": {
    "name": "ipython",
    "version": 3
   },
   "file_extension": ".py",
   "mimetype": "text/x-python",
   "name": "python",
   "nbconvert_exporter": "python",
   "pygments_lexer": "ipython3",
   "version": "3.8.3"
  }
 },
 "nbformat": 4,
 "nbformat_minor": 4
}
