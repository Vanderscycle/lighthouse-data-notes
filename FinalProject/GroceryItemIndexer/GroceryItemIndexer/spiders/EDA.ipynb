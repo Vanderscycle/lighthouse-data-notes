{
 "metadata": {
  "language_info": {
   "codemirror_mode": {
    "name": "ipython",
    "version": 3
   },
   "file_extension": ".py",
   "mimetype": "text/x-python",
   "name": "python",
   "nbconvert_exporter": "python",
   "pygments_lexer": "ipython3",
   "version": "3.8.5-final"
  },
  "orig_nbformat": 2,
  "kernelspec": {
   "name": "python38564bitnnscrapercondaa354d8fb32614818906b42d96b0e4fbd",
   "display_name": "Python 3.8.5 64-bit ('NNScraper': conda)"
  }
 },
 "nbformat": 4,
 "nbformat_minor": 2,
 "cells": [
  {
   "cell_type": "code",
   "execution_count": 7,
   "metadata": {},
   "outputs": [],
   "source": [
    "import pandas as pd\n",
    "import numpy as np\n"
   ]
  },
  {
   "cell_type": "code",
   "execution_count": 8,
   "metadata": {},
   "outputs": [],
   "source": [
    "import matplotlib.pyplot as plt\n",
    "import seaborn as sns"
   ]
  },
  {
   "cell_type": "code",
   "execution_count": 10,
   "metadata": {},
   "outputs": [],
   "source": [
    "df = pd.read_json('/home/henri/Documents/Lighthouse-lab/lighthouse-data-notes/FinalProject/GroceryItemIndexer/GroceryItemIndexer/spiders/edadb.json')"
   ]
  },
  {
   "cell_type": "code",
   "execution_count": 11,
   "metadata": {},
   "outputs": [
    {
     "output_type": "execute_result",
     "data": {
      "text/plain": [
       "                                                name  price currency  \\\n",
       "0  Heinz By Nature Organic Baby Food - Prune Puré...  11.28     CDN$   \n",
       "1  Sahale Snacks Pomegranate Pistachios Glazed Mi...   8.68     CDN$   \n",
       "2  Matcha Green Tea Powder - [CFIA Organic] - Jap...  29.98     CDN$   \n",
       "3  Heinz Little Kids Acai Blueberry Raspberry Cer...   2.00     CDN$   \n",
       "4  Similac Step 2 Calcium-Enriched Baby Formula, ...  20.55     CDN$   \n",
       "\n",
       "               rating numberOfRating  \\\n",
       "0  4.4 out of 5 stars            119   \n",
       "1  4.3 out of 5 stars            244   \n",
       "2  4.4 out of 5 stars            821   \n",
       "3  4.4 out of 5 stars             68   \n",
       "4  4.6 out of 5 stars            128   \n",
       "\n",
       "                                                link     spider    section  \\\n",
       "0  /gp/slredirect/picassoRedirect.html/ref=pa_sp_...  AWFSpider  Baby-Food   \n",
       "1  /gp/slredirect/picassoRedirect.html/ref=pa_sp_...  AWFSpider  Baby-Food   \n",
       "2  /gp/slredirect/picassoRedirect.html/ref=pa_sp_...  AWFSpider  Baby-Food   \n",
       "3  /HEINZ-LITTLE-KIDS-Bluberry-Raspberry/dp/B00LM...  AWFSpider  Baby-Food   \n",
       "4  /Similac-Calcium-Enriched-Formula-Powder-Month...  AWFSpider  Baby-Food   \n",
       "\n",
       "             time  \n",
       "0  11/20/2020, 19  \n",
       "1  11/20/2020, 19  \n",
       "2  11/20/2020, 19  \n",
       "3  11/20/2020, 19  \n",
       "4  11/20/2020, 19  "
      ],
      "text/html": "<div>\n<style scoped>\n    .dataframe tbody tr th:only-of-type {\n        vertical-align: middle;\n    }\n\n    .dataframe tbody tr th {\n        vertical-align: top;\n    }\n\n    .dataframe thead th {\n        text-align: right;\n    }\n</style>\n<table border=\"1\" class=\"dataframe\">\n  <thead>\n    <tr style=\"text-align: right;\">\n      <th></th>\n      <th>name</th>\n      <th>price</th>\n      <th>currency</th>\n      <th>rating</th>\n      <th>numberOfRating</th>\n      <th>link</th>\n      <th>spider</th>\n      <th>section</th>\n      <th>time</th>\n    </tr>\n  </thead>\n  <tbody>\n    <tr>\n      <th>0</th>\n      <td>Heinz By Nature Organic Baby Food - Prune Puré...</td>\n      <td>11.28</td>\n      <td>CDN$</td>\n      <td>4.4 out of 5 stars</td>\n      <td>119</td>\n      <td>/gp/slredirect/picassoRedirect.html/ref=pa_sp_...</td>\n      <td>AWFSpider</td>\n      <td>Baby-Food</td>\n      <td>11/20/2020, 19</td>\n    </tr>\n    <tr>\n      <th>1</th>\n      <td>Sahale Snacks Pomegranate Pistachios Glazed Mi...</td>\n      <td>8.68</td>\n      <td>CDN$</td>\n      <td>4.3 out of 5 stars</td>\n      <td>244</td>\n      <td>/gp/slredirect/picassoRedirect.html/ref=pa_sp_...</td>\n      <td>AWFSpider</td>\n      <td>Baby-Food</td>\n      <td>11/20/2020, 19</td>\n    </tr>\n    <tr>\n      <th>2</th>\n      <td>Matcha Green Tea Powder - [CFIA Organic] - Jap...</td>\n      <td>29.98</td>\n      <td>CDN$</td>\n      <td>4.4 out of 5 stars</td>\n      <td>821</td>\n      <td>/gp/slredirect/picassoRedirect.html/ref=pa_sp_...</td>\n      <td>AWFSpider</td>\n      <td>Baby-Food</td>\n      <td>11/20/2020, 19</td>\n    </tr>\n    <tr>\n      <th>3</th>\n      <td>Heinz Little Kids Acai Blueberry Raspberry Cer...</td>\n      <td>2.00</td>\n      <td>CDN$</td>\n      <td>4.4 out of 5 stars</td>\n      <td>68</td>\n      <td>/HEINZ-LITTLE-KIDS-Bluberry-Raspberry/dp/B00LM...</td>\n      <td>AWFSpider</td>\n      <td>Baby-Food</td>\n      <td>11/20/2020, 19</td>\n    </tr>\n    <tr>\n      <th>4</th>\n      <td>Similac Step 2 Calcium-Enriched Baby Formula, ...</td>\n      <td>20.55</td>\n      <td>CDN$</td>\n      <td>4.6 out of 5 stars</td>\n      <td>128</td>\n      <td>/Similac-Calcium-Enriched-Formula-Powder-Month...</td>\n      <td>AWFSpider</td>\n      <td>Baby-Food</td>\n      <td>11/20/2020, 19</td>\n    </tr>\n  </tbody>\n</table>\n</div>"
     },
     "metadata": {},
     "execution_count": 11
    }
   ],
   "source": [
    "df.head()"
   ]
  },
  {
   "cell_type": "code",
   "execution_count": 12,
   "metadata": {},
   "outputs": [
    {
     "output_type": "stream",
     "name": "stdout",
     "text": [
      "<class 'pandas.core.frame.DataFrame'>\nRangeIndex: 2026 entries, 0 to 2025\nData columns (total 9 columns):\n #   Column          Non-Null Count  Dtype  \n---  ------          --------------  -----  \n 0   name            2026 non-null   object \n 1   price           2026 non-null   float64\n 2   currency        2026 non-null   object \n 3   rating          2026 non-null   object \n 4   numberOfRating  2026 non-null   object \n 5   link            2026 non-null   object \n 6   spider          2026 non-null   object \n 7   section         2026 non-null   object \n 8   time            2026 non-null   object \ndtypes: float64(1), object(8)\nmemory usage: 142.6+ KB\n"
     ]
    }
   ],
   "source": [
    "df.info()"
   ]
  },
  {
   "cell_type": "code",
   "execution_count": 13,
   "metadata": {},
   "outputs": [
    {
     "output_type": "execute_result",
     "data": {
      "text/plain": [
       "1450"
      ]
     },
     "metadata": {},
     "execution_count": 13
    }
   ],
   "source": [
    "len(df.name.unique())"
   ]
  },
  {
   "cell_type": "code",
   "execution_count": null,
   "metadata": {},
   "outputs": [],
   "source": [
    "# def unpackDoubleList(df):\n",
    "    # for i in "
   ]
  },
  {
   "cell_type": "code",
   "execution_count": 14,
   "metadata": {},
   "outputs": [
    {
     "output_type": "execute_result",
     "data": {
      "text/plain": [
       "datetime.datetime(2020, 11, 20, 20, 8, 47, 500183)"
      ]
     },
     "metadata": {},
     "execution_count": 14
    }
   ],
   "source": [
    "from datetime import datetime\n",
    "now = datetime.now() \n",
    "now "
   ]
  },
  {
   "cell_type": "code",
   "execution_count": 15,
   "metadata": {},
   "outputs": [
    {
     "output_type": "stream",
     "name": "stdout",
     "text": [
      "11/20/2020\n"
     ]
    }
   ],
   "source": [
    "from datetime import datetime\n",
    "now = datetime.now()\n",
    "datetimeStr = now.strftime(\"%m/%d/%Y\")\n",
    "print(datetimeStr)\t"
   ]
  },
  {
   "cell_type": "code",
   "execution_count": 10,
   "metadata": {},
   "outputs": [
    {
     "output_type": "execute_result",
     "data": {
      "text/plain": [
       "str"
      ]
     },
     "metadata": {},
     "execution_count": 10
    }
   ],
   "source": [
    "type(datetimeStr)"
   ]
  },
  {
   "cell_type": "code",
   "execution_count": 11,
   "metadata": {},
   "outputs": [],
   "source": [
    "def timestampReceival():\n",
    "    now = datetime.now()\n",
    "    return  now.strftime(\"%m/%d/%Y, %H:%M\")\n",
    "    \n",
    "    "
   ]
  },
  {
   "cell_type": "code",
   "execution_count": 12,
   "metadata": {},
   "outputs": [
    {
     "output_type": "execute_result",
     "data": {
      "text/plain": [
       "'11/19/2020, 18:45'"
      ]
     },
     "metadata": {},
     "execution_count": 12
    }
   ],
   "source": [
    "timestampReceival()"
   ]
  },
  {
   "cell_type": "code",
   "execution_count": 13,
   "metadata": {},
   "outputs": [],
   "source": [
    "import pymongo\n",
    "conn = pymongo.MongoClient(\n",
    "            '127.0.0.1',27017)\n",
    "dbnames = conn.list_database_names()"
   ]
  },
  {
   "cell_type": "code",
   "execution_count": 14,
   "metadata": {},
   "outputs": [
    {
     "output_type": "execute_result",
     "data": {
      "text/plain": [
       "['admin',\n",
       " 'config',\n",
       " 'groceryStore',\n",
       " 'local',\n",
       " 'mongoengine_test',\n",
       " 'randallMunroe']"
      ]
     },
     "metadata": {},
     "execution_count": 14
    }
   ],
   "source": [
    "dbnames "
   ]
  },
  {
   "cell_type": "code",
   "execution_count": 15,
   "metadata": {},
   "outputs": [
    {
     "output_type": "stream",
     "name": "stdout",
     "text": [
      "True\n"
     ]
    }
   ],
   "source": [
    "if 'groceryStore' not in dbnames:\n",
    "            # creating the database\n",
    "            print(False)\n",
    "else:\n",
    "    print(True)\n",
    "    db = conn.groceryStore"
   ]
  },
  {
   "cell_type": "code",
   "execution_count": 16,
   "metadata": {},
   "outputs": [
    {
     "output_type": "execute_result",
     "data": {
      "text/plain": [
       "['amazonWholeFood', 'groceryStore']"
      ]
     },
     "metadata": {},
     "execution_count": 16
    }
   ],
   "source": [
    "dbCollectionNames = db.list_collection_names()\n",
    "dbCollectionNames"
   ]
  },
  {
   "cell_type": "code",
   "execution_count": 22,
   "metadata": {},
   "outputs": [
    {
     "output_type": "stream",
     "name": "stdout",
     "text": [
      "False\n"
     ]
    }
   ],
   "source": [
    "if 'amazonWholeFood' not in dbCollectionNames:\n",
    "    print(True)\n",
    "\n",
    "else:\n",
    "    print(False)\n",
    "    collection = db.amazonWholeFood"
   ]
  },
  {
   "cell_type": "code",
   "execution_count": 23,
   "metadata": {},
   "outputs": [
    {
     "output_type": "execute_result",
     "data": {
      "text/plain": [
       "Collection(Database(MongoClient(host=['127.0.0.1:27017'], document_class=dict, tz_aware=False, connect=True), 'groceryStore'), 'amazonWholeFood')"
      ]
     },
     "metadata": {},
     "execution_count": 23
    }
   ],
   "source": [
    "collection"
   ]
  },
  {
   "cell_type": "code",
   "execution_count": 24,
   "metadata": {},
   "outputs": [
    {
     "output_type": "stream",
     "name": "stdout",
     "text": [
      "yest\n"
     ]
    }
   ],
   "source": [
    "if True:\n",
    "    print('yest')"
   ]
  },
  {
   "cell_type": "code",
   "execution_count": 31,
   "metadata": {},
   "outputs": [],
   "source": [
    "item = {['numberOfRating': '61',\n",
    " 'price': 19.99,\n",
    " 'rating': '4.5 out of 5 stars',\n",
    " 'section': 'Gouasd s rmet Gifts',\n",
    " 'spider': 'AWFSpider',\n",
    " 'time': '11/19/2020, 19'],\n",
    " ['numberOfRating': '61',\n",
    " 'price': 1999,\n",
    " 'rating': '4.5 out of 5 stars',\n",
    " 'section': 'Goua111sd s rmet Gifts',\n",
    " 'spider': 'AWFSpider',\n",
    " 'time': '11/19/2020, 19'],['numberOfRating': '61',\n",
    " 'price': 19.99,\n",
    " 'rating': '45 out of 5 stars',\n",
    " 'section': 'Gouas341d s rmet Gifts',\n",
    " 'spider': 'AWFSpider',\n",
    " 'time': '11/19/2020, 19']}"
   ]
  },
  {
   "cell_type": "code",
   "execution_count": 35,
   "metadata": {},
   "outputs": [
    {
     "output_type": "execute_result",
     "data": {
      "text/plain": [
       "dict"
      ]
     },
     "metadata": {},
     "execution_count": 35
    }
   ],
   "source": [
    "type(item)"
   ]
  },
  {
   "cell_type": "code",
   "execution_count": 36,
   "metadata": {},
   "outputs": [
    {
     "output_type": "execute_result",
     "data": {
      "text/plain": [
       "<pymongo.results.InsertOneResult at 0x7ff670fd6bc0>"
      ]
     },
     "metadata": {},
     "execution_count": 36
    }
   ],
   "source": [
    "collection.insert_one(item)"
   ]
  },
  {
   "cell_type": "code",
   "execution_count": 33,
   "metadata": {},
   "outputs": [
    {
     "output_type": "error",
     "ename": "TypeError",
     "evalue": "document must be an instance of dict, bson.son.SON, or any other type that inherits from collections.Mapping",
     "traceback": [
      "\u001b[0;31m---------------------------------------------------------------------------\u001b[0m",
      "\u001b[0;31mTypeError\u001b[0m                                 Traceback (most recent call last)",
      "\u001b[0;32m<ipython-input-33-1a001f0dbcb8>\u001b[0m in \u001b[0;36m<module>\u001b[0;34m\u001b[0m\n\u001b[1;32m      1\u001b[0m \u001b[0mkey\u001b[0m \u001b[0;34m=\u001b[0m \u001b[0;34m{\u001b[0m\u001b[0;34m'price'\u001b[0m\u001b[0;34m:\u001b[0m\u001b[0;34m'value'\u001b[0m\u001b[0;34m}\u001b[0m\u001b[0;34m\u001b[0m\u001b[0;34m\u001b[0m\u001b[0m\n\u001b[0;32m----> 2\u001b[0;31m \u001b[0mcollection\u001b[0m\u001b[0;34m.\u001b[0m\u001b[0mupdate\u001b[0m\u001b[0;34m(\u001b[0m\u001b[0mitem\u001b[0m\u001b[0;34m,\u001b[0m\u001b[0mcollection\u001b[0m\u001b[0;34m,\u001b[0m \u001b[0mupsert\u001b[0m\u001b[0;34m=\u001b[0m\u001b[0;32mTrue\u001b[0m\u001b[0;34m)\u001b[0m\u001b[0;34m\u001b[0m\u001b[0;34m\u001b[0m\u001b[0m\n\u001b[0m",
      "\u001b[0;32m~/miniconda2/envs/NNScraper/lib/python3.8/site-packages/pymongo/collection.py\u001b[0m in \u001b[0;36mupdate\u001b[0;34m(self, spec, document, upsert, manipulate, multi, check_keys, **kwargs)\u001b[0m\n\u001b[1;32m   3308\u001b[0m                       \"update_many instead.\", DeprecationWarning, stacklevel=2)\n\u001b[1;32m   3309\u001b[0m         \u001b[0mcommon\u001b[0m\u001b[0;34m.\u001b[0m\u001b[0mvalidate_is_mapping\u001b[0m\u001b[0;34m(\u001b[0m\u001b[0;34m\"spec\"\u001b[0m\u001b[0;34m,\u001b[0m \u001b[0mspec\u001b[0m\u001b[0;34m)\u001b[0m\u001b[0;34m\u001b[0m\u001b[0;34m\u001b[0m\u001b[0m\n\u001b[0;32m-> 3310\u001b[0;31m         \u001b[0mcommon\u001b[0m\u001b[0;34m.\u001b[0m\u001b[0mvalidate_is_mapping\u001b[0m\u001b[0;34m(\u001b[0m\u001b[0;34m\"document\"\u001b[0m\u001b[0;34m,\u001b[0m \u001b[0mdocument\u001b[0m\u001b[0;34m)\u001b[0m\u001b[0;34m\u001b[0m\u001b[0;34m\u001b[0m\u001b[0m\n\u001b[0m\u001b[1;32m   3311\u001b[0m         \u001b[0;32mif\u001b[0m \u001b[0mdocument\u001b[0m\u001b[0;34m:\u001b[0m\u001b[0;34m\u001b[0m\u001b[0;34m\u001b[0m\u001b[0m\n\u001b[1;32m   3312\u001b[0m             \u001b[0;31m# If a top level key begins with '$' this is a modify operation\u001b[0m\u001b[0;34m\u001b[0m\u001b[0;34m\u001b[0m\u001b[0;34m\u001b[0m\u001b[0m\n",
      "\u001b[0;32m~/miniconda2/envs/NNScraper/lib/python3.8/site-packages/pymongo/common.py\u001b[0m in \u001b[0;36mvalidate_is_mapping\u001b[0;34m(option, value)\u001b[0m\n\u001b[1;32m    492\u001b[0m     \u001b[0;34m\"\"\"Validate the type of method arguments that expect a document.\"\"\"\u001b[0m\u001b[0;34m\u001b[0m\u001b[0;34m\u001b[0m\u001b[0m\n\u001b[1;32m    493\u001b[0m     \u001b[0;32mif\u001b[0m \u001b[0;32mnot\u001b[0m \u001b[0misinstance\u001b[0m\u001b[0;34m(\u001b[0m\u001b[0mvalue\u001b[0m\u001b[0;34m,\u001b[0m \u001b[0mabc\u001b[0m\u001b[0;34m.\u001b[0m\u001b[0mMapping\u001b[0m\u001b[0;34m)\u001b[0m\u001b[0;34m:\u001b[0m\u001b[0;34m\u001b[0m\u001b[0;34m\u001b[0m\u001b[0m\n\u001b[0;32m--> 494\u001b[0;31m         raise TypeError(\"%s must be an instance of dict, bson.son.SON, or \"\n\u001b[0m\u001b[1;32m    495\u001b[0m                         \u001b[0;34m\"any other type that inherits from \"\u001b[0m\u001b[0;34m\u001b[0m\u001b[0;34m\u001b[0m\u001b[0m\n\u001b[1;32m    496\u001b[0m                         \"collections.Mapping\" % (option,))\n",
      "\u001b[0;31mTypeError\u001b[0m: document must be an instance of dict, bson.son.SON, or any other type that inherits from collections.Mapping"
     ]
    }
   ],
   "source": [
    "key = {'price':'value'}\n",
    "collection.update(item,collection, upsert=True)"
   ]
  },
  {
   "cell_type": "code",
   "execution_count": 67,
   "metadata": {},
   "outputs": [],
   "source": [
    "regexText = ['/Baby-Food/b?ie=UTF8&node=7351088011',\n",
    " '/Beverages/b?ie=UTF8&node=7351094011',\n",
    " '/Breads-Bakery/b?ie=UTF8&node=7351153011',\n",
    " '/Breakfast-Food/b?ie=UTF8&node=7351255011',\n",
    " '/Candy-Chocolate/b?ie=UTF8&node=7351266011',\n",
    " '/Canned-Jarred-Foods/b?ie=UTF8&node=7351796011',\n",
    " '/Condiments-Pickles-Relishes/b?ie=UTF8&node=7351893011',\n",
    " '/Cooking-Baking-Supplies/b?ie=UTF8&node=7351934011',\n",
    " '/Dried-Beans-Grains-Rice/b?ie=UTF8&node=7352088011',\n",
    " '/Dried-Fruits-Raisins/b?ie=UTF8&node=7352684011',\n",
    " '/Gourmet-Gifts/b?ie=UTF8&node=7351586011',\n",
    " '/Herbs-Spices-Seasonings/b?ie=UTF8&node=7352114011',\n",
    " '/Home-Brewing-Winemaking/b?ie=UTF8&node=7351600011',\n",
    " '/Jams-Jellies-Sweet-Spreads/b?ie=UTF8&node=7352198011',\n",
    " '/Oils-Vinegars-Salad-Dressings/b?ie=UTF8&node=7352211011',\n",
    " '/Packaged-Meals-Side-Dishes/b?ie=UTF8&node=7352227011',\n",
    " '/Pasta-Noodles/b?ie=UTF8&node=7352268011',\n",
    " '/Sauces-Gravies-Marinades/b?ie=UTF8&node=7352295011',\n",
    " '/Snack-Food/b?ie=UTF8&node=7352635011']"
   ]
  },
  {
   "cell_type": "code",
   "execution_count": 80,
   "metadata": {},
   "outputs": [],
   "source": [
    "import re\n",
    "regex = r'(?<=\\/)(.+)(?=\\/)'"
   ]
  },
  {
   "cell_type": "code",
   "execution_count": 96,
   "metadata": {},
   "outputs": [
    {
     "output_type": "execute_result",
     "data": {
      "text/plain": [
       "['Baby-Food',\n",
       " 'Beverages',\n",
       " 'Breads-Bakery',\n",
       " 'Breakfast-Food',\n",
       " 'Candy-Chocolate',\n",
       " 'Canned-Jarred-Foods',\n",
       " 'Condiments-Pickles-Relishes',\n",
       " 'Cooking-Baking-Supplies',\n",
       " 'Dried-Beans-Grains-Rice',\n",
       " 'Dried-Fruits-Raisins',\n",
       " 'Gourmet-Gifts',\n",
       " 'Herbs-Spices-Seasonings',\n",
       " 'Home-Brewing-Winemaking',\n",
       " 'Jams-Jellies-Sweet-Spreads',\n",
       " 'Oils-Vinegars-Salad-Dressings',\n",
       " 'Packaged-Meals-Side-Dishes',\n",
       " 'Pasta-Noodles',\n",
       " 'Sauces-Gravies-Marinades',\n",
       " 'Snack-Food']"
      ]
     },
     "metadata": {},
     "execution_count": 96
    }
   ],
   "source": [
    "cleanList = list()\n",
    "for line in regexText:\n",
    "    \n",
    "    z = re.search(regex, line)\n",
    "    cleanList.append(z.group())\n",
    "    #print(line)\n",
    "cleanList"
   ]
  },
  {
   "cell_type": "code",
   "execution_count": 2,
   "metadata": {},
   "outputs": [],
   "source": [
    "if False:\n",
    "    print(1)"
   ]
  },
  {
   "cell_type": "code",
   "execution_count": 2,
   "metadata": {},
   "outputs": [],
   "source": [
    "import requests\n",
    "\n",
    "proxy = 'gate.dc.smartproxy.com:20000'"
   ]
  },
  {
   "cell_type": "code",
   "execution_count": 3,
   "metadata": {},
   "outputs": [
    {
     "output_type": "stream",
     "name": "stdout",
     "text": [
      "200\n{'origin': '107.190.20.126'}\n"
     ]
    }
   ],
   "source": [
    "\n",
    "r = requests.get('https://httpbin.org/ip',timeout=5)\n",
    "print(r.status_code)\n",
    "print(r.json())"
   ]
  },
  {
   "cell_type": "code",
   "execution_count": 4,
   "metadata": {},
   "outputs": [
    {
     "output_type": "execute_result",
     "data": {
      "text/plain": [
       "{'origin': '107.190.20.126'}"
      ]
     },
     "metadata": {},
     "execution_count": 4
    }
   ],
   "source": [
    "# {'origin': '107.190.20.126'}\n",
    "r.json()"
   ]
  },
  {
   "cell_type": "code",
   "execution_count": 40,
   "metadata": {},
   "outputs": [],
   "source": [
    "proxy = 'dc.smartproxy.com:20000:spe6b2b737:Antiscon08'"
   ]
  },
  {
   "cell_type": "code",
   "execution_count": null,
   "metadata": {},
   "outputs": [],
   "source": [
    "# curl -U spe6b2b737:Antiscon08 -x gate.dc.smartproxy.com:20000 https://httpbin.org/ip"
   ]
  },
  {
   "cell_type": "code",
   "execution_count": 5,
   "metadata": {},
   "outputs": [
    {
     "output_type": "stream",
     "name": "stdout",
     "text": [
      "yes\n"
     ]
    }
   ],
   "source": [
    "i = 2\n",
    "if True and i>1:\n",
    "    print ('yes')"
   ]
  },
  {
   "cell_type": "code",
   "execution_count": null,
   "metadata": {},
   "outputs": [],
   "source": []
  }
 ]
}