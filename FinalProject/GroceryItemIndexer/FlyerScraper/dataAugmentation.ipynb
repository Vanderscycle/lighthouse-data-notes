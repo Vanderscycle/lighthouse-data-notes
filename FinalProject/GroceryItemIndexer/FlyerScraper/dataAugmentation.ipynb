{
 "metadata": {
  "language_info": {
   "codemirror_mode": {
    "name": "ipython",
    "version": 3
   },
   "file_extension": ".py",
   "mimetype": "text/x-python",
   "name": "python",
   "nbconvert_exporter": "python",
   "pygments_lexer": "ipython3",
   "version": "3.8.5-final"
  },
  "orig_nbformat": 2,
  "kernelspec": {
   "name": "python38564bitnnscrapercondaa354d8fb32614818906b42d96b0e4fbd",
   "display_name": "Python 3.8.5 64-bit ('NNScraper': conda)"
  }
 },
 "nbformat": 4,
 "nbformat_minor": 2,
 "cells": [
  {
   "source": [
    "## Helper function to load and save images in the appropriate format"
   ],
   "cell_type": "markdown",
   "metadata": {}
  },
  {
   "cell_type": "code",
   "execution_count": 1,
   "metadata": {},
   "outputs": [],
   "source": [
    "import numpy as np\n",
    "from PIL import Image\n",
    "def loadImgToArray(url,info=False):\n",
    "    \"\"\"\n",
    "    take the url and return the image (PIL format) as a numpy Array\n",
    "    \"\"\"\n",
    "    with Image.open(url) as image:\n",
    "    #image = Image.open(url)\n",
    "        imgArray = np.asarray(image)\n",
    "    if info:\n",
    "        print(f'From: {type(image)}, Size: {image.size}, Mode: {image.mode}\\nTo: {type(imgArray)}, shape: {imgArray.shape}')\n",
    "    \n",
    "    return imgArray"
   ]
  },
  {
   "cell_type": "code",
   "execution_count": 2,
   "metadata": {},
   "outputs": [],
   "source": [
    "def saveArrayToImg(url,npArray,info=False):\n",
    "    \"\"\"\n",
    "    Takes a numpy array and converts it \n",
    "    \"\"\"\n",
    "    image = Image.fromarray(npArray)\n",
    "    if info:\n",
    "        print(f'From: {type(npArray)}, shape: {npArray.shape}\\nTo: {type(image)}, Size: {image.size}, Mode: {image.mode}')\n",
    "        \n",
    "    image.save(url)\n",
    "    image.close()"
   ]
  },
  {
   "cell_type": "code",
   "execution_count": 3,
   "metadata": {},
   "outputs": [],
   "source": [
    "# test\n",
    "# mainUrl = '/home/henri/Desktop/roboflow/quickTest/'\n",
    "# testUrl = '/home/henri/Desktop/roboflow/quickTest/'\n",
    "\n",
    "# imgArray = loadImgToArray(mainUrl+'2.jpg', info=True)\n",
    "# saveArrayToImg(testUrl+'.jpg', imgArray,info=True)"
   ]
  },
  {
   "source": [
    "## Helper functions"
   ],
   "cell_type": "markdown",
   "metadata": {}
  },
  {
   "cell_type": "code",
   "execution_count": 4,
   "metadata": {},
   "outputs": [],
   "source": [
    "from io import StringIO \n",
    "def loadingBBox(fileurl,imageArray,info=True):\n",
    "    \"\"\"\n",
    "    Assuming the data is in this format (yolo)\n",
    "    <object-class> <x> <y> <width> <height> \n",
    "    [1.      , 0.250126, 0.29366 , 0.471062, 0.410735]\n",
    "    the fucntion will return the following format\n",
    "    <object-class> <x1> <y1> <x2> <y2>\n",
    "\n",
    "    The following code allowed to push through\n",
    "    https://github.com/dnissimi/imgaug-yolov3/blob/master/imgaug-yolov3.py\n",
    "\n",
    "    *rant warning*\n",
    "    legit the reason why it is so complex is that the yolo format values are kept between 0-1 and that they are multiplied by the file's shape\n",
    "    so they have to be 'hydrated' by multiplying each values by their corresponding image height or width.\n",
    "    i.e. if a box width and height are both .5 that mean the box essentially takes half of the screen area.\n",
    "    The only thing I don't quite understand in the calculations is why Wbox/hbox have to be divided by 2. Clue yolo x,y indicates the center of the box so you have to push the coordinate to the left by half (since the value is in the center)\n",
    "\n",
    "    \"\"\"\n",
    "    # width/height of the orginal image\n",
    "    width = imageArray.shape[1] #width or x axis\n",
    "    height = imageArray.shape[0] #height of y axis\n",
    "    boxData = np.loadtxt(fileurl)\n",
    "    \n",
    "    x1 = boxData[:,1:2:] * width - (boxData[:,3:4:] * width / 2)\n",
    "    y1 = boxData[:,2:3:] * height - (boxData[:,4:5:] * height / 2)\n",
    "    x2 = boxData[:,3:4:] * width + x1\n",
    "    y2 = boxData[:,4:5:] * height + y1\n",
    "    scaledtransformed = np.column_stack([boxData[:,0:1:],x1,y1,x2,y2])\n",
    "    if info:\n",
    "        print(f'\\nimage width: {width} and height {height}')\n",
    "        print(f'before transform <object-class> <x> <y> <width> <height>:\\n{boxData}\\n after transform <object-class> <x1> <y1> <x2> <y2>:\\n{scaledtransformed}')\n",
    "\n",
    "    return scaledtransformed"
   ]
  },
  {
   "cell_type": "code",
   "execution_count": 5,
   "metadata": {},
   "outputs": [],
   "source": [
    "# test (loading boxes)\n",
    "mainUrl = '/home/henri/Desktop/roboflow/'\n",
    "testUrl = '/home/henri/Desktop/roboflow/quickTest/'\n",
    "# npArray = loadImgToArray(testUrl+'60.jpg', info=True)\n",
    "# boxData = loadingBBox(testUrl+'60.txt', imgArray, info=True)"
   ]
  },
  {
   "cell_type": "code",
   "execution_count": 6,
   "metadata": {},
   "outputs": [],
   "source": [
    "def saveBBox(fileurl,boxData,imageArray,info=True):\n",
    "    \"\"\"\n",
    "    Assuming the data is in this format (yolo)\n",
    "    <object-class> <x1> <y1> <x2> <y2> \n",
    "    the fucntion will return the following format\n",
    "    <object-class> <x> <y> <width> <height>\n",
    "\n",
    "    Doesn't take into account boxes that fell outside the image size post transformation\n",
    "    \"\"\"\n",
    "    # width/height of the transfomer image\n",
    "    width = imageArray.shape[1] #width or x axis\n",
    "    height = imageArray.shape[0] #height of y axis\n",
    "\n",
    "    x_pos = boxData[:,1:2:] / width - (( boxData[:,1:2:] - boxData[:,3:4:]) / width / 2)\n",
    "    y_pos = boxData[:,2:3:] / height - ((boxData[:,2:3:] - boxData[:,4:5:]) / height /2)\n",
    "    # the original repo had an error there\n",
    "    x_size = (boxData[:,3:4:] - boxData[:,1:2:]) / width \n",
    "    y_size = (boxData[:,4:5:] - boxData[:,2:3:]) / height\n",
    "    scaledtransformed  = np.column_stack([boxData[:,0:1:],x_pos,y_pos,x_size,y_size])\n",
    "\n",
    "    # normally we \n",
    "    if info:\n",
    "        print(f'\\nimage width: {width} and height {height}')\n",
    "        print(f'before transform\\n<object-class> <x1> <y1> <x2> <y2>:\\n{boxData} after transform <object-class> <x> <y> <width> <height>:\\n{scaledtransformed}')\n",
    "    \n",
    "    np.savetxt(fileurl, scaledtransformed,fmt='%f', delimiter=' ')"
   ]
  },
  {
   "cell_type": "code",
   "execution_count": 7,
   "metadata": {},
   "outputs": [],
   "source": [
    "def showImg(imgArray):\n",
    "    \"\"\"\n",
    "    takes a numpy array and display as a picture\n",
    "    \"\"\"  \n",
    "    imgplot = plt.imshow(imgArray)\n",
    "    plt.show()"
   ]
  },
  {
   "cell_type": "code",
   "execution_count": 8,
   "metadata": {},
   "outputs": [],
   "source": [
    "def bboxNPPacker(bbox):\n",
    "    packer = np.empty([len(bbox.bounding_boxes), 5])\n",
    "    for idx in range(len(bbox.bounding_boxes)):\n",
    "        bboxIdx = bbox.bounding_boxes[idx]\n",
    "        packer[idx] = [bboxIdx.label,bboxIdx.x1,bboxIdx.y1,bboxIdx.x2,bboxIdx.y2]\n",
    "    return packer"
   ]
  },
  {
   "cell_type": "code",
   "execution_count": 9,
   "metadata": {},
   "outputs": [],
   "source": [
    "# saveBBox(testUrl+'136.txt', boxData, imgArray, info=True)"
   ]
  },
  {
   "cell_type": "code",
   "execution_count": 10,
   "metadata": {},
   "outputs": [],
   "source": [
    "def fileNameAugGen(i,fileName):\n",
    "    oldJpgName = fileName[0].split('.')\n",
    "    oldTxtName = fileName[1].split('.')\n",
    "    newName = [oldJpgName[0] +f'aug{i}.' + oldJpgName[1],oldTxtName[0] +f'aug{i}.' + oldTxtName[1]]\n",
    "    return newName"
   ]
  },
  {
   "cell_type": "code",
   "execution_count": 11,
   "metadata": {},
   "outputs": [],
   "source": [
    "def augmentedCopiesSingleImage(imgArray,bbox,amount,info=False):\n",
    "    results = dict()\n",
    "    for i in range(0,amount):\n",
    "        results[i] = seq(image=imgArray, bounding_boxes=bbox)\n",
    "    return results"
   ]
  },
  {
   "cell_type": "code",
   "execution_count": 12,
   "metadata": {},
   "outputs": [
    {
     "output_type": "error",
     "ename": "NameError",
     "evalue": "name 'directoryImgTxtload' is not defined",
     "traceback": [
      "\u001b[0;31m---------------------------------------------------------------------------\u001b[0m",
      "\u001b[0;31mNameError\u001b[0m                                 Traceback (most recent call last)",
      "\u001b[0;32m<ipython-input-12-95c403cb709c>\u001b[0m in \u001b[0;36m<module>\u001b[0;34m\u001b[0m\n\u001b[1;32m      2\u001b[0m \u001b[0;32mfrom\u001b[0m \u001b[0mos\u001b[0m\u001b[0;34m.\u001b[0m\u001b[0mpath\u001b[0m \u001b[0;32mimport\u001b[0m \u001b[0misfile\u001b[0m\u001b[0;34m,\u001b[0m \u001b[0mjoin\u001b[0m\u001b[0;34m\u001b[0m\u001b[0;34m\u001b[0m\u001b[0m\n\u001b[1;32m      3\u001b[0m \u001b[0mmainUrl\u001b[0m \u001b[0;34m=\u001b[0m \u001b[0;34m'/home/henri/Desktop/roboflow/'\u001b[0m\u001b[0;34m\u001b[0m\u001b[0;34m\u001b[0m\u001b[0m\n\u001b[0;32m----> 4\u001b[0;31m \u001b[0mdirectory\u001b[0m \u001b[0;34m=\u001b[0m \u001b[0mdirectoryImgTxtload\u001b[0m\u001b[0;34m(\u001b[0m\u001b[0mmainUrl\u001b[0m\u001b[0;34m)\u001b[0m\u001b[0;34m\u001b[0m\u001b[0;34m\u001b[0m\u001b[0m\n\u001b[0m\u001b[1;32m      5\u001b[0m \u001b[0;32mdef\u001b[0m \u001b[0mdirectoryImgTxtload\u001b[0m\u001b[0;34m(\u001b[0m\u001b[0mmainUrl\u001b[0m\u001b[0;34m)\u001b[0m\u001b[0;34m:\u001b[0m\u001b[0;34m\u001b[0m\u001b[0;34m\u001b[0m\u001b[0m\n\u001b[1;32m      6\u001b[0m     \"\"\"\n",
      "\u001b[0;31mNameError\u001b[0m: name 'directoryImgTxtload' is not defined"
     ]
    }
   ],
   "source": [
    "from os import listdir\n",
    "from os.path import isfile, join\n",
    "mainUrl = '/home/henri/Desktop/roboflow/'\n",
    "directory = directoryImgTxtload(mainUrl)\n",
    "def directoryImgTxtload(mainUrl):\n",
    "    \"\"\"\n",
    "    function that takes the directory link and package jpg and txt files into a list.\n",
    "    Check for mismatch\n",
    "    help from: https://stackoverflow.com/questions/21752610/iterate-every-2-elements-from-list-at-a-time\n",
    "    \"\"\"\n",
    "    \n",
    "    onlyfiles = [f for f in listdir(mainUrl) if isfile(join(mainUrl, f))]\n",
    "    sortedImgTxt = sorted(onlyfiles)\n",
    "    # return sortedImgTxt\n",
    "    # #it = iter(sortedImgTxt)\n",
    "    combinedList = list()\n",
    "    # # the only things that should be in the folder should be jpg and txt\n",
    "    for i, v in  zip(sortedImgTxt[0::2], sortedImgTxt[1::2]):\n",
    "        #print(i, v)\n",
    "        combinedList.append(list([i,v]))\n",
    "    \n",
    "        #check for mismatch of files\n",
    "        if (i.split('.')[0]) != (v.split('.')[0]):\n",
    "            print(f'Mismatched file detected {[i,v]} in directory {mainUrl} purging results.\\nUser please take action!')\n",
    "            combinedList = list()\n",
    "            break\n",
    "    return combinedList\n",
    "#             #print (x, next(it))\n",
    "    # return combinedList"
   ]
  },
  {
   "cell_type": "code",
   "execution_count": 38,
   "metadata": {},
   "outputs": [
    {
     "output_type": "execute_result",
     "data": {
      "text/plain": [
       "['10.jpg', '10.txt']"
      ]
     },
     "metadata": {},
     "execution_count": 38
    }
   ],
   "source": [
    "directory[0]"
   ]
  },
  {
   "cell_type": "code",
   "execution_count": 90,
   "metadata": {},
   "outputs": [
    {
     "output_type": "execute_result",
     "data": {
      "text/plain": [
       "<zip at 0x7f275ad55380>"
      ]
     },
     "metadata": {},
     "execution_count": 90
    }
   ],
   "source": [
    "zip(sortedImgTxt[0::2], sortedImgTxt[1::2])"
   ]
  },
  {
   "cell_type": "code",
   "execution_count": 104,
   "metadata": {},
   "outputs": [
    {
     "output_type": "execute_result",
     "data": {
      "text/plain": [
       "['100.jpg', '100.txt']"
      ]
     },
     "metadata": {},
     "execution_count": 104
    }
   ],
   "source": [
    "combinedList = list()\n",
    "for i, v in  zip(sortedImgTxt[0::2], sortedImgTxt[1::2]):\n",
    "    #print(i, v)\n",
    "    combinedList.append([i,v])\n",
    "combinedList[1]"
   ]
  },
  {
   "cell_type": "code",
   "execution_count": 86,
   "metadata": {},
   "outputs": [
    {
     "output_type": "execute_result",
     "data": {
      "text/plain": [
       "223"
      ]
     },
     "metadata": {},
     "execution_count": 86
    }
   ],
   "source": [
    "\n",
    "onlyfiles = [f for f in listdir(mainUrl) if isfile(join(mainUrl, f))]\n",
    "sortedImgTxt = sorted(onlyfiles)\n",
    "type(sortedImgTxt)\n",
    "len((sortedImgTxt))\n",
    "#it = iter(sortedImgTxt)"
   ]
  },
  {
   "cell_type": "code",
   "execution_count": null,
   "metadata": {},
   "outputs": [],
   "source": [
    "#sortedImgTxt"
   ]
  },
  {
   "cell_type": "code",
   "execution_count": null,
   "metadata": {},
   "outputs": [],
   "source": [
    "\n"
   ]
  },
  {
   "cell_type": "code",
   "execution_count": null,
   "metadata": {},
   "outputs": [],
   "source": [
    "def showImgAug(test):\n",
    "    for i in range(len(test)):\n",
    "        showImg(test[i][0])"
   ]
  },
  {
   "cell_type": "code",
   "execution_count": null,
   "metadata": {},
   "outputs": [],
   "source": [
    "import imgaug as ia\n",
    "import imgaug.augmenters as iaa\n",
    "from imgaug.augmentables.bbs import BoundingBox, BoundingBoxesOnImage\n",
    "\n",
    "imageArray = loadImgToArray(mainUrl+'2.jpg', info=True)\n",
    "Bdata = loadingBBox(mainUrl+'2.txt',imageArray,info=True)\n",
    "\n",
    "bbs = list()\n",
    "for box in Bdata:\n",
    "    Bclass,x1,y1,x2,y2 = box\n",
    "    bbs.append(BoundingBox(label=Bclass,x1=x1, y1=y1, x2=x2, y2=y2))\n",
    "bbs = BoundingBoxesOnImage(bbs,shape=imageArray.shape)"
   ]
  },
  {
   "cell_type": "code",
   "execution_count": null,
   "metadata": {},
   "outputs": [],
   "source": [
    "%pylab inline\n",
    "import matplotlib.pyplot as plt \n",
    "import matplotlib.image as mpimg"
   ]
  },
  {
   "cell_type": "code",
   "execution_count": null,
   "metadata": {},
   "outputs": [],
   "source": [
    "#setting the pipeline\n",
    "seq = iaa.Sequential([\n",
    "    iaa.Multiply((1.2, 1.5)), # change brightness, doesn't affect BBs\n",
    "    iaa.Affine(\n",
    "        translate_px={\"x\": 40, \"y\": 60},\n",
    "        scale=(0.5, 0.7)\n",
    "    ) # translate by 40/60px on x/y axis, and scale to 50-70%, affects BBs\n",
    "])"
   ]
  },
  {
   "cell_type": "code",
   "execution_count": null,
   "metadata": {},
   "outputs": [],
   "source": [
    "# Augment BBs and images.\n",
    "image_aug, bbs_aug = seq(image=imageArray, bounding_boxes=bbs)"
   ]
  },
  {
   "cell_type": "code",
   "execution_count": null,
   "metadata": {},
   "outputs": [],
   "source": [
    "# before picture \n",
    "showImg(imageArray)"
   ]
  },
  {
   "cell_type": "code",
   "execution_count": null,
   "metadata": {},
   "outputs": [],
   "source": [
    "# after picture\n",
    "showImg(image_aug)"
   ]
  },
  {
   "cell_type": "code",
   "execution_count": null,
   "metadata": {},
   "outputs": [],
   "source": [
    "testUrl = '/home/henri/Desktop/roboflow/quickTest/'\n",
    "saveArrayToImg(testUrl+'2.jpg', image_aug,info=False)\n",
    "saveBBox(testUrl+'2.txt', bboxNPPacker(bbs_aug), image_aug, info=False)"
   ]
  },
  {
   "source": [
    "## End of test"
   ],
   "cell_type": "markdown",
   "metadata": {}
  },
  {
   "cell_type": "code",
   "execution_count": null,
   "metadata": {},
   "outputs": [],
   "source": [
    "mainUrl = '/home/henri/Desktop/roboflow/'\n",
    "testUrl = '/home/henri/Desktop/roboflow/quickTest/'"
   ]
  },
  {
   "cell_type": "code",
   "execution_count": null,
   "metadata": {},
   "outputs": [],
   "source": [
    "#setting the pipeline\n",
    "sometimes = lambda aug: iaa.Sometimes(0.5, aug)\n",
    "seq = iaa.Sequential([\n",
    "\n",
    "# the most important part of the image transformation\n",
    "\n",
    "    sometimes(iaa.CropAndPad(\n",
    "            percent=(-0.05, 0.2),\n",
    "            pad_mode=ia.ALL,\n",
    "            pad_cval=(0, 255)\n",
    "        )),\n",
    "    sometimes(iaa.Affine(\n",
    "            scale={\"x\": (0.8, 1.2), \"y\": (0.8, 1.2)}, # scale images to 80-120% of their size, individually per axis\n",
    "            translate_percent={\"x\": (-0.2, 0.2), \"y\": (-0.2, 0.2)}, # translate by -20 to +20 percent (per axis)\n",
    "            rotate=(-45, 45), # rotate by -45 to +45 degrees\n",
    "            shear=(-16, 16), # shear by -16 to +16 degrees\n",
    "            order=[0, 1], # use nearest neighbour or bilinear interpolation (fast)\n",
    "            cval=(0, 255), # if mode is constant, use a cval between 0 and 255\n",
    "            mode=ia.ALL # use any of scikit-image's warping modes (see 2nd image from the top for examples)\n",
    "        )),\n",
    "\n",
    "# everything bellow is nice but not required \n",
    "\n",
    "\n",
    "        iaa.SomeOf((0, 5),\n",
    "            [\n",
    "                #sometimes(iaa.Superpixels(p_replace=(0, 1.0), n_segments=(20, 200))), # convert images into their superpixel representation\n",
    "                iaa.OneOf([\n",
    "                    iaa.GaussianBlur((0, 3.0)), # blur images with a sigma between 0 and 3.0\n",
    "                    iaa.AverageBlur(k=(2, 7)), # blur image using local means with kernel sizes between 2 and 7\n",
    "                    iaa.MedianBlur(k=(3, 11)), # blur image using local medians with kernel sizes between 2 and 7\n",
    "                ]),\n",
    "                iaa.Sharpen(alpha=(0, 1.0), lightness=(0.75, 1.5)), # sharpen images\n",
    "                iaa.Emboss(alpha=(0, 1.0), strength=(0, 2.0)), # emboss images\n",
    "                # search either for all edges or for directed edges,\n",
    "                # blend the result with the original image using a blobby mask\n",
    "                iaa.SimplexNoiseAlpha(iaa.OneOf([\n",
    "                    iaa.EdgeDetect(alpha=(0.5, 1.0)),\n",
    "                    iaa.DirectedEdgeDetect(alpha=(0.5, 1.0), direction=(0.0, 1.0)),\n",
    "                ])),\n",
    "                iaa.AdditiveGaussianNoise(loc=0, scale=(0.0, 0.05*255), per_channel=0.5), # add gaussian noise to images\n",
    "                iaa.OneOf([\n",
    "                    iaa.Dropout((0.01, 0.1), per_channel=0.5), # randomly remove up to 10% of the pixels\n",
    "                    iaa.CoarseDropout((0.03, 0.15), size_percent=(0.02, 0.05), per_channel=0.2),\n",
    "                ]),\n",
    "                iaa.Invert(0.05, per_channel=True), # invert color channels\n",
    "                iaa.Add((-10, 10), per_channel=0.5), # change brightness of images (by -10 to 10 of original value)\n",
    "                iaa.AddToHueAndSaturation((-20, 20)), # change hue and saturation\n",
    "                # either change the brightness of the whole image (sometimes\n",
    "                # per channel) or change the brightness of subareas\n",
    "                iaa.OneOf([\n",
    "                    iaa.Multiply((0.5, 1.5), per_channel=0.5),\n",
    "                    iaa.FrequencyNoiseAlpha(\n",
    "                        exponent=(-4, 0),\n",
    "                        first=iaa.Multiply((0.5, 1.5), per_channel=True),\n",
    "                        second=iaa.LinearContrast((0.5, 2.0))\n",
    "                    )\n",
    "                ]),\n",
    "                iaa.LinearContrast((0.5, 2.0), per_channel=0.5), # improve or worsen the contrast\n",
    "                iaa.Grayscale(alpha=(0.0, 1.0)),\n",
    "                sometimes(iaa.ElasticTransformation(alpha=(0.5, 3.5), sigma=0.25)), # move pixels locally around (with random strengths)\n",
    "                sometimes(iaa.PiecewiseAffine(scale=(0.01, 0.05))), # sometimes move parts of the image around\n",
    "                sometimes(iaa.PerspectiveTransform(scale=(0.01, 0.1)))\n",
    "            ],\n",
    "            random_order=True)\n",
    "])"
   ]
  },
  {
   "cell_type": "code",
   "execution_count": null,
   "metadata": {},
   "outputs": [],
   "source": [
    "image_aug, bbs_aug = seq(image=imageArray, bounding_boxes=bbs)\n",
    "showImg(imageArray)\n",
    "showImg(image_aug)\n",
    "bbs_aug"
   ]
  },
  {
   "cell_type": "code",
   "execution_count": null,
   "metadata": {},
   "outputs": [],
   "source": [
    "saveArrayToImg(testUrl+'2.jpg', image_aug,info=False)\n",
    "saveBBox(testUrl+'2.txt', bboxNPPacker(bbs_aug), image_aug, info=False)"
   ]
  },
  {
   "cell_type": "code",
   "execution_count": null,
   "metadata": {},
   "outputs": [],
   "source": [
    "#easier to load files into dict dict(idx) = [img,box]\n"
   ]
  },
  {
   "cell_type": "code",
   "execution_count": null,
   "metadata": {},
   "outputs": [],
   "source": [
    "test = augmentedCopiesSingleImage(imageArray,bbs,3)\n",
    "for i in range(len(test)):\n",
    "    showImg(test[i][0])"
   ]
  },
  {
   "cell_type": "code",
   "execution_count": null,
   "metadata": {},
   "outputs": [],
   "source": [
    "mainUrl = '/home/henri/Desktop/roboflow/'\n",
    "testUrl = '/home/henri/Desktop/roboflow/quickTest/'"
   ]
  },
  {
   "source": [
    "## Loading files and packaging them (test)"
   ],
   "cell_type": "markdown",
   "metadata": {}
  },
  {
   "cell_type": "code",
   "execution_count": null,
   "metadata": {},
   "outputs": [],
   "source": [
    "from os import listdir\n",
    "from os.path import isfile, join\n",
    "onlyfiles = [f for f in listdir(mainUrl) if isfile(join(mainUrl, f))]\n",
    "sortedImgTxt = sorted(onlyfiles)"
   ]
  },
  {
   "cell_type": "code",
   "execution_count": null,
   "metadata": {},
   "outputs": [],
   "source": [
    "# # https://stackoverflow.com/questions/21752610/iterate-every-2-elements-from-list-at-a-time\n",
    "# it = iter(sortedImgTxt)\n",
    "# combinedList = list()\n",
    "# # the only things that should be in the folder should be jpg and txt\n",
    "# for x in it:\n",
    "#     combinedList.append([x, next(it)])\n",
    "#     # check for mismatch of files\n",
    "#     if (combinedList[0][0].split('.')[0]) != (combinedList[0][1].split('.')[0]):\n",
    "#         print(f'Mismatched file detected {combinedList[0]} in directory {mainUrl} purging results.\\nUser please take action!')\n",
    "#         combinedList = list()\n",
    "#         break\n",
    "#     #print (x, next(it))\n",
    "# #combinedList"
   ]
  },
  {
   "source": [
    "## Loading files and packaging them (ready)"
   ],
   "cell_type": "markdown",
   "metadata": {}
  },
  {
   "cell_type": "code",
   "execution_count": null,
   "metadata": {},
   "outputs": [],
   "source": [
    "testli = ['100.jpg', '100.txt']"
   ]
  },
  {
   "cell_type": "code",
   "execution_count": null,
   "metadata": {},
   "outputs": [],
   "source": [
    "fileNameAugGen(69,testli)"
   ]
  },
  {
   "cell_type": "code",
   "execution_count": null,
   "metadata": {},
   "outputs": [],
   "source": [
    "# directory = directoryImgTxtload(mainUrl)\n",
    "# imageArray = loadImgToArray(mainUrl + directory[1][0], info=False)\n",
    "# Bdata = loadingBBox(mainUrl + directory[1][1],imageArray,info=False)\n",
    "\n",
    "# bbs = list()\n",
    "# for box in Bdata:\n",
    "#     Bclass,x1,y1,x2,y2 = box\n",
    "#     bbs.append(BoundingBox(label=Bclass,x1=x1, y1=y1, x2=x2, y2=y2))\n",
    "# bbs = BoundingBoxesOnImage(bbs,shape=imageArray.shape)\n",
    "\n",
    "# augmentedImagesList = augmentedCopiesSingleImage(imageArray,bbs,np.random.randint(4,high=9))\n"
   ]
  },
  {
   "cell_type": "code",
   "execution_count": null,
   "metadata": {},
   "outputs": [],
   "source": [
    "# showImgAug(augmentedImagesList)"
   ]
  },
  {
   "cell_type": "code",
   "execution_count": null,
   "metadata": {},
   "outputs": [],
   "source": [
    "# for i in range(len(augmentedImagesList)):\n",
    "#     jpgNewName, txtNewName = fileNameAugGen(i,directory[1])\n",
    "#     saveArrayToImg(testUrl + jpgNewName, augmentedImagesList[i][0],info=False)\n",
    "#     #! error bellow\n",
    "#     #url,\n",
    "#     saveBBox(testUrl + txtNewName, bboxNPPacker(augmentedImagesList[i][1]), augmentedImagesList[i][0], info=False)\n"
   ]
  },
  {
   "cell_type": "code",
   "execution_count": 40,
   "metadata": {},
   "outputs": [
    {
     "output_type": "error",
     "ename": "NameError",
     "evalue": "name 'loadImgToArray' is not defined",
     "traceback": [
      "\u001b[0;31m---------------------------------------------------------------------------\u001b[0m",
      "\u001b[0;31mNameError\u001b[0m                                 Traceback (most recent call last)",
      "\u001b[0;32m<ipython-input-40-ad7bcd12911a>\u001b[0m in \u001b[0;36m<module>\u001b[0;34m\u001b[0m\n\u001b[1;32m      6\u001b[0m \u001b[0;32mfor\u001b[0m \u001b[0mf\u001b[0m \u001b[0;32min\u001b[0m \u001b[0mrange\u001b[0m\u001b[0;34m(\u001b[0m\u001b[0mlen\u001b[0m\u001b[0;34m(\u001b[0m\u001b[0mdirectory\u001b[0m\u001b[0;34m)\u001b[0m\u001b[0;34m)\u001b[0m\u001b[0;34m:\u001b[0m\u001b[0;34m\u001b[0m\u001b[0;34m\u001b[0m\u001b[0m\n\u001b[1;32m      7\u001b[0m \u001b[0;34m\u001b[0m\u001b[0m\n\u001b[0;32m----> 8\u001b[0;31m     \u001b[0mimageArray\u001b[0m \u001b[0;34m=\u001b[0m \u001b[0mloadImgToArray\u001b[0m\u001b[0;34m(\u001b[0m\u001b[0mmainUrl\u001b[0m \u001b[0;34m+\u001b[0m \u001b[0mdirectory\u001b[0m\u001b[0;34m[\u001b[0m\u001b[0mf\u001b[0m\u001b[0;34m]\u001b[0m\u001b[0;34m[\u001b[0m\u001b[0;36m0\u001b[0m\u001b[0;34m]\u001b[0m\u001b[0;34m,\u001b[0m \u001b[0minfo\u001b[0m\u001b[0;34m=\u001b[0m\u001b[0;32mFalse\u001b[0m\u001b[0;34m)\u001b[0m\u001b[0;34m\u001b[0m\u001b[0;34m\u001b[0m\u001b[0m\n\u001b[0m\u001b[1;32m      9\u001b[0m     \u001b[0mBdata\u001b[0m \u001b[0;34m=\u001b[0m \u001b[0mloadingBBox\u001b[0m\u001b[0;34m(\u001b[0m\u001b[0mmainUrl\u001b[0m \u001b[0;34m+\u001b[0m \u001b[0mdirectory\u001b[0m\u001b[0;34m[\u001b[0m\u001b[0mf\u001b[0m\u001b[0;34m]\u001b[0m\u001b[0;34m[\u001b[0m\u001b[0;36m1\u001b[0m\u001b[0;34m]\u001b[0m\u001b[0;34m,\u001b[0m\u001b[0mimageArray\u001b[0m\u001b[0;34m,\u001b[0m\u001b[0minfo\u001b[0m\u001b[0;34m=\u001b[0m\u001b[0;32mFalse\u001b[0m\u001b[0;34m)\u001b[0m\u001b[0;34m\u001b[0m\u001b[0;34m\u001b[0m\u001b[0m\n\u001b[1;32m     10\u001b[0m \u001b[0;34m\u001b[0m\u001b[0m\n",
      "\u001b[0;31mNameError\u001b[0m: name 'loadImgToArray' is not defined"
     ]
    }
   ],
   "source": [
    "# now everything together\n",
    "mainUrl = '/home/henri/Desktop/roboflow/'\n",
    "testUrl = '/home/henri/Desktop/roboflow/quickTest/'\n",
    "\n",
    "directory = directoryImgTxtload(mainUrl)\n",
    "for f in range(len(directory)):\n",
    "\n",
    "    imageArray = loadImgToArray(mainUrl + directory[f][0], info=False)\n",
    "    Bdata = loadingBBox(mainUrl + directory[f][1],imageArray,info=False)\n",
    "\n",
    "    bbs = list()\n",
    "    for box in Bdata:\n",
    "        Bclass,x1,y1,x2,y2 = box\n",
    "        bbs.append(BoundingBox(label=Bclass,x1=x1, y1=y1, x2=x2, y2=y2))\n",
    "    bbs = BoundingBoxesOnImage(bbs,shape=imageArray.shape)\n",
    "    # I am running out of memory maybe this will help\n",
    "    augmentedImagesList = augmentedCopiesSingleImage(imageArray,bbs,np.random.randint(2,high=6))\n",
    "    for i in range(len(augmentedImagesList)):\n",
    "        jpgNewName, txtNewName = fileNameAugGen(i,directory[f])\n",
    "        saveArrayToImg(testUrl + jpgNewName, augmentedImagesList[i][0],info=False)\n",
    "        #! error bellow\n",
    "        #url,\n",
    "        saveBBox(testUrl + txtNewName, bboxNPPacker(augmentedImagesList[i][1]), augmentedImagesList[i][0], info=False)\n"
   ]
  },
  {
   "cell_type": "code",
   "execution_count": null,
   "metadata": {},
   "outputs": [],
   "source": []
  }
 ]
}