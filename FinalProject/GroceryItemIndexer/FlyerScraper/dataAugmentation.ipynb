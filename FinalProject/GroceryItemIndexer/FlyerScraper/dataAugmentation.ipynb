{
 "metadata": {
  "language_info": {
   "codemirror_mode": {
    "name": "ipython",
    "version": 3
   },
   "file_extension": ".py",
   "mimetype": "text/x-python",
   "name": "python",
   "nbconvert_exporter": "python",
   "pygments_lexer": "ipython3",
   "version": "3.7.9-final"
  },
  "orig_nbformat": 2,
  "kernelspec": {
   "name": "python37964bitpygamenncondaca97ccbbfa6c4413862993dd4ebcd839",
   "display_name": "Python 3.7.9 64-bit ('pyGameNN': conda)"
  }
 },
 "nbformat": 4,
 "nbformat_minor": 2,
 "cells": [
  {
   "source": [
    "## Helper function to load and save images in the appropriate format"
   ],
   "cell_type": "markdown",
   "metadata": {}
  },
  {
   "cell_type": "code",
   "execution_count": 1,
   "metadata": {},
   "outputs": [],
   "source": [
    "import numpy as np\n",
    "from PIL import Image\n",
    "def loadImgToArray(url,info=False):\n",
    "    \"\"\"\n",
    "    take the url and return the image (PIL format) as a numpy Array\n",
    "    \"\"\"\n",
    "    with Image.open(url) as image:\n",
    "    #image = Image.open(url)\n",
    "        imgArray = np.asarray(image)\n",
    "    if info:\n",
    "        print(f'From: {type(image)}, Size: {image.size}, Mode: {image.mode}\\nTo: {type(imgArray)}, shape: {imgArray.shape}')\n",
    "    \n",
    "    return imgArray"
   ]
  },
  {
   "cell_type": "code",
   "execution_count": 2,
   "metadata": {},
   "outputs": [],
   "source": [
    "def saveArrayToImg(url,npArray,info=False):\n",
    "    \"\"\"\n",
    "    Takes a numpy array and converts it \n",
    "    \"\"\"\n",
    "    image = Image.fromarray(npArray)\n",
    "    if info:\n",
    "        print(f'From: {type(npArray)}, shape: {npArray.shape}\\nTo: {type(image)}, Size: {image.size}, Mode: {image.mode}')\n",
    "        \n",
    "    image.save(url)\n",
    "    image.close()"
   ]
  },
  {
   "cell_type": "code",
   "execution_count": 3,
   "metadata": {},
   "outputs": [],
   "source": [
    "# test\n",
    "# mainUrl = '/home/henri/Desktop/roboflow/quickTest/'\n",
    "# testUrl = '/home/henri/Desktop/roboflow/quickTest/'\n",
    "\n",
    "# imgArray = loadImgToArray(mainUrl+'2.jpg', info=True)\n",
    "# saveArrayToImg(testUrl+'.jpg', imgArray,info=True)"
   ]
  },
  {
   "source": [
    "## Helper functions"
   ],
   "cell_type": "markdown",
   "metadata": {}
  },
  {
   "cell_type": "code",
   "execution_count": 4,
   "metadata": {},
   "outputs": [],
   "source": [
    "from io import StringIO \n",
    "def loadingBBox(fileurl,imageArray,info=True):\n",
    "    \"\"\"\n",
    "    Assuming the data is in this format (yolo)\n",
    "    <object-class> <x> <y> <width> <height> \n",
    "    [1.      , 0.250126, 0.29366 , 0.471062, 0.410735]\n",
    "    the fucntion will return the following format\n",
    "    <object-class> <x1> <y1> <x2> <y2>\n",
    "\n",
    "    The following code allowed to push through\n",
    "    https://github.com/dnissimi/imgaug-yolov3/blob/master/imgaug-yolov3.py\n",
    "\n",
    "    *rant warning*\n",
    "    legit the reason why it is so complex is that the yolo format values are kept between 0-1 and that they are multiplied by the file's shape\n",
    "    so they have to be 'hydrated' by multiplying each values by their corresponding image height or width.\n",
    "    i.e. if a box width and height are both .5 that mean the box essentially takes half of the screen area.\n",
    "    The only thing I don't quite understand in the calculations is why Wbox/hbox have to be divided by 2. Clue yolo x,y indicates the center of the box so you have to push the coordinate to the left by half (since the value is in the center)\n",
    "\n",
    "    \"\"\"\n",
    "    # width/height of the orginal image\n",
    "    width = imageArray.shape[1] #width or x axis\n",
    "    height = imageArray.shape[0] #height of y axis\n",
    "    boxData = np.loadtxt(fileurl)\n",
    "    \n",
    "    x1 = boxData[:,1:2:] * width - (boxData[:,3:4:] * width / 2)\n",
    "    y1 = boxData[:,2:3:] * height - (boxData[:,4:5:] * height / 2)\n",
    "    x2 = boxData[:,3:4:] * width + x1\n",
    "    y2 = boxData[:,4:5:] * height + y1\n",
    "    scaledtransformed = np.column_stack([boxData[:,0:1:],x1,y1,x2,y2])\n",
    "    if info:\n",
    "        print(f'\\nimage width: {width} and height {height}')\n",
    "        print(f'before transform <object-class> <x> <y> <width> <height>:\\n{boxData}\\n after transform <object-class> <x1> <y1> <x2> <y2>:\\n{scaledtransformed}')\n",
    "\n",
    "    return scaledtransformed"
   ]
  },
  {
   "cell_type": "code",
   "execution_count": 5,
   "metadata": {},
   "outputs": [],
   "source": [
    "# test (loading boxes)\n",
    "mainUrl = '/home/henri/Desktop/roboflow/'\n",
    "testUrl = '/home/henri/Desktop/roboflow/quickTest/'\n",
    "# npArray = loadImgToArray(testUrl+'60.jpg', info=True)\n",
    "# boxData = loadingBBox(testUrl+'60.txt', imgArray, info=True)"
   ]
  },
  {
   "cell_type": "code",
   "execution_count": 6,
   "metadata": {},
   "outputs": [],
   "source": [
    "def saveBBox(fileurl,boxData,imageArray,info=True):\n",
    "    \"\"\"\n",
    "    Assuming the data is in this format (yolo)\n",
    "    <object-class> <x1> <y1> <x2> <y2> \n",
    "    the fucntion will return the following format\n",
    "    <object-class> <x> <y> <width> <height>\n",
    "\n",
    "    Doesn't take into account boxes that fell outside the image size post transformation\n",
    "    \"\"\"\n",
    "    # width/height of the transfomer image\n",
    "    width = imageArray.shape[1] #width or x axis\n",
    "    height = imageArray.shape[0] #height of y axis\n",
    "\n",
    "    x_pos = boxData[:,1:2:] / width - (( boxData[:,1:2:] - boxData[:,3:4:]) / width / 2)\n",
    "    y_pos = boxData[:,2:3:] / height - ((boxData[:,2:3:] - boxData[:,4:5:]) / height /2)\n",
    "    # the original repo had an error there\n",
    "    x_size = (boxData[:,3:4:] - boxData[:,1:2:]) / width \n",
    "    y_size = (boxData[:,4:5:] - boxData[:,2:3:]) / height\n",
    "    scaledtransformed  = np.column_stack([boxData[:,0:1:],x_pos,y_pos,x_size,y_size])\n",
    "\n",
    "    # normally we \n",
    "    if info:\n",
    "        print(f'\\nimage width: {width} and height {height}')\n",
    "        print(f'before transform\\n<object-class> <x1> <y1> <x2> <y2>:\\n{boxData} after transform <object-class> <x> <y> <width> <height>:\\n{scaledtransformed}')\n",
    "    \n",
    "    np.savetxt(fileurl, scaledtransformed,fmt='%f', delimiter=' ')"
   ]
  },
  {
   "cell_type": "code",
   "execution_count": 7,
   "metadata": {},
   "outputs": [],
   "source": [
    "def showImg(imgArray):\n",
    "    \"\"\"\n",
    "    takes a numpy array and display as a picture\n",
    "    \"\"\"  \n",
    "    imgplot = plt.imshow(imgArray)\n",
    "    plt.show()"
   ]
  },
  {
   "cell_type": "code",
   "execution_count": 8,
   "metadata": {},
   "outputs": [],
   "source": [
    "def bboxNPPacker(bbox):\n",
    "    packer = np.empty([len(bbox.bounding_boxes), 5])\n",
    "    for idx in range(len(bbox.bounding_boxes)):\n",
    "        bboxIdx = bbox.bounding_boxes[idx]\n",
    "        packer[idx] = [bboxIdx.label,bboxIdx.x1,bboxIdx.y1,bboxIdx.x2,bboxIdx.y2]\n",
    "    return packer"
   ]
  },
  {
   "cell_type": "code",
   "execution_count": 9,
   "metadata": {},
   "outputs": [],
   "source": [
    "# saveBBox(testUrl+'136.txt', boxData, imgArray, info=True)"
   ]
  },
  {
   "cell_type": "code",
   "execution_count": 10,
   "metadata": {},
   "outputs": [],
   "source": [
    "def fileNameAugGen(i,fileName):\n",
    "    oldJpgName = fileName[0].split('.')\n",
    "    oldTxtName = fileName[1].split('.')\n",
    "    newName = [oldJpgName[0] +f'aug{i}.' + oldJpgName[1],oldTxtName[0] +f'aug{i}.' + oldTxtName[1]]\n",
    "    return newName"
   ]
  },
  {
   "cell_type": "code",
   "execution_count": 11,
   "metadata": {},
   "outputs": [],
   "source": [
    "def augmentedCopiesSingleImage(imgArray,bbox,amount,info=False):\n",
    "    results = dict()\n",
    "    for i in range(0,amount):\n",
    "        results[i] = seq(image=imgArray, bounding_boxes=bbox)\n",
    "    return results"
   ]
  },
  {
   "cell_type": "code",
   "execution_count": 12,
   "metadata": {},
   "outputs": [
    {
     "output_type": "stream",
     "name": "stdout",
     "text": [
      "136.jpg 136.txt\n137.jpg 137.txt\n138.jpg 138.txt\n139.jpg 139.txt\n140.jpg 140.txt\n142.jpg 142.txt\n143.jpg 143.txt\n144.jpg 144.txt\n146.jpg 146.txt\n147.jpg 147.txt\n148.jpg 148.txt\n149.jpg 149.txt\n150.jpg 150.txt\n151.jpg 151.txt\n152.jpg 152.txt\n153.jpg 153.txt\n154.jpg 154.txt\n155.jpg 155.txt\n156.jpg 156.txt\n157.jpg 157.txt\n158.jpg 158.txt\n159.jpg 159.txt\n160.jpg 160.txt\n161.jpg 161.txt\n162.jpg 162.txt\n163.jpg 163.txt\n164.jpg 164.txt\n165.jpg 165.txt\n166.jpg 166.txt\n167.jpg 167.txt\n168.jpg 168.txt\n169.jpg 169.txt\n170.jpg 170.txt\n171.jpg 171.txt\n172.jpg 172.txt\n173.jpg 173.txt\n174.jpg 174.txt\n175.jpg 175.txt\n177.jpg 177.txt\n178.jpg 178.txt\n179.jpg 179.txt\n181.jpg 181.txt\n182.jpg 182.txt\n183.jpg 183.txt\n184.jpg 184.txt\n185.jpg 185.txt\n186.jpg 186.txt\n187.jpg 187.txt\n188.jpg 188.txt\n189.jpg 189.txt\n190.jpg 190.txt\n191.jpg 191.txt\n192.jpg 192.txt\n193.jpg 193.txt\n194.jpg 194.txt\n195.jpg 195.txt\n196.jpg 196.txt\n197.jpg 197.txt\n198.jpg 198.txt\n200.jpg 200.txt\n202.jpg 202.txt\n203.jpg 203.txt\n204.jpg 204.txt\n205.jpg 205.txt\n206.jpg 206.txt\n207.jpg 207.txt\n"
     ]
    }
   ],
   "source": [
    "from os import listdir\n",
    "from os.path import isfile, join\n",
    "mainUrl = '/home/henri/Desktop/roboflow/'\n",
    "\n",
    "def directoryImgTxtload(mainUrl):\n",
    "    \"\"\"\n",
    "    function that takes the directory link and package jpg and txt files into a list.\n",
    "    Check for mismatch\n",
    "    help from: https://stackoverflow.com/questions/21752610/iterate-every-2-elements-from-list-at-a-time\n",
    "    \"\"\"\n",
    "    \n",
    "    onlyfiles = [f for f in listdir(mainUrl) if isfile(join(mainUrl, f))]\n",
    "    sortedImgTxt = sorted(onlyfiles)\n",
    "    # return sortedImgTxt\n",
    "    # #it = iter(sortedImgTxt)\n",
    "    combinedList = list()\n",
    "    # # the only things that should be in the folder should be jpg and txt\n",
    "    for i, v in  zip(sortedImgTxt[0::2], sortedImgTxt[1::2]):\n",
    "        print(i, v)\n",
    "        combinedList.append(list([i,v]))\n",
    "    \n",
    "        #check for mismatch of files\n",
    "        if (i.split('.')[0]) != (v.split('.')[0]):\n",
    "            print(f'Mismatched file detected {[i,v]} in directory {mainUrl} purging results.\\nUser please take action!')\n",
    "            combinedList = list()\n",
    "            break\n",
    "    return combinedList\n",
    "#             #print (x, next(it))\n",
    "    # return combinedList\n",
    "directory = directoryImgTxtload(mainUrl)"
   ]
  },
  {
   "cell_type": "code",
   "execution_count": 13,
   "metadata": {},
   "outputs": [
    {
     "output_type": "stream",
     "name": "stdout",
     "text": [
      "136.jpg 136.txt\n137.jpg 137.txt\n138.jpg 138.txt\n139.jpg 139.txt\n140.jpg 140.txt\n142.jpg 142.txt\n143.jpg 143.txt\n144.jpg 144.txt\n146.jpg 146.txt\n147.jpg 147.txt\n148.jpg 148.txt\n149.jpg 149.txt\n150.jpg 150.txt\n151.jpg 151.txt\n152.jpg 152.txt\n153.jpg 153.txt\n154.jpg 154.txt\n155.jpg 155.txt\n156.jpg 156.txt\n157.jpg 157.txt\n158.jpg 158.txt\n159.jpg 159.txt\n160.jpg 160.txt\n161.jpg 161.txt\n162.jpg 162.txt\n163.jpg 163.txt\n164.jpg 164.txt\n165.jpg 165.txt\n166.jpg 166.txt\n167.jpg 167.txt\n168.jpg 168.txt\n169.jpg 169.txt\n170.jpg 170.txt\n171.jpg 171.txt\n172.jpg 172.txt\n173.jpg 173.txt\n174.jpg 174.txt\n175.jpg 175.txt\n177.jpg 177.txt\n178.jpg 178.txt\n179.jpg 179.txt\n181.jpg 181.txt\n182.jpg 182.txt\n183.jpg 183.txt\n184.jpg 184.txt\n185.jpg 185.txt\n186.jpg 186.txt\n187.jpg 187.txt\n188.jpg 188.txt\n189.jpg 189.txt\n190.jpg 190.txt\n191.jpg 191.txt\n192.jpg 192.txt\n193.jpg 193.txt\n194.jpg 194.txt\n195.jpg 195.txt\n196.jpg 196.txt\n197.jpg 197.txt\n198.jpg 198.txt\n200.jpg 200.txt\n202.jpg 202.txt\n203.jpg 203.txt\n204.jpg 204.txt\n205.jpg 205.txt\n206.jpg 206.txt\n207.jpg 207.txt\n"
     ]
    }
   ],
   "source": [
    "directory = directoryImgTxtload(mainUrl)"
   ]
  },
  {
   "cell_type": "code",
   "execution_count": 14,
   "metadata": {},
   "outputs": [],
   "source": [
    "def showImgAug(test):\n",
    "    for i in range(len(test)):\n",
    "        showImg(test[i][0])"
   ]
  },
  {
   "cell_type": "code",
   "execution_count": 15,
   "metadata": {},
   "outputs": [],
   "source": [
    "# #!pip install imgaug\n",
    "import imgaug as ia\n",
    "import imgaug.augmenters as iaa\n",
    "from imgaug.augmentables.bbs import BoundingBox, BoundingBoxesOnImage\n",
    "\n",
    "# imageArray = loadImgToArray(mainUrl+'2.jpg', info=True)\n",
    "# Bdata = loadingBBox(mainUrl+'2.txt',imageArray,info=True)\n",
    "\n",
    "# bbs = list()\n",
    "# for box in Bdata:\n",
    "#     Bclass,x1,y1,x2,y2 = box\n",
    "#     bbs.append(BoundingBox(label=Bclass,x1=x1, y1=y1, x2=x2, y2=y2))\n",
    "# bbs = BoundingBoxesOnImage(bbs,shape=imageArray.shape)"
   ]
  },
  {
   "cell_type": "code",
   "execution_count": 16,
   "metadata": {},
   "outputs": [
    {
     "output_type": "stream",
     "name": "stdout",
     "text": [
      "Populating the interactive namespace from numpy and matplotlib\n"
     ]
    }
   ],
   "source": [
    "%pylab inline\n",
    "import matplotlib.pyplot as plt \n",
    "import matplotlib.image as mpimg"
   ]
  },
  {
   "cell_type": "code",
   "execution_count": 17,
   "metadata": {},
   "outputs": [],
   "source": [
    "#setting the pipeline\n",
    "seq = iaa.Sequential([\n",
    "    iaa.Multiply((1.2, 1.5)), # change brightness, doesn't affect BBs\n",
    "    iaa.Affine(\n",
    "        translate_px={\"x\": 40, \"y\": 60},\n",
    "        scale=(0.5, 0.7)\n",
    "    ) # translate by 40/60px on x/y axis, and scale to 50-70%, affects BBs\n",
    "])"
   ]
  },
  {
   "cell_type": "code",
   "execution_count": 18,
   "metadata": {},
   "outputs": [],
   "source": [
    "# Augment BBs and images.\n",
    "#image_aug, bbs_aug = seq(image=imageArray, bounding_boxes=bbs)"
   ]
  },
  {
   "cell_type": "code",
   "execution_count": 19,
   "metadata": {},
   "outputs": [],
   "source": [
    "# before picture \n",
    "#showImg(imageArray)"
   ]
  },
  {
   "cell_type": "code",
   "execution_count": 20,
   "metadata": {},
   "outputs": [],
   "source": [
    "# after picture\n",
    "#showImg(image_aug)"
   ]
  },
  {
   "cell_type": "code",
   "execution_count": 21,
   "metadata": {},
   "outputs": [],
   "source": [
    "# testUrl = '/home/henri/Desktop/roboflow/quickTest/'\n",
    "# saveArrayToImg(testUrl+'2.jpg', image_aug,info=False)\n",
    "# saveBBox(testUrl+'2.txt', bboxNPPacker(bbs_aug), image_aug, info=False)"
   ]
  },
  {
   "source": [
    "## End of test"
   ],
   "cell_type": "markdown",
   "metadata": {}
  },
  {
   "cell_type": "code",
   "execution_count": 22,
   "metadata": {},
   "outputs": [],
   "source": [
    "mainUrl = '/home/henri/Desktop/roboflow/'\n",
    "testUrl = '/home/henri/Desktop/roboflow/quickTest/'"
   ]
  },
  {
   "cell_type": "code",
   "execution_count": 23,
   "metadata": {},
   "outputs": [],
   "source": [
    "#setting the pipeline\n",
    "sometimes = lambda aug: iaa.Sometimes(0.5, aug)\n",
    "seq = iaa.Sequential([\n",
    "\n",
    "# the most important part of the image transformation\n",
    "\n",
    "    sometimes(iaa.CropAndPad(\n",
    "            percent=(-0.05, 0.2),\n",
    "            pad_mode=ia.ALL,\n",
    "            pad_cval=(0, 255)\n",
    "        )),\n",
    "    sometimes(iaa.Affine(\n",
    "            scale={\"x\": (0.8, 1.2), \"y\": (0.8, 1.2)}, # scale images to 80-120% of their size, individually per axis\n",
    "            translate_percent={\"x\": (-0.2, 0.2), \"y\": (-0.2, 0.2)}, # translate by -20 to +20 percent (per axis)\n",
    "            rotate=(-45, 45), # rotate by -45 to +45 degrees\n",
    "            shear=(-16, 16), # shear by -16 to +16 degrees\n",
    "            order=[0, 1], # use nearest neighbour or bilinear interpolation (fast)\n",
    "            cval=(0, 255), # if mode is constant, use a cval between 0 and 255\n",
    "            mode=ia.ALL # use any of scikit-image's warping modes (see 2nd image from the top for examples)\n",
    "        ))\n",
    "\n",
    "# everything bellow is nice but not required \n",
    "\n",
    "\n",
    "        # iaa.SomeOf((0, 5),\n",
    "        #     [\n",
    "        #         #sometimes(iaa.Superpixels(p_replace=(0, 1.0), n_segments=(20, 200))), # convert images into their superpixel representation\n",
    "        #         iaa.OneOf([\n",
    "        #             iaa.GaussianBlur((0, 3.0)), # blur images with a sigma between 0 and 3.0\n",
    "        #             iaa.AverageBlur(k=(2, 7)), # blur image using local means with kernel sizes between 2 and 7\n",
    "        #             iaa.MedianBlur(k=(3, 11)), # blur image using local medians with kernel sizes between 2 and 7\n",
    "        #         ]),\n",
    "        #         iaa.Sharpen(alpha=(0, 1.0), lightness=(0.75, 1.5)), # sharpen images\n",
    "        #         iaa.Emboss(alpha=(0, 1.0), strength=(0, 2.0)), # emboss images\n",
    "        #         # search either for all edges or for directed edges,\n",
    "        #         # blend the result with the original image using a blobby mask\n",
    "        #         iaa.SimplexNoiseAlpha(iaa.OneOf([\n",
    "        #             iaa.EdgeDetect(alpha=(0.5, 1.0)),\n",
    "        #             iaa.DirectedEdgeDetect(alpha=(0.5, 1.0), direction=(0.0, 1.0)),\n",
    "        #         ])),\n",
    "        #         iaa.AdditiveGaussianNoise(loc=0, scale=(0.0, 0.05*255), per_channel=0.5), # add gaussian noise to images\n",
    "        #         iaa.OneOf([\n",
    "        #             iaa.Dropout((0.01, 0.1), per_channel=0.5), # randomly remove up to 10% of the pixels\n",
    "        #             iaa.CoarseDropout((0.03, 0.15), size_percent=(0.02, 0.05), per_channel=0.2),\n",
    "        #         ]),\n",
    "        #         iaa.Invert(0.05, per_channel=True), # invert color channels\n",
    "        #         iaa.Add((-10, 10), per_channel=0.5), # change brightness of images (by -10 to 10 of original value)\n",
    "        #         iaa.AddToHueAndSaturation((-20, 20)), # change hue and saturation\n",
    "        #         # either change the brightness of the whole image (sometimes\n",
    "        #         # per channel) or change the brightness of subareas\n",
    "        #         iaa.OneOf([\n",
    "        #             iaa.Multiply((0.5, 1.5), per_channel=0.5),\n",
    "        #             iaa.FrequencyNoiseAlpha(\n",
    "        #                 exponent=(-4, 0),\n",
    "        #                 first=iaa.Multiply((0.5, 1.5), per_channel=True),\n",
    "        #                 second=iaa.LinearContrast((0.5, 2.0))\n",
    "        #             )\n",
    "        #         ]),\n",
    "        #         iaa.LinearContrast((0.5, 2.0), per_channel=0.5), # improve or worsen the contrast\n",
    "        #         iaa.Grayscale(alpha=(0.0, 1.0)),\n",
    "        #         sometimes(iaa.ElasticTransformation(alpha=(0.5, 3.5), sigma=0.25)), # move pixels locally around (with random strengths)\n",
    "        #         sometimes(iaa.PiecewiseAffine(scale=(0.01, 0.05))), # sometimes move parts of the image around\n",
    "        #         sometimes(iaa.PerspectiveTransform(scale=(0.01, 0.1)))\n",
    "        #     ],\n",
    "        #     random_order=True)\n",
    "])"
   ]
  },
  {
   "cell_type": "code",
   "execution_count": 24,
   "metadata": {},
   "outputs": [],
   "source": [
    "# image_aug, bbs_aug = seq(image=imageArray, bounding_boxes=bbs)\n",
    "# showImg(imageArray)\n",
    "# showImg(image_aug)\n",
    "# bbs_aug"
   ]
  },
  {
   "cell_type": "code",
   "execution_count": 25,
   "metadata": {},
   "outputs": [],
   "source": [
    "# saveArrayToImg(testUrl+'2.jpg', image_aug,info=False)\n",
    "# saveBBox(testUrl+'2.txt', bboxNPPacker(bbs_aug), image_aug, info=False)"
   ]
  },
  {
   "cell_type": "code",
   "execution_count": 26,
   "metadata": {},
   "outputs": [],
   "source": [
    "#easier to load files into dict dict(idx) = [img,box]\n"
   ]
  },
  {
   "cell_type": "code",
   "execution_count": 27,
   "metadata": {},
   "outputs": [],
   "source": [
    "# test = augmentedCopiesSingleImage(imageArray,bbs,3)\n",
    "# for i in range(len(test)):\n",
    "#     showImg(test[i][0])"
   ]
  },
  {
   "cell_type": "code",
   "execution_count": 28,
   "metadata": {},
   "outputs": [],
   "source": [
    "mainUrl = '/home/henri/Desktop/roboflow/'\n",
    "testUrl = '/home/henri/Desktop/roboflow/quickTest/'"
   ]
  },
  {
   "source": [
    "## Loading files and packaging them (test)"
   ],
   "cell_type": "markdown",
   "metadata": {}
  },
  {
   "cell_type": "code",
   "execution_count": 29,
   "metadata": {},
   "outputs": [],
   "source": [
    "from os import listdir\n",
    "from os.path import isfile, join\n",
    "onlyfiles = [f for f in listdir(mainUrl) if isfile(join(mainUrl, f))]\n",
    "sortedImgTxt = sorted(onlyfiles)"
   ]
  },
  {
   "cell_type": "code",
   "execution_count": 30,
   "metadata": {},
   "outputs": [],
   "source": [
    "# # https://stackoverflow.com/questions/21752610/iterate-every-2-elements-from-list-at-a-time\n",
    "# it = iter(sortedImgTxt)\n",
    "# combinedList = list()\n",
    "# # the only things that should be in the folder should be jpg and txt\n",
    "# for x in it:\n",
    "#     combinedList.append([x, next(it)])\n",
    "#     # check for mismatch of files\n",
    "#     if (combinedList[0][0].split('.')[0]) != (combinedList[0][1].split('.')[0]):\n",
    "#         print(f'Mismatched file detected {combinedList[0]} in directory {mainUrl} purging results.\\nUser please take action!')\n",
    "#         combinedList = list()\n",
    "#         break\n",
    "#     #print (x, next(it))\n",
    "# #combinedList"
   ]
  },
  {
   "source": [
    "## Loading files and packaging them (ready)"
   ],
   "cell_type": "markdown",
   "metadata": {}
  },
  {
   "cell_type": "code",
   "execution_count": 31,
   "metadata": {},
   "outputs": [],
   "source": [
    "testli = ['100.jpg', '100.txt']"
   ]
  },
  {
   "cell_type": "code",
   "execution_count": 32,
   "metadata": {},
   "outputs": [
    {
     "output_type": "execute_result",
     "data": {
      "text/plain": [
       "['100aug69.jpg', '100aug69.txt']"
      ]
     },
     "metadata": {},
     "execution_count": 32
    }
   ],
   "source": [
    "fileNameAugGen(69,testli)"
   ]
  },
  {
   "cell_type": "code",
   "execution_count": 33,
   "metadata": {},
   "outputs": [],
   "source": [
    "# directory = directoryImgTxtload(mainUrl)\n",
    "# imageArray = loadImgToArray(mainUrl + directory[1][0], info=False)\n",
    "# Bdata = loadingBBox(mainUrl + directory[1][1],imageArray,info=False)\n",
    "\n",
    "# bbs = list()\n",
    "# for box in Bdata:\n",
    "#     Bclass,x1,y1,x2,y2 = box\n",
    "#     bbs.append(BoundingBox(label=Bclass,x1=x1, y1=y1, x2=x2, y2=y2))\n",
    "# bbs = BoundingBoxesOnImage(bbs,shape=imageArray.shape)\n",
    "\n",
    "# augmentedImagesList = augmentedCopiesSingleImage(imageArray,bbs,np.random.randint(4,high=9))\n"
   ]
  },
  {
   "cell_type": "code",
   "execution_count": 34,
   "metadata": {},
   "outputs": [],
   "source": [
    "# showImgAug(augmentedImagesList)"
   ]
  },
  {
   "cell_type": "code",
   "execution_count": 35,
   "metadata": {},
   "outputs": [],
   "source": [
    "# for i in range(len(augmentedImagesList)):\n",
    "#     jpgNewName, txtNewName = fileNameAugGen(i,directory[1])\n",
    "#     saveArrayToImg(testUrl + jpgNewName, augmentedImagesList[i][0],info=False)\n",
    "#     #! error bellow\n",
    "#     #url,\n",
    "#     saveBBox(testUrl + txtNewName, bboxNPPacker(augmentedImagesList[i][1]), augmentedImagesList[i][0], info=False)\n"
   ]
  },
  {
   "cell_type": "code",
   "execution_count": 36,
   "metadata": {},
   "outputs": [],
   "source": [
    "#directory = directoryImgTxtload(mainUrl)\n",
    "#directory"
   ]
  },
  {
   "cell_type": "code",
   "execution_count": 37,
   "metadata": {
    "tags": []
   },
   "outputs": [
    {
     "output_type": "stream",
     "name": "stderr",
     "text": [
      "  0%|          | 0/66 [00:00<?, ?it/s]136.jpg 136.txt\n",
      "137.jpg 137.txt\n",
      "138.jpg 138.txt\n",
      "139.jpg 139.txt\n",
      "140.jpg 140.txt\n",
      "142.jpg 142.txt\n",
      "143.jpg 143.txt\n",
      "144.jpg 144.txt\n",
      "146.jpg 146.txt\n",
      "147.jpg 147.txt\n",
      "148.jpg 148.txt\n",
      "149.jpg 149.txt\n",
      "150.jpg 150.txt\n",
      "151.jpg 151.txt\n",
      "152.jpg 152.txt\n",
      "153.jpg 153.txt\n",
      "154.jpg 154.txt\n",
      "155.jpg 155.txt\n",
      "156.jpg 156.txt\n",
      "157.jpg 157.txt\n",
      "158.jpg 158.txt\n",
      "159.jpg 159.txt\n",
      "160.jpg 160.txt\n",
      "161.jpg 161.txt\n",
      "162.jpg 162.txt\n",
      "163.jpg 163.txt\n",
      "164.jpg 164.txt\n",
      "165.jpg 165.txt\n",
      "166.jpg 166.txt\n",
      "167.jpg 167.txt\n",
      "168.jpg 168.txt\n",
      "169.jpg 169.txt\n",
      "170.jpg 170.txt\n",
      "171.jpg 171.txt\n",
      "172.jpg 172.txt\n",
      "173.jpg 173.txt\n",
      "174.jpg 174.txt\n",
      "175.jpg 175.txt\n",
      "177.jpg 177.txt\n",
      "178.jpg 178.txt\n",
      "179.jpg 179.txt\n",
      "181.jpg 181.txt\n",
      "182.jpg 182.txt\n",
      "183.jpg 183.txt\n",
      "184.jpg 184.txt\n",
      "185.jpg 185.txt\n",
      "186.jpg 186.txt\n",
      "187.jpg 187.txt\n",
      "188.jpg 188.txt\n",
      "189.jpg 189.txt\n",
      "190.jpg 190.txt\n",
      "191.jpg 191.txt\n",
      "192.jpg 192.txt\n",
      "193.jpg 193.txt\n",
      "194.jpg 194.txt\n",
      "195.jpg 195.txt\n",
      "196.jpg 196.txt\n",
      "197.jpg 197.txt\n",
      "198.jpg 198.txt\n",
      "200.jpg 200.txt\n",
      "202.jpg 202.txt\n",
      "203.jpg 203.txt\n",
      "204.jpg 204.txt\n",
      "205.jpg 205.txt\n",
      "206.jpg 206.txt\n",
      "207.jpg 207.txt\n",
      "\n",
      "working on 136.jpg 136.txt\n",
      "  2%|▏         | 1/66 [00:00<00:24,  2.71it/s]\n",
      "working on 137.jpg 137.txt\n",
      "  3%|▎         | 2/66 [00:01<00:35,  1.81it/s]\n",
      "working on 138.jpg 138.txt\n",
      "  5%|▍         | 3/66 [00:01<00:35,  1.78it/s]\n",
      "working on 139.jpg 139.txt\n",
      "  6%|▌         | 4/66 [00:02<00:30,  2.02it/s]\n",
      "working on 140.jpg 140.txt\n",
      "  8%|▊         | 5/66 [00:02<00:28,  2.11it/s]\n",
      "working on 142.jpg 142.txt\n",
      "  9%|▉         | 6/66 [00:03<00:42,  1.41it/s]\n",
      "working on 143.jpg 143.txt\n",
      " 11%|█         | 7/66 [00:04<00:33,  1.75it/s]\n",
      "working on 144.jpg 144.txt\n",
      " 12%|█▏        | 8/66 [00:05<00:50,  1.14it/s]\n",
      "working on 146.jpg 146.txt\n",
      " 14%|█▎        | 9/66 [00:06<00:46,  1.22it/s]\n",
      "working on 147.jpg 147.txt\n",
      " 15%|█▌        | 10/66 [00:06<00:38,  1.45it/s]\n",
      "working on 148.jpg 148.txt\n",
      " 17%|█▋        | 11/66 [00:07<00:32,  1.70it/s]\n",
      "working on 149.jpg 149.txt\n",
      " 18%|█▊        | 12/66 [00:07<00:26,  2.05it/s]\n",
      "working on 150.jpg 150.txt\n",
      " 20%|█▉        | 13/66 [00:09<00:47,  1.12it/s]\n",
      "working on 151.jpg 151.txt\n",
      " 21%|██        | 14/66 [00:10<00:57,  1.11s/it]\n",
      "working on 152.jpg 152.txt\n",
      " 23%|██▎       | 15/66 [00:11<00:47,  1.08it/s]\n",
      "working on 153.jpg 153.txt\n",
      " 26%|██▌       | 17/66 [00:11<00:28,  1.71it/s]\n",
      "working on 154.jpg 154.txt\n",
      "\n",
      "working on 155.jpg 155.txt\n",
      " 27%|██▋       | 18/66 [00:12<00:27,  1.76it/s]\n",
      "working on 156.jpg 156.txt\n",
      " 30%|███       | 20/66 [00:13<00:27,  1.69it/s]\n",
      "working on 157.jpg 157.txt\n",
      "\n",
      "working on 158.jpg 158.txt\n",
      " 33%|███▎      | 22/66 [00:17<00:41,  1.05it/s]\n",
      "working on 159.jpg 159.txt\n",
      "\n",
      "working on 160.jpg 160.txt\n",
      " 36%|███▋      | 24/66 [00:17<00:24,  1.68it/s]\n",
      "working on 161.jpg 161.txt\n",
      "\n",
      "working on 162.jpg 162.txt\n",
      " 38%|███▊      | 25/66 [00:18<00:30,  1.32it/s]\n",
      "working on 163.jpg 163.txt\n",
      " 39%|███▉      | 26/66 [00:20<00:41,  1.03s/it]\n",
      "working on 164.jpg 164.txt\n",
      " 42%|████▏     | 28/66 [00:20<00:24,  1.58it/s]\n",
      "working on 165.jpg 165.txt\n",
      "\n",
      "working on 166.jpg 166.txt\n",
      " 44%|████▍     | 29/66 [00:21<00:19,  1.93it/s]\n",
      "working on 167.jpg 167.txt\n",
      " 45%|████▌     | 30/66 [00:23<00:34,  1.03it/s]\n",
      "working on 168.jpg 168.txt\n",
      " 47%|████▋     | 31/66 [00:24<00:37,  1.08s/it]\n",
      "working on 169.jpg 169.txt\n",
      " 50%|█████     | 33/66 [00:25<00:24,  1.34it/s]\n",
      "working on 170.jpg 170.txt\n",
      " 52%|█████▏    | 34/66 [00:25<00:17,  1.78it/s]\n",
      "working on 171.jpg 171.txt\n",
      "\n",
      "working on 172.jpg 172.txt\n",
      " 53%|█████▎    | 35/66 [00:25<00:15,  1.97it/s]\n",
      "working on 173.jpg 173.txt\n",
      " 55%|█████▍    | 36/66 [00:26<00:15,  1.91it/s]\n",
      "working on 174.jpg 174.txt\n",
      " 58%|█████▊    | 38/66 [00:27<00:11,  2.50it/s]\n",
      "working on 175.jpg 175.txt\n",
      "\n",
      "working on 177.jpg 177.txt\n",
      " 59%|█████▉    | 39/66 [00:27<00:12,  2.15it/s]\n",
      "working on 178.jpg 178.txt\n",
      " 62%|██████▏   | 41/66 [00:28<00:08,  2.97it/s]\n",
      "working on 179.jpg 179.txt\n",
      "\n",
      "working on 181.jpg 181.txt\n",
      " 64%|██████▎   | 42/66 [00:28<00:09,  2.64it/s]\n",
      "working on 182.jpg 182.txt\n",
      " 65%|██████▌   | 43/66 [00:29<00:14,  1.57it/s]\n",
      "working on 183.jpg 183.txt\n",
      " 67%|██████▋   | 44/66 [00:30<00:12,  1.82it/s]\n",
      "working on 184.jpg 184.txt\n",
      " 68%|██████▊   | 45/66 [00:30<00:09,  2.20it/s]\n",
      "working on 185.jpg 185.txt\n",
      " 71%|███████   | 47/66 [00:30<00:06,  3.08it/s]\n",
      "working on 186.jpg 186.txt\n",
      "\n",
      "working on 187.jpg 187.txt\n",
      " 73%|███████▎  | 48/66 [00:32<00:14,  1.23it/s]\n",
      "working on 188.jpg 188.txt\n",
      " 74%|███████▍  | 49/66 [00:34<00:17,  1.03s/it]\n",
      "working on 189.jpg 189.txt\n",
      " 76%|███████▌  | 50/66 [00:35<00:19,  1.20s/it]\n",
      "working on 190.jpg 190.txt\n",
      " 79%|███████▉  | 52/66 [00:37<00:12,  1.10it/s]\n",
      "working on 191.jpg 191.txt\n",
      "\n",
      "working on 192.jpg 192.txt\n",
      " 80%|████████  | 53/66 [00:37<00:09,  1.36it/s]\n",
      "working on 193.jpg 193.txt\n",
      " 83%|████████▎ | 55/66 [00:39<00:07,  1.53it/s]\n",
      "working on 194.jpg 194.txt\n",
      "\n",
      "working on 195.jpg 195.txt\n",
      " 85%|████████▍ | 56/66 [00:39<00:06,  1.51it/s]\n",
      "working on 196.jpg 196.txt\n",
      " 86%|████████▋ | 57/66 [00:40<00:04,  1.85it/s]\n",
      "working on 197.jpg 197.txt\n",
      " 89%|████████▉ | 59/66 [00:40<00:02,  2.63it/s]\n",
      "working on 198.jpg 198.txt\n",
      "\n",
      "working on 200.jpg 200.txt\n",
      " 91%|█████████ | 60/66 [00:40<00:02,  2.61it/s]\n",
      "working on 202.jpg 202.txt\n",
      " 92%|█████████▏| 61/66 [00:41<00:01,  2.94it/s]\n",
      "working on 203.jpg 203.txt\n",
      " 94%|█████████▍| 62/66 [00:41<00:01,  2.14it/s]\n",
      "working on 204.jpg 204.txt\n",
      " 95%|█████████▌| 63/66 [00:42<00:01,  1.58it/s]\n",
      "working on 205.jpg 205.txt\n",
      " 97%|█████████▋| 64/66 [00:43<00:01,  1.42it/s]\n",
      "working on 206.jpg 206.txt\n",
      "100%|██████████| 66/66 [00:44<00:00,  1.49it/s]\n",
      "working on 207.jpg 207.txt\n",
      "\n"
     ]
    }
   ],
   "source": [
    "# now everything together\n",
    "mainUrl = '/home/henri/Desktop/roboflow/'\n",
    "testUrl = '/home/henri/Desktop/roboflow/224.ext/'\n",
    "from tqdm import  tqdm\n",
    "directory = directoryImgTxtload(mainUrl)\n",
    "for f in tqdm(range(len(directory))):\n",
    "    \n",
    "    imageArray = loadImgToArray(mainUrl + directory[f][0], info=False)\n",
    "    Bdata = loadingBBox(mainUrl + directory[f][1],imageArray,info=False)\n",
    "    print(f'\\nworking on {directory[f][0]} {directory[f][1]}')\n",
    "    bbs = list()\n",
    "    for box in Bdata:\n",
    "        Bclass,x1,y1,x2,y2 = box\n",
    "        bbs.append(BoundingBox(label=Bclass,x1=x1, y1=y1, x2=x2, y2=y2))\n",
    "    bbs = BoundingBoxesOnImage(bbs,shape=imageArray.shape)\n",
    "    # I am running out of memory maybe this will help\n",
    "    augmentedImagesList = augmentedCopiesSingleImage(imageArray,bbs,np.random.randint(3,high=7))\n",
    "    for i in range(len(augmentedImagesList)):\n",
    "        jpgNewName, txtNewName = fileNameAugGen(i,directory[f])\n",
    "        saveArrayToImg(testUrl + jpgNewName, augmentedImagesList[i][0],info=False)\n",
    "        #! error bellow\n",
    "        #url,\n",
    "        saveBBox(testUrl + txtNewName, bboxNPPacker(augmentedImagesList[i][1]), augmentedImagesList[i][0], info=False)\n"
   ]
  },
  {
   "cell_type": "code",
   "execution_count": null,
   "metadata": {},
   "outputs": [],
   "source": []
  }
 ]
}