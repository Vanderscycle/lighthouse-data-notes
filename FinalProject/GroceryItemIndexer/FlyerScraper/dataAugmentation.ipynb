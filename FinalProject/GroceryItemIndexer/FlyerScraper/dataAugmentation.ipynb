{
 "metadata": {
  "language_info": {
   "codemirror_mode": {
    "name": "ipython",
    "version": 3
   },
   "file_extension": ".py",
   "mimetype": "text/x-python",
   "name": "python",
   "nbconvert_exporter": "python",
   "pygments_lexer": "ipython3",
   "version": "3.7.9-final"
  },
  "orig_nbformat": 2,
  "kernelspec": {
   "name": "python37964bitpygamenncondaca97ccbbfa6c4413862993dd4ebcd839",
   "display_name": "Python 3.7.9 64-bit ('pyGameNN': conda)"
  }
 },
 "nbformat": 4,
 "nbformat_minor": 2,
 "cells": [
  {
   "source": [
    "## Helper function to load and save images in the appropriate format"
   ],
   "cell_type": "markdown",
   "metadata": {}
  },
  {
   "cell_type": "code",
   "execution_count": 1,
   "metadata": {},
   "outputs": [],
   "source": [
    "import numpy as np\n",
    "from PIL import Image\n",
    "def loadImgToArray(url,info=False):\n",
    "    \"\"\"\n",
    "    take the url and return the image (PIL format) as a numpy Array\n",
    "    \"\"\"\n",
    "    with Image.open(url) as image:\n",
    "    #image = Image.open(url)\n",
    "        imgArray = np.asarray(image)\n",
    "    if info:\n",
    "        print(f'From: {type(image)}, Size: {image.size}, Mode: {image.mode}\\nTo: {type(imgArray)}, shape: {imgArray.shape}')\n",
    "    \n",
    "    return imgArray"
   ]
  },
  {
   "cell_type": "code",
   "execution_count": 2,
   "metadata": {},
   "outputs": [],
   "source": [
    "def saveArrayToImg(url,npArray,info=False):\n",
    "    \"\"\"\n",
    "    Takes a numpy array and converts it \n",
    "    \"\"\"\n",
    "    image = Image.fromarray(npArray)\n",
    "    if info:\n",
    "        print(f'From: {type(npArray)}, shape: {npArray.shape}\\nTo: {type(image)}, Size: {image.size}, Mode: {image.mode}')\n",
    "        \n",
    "    image.save(url)\n",
    "    image.close()"
   ]
  },
  {
   "cell_type": "code",
   "execution_count": 3,
   "metadata": {},
   "outputs": [],
   "source": [
    "# test\n",
    "# mainUrl = '/home/henri/Desktop/roboflow/quickTest/'\n",
    "# testUrl = '/home/henri/Desktop/roboflow/quickTest/'\n",
    "\n",
    "# imgArray = loadImgToArray(mainUrl+'2.jpg', info=True)\n",
    "# saveArrayToImg(testUrl+'.jpg', imgArray,info=True)"
   ]
  },
  {
   "source": [
    "## Helper functions"
   ],
   "cell_type": "markdown",
   "metadata": {}
  },
  {
   "cell_type": "code",
   "execution_count": 4,
   "metadata": {},
   "outputs": [],
   "source": [
    "from io import StringIO \n",
    "def loadingBBox(fileurl,imageArray,info=True):\n",
    "    \"\"\"\n",
    "    Assuming the data is in this format (yolo)\n",
    "    <object-class> <x> <y> <width> <height> \n",
    "    [1.      , 0.250126, 0.29366 , 0.471062, 0.410735]\n",
    "    the fucntion will return the following format\n",
    "    <object-class> <x1> <y1> <x2> <y2>\n",
    "\n",
    "    The following code allowed to push through\n",
    "    https://github.com/dnissimi/imgaug-yolov3/blob/master/imgaug-yolov3.py\n",
    "\n",
    "    *rant warning*\n",
    "    legit the reason why it is so complex is that the yolo format values are kept between 0-1 and that they are multiplied by the file's shape\n",
    "    so they have to be 'hydrated' by multiplying each values by their corresponding image height or width.\n",
    "    i.e. if a box width and height are both .5 that mean the box essentially takes half of the screen area.\n",
    "    The only thing I don't quite understand in the calculations is why Wbox/hbox have to be divided by 2. Clue yolo x,y indicates the center of the box so you have to push the coordinate to the left by half (since the value is in the center)\n",
    "\n",
    "    \"\"\"\n",
    "    # width/height of the orginal image\n",
    "    width = imageArray.shape[1] #width or x axis\n",
    "    height = imageArray.shape[0] #height of y axis\n",
    "    boxData = np.loadtxt(fileurl)\n",
    "    \n",
    "    x1 = boxData[:,1:2:] * width - (boxData[:,3:4:] * width / 2)\n",
    "    y1 = boxData[:,2:3:] * height - (boxData[:,4:5:] * height / 2)\n",
    "    x2 = boxData[:,3:4:] * width + x1\n",
    "    y2 = boxData[:,4:5:] * height + y1\n",
    "    scaledtransformed = np.column_stack([boxData[:,0:1:],x1,y1,x2,y2])\n",
    "    if info:\n",
    "        print(f'\\nimage width: {width} and height {height}')\n",
    "        print(f'before transform <object-class> <x> <y> <width> <height>:\\n{boxData}\\n after transform <object-class> <x1> <y1> <x2> <y2>:\\n{scaledtransformed}')\n",
    "\n",
    "    return scaledtransformed"
   ]
  },
  {
   "cell_type": "code",
   "execution_count": 5,
   "metadata": {},
   "outputs": [],
   "source": [
    "# test (loading boxes)\n",
    "mainUrl = '/home/henri/Desktop/roboflow/'\n",
    "testUrl = '/home/henri/Desktop/roboflow/quickTest/'\n",
    "# npArray = loadImgToArray(testUrl+'60.jpg', info=True)\n",
    "# boxData = loadingBBox(testUrl+'60.txt', imgArray, info=True)"
   ]
  },
  {
   "cell_type": "code",
   "execution_count": 6,
   "metadata": {},
   "outputs": [],
   "source": [
    "def saveBBox(fileurl,boxData,imageArray,info=True):\n",
    "    \"\"\"\n",
    "    Assuming the data is in this format (yolo)\n",
    "    <object-class> <x1> <y1> <x2> <y2> \n",
    "    the fucntion will return the following format\n",
    "    <object-class> <x> <y> <width> <height>\n",
    "\n",
    "    Doesn't take into account boxes that fell outside the image size post transformation\n",
    "    \"\"\"\n",
    "    # width/height of the transfomer image\n",
    "    width = imageArray.shape[1] #width or x axis\n",
    "    height = imageArray.shape[0] #height of y axis\n",
    "\n",
    "    x_pos = boxData[:,1:2:] / width - (( boxData[:,1:2:] - boxData[:,3:4:]) / width / 2)\n",
    "    y_pos = boxData[:,2:3:] / height - ((boxData[:,2:3:] - boxData[:,4:5:]) / height /2)\n",
    "    # the original repo had an error there\n",
    "    x_size = (boxData[:,3:4:] - boxData[:,1:2:]) / width \n",
    "    y_size = (boxData[:,4:5:] - boxData[:,2:3:]) / height\n",
    "    scaledtransformed  = np.column_stack([boxData[:,0:1:],x_pos,y_pos,x_size,y_size])\n",
    "\n",
    "    # normally we \n",
    "    if info:\n",
    "        print(f'\\nimage width: {width} and height {height}')\n",
    "        print(f'before transform\\n<object-class> <x1> <y1> <x2> <y2>:\\n{boxData} after transform <object-class> <x> <y> <width> <height>:\\n{scaledtransformed}')\n",
    "    \n",
    "    np.savetxt(fileurl, scaledtransformed,fmt='%f', delimiter=' ')"
   ]
  },
  {
   "cell_type": "code",
   "execution_count": 7,
   "metadata": {},
   "outputs": [],
   "source": [
    "def showImg(imgArray):\n",
    "    \"\"\"\n",
    "    takes a numpy array and display as a picture\n",
    "    \"\"\"  \n",
    "    imgplot = plt.imshow(imgArray)\n",
    "    plt.show()"
   ]
  },
  {
   "cell_type": "code",
   "execution_count": 8,
   "metadata": {},
   "outputs": [],
   "source": [
    "def bboxNPPacker(bbox):\n",
    "    packer = np.empty([len(bbox.bounding_boxes), 5])\n",
    "    for idx in range(len(bbox.bounding_boxes)):\n",
    "        bboxIdx = bbox.bounding_boxes[idx]\n",
    "        packer[idx] = [bboxIdx.label,bboxIdx.x1,bboxIdx.y1,bboxIdx.x2,bboxIdx.y2]\n",
    "    return packer"
   ]
  },
  {
   "cell_type": "code",
   "execution_count": 9,
   "metadata": {},
   "outputs": [],
   "source": [
    "# saveBBox(testUrl+'136.txt', boxData, imgArray, info=True)"
   ]
  },
  {
   "cell_type": "code",
   "execution_count": 10,
   "metadata": {},
   "outputs": [],
   "source": [
    "def fileNameAugGen(i,fileName):\n",
    "    oldJpgName = fileName[0].split('.')\n",
    "    oldTxtName = fileName[1].split('.')\n",
    "    newName = [oldJpgName[0] +f'aug{i}.' + oldJpgName[1],oldTxtName[0] +f'aug{i}.' + oldTxtName[1]]\n",
    "    return newName"
   ]
  },
  {
   "cell_type": "code",
   "execution_count": 11,
   "metadata": {},
   "outputs": [],
   "source": [
    "def augmentedCopiesSingleImage(imgArray,bbox,amount,info=False):\n",
    "    results = dict()\n",
    "    for i in range(0,amount):\n",
    "        results[i] = seq(image=imgArray, bounding_boxes=bbox)\n",
    "    return results"
   ]
  },
  {
   "cell_type": "code",
   "execution_count": 12,
   "metadata": {},
   "outputs": [
    {
     "output_type": "stream",
     "name": "stdout",
     "text": [
      "10.jpg 10.txt\n100.jpg 100.txt\n101.jpg 101.txt\n102.jpg 102.txt\n103.jpg 103.txt\n104.jpg 104.txt\n105.jpg 105.txt\n106.jpg 106.txt\n107.jpg 107.txt\n108.jpg 108.txt\n109.jpg 109.txt\n11.jpg 11.txt\n110.jpg 110.txt\n111.jpg 111.txt\n112.jpg 112.txt\n113.jpg 113.txt\n114.jpg 114.txt\n115.jpg 115.txt\n116.jpg 116.txt\n117.jpg 117.txt\n118.jpg 118.txt\n119.jpg 119.txt\n12.jpg 12.txt\n120.jpg 120.txt\n121.jpg 121.txt\n122.jpg 122.txt\n124.jpg 124.txt\n125.jpg 125.txt\n126.jpg 126.txt\n127.jpg 127.txt\n128.jpg 128.txt\n129.jpg 129.txt\n13.jpg 13.txt\n130.jpg 130.txt\n131.jpg 131.txt\n132.jpg 132.txt\n133.jpg 133.txt\n134.jpg 134.txt\n135.jpg 135.txt\n14.jpg 14.txt\n15.jpg 15.txt\n17.jpg 17.txt\n18.jpg 18.txt\n2.jpg 2.txt\n21.jpg 21.txt\n24.jpg 24.txt\n26.jpg 26.txt\n27.jpg 27.txt\n29.jpg 29.txt\n30.jpg 30.txt\n31.jpg 31.txt\n32.jpg 32.txt\n34.jpg 34.txt\n35.jpg 35.txt\n36.jpg 36.txt\n37.jpg 37.txt\n38.jpg 38.txt\n39.jpg 39.txt\n4.jpg 4.txt\n40.jpg 40.txt\n41.jpg 41.txt\n42.jpg 42.txt\n44.jpg 44.txt\n45.jpg 45.txt\n46.jpg 46.txt\n47.jpg 47.txt\n48.jpg 48.txt\n49.jpg 49.txt\n5.jpg 5.txt\n50.jpg 50.txt\n51.jpg 51.txt\n52.jpg 52.txt\n54.jpg 54.txt\n55.jpg 55.txt\n58.jpg 58.txt\n59.jpg 59.txt\n6.jpg 6.txt\n60.jpg 60.txt\n62.jpg 62.txt\n64.jpg 64.txt\n65.jpg 65.txt\n66.jpg 66.txt\n68.jpg 68.txt\n69.jpg 69.txt\n7.jpg 7.txt\n70.jpg 70.txt\n71.jpg 71.txt\n72.jpg 72.txt\n74.jpg 74.txt\n76.jpg 76.txt\n77.jpg 77.txt\n78.jpg 78.txt\n79.jpg 79.txt\n8.jpg 8.txt\n80.jpg 80.txt\n81.jpg 81.txt\n82.jpg 82.txt\n83.jpg 83.txt\n84.jpg 84.txt\n88.jpg 88.txt\n89.jpg 89.txt\n9.jpg 9.txt\n90.jpg 90.txt\n91.jpg 91.txt\n93.jpg 93.txt\n94.jpg 94.txt\n95.jpg 95.txt\n96.jpg 96.txt\n97.jpg 97.txt\n98.jpg 98.txt\n99.jpg 99.txt\n"
     ]
    }
   ],
   "source": [
    "from os import listdir\n",
    "from os.path import isfile, join\n",
    "mainUrl = '/home/henri/Desktop/roboflow/'\n",
    "\n",
    "def directoryImgTxtload(mainUrl):\n",
    "    \"\"\"\n",
    "    function that takes the directory link and package jpg and txt files into a list.\n",
    "    Check for mismatch\n",
    "    help from: https://stackoverflow.com/questions/21752610/iterate-every-2-elements-from-list-at-a-time\n",
    "    \"\"\"\n",
    "    \n",
    "    onlyfiles = [f for f in listdir(mainUrl) if isfile(join(mainUrl, f))]\n",
    "    sortedImgTxt = sorted(onlyfiles)\n",
    "    # return sortedImgTxt\n",
    "    # #it = iter(sortedImgTxt)\n",
    "    combinedList = list()\n",
    "    # # the only things that should be in the folder should be jpg and txt\n",
    "    for i, v in  zip(sortedImgTxt[0::2], sortedImgTxt[1::2]):\n",
    "        print(i, v)\n",
    "        combinedList.append(list([i,v]))\n",
    "    \n",
    "        #check for mismatch of files\n",
    "        if (i.split('.')[0]) != (v.split('.')[0]):\n",
    "            print(f'Mismatched file detected {[i,v]} in directory {mainUrl} purging results.\\nUser please take action!')\n",
    "            combinedList = list()\n",
    "            break\n",
    "    return combinedList\n",
    "#             #print (x, next(it))\n",
    "    # return combinedList\n",
    "directory = directoryImgTxtload(mainUrl)"
   ]
  },
  {
   "cell_type": "code",
   "execution_count": 13,
   "metadata": {},
   "outputs": [
    {
     "output_type": "stream",
     "name": "stdout",
     "text": [
      "10.jpg 10.txt\n100.jpg 100.txt\n101.jpg 101.txt\n102.jpg 102.txt\n103.jpg 103.txt\n104.jpg 104.txt\n105.jpg 105.txt\n106.jpg 106.txt\n107.jpg 107.txt\n108.jpg 108.txt\n109.jpg 109.txt\n11.jpg 11.txt\n110.jpg 110.txt\n111.jpg 111.txt\n112.jpg 112.txt\n113.jpg 113.txt\n114.jpg 114.txt\n115.jpg 115.txt\n116.jpg 116.txt\n117.jpg 117.txt\n118.jpg 118.txt\n119.jpg 119.txt\n12.jpg 12.txt\n120.jpg 120.txt\n121.jpg 121.txt\n122.jpg 122.txt\n124.jpg 124.txt\n125.jpg 125.txt\n126.jpg 126.txt\n127.jpg 127.txt\n128.jpg 128.txt\n129.jpg 129.txt\n13.jpg 13.txt\n130.jpg 130.txt\n131.jpg 131.txt\n132.jpg 132.txt\n133.jpg 133.txt\n134.jpg 134.txt\n135.jpg 135.txt\n14.jpg 14.txt\n15.jpg 15.txt\n17.jpg 17.txt\n18.jpg 18.txt\n2.jpg 2.txt\n21.jpg 21.txt\n24.jpg 24.txt\n26.jpg 26.txt\n27.jpg 27.txt\n29.jpg 29.txt\n30.jpg 30.txt\n31.jpg 31.txt\n32.jpg 32.txt\n34.jpg 34.txt\n35.jpg 35.txt\n36.jpg 36.txt\n37.jpg 37.txt\n38.jpg 38.txt\n39.jpg 39.txt\n4.jpg 4.txt\n40.jpg 40.txt\n41.jpg 41.txt\n42.jpg 42.txt\n44.jpg 44.txt\n45.jpg 45.txt\n46.jpg 46.txt\n47.jpg 47.txt\n48.jpg 48.txt\n49.jpg 49.txt\n5.jpg 5.txt\n50.jpg 50.txt\n51.jpg 51.txt\n52.jpg 52.txt\n54.jpg 54.txt\n55.jpg 55.txt\n58.jpg 58.txt\n59.jpg 59.txt\n6.jpg 6.txt\n60.jpg 60.txt\n62.jpg 62.txt\n64.jpg 64.txt\n65.jpg 65.txt\n66.jpg 66.txt\n68.jpg 68.txt\n69.jpg 69.txt\n7.jpg 7.txt\n70.jpg 70.txt\n71.jpg 71.txt\n72.jpg 72.txt\n74.jpg 74.txt\n76.jpg 76.txt\n77.jpg 77.txt\n78.jpg 78.txt\n79.jpg 79.txt\n8.jpg 8.txt\n80.jpg 80.txt\n81.jpg 81.txt\n82.jpg 82.txt\n83.jpg 83.txt\n84.jpg 84.txt\n88.jpg 88.txt\n89.jpg 89.txt\n9.jpg 9.txt\n90.jpg 90.txt\n91.jpg 91.txt\n93.jpg 93.txt\n94.jpg 94.txt\n95.jpg 95.txt\n96.jpg 96.txt\n97.jpg 97.txt\n98.jpg 98.txt\n99.jpg 99.txt\n"
     ]
    }
   ],
   "source": [
    "directory = directoryImgTxtload(mainUrl)"
   ]
  },
  {
   "cell_type": "code",
   "execution_count": 14,
   "metadata": {},
   "outputs": [],
   "source": [
    "def showImgAug(test):\n",
    "    for i in range(len(test)):\n",
    "        showImg(test[i][0])"
   ]
  },
  {
   "cell_type": "code",
   "execution_count": 15,
   "metadata": {},
   "outputs": [],
   "source": [
    "# #!pip install imgaug\n",
    "import imgaug as ia\n",
    "import imgaug.augmenters as iaa\n",
    "from imgaug.augmentables.bbs import BoundingBox, BoundingBoxesOnImage\n",
    "\n",
    "# imageArray = loadImgToArray(mainUrl+'2.jpg', info=True)\n",
    "# Bdata = loadingBBox(mainUrl+'2.txt',imageArray,info=True)\n",
    "\n",
    "# bbs = list()\n",
    "# for box in Bdata:\n",
    "#     Bclass,x1,y1,x2,y2 = box\n",
    "#     bbs.append(BoundingBox(label=Bclass,x1=x1, y1=y1, x2=x2, y2=y2))\n",
    "# bbs = BoundingBoxesOnImage(bbs,shape=imageArray.shape)"
   ]
  },
  {
   "cell_type": "code",
   "execution_count": 16,
   "metadata": {},
   "outputs": [
    {
     "output_type": "stream",
     "name": "stdout",
     "text": [
      "Populating the interactive namespace from numpy and matplotlib\n"
     ]
    }
   ],
   "source": [
    "%pylab inline\n",
    "import matplotlib.pyplot as plt \n",
    "import matplotlib.image as mpimg"
   ]
  },
  {
   "cell_type": "code",
   "execution_count": 17,
   "metadata": {},
   "outputs": [],
   "source": [
    "#setting the pipeline\n",
    "seq = iaa.Sequential([\n",
    "    iaa.Multiply((1.2, 1.5)), # change brightness, doesn't affect BBs\n",
    "    iaa.Affine(\n",
    "        translate_px={\"x\": 40, \"y\": 60},\n",
    "        scale=(0.5, 0.7)\n",
    "    ) # translate by 40/60px on x/y axis, and scale to 50-70%, affects BBs\n",
    "])"
   ]
  },
  {
   "cell_type": "code",
   "execution_count": 18,
   "metadata": {},
   "outputs": [],
   "source": [
    "# Augment BBs and images.\n",
    "#image_aug, bbs_aug = seq(image=imageArray, bounding_boxes=bbs)"
   ]
  },
  {
   "cell_type": "code",
   "execution_count": 19,
   "metadata": {},
   "outputs": [],
   "source": [
    "# before picture \n",
    "#showImg(imageArray)"
   ]
  },
  {
   "cell_type": "code",
   "execution_count": 20,
   "metadata": {},
   "outputs": [],
   "source": [
    "# after picture\n",
    "#showImg(image_aug)"
   ]
  },
  {
   "cell_type": "code",
   "execution_count": 21,
   "metadata": {},
   "outputs": [],
   "source": [
    "# testUrl = '/home/henri/Desktop/roboflow/quickTest/'\n",
    "# saveArrayToImg(testUrl+'2.jpg', image_aug,info=False)\n",
    "# saveBBox(testUrl+'2.txt', bboxNPPacker(bbs_aug), image_aug, info=False)"
   ]
  },
  {
   "source": [
    "## End of test"
   ],
   "cell_type": "markdown",
   "metadata": {}
  },
  {
   "cell_type": "code",
   "execution_count": 22,
   "metadata": {},
   "outputs": [],
   "source": [
    "mainUrl = '/home/henri/Desktop/roboflow/'\n",
    "testUrl = '/home/henri/Desktop/roboflow/quickTest/'"
   ]
  },
  {
   "cell_type": "code",
   "execution_count": 23,
   "metadata": {},
   "outputs": [],
   "source": [
    "#setting the pipeline\n",
    "sometimes = lambda aug: iaa.Sometimes(0.5, aug)\n",
    "seq = iaa.Sequential([\n",
    "\n",
    "# the most important part of the image transformation\n",
    "\n",
    "    sometimes(iaa.CropAndPad(\n",
    "            percent=(-0.05, 0.2),\n",
    "            pad_mode=ia.ALL,\n",
    "            pad_cval=(0, 255)\n",
    "        )),\n",
    "    sometimes(iaa.Affine(\n",
    "            scale={\"x\": (0.8, 1.2), \"y\": (0.8, 1.2)}, # scale images to 80-120% of their size, individually per axis\n",
    "            translate_percent={\"x\": (-0.2, 0.2), \"y\": (-0.2, 0.2)}, # translate by -20 to +20 percent (per axis)\n",
    "            rotate=(-45, 45), # rotate by -45 to +45 degrees\n",
    "            shear=(-16, 16), # shear by -16 to +16 degrees\n",
    "            order=[0, 1], # use nearest neighbour or bilinear interpolation (fast)\n",
    "            cval=(0, 255), # if mode is constant, use a cval between 0 and 255\n",
    "            mode=ia.ALL # use any of scikit-image's warping modes (see 2nd image from the top for examples)\n",
    "        ))\n",
    "\n",
    "# everything bellow is nice but not required \n",
    "\n",
    "\n",
    "        # iaa.SomeOf((0, 5),\n",
    "        #     [\n",
    "        #         #sometimes(iaa.Superpixels(p_replace=(0, 1.0), n_segments=(20, 200))), # convert images into their superpixel representation\n",
    "        #         iaa.OneOf([\n",
    "        #             iaa.GaussianBlur((0, 3.0)), # blur images with a sigma between 0 and 3.0\n",
    "        #             iaa.AverageBlur(k=(2, 7)), # blur image using local means with kernel sizes between 2 and 7\n",
    "        #             iaa.MedianBlur(k=(3, 11)), # blur image using local medians with kernel sizes between 2 and 7\n",
    "        #         ]),\n",
    "        #         iaa.Sharpen(alpha=(0, 1.0), lightness=(0.75, 1.5)), # sharpen images\n",
    "        #         iaa.Emboss(alpha=(0, 1.0), strength=(0, 2.0)), # emboss images\n",
    "        #         # search either for all edges or for directed edges,\n",
    "        #         # blend the result with the original image using a blobby mask\n",
    "        #         iaa.SimplexNoiseAlpha(iaa.OneOf([\n",
    "        #             iaa.EdgeDetect(alpha=(0.5, 1.0)),\n",
    "        #             iaa.DirectedEdgeDetect(alpha=(0.5, 1.0), direction=(0.0, 1.0)),\n",
    "        #         ])),\n",
    "        #         iaa.AdditiveGaussianNoise(loc=0, scale=(0.0, 0.05*255), per_channel=0.5), # add gaussian noise to images\n",
    "        #         iaa.OneOf([\n",
    "        #             iaa.Dropout((0.01, 0.1), per_channel=0.5), # randomly remove up to 10% of the pixels\n",
    "        #             iaa.CoarseDropout((0.03, 0.15), size_percent=(0.02, 0.05), per_channel=0.2),\n",
    "        #         ]),\n",
    "        #         iaa.Invert(0.05, per_channel=True), # invert color channels\n",
    "        #         iaa.Add((-10, 10), per_channel=0.5), # change brightness of images (by -10 to 10 of original value)\n",
    "        #         iaa.AddToHueAndSaturation((-20, 20)), # change hue and saturation\n",
    "        #         # either change the brightness of the whole image (sometimes\n",
    "        #         # per channel) or change the brightness of subareas\n",
    "        #         iaa.OneOf([\n",
    "        #             iaa.Multiply((0.5, 1.5), per_channel=0.5),\n",
    "        #             iaa.FrequencyNoiseAlpha(\n",
    "        #                 exponent=(-4, 0),\n",
    "        #                 first=iaa.Multiply((0.5, 1.5), per_channel=True),\n",
    "        #                 second=iaa.LinearContrast((0.5, 2.0))\n",
    "        #             )\n",
    "        #         ]),\n",
    "        #         iaa.LinearContrast((0.5, 2.0), per_channel=0.5), # improve or worsen the contrast\n",
    "        #         iaa.Grayscale(alpha=(0.0, 1.0)),\n",
    "        #         sometimes(iaa.ElasticTransformation(alpha=(0.5, 3.5), sigma=0.25)), # move pixels locally around (with random strengths)\n",
    "        #         sometimes(iaa.PiecewiseAffine(scale=(0.01, 0.05))), # sometimes move parts of the image around\n",
    "        #         sometimes(iaa.PerspectiveTransform(scale=(0.01, 0.1)))\n",
    "        #     ],\n",
    "        #     random_order=True)\n",
    "])"
   ]
  },
  {
   "cell_type": "code",
   "execution_count": 24,
   "metadata": {},
   "outputs": [],
   "source": [
    "# image_aug, bbs_aug = seq(image=imageArray, bounding_boxes=bbs)\n",
    "# showImg(imageArray)\n",
    "# showImg(image_aug)\n",
    "# bbs_aug"
   ]
  },
  {
   "cell_type": "code",
   "execution_count": 25,
   "metadata": {},
   "outputs": [],
   "source": [
    "# saveArrayToImg(testUrl+'2.jpg', image_aug,info=False)\n",
    "# saveBBox(testUrl+'2.txt', bboxNPPacker(bbs_aug), image_aug, info=False)"
   ]
  },
  {
   "cell_type": "code",
   "execution_count": 26,
   "metadata": {},
   "outputs": [],
   "source": [
    "#easier to load files into dict dict(idx) = [img,box]\n"
   ]
  },
  {
   "cell_type": "code",
   "execution_count": 27,
   "metadata": {},
   "outputs": [],
   "source": [
    "# test = augmentedCopiesSingleImage(imageArray,bbs,3)\n",
    "# for i in range(len(test)):\n",
    "#     showImg(test[i][0])"
   ]
  },
  {
   "cell_type": "code",
   "execution_count": 28,
   "metadata": {},
   "outputs": [],
   "source": [
    "mainUrl = '/home/henri/Desktop/roboflow/'\n",
    "testUrl = '/home/henri/Desktop/roboflow/quickTest/'"
   ]
  },
  {
   "source": [
    "## Loading files and packaging them (test)"
   ],
   "cell_type": "markdown",
   "metadata": {}
  },
  {
   "cell_type": "code",
   "execution_count": 29,
   "metadata": {},
   "outputs": [],
   "source": [
    "from os import listdir\n",
    "from os.path import isfile, join\n",
    "onlyfiles = [f for f in listdir(mainUrl) if isfile(join(mainUrl, f))]\n",
    "sortedImgTxt = sorted(onlyfiles)"
   ]
  },
  {
   "cell_type": "code",
   "execution_count": 30,
   "metadata": {},
   "outputs": [],
   "source": [
    "# # https://stackoverflow.com/questions/21752610/iterate-every-2-elements-from-list-at-a-time\n",
    "# it = iter(sortedImgTxt)\n",
    "# combinedList = list()\n",
    "# # the only things that should be in the folder should be jpg and txt\n",
    "# for x in it:\n",
    "#     combinedList.append([x, next(it)])\n",
    "#     # check for mismatch of files\n",
    "#     if (combinedList[0][0].split('.')[0]) != (combinedList[0][1].split('.')[0]):\n",
    "#         print(f'Mismatched file detected {combinedList[0]} in directory {mainUrl} purging results.\\nUser please take action!')\n",
    "#         combinedList = list()\n",
    "#         break\n",
    "#     #print (x, next(it))\n",
    "# #combinedList"
   ]
  },
  {
   "source": [
    "## Loading files and packaging them (ready)"
   ],
   "cell_type": "markdown",
   "metadata": {}
  },
  {
   "cell_type": "code",
   "execution_count": 31,
   "metadata": {},
   "outputs": [],
   "source": [
    "testli = ['100.jpg', '100.txt']"
   ]
  },
  {
   "cell_type": "code",
   "execution_count": 32,
   "metadata": {},
   "outputs": [
    {
     "output_type": "execute_result",
     "data": {
      "text/plain": [
       "['100aug69.jpg', '100aug69.txt']"
      ]
     },
     "metadata": {},
     "execution_count": 32
    }
   ],
   "source": [
    "fileNameAugGen(69,testli)"
   ]
  },
  {
   "cell_type": "code",
   "execution_count": 33,
   "metadata": {},
   "outputs": [],
   "source": [
    "# directory = directoryImgTxtload(mainUrl)\n",
    "# imageArray = loadImgToArray(mainUrl + directory[1][0], info=False)\n",
    "# Bdata = loadingBBox(mainUrl + directory[1][1],imageArray,info=False)\n",
    "\n",
    "# bbs = list()\n",
    "# for box in Bdata:\n",
    "#     Bclass,x1,y1,x2,y2 = box\n",
    "#     bbs.append(BoundingBox(label=Bclass,x1=x1, y1=y1, x2=x2, y2=y2))\n",
    "# bbs = BoundingBoxesOnImage(bbs,shape=imageArray.shape)\n",
    "\n",
    "# augmentedImagesList = augmentedCopiesSingleImage(imageArray,bbs,np.random.randint(4,high=9))\n"
   ]
  },
  {
   "cell_type": "code",
   "execution_count": 34,
   "metadata": {},
   "outputs": [],
   "source": [
    "# showImgAug(augmentedImagesList)"
   ]
  },
  {
   "cell_type": "code",
   "execution_count": 35,
   "metadata": {},
   "outputs": [],
   "source": [
    "# for i in range(len(augmentedImagesList)):\n",
    "#     jpgNewName, txtNewName = fileNameAugGen(i,directory[1])\n",
    "#     saveArrayToImg(testUrl + jpgNewName, augmentedImagesList[i][0],info=False)\n",
    "#     #! error bellow\n",
    "#     #url,\n",
    "#     saveBBox(testUrl + txtNewName, bboxNPPacker(augmentedImagesList[i][1]), augmentedImagesList[i][0], info=False)\n"
   ]
  },
  {
   "cell_type": "code",
   "execution_count": 36,
   "metadata": {},
   "outputs": [],
   "source": [
    "#directory = directoryImgTxtload(mainUrl)\n",
    "#directory"
   ]
  },
  {
   "cell_type": "code",
   "execution_count": 37,
   "metadata": {
    "tags": []
   },
   "outputs": [
    {
     "output_type": "stream",
     "name": "stderr",
     "text": [
      "  0%|          | 0/111 [00:00<?, ?it/s]10.jpg 10.txt\n",
      "100.jpg 100.txt\n",
      "101.jpg 101.txt\n",
      "102.jpg 102.txt\n",
      "103.jpg 103.txt\n",
      "104.jpg 104.txt\n",
      "105.jpg 105.txt\n",
      "106.jpg 106.txt\n",
      "107.jpg 107.txt\n",
      "108.jpg 108.txt\n",
      "109.jpg 109.txt\n",
      "11.jpg 11.txt\n",
      "110.jpg 110.txt\n",
      "111.jpg 111.txt\n",
      "112.jpg 112.txt\n",
      "113.jpg 113.txt\n",
      "114.jpg 114.txt\n",
      "115.jpg 115.txt\n",
      "116.jpg 116.txt\n",
      "117.jpg 117.txt\n",
      "118.jpg 118.txt\n",
      "119.jpg 119.txt\n",
      "12.jpg 12.txt\n",
      "120.jpg 120.txt\n",
      "121.jpg 121.txt\n",
      "122.jpg 122.txt\n",
      "124.jpg 124.txt\n",
      "125.jpg 125.txt\n",
      "126.jpg 126.txt\n",
      "127.jpg 127.txt\n",
      "128.jpg 128.txt\n",
      "129.jpg 129.txt\n",
      "13.jpg 13.txt\n",
      "130.jpg 130.txt\n",
      "131.jpg 131.txt\n",
      "132.jpg 132.txt\n",
      "133.jpg 133.txt\n",
      "134.jpg 134.txt\n",
      "135.jpg 135.txt\n",
      "14.jpg 14.txt\n",
      "15.jpg 15.txt\n",
      "17.jpg 17.txt\n",
      "18.jpg 18.txt\n",
      "2.jpg 2.txt\n",
      "21.jpg 21.txt\n",
      "24.jpg 24.txt\n",
      "26.jpg 26.txt\n",
      "27.jpg 27.txt\n",
      "29.jpg 29.txt\n",
      "30.jpg 30.txt\n",
      "31.jpg 31.txt\n",
      "32.jpg 32.txt\n",
      "34.jpg 34.txt\n",
      "35.jpg 35.txt\n",
      "36.jpg 36.txt\n",
      "37.jpg 37.txt\n",
      "38.jpg 38.txt\n",
      "39.jpg 39.txt\n",
      "4.jpg 4.txt\n",
      "40.jpg 40.txt\n",
      "41.jpg 41.txt\n",
      "42.jpg 42.txt\n",
      "44.jpg 44.txt\n",
      "45.jpg 45.txt\n",
      "46.jpg 46.txt\n",
      "47.jpg 47.txt\n",
      "48.jpg 48.txt\n",
      "49.jpg 49.txt\n",
      "5.jpg 5.txt\n",
      "50.jpg 50.txt\n",
      "51.jpg 51.txt\n",
      "52.jpg 52.txt\n",
      "54.jpg 54.txt\n",
      "55.jpg 55.txt\n",
      "58.jpg 58.txt\n",
      "59.jpg 59.txt\n",
      "6.jpg 6.txt\n",
      "60.jpg 60.txt\n",
      "62.jpg 62.txt\n",
      "64.jpg 64.txt\n",
      "65.jpg 65.txt\n",
      "66.jpg 66.txt\n",
      "68.jpg 68.txt\n",
      "69.jpg 69.txt\n",
      "7.jpg 7.txt\n",
      "70.jpg 70.txt\n",
      "71.jpg 71.txt\n",
      "72.jpg 72.txt\n",
      "74.jpg 74.txt\n",
      "76.jpg 76.txt\n",
      "77.jpg 77.txt\n",
      "78.jpg 78.txt\n",
      "79.jpg 79.txt\n",
      "8.jpg 8.txt\n",
      "80.jpg 80.txt\n",
      "81.jpg 81.txt\n",
      "82.jpg 82.txt\n",
      "83.jpg 83.txt\n",
      "84.jpg 84.txt\n",
      "88.jpg 88.txt\n",
      "89.jpg 89.txt\n",
      "9.jpg 9.txt\n",
      "90.jpg 90.txt\n",
      "91.jpg 91.txt\n",
      "93.jpg 93.txt\n",
      "94.jpg 94.txt\n",
      "95.jpg 95.txt\n",
      "96.jpg 96.txt\n",
      "97.jpg 97.txt\n",
      "98.jpg 98.txt\n",
      "99.jpg 99.txt\n",
      "\n",
      "working on 10.jpg 10.txt\n",
      "  1%|          | 1/111 [00:00<00:26,  4.23it/s]\n",
      "working on 100.jpg 100.txt\n",
      "  2%|▏         | 2/111 [00:01<00:54,  2.00it/s]\n",
      "working on 101.jpg 101.txt\n",
      "\n",
      "working on 102.jpg 102.txt\n",
      "  4%|▎         | 4/111 [00:01<00:47,  2.26it/s]\n",
      "working on 103.jpg 103.txt\n",
      "  5%|▌         | 6/111 [00:03<00:54,  1.92it/s]\n",
      "working on 104.jpg 104.txt\n",
      "\n",
      "working on 105.jpg 105.txt\n",
      "  6%|▋         | 7/111 [00:03<00:53,  1.94it/s]\n",
      "working on 106.jpg 106.txt\n",
      "  8%|▊         | 9/111 [00:04<00:41,  2.47it/s]\n",
      "working on 107.jpg 107.txt\n",
      "\n",
      "working on 108.jpg 108.txt\n",
      "  9%|▉         | 10/111 [00:04<00:38,  2.64it/s]\n",
      "working on 109.jpg 109.txt\n",
      " 11%|█         | 12/111 [00:05<00:31,  3.19it/s]\n",
      "working on 11.jpg 11.txt\n",
      "\n",
      "working on 110.jpg 110.txt\n",
      " 13%|█▎        | 14/111 [00:05<00:24,  3.93it/s]\n",
      "working on 111.jpg 111.txt\n",
      "\n",
      "working on 112.jpg 112.txt\n",
      "\n",
      "working on 113.jpg 113.txt\n",
      " 14%|█▍        | 16/111 [00:06<00:23,  4.08it/s]\n",
      "working on 114.jpg 114.txt\n",
      " 15%|█▌        | 17/111 [00:06<00:35,  2.63it/s]\n",
      "working on 115.jpg 115.txt\n",
      " 16%|█▌        | 18/111 [00:07<00:37,  2.46it/s]\n",
      "working on 116.jpg 116.txt\n",
      "\n",
      "working on 117.jpg 117.txt\n",
      " 19%|█▉        | 21/111 [00:07<00:25,  3.51it/s]\n",
      "working on 118.jpg 118.txt\n",
      "\n",
      "working on 119.jpg 119.txt\n",
      " 21%|██        | 23/111 [00:09<00:38,  2.29it/s]\n",
      "working on 12.jpg 12.txt\n",
      "\n",
      "working on 120.jpg 120.txt\n",
      " 22%|██▏       | 24/111 [00:09<00:36,  2.41it/s]\n",
      "working on 121.jpg 121.txt\n",
      "\n",
      "working on 122.jpg 122.txt\n",
      " 23%|██▎       | 26/111 [00:10<00:34,  2.48it/s]\n",
      "working on 124.jpg 124.txt\n",
      " 24%|██▍       | 27/111 [00:10<00:35,  2.37it/s]\n",
      "working on 125.jpg 125.txt\n",
      " 26%|██▌       | 29/111 [00:11<00:27,  2.99it/s]\n",
      "working on 126.jpg 126.txt\n",
      "\n",
      "working on 127.jpg 127.txt\n",
      " 27%|██▋       | 30/111 [00:11<00:26,  3.05it/s]\n",
      "working on 128.jpg 128.txt\n",
      " 30%|██▉       | 33/111 [00:12<00:26,  3.00it/s]\n",
      "working on 129.jpg 129.txt\n",
      "\n",
      "working on 13.jpg 13.txt\n",
      "\n",
      "working on 130.jpg 130.txt\n",
      " 32%|███▏      | 35/111 [00:13<00:20,  3.64it/s]\n",
      "working on 131.jpg 131.txt\n",
      "\n",
      "working on 132.jpg 132.txt\n",
      " 33%|███▎      | 37/111 [00:13<00:16,  4.51it/s]\n",
      "working on 133.jpg 133.txt\n",
      "\n",
      "working on 134.jpg 134.txt\n",
      " 34%|███▍      | 38/111 [00:14<00:40,  1.79it/s]\n",
      "working on 135.jpg 135.txt\n",
      " 36%|███▌      | 40/111 [00:15<00:26,  2.72it/s]\n",
      "working on 14.jpg 14.txt\n",
      "\n",
      "working on 15.jpg 15.txt\n",
      " 37%|███▋      | 41/111 [00:15<00:23,  2.99it/s]\n",
      "working on 17.jpg 17.txt\n",
      " 38%|███▊      | 42/111 [00:15<00:23,  2.95it/s]\n",
      "working on 18.jpg 18.txt\n",
      " 40%|███▉      | 44/111 [00:16<00:18,  3.53it/s]\n",
      "working on 2.jpg 2.txt\n",
      "\n",
      "working on 21.jpg 21.txt\n",
      " 41%|████▏     | 46/111 [00:17<00:31,  2.08it/s]\n",
      "working on 24.jpg 24.txt\n",
      "\n",
      "working on 26.jpg 26.txt\n",
      " 43%|████▎     | 48/111 [00:17<00:18,  3.39it/s]\n",
      "working on 27.jpg 27.txt\n",
      "\n",
      "working on 29.jpg 29.txt\n",
      " 45%|████▌     | 50/111 [00:18<00:15,  4.06it/s]\n",
      "working on 30.jpg 30.txt\n",
      "\n",
      "working on 31.jpg 31.txt\n",
      " 47%|████▋     | 52/111 [00:18<00:15,  3.92it/s]\n",
      "working on 32.jpg 32.txt\n",
      "\n",
      "working on 34.jpg 34.txt\n",
      " 50%|████▉     | 55/111 [00:19<00:13,  4.21it/s]\n",
      "working on 35.jpg 35.txt\n",
      "\n",
      "working on 36.jpg 36.txt\n",
      "\n",
      "working on 37.jpg 37.txt\n",
      " 51%|█████▏    | 57/111 [00:20<00:14,  3.62it/s]\n",
      "working on 38.jpg 38.txt\n",
      "\n",
      "working on 39.jpg 39.txt\n",
      " 52%|█████▏    | 58/111 [00:20<00:19,  2.71it/s]\n",
      "working on 4.jpg 4.txt\n",
      " 53%|█████▎    | 59/111 [00:21<00:27,  1.87it/s]\n",
      "working on 40.jpg 40.txt\n",
      " 54%|█████▍    | 60/111 [00:22<00:24,  2.12it/s]\n",
      "working on 41.jpg 41.txt\n",
      " 55%|█████▍    | 61/111 [00:22<00:29,  1.72it/s]\n",
      "working on 42.jpg 42.txt\n",
      " 57%|█████▋    | 63/111 [00:24<00:25,  1.88it/s]\n",
      "working on 44.jpg 44.txt\n",
      "\n",
      "working on 45.jpg 45.txt\n",
      " 58%|█████▊    | 64/111 [00:24<00:21,  2.18it/s]\n",
      "working on 46.jpg 46.txt\n",
      " 59%|█████▉    | 66/111 [00:24<00:16,  2.65it/s]\n",
      "working on 47.jpg 47.txt\n",
      "\n",
      "working on 48.jpg 48.txt\n",
      "\n",
      "working on 49.jpg 49.txt\n",
      " 62%|██████▏   | 69/111 [00:25<00:10,  4.14it/s]\n",
      "working on 5.jpg 5.txt\n",
      "\n",
      "working on 50.jpg 50.txt\n",
      " 63%|██████▎   | 70/111 [00:25<00:08,  4.90it/s]\n",
      "working on 51.jpg 51.txt\n",
      " 65%|██████▍   | 72/111 [00:26<00:12,  3.06it/s]\n",
      "working on 52.jpg 52.txt\n",
      "\n",
      "working on 54.jpg 54.txt\n",
      " 67%|██████▋   | 74/111 [00:26<00:09,  4.04it/s]\n",
      "working on 55.jpg 55.txt\n",
      "\n",
      "working on 58.jpg 58.txt\n",
      " 68%|██████▊   | 75/111 [00:27<00:15,  2.26it/s]\n",
      "working on 59.jpg 59.txt\n",
      " 68%|██████▊   | 76/111 [00:28<00:18,  1.87it/s]\n",
      "working on 6.jpg 6.txt\n",
      " 69%|██████▉   | 77/111 [00:28<00:16,  2.12it/s]\n",
      "working on 60.jpg 60.txt\n",
      " 72%|███████▏  | 80/111 [00:29<00:12,  2.39it/s]\n",
      "working on 62.jpg 62.txt\n",
      "\n",
      "working on 64.jpg 64.txt\n",
      "\n",
      "working on 65.jpg 65.txt\n",
      " 73%|███████▎  | 81/111 [00:30<00:13,  2.27it/s]\n",
      "working on 66.jpg 66.txt\n",
      " 74%|███████▍  | 82/111 [00:31<00:16,  1.76it/s]\n",
      "working on 68.jpg 68.txt\n",
      " 77%|███████▋  | 85/111 [00:31<00:09,  2.72it/s]\n",
      "working on 69.jpg 69.txt\n",
      "\n",
      "working on 7.jpg 7.txt\n",
      "\n",
      "working on 70.jpg 70.txt\n",
      " 78%|███████▊  | 87/111 [00:32<00:09,  2.57it/s]\n",
      "working on 71.jpg 71.txt\n",
      "\n",
      "working on 72.jpg 72.txt\n",
      "\n",
      "working on 74.jpg 74.txt\n",
      " 80%|████████  | 89/111 [00:32<00:07,  2.83it/s]\n",
      "working on 76.jpg 76.txt\n",
      " 82%|████████▏ | 91/111 [00:33<00:06,  3.26it/s]\n",
      "working on 77.jpg 77.txt\n",
      "\n",
      "working on 78.jpg 78.txt\n",
      " 84%|████████▍ | 93/111 [00:33<00:04,  4.28it/s]\n",
      "working on 79.jpg 79.txt\n",
      "\n",
      "working on 8.jpg 8.txt\n",
      " 86%|████████▌ | 95/111 [00:34<00:02,  5.52it/s]\n",
      "working on 80.jpg 80.txt\n",
      "\n",
      "working on 81.jpg 81.txt\n",
      " 86%|████████▋ | 96/111 [00:34<00:04,  3.38it/s]\n",
      "working on 82.jpg 82.txt\n",
      "\n",
      "working on 83.jpg 83.txt\n",
      " 88%|████████▊ | 98/111 [00:34<00:03,  3.91it/s]\n",
      "working on 84.jpg 84.txt\n",
      " 89%|████████▉ | 99/111 [00:35<00:04,  2.95it/s]\n",
      "working on 88.jpg 88.txt\n",
      " 91%|█████████ | 101/111 [00:36<00:02,  3.43it/s]\n",
      "working on 89.jpg 89.txt\n",
      "\n",
      "working on 9.jpg 9.txt\n",
      " 92%|█████████▏| 102/111 [00:36<00:02,  3.91it/s]\n",
      "working on 90.jpg 90.txt\n",
      " 93%|█████████▎| 103/111 [00:36<00:02,  3.89it/s]\n",
      "working on 91.jpg 91.txt\n",
      " 94%|█████████▎| 104/111 [00:37<00:02,  2.58it/s]\n",
      "working on 93.jpg 93.txt\n",
      " 95%|█████████▌| 106/111 [00:38<00:02,  1.96it/s]\n",
      "working on 94.jpg 94.txt\n",
      "\n",
      "working on 95.jpg 95.txt\n",
      " 97%|█████████▋| 108/111 [00:38<00:00,  3.05it/s]\n",
      "working on 96.jpg 96.txt\n",
      "\n",
      "working on 97.jpg 97.txt\n",
      " 98%|█████████▊| 109/111 [00:40<00:01,  1.76it/s]\n",
      "working on 98.jpg 98.txt\n",
      "\n",
      "working on 99.jpg 99.txt\n",
      "100%|██████████| 111/111 [00:40<00:00,  2.73it/s]\n"
     ]
    }
   ],
   "source": [
    "# now everything together\n",
    "mainUrl = '/home/henri/Desktop/roboflow/'\n",
    "testUrl = '/home/henri/Desktop/roboflow/224.ext/'\n",
    "from tqdm import  tqdm\n",
    "directory = directoryImgTxtload(mainUrl)\n",
    "for f in tqdm(range(len(directory))):\n",
    "    \n",
    "    imageArray = loadImgToArray(mainUrl + directory[f][0], info=False)\n",
    "    Bdata = loadingBBox(mainUrl + directory[f][1],imageArray,info=False)\n",
    "    print(f'\\nworking on {directory[f][0]} {directory[f][1]}')\n",
    "    bbs = list()\n",
    "    for box in Bdata:\n",
    "        Bclass,x1,y1,x2,y2 = box\n",
    "        bbs.append(BoundingBox(label=Bclass,x1=x1, y1=y1, x2=x2, y2=y2))\n",
    "    bbs = BoundingBoxesOnImage(bbs,shape=imageArray.shape)\n",
    "    # I am running out of memory maybe this will help\n",
    "    augmentedImagesList = augmentedCopiesSingleImage(imageArray,bbs,np.random.randint(2,high=3))\n",
    "    for i in range(len(augmentedImagesList)):\n",
    "        jpgNewName, txtNewName = fileNameAugGen(i,directory[f])\n",
    "        saveArrayToImg(testUrl + jpgNewName, augmentedImagesList[i][0],info=False)\n",
    "        #! error bellow\n",
    "        #url,\n",
    "        saveBBox(testUrl + txtNewName, bboxNPPacker(augmentedImagesList[i][1]), augmentedImagesList[i][0], info=False)\n"
   ]
  },
  {
   "cell_type": "code",
   "execution_count": null,
   "metadata": {},
   "outputs": [],
   "source": []
  }
 ]
}