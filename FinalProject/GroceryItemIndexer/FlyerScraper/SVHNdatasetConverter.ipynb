{
 "metadata": {
  "language_info": {
   "codemirror_mode": {
    "name": "ipython",
    "version": 3
   },
   "file_extension": ".py",
   "mimetype": "text/x-python",
   "name": "python",
   "nbconvert_exporter": "python",
   "pygments_lexer": "ipython3",
   "version": "3.8.5-final"
  },
  "orig_nbformat": 2,
  "kernelspec": {
   "name": "python38564bitnnscrapercondaa354d8fb32614818906b42d96b0e4fbd",
   "display_name": "Python 3.8.5 64-bit ('NNScraper': conda)"
  }
 },
 "nbformat": 4,
 "nbformat_minor": 2,
 "cells": [
  {
   "source": [
    "We are doing test only and splitting afterwards()"
   ],
   "cell_type": "markdown",
   "metadata": {}
  },
  {
   "cell_type": "code",
   "execution_count": 1,
   "metadata": {},
   "outputs": [],
   "source": [
    "urldb = '/home/henri/Downloads/test/'\n",
    "labelurl = '/home/henri/Downloads/matlab/digitStructTest.mat'"
   ]
  },
  {
   "cell_type": "code",
   "execution_count": 2,
   "metadata": {},
   "outputs": [],
   "source": [
    "import h5py\n",
    "import os\n",
    "import numpy as np\n",
    "import pandas as pd\n",
    "from datAug import *"
   ]
  },
  {
   "cell_type": "code",
   "execution_count": 3,
   "metadata": {},
   "outputs": [],
   "source": [
    "digit_file = os.path.join(labelurl)\n",
    "f = h5py.File(digit_file, 'r')"
   ]
  },
  {
   "cell_type": "code",
   "execution_count": 4,
   "metadata": {},
   "outputs": [],
   "source": [
    "names = f['digitStruct/name']\n",
    "bboxs = f['digitStruct/bbox']"
   ]
  },
  {
   "cell_type": "code",
   "execution_count": 5,
   "metadata": {},
   "outputs": [],
   "source": [
    "\n",
    "def get_img_boxes(f, idx=0):\n",
    "    \"\"\"\n",
    "    get the 'height', 'left', 'top', 'width', 'label' of bounding boxes of an image\n",
    "    :param f: h5py.File\n",
    "    :param idx: index of the image\n",
    "    :return: dictionary\n",
    "    \"\"\"\n",
    "    bbox_prop = ['height', 'left', 'top', 'width', 'label']\n",
    "    meta = { key : [] for key in bbox_prop}\n",
    "\n",
    "    box = f[bboxs[idx][0]]\n",
    "    for key in box.keys():\n",
    "        if box[key].shape[0] == 1:\n",
    "            meta[key].append(int(box[key][0][0]))\n",
    "        else:\n",
    "            for i in range(box[key].shape[0]):\n",
    "                meta[key].append(int(f[box[key][i][0]][()].item()))\n",
    "\n",
    "    return meta\n",
    "    \n",
    "def get_img_name(f, idx=0):\n",
    "    img_name = ''.join(map(chr, f[names[idx][0]][()].flatten()))\n",
    "    return(img_name)"
   ]
  },
  {
   "cell_type": "code",
   "execution_count": 6,
   "metadata": {},
   "outputs": [
    {
     "output_type": "stream",
     "name": "stdout",
     "text": [
      "1787.png {'height': [32, 32], 'left': [48, 64], 'top': [17, 15], 'width': [15, 15], 'label': [1, 2]}\n11546.png {'height': [17, 17, 17], 'left': [57, 64, 74], 'top': [10, 9, 8], 'width': [5, 8, 8], 'label': [1, 3, 8]}\n1729.png {'height': [20, 20], 'left': [51, 64], 'top': [12, 11], 'width': [12, 9], 'label': [2, 1]}\n12416.png {'height': [38, 38], 'left': [43, 65], 'top': [8, 6], 'width': [24, 23], 'label': [2, 4]}\n8951.png {'height': [22, 22], 'left': [100, 110], 'top': [15, 14], 'width': [10, 12], 'label': [4, 4]}\n"
     ]
    }
   ],
   "source": [
    "import random\n",
    "max = f['digitStruct/name'].shape[0]\n",
    "for _ in range(5):\n",
    "    idx = random.randint(0, max - 1)\n",
    "    print(get_img_name(f, idx), get_img_boxes(f, idx))"
   ]
  },
  {
   "cell_type": "code",
   "execution_count": 102,
   "metadata": {},
   "outputs": [
    {
     "output_type": "execute_result",
     "data": {
      "text/plain": [
       "'3.txt'"
      ]
     },
     "metadata": {},
     "execution_count": 102
    }
   ],
   "source": [
    "img1 = get_img_name(f, 2)\n",
    "img1.split('.')[0]+'.txt'"
   ]
  },
  {
   "cell_type": "code",
   "execution_count": 103,
   "metadata": {},
   "outputs": [],
   "source": [
    "def txtNameFromJPG(jpgName):\n",
    "    return jpgName.split('.')[0]+'.txt'\n"
   ]
  },
  {
   "cell_type": "code",
   "execution_count": 105,
   "metadata": {},
   "outputs": [
    {
     "output_type": "execute_result",
     "data": {
      "text/plain": [
       "'3.txt'"
      ]
     },
     "metadata": {},
     "execution_count": 105
    }
   ],
   "source": [
    "txtNameFromJPG(get_img_name(f, 2))"
   ]
  },
  {
   "cell_type": "code",
   "execution_count": 93,
   "metadata": {},
   "outputs": [
    {
     "output_type": "execute_result",
     "data": {
      "text/plain": [
       "1"
      ]
     },
     "metadata": {},
     "execution_count": 93
    }
   ],
   "source": [
    "img1bboxs = get_img_boxes(f, 2)\n",
    "len(img1bboxs['height'])"
   ]
  },
  {
   "cell_type": "code",
   "execution_count": 94,
   "metadata": {},
   "outputs": [
    {
     "output_type": "execute_result",
     "data": {
      "text/plain": [
       "   height  left  top  width  label    img\n",
       "0      16    61    6     11      6  3.png"
      ],
      "text/html": "<div>\n<style scoped>\n    .dataframe tbody tr th:only-of-type {\n        vertical-align: middle;\n    }\n\n    .dataframe tbody tr th {\n        vertical-align: top;\n    }\n\n    .dataframe thead th {\n        text-align: right;\n    }\n</style>\n<table border=\"1\" class=\"dataframe\">\n  <thead>\n    <tr style=\"text-align: right;\">\n      <th></th>\n      <th>height</th>\n      <th>left</th>\n      <th>top</th>\n      <th>width</th>\n      <th>label</th>\n      <th>img</th>\n    </tr>\n  </thead>\n  <tbody>\n    <tr>\n      <th>0</th>\n      <td>16</td>\n      <td>61</td>\n      <td>6</td>\n      <td>11</td>\n      <td>6</td>\n      <td>3.png</td>\n    </tr>\n  </tbody>\n</table>\n</div>"
     },
     "metadata": {},
     "execution_count": 94
    }
   ],
   "source": [
    "df = pd.DataFrame(img1bboxs)\n",
    "df['img'] = img1\n",
    "df"
   ]
  },
  {
   "cell_type": "code",
   "execution_count": 96,
   "metadata": {},
   "outputs": [],
   "source": [
    "png2 = loadImgToArray(urldb+get_img_name(f, 2))"
   ]
  },
  {
   "cell_type": "code",
   "execution_count": 97,
   "metadata": {},
   "outputs": [
    {
     "output_type": "display_data",
     "data": {
      "text/plain": "<Figure size 432x288 with 1 Axes>",
      "image/svg+xml": "<?xml version=\"1.0\" encoding=\"utf-8\" standalone=\"no\"?>\n<!DOCTYPE svg PUBLIC \"-//W3C//DTD SVG 1.1//EN\"\n  \"http://www.w3.org/Graphics/SVG/1.1/DTD/svg11.dtd\">\n<!-- Created with matplotlib (https://matplotlib.org/) -->\n<svg height=\"135.980314pt\" version=\"1.1\" viewBox=\"0 0 376.811324 135.980314\" width=\"376.811324pt\" xmlns=\"http://www.w3.org/2000/svg\" xmlns:xlink=\"http://www.w3.org/1999/xlink\">\n <metadata>\n  <rdf:RDF xmlns:cc=\"http://creativecommons.org/ns#\" xmlns:dc=\"http://purl.org/dc/elements/1.1/\" xmlns:rdf=\"http://www.w3.org/1999/02/22-rdf-syntax-ns#\">\n   <cc:Work>\n    <dc:type rdf:resource=\"http://purl.org/dc/dcmitype/StillImage\"/>\n    <dc:date>2020-11-28T17:57:27.588245</dc:date>\n    <dc:format>image/svg+xml</dc:format>\n    <dc:creator>\n     <cc:Agent>\n      <dc:title>Matplotlib v3.3.2, https://matplotlib.org/</dc:title>\n     </cc:Agent>\n    </dc:creator>\n   </cc:Work>\n  </rdf:RDF>\n </metadata>\n <defs>\n  <style type=\"text/css\">*{stroke-linecap:butt;stroke-linejoin:round;}</style>\n </defs>\n <g id=\"figure_1\">\n  <g id=\"patch_1\">\n   <path d=\"M -0 135.980314 \nL 376.811324 135.980314 \nL 376.811324 0 \nL -0 0 \nz\n\" style=\"fill:none;\"/>\n  </g>\n  <g id=\"axes_1\">\n   <g id=\"patch_2\">\n    <path d=\"M 26.925 112.102189 \nL 361.725 112.102189 \nL 361.725 9.341793 \nL 26.925 9.341793 \nz\n\" style=\"fill:#ffffff;\"/>\n   </g>\n   <g clip-path=\"url(#p9393f2d52b)\">\n    <image height=\"103\" id=\"image0865309326\" transform=\"scale(1 -1)translate(0 -103)\" width=\"335\" x=\"26.925\" xlink:href=\"data:image/png;base64,\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\" y=\"-9.102189\"/>\n   </g>\n   <g id=\"matplotlib.axis_1\">\n    <g id=\"xtick_1\">\n     <g id=\"line2d_1\">\n      <defs>\n       <path d=\"M 0 0 \nL 0 3.5 \n\" id=\"m8f303f0e22\" style=\"stroke:#000000;stroke-width:0.8;\"/>\n      </defs>\n      <g>\n       <use style=\"stroke:#000000;stroke-width:0.8;\" x=\"28.582426\" xlink:href=\"#m8f303f0e22\" y=\"112.102189\"/>\n      </g>\n     </g>\n     <g id=\"text_1\">\n      <!-- 0 -->\n      <g transform=\"translate(25.401176 126.700627)scale(0.1 -0.1)\">\n       <defs>\n        <path d=\"M 31.78125 66.40625 \nQ 24.171875 66.40625 20.328125 58.90625 \nQ 16.5 51.421875 16.5 36.375 \nQ 16.5 21.390625 20.328125 13.890625 \nQ 24.171875 6.390625 31.78125 6.390625 \nQ 39.453125 6.390625 43.28125 13.890625 \nQ 47.125 21.390625 47.125 36.375 \nQ 47.125 51.421875 43.28125 58.90625 \nQ 39.453125 66.40625 31.78125 66.40625 \nz\nM 31.78125 74.21875 \nQ 44.046875 74.21875 50.515625 64.515625 \nQ 56.984375 54.828125 56.984375 36.375 \nQ 56.984375 17.96875 50.515625 8.265625 \nQ 44.046875 -1.421875 31.78125 -1.421875 \nQ 19.53125 -1.421875 13.0625 8.265625 \nQ 6.59375 17.96875 6.59375 36.375 \nQ 6.59375 54.828125 13.0625 64.515625 \nQ 19.53125 74.21875 31.78125 74.21875 \nz\n\" id=\"DejaVuSans-48\"/>\n       </defs>\n       <use xlink:href=\"#DejaVuSans-48\"/>\n      </g>\n     </g>\n    </g>\n    <g id=\"xtick_2\">\n     <g id=\"line2d_2\">\n      <g>\n       <use style=\"stroke:#000000;stroke-width:0.8;\" x=\"94.879455\" xlink:href=\"#m8f303f0e22\" y=\"112.102189\"/>\n      </g>\n     </g>\n     <g id=\"text_2\">\n      <!-- 20 -->\n      <g transform=\"translate(88.516955 126.700627)scale(0.1 -0.1)\">\n       <defs>\n        <path d=\"M 19.1875 8.296875 \nL 53.609375 8.296875 \nL 53.609375 0 \nL 7.328125 0 \nL 7.328125 8.296875 \nQ 12.9375 14.109375 22.625 23.890625 \nQ 32.328125 33.6875 34.8125 36.53125 \nQ 39.546875 41.84375 41.421875 45.53125 \nQ 43.3125 49.21875 43.3125 52.78125 \nQ 43.3125 58.59375 39.234375 62.25 \nQ 35.15625 65.921875 28.609375 65.921875 \nQ 23.96875 65.921875 18.8125 64.3125 \nQ 13.671875 62.703125 7.8125 59.421875 \nL 7.8125 69.390625 \nQ 13.765625 71.78125 18.9375 73 \nQ 24.125 74.21875 28.421875 74.21875 \nQ 39.75 74.21875 46.484375 68.546875 \nQ 53.21875 62.890625 53.21875 53.421875 \nQ 53.21875 48.921875 51.53125 44.890625 \nQ 49.859375 40.875 45.40625 35.40625 \nQ 44.1875 33.984375 37.640625 27.21875 \nQ 31.109375 20.453125 19.1875 8.296875 \nz\n\" id=\"DejaVuSans-50\"/>\n       </defs>\n       <use xlink:href=\"#DejaVuSans-50\"/>\n       <use x=\"63.623047\" xlink:href=\"#DejaVuSans-48\"/>\n      </g>\n     </g>\n    </g>\n    <g id=\"xtick_3\">\n     <g id=\"line2d_3\">\n      <g>\n       <use style=\"stroke:#000000;stroke-width:0.8;\" x=\"161.176485\" xlink:href=\"#m8f303f0e22\" y=\"112.102189\"/>\n      </g>\n     </g>\n     <g id=\"text_3\">\n      <!-- 40 -->\n      <g transform=\"translate(154.813985 126.700627)scale(0.1 -0.1)\">\n       <defs>\n        <path d=\"M 37.796875 64.3125 \nL 12.890625 25.390625 \nL 37.796875 25.390625 \nz\nM 35.203125 72.90625 \nL 47.609375 72.90625 \nL 47.609375 25.390625 \nL 58.015625 25.390625 \nL 58.015625 17.1875 \nL 47.609375 17.1875 \nL 47.609375 0 \nL 37.796875 0 \nL 37.796875 17.1875 \nL 4.890625 17.1875 \nL 4.890625 26.703125 \nz\n\" id=\"DejaVuSans-52\"/>\n       </defs>\n       <use xlink:href=\"#DejaVuSans-52\"/>\n       <use x=\"63.623047\" xlink:href=\"#DejaVuSans-48\"/>\n      </g>\n     </g>\n    </g>\n    <g id=\"xtick_4\">\n     <g id=\"line2d_4\">\n      <g>\n       <use style=\"stroke:#000000;stroke-width:0.8;\" x=\"227.473515\" xlink:href=\"#m8f303f0e22\" y=\"112.102189\"/>\n      </g>\n     </g>\n     <g id=\"text_4\">\n      <!-- 60 -->\n      <g transform=\"translate(221.111015 126.700627)scale(0.1 -0.1)\">\n       <defs>\n        <path d=\"M 33.015625 40.375 \nQ 26.375 40.375 22.484375 35.828125 \nQ 18.609375 31.296875 18.609375 23.390625 \nQ 18.609375 15.53125 22.484375 10.953125 \nQ 26.375 6.390625 33.015625 6.390625 \nQ 39.65625 6.390625 43.53125 10.953125 \nQ 47.40625 15.53125 47.40625 23.390625 \nQ 47.40625 31.296875 43.53125 35.828125 \nQ 39.65625 40.375 33.015625 40.375 \nz\nM 52.59375 71.296875 \nL 52.59375 62.3125 \nQ 48.875 64.0625 45.09375 64.984375 \nQ 41.3125 65.921875 37.59375 65.921875 \nQ 27.828125 65.921875 22.671875 59.328125 \nQ 17.53125 52.734375 16.796875 39.40625 \nQ 19.671875 43.65625 24.015625 45.921875 \nQ 28.375 48.1875 33.59375 48.1875 \nQ 44.578125 48.1875 50.953125 41.515625 \nQ 57.328125 34.859375 57.328125 23.390625 \nQ 57.328125 12.15625 50.6875 5.359375 \nQ 44.046875 -1.421875 33.015625 -1.421875 \nQ 20.359375 -1.421875 13.671875 8.265625 \nQ 6.984375 17.96875 6.984375 36.375 \nQ 6.984375 53.65625 15.1875 63.9375 \nQ 23.390625 74.21875 37.203125 74.21875 \nQ 40.921875 74.21875 44.703125 73.484375 \nQ 48.484375 72.75 52.59375 71.296875 \nz\n\" id=\"DejaVuSans-54\"/>\n       </defs>\n       <use xlink:href=\"#DejaVuSans-54\"/>\n       <use x=\"63.623047\" xlink:href=\"#DejaVuSans-48\"/>\n      </g>\n     </g>\n    </g>\n    <g id=\"xtick_5\">\n     <g id=\"line2d_5\">\n      <g>\n       <use style=\"stroke:#000000;stroke-width:0.8;\" x=\"293.770545\" xlink:href=\"#m8f303f0e22\" y=\"112.102189\"/>\n      </g>\n     </g>\n     <g id=\"text_5\">\n      <!-- 80 -->\n      <g transform=\"translate(287.408045 126.700627)scale(0.1 -0.1)\">\n       <defs>\n        <path d=\"M 31.78125 34.625 \nQ 24.75 34.625 20.71875 30.859375 \nQ 16.703125 27.09375 16.703125 20.515625 \nQ 16.703125 13.921875 20.71875 10.15625 \nQ 24.75 6.390625 31.78125 6.390625 \nQ 38.8125 6.390625 42.859375 10.171875 \nQ 46.921875 13.96875 46.921875 20.515625 \nQ 46.921875 27.09375 42.890625 30.859375 \nQ 38.875 34.625 31.78125 34.625 \nz\nM 21.921875 38.8125 \nQ 15.578125 40.375 12.03125 44.71875 \nQ 8.5 49.078125 8.5 55.328125 \nQ 8.5 64.0625 14.71875 69.140625 \nQ 20.953125 74.21875 31.78125 74.21875 \nQ 42.671875 74.21875 48.875 69.140625 \nQ 55.078125 64.0625 55.078125 55.328125 \nQ 55.078125 49.078125 51.53125 44.71875 \nQ 48 40.375 41.703125 38.8125 \nQ 48.828125 37.15625 52.796875 32.3125 \nQ 56.78125 27.484375 56.78125 20.515625 \nQ 56.78125 9.90625 50.3125 4.234375 \nQ 43.84375 -1.421875 31.78125 -1.421875 \nQ 19.734375 -1.421875 13.25 4.234375 \nQ 6.78125 9.90625 6.78125 20.515625 \nQ 6.78125 27.484375 10.78125 32.3125 \nQ 14.796875 37.15625 21.921875 38.8125 \nz\nM 18.3125 54.390625 \nQ 18.3125 48.734375 21.84375 45.5625 \nQ 25.390625 42.390625 31.78125 42.390625 \nQ 38.140625 42.390625 41.71875 45.5625 \nQ 45.3125 48.734375 45.3125 54.390625 \nQ 45.3125 60.0625 41.71875 63.234375 \nQ 38.140625 66.40625 31.78125 66.40625 \nQ 25.390625 66.40625 21.84375 63.234375 \nQ 18.3125 60.0625 18.3125 54.390625 \nz\n\" id=\"DejaVuSans-56\"/>\n       </defs>\n       <use xlink:href=\"#DejaVuSans-56\"/>\n       <use x=\"63.623047\" xlink:href=\"#DejaVuSans-48\"/>\n      </g>\n     </g>\n    </g>\n    <g id=\"xtick_6\">\n     <g id=\"line2d_6\">\n      <g>\n       <use style=\"stroke:#000000;stroke-width:0.8;\" x=\"360.067574\" xlink:href=\"#m8f303f0e22\" y=\"112.102189\"/>\n      </g>\n     </g>\n     <g id=\"text_6\">\n      <!-- 100 -->\n      <g transform=\"translate(350.523824 126.700627)scale(0.1 -0.1)\">\n       <defs>\n        <path d=\"M 12.40625 8.296875 \nL 28.515625 8.296875 \nL 28.515625 63.921875 \nL 10.984375 60.40625 \nL 10.984375 69.390625 \nL 28.421875 72.90625 \nL 38.28125 72.90625 \nL 38.28125 8.296875 \nL 54.390625 8.296875 \nL 54.390625 0 \nL 12.40625 0 \nz\n\" id=\"DejaVuSans-49\"/>\n       </defs>\n       <use xlink:href=\"#DejaVuSans-49\"/>\n       <use x=\"63.623047\" xlink:href=\"#DejaVuSans-48\"/>\n       <use x=\"127.246094\" xlink:href=\"#DejaVuSans-48\"/>\n      </g>\n     </g>\n    </g>\n   </g>\n   <g id=\"matplotlib.axis_2\">\n    <g id=\"ytick_1\">\n     <g id=\"line2d_7\">\n      <defs>\n       <path d=\"M 0 0 \nL -3.5 0 \n\" id=\"m2eab6cc5ed\" style=\"stroke:#000000;stroke-width:0.8;\"/>\n      </defs>\n      <g>\n       <use style=\"stroke:#000000;stroke-width:0.8;\" x=\"26.925\" xlink:href=\"#m2eab6cc5ed\" y=\"10.999219\"/>\n      </g>\n     </g>\n     <g id=\"text_7\">\n      <!-- 0 -->\n      <g transform=\"translate(13.5625 14.798437)scale(0.1 -0.1)\">\n       <use xlink:href=\"#DejaVuSans-48\"/>\n      </g>\n     </g>\n    </g>\n    <g id=\"ytick_2\">\n     <g id=\"line2d_8\">\n      <g>\n       <use style=\"stroke:#000000;stroke-width:0.8;\" x=\"26.925\" xlink:href=\"#m2eab6cc5ed\" y=\"44.147734\"/>\n      </g>\n     </g>\n     <g id=\"text_8\">\n      <!-- 10 -->\n      <g transform=\"translate(7.2 47.946952)scale(0.1 -0.1)\">\n       <use xlink:href=\"#DejaVuSans-49\"/>\n       <use x=\"63.623047\" xlink:href=\"#DejaVuSans-48\"/>\n      </g>\n     </g>\n    </g>\n    <g id=\"ytick_3\">\n     <g id=\"line2d_9\">\n      <g>\n       <use style=\"stroke:#000000;stroke-width:0.8;\" x=\"26.925\" xlink:href=\"#m2eab6cc5ed\" y=\"77.296248\"/>\n      </g>\n     </g>\n     <g id=\"text_9\">\n      <!-- 20 -->\n      <g transform=\"translate(7.2 81.095467)scale(0.1 -0.1)\">\n       <use xlink:href=\"#DejaVuSans-50\"/>\n       <use x=\"63.623047\" xlink:href=\"#DejaVuSans-48\"/>\n      </g>\n     </g>\n    </g>\n    <g id=\"ytick_4\">\n     <g id=\"line2d_10\">\n      <g>\n       <use style=\"stroke:#000000;stroke-width:0.8;\" x=\"26.925\" xlink:href=\"#m2eab6cc5ed\" y=\"110.444763\"/>\n      </g>\n     </g>\n     <g id=\"text_10\">\n      <!-- 30 -->\n      <g transform=\"translate(7.2 114.243982)scale(0.1 -0.1)\">\n       <defs>\n        <path d=\"M 40.578125 39.3125 \nQ 47.65625 37.796875 51.625 33 \nQ 55.609375 28.21875 55.609375 21.1875 \nQ 55.609375 10.40625 48.1875 4.484375 \nQ 40.765625 -1.421875 27.09375 -1.421875 \nQ 22.515625 -1.421875 17.65625 -0.515625 \nQ 12.796875 0.390625 7.625 2.203125 \nL 7.625 11.71875 \nQ 11.71875 9.328125 16.59375 8.109375 \nQ 21.484375 6.890625 26.8125 6.890625 \nQ 36.078125 6.890625 40.9375 10.546875 \nQ 45.796875 14.203125 45.796875 21.1875 \nQ 45.796875 27.640625 41.28125 31.265625 \nQ 36.765625 34.90625 28.71875 34.90625 \nL 20.21875 34.90625 \nL 20.21875 43.015625 \nL 29.109375 43.015625 \nQ 36.375 43.015625 40.234375 45.921875 \nQ 44.09375 48.828125 44.09375 54.296875 \nQ 44.09375 59.90625 40.109375 62.90625 \nQ 36.140625 65.921875 28.71875 65.921875 \nQ 24.65625 65.921875 20.015625 65.03125 \nQ 15.375 64.15625 9.8125 62.3125 \nL 9.8125 71.09375 \nQ 15.4375 72.65625 20.34375 73.4375 \nQ 25.25 74.21875 29.59375 74.21875 \nQ 40.828125 74.21875 47.359375 69.109375 \nQ 53.90625 64.015625 53.90625 55.328125 \nQ 53.90625 49.265625 50.4375 45.09375 \nQ 46.96875 40.921875 40.578125 39.3125 \nz\n\" id=\"DejaVuSans-51\"/>\n       </defs>\n       <use xlink:href=\"#DejaVuSans-51\"/>\n       <use x=\"63.623047\" xlink:href=\"#DejaVuSans-48\"/>\n      </g>\n     </g>\n    </g>\n   </g>\n   <g id=\"patch_3\">\n    <path d=\"M 26.925 112.102189 \nL 26.925 9.341793 \n\" style=\"fill:none;stroke:#000000;stroke-linecap:square;stroke-linejoin:miter;stroke-width:0.8;\"/>\n   </g>\n   <g id=\"patch_4\">\n    <path d=\"M 361.725 112.102189 \nL 361.725 9.341793 \n\" style=\"fill:none;stroke:#000000;stroke-linecap:square;stroke-linejoin:miter;stroke-width:0.8;\"/>\n   </g>\n   <g id=\"patch_5\">\n    <path d=\"M 26.925 112.102189 \nL 361.725 112.102189 \n\" style=\"fill:none;stroke:#000000;stroke-linecap:square;stroke-linejoin:miter;stroke-width:0.8;\"/>\n   </g>\n   <g id=\"patch_6\">\n    <path d=\"M 26.925 9.341793 \nL 361.725 9.341793 \n\" style=\"fill:none;stroke:#000000;stroke-linecap:square;stroke-linejoin:miter;stroke-width:0.8;\"/>\n   </g>\n  </g>\n </g>\n <defs>\n  <clipPath id=\"p9393f2d52b\">\n   <rect height=\"102.760396\" width=\"334.8\" x=\"26.925\" y=\"9.341793\"/>\n  </clipPath>\n </defs>\n</svg>\n",
      "image/png": "[encoded data removed]"
     },
     "metadata": {
      "needs_background": "light"
     }
    }
   ],
   "source": [
    "showImg(png2)"
   ]
  },
  {
   "cell_type": "code",
   "execution_count": 98,
   "metadata": {},
   "outputs": [
    {
     "output_type": "execute_result",
     "data": {
      "text/plain": [
       "31"
      ]
     },
     "metadata": {},
     "execution_count": 98
    }
   ],
   "source": [
    "png2.shape[0]"
   ]
  },
  {
   "cell_type": "code",
   "execution_count": 113,
   "metadata": {},
   "outputs": [],
   "source": [
    "#to do change the coord sys\n",
    "def properYOLOFormat(bbox,info=False):\n",
    "    \"\"\"\n",
    "    yolo format\n",
    "    (x,y) being the center \n",
    "    <object-class> <x> <y> <width> <height>\n",
    "    whatever the author of this ds was smoking\n",
    "    <height> <y(left)> <x(topleft)> <width> <object-class>\n",
    "    \"\"\"\n",
    "    df = pd.DataFrame(bbox)\n",
    "    #creating an empty array\n",
    "    deptArray = len(bbox['height'])\n",
    "    packer = np.empty([deptArray, 5])\n",
    "    # <object-class>\n",
    "    packer[:,0:1:] = np.array(df['label']).reshape((deptArray, 1))\n",
    "    # <x center>\n",
    "    packer[:,1:2:] = np.array((df['left'] + (df['width'] / 2))).reshape((deptArray, 1))\n",
    "    # <y center>\n",
    "    packer[:,2:3:] = np.array((df['top'] + (df['height'] / 2))).reshape((deptArray, 1))\n",
    "    # <width>\n",
    "    packer[:,3:4:] = np.array(df['width']).reshape((deptArray, 1))\n",
    "    # <height>\n",
    "    packer[:,4:5:] = np.array(df['height']).reshape((deptArray, 1))\n",
    "    if info:\n",
    "        print(f'data before:\\n {df}\\n')\n",
    "        print(f'data after <object-class>\\t<x>\\t<y>\\t<width>\\t<height>(downScaled):\\n{packer}')\n",
    "    return packer\n"
   ]
  },
  {
   "cell_type": "code",
   "execution_count": 117,
   "metadata": {},
   "outputs": [
    {
     "output_type": "execute_result",
     "data": {
      "text/plain": [
       "array([[ 6. , 66.5, 14. , 11. , 16. ]])"
      ]
     },
     "metadata": {},
     "execution_count": 117
    }
   ],
   "source": [
    "idx = 2\n",
    "currentImg = loadImgToArray(urldb+get_img_name(f, idx))\n",
    "VHNSToYOLO = properYOLOFormat(get_img_boxes(f, idx),info=False)\n",
    "VHNSToYOLO"
   ]
  },
  {
   "cell_type": "code",
   "execution_count": 118,
   "metadata": {},
   "outputs": [
    {
     "output_type": "stream",
     "name": "stdout",
     "text": [
      "\nimage width: 101 and height 31\nbefore transform\n<object-class>\t<x>\t<y>\t<width>\t<height>\n[[ 6.  66.5 14.  11.  16. ]]\n after transform <object-class>\t<x>\t<y>\t<width>\t<height>:\n[[6.         0.65841584 0.4516129  0.10891089 0.51612903]]\n"
     ]
    }
   ],
   "source": [
    "#saveBBox(fileurl,boxData,imageArray,info=True,mode='default'):\n",
    "saveBBox(urldb+txtNameFromJPG(get_img_name(f, idx)),VHNSToYOLO,currentImg,info=True,mode='yolo')"
   ]
  },
  {
   "cell_type": "code",
   "execution_count": 109,
   "metadata": {},
   "outputs": [],
   "source": [
    "onlyfiles = [f for f in listdir(urldb) if isfile(join(urldb, f))]\n",
    "sortedImg = sorted(onlyfiles)"
   ]
  },
  {
   "cell_type": "code",
   "execution_count": null,
   "metadata": {},
   "outputs": [],
   "source": []
  },
  {
   "cell_type": "code",
   "execution_count": 112,
   "metadata": {},
   "outputs": [
    {
     "output_type": "execute_result",
     "data": {
      "text/plain": [
       "'10.png'"
      ]
     },
     "metadata": {},
     "execution_count": 112
    }
   ],
   "source": [
    "sortedImgTxt[1]"
   ]
  },
  {
   "cell_type": "code",
   "execution_count": null,
   "metadata": {},
   "outputs": [],
   "source": []
  }
 ]
}