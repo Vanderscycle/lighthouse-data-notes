{
 "metadata": {
  "language_info": {
   "codemirror_mode": {
    "name": "ipython",
    "version": 3
   },
   "file_extension": ".py",
   "mimetype": "text/x-python",
   "name": "python",
   "nbconvert_exporter": "python",
   "pygments_lexer": "ipython3",
   "version": 3
  },
  "orig_nbformat": 2
 },
 "nbformat": 4,
 "nbformat_minor": 2,
 "cells": [
  {
   "source": [
    "[link to db](http://yuhang.rsise.anu.edu.au/)"
   ],
   "cell_type": "markdown",
   "metadata": {}
  },
  {
   "source": [
    "[cnn/nn](https://medium.com/swlh/price-tag-detector-multi-digit-classification-using-tensorflow-object-detection-and-svhn-38506705bcf2)"
   ],
   "cell_type": "markdown",
   "metadata": {}
  }
 ]
}