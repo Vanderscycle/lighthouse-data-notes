{
 "metadata": {
  "language_info": {
   "codemirror_mode": {
    "name": "ipython",
    "version": 3
   },
   "file_extension": ".py",
   "mimetype": "text/x-python",
   "name": "python",
   "nbconvert_exporter": "python",
   "pygments_lexer": "ipython3",
   "version": "3.8.5-final"
  },
  "orig_nbformat": 2,
  "kernelspec": {
   "name": "python38564bitnnscrapercondaa354d8fb32614818906b42d96b0e4fbd",
   "display_name": "Python 3.8.5 64-bit ('NNScraper': conda)"
  }
 },
 "nbformat": 4,
 "nbformat_minor": 2,
 "cells": [
  {
   "cell_type": "code",
   "execution_count": 1,
   "metadata": {},
   "outputs": [],
   "source": [
    "from datAug import *\n",
    "from math import floor,ceil\n",
    "from shutil import copy2\n",
    "import pandas as pd"
   ]
  },
  {
   "cell_type": "code",
   "execution_count": 2,
   "metadata": {},
   "outputs": [],
   "source": [
    "urlTest = '/home/henri/Desktop/roboflow/224.ext/'\n",
    "destUrl = '/home/henri/Desktop/roboflow/224.ext/destfolder/'"
   ]
  },
  {
   "cell_type": "code",
   "execution_count": 3,
   "metadata": {},
   "outputs": [
    {
     "output_type": "stream",
     "name": "stdout",
     "text": [
      "136aug0.jpg 136aug0.txt\n136aug1.jpg 136aug1.txt\n136aug2.jpg 136aug2.txt\n137aug0.jpg 137aug0.txt\n137aug1.jpg 137aug1.txt\n137aug2.jpg 137aug2.txt\n137aug3.jpg 137aug3.txt\n138aug0.jpg 138aug0.txt\n138aug1.jpg 138aug1.txt\n138aug2.jpg 138aug2.txt\n138aug3.jpg 138aug3.txt\n139aug0.jpg 139aug0.txt\n139aug1.jpg 139aug1.txt\n139aug2.jpg 139aug2.txt\n139aug3.jpg 139aug3.txt\n140aug0.jpg 140aug0.txt\n140aug1.jpg 140aug1.txt\n140aug2.jpg 140aug2.txt\n142aug0.jpg 142aug0.txt\n142aug1.jpg 142aug1.txt\n"
     ]
    }
   ],
   "source": [
    "directory = directoryImgTxtload(urlTest,info=True)"
   ]
  },
  {
   "cell_type": "code",
   "execution_count": 4,
   "metadata": {},
   "outputs": [],
   "source": [
    "def assignData(directory,size,info=True):\n",
    "    \"\"\"\n",
    "    split comes as a list [8,1,1] [train,val,test]. We round down using floor.\n",
    "    This method should work well with thousands of sample but for large we will have to explore numpy arrays.\n",
    "    \"\"\"\n",
    "    directory = np.array(directory)\n",
    "    # error checking\n",
    "    if len(size)!=3:\n",
    "        print(f'Requires a list with 3 arguments [train,val,test] you passed {size}')\n",
    "        return\n",
    "    # numbers do not tally to a 100\n",
    "    if sum(size)!=10:\n",
    "        print(f'Sum of all ints in the list must be 10. You passed {size} and its sum is {sum(size)}')\n",
    "        return\n",
    "    train, validate, test = np.split(directory, [int(len(directory)*size[0]/10), int(len(directory)*(sum(size) - size[2])/10)])\n",
    "    if info:\n",
    "        [print(i,'\\n') for i in [train, validate, test]]\n",
    "    return train, validate, test"
   ]
  },
  {
   "cell_type": "code",
   "execution_count": 5,
   "metadata": {},
   "outputs": [
    {
     "output_type": "stream",
     "name": "stdout",
     "text": [
      "[['136aug0.jpg' '136aug0.txt']\n ['136aug1.jpg' '136aug1.txt']\n ['136aug2.jpg' '136aug2.txt']\n ['137aug0.jpg' '137aug0.txt']\n ['137aug1.jpg' '137aug1.txt']\n ['137aug2.jpg' '137aug2.txt']\n ['137aug3.jpg' '137aug3.txt']\n ['138aug0.jpg' '138aug0.txt']\n ['138aug1.jpg' '138aug1.txt']\n ['138aug2.jpg' '138aug2.txt']] \n\n[['138aug3.jpg' '138aug3.txt']\n ['139aug0.jpg' '139aug0.txt']\n ['139aug1.jpg' '139aug1.txt']\n ['139aug2.jpg' '139aug2.txt']\n ['139aug3.jpg' '139aug3.txt']\n ['140aug0.jpg' '140aug0.txt']\n ['140aug1.jpg' '140aug1.txt']\n ['140aug2.jpg' '140aug2.txt']] \n\n[['142aug0.jpg' '142aug0.txt']\n ['142aug1.jpg' '142aug1.txt']] \n\n"
     ]
    }
   ],
   "source": [
    "tr,va,te = assignData(directory,[5,4,1])"
   ]
  },
  {
   "cell_type": "code",
   "execution_count": 16,
   "metadata": {},
   "outputs": [],
   "source": [
    "urlTest = '/home/henri/Desktop/roboflow/224.ext/'\n",
    "destUrl = '/home/henri/Desktop/roboflow/224.ext/destfolder/'\n",
    "def urlFormater(url,dataset,destName='',mode='dest',info=False):\n",
    "    \"\"\"\n",
    "    mode = [dest,source]\n",
    "    dataset must be a numpy array\n",
    "    type is the name of the folder\n",
    "    \"\"\"\n",
    "    dataset = pd.DataFrame(dataset)\n",
    "    if mode == 'dest':\n",
    "        # images \n",
    "        dataset[0] = url + destName + '/images/' + dataset[0]\n",
    "        # labels \n",
    "        dataset[1] = url + destName + '/labels/' + dataset[1]\n",
    "        #dataset[:,1:2] = np.char.add(destName,dataset[:,1:2])\n",
    "    elif mode == 'source':\n",
    "        dataset = url + dataset\n",
    "    else:\n",
    "        print(f'please ensure mode parameters are [dest,source]')\n",
    "        return    \n",
    "    if info:\n",
    "        np.array(dataset)\n",
    "    # copy2('/src/dir/file.ext', '/dst/dir/newname.ext')\n",
    "    return np.array(dataset)\n"
   ]
  },
  {
   "cell_type": "code",
   "execution_count": 35,
   "metadata": {},
   "outputs": [
    {
     "output_type": "execute_result",
     "data": {
      "text/plain": [
       "array([['/home/henri/Desktop/roboflow/224.ext/destfolder/test/images/136aug0.jpg',\n",
       "        '/home/henri/Desktop/roboflow/224.ext/destfolder/test/labels/136aug0.txt'],\n",
       "       ['/home/henri/Desktop/roboflow/224.ext/destfolder/test/images/136aug1.jpg',\n",
       "        '/home/henri/Desktop/roboflow/224.ext/destfolder/test/labels/136aug1.txt'],\n",
       "       ['/home/henri/Desktop/roboflow/224.ext/destfolder/test/images/136aug2.jpg',\n",
       "        '/home/henri/Desktop/roboflow/224.ext/destfolder/test/labels/136aug2.txt'],\n",
       "       ['/home/henri/Desktop/roboflow/224.ext/destfolder/test/images/137aug0.jpg',\n",
       "        '/home/henri/Desktop/roboflow/224.ext/destfolder/test/labels/137aug0.txt'],\n",
       "       ['/home/henri/Desktop/roboflow/224.ext/destfolder/test/images/137aug1.jpg',\n",
       "        '/home/henri/Desktop/roboflow/224.ext/destfolder/test/labels/137aug1.txt'],\n",
       "       ['/home/henri/Desktop/roboflow/224.ext/destfolder/test/images/137aug2.jpg',\n",
       "        '/home/henri/Desktop/roboflow/224.ext/destfolder/test/labels/137aug2.txt'],\n",
       "       ['/home/henri/Desktop/roboflow/224.ext/destfolder/test/images/137aug3.jpg',\n",
       "        '/home/henri/Desktop/roboflow/224.ext/destfolder/test/labels/137aug3.txt'],\n",
       "       ['/home/henri/Desktop/roboflow/224.ext/destfolder/test/images/138aug0.jpg',\n",
       "        '/home/henri/Desktop/roboflow/224.ext/destfolder/test/labels/138aug0.txt'],\n",
       "       ['/home/henri/Desktop/roboflow/224.ext/destfolder/test/images/138aug1.jpg',\n",
       "        '/home/henri/Desktop/roboflow/224.ext/destfolder/test/labels/138aug1.txt'],\n",
       "       ['/home/henri/Desktop/roboflow/224.ext/destfolder/test/images/138aug2.jpg',\n",
       "        '/home/henri/Desktop/roboflow/224.ext/destfolder/test/labels/138aug2.txt']],\n",
       "      dtype=object)"
      ]
     },
     "metadata": {},
     "execution_count": 35
    }
   ],
   "source": [
    "testdest = urlFormater(destUrl,tr,destName='test',mode='dest')\n",
    "testdest"
   ]
  },
  {
   "cell_type": "code",
   "execution_count": 36,
   "metadata": {},
   "outputs": [
    {
     "output_type": "execute_result",
     "data": {
      "text/plain": [
       "array([['/home/henri/Desktop/roboflow/224.ext/136aug0.jpg',\n",
       "        '/home/henri/Desktop/roboflow/224.ext/136aug0.txt'],\n",
       "       ['/home/henri/Desktop/roboflow/224.ext/136aug1.jpg',\n",
       "        '/home/henri/Desktop/roboflow/224.ext/136aug1.txt'],\n",
       "       ['/home/henri/Desktop/roboflow/224.ext/136aug2.jpg',\n",
       "        '/home/henri/Desktop/roboflow/224.ext/136aug2.txt'],\n",
       "       ['/home/henri/Desktop/roboflow/224.ext/137aug0.jpg',\n",
       "        '/home/henri/Desktop/roboflow/224.ext/137aug0.txt'],\n",
       "       ['/home/henri/Desktop/roboflow/224.ext/137aug1.jpg',\n",
       "        '/home/henri/Desktop/roboflow/224.ext/137aug1.txt'],\n",
       "       ['/home/henri/Desktop/roboflow/224.ext/137aug2.jpg',\n",
       "        '/home/henri/Desktop/roboflow/224.ext/137aug2.txt'],\n",
       "       ['/home/henri/Desktop/roboflow/224.ext/137aug3.jpg',\n",
       "        '/home/henri/Desktop/roboflow/224.ext/137aug3.txt'],\n",
       "       ['/home/henri/Desktop/roboflow/224.ext/138aug0.jpg',\n",
       "        '/home/henri/Desktop/roboflow/224.ext/138aug0.txt'],\n",
       "       ['/home/henri/Desktop/roboflow/224.ext/138aug1.jpg',\n",
       "        '/home/henri/Desktop/roboflow/224.ext/138aug1.txt'],\n",
       "       ['/home/henri/Desktop/roboflow/224.ext/138aug2.jpg',\n",
       "        '/home/henri/Desktop/roboflow/224.ext/138aug2.txt'],\n",
       "       ['/home/henri/Desktop/roboflow/224.ext/138aug3.jpg',\n",
       "        '/home/henri/Desktop/roboflow/224.ext/138aug3.txt'],\n",
       "       ['/home/henri/Desktop/roboflow/224.ext/139aug0.jpg',\n",
       "        '/home/henri/Desktop/roboflow/224.ext/139aug0.txt'],\n",
       "       ['/home/henri/Desktop/roboflow/224.ext/139aug1.jpg',\n",
       "        '/home/henri/Desktop/roboflow/224.ext/139aug1.txt'],\n",
       "       ['/home/henri/Desktop/roboflow/224.ext/139aug2.jpg',\n",
       "        '/home/henri/Desktop/roboflow/224.ext/139aug2.txt'],\n",
       "       ['/home/henri/Desktop/roboflow/224.ext/139aug3.jpg',\n",
       "        '/home/henri/Desktop/roboflow/224.ext/139aug3.txt'],\n",
       "       ['/home/henri/Desktop/roboflow/224.ext/140aug0.jpg',\n",
       "        '/home/henri/Desktop/roboflow/224.ext/140aug0.txt'],\n",
       "       ['/home/henri/Desktop/roboflow/224.ext/140aug1.jpg',\n",
       "        '/home/henri/Desktop/roboflow/224.ext/140aug1.txt'],\n",
       "       ['/home/henri/Desktop/roboflow/224.ext/140aug2.jpg',\n",
       "        '/home/henri/Desktop/roboflow/224.ext/140aug2.txt'],\n",
       "       ['/home/henri/Desktop/roboflow/224.ext/142aug0.jpg',\n",
       "        '/home/henri/Desktop/roboflow/224.ext/142aug0.txt'],\n",
       "       ['/home/henri/Desktop/roboflow/224.ext/142aug1.jpg',\n",
       "        '/home/henri/Desktop/roboflow/224.ext/142aug1.txt']], dtype=object)"
      ]
     },
     "metadata": {},
     "execution_count": 36
    }
   ],
   "source": [
    "testFrom = urlFormater(urlTest,directory,mode='source')\n",
    "testFrom"
   ]
  },
  {
   "cell_type": "code",
   "execution_count": 39,
   "metadata": {},
   "outputs": [
    {
     "output_type": "stream",
     "name": "stdout",
     "text": [
      "/home/henri/Desktop/roboflow/224.ext/136aug0.jpg /home/henri/Desktop/roboflow/224.ext/destfolder/test/images/136aug0.jpg \n\n/home/henri/Desktop/roboflow/224.ext/136aug0.txt /home/henri/Desktop/roboflow/224.ext/destfolder/test/labels/136aug0.txt \n\n/home/henri/Desktop/roboflow/224.ext/136aug1.jpg /home/henri/Desktop/roboflow/224.ext/destfolder/test/images/136aug1.jpg \n\n/home/henri/Desktop/roboflow/224.ext/136aug1.txt /home/henri/Desktop/roboflow/224.ext/destfolder/test/labels/136aug1.txt \n\n/home/henri/Desktop/roboflow/224.ext/136aug2.jpg /home/henri/Desktop/roboflow/224.ext/destfolder/test/images/136aug2.jpg \n\n/home/henri/Desktop/roboflow/224.ext/136aug2.txt /home/henri/Desktop/roboflow/224.ext/destfolder/test/labels/136aug2.txt \n\n/home/henri/Desktop/roboflow/224.ext/137aug0.jpg /home/henri/Desktop/roboflow/224.ext/destfolder/test/images/137aug0.jpg \n\n/home/henri/Desktop/roboflow/224.ext/137aug0.txt /home/henri/Desktop/roboflow/224.ext/destfolder/test/labels/137aug0.txt \n\n/home/henri/Desktop/roboflow/224.ext/137aug1.jpg /home/henri/Desktop/roboflow/224.ext/destfolder/test/images/137aug1.jpg \n\n/home/henri/Desktop/roboflow/224.ext/137aug1.txt /home/henri/Desktop/roboflow/224.ext/destfolder/test/labels/137aug1.txt \n\n/home/henri/Desktop/roboflow/224.ext/137aug2.jpg /home/henri/Desktop/roboflow/224.ext/destfolder/test/images/137aug2.jpg \n\n/home/henri/Desktop/roboflow/224.ext/137aug2.txt /home/henri/Desktop/roboflow/224.ext/destfolder/test/labels/137aug2.txt \n\n/home/henri/Desktop/roboflow/224.ext/137aug3.jpg /home/henri/Desktop/roboflow/224.ext/destfolder/test/images/137aug3.jpg \n\n/home/henri/Desktop/roboflow/224.ext/137aug3.txt /home/henri/Desktop/roboflow/224.ext/destfolder/test/labels/137aug3.txt \n\n/home/henri/Desktop/roboflow/224.ext/138aug0.jpg /home/henri/Desktop/roboflow/224.ext/destfolder/test/images/138aug0.jpg \n\n/home/henri/Desktop/roboflow/224.ext/138aug0.txt /home/henri/Desktop/roboflow/224.ext/destfolder/test/labels/138aug0.txt \n\n/home/henri/Desktop/roboflow/224.ext/138aug1.jpg /home/henri/Desktop/roboflow/224.ext/destfolder/test/images/138aug1.jpg \n\n/home/henri/Desktop/roboflow/224.ext/138aug1.txt /home/henri/Desktop/roboflow/224.ext/destfolder/test/labels/138aug1.txt \n\n/home/henri/Desktop/roboflow/224.ext/138aug2.jpg /home/henri/Desktop/roboflow/224.ext/destfolder/test/images/138aug2.jpg \n\n/home/henri/Desktop/roboflow/224.ext/138aug2.txt /home/henri/Desktop/roboflow/224.ext/destfolder/test/labels/138aug2.txt \n\n"
     ]
    }
   ],
   "source": [
    "for x, y in zip(testFrom, testdest):\n",
    "    for a, b in zip(x,y):\n",
    "        print(a , b,'\\n')"
   ]
  },
  {
   "cell_type": "code",
   "execution_count": 60,
   "metadata": {},
   "outputs": [
    {
     "output_type": "execute_result",
     "data": {
      "text/plain": [
       "'/home/henri/Desktop/roboflow/224.ext/destfolder/test/images'"
      ]
     },
     "metadata": {},
     "execution_count": 60
    }
   ],
   "source": [
    "#b = \"-\".join(a.split(\"-\")[1:-2])\n",
    "'/'.join(testdest[0][0].split('/')[:-1])"
   ]
  },
  {
   "cell_type": "code",
   "execution_count": 97,
   "metadata": {},
   "outputs": [],
   "source": [
    "urlTest = '/home/henri/Desktop/roboflow/224.ext/'\n",
    "destUrl = '/home/henri/Desktop/roboflow/224.ext/destfolder/'\n",
    "from shutil import copy\n",
    "from os import mkdir\n",
    "\n",
    "def moveplacenameholder(urlSrc,urlDest,dataset,directory,info=False):\n",
    "    \"\"\"\n",
    "    Of note we will want to shuffle the data eventually. I am unsure if shuffling at the directory will alleviatee headaches\n",
    "    \"\"\"\n",
    "    # orgin\n",
    "    directory = urlFormater(urlSrc,directory,mode='source')\n",
    "    subFolder = ['train','valid','test']\n",
    "    # destination\n",
    "    tr,vl,ts = [urlFormater(urlDest,d,destName=f,mode='dest') for d,f in zip(dataset,subFolder)]\n",
    "    #create directories\n",
    "    folderSubFolderCreator(['train','valid','test'],['images','labels'])\n",
    "    destination = np.concatenate((tr,vl,ts), axis=0)\n",
    "\n",
    "    for fromImgTxt, toImgTxt in zip(directory, destination):\n",
    "        print(f'{fromImgTxt}{toImgTxt}')\n",
    "\n",
    "        for src, dest in zip(fromImgTxt,toImgTxt):\n",
    "            if info:\n",
    "                print(src,'/'.join(dest.split('/')[:-1]))\n",
    "            copy2(src,'/'.join(dest.split('/')[:-1]))\n",
    "\n",
    "    return"
   ]
  },
  {
   "cell_type": "code",
   "execution_count": 98,
   "metadata": {},
   "outputs": [
    {
     "output_type": "stream",
     "name": "stdout",
     "text": [
      "['/home/henri/Desktop/roboflow/224.ext/136aug0.jpg'\n '/home/henri/Desktop/roboflow/224.ext/136aug0.txt']['/home/henri/Desktop/roboflow/224.ext/destfolder/train/images/136aug0.jpg'\n '/home/henri/Desktop/roboflow/224.ext/destfolder/train/labels/136aug0.txt']\n/home/henri/Desktop/roboflow/224.ext/136aug0.jpg /home/henri/Desktop/roboflow/224.ext/destfolder/train/images\n/home/henri/Desktop/roboflow/224.ext/136aug0.txt /home/henri/Desktop/roboflow/224.ext/destfolder/train/labels\n['/home/henri/Desktop/roboflow/224.ext/136aug1.jpg'\n '/home/henri/Desktop/roboflow/224.ext/136aug1.txt']['/home/henri/Desktop/roboflow/224.ext/destfolder/train/images/136aug1.jpg'\n '/home/henri/Desktop/roboflow/224.ext/destfolder/train/labels/136aug1.txt']\n/home/henri/Desktop/roboflow/224.ext/136aug1.jpg /home/henri/Desktop/roboflow/224.ext/destfolder/train/images\n/home/henri/Desktop/roboflow/224.ext/136aug1.txt /home/henri/Desktop/roboflow/224.ext/destfolder/train/labels\n['/home/henri/Desktop/roboflow/224.ext/136aug2.jpg'\n '/home/henri/Desktop/roboflow/224.ext/136aug2.txt']['/home/henri/Desktop/roboflow/224.ext/destfolder/train/images/136aug2.jpg'\n '/home/henri/Desktop/roboflow/224.ext/destfolder/train/labels/136aug2.txt']\n/home/henri/Desktop/roboflow/224.ext/136aug2.jpg /home/henri/Desktop/roboflow/224.ext/destfolder/train/images\n/home/henri/Desktop/roboflow/224.ext/136aug2.txt /home/henri/Desktop/roboflow/224.ext/destfolder/train/labels\n['/home/henri/Desktop/roboflow/224.ext/137aug0.jpg'\n '/home/henri/Desktop/roboflow/224.ext/137aug0.txt']['/home/henri/Desktop/roboflow/224.ext/destfolder/train/images/137aug0.jpg'\n '/home/henri/Desktop/roboflow/224.ext/destfolder/train/labels/137aug0.txt']\n/home/henri/Desktop/roboflow/224.ext/137aug0.jpg /home/henri/Desktop/roboflow/224.ext/destfolder/train/images\n/home/henri/Desktop/roboflow/224.ext/137aug0.txt /home/henri/Desktop/roboflow/224.ext/destfolder/train/labels\n['/home/henri/Desktop/roboflow/224.ext/137aug1.jpg'\n '/home/henri/Desktop/roboflow/224.ext/137aug1.txt']['/home/henri/Desktop/roboflow/224.ext/destfolder/train/images/137aug1.jpg'\n '/home/henri/Desktop/roboflow/224.ext/destfolder/train/labels/137aug1.txt']\n/home/henri/Desktop/roboflow/224.ext/137aug1.jpg /home/henri/Desktop/roboflow/224.ext/destfolder/train/images\n/home/henri/Desktop/roboflow/224.ext/137aug1.txt /home/henri/Desktop/roboflow/224.ext/destfolder/train/labels\n['/home/henri/Desktop/roboflow/224.ext/137aug2.jpg'\n '/home/henri/Desktop/roboflow/224.ext/137aug2.txt']['/home/henri/Desktop/roboflow/224.ext/destfolder/train/images/137aug2.jpg'\n '/home/henri/Desktop/roboflow/224.ext/destfolder/train/labels/137aug2.txt']\n/home/henri/Desktop/roboflow/224.ext/137aug2.jpg /home/henri/Desktop/roboflow/224.ext/destfolder/train/images\n/home/henri/Desktop/roboflow/224.ext/137aug2.txt /home/henri/Desktop/roboflow/224.ext/destfolder/train/labels\n['/home/henri/Desktop/roboflow/224.ext/137aug3.jpg'\n '/home/henri/Desktop/roboflow/224.ext/137aug3.txt']['/home/henri/Desktop/roboflow/224.ext/destfolder/train/images/137aug3.jpg'\n '/home/henri/Desktop/roboflow/224.ext/destfolder/train/labels/137aug3.txt']\n/home/henri/Desktop/roboflow/224.ext/137aug3.jpg /home/henri/Desktop/roboflow/224.ext/destfolder/train/images\n/home/henri/Desktop/roboflow/224.ext/137aug3.txt /home/henri/Desktop/roboflow/224.ext/destfolder/train/labels\n['/home/henri/Desktop/roboflow/224.ext/138aug0.jpg'\n '/home/henri/Desktop/roboflow/224.ext/138aug0.txt']['/home/henri/Desktop/roboflow/224.ext/destfolder/train/images/138aug0.jpg'\n '/home/henri/Desktop/roboflow/224.ext/destfolder/train/labels/138aug0.txt']\n/home/henri/Desktop/roboflow/224.ext/138aug0.jpg /home/henri/Desktop/roboflow/224.ext/destfolder/train/images\n/home/henri/Desktop/roboflow/224.ext/138aug0.txt /home/henri/Desktop/roboflow/224.ext/destfolder/train/labels\n['/home/henri/Desktop/roboflow/224.ext/138aug1.jpg'\n '/home/henri/Desktop/roboflow/224.ext/138aug1.txt']['/home/henri/Desktop/roboflow/224.ext/destfolder/train/images/138aug1.jpg'\n '/home/henri/Desktop/roboflow/224.ext/destfolder/train/labels/138aug1.txt']\n/home/henri/Desktop/roboflow/224.ext/138aug1.jpg /home/henri/Desktop/roboflow/224.ext/destfolder/train/images\n/home/henri/Desktop/roboflow/224.ext/138aug1.txt /home/henri/Desktop/roboflow/224.ext/destfolder/train/labels\n['/home/henri/Desktop/roboflow/224.ext/138aug2.jpg'\n '/home/henri/Desktop/roboflow/224.ext/138aug2.txt']['/home/henri/Desktop/roboflow/224.ext/destfolder/train/images/138aug2.jpg'\n '/home/henri/Desktop/roboflow/224.ext/destfolder/train/labels/138aug2.txt']\n/home/henri/Desktop/roboflow/224.ext/138aug2.jpg /home/henri/Desktop/roboflow/224.ext/destfolder/train/images\n/home/henri/Desktop/roboflow/224.ext/138aug2.txt /home/henri/Desktop/roboflow/224.ext/destfolder/train/labels\n['/home/henri/Desktop/roboflow/224.ext/138aug3.jpg'\n '/home/henri/Desktop/roboflow/224.ext/138aug3.txt']['/home/henri/Desktop/roboflow/224.ext/destfolder/valid/images/138aug3.jpg'\n '/home/henri/Desktop/roboflow/224.ext/destfolder/valid/labels/138aug3.txt']\n/home/henri/Desktop/roboflow/224.ext/138aug3.jpg /home/henri/Desktop/roboflow/224.ext/destfolder/valid/images\n/home/henri/Desktop/roboflow/224.ext/138aug3.txt /home/henri/Desktop/roboflow/224.ext/destfolder/valid/labels\n['/home/henri/Desktop/roboflow/224.ext/139aug0.jpg'\n '/home/henri/Desktop/roboflow/224.ext/139aug0.txt']['/home/henri/Desktop/roboflow/224.ext/destfolder/valid/images/139aug0.jpg'\n '/home/henri/Desktop/roboflow/224.ext/destfolder/valid/labels/139aug0.txt']\n/home/henri/Desktop/roboflow/224.ext/139aug0.jpg /home/henri/Desktop/roboflow/224.ext/destfolder/valid/images\n/home/henri/Desktop/roboflow/224.ext/139aug0.txt /home/henri/Desktop/roboflow/224.ext/destfolder/valid/labels\n['/home/henri/Desktop/roboflow/224.ext/139aug1.jpg'\n '/home/henri/Desktop/roboflow/224.ext/139aug1.txt']['/home/henri/Desktop/roboflow/224.ext/destfolder/valid/images/139aug1.jpg'\n '/home/henri/Desktop/roboflow/224.ext/destfolder/valid/labels/139aug1.txt']\n/home/henri/Desktop/roboflow/224.ext/139aug1.jpg /home/henri/Desktop/roboflow/224.ext/destfolder/valid/images\n/home/henri/Desktop/roboflow/224.ext/139aug1.txt /home/henri/Desktop/roboflow/224.ext/destfolder/valid/labels\n['/home/henri/Desktop/roboflow/224.ext/139aug2.jpg'\n '/home/henri/Desktop/roboflow/224.ext/139aug2.txt']['/home/henri/Desktop/roboflow/224.ext/destfolder/valid/images/139aug2.jpg'\n '/home/henri/Desktop/roboflow/224.ext/destfolder/valid/labels/139aug2.txt']\n/home/henri/Desktop/roboflow/224.ext/139aug2.jpg /home/henri/Desktop/roboflow/224.ext/destfolder/valid/images\n/home/henri/Desktop/roboflow/224.ext/139aug2.txt /home/henri/Desktop/roboflow/224.ext/destfolder/valid/labels\n['/home/henri/Desktop/roboflow/224.ext/139aug3.jpg'\n '/home/henri/Desktop/roboflow/224.ext/139aug3.txt']['/home/henri/Desktop/roboflow/224.ext/destfolder/valid/images/139aug3.jpg'\n '/home/henri/Desktop/roboflow/224.ext/destfolder/valid/labels/139aug3.txt']\n/home/henri/Desktop/roboflow/224.ext/139aug3.jpg /home/henri/Desktop/roboflow/224.ext/destfolder/valid/images\n/home/henri/Desktop/roboflow/224.ext/139aug3.txt /home/henri/Desktop/roboflow/224.ext/destfolder/valid/labels\n['/home/henri/Desktop/roboflow/224.ext/140aug0.jpg'\n '/home/henri/Desktop/roboflow/224.ext/140aug0.txt']['/home/henri/Desktop/roboflow/224.ext/destfolder/valid/images/140aug0.jpg'\n '/home/henri/Desktop/roboflow/224.ext/destfolder/valid/labels/140aug0.txt']\n/home/henri/Desktop/roboflow/224.ext/140aug0.jpg /home/henri/Desktop/roboflow/224.ext/destfolder/valid/images\n/home/henri/Desktop/roboflow/224.ext/140aug0.txt /home/henri/Desktop/roboflow/224.ext/destfolder/valid/labels\n['/home/henri/Desktop/roboflow/224.ext/140aug1.jpg'\n '/home/henri/Desktop/roboflow/224.ext/140aug1.txt']['/home/henri/Desktop/roboflow/224.ext/destfolder/valid/images/140aug1.jpg'\n '/home/henri/Desktop/roboflow/224.ext/destfolder/valid/labels/140aug1.txt']\n/home/henri/Desktop/roboflow/224.ext/140aug1.jpg /home/henri/Desktop/roboflow/224.ext/destfolder/valid/images\n/home/henri/Desktop/roboflow/224.ext/140aug1.txt /home/henri/Desktop/roboflow/224.ext/destfolder/valid/labels\n['/home/henri/Desktop/roboflow/224.ext/140aug2.jpg'\n '/home/henri/Desktop/roboflow/224.ext/140aug2.txt']['/home/henri/Desktop/roboflow/224.ext/destfolder/valid/images/140aug2.jpg'\n '/home/henri/Desktop/roboflow/224.ext/destfolder/valid/labels/140aug2.txt']\n/home/henri/Desktop/roboflow/224.ext/140aug2.jpg /home/henri/Desktop/roboflow/224.ext/destfolder/valid/images\n/home/henri/Desktop/roboflow/224.ext/140aug2.txt /home/henri/Desktop/roboflow/224.ext/destfolder/valid/labels\n['/home/henri/Desktop/roboflow/224.ext/142aug0.jpg'\n '/home/henri/Desktop/roboflow/224.ext/142aug0.txt']['/home/henri/Desktop/roboflow/224.ext/destfolder/test/images/142aug0.jpg'\n '/home/henri/Desktop/roboflow/224.ext/destfolder/test/labels/142aug0.txt']\n/home/henri/Desktop/roboflow/224.ext/142aug0.jpg /home/henri/Desktop/roboflow/224.ext/destfolder/test/images\n/home/henri/Desktop/roboflow/224.ext/142aug0.txt /home/henri/Desktop/roboflow/224.ext/destfolder/test/labels\n['/home/henri/Desktop/roboflow/224.ext/142aug1.jpg'\n '/home/henri/Desktop/roboflow/224.ext/142aug1.txt']['/home/henri/Desktop/roboflow/224.ext/destfolder/test/images/142aug1.jpg'\n '/home/henri/Desktop/roboflow/224.ext/destfolder/test/labels/142aug1.txt']\n/home/henri/Desktop/roboflow/224.ext/142aug1.jpg /home/henri/Desktop/roboflow/224.ext/destfolder/test/images\n/home/henri/Desktop/roboflow/224.ext/142aug1.txt /home/henri/Desktop/roboflow/224.ext/destfolder/test/labels\nSource array:\n[['/home/henri/Desktop/roboflow/224.ext/136aug0.jpg'\n  '/home/henri/Desktop/roboflow/224.ext/136aug0.txt']\n ['/home/henri/Desktop/roboflow/224.ext/136aug1.jpg'\n  '/home/henri/Desktop/roboflow/224.ext/136aug1.txt']\n ['/home/henri/Desktop/roboflow/224.ext/136aug2.jpg'\n  '/home/henri/Desktop/roboflow/224.ext/136aug2.txt']\n ['/home/henri/Desktop/roboflow/224.ext/137aug0.jpg'\n  '/home/henri/Desktop/roboflow/224.ext/137aug0.txt']\n ['/home/henri/Desktop/roboflow/224.ext/137aug1.jpg'\n  '/home/henri/Desktop/roboflow/224.ext/137aug1.txt']\n ['/home/henri/Desktop/roboflow/224.ext/137aug2.jpg'\n  '/home/henri/Desktop/roboflow/224.ext/137aug2.txt']\n ['/home/henri/Desktop/roboflow/224.ext/137aug3.jpg'\n  '/home/henri/Desktop/roboflow/224.ext/137aug3.txt']\n ['/home/henri/Desktop/roboflow/224.ext/138aug0.jpg'\n  '/home/henri/Desktop/roboflow/224.ext/138aug0.txt']\n ['/home/henri/Desktop/roboflow/224.ext/138aug1.jpg'\n  '/home/henri/Desktop/roboflow/224.ext/138aug1.txt']\n ['/home/henri/Desktop/roboflow/224.ext/138aug2.jpg'\n  '/home/henri/Desktop/roboflow/224.ext/138aug2.txt']\n ['/home/henri/Desktop/roboflow/224.ext/138aug3.jpg'\n  '/home/henri/Desktop/roboflow/224.ext/138aug3.txt']\n ['/home/henri/Desktop/roboflow/224.ext/139aug0.jpg'\n  '/home/henri/Desktop/roboflow/224.ext/139aug0.txt']\n ['/home/henri/Desktop/roboflow/224.ext/139aug1.jpg'\n  '/home/henri/Desktop/roboflow/224.ext/139aug1.txt']\n ['/home/henri/Desktop/roboflow/224.ext/139aug2.jpg'\n  '/home/henri/Desktop/roboflow/224.ext/139aug2.txt']\n ['/home/henri/Desktop/roboflow/224.ext/139aug3.jpg'\n  '/home/henri/Desktop/roboflow/224.ext/139aug3.txt']\n ['/home/henri/Desktop/roboflow/224.ext/140aug0.jpg'\n  '/home/henri/Desktop/roboflow/224.ext/140aug0.txt']\n ['/home/henri/Desktop/roboflow/224.ext/140aug1.jpg'\n  '/home/henri/Desktop/roboflow/224.ext/140aug1.txt']\n ['/home/henri/Desktop/roboflow/224.ext/140aug2.jpg'\n  '/home/henri/Desktop/roboflow/224.ext/140aug2.txt']\n ['/home/henri/Desktop/roboflow/224.ext/142aug0.jpg'\n  '/home/henri/Desktop/roboflow/224.ext/142aug0.txt']\n ['/home/henri/Desktop/roboflow/224.ext/142aug1.jpg'\n  '/home/henri/Desktop/roboflow/224.ext/142aug1.txt']]\nDestination array:\n[['/home/henri/Desktop/roboflow/224.ext/destfolder/train/images/136aug0.jpg'\n  '/home/henri/Desktop/roboflow/224.ext/destfolder/train/labels/136aug0.txt']\n ['/home/henri/Desktop/roboflow/224.ext/destfolder/train/images/136aug1.jpg'\n  '/home/henri/Desktop/roboflow/224.ext/destfolder/train/labels/136aug1.txt']\n ['/home/henri/Desktop/roboflow/224.ext/destfolder/train/images/136aug2.jpg'\n  '/home/henri/Desktop/roboflow/224.ext/destfolder/train/labels/136aug2.txt']\n ['/home/henri/Desktop/roboflow/224.ext/destfolder/train/images/137aug0.jpg'\n  '/home/henri/Desktop/roboflow/224.ext/destfolder/train/labels/137aug0.txt']\n ['/home/henri/Desktop/roboflow/224.ext/destfolder/train/images/137aug1.jpg'\n  '/home/henri/Desktop/roboflow/224.ext/destfolder/train/labels/137aug1.txt']\n ['/home/henri/Desktop/roboflow/224.ext/destfolder/train/images/137aug2.jpg'\n  '/home/henri/Desktop/roboflow/224.ext/destfolder/train/labels/137aug2.txt']\n ['/home/henri/Desktop/roboflow/224.ext/destfolder/train/images/137aug3.jpg'\n  '/home/henri/Desktop/roboflow/224.ext/destfolder/train/labels/137aug3.txt']\n ['/home/henri/Desktop/roboflow/224.ext/destfolder/train/images/138aug0.jpg'\n  '/home/henri/Desktop/roboflow/224.ext/destfolder/train/labels/138aug0.txt']\n ['/home/henri/Desktop/roboflow/224.ext/destfolder/train/images/138aug1.jpg'\n  '/home/henri/Desktop/roboflow/224.ext/destfolder/train/labels/138aug1.txt']\n ['/home/henri/Desktop/roboflow/224.ext/destfolder/train/images/138aug2.jpg'\n  '/home/henri/Desktop/roboflow/224.ext/destfolder/train/labels/138aug2.txt']\n ['/home/henri/Desktop/roboflow/224.ext/destfolder/valid/images/138aug3.jpg'\n  '/home/henri/Desktop/roboflow/224.ext/destfolder/valid/labels/138aug3.txt']\n ['/home/henri/Desktop/roboflow/224.ext/destfolder/valid/images/139aug0.jpg'\n  '/home/henri/Desktop/roboflow/224.ext/destfolder/valid/labels/139aug0.txt']\n ['/home/henri/Desktop/roboflow/224.ext/destfolder/valid/images/139aug1.jpg'\n  '/home/henri/Desktop/roboflow/224.ext/destfolder/valid/labels/139aug1.txt']\n ['/home/henri/Desktop/roboflow/224.ext/destfolder/valid/images/139aug2.jpg'\n  '/home/henri/Desktop/roboflow/224.ext/destfolder/valid/labels/139aug2.txt']\n ['/home/henri/Desktop/roboflow/224.ext/destfolder/valid/images/139aug3.jpg'\n  '/home/henri/Desktop/roboflow/224.ext/destfolder/valid/labels/139aug3.txt']\n ['/home/henri/Desktop/roboflow/224.ext/destfolder/valid/images/140aug0.jpg'\n  '/home/henri/Desktop/roboflow/224.ext/destfolder/valid/labels/140aug0.txt']\n ['/home/henri/Desktop/roboflow/224.ext/destfolder/valid/images/140aug1.jpg'\n  '/home/henri/Desktop/roboflow/224.ext/destfolder/valid/labels/140aug1.txt']\n ['/home/henri/Desktop/roboflow/224.ext/destfolder/valid/images/140aug2.jpg'\n  '/home/henri/Desktop/roboflow/224.ext/destfolder/valid/labels/140aug2.txt']\n ['/home/henri/Desktop/roboflow/224.ext/destfolder/test/images/142aug0.jpg'\n  '/home/henri/Desktop/roboflow/224.ext/destfolder/test/labels/142aug0.txt']\n ['/home/henri/Desktop/roboflow/224.ext/destfolder/test/images/142aug1.jpg'\n  '/home/henri/Desktop/roboflow/224.ext/destfolder/test/labels/142aug1.txt']]\n"
     ]
    }
   ],
   "source": [
    "moveplacenameholder(urlTest,destUrl,[tr,va,te],directory,info=True)"
   ]
  },
  {
   "cell_type": "code",
   "execution_count": 68,
   "metadata": {},
   "outputs": [
    {
     "output_type": "execute_result",
     "data": {
      "text/plain": [
       "'/home/henri/Desktop/roboflow/224.ext/destfolder/'"
      ]
     },
     "metadata": {},
     "execution_count": 68
    }
   ],
   "source": [
    "destUrl"
   ]
  },
  {
   "cell_type": "code",
   "execution_count": 81,
   "metadata": {},
   "outputs": [],
   "source": [
    "#['train','valid','test']\n",
    "#['images','labels']\n",
    "def folderSubFolderCreator(folder,subfolder):\n",
    "    \"\"\"\n",
    "    Can only do 2 deep at the moment. Mkdir can only create directory one depth at a time\n",
    "    \"\"\"\n",
    "    for f in folder:\n",
    "        mkdir(destUrl + f'/{f}/')\n",
    "        for subf in subfolder:\n",
    "            stringList = [f,subf]\n",
    "            mkdir(destUrl + '/'.join(string for string in stringList)+'/')"
   ]
  },
  {
   "cell_type": "code",
   "execution_count": 82,
   "metadata": {},
   "outputs": [],
   "source": [
    "folderSubFolderCreator(['train','valid','test'],['images','labels'])"
   ]
  },
  {
   "cell_type": "code",
   "execution_count": null,
   "metadata": {},
   "outputs": [],
   "source": []
  }
 ]
}