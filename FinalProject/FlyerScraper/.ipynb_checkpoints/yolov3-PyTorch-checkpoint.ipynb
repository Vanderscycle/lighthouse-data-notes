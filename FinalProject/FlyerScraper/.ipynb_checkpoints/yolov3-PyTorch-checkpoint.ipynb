{
 "metadata": {
  "language_info": {
   "codemirror_mode": {
    "name": "ipython",
    "version": 3
   },
   "file_extension": ".py",
   "mimetype": "text/x-python",
   "name": "python",
   "nbconvert_exporter": "python",
   "pygments_lexer": "ipython3",
   "version": 3
  },
  "orig_nbformat": 2
 },
 "nbformat": 4,
 "nbformat_minor": 2,
 "cells": [
  {
   "source": [
    "# How to implement a YOLO (v3) object detector from scratch in PyTorch\n",
    "[tutorial link](https://blog.paperspace.com/how-to-implement-a-yolo-object-detector-in-pytorch/)"
   ],
   "cell_type": "markdown",
   "metadata": {}
  },
  {
   "source": [
    "Important concepts:\n",
    "\n",
    "* Upsampling (torch.nn.Upsample): \n",
    "    * “Upsampling” is the process of inserting zero-valued samples between original samples to increase the sampling rate. (This is called “zero-stuffing”.) Upsampling adds to the original signal undesired spectral images which are centered on multiples of the original sampling rate.\n",
    "\n",
    "    * [Excellent stackOverflow answer](https://datascience.stackexchange.com/questions/6107/what-are-deconvolutional-layers)\n",
    "* Residual block (resNet)"
   ],
   "cell_type": "markdown",
   "metadata": {}
  },
  {
   "cell_type": "code",
   "execution_count": null,
   "metadata": {},
   "outputs": [],
   "source": [
    "import torch\n",
    "import os"
   ]
  },
  {
   "cell_type": "code",
   "execution_count": null,
   "metadata": {},
   "outputs": [],
   "source": [
    "import pandas"
   ]
  },
  {
   "cell_type": "code",
   "execution_count": null,
   "metadata": {},
   "outputs": [],
   "source": []
  }
 ]
}