{
 "metadata": {
  "language_info": {
   "codemirror_mode": {
    "name": "ipython",
    "version": 3
   },
   "file_extension": ".py",
   "mimetype": "text/x-python",
   "name": "python",
   "nbconvert_exporter": "python",
   "pygments_lexer": "ipython3",
   "version": "3.8.5-final"
  },
  "orig_nbformat": 2,
  "kernelspec": {
   "name": "python38564bitnnscrapercondaa354d8fb32614818906b42d96b0e4fbd",
   "display_name": "Python 3.8.5 64-bit ('NNScraper': conda)"
  }
 },
 "nbformat": 4,
 "nbformat_minor": 2,
 "cells": [
  {
   "cell_type": "code",
   "execution_count": 1,
   "metadata": {},
   "outputs": [],
   "source": [
    "import numpy as np\n",
    "import matplotlib.pyplot as plt\n",
    "import pandas as pd"
   ]
  },
  {
   "cell_type": "code",
   "execution_count": 3,
   "metadata": {},
   "outputs": [],
   "source": [
    "dataset_train = pd.read_csv('NSE-TATAGLOBAL.csv')\n",
    "training_set = dataset_train.iloc[:, 1:2].values"
   ]
  },
  {
   "cell_type": "code",
   "execution_count": 4,
   "metadata": {},
   "outputs": [
    {
     "output_type": "execute_result",
     "data": {
      "text/plain": [
       "         Date    Open    High     Low    Last   Close  Total Trade Quantity  \\\n",
       "0  2018-09-28  234.05  235.95  230.20  233.50  233.75               3069914   \n",
       "1  2018-09-27  234.55  236.80  231.10  233.80  233.25               5082859   \n",
       "2  2018-09-26  240.00  240.00  232.50  235.00  234.25               2240909   \n",
       "3  2018-09-25  233.30  236.75  232.00  236.25  236.10               2349368   \n",
       "4  2018-09-24  233.55  239.20  230.75  234.00  233.30               3423509   \n",
       "\n",
       "   Turnover (Lacs)  \n",
       "0          7162.35  \n",
       "1         11859.95  \n",
       "2          5248.60  \n",
       "3          5503.90  \n",
       "4          7999.55  "
      ],
      "text/html": "<div>\n<style scoped>\n    .dataframe tbody tr th:only-of-type {\n        vertical-align: middle;\n    }\n\n    .dataframe tbody tr th {\n        vertical-align: top;\n    }\n\n    .dataframe thead th {\n        text-align: right;\n    }\n</style>\n<table border=\"1\" class=\"dataframe\">\n  <thead>\n    <tr style=\"text-align: right;\">\n      <th></th>\n      <th>Date</th>\n      <th>Open</th>\n      <th>High</th>\n      <th>Low</th>\n      <th>Last</th>\n      <th>Close</th>\n      <th>Total Trade Quantity</th>\n      <th>Turnover (Lacs)</th>\n    </tr>\n  </thead>\n  <tbody>\n    <tr>\n      <th>0</th>\n      <td>2018-09-28</td>\n      <td>234.05</td>\n      <td>235.95</td>\n      <td>230.20</td>\n      <td>233.50</td>\n      <td>233.75</td>\n      <td>3069914</td>\n      <td>7162.35</td>\n    </tr>\n    <tr>\n      <th>1</th>\n      <td>2018-09-27</td>\n      <td>234.55</td>\n      <td>236.80</td>\n      <td>231.10</td>\n      <td>233.80</td>\n      <td>233.25</td>\n      <td>5082859</td>\n      <td>11859.95</td>\n    </tr>\n    <tr>\n      <th>2</th>\n      <td>2018-09-26</td>\n      <td>240.00</td>\n      <td>240.00</td>\n      <td>232.50</td>\n      <td>235.00</td>\n      <td>234.25</td>\n      <td>2240909</td>\n      <td>5248.60</td>\n    </tr>\n    <tr>\n      <th>3</th>\n      <td>2018-09-25</td>\n      <td>233.30</td>\n      <td>236.75</td>\n      <td>232.00</td>\n      <td>236.25</td>\n      <td>236.10</td>\n      <td>2349368</td>\n      <td>5503.90</td>\n    </tr>\n    <tr>\n      <th>4</th>\n      <td>2018-09-24</td>\n      <td>233.55</td>\n      <td>239.20</td>\n      <td>230.75</td>\n      <td>234.00</td>\n      <td>233.30</td>\n      <td>3423509</td>\n      <td>7999.55</td>\n    </tr>\n  </tbody>\n</table>\n</div>"
     },
     "metadata": {},
     "execution_count": 4
    }
   ],
   "source": [
    "dataset_train.head()"
   ]
  },
  {
   "source": [
    "## Feature Scaling\n",
    "\n",
    "From previous experience with deep learning models, we know that we have to scale our data for optimal performance. "
   ],
   "cell_type": "markdown",
   "metadata": {}
  },
  {
   "cell_type": "code",
   "execution_count": 5,
   "metadata": {},
   "outputs": [],
   "source": [
    "from sklearn.preprocessing import MinMaxScaler\n",
    "sc = MinMaxScaler(feature_range = (0, 1))\n",
    "training_set_scaled = sc.fit_transform(training_set)"
   ]
  },
  {
   "source": [
    "# Creating Data with Timesteps\n",
    "\n",
    "LSTMs expect our data to be in a specific format, usually a 3D array. We start by creating data in 60 timesteps and converting it into an array using NumPy. Next, we convert the data into a 3D dimension array with X_train samples, 60 timestamps, and one feature at each step."
   ],
   "cell_type": "markdown",
   "metadata": {}
  },
  {
   "cell_type": "code",
   "execution_count": 6,
   "metadata": {},
   "outputs": [],
   "source": [
    "X_train = []\n",
    "y_train = []\n",
    "for i in range(60, 2035):\n",
    "    X_train.append(training_set_scaled[i-60:i, 0])\n",
    "    y_train.append(training_set_scaled[i, 0])\n",
    "X_train, y_train = np.array(X_train), np.array(y_train)\n",
    "\n",
    "X_train = np.reshape(X_train, (X_train.shape[0], X_train.shape[1], 1))"
   ]
  },
  {
   "source": [
    "Building the LSTM\n",
    "\n",
    "In order to build the LSTM, we need to import a couple of modules from Keras:\n",
    "\n",
    "   * Sequential for initializing the neural network\n",
    "   * Dense for adding a densely connected neural network layer\n",
    "   * LSTM for adding the Long Short-Term Memory layer\n",
    "   * Dropout for adding dropout layers that prevent overfitting"
   ],
   "cell_type": "markdown",
   "metadata": {}
  },
  {
   "cell_type": "code",
   "execution_count": 7,
   "metadata": {},
   "outputs": [],
   "source": [
    "from keras.models import Sequential\n",
    "from keras.layers import Dense\n",
    "from keras.layers import LSTM\n",
    "from keras.layers import Dropout"
   ]
  },
  {
   "cell_type": "code",
   "execution_count": null,
   "metadata": {},
   "outputs": [],
   "source": []
  },
  {
   "source": [
    "We add the LSTM layer and later add a few Dropout layers to prevent overfitting. We add the LSTM layer with the following arguments:\n",
    "\n",
    "    50 units which is the dimensionality of the output space\n",
    "    return_sequences=True which determines whether to return the last output in the output sequence, or the full sequence\n",
    "    input_shape as the shape of our training set.\n",
    "\n",
    "When defining the Dropout layers, we specify 0.2, meaning that 20% of the layers will be dropped. Thereafter, we add the Dense layer that specifies the output of 1 unit. After this, we compile our model using the popular Adam optimizer and set the loss as the mean_squarred_error. This will compute the mean of the squared errors. Next, we fit the model to run on 100 epochs with a batch size of 32."
   ],
   "cell_type": "markdown",
   "metadata": {}
  },
  {
   "cell_type": "code",
   "execution_count": 8,
   "metadata": {},
   "outputs": [
    {
     "output_type": "stream",
     "name": "stdout",
     "text": [
      "Epoch 1/100\n",
      "62/62 [==============================] - 26s 427ms/step - loss: 0.0100\n",
      "Epoch 2/100\n",
      "62/62 [==============================] - 30s 477ms/step - loss: 0.0032\n",
      "Epoch 3/100\n",
      "62/62 [==============================] - 24s 390ms/step - loss: 0.0031\n",
      "Epoch 4/100\n",
      "62/62 [==============================] - 22s 355ms/step - loss: 0.0026\n",
      "Epoch 5/100\n",
      "62/62 [==============================] - 22s 357ms/step - loss: 0.0027\n",
      "Epoch 6/100\n",
      "62/62 [==============================] - 22s 360ms/step - loss: 0.0024\n",
      "Epoch 7/100\n",
      "62/62 [==============================] - 23s 379ms/step - loss: 0.0020\n",
      "Epoch 8/100\n",
      "62/62 [==============================] - 25s 407ms/step - loss: 0.0021\n",
      "Epoch 9/100\n",
      "62/62 [==============================] - 21s 331ms/step - loss: 0.0021\n",
      "Epoch 10/100\n",
      "62/62 [==============================] - 22s 362ms/step - loss: 0.0022\n",
      "Epoch 11/100\n",
      "62/62 [==============================] - 22s 356ms/step - loss: 0.0020\n",
      "Epoch 12/100\n",
      "62/62 [==============================] - 23s 370ms/step - loss: 0.0017\n",
      "Epoch 13/100\n",
      "62/62 [==============================] - 23s 367ms/step - loss: 0.0016\n",
      "Epoch 14/100\n",
      "62/62 [==============================] - 23s 366ms/step - loss: 0.0018\n",
      "Epoch 15/100\n",
      "62/62 [==============================] - 24s 390ms/step - loss: 0.0017\n",
      "Epoch 16/100\n",
      "62/62 [==============================] - 24s 379ms/step - loss: 0.0016\n",
      "Epoch 17/100\n",
      "62/62 [==============================] - 24s 384ms/step - loss: 0.0014\n",
      "Epoch 18/100\n",
      "62/62 [==============================] - 30s 491ms/step - loss: 0.0015\n",
      "Epoch 19/100\n",
      "62/62 [==============================] - 30s 481ms/step - loss: 0.0016\n",
      "Epoch 20/100\n",
      "62/62 [==============================] - 29s 471ms/step - loss: 0.0015\n",
      "Epoch 21/100\n",
      "62/62 [==============================] - 29s 461ms/step - loss: 0.0016\n",
      "Epoch 22/100\n",
      "62/62 [==============================] - 27s 438ms/step - loss: 0.0012\n",
      "Epoch 23/100\n",
      "62/62 [==============================] - 28s 445ms/step - loss: 0.0015\n",
      "Epoch 24/100\n",
      "62/62 [==============================] - 28s 459ms/step - loss: 0.0013\n",
      "Epoch 25/100\n",
      "62/62 [==============================] - 29s 460ms/step - loss: 0.0013\n",
      "Epoch 26/100\n",
      "62/62 [==============================] - 29s 476ms/step - loss: 0.0012\n",
      "Epoch 27/100\n",
      "62/62 [==============================] - 28s 454ms/step - loss: 0.0016\n",
      "Epoch 28/100\n",
      "62/62 [==============================] - 28s 452ms/step - loss: 0.0012\n",
      "Epoch 29/100\n",
      "62/62 [==============================] - 30s 477ms/step - loss: 0.0012\n",
      "Epoch 30/100\n",
      "62/62 [==============================] - 24s 391ms/step - loss: 0.0013\n",
      "Epoch 31/100\n",
      "62/62 [==============================] - 25s 409ms/step - loss: 0.0011\n",
      "Epoch 32/100\n",
      "62/62 [==============================] - 24s 389ms/step - loss: 0.0011\n",
      "Epoch 33/100\n",
      "62/62 [==============================] - 24s 388ms/step - loss: 0.0010\n",
      "Epoch 34/100\n",
      "62/62 [==============================] - 24s 388ms/step - loss: 0.0011\n",
      "Epoch 35/100\n",
      "62/62 [==============================] - 24s 394ms/step - loss: 0.0011\n",
      "Epoch 36/100\n",
      "62/62 [==============================] - 28s 457ms/step - loss: 9.7749e-04\n",
      "Epoch 37/100\n",
      "62/62 [==============================] - 30s 476ms/step - loss: 0.0011\n",
      "Epoch 38/100\n",
      "62/62 [==============================] - 30s 476ms/step - loss: 0.0010\n",
      "Epoch 39/100\n",
      "62/62 [==============================] - 28s 446ms/step - loss: 9.8520e-04\n",
      "Epoch 40/100\n",
      "62/62 [==============================] - 28s 453ms/step - loss: 9.4400e-04\n",
      "Epoch 41/100\n",
      "62/62 [==============================] - 28s 457ms/step - loss: 0.0010\n",
      "Epoch 42/100\n",
      "62/62 [==============================] - 28s 451ms/step - loss: 9.0587e-04\n",
      "Epoch 43/100\n",
      "62/62 [==============================] - 27s 432ms/step - loss: 8.7498e-04\n",
      "Epoch 44/100\n",
      "62/62 [==============================] - 28s 456ms/step - loss: 0.0010\n",
      "Epoch 45/100\n",
      "62/62 [==============================] - 28s 446ms/step - loss: 8.6721e-04\n",
      "Epoch 46/100\n",
      "62/62 [==============================] - 29s 475ms/step - loss: 0.0010\n",
      "Epoch 47/100\n",
      "62/62 [==============================] - 29s 468ms/step - loss: 9.4209e-04\n",
      "Epoch 48/100\n",
      "62/62 [==============================] - 33s 535ms/step - loss: 0.0010\n",
      "Epoch 49/100\n",
      "62/62 [==============================] - 33s 533ms/step - loss: 8.7165e-04\n",
      "Epoch 50/100\n",
      "62/62 [==============================] - 33s 532ms/step - loss: 7.8628e-04\n",
      "Epoch 51/100\n",
      "62/62 [==============================] - 26s 425ms/step - loss: 8.3051e-04\n",
      "Epoch 52/100\n",
      "62/62 [==============================] - 24s 393ms/step - loss: 7.4425e-04\n",
      "Epoch 53/100\n",
      "62/62 [==============================] - 28s 459ms/step - loss: 8.5995e-04\n",
      "Epoch 54/100\n",
      "62/62 [==============================] - 26s 413ms/step - loss: 7.8244e-04\n",
      "Epoch 55/100\n",
      "62/62 [==============================] - 25s 400ms/step - loss: 7.2854e-04\n",
      "Epoch 56/100\n",
      "62/62 [==============================] - 23s 363ms/step - loss: 7.5006e-04\n",
      "Epoch 57/100\n",
      "62/62 [==============================] - 24s 388ms/step - loss: 7.7901e-04\n",
      "Epoch 58/100\n",
      "62/62 [==============================] - 24s 391ms/step - loss: 8.3746e-04\n",
      "Epoch 59/100\n",
      "62/62 [==============================] - 25s 406ms/step - loss: 7.7544e-04\n",
      "Epoch 60/100\n",
      "62/62 [==============================] - 26s 426ms/step - loss: 8.2289e-04\n",
      "Epoch 61/100\n",
      "62/62 [==============================] - 27s 439ms/step - loss: 0.0010\n",
      "Epoch 62/100\n",
      "62/62 [==============================] - 27s 441ms/step - loss: 9.1304e-04\n",
      "Epoch 63/100\n",
      "62/62 [==============================] - 25s 401ms/step - loss: 8.5596e-04\n",
      "Epoch 64/100\n",
      "62/62 [==============================] - 27s 433ms/step - loss: 8.1636e-04\n",
      "Epoch 65/100\n",
      "62/62 [==============================] - 25s 397ms/step - loss: 7.2131e-04\n",
      "Epoch 66/100\n",
      "62/62 [==============================] - 25s 408ms/step - loss: 7.3233e-04\n",
      "Epoch 67/100\n",
      "62/62 [==============================] - 27s 440ms/step - loss: 7.8406e-04\n",
      "Epoch 68/100\n",
      "62/62 [==============================] - 31s 503ms/step - loss: 8.6830e-04\n",
      "Epoch 69/100\n",
      "62/62 [==============================] - 29s 475ms/step - loss: 7.9957e-04\n",
      "Epoch 70/100\n",
      "62/62 [==============================] - 36s 586ms/step - loss: 6.7636e-04\n",
      "Epoch 71/100\n",
      "62/62 [==============================] - 31s 494ms/step - loss: 7.1523e-04\n",
      "Epoch 72/100\n",
      "62/62 [==============================] - 35s 567ms/step - loss: 7.1812e-04\n",
      "Epoch 73/100\n",
      "62/62 [==============================] - 32s 516ms/step - loss: 6.5455e-04\n",
      "Epoch 74/100\n",
      "62/62 [==============================] - 24s 389ms/step - loss: 7.4119e-04\n",
      "Epoch 75/100\n",
      "62/62 [==============================] - 27s 435ms/step - loss: 6.1697e-04\n",
      "Epoch 76/100\n",
      "62/62 [==============================] - 27s 438ms/step - loss: 6.9456e-04\n",
      "Epoch 77/100\n",
      "62/62 [==============================] - 27s 435ms/step - loss: 7.9150e-04\n",
      "Epoch 78/100\n",
      "62/62 [==============================] - 23s 369ms/step - loss: 6.7524e-04\n",
      "Epoch 79/100\n",
      "62/62 [==============================] - 23s 364ms/step - loss: 7.0522e-04\n",
      "Epoch 80/100\n",
      "62/62 [==============================] - 23s 376ms/step - loss: 6.4222e-04\n",
      "Epoch 81/100\n",
      "62/62 [==============================] - 24s 389ms/step - loss: 6.9645e-04\n",
      "Epoch 82/100\n",
      "62/62 [==============================] - 23s 377ms/step - loss: 6.5067e-04\n",
      "Epoch 83/100\n",
      "62/62 [==============================] - 22s 360ms/step - loss: 6.5740e-04\n",
      "Epoch 84/100\n",
      "62/62 [==============================] - 23s 368ms/step - loss: 6.5393e-04\n",
      "Epoch 85/100\n",
      "62/62 [==============================] - 23s 370ms/step - loss: 8.4846e-04\n",
      "Epoch 86/100\n",
      "62/62 [==============================] - 26s 416ms/step - loss: 7.3081e-04\n",
      "Epoch 87/100\n",
      "62/62 [==============================] - 24s 393ms/step - loss: 6.3272e-04\n",
      "Epoch 88/100\n",
      "62/62 [==============================] - 25s 403ms/step - loss: 6.5900e-04\n",
      "Epoch 89/100\n",
      "62/62 [==============================] - 31s 503ms/step - loss: 6.2972e-04\n",
      "Epoch 90/100\n",
      "62/62 [==============================] - 26s 424ms/step - loss: 7.2145e-04\n",
      "Epoch 91/100\n",
      "62/62 [==============================] - 27s 441ms/step - loss: 6.2583e-04\n",
      "Epoch 92/100\n",
      "62/62 [==============================] - 24s 380ms/step - loss: 6.7219e-04\n",
      "Epoch 93/100\n",
      "62/62 [==============================] - 24s 391ms/step - loss: 5.7771e-04\n",
      "Epoch 94/100\n",
      "62/62 [==============================] - 24s 391ms/step - loss: 6.6714e-04\n",
      "Epoch 95/100\n",
      "62/62 [==============================] - 24s 383ms/step - loss: 6.5739e-04\n",
      "Epoch 96/100\n",
      "62/62 [==============================] - 24s 383ms/step - loss: 5.9750e-04\n",
      "Epoch 97/100\n",
      "62/62 [==============================] - 24s 382ms/step - loss: 6.4441e-04\n",
      "Epoch 98/100\n",
      "62/62 [==============================] - 25s 401ms/step - loss: 6.8371e-04\n",
      "Epoch 99/100\n",
      "62/62 [==============================] - 26s 421ms/step - loss: 7.3400e-04\n",
      "Epoch 100/100\n",
      "62/62 [==============================] - 24s 384ms/step - loss: 6.1574e-04\n"
     ]
    },
    {
     "output_type": "execute_result",
     "data": {
      "text/plain": [
       "<tensorflow.python.keras.callbacks.History at 0x7fe68ca772b0>"
      ]
     },
     "metadata": {},
     "execution_count": 8
    }
   ],
   "source": [
    "regressor = Sequential()\n",
    "\n",
    "regressor.add(LSTM(units = 50, return_sequences = True, input_shape = (X_train.shape[1], 1)))\n",
    "regressor.add(Dropout(0.2))\n",
    "\n",
    "regressor.add(LSTM(units = 50, return_sequences = True))\n",
    "regressor.add(Dropout(0.2))\n",
    "\n",
    "regressor.add(LSTM(units = 50, return_sequences = True))\n",
    "regressor.add(Dropout(0.2))\n",
    "\n",
    "regressor.add(LSTM(units = 50))\n",
    "regressor.add(Dropout(0.2))\n",
    "\n",
    "regressor.add(Dense(units = 1))\n",
    "\n",
    "regressor.compile(optimizer = 'adam', loss = 'mean_squared_error')\n",
    "\n",
    "regressor.fit(X_train, y_train, epochs = 100, batch_size = 32)"
   ]
  },
  {
   "cell_type": "code",
   "execution_count": 12,
   "metadata": {},
   "outputs": [],
   "source": [
    "dataset_test = pd.read_csv('tatatest.csv')\n",
    "real_stock_price = dataset_test.iloc[:, 1:2].values"
   ]
  },
  {
   "cell_type": "code",
   "execution_count": 13,
   "metadata": {},
   "outputs": [],
   "source": [
    "dataset_total = pd.concat((dataset_train['Open'], dataset_test['Open']), axis = 0)\n",
    "inputs = dataset_total[len(dataset_total) - len(dataset_test) - 60:].values\n",
    "inputs = inputs.reshape(-1,1)\n",
    "inputs = sc.transform(inputs)\n",
    "X_test = []\n",
    "for i in range(60, 76):\n",
    "    X_test.append(inputs[i-60:i, 0])\n",
    "X_test = np.array(X_test)\n",
    "X_test = np.reshape(X_test, (X_test.shape[0], X_test.shape[1], 1))\n",
    "predicted_stock_price = regressor.predict(X_test)\n",
    "predicted_stock_price = sc.inverse_transform(predicted_stock_price)"
   ]
  },
  {
   "cell_type": "code",
   "execution_count": 14,
   "metadata": {},
   "outputs": [
    {
     "output_type": "display_data",
     "data": {
      "text/plain": "<Figure size 432x288 with 1 Axes>",
      "image/svg+xml": "<?xml version=\"1.0\" encoding=\"utf-8\" standalone=\"no\"?>\n<!DOCTYPE svg PUBLIC \"-//W3C//DTD SVG 1.1//EN\"\n  \"http://www.w3.org/Graphics/SVG/1.1/DTD/svg11.dtd\">\n<!-- Created with matplotlib (https://matplotlib.org/) -->\n<svg height=\"277.314375pt\" version=\"1.1\" viewBox=\"0 0 388.965625 277.314375\" width=\"388.965625pt\" xmlns=\"http://www.w3.org/2000/svg\" xmlns:xlink=\"http://www.w3.org/1999/xlink\">\n <metadata>\n  <rdf:RDF xmlns:cc=\"http://creativecommons.org/ns#\" xmlns:dc=\"http://purl.org/dc/elements/1.1/\" xmlns:rdf=\"http://www.w3.org/1999/02/22-rdf-syntax-ns#\">\n   <cc:Work>\n    <dc:type rdf:resource=\"http://purl.org/dc/dcmitype/StillImage\"/>\n    <dc:date>2020-11-10T13:54:35.065932</dc:date>\n    <dc:format>image/svg+xml</dc:format>\n    <dc:creator>\n     <cc:Agent>\n      <dc:title>Matplotlib v3.3.2, https://matplotlib.org/</dc:title>\n     </cc:Agent>\n    </dc:creator>\n   </cc:Work>\n  </rdf:RDF>\n </metadata>\n <defs>\n  <style type=\"text/css\">*{stroke-linecap:butt;stroke-linejoin:round;}</style>\n </defs>\n <g id=\"figure_1\">\n  <g id=\"patch_1\">\n   <path d=\"M 0 277.314375 \nL 388.965625 277.314375 \nL 388.965625 0 \nL 0 0 \nz\n\" style=\"fill:none;\"/>\n  </g>\n  <g id=\"axes_1\">\n   <g id=\"patch_2\">\n    <path d=\"M 46.965625 239.758125 \nL 381.765625 239.758125 \nL 381.765625 22.318125 \nL 46.965625 22.318125 \nz\n\" style=\"fill:#ffffff;\"/>\n   </g>\n   <g id=\"matplotlib.axis_1\">\n    <g id=\"xtick_1\">\n     <g id=\"line2d_1\">\n      <defs>\n       <path d=\"M 0 0 \nL 0 3.5 \n\" id=\"me4d9c31a57\" style=\"stroke:#000000;stroke-width:0.8;\"/>\n      </defs>\n      <g>\n       <use style=\"stroke:#000000;stroke-width:0.8;\" x=\"62.183807\" xlink:href=\"#me4d9c31a57\" y=\"239.758125\"/>\n      </g>\n     </g>\n     <g id=\"text_1\">\n      <!-- 0 -->\n      <g transform=\"translate(59.002557 254.356562)scale(0.1 -0.1)\">\n       <defs>\n        <path d=\"M 31.78125 66.40625 \nQ 24.171875 66.40625 20.328125 58.90625 \nQ 16.5 51.421875 16.5 36.375 \nQ 16.5 21.390625 20.328125 13.890625 \nQ 24.171875 6.390625 31.78125 6.390625 \nQ 39.453125 6.390625 43.28125 13.890625 \nQ 47.125 21.390625 47.125 36.375 \nQ 47.125 51.421875 43.28125 58.90625 \nQ 39.453125 66.40625 31.78125 66.40625 \nz\nM 31.78125 74.21875 \nQ 44.046875 74.21875 50.515625 64.515625 \nQ 56.984375 54.828125 56.984375 36.375 \nQ 56.984375 17.96875 50.515625 8.265625 \nQ 44.046875 -1.421875 31.78125 -1.421875 \nQ 19.53125 -1.421875 13.0625 8.265625 \nQ 6.59375 17.96875 6.59375 36.375 \nQ 6.59375 54.828125 13.0625 64.515625 \nQ 19.53125 74.21875 31.78125 74.21875 \nz\n\" id=\"DejaVuSans-48\"/>\n       </defs>\n       <use xlink:href=\"#DejaVuSans-48\"/>\n      </g>\n     </g>\n    </g>\n    <g id=\"xtick_2\">\n     <g id=\"line2d_2\">\n      <g>\n       <use style=\"stroke:#000000;stroke-width:0.8;\" x=\"102.765625\" xlink:href=\"#me4d9c31a57\" y=\"239.758125\"/>\n      </g>\n     </g>\n     <g id=\"text_2\">\n      <!-- 2 -->\n      <g transform=\"translate(99.584375 254.356562)scale(0.1 -0.1)\">\n       <defs>\n        <path d=\"M 19.1875 8.296875 \nL 53.609375 8.296875 \nL 53.609375 0 \nL 7.328125 0 \nL 7.328125 8.296875 \nQ 12.9375 14.109375 22.625 23.890625 \nQ 32.328125 33.6875 34.8125 36.53125 \nQ 39.546875 41.84375 41.421875 45.53125 \nQ 43.3125 49.21875 43.3125 52.78125 \nQ 43.3125 58.59375 39.234375 62.25 \nQ 35.15625 65.921875 28.609375 65.921875 \nQ 23.96875 65.921875 18.8125 64.3125 \nQ 13.671875 62.703125 7.8125 59.421875 \nL 7.8125 69.390625 \nQ 13.765625 71.78125 18.9375 73 \nQ 24.125 74.21875 28.421875 74.21875 \nQ 39.75 74.21875 46.484375 68.546875 \nQ 53.21875 62.890625 53.21875 53.421875 \nQ 53.21875 48.921875 51.53125 44.890625 \nQ 49.859375 40.875 45.40625 35.40625 \nQ 44.1875 33.984375 37.640625 27.21875 \nQ 31.109375 20.453125 19.1875 8.296875 \nz\n\" id=\"DejaVuSans-50\"/>\n       </defs>\n       <use xlink:href=\"#DejaVuSans-50\"/>\n      </g>\n     </g>\n    </g>\n    <g id=\"xtick_3\">\n     <g id=\"line2d_3\">\n      <g>\n       <use style=\"stroke:#000000;stroke-width:0.8;\" x=\"143.347443\" xlink:href=\"#me4d9c31a57\" y=\"239.758125\"/>\n      </g>\n     </g>\n     <g id=\"text_3\">\n      <!-- 4 -->\n      <g transform=\"translate(140.166193 254.356562)scale(0.1 -0.1)\">\n       <defs>\n        <path d=\"M 37.796875 64.3125 \nL 12.890625 25.390625 \nL 37.796875 25.390625 \nz\nM 35.203125 72.90625 \nL 47.609375 72.90625 \nL 47.609375 25.390625 \nL 58.015625 25.390625 \nL 58.015625 17.1875 \nL 47.609375 17.1875 \nL 47.609375 0 \nL 37.796875 0 \nL 37.796875 17.1875 \nL 4.890625 17.1875 \nL 4.890625 26.703125 \nz\n\" id=\"DejaVuSans-52\"/>\n       </defs>\n       <use xlink:href=\"#DejaVuSans-52\"/>\n      </g>\n     </g>\n    </g>\n    <g id=\"xtick_4\">\n     <g id=\"line2d_4\">\n      <g>\n       <use style=\"stroke:#000000;stroke-width:0.8;\" x=\"183.929261\" xlink:href=\"#me4d9c31a57\" y=\"239.758125\"/>\n      </g>\n     </g>\n     <g id=\"text_4\">\n      <!-- 6 -->\n      <g transform=\"translate(180.748011 254.356562)scale(0.1 -0.1)\">\n       <defs>\n        <path d=\"M 33.015625 40.375 \nQ 26.375 40.375 22.484375 35.828125 \nQ 18.609375 31.296875 18.609375 23.390625 \nQ 18.609375 15.53125 22.484375 10.953125 \nQ 26.375 6.390625 33.015625 6.390625 \nQ 39.65625 6.390625 43.53125 10.953125 \nQ 47.40625 15.53125 47.40625 23.390625 \nQ 47.40625 31.296875 43.53125 35.828125 \nQ 39.65625 40.375 33.015625 40.375 \nz\nM 52.59375 71.296875 \nL 52.59375 62.3125 \nQ 48.875 64.0625 45.09375 64.984375 \nQ 41.3125 65.921875 37.59375 65.921875 \nQ 27.828125 65.921875 22.671875 59.328125 \nQ 17.53125 52.734375 16.796875 39.40625 \nQ 19.671875 43.65625 24.015625 45.921875 \nQ 28.375 48.1875 33.59375 48.1875 \nQ 44.578125 48.1875 50.953125 41.515625 \nQ 57.328125 34.859375 57.328125 23.390625 \nQ 57.328125 12.15625 50.6875 5.359375 \nQ 44.046875 -1.421875 33.015625 -1.421875 \nQ 20.359375 -1.421875 13.671875 8.265625 \nQ 6.984375 17.96875 6.984375 36.375 \nQ 6.984375 53.65625 15.1875 63.9375 \nQ 23.390625 74.21875 37.203125 74.21875 \nQ 40.921875 74.21875 44.703125 73.484375 \nQ 48.484375 72.75 52.59375 71.296875 \nz\n\" id=\"DejaVuSans-54\"/>\n       </defs>\n       <use xlink:href=\"#DejaVuSans-54\"/>\n      </g>\n     </g>\n    </g>\n    <g id=\"xtick_5\">\n     <g id=\"line2d_5\">\n      <g>\n       <use style=\"stroke:#000000;stroke-width:0.8;\" x=\"224.51108\" xlink:href=\"#me4d9c31a57\" y=\"239.758125\"/>\n      </g>\n     </g>\n     <g id=\"text_5\">\n      <!-- 8 -->\n      <g transform=\"translate(221.32983 254.356562)scale(0.1 -0.1)\">\n       <defs>\n        <path d=\"M 31.78125 34.625 \nQ 24.75 34.625 20.71875 30.859375 \nQ 16.703125 27.09375 16.703125 20.515625 \nQ 16.703125 13.921875 20.71875 10.15625 \nQ 24.75 6.390625 31.78125 6.390625 \nQ 38.8125 6.390625 42.859375 10.171875 \nQ 46.921875 13.96875 46.921875 20.515625 \nQ 46.921875 27.09375 42.890625 30.859375 \nQ 38.875 34.625 31.78125 34.625 \nz\nM 21.921875 38.8125 \nQ 15.578125 40.375 12.03125 44.71875 \nQ 8.5 49.078125 8.5 55.328125 \nQ 8.5 64.0625 14.71875 69.140625 \nQ 20.953125 74.21875 31.78125 74.21875 \nQ 42.671875 74.21875 48.875 69.140625 \nQ 55.078125 64.0625 55.078125 55.328125 \nQ 55.078125 49.078125 51.53125 44.71875 \nQ 48 40.375 41.703125 38.8125 \nQ 48.828125 37.15625 52.796875 32.3125 \nQ 56.78125 27.484375 56.78125 20.515625 \nQ 56.78125 9.90625 50.3125 4.234375 \nQ 43.84375 -1.421875 31.78125 -1.421875 \nQ 19.734375 -1.421875 13.25 4.234375 \nQ 6.78125 9.90625 6.78125 20.515625 \nQ 6.78125 27.484375 10.78125 32.3125 \nQ 14.796875 37.15625 21.921875 38.8125 \nz\nM 18.3125 54.390625 \nQ 18.3125 48.734375 21.84375 45.5625 \nQ 25.390625 42.390625 31.78125 42.390625 \nQ 38.140625 42.390625 41.71875 45.5625 \nQ 45.3125 48.734375 45.3125 54.390625 \nQ 45.3125 60.0625 41.71875 63.234375 \nQ 38.140625 66.40625 31.78125 66.40625 \nQ 25.390625 66.40625 21.84375 63.234375 \nQ 18.3125 60.0625 18.3125 54.390625 \nz\n\" id=\"DejaVuSans-56\"/>\n       </defs>\n       <use xlink:href=\"#DejaVuSans-56\"/>\n      </g>\n     </g>\n    </g>\n    <g id=\"xtick_6\">\n     <g id=\"line2d_6\">\n      <g>\n       <use style=\"stroke:#000000;stroke-width:0.8;\" x=\"265.092898\" xlink:href=\"#me4d9c31a57\" y=\"239.758125\"/>\n      </g>\n     </g>\n     <g id=\"text_6\">\n      <!-- 10 -->\n      <g transform=\"translate(258.730398 254.356562)scale(0.1 -0.1)\">\n       <defs>\n        <path d=\"M 12.40625 8.296875 \nL 28.515625 8.296875 \nL 28.515625 63.921875 \nL 10.984375 60.40625 \nL 10.984375 69.390625 \nL 28.421875 72.90625 \nL 38.28125 72.90625 \nL 38.28125 8.296875 \nL 54.390625 8.296875 \nL 54.390625 0 \nL 12.40625 0 \nz\n\" id=\"DejaVuSans-49\"/>\n       </defs>\n       <use xlink:href=\"#DejaVuSans-49\"/>\n       <use x=\"63.623047\" xlink:href=\"#DejaVuSans-48\"/>\n      </g>\n     </g>\n    </g>\n    <g id=\"xtick_7\">\n     <g id=\"line2d_7\">\n      <g>\n       <use style=\"stroke:#000000;stroke-width:0.8;\" x=\"305.674716\" xlink:href=\"#me4d9c31a57\" y=\"239.758125\"/>\n      </g>\n     </g>\n     <g id=\"text_7\">\n      <!-- 12 -->\n      <g transform=\"translate(299.312216 254.356562)scale(0.1 -0.1)\">\n       <use xlink:href=\"#DejaVuSans-49\"/>\n       <use x=\"63.623047\" xlink:href=\"#DejaVuSans-50\"/>\n      </g>\n     </g>\n    </g>\n    <g id=\"xtick_8\">\n     <g id=\"line2d_8\">\n      <g>\n       <use style=\"stroke:#000000;stroke-width:0.8;\" x=\"346.256534\" xlink:href=\"#me4d9c31a57\" y=\"239.758125\"/>\n      </g>\n     </g>\n     <g id=\"text_8\">\n      <!-- 14 -->\n      <g transform=\"translate(339.894034 254.356562)scale(0.1 -0.1)\">\n       <use xlink:href=\"#DejaVuSans-49\"/>\n       <use x=\"63.623047\" xlink:href=\"#DejaVuSans-52\"/>\n      </g>\n     </g>\n    </g>\n    <g id=\"text_9\">\n     <!-- Time -->\n     <g transform=\"translate(202.132031 268.034687)scale(0.1 -0.1)\">\n      <defs>\n       <path d=\"M -0.296875 72.90625 \nL 61.375 72.90625 \nL 61.375 64.59375 \nL 35.5 64.59375 \nL 35.5 0 \nL 25.59375 0 \nL 25.59375 64.59375 \nL -0.296875 64.59375 \nz\n\" id=\"DejaVuSans-84\"/>\n       <path d=\"M 9.421875 54.6875 \nL 18.40625 54.6875 \nL 18.40625 0 \nL 9.421875 0 \nz\nM 9.421875 75.984375 \nL 18.40625 75.984375 \nL 18.40625 64.59375 \nL 9.421875 64.59375 \nz\n\" id=\"DejaVuSans-105\"/>\n       <path d=\"M 52 44.1875 \nQ 55.375 50.25 60.0625 53.125 \nQ 64.75 56 71.09375 56 \nQ 79.640625 56 84.28125 50.015625 \nQ 88.921875 44.046875 88.921875 33.015625 \nL 88.921875 0 \nL 79.890625 0 \nL 79.890625 32.71875 \nQ 79.890625 40.578125 77.09375 44.375 \nQ 74.3125 48.1875 68.609375 48.1875 \nQ 61.625 48.1875 57.5625 43.546875 \nQ 53.515625 38.921875 53.515625 30.90625 \nL 53.515625 0 \nL 44.484375 0 \nL 44.484375 32.71875 \nQ 44.484375 40.625 41.703125 44.40625 \nQ 38.921875 48.1875 33.109375 48.1875 \nQ 26.21875 48.1875 22.15625 43.53125 \nQ 18.109375 38.875 18.109375 30.90625 \nL 18.109375 0 \nL 9.078125 0 \nL 9.078125 54.6875 \nL 18.109375 54.6875 \nL 18.109375 46.1875 \nQ 21.1875 51.21875 25.484375 53.609375 \nQ 29.78125 56 35.6875 56 \nQ 41.65625 56 45.828125 52.96875 \nQ 50 49.953125 52 44.1875 \nz\n\" id=\"DejaVuSans-109\"/>\n       <path d=\"M 56.203125 29.59375 \nL 56.203125 25.203125 \nL 14.890625 25.203125 \nQ 15.484375 15.921875 20.484375 11.0625 \nQ 25.484375 6.203125 34.421875 6.203125 \nQ 39.59375 6.203125 44.453125 7.46875 \nQ 49.3125 8.734375 54.109375 11.28125 \nL 54.109375 2.78125 \nQ 49.265625 0.734375 44.1875 -0.34375 \nQ 39.109375 -1.421875 33.890625 -1.421875 \nQ 20.796875 -1.421875 13.15625 6.1875 \nQ 5.515625 13.8125 5.515625 26.8125 \nQ 5.515625 40.234375 12.765625 48.109375 \nQ 20.015625 56 32.328125 56 \nQ 43.359375 56 49.78125 48.890625 \nQ 56.203125 41.796875 56.203125 29.59375 \nz\nM 47.21875 32.234375 \nQ 47.125 39.59375 43.09375 43.984375 \nQ 39.0625 48.390625 32.421875 48.390625 \nQ 24.90625 48.390625 20.390625 44.140625 \nQ 15.875 39.890625 15.1875 32.171875 \nz\n\" id=\"DejaVuSans-101\"/>\n      </defs>\n      <use xlink:href=\"#DejaVuSans-84\"/>\n      <use x=\"57.958984\" xlink:href=\"#DejaVuSans-105\"/>\n      <use x=\"85.742188\" xlink:href=\"#DejaVuSans-109\"/>\n      <use x=\"183.154297\" xlink:href=\"#DejaVuSans-101\"/>\n     </g>\n    </g>\n   </g>\n   <g id=\"matplotlib.axis_2\">\n    <g id=\"ytick_1\">\n     <g id=\"line2d_9\">\n      <defs>\n       <path d=\"M 0 0 \nL -3.5 0 \n\" id=\"mfc8a00289e\" style=\"stroke:#000000;stroke-width:0.8;\"/>\n      </defs>\n      <g>\n       <use style=\"stroke:#000000;stroke-width:0.8;\" x=\"46.965625\" xlink:href=\"#mfc8a00289e\" y=\"230.126282\"/>\n      </g>\n     </g>\n     <g id=\"text_10\">\n      <!-- 120 -->\n      <g transform=\"translate(20.878125 233.925501)scale(0.1 -0.1)\">\n       <use xlink:href=\"#DejaVuSans-49\"/>\n       <use x=\"63.623047\" xlink:href=\"#DejaVuSans-50\"/>\n       <use x=\"127.246094\" xlink:href=\"#DejaVuSans-48\"/>\n      </g>\n     </g>\n    </g>\n    <g id=\"ytick_2\">\n     <g id=\"line2d_10\">\n      <g>\n       <use style=\"stroke:#000000;stroke-width:0.8;\" x=\"46.965625\" xlink:href=\"#mfc8a00289e\" y=\"196.494248\"/>\n      </g>\n     </g>\n     <g id=\"text_11\">\n      <!-- 140 -->\n      <g transform=\"translate(20.878125 200.293467)scale(0.1 -0.1)\">\n       <use xlink:href=\"#DejaVuSans-49\"/>\n       <use x=\"63.623047\" xlink:href=\"#DejaVuSans-52\"/>\n       <use x=\"127.246094\" xlink:href=\"#DejaVuSans-48\"/>\n      </g>\n     </g>\n    </g>\n    <g id=\"ytick_3\">\n     <g id=\"line2d_11\">\n      <g>\n       <use style=\"stroke:#000000;stroke-width:0.8;\" x=\"46.965625\" xlink:href=\"#mfc8a00289e\" y=\"162.862214\"/>\n      </g>\n     </g>\n     <g id=\"text_12\">\n      <!-- 160 -->\n      <g transform=\"translate(20.878125 166.661433)scale(0.1 -0.1)\">\n       <use xlink:href=\"#DejaVuSans-49\"/>\n       <use x=\"63.623047\" xlink:href=\"#DejaVuSans-54\"/>\n       <use x=\"127.246094\" xlink:href=\"#DejaVuSans-48\"/>\n      </g>\n     </g>\n    </g>\n    <g id=\"ytick_4\">\n     <g id=\"line2d_12\">\n      <g>\n       <use style=\"stroke:#000000;stroke-width:0.8;\" x=\"46.965625\" xlink:href=\"#mfc8a00289e\" y=\"129.23018\"/>\n      </g>\n     </g>\n     <g id=\"text_13\">\n      <!-- 180 -->\n      <g transform=\"translate(20.878125 133.029399)scale(0.1 -0.1)\">\n       <use xlink:href=\"#DejaVuSans-49\"/>\n       <use x=\"63.623047\" xlink:href=\"#DejaVuSans-56\"/>\n       <use x=\"127.246094\" xlink:href=\"#DejaVuSans-48\"/>\n      </g>\n     </g>\n    </g>\n    <g id=\"ytick_5\">\n     <g id=\"line2d_13\">\n      <g>\n       <use style=\"stroke:#000000;stroke-width:0.8;\" x=\"46.965625\" xlink:href=\"#mfc8a00289e\" y=\"95.598146\"/>\n      </g>\n     </g>\n     <g id=\"text_14\">\n      <!-- 200 -->\n      <g transform=\"translate(20.878125 99.397365)scale(0.1 -0.1)\">\n       <use xlink:href=\"#DejaVuSans-50\"/>\n       <use x=\"63.623047\" xlink:href=\"#DejaVuSans-48\"/>\n       <use x=\"127.246094\" xlink:href=\"#DejaVuSans-48\"/>\n      </g>\n     </g>\n    </g>\n    <g id=\"ytick_6\">\n     <g id=\"line2d_14\">\n      <g>\n       <use style=\"stroke:#000000;stroke-width:0.8;\" x=\"46.965625\" xlink:href=\"#mfc8a00289e\" y=\"61.966112\"/>\n      </g>\n     </g>\n     <g id=\"text_15\">\n      <!-- 220 -->\n      <g transform=\"translate(20.878125 65.76533)scale(0.1 -0.1)\">\n       <use xlink:href=\"#DejaVuSans-50\"/>\n       <use x=\"63.623047\" xlink:href=\"#DejaVuSans-50\"/>\n       <use x=\"127.246094\" xlink:href=\"#DejaVuSans-48\"/>\n      </g>\n     </g>\n    </g>\n    <g id=\"ytick_7\">\n     <g id=\"line2d_15\">\n      <g>\n       <use style=\"stroke:#000000;stroke-width:0.8;\" x=\"46.965625\" xlink:href=\"#mfc8a00289e\" y=\"28.334077\"/>\n      </g>\n     </g>\n     <g id=\"text_16\">\n      <!-- 240 -->\n      <g transform=\"translate(20.878125 32.133296)scale(0.1 -0.1)\">\n       <use xlink:href=\"#DejaVuSans-50\"/>\n       <use x=\"63.623047\" xlink:href=\"#DejaVuSans-52\"/>\n       <use x=\"127.246094\" xlink:href=\"#DejaVuSans-48\"/>\n      </g>\n     </g>\n    </g>\n    <g id=\"text_17\">\n     <!-- TATA Stock Price -->\n     <g transform=\"translate(14.798438 172.038125)rotate(-90)scale(0.1 -0.1)\">\n      <defs>\n       <path d=\"M 34.1875 63.1875 \nL 20.796875 26.90625 \nL 47.609375 26.90625 \nz\nM 28.609375 72.90625 \nL 39.796875 72.90625 \nL 67.578125 0 \nL 57.328125 0 \nL 50.6875 18.703125 \nL 17.828125 18.703125 \nL 11.1875 0 \nL 0.78125 0 \nz\n\" id=\"DejaVuSans-65\"/>\n       <path id=\"DejaVuSans-32\"/>\n       <path d=\"M 53.515625 70.515625 \nL 53.515625 60.890625 \nQ 47.90625 63.578125 42.921875 64.890625 \nQ 37.9375 66.21875 33.296875 66.21875 \nQ 25.25 66.21875 20.875 63.09375 \nQ 16.5 59.96875 16.5 54.203125 \nQ 16.5 49.359375 19.40625 46.890625 \nQ 22.3125 44.4375 30.421875 42.921875 \nL 36.375 41.703125 \nQ 47.40625 39.59375 52.65625 34.296875 \nQ 57.90625 29 57.90625 20.125 \nQ 57.90625 9.515625 50.796875 4.046875 \nQ 43.703125 -1.421875 29.984375 -1.421875 \nQ 24.8125 -1.421875 18.96875 -0.25 \nQ 13.140625 0.921875 6.890625 3.21875 \nL 6.890625 13.375 \nQ 12.890625 10.015625 18.65625 8.296875 \nQ 24.421875 6.59375 29.984375 6.59375 \nQ 38.421875 6.59375 43.015625 9.90625 \nQ 47.609375 13.234375 47.609375 19.390625 \nQ 47.609375 24.75 44.3125 27.78125 \nQ 41.015625 30.8125 33.5 32.328125 \nL 27.484375 33.5 \nQ 16.453125 35.6875 11.515625 40.375 \nQ 6.59375 45.0625 6.59375 53.421875 \nQ 6.59375 63.09375 13.40625 68.65625 \nQ 20.21875 74.21875 32.171875 74.21875 \nQ 37.3125 74.21875 42.625 73.28125 \nQ 47.953125 72.359375 53.515625 70.515625 \nz\n\" id=\"DejaVuSans-83\"/>\n       <path d=\"M 18.3125 70.21875 \nL 18.3125 54.6875 \nL 36.8125 54.6875 \nL 36.8125 47.703125 \nL 18.3125 47.703125 \nL 18.3125 18.015625 \nQ 18.3125 11.328125 20.140625 9.421875 \nQ 21.96875 7.515625 27.59375 7.515625 \nL 36.8125 7.515625 \nL 36.8125 0 \nL 27.59375 0 \nQ 17.1875 0 13.234375 3.875 \nQ 9.28125 7.765625 9.28125 18.015625 \nL 9.28125 47.703125 \nL 2.6875 47.703125 \nL 2.6875 54.6875 \nL 9.28125 54.6875 \nL 9.28125 70.21875 \nz\n\" id=\"DejaVuSans-116\"/>\n       <path d=\"M 30.609375 48.390625 \nQ 23.390625 48.390625 19.1875 42.75 \nQ 14.984375 37.109375 14.984375 27.296875 \nQ 14.984375 17.484375 19.15625 11.84375 \nQ 23.34375 6.203125 30.609375 6.203125 \nQ 37.796875 6.203125 41.984375 11.859375 \nQ 46.1875 17.53125 46.1875 27.296875 \nQ 46.1875 37.015625 41.984375 42.703125 \nQ 37.796875 48.390625 30.609375 48.390625 \nz\nM 30.609375 56 \nQ 42.328125 56 49.015625 48.375 \nQ 55.71875 40.765625 55.71875 27.296875 \nQ 55.71875 13.875 49.015625 6.21875 \nQ 42.328125 -1.421875 30.609375 -1.421875 \nQ 18.84375 -1.421875 12.171875 6.21875 \nQ 5.515625 13.875 5.515625 27.296875 \nQ 5.515625 40.765625 12.171875 48.375 \nQ 18.84375 56 30.609375 56 \nz\n\" id=\"DejaVuSans-111\"/>\n       <path d=\"M 48.78125 52.59375 \nL 48.78125 44.1875 \nQ 44.96875 46.296875 41.140625 47.34375 \nQ 37.3125 48.390625 33.40625 48.390625 \nQ 24.65625 48.390625 19.8125 42.84375 \nQ 14.984375 37.3125 14.984375 27.296875 \nQ 14.984375 17.28125 19.8125 11.734375 \nQ 24.65625 6.203125 33.40625 6.203125 \nQ 37.3125 6.203125 41.140625 7.25 \nQ 44.96875 8.296875 48.78125 10.40625 \nL 48.78125 2.09375 \nQ 45.015625 0.34375 40.984375 -0.53125 \nQ 36.96875 -1.421875 32.421875 -1.421875 \nQ 20.0625 -1.421875 12.78125 6.34375 \nQ 5.515625 14.109375 5.515625 27.296875 \nQ 5.515625 40.671875 12.859375 48.328125 \nQ 20.21875 56 33.015625 56 \nQ 37.15625 56 41.109375 55.140625 \nQ 45.0625 54.296875 48.78125 52.59375 \nz\n\" id=\"DejaVuSans-99\"/>\n       <path d=\"M 9.078125 75.984375 \nL 18.109375 75.984375 \nL 18.109375 31.109375 \nL 44.921875 54.6875 \nL 56.390625 54.6875 \nL 27.390625 29.109375 \nL 57.625 0 \nL 45.90625 0 \nL 18.109375 26.703125 \nL 18.109375 0 \nL 9.078125 0 \nz\n\" id=\"DejaVuSans-107\"/>\n       <path d=\"M 19.671875 64.796875 \nL 19.671875 37.40625 \nL 32.078125 37.40625 \nQ 38.96875 37.40625 42.71875 40.96875 \nQ 46.484375 44.53125 46.484375 51.125 \nQ 46.484375 57.671875 42.71875 61.234375 \nQ 38.96875 64.796875 32.078125 64.796875 \nz\nM 9.8125 72.90625 \nL 32.078125 72.90625 \nQ 44.34375 72.90625 50.609375 67.359375 \nQ 56.890625 61.8125 56.890625 51.125 \nQ 56.890625 40.328125 50.609375 34.8125 \nQ 44.34375 29.296875 32.078125 29.296875 \nL 19.671875 29.296875 \nL 19.671875 0 \nL 9.8125 0 \nz\n\" id=\"DejaVuSans-80\"/>\n       <path d=\"M 41.109375 46.296875 \nQ 39.59375 47.171875 37.8125 47.578125 \nQ 36.03125 48 33.890625 48 \nQ 26.265625 48 22.1875 43.046875 \nQ 18.109375 38.09375 18.109375 28.8125 \nL 18.109375 0 \nL 9.078125 0 \nL 9.078125 54.6875 \nL 18.109375 54.6875 \nL 18.109375 46.1875 \nQ 20.953125 51.171875 25.484375 53.578125 \nQ 30.03125 56 36.53125 56 \nQ 37.453125 56 38.578125 55.875 \nQ 39.703125 55.765625 41.0625 55.515625 \nz\n\" id=\"DejaVuSans-114\"/>\n      </defs>\n      <use xlink:href=\"#DejaVuSans-84\"/>\n      <use x=\"53.333984\" xlink:href=\"#DejaVuSans-65\"/>\n      <use x=\"113.992188\" xlink:href=\"#DejaVuSans-84\"/>\n      <use x=\"167.326172\" xlink:href=\"#DejaVuSans-65\"/>\n      <use x=\"235.734375\" xlink:href=\"#DejaVuSans-32\"/>\n      <use x=\"267.521484\" xlink:href=\"#DejaVuSans-83\"/>\n      <use x=\"330.998047\" xlink:href=\"#DejaVuSans-116\"/>\n      <use x=\"370.207031\" xlink:href=\"#DejaVuSans-111\"/>\n      <use x=\"431.388672\" xlink:href=\"#DejaVuSans-99\"/>\n      <use x=\"486.369141\" xlink:href=\"#DejaVuSans-107\"/>\n      <use x=\"544.279297\" xlink:href=\"#DejaVuSans-32\"/>\n      <use x=\"576.066406\" xlink:href=\"#DejaVuSans-80\"/>\n      <use x=\"634.619141\" xlink:href=\"#DejaVuSans-114\"/>\n      <use x=\"675.732422\" xlink:href=\"#DejaVuSans-105\"/>\n      <use x=\"703.515625\" xlink:href=\"#DejaVuSans-99\"/>\n      <use x=\"758.496094\" xlink:href=\"#DejaVuSans-101\"/>\n     </g>\n    </g>\n   </g>\n   <g id=\"line2d_16\">\n    <path clip-path=\"url(#p201243f2aa)\" d=\"M 62.183807 61.797951 \nL 82.474716 60.11635 \nL 102.765625 46.074975 \nL 123.056534 44.645614 \nL 143.347443 32.201761 \nL 163.638352 33.210722 \nL 183.929261 45.654575 \nL 204.22017 51.456101 \nL 224.51108 70.37412 \nL 244.801989 70.37412 \nL 265.092898 69.533319 \nL 285.383807 82.145332 \nL 305.674716 67.010917 \nL 325.965625 56.080506 \nL 346.256534 45.150095 \nL 366.547443 37.498807 \n\" style=\"fill:none;stroke:#000000;stroke-linecap:square;stroke-width:1.5;\"/>\n   </g>\n   <g id=\"line2d_17\">\n    <path clip-path=\"url(#p201243f2aa)\" d=\"M 62.183807 229.874489 \nL 82.474716 125.409935 \nL 102.765625 56.375099 \nL 123.056534 47.869714 \nL 143.347443 53.729019 \nL 163.638352 43.995276 \nL 183.929261 33.945874 \nL 204.22017 39.353937 \nL 224.51108 48.587145 \nL 244.801989 62.582779 \nL 265.092898 68.896971 \nL 285.383807 68.559629 \nL 305.674716 75.554278 \nL 325.965625 72.458212 \nL 346.256534 61.303617 \nL 366.547443 49.837133 \n\" style=\"fill:none;stroke:#008000;stroke-linecap:square;stroke-width:1.5;\"/>\n   </g>\n   <g id=\"patch_3\">\n    <path d=\"M 46.965625 239.758125 \nL 46.965625 22.318125 \n\" style=\"fill:none;stroke:#000000;stroke-linecap:square;stroke-linejoin:miter;stroke-width:0.8;\"/>\n   </g>\n   <g id=\"patch_4\">\n    <path d=\"M 381.765625 239.758125 \nL 381.765625 22.318125 \n\" style=\"fill:none;stroke:#000000;stroke-linecap:square;stroke-linejoin:miter;stroke-width:0.8;\"/>\n   </g>\n   <g id=\"patch_5\">\n    <path d=\"M 46.965625 239.758125 \nL 381.765625 239.758125 \n\" style=\"fill:none;stroke:#000000;stroke-linecap:square;stroke-linejoin:miter;stroke-width:0.8;\"/>\n   </g>\n   <g id=\"patch_6\">\n    <path d=\"M 46.965625 22.318125 \nL 381.765625 22.318125 \n\" style=\"fill:none;stroke:#000000;stroke-linecap:square;stroke-linejoin:miter;stroke-width:0.8;\"/>\n   </g>\n   <g id=\"text_18\">\n    <!-- TATA Stock Price Prediction -->\n    <g transform=\"translate(133.454688 16.318125)scale(0.12 -0.12)\">\n     <defs>\n      <path d=\"M 45.40625 46.390625 \nL 45.40625 75.984375 \nL 54.390625 75.984375 \nL 54.390625 0 \nL 45.40625 0 \nL 45.40625 8.203125 \nQ 42.578125 3.328125 38.25 0.953125 \nQ 33.9375 -1.421875 27.875 -1.421875 \nQ 17.96875 -1.421875 11.734375 6.484375 \nQ 5.515625 14.40625 5.515625 27.296875 \nQ 5.515625 40.1875 11.734375 48.09375 \nQ 17.96875 56 27.875 56 \nQ 33.9375 56 38.25 53.625 \nQ 42.578125 51.265625 45.40625 46.390625 \nz\nM 14.796875 27.296875 \nQ 14.796875 17.390625 18.875 11.75 \nQ 22.953125 6.109375 30.078125 6.109375 \nQ 37.203125 6.109375 41.296875 11.75 \nQ 45.40625 17.390625 45.40625 27.296875 \nQ 45.40625 37.203125 41.296875 42.84375 \nQ 37.203125 48.484375 30.078125 48.484375 \nQ 22.953125 48.484375 18.875 42.84375 \nQ 14.796875 37.203125 14.796875 27.296875 \nz\n\" id=\"DejaVuSans-100\"/>\n      <path d=\"M 54.890625 33.015625 \nL 54.890625 0 \nL 45.90625 0 \nL 45.90625 32.71875 \nQ 45.90625 40.484375 42.875 44.328125 \nQ 39.84375 48.1875 33.796875 48.1875 \nQ 26.515625 48.1875 22.3125 43.546875 \nQ 18.109375 38.921875 18.109375 30.90625 \nL 18.109375 0 \nL 9.078125 0 \nL 9.078125 54.6875 \nL 18.109375 54.6875 \nL 18.109375 46.1875 \nQ 21.34375 51.125 25.703125 53.5625 \nQ 30.078125 56 35.796875 56 \nQ 45.21875 56 50.046875 50.171875 \nQ 54.890625 44.34375 54.890625 33.015625 \nz\n\" id=\"DejaVuSans-110\"/>\n     </defs>\n     <use xlink:href=\"#DejaVuSans-84\"/>\n     <use x=\"53.333984\" xlink:href=\"#DejaVuSans-65\"/>\n     <use x=\"113.992188\" xlink:href=\"#DejaVuSans-84\"/>\n     <use x=\"167.326172\" xlink:href=\"#DejaVuSans-65\"/>\n     <use x=\"235.734375\" xlink:href=\"#DejaVuSans-32\"/>\n     <use x=\"267.521484\" xlink:href=\"#DejaVuSans-83\"/>\n     <use x=\"330.998047\" xlink:href=\"#DejaVuSans-116\"/>\n     <use x=\"370.207031\" xlink:href=\"#DejaVuSans-111\"/>\n     <use x=\"431.388672\" xlink:href=\"#DejaVuSans-99\"/>\n     <use x=\"486.369141\" xlink:href=\"#DejaVuSans-107\"/>\n     <use x=\"544.279297\" xlink:href=\"#DejaVuSans-32\"/>\n     <use x=\"576.066406\" xlink:href=\"#DejaVuSans-80\"/>\n     <use x=\"634.619141\" xlink:href=\"#DejaVuSans-114\"/>\n     <use x=\"675.732422\" xlink:href=\"#DejaVuSans-105\"/>\n     <use x=\"703.515625\" xlink:href=\"#DejaVuSans-99\"/>\n     <use x=\"758.496094\" xlink:href=\"#DejaVuSans-101\"/>\n     <use x=\"820.019531\" xlink:href=\"#DejaVuSans-32\"/>\n     <use x=\"851.806641\" xlink:href=\"#DejaVuSans-80\"/>\n     <use x=\"910.359375\" xlink:href=\"#DejaVuSans-114\"/>\n     <use x=\"949.222656\" xlink:href=\"#DejaVuSans-101\"/>\n     <use x=\"1010.746094\" xlink:href=\"#DejaVuSans-100\"/>\n     <use x=\"1074.222656\" xlink:href=\"#DejaVuSans-105\"/>\n     <use x=\"1102.005859\" xlink:href=\"#DejaVuSans-99\"/>\n     <use x=\"1156.986328\" xlink:href=\"#DejaVuSans-116\"/>\n     <use x=\"1196.195312\" xlink:href=\"#DejaVuSans-105\"/>\n     <use x=\"1223.978516\" xlink:href=\"#DejaVuSans-111\"/>\n     <use x=\"1285.160156\" xlink:href=\"#DejaVuSans-110\"/>\n    </g>\n   </g>\n   <g id=\"legend_1\">\n    <g id=\"patch_7\">\n     <path d=\"M 210.646875 234.758125 \nL 374.765625 234.758125 \nQ 376.765625 234.758125 376.765625 232.758125 \nL 376.765625 204.401875 \nQ 376.765625 202.401875 374.765625 202.401875 \nL 210.646875 202.401875 \nQ 208.646875 202.401875 208.646875 204.401875 \nL 208.646875 232.758125 \nQ 208.646875 234.758125 210.646875 234.758125 \nz\n\" style=\"fill:#ffffff;opacity:0.8;stroke:#cccccc;stroke-linejoin:miter;\"/>\n    </g>\n    <g id=\"line2d_18\">\n     <path d=\"M 212.646875 210.500312 \nL 232.646875 210.500312 \n\" style=\"fill:none;stroke:#000000;stroke-linecap:square;stroke-width:1.5;\"/>\n    </g>\n    <g id=\"line2d_19\"/>\n    <g id=\"text_19\">\n     <!-- TATA Stock Price -->\n     <g transform=\"translate(240.646875 214.000312)scale(0.1 -0.1)\">\n      <use xlink:href=\"#DejaVuSans-84\"/>\n      <use x=\"53.333984\" xlink:href=\"#DejaVuSans-65\"/>\n      <use x=\"113.992188\" xlink:href=\"#DejaVuSans-84\"/>\n      <use x=\"167.326172\" xlink:href=\"#DejaVuSans-65\"/>\n      <use x=\"235.734375\" xlink:href=\"#DejaVuSans-32\"/>\n      <use x=\"267.521484\" xlink:href=\"#DejaVuSans-83\"/>\n      <use x=\"330.998047\" xlink:href=\"#DejaVuSans-116\"/>\n      <use x=\"370.207031\" xlink:href=\"#DejaVuSans-111\"/>\n      <use x=\"431.388672\" xlink:href=\"#DejaVuSans-99\"/>\n      <use x=\"486.369141\" xlink:href=\"#DejaVuSans-107\"/>\n      <use x=\"544.279297\" xlink:href=\"#DejaVuSans-32\"/>\n      <use x=\"576.066406\" xlink:href=\"#DejaVuSans-80\"/>\n      <use x=\"634.619141\" xlink:href=\"#DejaVuSans-114\"/>\n      <use x=\"675.732422\" xlink:href=\"#DejaVuSans-105\"/>\n      <use x=\"703.515625\" xlink:href=\"#DejaVuSans-99\"/>\n      <use x=\"758.496094\" xlink:href=\"#DejaVuSans-101\"/>\n     </g>\n    </g>\n    <g id=\"line2d_20\">\n     <path d=\"M 212.646875 225.178437 \nL 232.646875 225.178437 \n\" style=\"fill:none;stroke:#008000;stroke-linecap:square;stroke-width:1.5;\"/>\n    </g>\n    <g id=\"line2d_21\"/>\n    <g id=\"text_20\">\n     <!-- Predicted TATA Stock Price -->\n     <g transform=\"translate(240.646875 228.678437)scale(0.1 -0.1)\">\n      <use xlink:href=\"#DejaVuSans-80\"/>\n      <use x=\"58.552734\" xlink:href=\"#DejaVuSans-114\"/>\n      <use x=\"97.416016\" xlink:href=\"#DejaVuSans-101\"/>\n      <use x=\"158.939453\" xlink:href=\"#DejaVuSans-100\"/>\n      <use x=\"222.416016\" xlink:href=\"#DejaVuSans-105\"/>\n      <use x=\"250.199219\" xlink:href=\"#DejaVuSans-99\"/>\n      <use x=\"305.179688\" xlink:href=\"#DejaVuSans-116\"/>\n      <use x=\"344.388672\" xlink:href=\"#DejaVuSans-101\"/>\n      <use x=\"405.912109\" xlink:href=\"#DejaVuSans-100\"/>\n      <use x=\"469.388672\" xlink:href=\"#DejaVuSans-32\"/>\n      <use x=\"501.175781\" xlink:href=\"#DejaVuSans-84\"/>\n      <use x=\"554.509766\" xlink:href=\"#DejaVuSans-65\"/>\n      <use x=\"615.167969\" xlink:href=\"#DejaVuSans-84\"/>\n      <use x=\"668.501953\" xlink:href=\"#DejaVuSans-65\"/>\n      <use x=\"736.910156\" xlink:href=\"#DejaVuSans-32\"/>\n      <use x=\"768.697266\" xlink:href=\"#DejaVuSans-83\"/>\n      <use x=\"832.173828\" xlink:href=\"#DejaVuSans-116\"/>\n      <use x=\"871.382812\" xlink:href=\"#DejaVuSans-111\"/>\n      <use x=\"932.564453\" xlink:href=\"#DejaVuSans-99\"/>\n      <use x=\"987.544922\" xlink:href=\"#DejaVuSans-107\"/>\n      <use x=\"1045.455078\" xlink:href=\"#DejaVuSans-32\"/>\n      <use x=\"1077.242188\" xlink:href=\"#DejaVuSans-80\"/>\n      <use x=\"1135.794922\" xlink:href=\"#DejaVuSans-114\"/>\n      <use x=\"1176.908203\" xlink:href=\"#DejaVuSans-105\"/>\n      <use x=\"1204.691406\" xlink:href=\"#DejaVuSans-99\"/>\n      <use x=\"1259.671875\" xlink:href=\"#DejaVuSans-101\"/>\n     </g>\n    </g>\n   </g>\n  </g>\n </g>\n <defs>\n  <clipPath id=\"p201243f2aa\">\n   <rect height=\"217.44\" width=\"334.8\" x=\"46.965625\" y=\"22.318125\"/>\n  </clipPath>\n </defs>\n</svg>\n",
      "image/png": "[encoded data removed]"
     },
     "metadata": {
      "needs_background": "light"
     }
    }
   ],
   "source": [
    "plt.plot(real_stock_price, color = 'black', label = 'TATA Stock Price')\n",
    "plt.plot(predicted_stock_price, color = 'green', label = 'Predicted TATA Stock Price')\n",
    "plt.title('TATA Stock Price Prediction')\n",
    "plt.xlabel('Time')\n",
    "plt.ylabel('TATA Stock Price')\n",
    "plt.legend()\n",
    "plt.show()"
   ]
  },
  {
   "source": [
    "Depending on how many epoch it takes your graph may or not match\n"
   ],
   "cell_type": "markdown",
   "metadata": {}
  },
  {
   "cell_type": "code",
   "execution_count": null,
   "metadata": {},
   "outputs": [],
   "source": []
  }
 ]
}