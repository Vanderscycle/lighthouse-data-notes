{
 "metadata": {
  "language_info": {
   "codemirror_mode": {
    "name": "ipython",
    "version": 3
   },
   "file_extension": ".py",
   "mimetype": "text/x-python",
   "name": "python",
   "nbconvert_exporter": "python",
   "pygments_lexer": "ipython3",
   "version": "3.8.5-final"
  },
  "orig_nbformat": 2,
  "kernelspec": {
   "name": "python38564bitnnscrapercondaa354d8fb32614818906b42d96b0e4fbd",
   "display_name": "Python 3.8.5 64-bit ('NNScraper': conda)"
  }
 },
 "nbformat": 4,
 "nbformat_minor": 2,
 "cells": [
  {
   "source": [
    "[tutorial](https://pythondata.com/market-basket-analysis-with-python-and-pandas/)"
   ],
   "cell_type": "markdown",
   "metadata": {}
  },
  {
   "cell_type": "code",
   "execution_count": 15,
   "metadata": {},
   "outputs": [],
   "source": [
    "#pip install pandas mlxtend"
   ]
  },
  {
   "cell_type": "code",
   "execution_count": 16,
   "metadata": {},
   "outputs": [],
   "source": [
    "import pandas as pd\n",
    "\n",
    "from mlxtend.frequent_patterns import apriori\n",
    "from mlxtend.frequent_patterns import association_rules"
   ]
  },
  {
   "cell_type": "code",
   "execution_count": 17,
   "metadata": {},
   "outputs": [],
   "source": [
    "df = pd.read_excel('/home/henri/Documents/Lighthouse-lab/Databases/w9-weekend/Online Retail.xlsx')\n",
    "df.dropna(axis=0, subset=['InvoiceNo'], inplace=True)\n",
    "df['InvoiceNo'] = df['InvoiceNo'].astype('str')"
   ]
  },
  {
   "cell_type": "code",
   "execution_count": 21,
   "metadata": {},
   "outputs": [
    {
     "output_type": "execute_result",
     "data": {
      "text/plain": [
       "  InvoiceNo StockCode                          Description  Quantity  \\\n",
       "0    536365    85123A   WHITE HANGING HEART T-LIGHT HOLDER         6   \n",
       "1    536365     71053                  WHITE METAL LANTERN         6   \n",
       "2    536365    84406B       CREAM CUPID HEARTS COAT HANGER         8   \n",
       "3    536365    84029G  KNITTED UNION FLAG HOT WATER BOTTLE         6   \n",
       "4    536365    84029E       RED WOOLLY HOTTIE WHITE HEART.         6   \n",
       "\n",
       "          InvoiceDate  UnitPrice  CustomerID         Country  \n",
       "0 2010-12-01 08:26:00       2.55     17850.0  United Kingdom  \n",
       "1 2010-12-01 08:26:00       3.39     17850.0  United Kingdom  \n",
       "2 2010-12-01 08:26:00       2.75     17850.0  United Kingdom  \n",
       "3 2010-12-01 08:26:00       3.39     17850.0  United Kingdom  \n",
       "4 2010-12-01 08:26:00       3.39     17850.0  United Kingdom  "
      ],
      "text/html": "<div>\n<style scoped>\n    .dataframe tbody tr th:only-of-type {\n        vertical-align: middle;\n    }\n\n    .dataframe tbody tr th {\n        vertical-align: top;\n    }\n\n    .dataframe thead th {\n        text-align: right;\n    }\n</style>\n<table border=\"1\" class=\"dataframe\">\n  <thead>\n    <tr style=\"text-align: right;\">\n      <th></th>\n      <th>InvoiceNo</th>\n      <th>StockCode</th>\n      <th>Description</th>\n      <th>Quantity</th>\n      <th>InvoiceDate</th>\n      <th>UnitPrice</th>\n      <th>CustomerID</th>\n      <th>Country</th>\n    </tr>\n  </thead>\n  <tbody>\n    <tr>\n      <th>0</th>\n      <td>536365</td>\n      <td>85123A</td>\n      <td>WHITE HANGING HEART T-LIGHT HOLDER</td>\n      <td>6</td>\n      <td>2010-12-01 08:26:00</td>\n      <td>2.55</td>\n      <td>17850.0</td>\n      <td>United Kingdom</td>\n    </tr>\n    <tr>\n      <th>1</th>\n      <td>536365</td>\n      <td>71053</td>\n      <td>WHITE METAL LANTERN</td>\n      <td>6</td>\n      <td>2010-12-01 08:26:00</td>\n      <td>3.39</td>\n      <td>17850.0</td>\n      <td>United Kingdom</td>\n    </tr>\n    <tr>\n      <th>2</th>\n      <td>536365</td>\n      <td>84406B</td>\n      <td>CREAM CUPID HEARTS COAT HANGER</td>\n      <td>8</td>\n      <td>2010-12-01 08:26:00</td>\n      <td>2.75</td>\n      <td>17850.0</td>\n      <td>United Kingdom</td>\n    </tr>\n    <tr>\n      <th>3</th>\n      <td>536365</td>\n      <td>84029G</td>\n      <td>KNITTED UNION FLAG HOT WATER BOTTLE</td>\n      <td>6</td>\n      <td>2010-12-01 08:26:00</td>\n      <td>3.39</td>\n      <td>17850.0</td>\n      <td>United Kingdom</td>\n    </tr>\n    <tr>\n      <th>4</th>\n      <td>536365</td>\n      <td>84029E</td>\n      <td>RED WOOLLY HOTTIE WHITE HEART.</td>\n      <td>6</td>\n      <td>2010-12-01 08:26:00</td>\n      <td>3.39</td>\n      <td>17850.0</td>\n      <td>United Kingdom</td>\n    </tr>\n  </tbody>\n</table>\n</div>"
     },
     "metadata": {},
     "execution_count": 21
    }
   ],
   "source": [
    "df.head()"
   ]
  },
  {
   "source": [
    "In this data, there are some invoices that are ‘credits’ instead of ‘debits’ so we want to remove those. They are indentified with “C” in the InvoiceNo field. We can see an example of these types of invoices with the following:"
   ],
   "cell_type": "markdown",
   "metadata": {}
  },
  {
   "cell_type": "code",
   "execution_count": 22,
   "metadata": {},
   "outputs": [
    {
     "output_type": "execute_result",
     "data": {
      "text/plain": [
       "    InvoiceNo StockCode                       Description  Quantity  \\\n",
       "141   C536379         D                          Discount        -1   \n",
       "154   C536383    35004C   SET OF 3 COLOURED  FLYING DUCKS        -1   \n",
       "235   C536391     22556    PLASTERS IN TIN CIRCUS PARADE        -12   \n",
       "236   C536391     21984  PACK OF 12 PINK PAISLEY TISSUES        -24   \n",
       "237   C536391     21983  PACK OF 12 BLUE PAISLEY TISSUES        -24   \n",
       "\n",
       "            InvoiceDate  UnitPrice  CustomerID         Country  \n",
       "141 2010-12-01 09:41:00      27.50     14527.0  United Kingdom  \n",
       "154 2010-12-01 09:49:00       4.65     15311.0  United Kingdom  \n",
       "235 2010-12-01 10:24:00       1.65     17548.0  United Kingdom  \n",
       "236 2010-12-01 10:24:00       0.29     17548.0  United Kingdom  \n",
       "237 2010-12-01 10:24:00       0.29     17548.0  United Kingdom  "
      ],
      "text/html": "<div>\n<style scoped>\n    .dataframe tbody tr th:only-of-type {\n        vertical-align: middle;\n    }\n\n    .dataframe tbody tr th {\n        vertical-align: top;\n    }\n\n    .dataframe thead th {\n        text-align: right;\n    }\n</style>\n<table border=\"1\" class=\"dataframe\">\n  <thead>\n    <tr style=\"text-align: right;\">\n      <th></th>\n      <th>InvoiceNo</th>\n      <th>StockCode</th>\n      <th>Description</th>\n      <th>Quantity</th>\n      <th>InvoiceDate</th>\n      <th>UnitPrice</th>\n      <th>CustomerID</th>\n      <th>Country</th>\n    </tr>\n  </thead>\n  <tbody>\n    <tr>\n      <th>141</th>\n      <td>C536379</td>\n      <td>D</td>\n      <td>Discount</td>\n      <td>-1</td>\n      <td>2010-12-01 09:41:00</td>\n      <td>27.50</td>\n      <td>14527.0</td>\n      <td>United Kingdom</td>\n    </tr>\n    <tr>\n      <th>154</th>\n      <td>C536383</td>\n      <td>35004C</td>\n      <td>SET OF 3 COLOURED  FLYING DUCKS</td>\n      <td>-1</td>\n      <td>2010-12-01 09:49:00</td>\n      <td>4.65</td>\n      <td>15311.0</td>\n      <td>United Kingdom</td>\n    </tr>\n    <tr>\n      <th>235</th>\n      <td>C536391</td>\n      <td>22556</td>\n      <td>PLASTERS IN TIN CIRCUS PARADE</td>\n      <td>-12</td>\n      <td>2010-12-01 10:24:00</td>\n      <td>1.65</td>\n      <td>17548.0</td>\n      <td>United Kingdom</td>\n    </tr>\n    <tr>\n      <th>236</th>\n      <td>C536391</td>\n      <td>21984</td>\n      <td>PACK OF 12 PINK PAISLEY TISSUES</td>\n      <td>-24</td>\n      <td>2010-12-01 10:24:00</td>\n      <td>0.29</td>\n      <td>17548.0</td>\n      <td>United Kingdom</td>\n    </tr>\n    <tr>\n      <th>237</th>\n      <td>C536391</td>\n      <td>21983</td>\n      <td>PACK OF 12 BLUE PAISLEY TISSUES</td>\n      <td>-24</td>\n      <td>2010-12-01 10:24:00</td>\n      <td>0.29</td>\n      <td>17548.0</td>\n      <td>United Kingdom</td>\n    </tr>\n  </tbody>\n</table>\n</div>"
     },
     "metadata": {},
     "execution_count": 22
    }
   ],
   "source": [
    "df[df.InvoiceNo.str.contains('C', na=False)].head()"
   ]
  },
  {
   "cell_type": "code",
   "execution_count": 23,
   "metadata": {},
   "outputs": [],
   "source": [
    "df = df[~df['InvoiceNo'].str.contains('C')]"
   ]
  },
  {
   "cell_type": "code",
   "execution_count": 18,
   "metadata": {},
   "outputs": [],
   "source": [
    "market_basket = df[df['Country'] ==\"United Kingdom\"].groupby(\n",
    "                ['InvoiceNo', 'Description'])['Quantity']"
   ]
  },
  {
   "source": [
    "Next, we want to hot encode the data and get 1 transaction per row to prepare to run our mlxtend analysis."
   ],
   "cell_type": "markdown",
   "metadata": {}
  },
  {
   "cell_type": "code",
   "execution_count": 19,
   "metadata": {},
   "outputs": [],
   "source": [
    "market_basket = market_basket.sum().unstack().reset_index().fillna(0).set_index('InvoiceNo')"
   ]
  },
  {
   "cell_type": "code",
   "execution_count": 20,
   "metadata": {},
   "outputs": [
    {
     "output_type": "execute_result",
     "data": {
      "text/plain": [
       "Description  20713   4 PURPLE FLOCK DINNER CANDLES  \\\n",
       "InvoiceNo                                            \n",
       "536365         0.0                             0.0   \n",
       "536366         0.0                             0.0   \n",
       "536367         0.0                             0.0   \n",
       "536368         0.0                             0.0   \n",
       "536369         0.0                             0.0   \n",
       "\n",
       "Description   50'S CHRISTMAS GIFT BAG LARGE   DOLLY GIRL BEAKER  \\\n",
       "InvoiceNo                                                         \n",
       "536365                                  0.0                 0.0   \n",
       "536366                                  0.0                 0.0   \n",
       "536367                                  0.0                 0.0   \n",
       "536368                                  0.0                 0.0   \n",
       "536369                                  0.0                 0.0   \n",
       "\n",
       "Description   I LOVE LONDON MINI BACKPACK   NINE DRAWER OFFICE TIDY  \\\n",
       "InvoiceNo                                                             \n",
       "536365                                0.0                       0.0   \n",
       "536366                                0.0                       0.0   \n",
       "536367                                0.0                       0.0   \n",
       "536368                                0.0                       0.0   \n",
       "536369                                0.0                       0.0   \n",
       "\n",
       "Description   OVAL WALL MIRROR DIAMANTE    RED SPOT GIFT BAG LARGE  \\\n",
       "InvoiceNo                                                            \n",
       "536365                               0.0                       0.0   \n",
       "536366                               0.0                       0.0   \n",
       "536367                               0.0                       0.0   \n",
       "536368                               0.0                       0.0   \n",
       "536369                               0.0                       0.0   \n",
       "\n",
       "Description   SET 2 TEA TOWELS I LOVE LONDON    SPACEBOY BABY GIFT SET  ...  \\\n",
       "InvoiceNo                                                               ...   \n",
       "536365                                    0.0                      0.0  ...   \n",
       "536366                                    0.0                      0.0  ...   \n",
       "536367                                    0.0                      0.0  ...   \n",
       "536368                                    0.0                      0.0  ...   \n",
       "536369                                    0.0                      0.0  ...   \n",
       "\n",
       "Description  wrongly coded 20713  wrongly coded 23343  wrongly coded-23343  \\\n",
       "InvoiceNo                                                                    \n",
       "536365                       0.0                  0.0                  0.0   \n",
       "536366                       0.0                  0.0                  0.0   \n",
       "536367                       0.0                  0.0                  0.0   \n",
       "536368                       0.0                  0.0                  0.0   \n",
       "536369                       0.0                  0.0                  0.0   \n",
       "\n",
       "Description  wrongly marked  wrongly marked 23343  \\\n",
       "InvoiceNo                                           \n",
       "536365                  0.0                   0.0   \n",
       "536366                  0.0                   0.0   \n",
       "536367                  0.0                   0.0   \n",
       "536368                  0.0                   0.0   \n",
       "536369                  0.0                   0.0   \n",
       "\n",
       "Description  wrongly marked carton 22804  wrongly marked. 23343 in box  \\\n",
       "InvoiceNo                                                                \n",
       "536365                               0.0                           0.0   \n",
       "536366                               0.0                           0.0   \n",
       "536367                               0.0                           0.0   \n",
       "536368                               0.0                           0.0   \n",
       "536369                               0.0                           0.0   \n",
       "\n",
       "Description  wrongly sold (22719) barcode  wrongly sold as sets  \\\n",
       "InvoiceNo                                                         \n",
       "536365                                0.0                   0.0   \n",
       "536366                                0.0                   0.0   \n",
       "536367                                0.0                   0.0   \n",
       "536368                                0.0                   0.0   \n",
       "536369                                0.0                   0.0   \n",
       "\n",
       "Description  wrongly sold sets  \n",
       "InvoiceNo                       \n",
       "536365                     0.0  \n",
       "536366                     0.0  \n",
       "536367                     0.0  \n",
       "536368                     0.0  \n",
       "536369                     0.0  \n",
       "\n",
       "[5 rows x 4202 columns]"
      ],
      "text/html": "<div>\n<style scoped>\n    .dataframe tbody tr th:only-of-type {\n        vertical-align: middle;\n    }\n\n    .dataframe tbody tr th {\n        vertical-align: top;\n    }\n\n    .dataframe thead th {\n        text-align: right;\n    }\n</style>\n<table border=\"1\" class=\"dataframe\">\n  <thead>\n    <tr style=\"text-align: right;\">\n      <th>Description</th>\n      <th>20713</th>\n      <th>4 PURPLE FLOCK DINNER CANDLES</th>\n      <th>50'S CHRISTMAS GIFT BAG LARGE</th>\n      <th>DOLLY GIRL BEAKER</th>\n      <th>I LOVE LONDON MINI BACKPACK</th>\n      <th>NINE DRAWER OFFICE TIDY</th>\n      <th>OVAL WALL MIRROR DIAMANTE</th>\n      <th>RED SPOT GIFT BAG LARGE</th>\n      <th>SET 2 TEA TOWELS I LOVE LONDON</th>\n      <th>SPACEBOY BABY GIFT SET</th>\n      <th>...</th>\n      <th>wrongly coded 20713</th>\n      <th>wrongly coded 23343</th>\n      <th>wrongly coded-23343</th>\n      <th>wrongly marked</th>\n      <th>wrongly marked 23343</th>\n      <th>wrongly marked carton 22804</th>\n      <th>wrongly marked. 23343 in box</th>\n      <th>wrongly sold (22719) barcode</th>\n      <th>wrongly sold as sets</th>\n      <th>wrongly sold sets</th>\n    </tr>\n    <tr>\n      <th>InvoiceNo</th>\n      <th></th>\n      <th></th>\n      <th></th>\n      <th></th>\n      <th></th>\n      <th></th>\n      <th></th>\n      <th></th>\n      <th></th>\n      <th></th>\n      <th></th>\n      <th></th>\n      <th></th>\n      <th></th>\n      <th></th>\n      <th></th>\n      <th></th>\n      <th></th>\n      <th></th>\n      <th></th>\n      <th></th>\n    </tr>\n  </thead>\n  <tbody>\n    <tr>\n      <th>536365</th>\n      <td>0.0</td>\n      <td>0.0</td>\n      <td>0.0</td>\n      <td>0.0</td>\n      <td>0.0</td>\n      <td>0.0</td>\n      <td>0.0</td>\n      <td>0.0</td>\n      <td>0.0</td>\n      <td>0.0</td>\n      <td>...</td>\n      <td>0.0</td>\n      <td>0.0</td>\n      <td>0.0</td>\n      <td>0.0</td>\n      <td>0.0</td>\n      <td>0.0</td>\n      <td>0.0</td>\n      <td>0.0</td>\n      <td>0.0</td>\n      <td>0.0</td>\n    </tr>\n    <tr>\n      <th>536366</th>\n      <td>0.0</td>\n      <td>0.0</td>\n      <td>0.0</td>\n      <td>0.0</td>\n      <td>0.0</td>\n      <td>0.0</td>\n      <td>0.0</td>\n      <td>0.0</td>\n      <td>0.0</td>\n      <td>0.0</td>\n      <td>...</td>\n      <td>0.0</td>\n      <td>0.0</td>\n      <td>0.0</td>\n      <td>0.0</td>\n      <td>0.0</td>\n      <td>0.0</td>\n      <td>0.0</td>\n      <td>0.0</td>\n      <td>0.0</td>\n      <td>0.0</td>\n    </tr>\n    <tr>\n      <th>536367</th>\n      <td>0.0</td>\n      <td>0.0</td>\n      <td>0.0</td>\n      <td>0.0</td>\n      <td>0.0</td>\n      <td>0.0</td>\n      <td>0.0</td>\n      <td>0.0</td>\n      <td>0.0</td>\n      <td>0.0</td>\n      <td>...</td>\n      <td>0.0</td>\n      <td>0.0</td>\n      <td>0.0</td>\n      <td>0.0</td>\n      <td>0.0</td>\n      <td>0.0</td>\n      <td>0.0</td>\n      <td>0.0</td>\n      <td>0.0</td>\n      <td>0.0</td>\n    </tr>\n    <tr>\n      <th>536368</th>\n      <td>0.0</td>\n      <td>0.0</td>\n      <td>0.0</td>\n      <td>0.0</td>\n      <td>0.0</td>\n      <td>0.0</td>\n      <td>0.0</td>\n      <td>0.0</td>\n      <td>0.0</td>\n      <td>0.0</td>\n      <td>...</td>\n      <td>0.0</td>\n      <td>0.0</td>\n      <td>0.0</td>\n      <td>0.0</td>\n      <td>0.0</td>\n      <td>0.0</td>\n      <td>0.0</td>\n      <td>0.0</td>\n      <td>0.0</td>\n      <td>0.0</td>\n    </tr>\n    <tr>\n      <th>536369</th>\n      <td>0.0</td>\n      <td>0.0</td>\n      <td>0.0</td>\n      <td>0.0</td>\n      <td>0.0</td>\n      <td>0.0</td>\n      <td>0.0</td>\n      <td>0.0</td>\n      <td>0.0</td>\n      <td>0.0</td>\n      <td>...</td>\n      <td>0.0</td>\n      <td>0.0</td>\n      <td>0.0</td>\n      <td>0.0</td>\n      <td>0.0</td>\n      <td>0.0</td>\n      <td>0.0</td>\n      <td>0.0</td>\n      <td>0.0</td>\n      <td>0.0</td>\n    </tr>\n  </tbody>\n</table>\n<p>5 rows × 4202 columns</p>\n</div>"
     },
     "metadata": {},
     "execution_count": 20
    }
   ],
   "source": [
    "market_basket.head()"
   ]
  },
  {
   "cell_type": "code",
   "execution_count": 24,
   "metadata": {},
   "outputs": [],
   "source": [
    "def encode_data(datapoint):\n",
    "    if datapoint <= 0:\n",
    "        return 0\n",
    "    if datapoint >= 1:\n",
    "        return 1"
   ]
  },
  {
   "cell_type": "code",
   "execution_count": 25,
   "metadata": {},
   "outputs": [],
   "source": [
    "market_basket = market_basket.applymap(encode_data)"
   ]
  },
  {
   "cell_type": "code",
   "execution_count": 26,
   "metadata": {},
   "outputs": [],
   "source": [
    "itemsets = apriori(market_basket, min_support=0.03, use_colnames=True)"
   ]
  },
  {
   "cell_type": "code",
   "execution_count": 29,
   "metadata": {},
   "outputs": [
    {
     "output_type": "execute_result",
     "data": {
      "text/plain": [
       "    support                        itemsets\n",
       "0  0.038793        (6 RIBBONS RUSTIC CHARM)\n",
       "1  0.034165   (60 TEATIME FAIRY CAKE CASES)\n",
       "2  0.039746    (ALARM CLOCK BAKELIKE GREEN)\n",
       "3  0.042196     (ALARM CLOCK BAKELIKE RED )\n",
       "4  0.030672  (ANTIQUE SILVER T-LIGHT GLASS)"
      ],
      "text/html": "<div>\n<style scoped>\n    .dataframe tbody tr th:only-of-type {\n        vertical-align: middle;\n    }\n\n    .dataframe tbody tr th {\n        vertical-align: top;\n    }\n\n    .dataframe thead th {\n        text-align: right;\n    }\n</style>\n<table border=\"1\" class=\"dataframe\">\n  <thead>\n    <tr style=\"text-align: right;\">\n      <th></th>\n      <th>support</th>\n      <th>itemsets</th>\n    </tr>\n  </thead>\n  <tbody>\n    <tr>\n      <th>0</th>\n      <td>0.038793</td>\n      <td>(6 RIBBONS RUSTIC CHARM)</td>\n    </tr>\n    <tr>\n      <th>1</th>\n      <td>0.034165</td>\n      <td>(60 TEATIME FAIRY CAKE CASES)</td>\n    </tr>\n    <tr>\n      <th>2</th>\n      <td>0.039746</td>\n      <td>(ALARM CLOCK BAKELIKE GREEN)</td>\n    </tr>\n    <tr>\n      <th>3</th>\n      <td>0.042196</td>\n      <td>(ALARM CLOCK BAKELIKE RED )</td>\n    </tr>\n    <tr>\n      <th>4</th>\n      <td>0.030672</td>\n      <td>(ANTIQUE SILVER T-LIGHT GLASS)</td>\n    </tr>\n  </tbody>\n</table>\n</div>"
     },
     "metadata": {},
     "execution_count": 29
    }
   ],
   "source": [
    "itemsets.head()"
   ]
  },
  {
   "cell_type": "code",
   "execution_count": 27,
   "metadata": {},
   "outputs": [],
   "source": [
    "rules = association_rules(itemsets, metric=\"lift\", min_threshold=0.5)"
   ]
  },
  {
   "cell_type": "code",
   "execution_count": 28,
   "metadata": {},
   "outputs": [
    {
     "output_type": "execute_result",
     "data": {
      "text/plain": [
       "                          antecedents                         consequents  \\\n",
       "0   (GREEN REGENCY TEACUP AND SAUCER)  (ROSES REGENCY TEACUP AND SAUCER )   \n",
       "1  (ROSES REGENCY TEACUP AND SAUCER )   (GREEN REGENCY TEACUP AND SAUCER)   \n",
       "2           (JUMBO BAG RED RETROSPOT)           (JUMBO BAG PINK POLKADOT)   \n",
       "3           (JUMBO BAG PINK POLKADOT)           (JUMBO BAG RED RETROSPOT)   \n",
       "4            (JUMBO STORAGE BAG SUKI)           (JUMBO BAG RED RETROSPOT)   \n",
       "\n",
       "   antecedent support  consequent support   support  confidence       lift  \\\n",
       "0            0.042377            0.043421  0.031806    0.750535  17.285056   \n",
       "1            0.043421            0.042377  0.031806    0.732497  17.285056   \n",
       "2            0.087931            0.052586  0.035617    0.405057   7.702719   \n",
       "3            0.052586            0.087931  0.035617    0.677308   7.702719   \n",
       "4            0.051270            0.087931  0.031670    0.617699   7.024813   \n",
       "\n",
       "   leverage  conviction  \n",
       "0  0.029966    3.834527  \n",
       "1  0.029966    3.579862  \n",
       "2  0.030993    1.592444  \n",
       "3  0.030993    2.826438  \n",
       "4  0.027161    2.385736  "
      ],
      "text/html": "<div>\n<style scoped>\n    .dataframe tbody tr th:only-of-type {\n        vertical-align: middle;\n    }\n\n    .dataframe tbody tr th {\n        vertical-align: top;\n    }\n\n    .dataframe thead th {\n        text-align: right;\n    }\n</style>\n<table border=\"1\" class=\"dataframe\">\n  <thead>\n    <tr style=\"text-align: right;\">\n      <th></th>\n      <th>antecedents</th>\n      <th>consequents</th>\n      <th>antecedent support</th>\n      <th>consequent support</th>\n      <th>support</th>\n      <th>confidence</th>\n      <th>lift</th>\n      <th>leverage</th>\n      <th>conviction</th>\n    </tr>\n  </thead>\n  <tbody>\n    <tr>\n      <th>0</th>\n      <td>(GREEN REGENCY TEACUP AND SAUCER)</td>\n      <td>(ROSES REGENCY TEACUP AND SAUCER )</td>\n      <td>0.042377</td>\n      <td>0.043421</td>\n      <td>0.031806</td>\n      <td>0.750535</td>\n      <td>17.285056</td>\n      <td>0.029966</td>\n      <td>3.834527</td>\n    </tr>\n    <tr>\n      <th>1</th>\n      <td>(ROSES REGENCY TEACUP AND SAUCER )</td>\n      <td>(GREEN REGENCY TEACUP AND SAUCER)</td>\n      <td>0.043421</td>\n      <td>0.042377</td>\n      <td>0.031806</td>\n      <td>0.732497</td>\n      <td>17.285056</td>\n      <td>0.029966</td>\n      <td>3.579862</td>\n    </tr>\n    <tr>\n      <th>2</th>\n      <td>(JUMBO BAG RED RETROSPOT)</td>\n      <td>(JUMBO BAG PINK POLKADOT)</td>\n      <td>0.087931</td>\n      <td>0.052586</td>\n      <td>0.035617</td>\n      <td>0.405057</td>\n      <td>7.702719</td>\n      <td>0.030993</td>\n      <td>1.592444</td>\n    </tr>\n    <tr>\n      <th>3</th>\n      <td>(JUMBO BAG PINK POLKADOT)</td>\n      <td>(JUMBO BAG RED RETROSPOT)</td>\n      <td>0.052586</td>\n      <td>0.087931</td>\n      <td>0.035617</td>\n      <td>0.677308</td>\n      <td>7.702719</td>\n      <td>0.030993</td>\n      <td>2.826438</td>\n    </tr>\n    <tr>\n      <th>4</th>\n      <td>(JUMBO STORAGE BAG SUKI)</td>\n      <td>(JUMBO BAG RED RETROSPOT)</td>\n      <td>0.051270</td>\n      <td>0.087931</td>\n      <td>0.031670</td>\n      <td>0.617699</td>\n      <td>7.024813</td>\n      <td>0.027161</td>\n      <td>2.385736</td>\n    </tr>\n  </tbody>\n</table>\n</div>"
     },
     "metadata": {},
     "execution_count": 28
    }
   ],
   "source": [
    "rules.head()"
   ]
  },
  {
   "cell_type": "code",
   "execution_count": null,
   "metadata": {},
   "outputs": [],
   "source": []
  }
 ]
}