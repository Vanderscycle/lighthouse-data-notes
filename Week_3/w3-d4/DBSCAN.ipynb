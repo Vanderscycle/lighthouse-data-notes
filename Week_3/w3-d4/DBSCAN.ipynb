{
 "cells": [
  {
   "cell_type": "markdown",
   "metadata": {},
   "source": [
    "# Density Based Spatial Clustering of Applications with Noise"
   ]
  },
  {
   "cell_type": "code",
   "execution_count": 1,
   "metadata": {},
   "outputs": [],
   "source": [
    "import numpy as np \n",
    "from sklearn.cluster import DBSCAN\n",
    "from sklearn.preprocessing import StandardScaler\n",
    "import matplotlib\n",
    "import matplotlib.pyplot as plt"
   ]
  },
  {
   "cell_type": "code",
   "execution_count": 2,
   "metadata": {},
   "outputs": [
    {
     "name": "stdout",
     "output_type": "stream",
     "text": [
      "Matplotlib Version 3.3.1\n"
     ]
    }
   ],
   "source": [
    "# Check the Matplotlib Version \n",
    "print (\"Matplotlib Version\", matplotlib.__version__)"
   ]
  },
  {
   "cell_type": "markdown",
   "metadata": {},
   "source": [
    "## Using DBSCAN for Tasks Like Class Identification on a Spatial Context"
   ]
  },
  {
   "cell_type": "markdown",
   "metadata": {},
   "source": [
    "Usually 2 parameters for DBSCAN to Optimize \n",
    "* <font color='red'>Epsilon</font> \n",
    "* <font color='red'>Minimum Points</font>\n",
    "\n",
    "<font color='red'>Epsilon $(\\epsilon)$ </font> determines how much close the points should be to be considered a part of a cluster and <font color='red'>Minimum Points _(MinPts)_ </font> determines how many number of samples (points) need to be considered around a point within the radius $\\epsilon$ to be considered as a _Core Point_. _MinPts_ include the point in consideration itself.   \n",
    "\n",
    "\n",
    "We start with loading the Canada Weather Data-Set. We will __cluster weather stations that show similar weather conditions__. Selection of features and applications on clustering will be shown. Since the data domain is not so well understood, it is always best to play around with $\\epsilon$ and _MinPts_ parameter in Scikit learn.  "
   ]
  },
  {
   "cell_type": "code",
   "execution_count": 3,
   "metadata": {},
   "outputs": [
    {
     "name": "stdout",
     "output_type": "stream",
     "text": [
      "Shape of the DataFrame:  (1341, 25)\n"
     ]
    },
    {
     "data": {
      "text/html": [
       "<div>\n",
       "<style scoped>\n",
       "    .dataframe tbody tr th:only-of-type {\n",
       "        vertical-align: middle;\n",
       "    }\n",
       "\n",
       "    .dataframe tbody tr th {\n",
       "        vertical-align: top;\n",
       "    }\n",
       "\n",
       "    .dataframe thead th {\n",
       "        text-align: right;\n",
       "    }\n",
       "</style>\n",
       "<table border=\"1\" class=\"dataframe\">\n",
       "  <thead>\n",
       "    <tr style=\"text-align: right;\">\n",
       "      <th></th>\n",
       "      <th>Stn_Name</th>\n",
       "      <th>Lat</th>\n",
       "      <th>Long</th>\n",
       "      <th>Prov</th>\n",
       "      <th>Tm</th>\n",
       "      <th>DwTm</th>\n",
       "      <th>D</th>\n",
       "      <th>Tx</th>\n",
       "      <th>DwTx</th>\n",
       "      <th>Tn</th>\n",
       "      <th>...</th>\n",
       "      <th>DwP</th>\n",
       "      <th>P%N</th>\n",
       "      <th>S_G</th>\n",
       "      <th>Pd</th>\n",
       "      <th>BS</th>\n",
       "      <th>DwBS</th>\n",
       "      <th>BS%</th>\n",
       "      <th>HDD</th>\n",
       "      <th>CDD</th>\n",
       "      <th>Stn_No</th>\n",
       "    </tr>\n",
       "  </thead>\n",
       "  <tbody>\n",
       "    <tr>\n",
       "      <th>0</th>\n",
       "      <td>CHEMAINUS</td>\n",
       "      <td>48.935</td>\n",
       "      <td>-123.742</td>\n",
       "      <td>BC</td>\n",
       "      <td>8.2</td>\n",
       "      <td>0.0</td>\n",
       "      <td>NaN</td>\n",
       "      <td>13.5</td>\n",
       "      <td>0.0</td>\n",
       "      <td>1.0</td>\n",
       "      <td>...</td>\n",
       "      <td>0.0</td>\n",
       "      <td>NaN</td>\n",
       "      <td>0.0</td>\n",
       "      <td>12.0</td>\n",
       "      <td>NaN</td>\n",
       "      <td>NaN</td>\n",
       "      <td>NaN</td>\n",
       "      <td>273.3</td>\n",
       "      <td>0.0</td>\n",
       "      <td>1011500</td>\n",
       "    </tr>\n",
       "    <tr>\n",
       "      <th>1</th>\n",
       "      <td>COWICHAN LAKE FORESTRY</td>\n",
       "      <td>48.824</td>\n",
       "      <td>-124.133</td>\n",
       "      <td>BC</td>\n",
       "      <td>7.0</td>\n",
       "      <td>0.0</td>\n",
       "      <td>3.0</td>\n",
       "      <td>15.0</td>\n",
       "      <td>0.0</td>\n",
       "      <td>-3.0</td>\n",
       "      <td>...</td>\n",
       "      <td>0.0</td>\n",
       "      <td>104.0</td>\n",
       "      <td>0.0</td>\n",
       "      <td>12.0</td>\n",
       "      <td>NaN</td>\n",
       "      <td>NaN</td>\n",
       "      <td>NaN</td>\n",
       "      <td>307.0</td>\n",
       "      <td>0.0</td>\n",
       "      <td>1012040</td>\n",
       "    </tr>\n",
       "    <tr>\n",
       "      <th>2</th>\n",
       "      <td>LAKE COWICHAN</td>\n",
       "      <td>48.829</td>\n",
       "      <td>-124.052</td>\n",
       "      <td>BC</td>\n",
       "      <td>6.8</td>\n",
       "      <td>13.0</td>\n",
       "      <td>2.8</td>\n",
       "      <td>16.0</td>\n",
       "      <td>9.0</td>\n",
       "      <td>-2.5</td>\n",
       "      <td>...</td>\n",
       "      <td>9.0</td>\n",
       "      <td>NaN</td>\n",
       "      <td>NaN</td>\n",
       "      <td>11.0</td>\n",
       "      <td>NaN</td>\n",
       "      <td>NaN</td>\n",
       "      <td>NaN</td>\n",
       "      <td>168.1</td>\n",
       "      <td>0.0</td>\n",
       "      <td>1012055</td>\n",
       "    </tr>\n",
       "  </tbody>\n",
       "</table>\n",
       "<p>3 rows × 25 columns</p>\n",
       "</div>"
      ],
      "text/plain": [
       "                 Stn_Name     Lat     Long Prov   Tm  DwTm    D    Tx  DwTx  \\\n",
       "0               CHEMAINUS  48.935 -123.742   BC  8.2   0.0  NaN  13.5   0.0   \n",
       "1  COWICHAN LAKE FORESTRY  48.824 -124.133   BC  7.0   0.0  3.0  15.0   0.0   \n",
       "2           LAKE COWICHAN  48.829 -124.052   BC  6.8  13.0  2.8  16.0   9.0   \n",
       "\n",
       "    Tn  ...  DwP    P%N  S_G    Pd  BS  DwBS  BS%    HDD  CDD   Stn_No  \n",
       "0  1.0  ...  0.0    NaN  0.0  12.0 NaN   NaN  NaN  273.3  0.0  1011500  \n",
       "1 -3.0  ...  0.0  104.0  0.0  12.0 NaN   NaN  NaN  307.0  0.0  1012040  \n",
       "2 -2.5  ...  9.0    NaN  NaN  11.0 NaN   NaN  NaN  168.1  0.0  1012055  \n",
       "\n",
       "[3 rows x 25 columns]"
      ]
     },
     "execution_count": 3,
     "metadata": {},
     "output_type": "execute_result"
    }
   ],
   "source": [
    "import pandas as pd\n",
    "\n",
    "weather_df = pd.read_csv('weather-stations.csv')\n",
    "print (\"Shape of the DataFrame: \", weather_df.shape)\n",
    "weather_df.head(3) "
   ]
  },
  {
   "cell_type": "markdown",
   "metadata": {},
   "source": [
    "So there are 25 columns and now we need to learn more about the Columns, The names that are difficult to guess \n",
    "* Stn_Name === Station Name\n",
    "* Prov     === Province\n",
    "* Tm       === Mean Temperature (°C)\n",
    "* Tn       === Lowest Monthly Minimum Temperature \n",
    "* Tx       === Highest Monthly Maximum Temperature \n",
    "* DwTm     === Days Without Valid Mean Temperature\n",
    "* DwTx     === Days Without Valid Maximum Temperature\n",
    "* DwTn     === Days Without Valid Minimum Temperature\n",
    "* D        === Mean Temperature Difference from Normal\n",
    "* S        === Snowfall (cm)\n",
    "* DwS      === Days Without Snowfall\n",
    "* S%N      === Percent of Normal Snowfall\n",
    "* P        === Total Precipitation (mm)\n",
    "* DwP      === Days Without Valid Precipitation\n",
    "* P%N      === Percent of Normal Precipitation\n",
    "* Pd       === No. of days with precipitation 1mm or More \n",
    "* BS       === Bright Sunshine days\n",
    "* DwBS     === Days Without valid Bright Sunshine\n",
    "* BS%      === Percent of Normal Bright Sunshine\n",
    "* HDD      === Degree Days Below $18^{\\circ}$C \n",
    "* CDD      === Degree Days Above $18^{\\circ}$C\n",
    "* Stn_No   === Station Number; Climate Station Identifier (1st 3 Digits==Indicate drainage basin, Last 4 Digits Sorting Alphabetically)\n",
    "\n"
   ]
  },
  {
   "cell_type": "markdown",
   "metadata": {},
   "source": [
    "We can see that there are some columns that contains NaN values. One of the importnat features is Mean temperature (Tm), so we drop the rows that contain NaN values in Tm column   "
   ]
  },
  {
   "cell_type": "code",
   "execution_count": 4,
   "metadata": {},
   "outputs": [
    {
     "data": {
      "text/plain": [
       "Stn_Name       0\n",
       "Lat            0\n",
       "Long           0\n",
       "Prov           0\n",
       "Tm            85\n",
       "DwTm          85\n",
       "D            984\n",
       "Tx            81\n",
       "DwTx          81\n",
       "Tn            81\n",
       "DwTn          81\n",
       "S            755\n",
       "DwS          755\n",
       "S%N         1143\n",
       "P            114\n",
       "DwP          114\n",
       "P%N         1132\n",
       "S_G          543\n",
       "Pd           114\n",
       "BS          1341\n",
       "DwBS        1341\n",
       "BS%         1341\n",
       "HDD           85\n",
       "CDD           85\n",
       "Stn_No         0\n",
       "dtype: int64"
      ]
     },
     "execution_count": 4,
     "metadata": {},
     "output_type": "execute_result"
    }
   ],
   "source": [
    "# check the nan values in the dataframe \n",
    "weather_df.isna().sum()"
   ]
  },
  {
   "cell_type": "code",
   "execution_count": 5,
   "metadata": {},
   "outputs": [
    {
     "name": "stdout",
     "output_type": "stream",
     "text": [
      "After Dropping Rows that contains NaN on Mean, Max, Min Temperature Column:  (1255, 25)\n"
     ]
    }
   ],
   "source": [
    "weather_df.dropna(subset=['Tm', 'Tx', 'Tn'], inplace=True)\n",
    "print (\"After Dropping Rows that contains NaN on Mean, Max, Min Temperature Column: \", weather_df.shape)"
   ]
  },
  {
   "cell_type": "code",
   "execution_count": 6,
   "metadata": {},
   "outputs": [
    {
     "ename": "ModuleNotFoundError",
     "evalue": "No module named 'mpl_toolkits.basemap'",
     "output_type": "error",
     "traceback": [
      "\u001b[0;31m---------------------------------------------------------------------------\u001b[0m",
      "\u001b[0;31mModuleNotFoundError\u001b[0m                       Traceback (most recent call last)",
      "\u001b[0;32m<ipython-input-6-cfea0fc21fc0>\u001b[0m in \u001b[0;36m<module>\u001b[0;34m\u001b[0m\n\u001b[0;32m----> 1\u001b[0;31m \u001b[0;32mfrom\u001b[0m \u001b[0mmpl_toolkits\u001b[0m\u001b[0;34m.\u001b[0m\u001b[0mbasemap\u001b[0m \u001b[0;32mimport\u001b[0m \u001b[0mBasemap\u001b[0m\u001b[0;34m\u001b[0m\u001b[0;34m\u001b[0m\u001b[0m\n\u001b[0m\u001b[1;32m      2\u001b[0m \u001b[0;32mimport\u001b[0m \u001b[0mmatplotlib\u001b[0m\u001b[0;34m\u001b[0m\u001b[0;34m\u001b[0m\u001b[0m\n\u001b[1;32m      3\u001b[0m \u001b[0;32mfrom\u001b[0m \u001b[0mPIL\u001b[0m \u001b[0;32mimport\u001b[0m \u001b[0mImage\u001b[0m\u001b[0;34m\u001b[0m\u001b[0;34m\u001b[0m\u001b[0m\n\u001b[1;32m      4\u001b[0m \u001b[0;32mimport\u001b[0m \u001b[0mmatplotlib\u001b[0m\u001b[0;34m.\u001b[0m\u001b[0mpyplot\u001b[0m \u001b[0;32mas\u001b[0m \u001b[0mplt\u001b[0m\u001b[0;34m\u001b[0m\u001b[0;34m\u001b[0m\u001b[0m\n\u001b[1;32m      5\u001b[0m \u001b[0;31m#print (matplotlib.__version__)\u001b[0m\u001b[0;34m\u001b[0m\u001b[0;34m\u001b[0m\u001b[0;34m\u001b[0m\u001b[0m\n",
      "\u001b[0;31mModuleNotFoundError\u001b[0m: No module named 'mpl_toolkits.basemap'"
     ]
    }
   ],
   "source": [
    "from mpl_toolkits.basemap import Basemap\n",
    "import matplotlib\n",
    "from PIL import Image\n",
    "import matplotlib.pyplot as plt\n",
    "#print (matplotlib.__version__)\n",
    "from pylab import rcParams\n",
    "%matplotlib inline\n",
    "rcParams['figure.figsize'] = (14,10)\n",
    "\n",
    "\n",
    "llon=-140\n",
    "ulon=-50\n",
    "llat=40\n",
    "ulat=75\n",
    "\n",
    "# selecting the boundaries of the map from lattitude and longitude \n",
    "\n",
    "weather_df = weather_df[(weather_df['Long'] > llon) & (weather_df['Long'] < ulon) & \n",
    "                        (weather_df['Lat'] > llat) &(weather_df['Lat'] < ulat)]\n",
    "\n",
    "\n",
    "\n",
    "my_map = Basemap(projection='merc',\n",
    "            resolution = 'l', area_thresh = 1000.0,\n",
    "            llcrnrlon=llon, llcrnrlat=llat, #min longitude (llcrnrlon) and latitude (llcrnrlat)\n",
    "            urcrnrlon=ulon, urcrnrlat=ulat) #max longitude (urcrnrlon) and latitude (urcrnrlat)\n",
    "\n",
    "my_map.drawcoastlines()\n",
    "my_map.drawcountries()\n",
    "my_map.drawlsmask(land_color='orange', ocean_color='skyblue')\n",
    "#my_map.shadedrelief()\n",
    "my_map.bluemarble()\n",
    "# To collect data based on stations        \n",
    "\n",
    "xs,ys = my_map(np.asarray(weather_df.Long), np.asarray(weather_df.Lat))\n",
    "weather_df['xm']= xs.tolist()\n",
    "weather_df['ym'] =ys.tolist()\n",
    "\n",
    "#Visualization1\n",
    "for index,row in weather_df.iterrows():\n",
    "#   x,y = my_map(row.Long, row.Lat)\n",
    "   my_map.plot(row.xm, row.ym,markerfacecolor ='lime',markeredgecolor='pink', marker='s', markersize= 10, alpha = 0.4)\n",
    "#plt.text(x,y,stn)\n",
    "plt.title(\"Weather Stations in Canada\", fontsize=14)\n",
    "plt.savefig(\"Canada_WS.png\", dpi=300)\n",
    "plt.show()"
   ]
  },
  {
   "cell_type": "code",
   "execution_count": null,
   "metadata": {},
   "outputs": [],
   "source": [
    "#my_map.drawmapboundary()\n",
    "#my_map.fillcontinents(color = 'orange', alpha = 0.3)\n",
    "#my_map.fillcontinents(color='#cc9955', lake_color='aqua', alpha=0.4)"
   ]
  },
  {
   "cell_type": "code",
   "execution_count": null,
   "metadata": {},
   "outputs": [],
   "source": [
    "#print (xs.tolist())\n",
    "#print (ys.tolist())"
   ]
  },
  {
   "cell_type": "markdown",
   "metadata": {},
   "source": [
    "### Clustering Weather Stations Based on Mean, Maximum and Minimum Temperature. <br>\n",
    "\n",
    "#### In the DataFrame the Variables are Tm, Tn, Tx.   <br> First we check the distribution of the temperatures to get an rough Idea. Find the maximum, minimum of these three features to get a rough idea.  "
   ]
  },
  {
   "cell_type": "code",
   "execution_count": null,
   "metadata": {},
   "outputs": [],
   "source": [
    "#print (weather_df.loc[weather_df['Tn'].idxmin()])\n",
    "\n",
    "# Apart from the idxmax, we ca just use dataframe min max function to get the values\n",
    "\n",
    "print (\"Minimum Mean temperature: \", weather_df['Tm'].min())\n",
    "print (\"Minimum Max Temperature: \", weather_df['Tx'].min())\n",
    "print (\"Maximun Min Temperature: \", weather_df['Tn'].max())"
   ]
  },
  {
   "cell_type": "code",
   "execution_count": null,
   "metadata": {},
   "outputs": [],
   "source": [
    " \n",
    "\n",
    "import seaborn as sns\n",
    "\n",
    "sns.distplot(weather_df['Tm'], color='purple', kde=False)\n",
    "plt.xlabel('Mean Temperature (°C)', fontsize=14)\n",
    "plt.title(\"Distribution of Mean Temperature\", fontsize=14)\n",
    "plt.savefig(\"Dist_of_Mean_Temp.png\", dpi=200)\n",
    "plt.show()"
   ]
  },
  {
   "cell_type": "code",
   "execution_count": null,
   "metadata": {},
   "outputs": [],
   "source": [
    "# Violin Plots of Minimum and Maximum Temperature\n",
    "fig = plt.figure(figsize=(12,8))\n",
    "plt.subplot(1,2,1)\n",
    "sns.violinplot(x=weather_df[\"Tn\"], color='deepskyblue')\n",
    "plt.xlabel(\"Min. Temperature (°C)\", fontsize=14, color='deepskyblue')\n",
    "plt.subplot(1,2,2)\n",
    "sns.violinplot(x=weather_df[\"Tx\"], color='tomato')\n",
    "plt.xlabel(\"Max. Temperature (°C)\", fontsize=14, color='tomato')\n",
    "plt.tight_layout()\n",
    "plt.title(\"Violin Plots of Minimum and Maximum Temperature Over All Weather Stations\", fontsize=14, x=-0.0)\n",
    "plt.savefig(\"Violin_Plots_Min_Max_Temp.png\", dpi=200)\n",
    "plt.show()"
   ]
  },
  {
   "cell_type": "code",
   "execution_count": null,
   "metadata": {},
   "outputs": [],
   "source": [
    "# Joint Plot of Mean Temperature and Minimum Temperature\n",
    "g=sns.jointplot(x=weather_df['Tm'], y=weather_df['Tn'], kind='hex', color='cyan')\n",
    "g.set_axis_labels(\"Mean Temperature (°C)\",\"Minimum Temperature (°C)\", fontsize=14)\n",
    "plt.savefig(\"Hex_Tm_Tn.png\", dpi=200)\n",
    "plt.show()"
   ]
  },
  {
   "cell_type": "markdown",
   "metadata": {},
   "source": [
    "### Proceed To Clustering using DBSCAN"
   ]
  },
  {
   "cell_type": "code",
   "execution_count": null,
   "metadata": {},
   "outputs": [],
   "source": [
    "from sklearn.cluster import DBSCAN\n",
    "import sklearn.utils\n",
    "from sklearn.preprocessing import StandardScaler\n",
    "weather_df_clus_temp = weather_df[[\"Tm\", \"Tx\", \"Tn\", \"xm\", \"ym\"]]\n",
    "weather_df_clus_temp = StandardScaler().fit_transform(weather_df_clus_temp)\n",
    "\n",
    "db = DBSCAN(eps=0.3, min_samples=10).fit(weather_df_clus_temp)\n",
    "labels = db.labels_\n",
    "print (labels[500:560])\n",
    "weather_df[\"Clus_Db\"]=labels\n",
    "\n",
    "realClusterNum=len(set(labels)) - (1 if -1 in labels else 0)\n",
    "clusterNum = len(set(labels))"
   ]
  },
  {
   "cell_type": "code",
   "execution_count": null,
   "metadata": {},
   "outputs": [],
   "source": [
    "set(labels)"
   ]
  },
  {
   "cell_type": "markdown",
   "metadata": {},
   "source": [
    "#### Plot the Clusters in the Map. "
   ]
  },
  {
   "cell_type": "code",
   "execution_count": null,
   "metadata": {},
   "outputs": [],
   "source": [
    "from mpl_toolkits.basemap import Basemap\n",
    "import matplotlib.pyplot as plt\n",
    "from pylab import rcParams\n",
    "%matplotlib inline\n",
    "rcParams['figure.figsize'] = (14,10)\n",
    "\n",
    "my_map = Basemap(projection='merc',\n",
    "            resolution = 'l', area_thresh = 1000.0,\n",
    "            llcrnrlon=llon, llcrnrlat=llat, #min longitude (llcrnrlon) and latitude (llcrnrlat)\n",
    "            urcrnrlon=ulon, urcrnrlat=ulat) #max longitude (urcrnrlon) and latitude (urcrnrlat)\n",
    "\n",
    "my_map.drawcoastlines()\n",
    "my_map.drawcountries()\n",
    "#my_map.drawmapboundary()\n",
    "#my_map.fillcontinents(color = 'white', alpha = 0.3)\n",
    "my_map.drawlsmask(land_color='orange', ocean_color='skyblue')\n",
    "#my_map.shadedrelief()\n",
    "#my_map.bluemarble()\n",
    "#my_map.shadedrelief()\n",
    "my_map.etopo()\n",
    "\n",
    "# To create a color map\n",
    "colors = plt.get_cmap('jet')(np.linspace(0.0, 1.0, clusterNum))\n",
    "\n",
    "\n",
    "\n",
    "#Visualization1\n",
    "for clust_number in set(labels):\n",
    "    c=(([0.4,0.4,0.4]) if clust_number == -1 else colors[np.int(clust_number)])\n",
    "    clust_set = weather_df[weather_df.Clus_Db == clust_number]                    \n",
    "    my_map.scatter(clust_set.xm, clust_set.ym, color =c,  marker='o', s= 40, alpha = 0.65)\n",
    "    if clust_number != -1:\n",
    "        cenx=np.mean(clust_set.xm) \n",
    "        ceny=np.mean(clust_set.ym) \n",
    "        plt.text(cenx,ceny,str(clust_number), fontsize=30, color='red',)\n",
    "        print (\"Cluster \"+str(clust_number)+', Average Mean Temp: '+ str(np.mean(clust_set.Tm)))\n",
    "plt.title(r\"Weather Stations in Canada Clustered (1): $ \\epsilon = 0.3$\", fontsize=14)        \n",
    "plt.savefig(\"etopo_cluster.png\", dpi=300)        "
   ]
  },
  {
   "cell_type": "markdown",
   "metadata": {},
   "source": [
    "## Repeat The Process One More Time Including Precipitation as Feature  "
   ]
  },
  {
   "cell_type": "code",
   "execution_count": null,
   "metadata": {},
   "outputs": [],
   "source": [
    "# stop the SettingWithCopyWarning: \n",
    "pd.options.mode.chained_assignment = None  # default='warn'\n",
    "#\n",
    "\n",
    "from sklearn.cluster import DBSCAN\n",
    "import sklearn.utils\n",
    "from sklearn.preprocessing import StandardScaler\n",
    "weather_df_copy = weather_df.copy()\n",
    "weather_df_clus_temp_P = weather_df_copy[[\"Tm\", \"Tx\", \"Tn\", \"xm\", \"ym\", \"P\"]]\n",
    "\n",
    "weather_df_clus_temp_P.dropna(subset=[\"Tm\", \"Tx\", \"Tn\", \"xm\", \"ym\", \"P\"], inplace=True)\n",
    "print (\"After Dropping Rows that contains NaN on Precipitation Column: \", weather_df_clus_temp_P.shape)\n",
    "\n",
    "print (weather_df_clus_temp_P.head(6))"
   ]
  },
  {
   "cell_type": "code",
   "execution_count": null,
   "metadata": {},
   "outputs": [],
   "source": [
    "#print (weather_df_clus_temp.shape)\n",
    "weather_df_clus_temp_P_arr = weather_df_clus_temp_P[[\"Tm\", \"Tx\", \"Tn\", \"xm\", \"ym\", \"P\"]]\n",
    "weather_df_clus_temp_P_arr = StandardScaler().fit_transform(weather_df_clus_temp_P_arr)\n",
    "\n",
    "db_P = DBSCAN(eps=0.5, min_samples=10).fit(weather_df_clus_temp_P_arr)\n",
    "# # create an array of zeroes of same size as db.labels_. db.labels_ is an array containing labels for \n",
    "labels_P = db_P.labels_\n",
    "print(labels_P[500:560])\n",
    "print (labels_P.dtype)\n",
    "#print(np.isnan(labels_P).any())\n",
    "weather_df_clus_temp_P[\"Clus_Db_\"]=labels_P"
   ]
  },
  {
   "cell_type": "code",
   "execution_count": null,
   "metadata": {},
   "outputs": [],
   "source": [
    "weather_df_clus_temp_P.head(6)"
   ]
  },
  {
   "cell_type": "code",
   "execution_count": null,
   "metadata": {},
   "outputs": [],
   "source": [
    "realClusterNum_P=len(set(labels_P)) - (1 if -1 in labels_P else 0)\n",
    "clusterNum_P = len(set(labels_P)) \n",
    "\n",
    "\n",
    "print (set(labels_P))"
   ]
  },
  {
   "cell_type": "code",
   "execution_count": null,
   "metadata": {},
   "outputs": [],
   "source": [
    "from mpl_toolkits.basemap import Basemap\n",
    "import matplotlib.pyplot as plt\n",
    "from pylab import rcParams\n",
    "%matplotlib inline\n",
    "rcParams['figure.figsize'] = (14,10)\n",
    "\n",
    "my_map1 = Basemap(projection='merc',\n",
    "            resolution = 'l', area_thresh = 1000.0,\n",
    "            llcrnrlon=llon, llcrnrlat=llat, #min longitude (llcrnrlon) and latitude (llcrnrlat)\n",
    "            urcrnrlon=ulon, urcrnrlat=ulat) #max longitude (urcrnrlon) and latitude (urcrnrlat)\n",
    "\n",
    "my_map1.drawcoastlines()\n",
    "my_map1.drawcountries()\n",
    "#my_map.drawmapboundary()\n",
    "#my_map.fillcontinents(color = 'white', alpha = 0.3)\n",
    "my_map1.drawlsmask(land_color='orange', ocean_color='skyblue')\n",
    "#my_map.shadedrelief()\n",
    "#my_map.bluemarble()\n",
    "#my_map.shadedrelief()\n",
    "my_map1.etopo()\n",
    "\n",
    "# To create a color map\n",
    "colors1 = plt.get_cmap('jet')(np.linspace(0.0, 1.0, clusterNum_P))\n",
    "\n",
    "\n",
    "\n",
    "#Visualization1\n",
    "for clust_number_P in set(labels_P):\n",
    "    c=(([0.4,0.4,0.4]) if clust_number_P == -1 else colors1[np.int(clust_number_P)])\n",
    "    clust_set_P = weather_df_clus_temp_P[weather_df_clus_temp_P.Clus_Db_ == clust_number_P]                    \n",
    "    my_map.scatter(clust_set_P.xm, clust_set_P.ym, color =c,  marker='o', s= 40, alpha = 0.65)\n",
    "    if clust_number_P != -1:\n",
    "        cenx=np.mean(clust_set_P.xm) \n",
    "        ceny=np.mean(clust_set_P.ym) \n",
    "        plt.text(cenx,ceny,str(clust_number_P), fontsize=30, color='red',)\n",
    "        print (\"Cluster \"+str(clust_number_P)+', Average Mean Temp: '+ str(np.mean(clust_set_P.Tm)))\n",
    "        print (\"Cluster \"+str(clust_number_P)+', Average Mean Precipitation: '+ str(np.mean(clust_set_P.P)))\n",
    "plt.savefig(\"etopo_cluster_preci.png\", dpi=300)"
   ]
  },
  {
   "cell_type": "code",
   "execution_count": null,
   "metadata": {},
   "outputs": [],
   "source": []
  }
 ],
 "metadata": {
  "kernelspec": {
   "display_name": "Python 3",
   "language": "python",
   "name": "python3"
  },
  "language_info": {
   "codemirror_mode": {
    "name": "ipython",
    "version": 3
   },
   "file_extension": ".py",
   "mimetype": "text/x-python",
   "name": "python",
   "nbconvert_exporter": "python",
   "pygments_lexer": "ipython3",
   "version": "3.8.5"
  }
 },
 "nbformat": 4,
 "nbformat_minor": 4
}
