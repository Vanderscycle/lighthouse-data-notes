{
 "metadata": {
  "language_info": {
   "codemirror_mode": {
    "name": "ipython",
    "version": 3
   },
   "file_extension": ".py",
   "mimetype": "text/x-python",
   "name": "python",
   "nbconvert_exporter": "python",
   "pygments_lexer": "ipython3",
   "version": "3.8.5-final"
  },
  "orig_nbformat": 2,
  "kernelspec": {
   "name": "python38564bitflaskwebdevconda6d952299c0ad4658a33fb61d8c7c2a17",
   "display_name": "Python 3.8.5 64-bit ('flask-web-dev': conda)"
  }
 },
 "nbformat": 4,
 "nbformat_minor": 2,
 "cells": [
  {
   "source": [
    "[Lesson](https://realpython.com/introduction-to-mongodb-and-python/)"
   ],
   "cell_type": "markdown",
   "metadata": {}
  },
  {
   "source": [
    "Low level and easy MongoDB language"
   ],
   "cell_type": "markdown",
   "metadata": {}
  },
  {
   "cell_type": "code",
   "execution_count": 1,
   "metadata": {},
   "outputs": [],
   "source": [
    "import pymongo"
   ]
  },
  {
   "cell_type": "code",
   "execution_count": 2,
   "metadata": {},
   "outputs": [],
   "source": [
    "#Establishing a Connection\n",
    "from pymongo import MongoClient\n",
    "client = MongoClient()"
   ]
  },
  {
   "cell_type": "code",
   "execution_count": 3,
   "metadata": {},
   "outputs": [],
   "source": [
    "#way #1\n",
    "client = MongoClient('localhost', 27017)"
   ]
  },
  {
   "cell_type": "code",
   "execution_count": 4,
   "metadata": {},
   "outputs": [],
   "source": [
    "#way #2\n",
    "client = MongoClient('mongodb://localhost:27017')"
   ]
  },
  {
   "cell_type": "code",
   "execution_count": 5,
   "metadata": {},
   "outputs": [],
   "source": [
    "# Accessing Database\n",
    "#way #1\n",
    "db = client.pymongo_test\n",
    "#way #2\n",
    "db = client['pymongo_test']"
   ]
  },
  {
   "cell_type": "code",
   "execution_count": 6,
   "metadata": {},
   "outputs": [
    {
     "output_type": "stream",
     "name": "stdout",
     "text": [
      "One post: 5f99aa59bdf6c2bd87170b15\n"
     ]
    }
   ],
   "source": [
    "posts = db.posts\n",
    "post_data = {\n",
    "    'title': 'Python and MongoDB',\n",
    "    'content': 'PyMongo is fun, you guys',\n",
    "    'author': 'Scott'\n",
    "}\n",
    "result = posts.insert_one(post_data)\n",
    "print('One post: {0}'.format(result.inserted_id))"
   ]
  },
  {
   "cell_type": "code",
   "execution_count": 7,
   "metadata": {},
   "outputs": [
    {
     "output_type": "stream",
     "name": "stdout",
     "text": [
      "Multiple posts: [ObjectId('5f99aa6dbdf6c2bd87170b16'), ObjectId('5f99aa6dbdf6c2bd87170b17'), ObjectId('5f99aa6dbdf6c2bd87170b18')]\n"
     ]
    }
   ],
   "source": [
    "post_1 = {\n",
    "    'title': 'Python and MongoDB',\n",
    "    'content': 'PyMongo is fun, you guys',\n",
    "    'author': 'Scott'\n",
    "}\n",
    "post_2 = {\n",
    "    'title': 'Virtual Environments',\n",
    "    'content': 'Use virtual environments, you guys',\n",
    "    'author': 'Scott'\n",
    "}\n",
    "post_3 = {\n",
    "    'title': 'Learning Python',\n",
    "    'content': 'Learn Python, it is easy',\n",
    "    'author': 'Bill'\n",
    "}\n",
    "new_result = posts.insert_many([post_1, post_2, post_3])\n",
    "print('Multiple posts: {0}'.format(new_result.inserted_ids))\n"
   ]
  },
  {
   "cell_type": "code",
   "execution_count": 8,
   "metadata": {},
   "outputs": [
    {
     "output_type": "stream",
     "name": "stdout",
     "text": [
      "{'_id': ObjectId('5f99aa6dbdf6c2bd87170b18'), 'title': 'Learning Python', 'content': 'Learn Python, it is easy', 'author': 'Bill'}\n"
     ]
    }
   ],
   "source": [
    "bills_post = posts.find_one({'author': 'Bill'})\n",
    "print(bills_post)"
   ]
  },
  {
   "cell_type": "code",
   "execution_count": 9,
   "metadata": {},
   "outputs": [
    {
     "output_type": "stream",
     "name": "stdout",
     "text": [
      "<pymongo.cursor.Cursor object at 0x7f26e2fa3c10>\n"
     ]
    }
   ],
   "source": [
    "scotts_posts = posts.find({'author': 'Scott'})\n",
    "print(scotts_posts)"
   ]
  },
  {
   "cell_type": "code",
   "execution_count": null,
   "metadata": {},
   "outputs": [],
   "source": [
    "#cursor is an iter\n",
    "for post in scotts_posts:\n",
    "    print(post)"
   ]
  },
  {
   "source": [
    "MongoEngine"
   ],
   "cell_type": "markdown",
   "metadata": {}
  },
  {
   "cell_type": "code",
   "execution_count": 10,
   "metadata": {},
   "outputs": [
    {
     "output_type": "execute_result",
     "data": {
      "text/plain": [
       "MongoClient(host=['localhost:27017'], document_class=dict, tz_aware=False, connect=True, read_preference=Primary())"
      ]
     },
     "metadata": {},
     "execution_count": 10
    }
   ],
   "source": [
    "from mongoengine import *\n",
    "connect('mongoengine_test', host='localhost', port=27017)"
   ]
  },
  {
   "cell_type": "code",
   "execution_count": 11,
   "metadata": {},
   "outputs": [],
   "source": [
    "import datetime\n",
    "\n",
    "class Post(Document):\n",
    "    title = StringField(required=True, max_length=200)\n",
    "    content = StringField(required=True)\n",
    "    author = StringField(required=True, max_length=50)\n",
    "    published = DateTimeField(default=datetime.datetime.now)"
   ]
  },
  {
   "source": [
    "\n",
    "   * db_field: Specify a different field name\n",
    "   * required: Make sure this field is set\n",
    "   * default: Use the given default value if no other value is given\n",
    "   * unique: Make sure no other document in the collection has the same value for this field\n",
    "   * choices: Make sure the field’s value is equal to one of the values given in an array\n"
   ],
   "cell_type": "markdown",
   "metadata": {}
  },
  {
   "cell_type": "code",
   "execution_count": 12,
   "metadata": {},
   "outputs": [
    {
     "output_type": "stream",
     "name": "stdout",
     "text": [
      "Sample Post\nA Better Post Title\n"
     ]
    }
   ],
   "source": [
    "post_1 = Post(\n",
    "    title='Sample Post',\n",
    "    content='Some engaging content',\n",
    "    author='Scott'\n",
    ")\n",
    "post_1.save()       # This will perform an insert\n",
    "print(post_1.title)\n",
    "post_1.title = 'A Better Post Title'\n",
    "post_1.save()       # This will perform an atomic edit on \"title\"\n",
    "print(post_1.title)"
   ]
  },
  {
   "source": [
    "Unlike SQL, there is no rollback in mongodb, but the closest is a two phase [commit](https://docs.mongodb.com/v3.4/tutorial/perform-two-phase-commits/)\n",
    "\n",
    "MongoDB single document are always atomic but multi-document transactions are not.\n",
    "   * Atomicity: if one operation fails, the previous operation within the transaction must “rollback” to the previous state (i.e. the “nothing,” in “all or nothing”).\n",
    "   * Consistency: if a major failure (i.e. network, hardware) interrupts the transaction, the database must be able to recover a consistent state.\n"
   ],
   "cell_type": "markdown",
   "metadata": {}
  },
  {
   "cell_type": "code",
   "execution_count": 13,
   "metadata": {},
   "outputs": [
    {
     "output_type": "error",
     "ename": "ValidationError",
     "evalue": "ValidationError (Post:None) (Field is required: ['title'])",
     "traceback": [
      "\u001b[0;31m---------------------------------------------------------------------------\u001b[0m",
      "\u001b[0;31mValidationError\u001b[0m                           Traceback (most recent call last)",
      "\u001b[0;32m<ipython-input-13-1c6df38cda14>\u001b[0m in \u001b[0;36m<module>\u001b[0;34m\u001b[0m\n\u001b[1;32m      1\u001b[0m \u001b[0mpost_2\u001b[0m \u001b[0;34m=\u001b[0m \u001b[0mPost\u001b[0m\u001b[0;34m(\u001b[0m\u001b[0mcontent\u001b[0m\u001b[0;34m=\u001b[0m\u001b[0;34m'Content goes here'\u001b[0m\u001b[0;34m,\u001b[0m \u001b[0mauthor\u001b[0m\u001b[0;34m=\u001b[0m\u001b[0;34m'Michael'\u001b[0m\u001b[0;34m)\u001b[0m\u001b[0;34m\u001b[0m\u001b[0;34m\u001b[0m\u001b[0m\n\u001b[0;32m----> 2\u001b[0;31m \u001b[0mpost_2\u001b[0m\u001b[0;34m.\u001b[0m\u001b[0msave\u001b[0m\u001b[0;34m(\u001b[0m\u001b[0;34m)\u001b[0m\u001b[0;34m\u001b[0m\u001b[0;34m\u001b[0m\u001b[0m\n\u001b[0m",
      "\u001b[0;32m~/miniconda2/envs/flask-web-dev/lib/python3.8/site-packages/mongoengine/document.py\u001b[0m in \u001b[0;36msave\u001b[0;34m(self, force_insert, validate, clean, write_concern, cascade, cascade_kwargs, _refs, save_condition, signal_kwargs, **kwargs)\u001b[0m\n\u001b[1;32m    386\u001b[0m \u001b[0;34m\u001b[0m\u001b[0m\n\u001b[1;32m    387\u001b[0m         \u001b[0;32mif\u001b[0m \u001b[0mvalidate\u001b[0m\u001b[0;34m:\u001b[0m\u001b[0;34m\u001b[0m\u001b[0;34m\u001b[0m\u001b[0m\n\u001b[0;32m--> 388\u001b[0;31m             \u001b[0mself\u001b[0m\u001b[0;34m.\u001b[0m\u001b[0mvalidate\u001b[0m\u001b[0;34m(\u001b[0m\u001b[0mclean\u001b[0m\u001b[0;34m=\u001b[0m\u001b[0mclean\u001b[0m\u001b[0;34m)\u001b[0m\u001b[0;34m\u001b[0m\u001b[0;34m\u001b[0m\u001b[0m\n\u001b[0m\u001b[1;32m    389\u001b[0m \u001b[0;34m\u001b[0m\u001b[0m\n\u001b[1;32m    390\u001b[0m         \u001b[0;32mif\u001b[0m \u001b[0mwrite_concern\u001b[0m \u001b[0;32mis\u001b[0m \u001b[0;32mNone\u001b[0m\u001b[0;34m:\u001b[0m\u001b[0;34m\u001b[0m\u001b[0;34m\u001b[0m\u001b[0m\n",
      "\u001b[0;32m~/miniconda2/envs/flask-web-dev/lib/python3.8/site-packages/mongoengine/base/document.py\u001b[0m in \u001b[0;36mvalidate\u001b[0;34m(self, clean)\u001b[0m\n\u001b[1;32m    443\u001b[0m                 \u001b[0mpk\u001b[0m \u001b[0;34m=\u001b[0m \u001b[0mself\u001b[0m\u001b[0;34m.\u001b[0m\u001b[0m_instance\u001b[0m\u001b[0;34m.\u001b[0m\u001b[0mpk\u001b[0m\u001b[0;34m\u001b[0m\u001b[0;34m\u001b[0m\u001b[0m\n\u001b[1;32m    444\u001b[0m             \u001b[0mmessage\u001b[0m \u001b[0;34m=\u001b[0m \u001b[0;34m\"ValidationError ({}:{}) \"\u001b[0m\u001b[0;34m.\u001b[0m\u001b[0mformat\u001b[0m\u001b[0;34m(\u001b[0m\u001b[0mself\u001b[0m\u001b[0;34m.\u001b[0m\u001b[0m_class_name\u001b[0m\u001b[0;34m,\u001b[0m \u001b[0mpk\u001b[0m\u001b[0;34m)\u001b[0m\u001b[0;34m\u001b[0m\u001b[0;34m\u001b[0m\u001b[0m\n\u001b[0;32m--> 445\u001b[0;31m             \u001b[0;32mraise\u001b[0m \u001b[0mValidationError\u001b[0m\u001b[0;34m(\u001b[0m\u001b[0mmessage\u001b[0m\u001b[0;34m,\u001b[0m \u001b[0merrors\u001b[0m\u001b[0;34m=\u001b[0m\u001b[0merrors\u001b[0m\u001b[0;34m)\u001b[0m\u001b[0;34m\u001b[0m\u001b[0;34m\u001b[0m\u001b[0m\n\u001b[0m\u001b[1;32m    446\u001b[0m \u001b[0;34m\u001b[0m\u001b[0m\n\u001b[1;32m    447\u001b[0m     \u001b[0;32mdef\u001b[0m \u001b[0mto_json\u001b[0m\u001b[0;34m(\u001b[0m\u001b[0mself\u001b[0m\u001b[0;34m,\u001b[0m \u001b[0;34m*\u001b[0m\u001b[0margs\u001b[0m\u001b[0;34m,\u001b[0m \u001b[0;34m**\u001b[0m\u001b[0mkwargs\u001b[0m\u001b[0;34m)\u001b[0m\u001b[0;34m:\u001b[0m\u001b[0;34m\u001b[0m\u001b[0;34m\u001b[0m\u001b[0m\n",
      "\u001b[0;31mValidationError\u001b[0m: ValidationError (Post:None) (Field is required: ['title'])"
     ]
    }
   ],
   "source": [
    "post_2 = Post(content='Content goes here', author='Michael')\n",
    "post_2.save()"
   ]
  },
  {
   "source": [
    "Since MongoDB is object oriented that means we can create our own methods"
   ],
   "cell_type": "markdown",
   "metadata": {}
  },
  {
   "cell_type": "code",
   "execution_count": null,
   "metadata": {},
   "outputs": [],
   "source": [
    "class Post(Document):\n",
    "    title = StringField()\n",
    "    published = BooleanField()\n",
    "\n",
    "    @queryset_manager\n",
    "    def live_posts(clazz, queryset):\n",
    "        return queryset.filter(published=True)\n"
   ]
  },
  {
   "cell_type": "code",
   "execution_count": null,
   "metadata": {},
   "outputs": [],
   "source": []
  },
  {
   "cell_type": "code",
   "execution_count": null,
   "metadata": {},
   "outputs": [],
   "source": []
  }
 ]
}