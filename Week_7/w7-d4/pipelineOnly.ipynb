{
 "metadata": {
  "language_info": {
   "codemirror_mode": {
    "name": "ipython",
    "version": 3
   },
   "file_extension": ".py",
   "mimetype": "text/x-python",
   "name": "python",
   "nbconvert_exporter": "python",
   "pygments_lexer": "ipython3",
   "version": "3.8.5-final"
  },
  "orig_nbformat": 2,
  "kernelspec": {
   "name": "python38564bitflaskwebdevconda6d952299c0ad4658a33fb61d8c7c2a17",
   "display_name": "Python 3.8.5 64-bit ('flask-web-dev': conda)"
  }
 },
 "nbformat": 4,
 "nbformat_minor": 2,
 "cells": [
  {
   "source": [
    "\n",
    "## we won't see see the outliers, distribution of data population or any question asked in the given with the project notebook since they were answered already \n",
    "\n",
    "outline:\n",
    "\n",
    "* What I did \n",
    "* What works (single user value entry)\n",
    "* what doesn't work (whatever JSON we are doing and AWS deployment)\n",
    "* planning for the next project\n",
    "\n",
    "\n",
    "What to do next time:\n",
    "- quick data exploration\n",
    "- pipeline contruction and test with Nbayes.(super no hyperparameters)\n",
    "- RandomSearch HyperParameter tunning (test for crash)\n",
    "- quick predict using a single val from data\n",
    "- flask deployment on localhost\n",
    "- flask deployment on AWS\n",
    "- test and see if the ML make sense or is biased(e.g. if the user is from a rural location is automatically denied)\n",
    "- ask for relevant questions like ( why do we use classes for custom pipelines? or how can I modify an sklearn method that doesn't have a transform method)\n",
    "- deeper data exploration\n",
    "- feature engineering as part of the pipeline\n",
    "- deeper development of the pipeline with custom functions\n",
    "- deeper customization of flask\n",
    "- more test\n",
    "- repeat (agile, kanban, or whatever is your favorite development pattern)\n",
    "\n",
    "\n",
    "How not to spend project time:\n",
    "- answer exploratory questions and spend time producing beautiful graphs\n",
    "- as a result of the exploratory questions a large portion of the code has been done manually\n",
    "- this leads to a terrible pipeline design\n",
    "- realize its 2100 and you are on your own\n",
    "- scour stackoverflow and lose sanity\n",
    "- ???\n",
    "- works localy, but the port/config on AWS doesn't \n",
    "- ???\n",
    "- its 1200 there's all the mentors are busy since everyone needs them to complete their project\n",
    "- presentation is at 1500\n",
    "\n"
   ],
   "cell_type": "markdown",
   "metadata": {}
  },
  {
   "cell_type": "code",
   "execution_count": 1,
   "metadata": {},
   "outputs": [],
   "source": [
    "import pandas as pd\n",
    "import numpy as np\n",
    "\n",
    "# cool custom functions\n",
    "import sys\n",
    "sys.path.insert(0, '/home/henri/Documents/Lighthouse-lab/lighthouse-data-notes')\n",
    "import ccf_module as ccf\n",
    "\n",
    "import matplotlib.pyplot as plt\n",
    "plt.style.use('dark_background')\n",
    "plt.rcParams[\"figure.figsize\"] = (12,8)"
   ]
  },
  {
   "cell_type": "code",
   "execution_count": 46,
   "metadata": {},
   "outputs": [],
   "source": [
    "df = pd.read_csv(\"/home/henri/Documents/Lighthouse-lab/Databases/w7-d4-db/data.csv\")\n",
    "df = df.drop('Loan_ID',axis=1) "
   ]
  },
  {
   "cell_type": "code",
   "execution_count": 47,
   "metadata": {},
   "outputs": [
    {
     "output_type": "execute_result",
     "data": {
      "text/plain": [
       "  Gender Married Dependents     Education Self_Employed  ApplicantIncome  \\\n",
       "0   Male      No          0      Graduate            No             5849   \n",
       "1   Male     Yes          1      Graduate            No             4583   \n",
       "2   Male     Yes          0      Graduate           Yes             3000   \n",
       "3   Male     Yes          0  Not Graduate            No             2583   \n",
       "4   Male      No          0      Graduate            No             6000   \n",
       "5   Male     Yes          2      Graduate           Yes             5417   \n",
       "6   Male     Yes          0  Not Graduate            No             2333   \n",
       "7   Male     Yes         3+      Graduate            No             3036   \n",
       "8   Male     Yes          2      Graduate            No             4006   \n",
       "9   Male     Yes          1      Graduate            No            12841   \n",
       "\n",
       "   CoapplicantIncome  LoanAmount  Loan_Amount_Term  Credit_History  \\\n",
       "0                0.0         NaN             360.0             1.0   \n",
       "1             1508.0       128.0             360.0             1.0   \n",
       "2                0.0        66.0             360.0             1.0   \n",
       "3             2358.0       120.0             360.0             1.0   \n",
       "4                0.0       141.0             360.0             1.0   \n",
       "5             4196.0       267.0             360.0             1.0   \n",
       "6             1516.0        95.0             360.0             1.0   \n",
       "7             2504.0       158.0             360.0             0.0   \n",
       "8             1526.0       168.0             360.0             1.0   \n",
       "9            10968.0       349.0             360.0             1.0   \n",
       "\n",
       "  Property_Area Loan_Status  \n",
       "0         Urban           Y  \n",
       "1         Rural           N  \n",
       "2         Urban           Y  \n",
       "3         Urban           Y  \n",
       "4         Urban           Y  \n",
       "5         Urban           Y  \n",
       "6         Urban           Y  \n",
       "7     Semiurban           N  \n",
       "8         Urban           Y  \n",
       "9     Semiurban           N  "
      ],
      "text/html": "<div>\n<style scoped>\n    .dataframe tbody tr th:only-of-type {\n        vertical-align: middle;\n    }\n\n    .dataframe tbody tr th {\n        vertical-align: top;\n    }\n\n    .dataframe thead th {\n        text-align: right;\n    }\n</style>\n<table border=\"1\" class=\"dataframe\">\n  <thead>\n    <tr style=\"text-align: right;\">\n      <th></th>\n      <th>Gender</th>\n      <th>Married</th>\n      <th>Dependents</th>\n      <th>Education</th>\n      <th>Self_Employed</th>\n      <th>ApplicantIncome</th>\n      <th>CoapplicantIncome</th>\n      <th>LoanAmount</th>\n      <th>Loan_Amount_Term</th>\n      <th>Credit_History</th>\n      <th>Property_Area</th>\n      <th>Loan_Status</th>\n    </tr>\n  </thead>\n  <tbody>\n    <tr>\n      <th>0</th>\n      <td>Male</td>\n      <td>No</td>\n      <td>0</td>\n      <td>Graduate</td>\n      <td>No</td>\n      <td>5849</td>\n      <td>0.0</td>\n      <td>NaN</td>\n      <td>360.0</td>\n      <td>1.0</td>\n      <td>Urban</td>\n      <td>Y</td>\n    </tr>\n    <tr>\n      <th>1</th>\n      <td>Male</td>\n      <td>Yes</td>\n      <td>1</td>\n      <td>Graduate</td>\n      <td>No</td>\n      <td>4583</td>\n      <td>1508.0</td>\n      <td>128.0</td>\n      <td>360.0</td>\n      <td>1.0</td>\n      <td>Rural</td>\n      <td>N</td>\n    </tr>\n    <tr>\n      <th>2</th>\n      <td>Male</td>\n      <td>Yes</td>\n      <td>0</td>\n      <td>Graduate</td>\n      <td>Yes</td>\n      <td>3000</td>\n      <td>0.0</td>\n      <td>66.0</td>\n      <td>360.0</td>\n      <td>1.0</td>\n      <td>Urban</td>\n      <td>Y</td>\n    </tr>\n    <tr>\n      <th>3</th>\n      <td>Male</td>\n      <td>Yes</td>\n      <td>0</td>\n      <td>Not Graduate</td>\n      <td>No</td>\n      <td>2583</td>\n      <td>2358.0</td>\n      <td>120.0</td>\n      <td>360.0</td>\n      <td>1.0</td>\n      <td>Urban</td>\n      <td>Y</td>\n    </tr>\n    <tr>\n      <th>4</th>\n      <td>Male</td>\n      <td>No</td>\n      <td>0</td>\n      <td>Graduate</td>\n      <td>No</td>\n      <td>6000</td>\n      <td>0.0</td>\n      <td>141.0</td>\n      <td>360.0</td>\n      <td>1.0</td>\n      <td>Urban</td>\n      <td>Y</td>\n    </tr>\n    <tr>\n      <th>5</th>\n      <td>Male</td>\n      <td>Yes</td>\n      <td>2</td>\n      <td>Graduate</td>\n      <td>Yes</td>\n      <td>5417</td>\n      <td>4196.0</td>\n      <td>267.0</td>\n      <td>360.0</td>\n      <td>1.0</td>\n      <td>Urban</td>\n      <td>Y</td>\n    </tr>\n    <tr>\n      <th>6</th>\n      <td>Male</td>\n      <td>Yes</td>\n      <td>0</td>\n      <td>Not Graduate</td>\n      <td>No</td>\n      <td>2333</td>\n      <td>1516.0</td>\n      <td>95.0</td>\n      <td>360.0</td>\n      <td>1.0</td>\n      <td>Urban</td>\n      <td>Y</td>\n    </tr>\n    <tr>\n      <th>7</th>\n      <td>Male</td>\n      <td>Yes</td>\n      <td>3+</td>\n      <td>Graduate</td>\n      <td>No</td>\n      <td>3036</td>\n      <td>2504.0</td>\n      <td>158.0</td>\n      <td>360.0</td>\n      <td>0.0</td>\n      <td>Semiurban</td>\n      <td>N</td>\n    </tr>\n    <tr>\n      <th>8</th>\n      <td>Male</td>\n      <td>Yes</td>\n      <td>2</td>\n      <td>Graduate</td>\n      <td>No</td>\n      <td>4006</td>\n      <td>1526.0</td>\n      <td>168.0</td>\n      <td>360.0</td>\n      <td>1.0</td>\n      <td>Urban</td>\n      <td>Y</td>\n    </tr>\n    <tr>\n      <th>9</th>\n      <td>Male</td>\n      <td>Yes</td>\n      <td>1</td>\n      <td>Graduate</td>\n      <td>No</td>\n      <td>12841</td>\n      <td>10968.0</td>\n      <td>349.0</td>\n      <td>360.0</td>\n      <td>1.0</td>\n      <td>Semiurban</td>\n      <td>N</td>\n    </tr>\n  </tbody>\n</table>\n</div>"
     },
     "metadata": {},
     "execution_count": 47
    }
   ],
   "source": [
    "df.head(10)"
   ]
  },
  {
   "cell_type": "code",
   "execution_count": 4,
   "metadata": {},
   "outputs": [],
   "source": [
    "labelsRes = df['Loan_Status']\n",
    "df  = df.drop('Loan_Status',axis=1)"
   ]
  },
  {
   "cell_type": "code",
   "execution_count": 5,
   "metadata": {},
   "outputs": [],
   "source": [
    "from sklearn.preprocessing import FunctionTransformer"
   ]
  },
  {
   "cell_type": "code",
   "execution_count": 6,
   "metadata": {},
   "outputs": [],
   "source": [
    "def numFeat(data):\n",
    "    return data[num_feats]\n",
    "\n",
    "def catFeat(data):\n",
    "    return data[cat_feats]\n",
    "\n",
    "cat_feats = df.dtypes[df.dtypes == 'object'].index.tolist()\n",
    "num_feats = df.dtypes[~df.dtypes.index.isin(cat_feats)].index.tolist()\n",
    "keep_num = FunctionTransformer(numFeat)\n",
    "keep_cat = FunctionTransformer(catFeat)"
   ]
  },
  {
   "cell_type": "code",
   "execution_count": 7,
   "metadata": {},
   "outputs": [],
   "source": [
    "from sklearn.model_selection import train_test_split\n",
    "X_train, X_test, y_train, y_test = train_test_split(df, labelsRes,test_size=0.33, random_state=42)"
   ]
  },
  {
   "cell_type": "code",
   "execution_count": 8,
   "metadata": {},
   "outputs": [],
   "source": [
    "from sklearn.experimental import enable_iterative_imputer\n",
    "\n",
    "from sklearn.impute import SimpleImputer, IterativeImputer\n",
    "from sklearn.pipeline import Pipeline\n",
    "from sklearn.preprocessing import StandardScaler, OneHotEncoder\n",
    "from sklearn.feature_selection import SelectKBest\n",
    "from sklearn.decomposition import PCA\n",
    "from sklearn.compose import ColumnTransformer"
   ]
  },
  {
   "source": [
    "Outlier detection as part of a pipeline? I just don't know how to do it. There is a fit function but no transforms meaning it can't be used as part of a pipeline. The solution is to create a custom class with the sklern? WHY DID I WASTE SO MUCH TIME WITH DATA EXPLORATION AND ANSWERING THE DAMN QUESTIONS. THAT STUFF TAKES HALF A BRAIN CELL TO DO MANUALLY BUT WE WANT TO HAVE EVERYTHING DONE IN A PIPELINE WHICH TAKES A GALAXY BRAIN SINCE ITS MY SECOND DAY TOUCHING PIPELINES!!!! THE MENTORS ARE OFF LINE AT 2100 fuuuuuuuuuuuuuuuuuuuuuuuuuuuuuuuuuuuuuuuuuuuuuuuuuuuuuuuuuu"
   ],
   "cell_type": "markdown",
   "metadata": {}
  },
  {
   "cell_type": "code",
   "execution_count": 9,
   "metadata": {},
   "outputs": [],
   "source": [
    "# from sklearn.ensemble import IsolationForest\n",
    "# from imblearn import FunctionSampler\n",
    "# def outlier_rejection(X, y):\n",
    "#     \"\"\"This will be our function used to resample our dataset.\"\"\"\n",
    "#     model = IsolationForest(max_samples=100,\n",
    "#                             contamination=0.4,\n",
    "#                             random_state=rng)\n",
    "#     model.fit(X)\n",
    "#     y_pred = model.predict(X)\n",
    "#     return X[y_pred == 1], y[y_pred == 1]"
   ]
  },
  {
   "cell_type": "code",
   "execution_count": 10,
   "metadata": {},
   "outputs": [],
   "source": [
    "# this jupyter lab differs greatly from my initial notebook\n",
    "# 0 feature enginerring \n",
    "# 0 outlier handling\n",
    "# 0 mean/mode fillna other than through MICE\n",
    "\n",
    "numeric_transformer = Pipeline(steps=[\n",
    "    ('MICE', IterativeImputer(initial_strategy='median')),\n",
    "    ('scaler', StandardScaler())])\n",
    "numeric_transformer.steps.append(('kbest', SelectKBest(k=3)))\n",
    "# numeric_transformer.steps.append(('isoForest', FunctionSampler(func=outlier_rejection)))"
   ]
  },
  {
   "cell_type": "code",
   "execution_count": 11,
   "metadata": {},
   "outputs": [],
   "source": [
    "#simple Imputer is not really needed since there are nill NaNs\n",
    "categorical_transformer = Pipeline(steps=[\n",
    "    ('imputer', SimpleImputer(strategy='constant', fill_value='missing'))])\n",
    "# dummy cariable creation\n",
    "categorical_transformer.steps.append(['ohc',OneHotEncoder(handle_unknown='ignore')])\n",
    "# Dense Transformer needed adter one hot encoder\n",
    "categorical_transformer.steps.append(['to_dense',ccf.ToDenseTransformer()])\n",
    "# we only want the PCAs with the most variance\n",
    "categorical_transformer.steps.append(['pca',PCA(n_components=3)])"
   ]
  },
  {
   "cell_type": "code",
   "execution_count": 12,
   "metadata": {},
   "outputs": [],
   "source": [
    "preprocessor = ColumnTransformer(transformers=[\n",
    "        ('num', numeric_transformer, num_feats),\n",
    "        ('cat', categorical_transformer, cat_feats)])"
   ]
  },
  {
   "cell_type": "code",
   "execution_count": null,
   "metadata": {},
   "outputs": [],
   "source": []
  },
  {
   "cell_type": "code",
   "execution_count": 13,
   "metadata": {},
   "outputs": [],
   "source": [
    "from sklearn.naive_bayes import GaussianNB\n",
    "from sklearn.svm import SVC\n",
    "from sklearn.ensemble import GradientBoostingClassifier,  RandomForestClassifier"
   ]
  },
  {
   "cell_type": "code",
   "execution_count": 14,
   "metadata": {},
   "outputs": [],
   "source": [
    "from sklearn.model_selection import RandomizedSearchCV,GridSearchCV\n",
    "regressors = [SVC(), GradientBoostingClassifier(), RandomForestClassifier()]"
   ]
  },
  {
   "cell_type": "code",
   "execution_count": 15,
   "metadata": {},
   "outputs": [],
   "source": [
    "# sorted(base_model2.get_params().keys())\n",
    "params = [{'regressors':[SVC()],\n",
    "'regressors__C': [0.1, 1, 10, 100, 1000],\n",
    "'regressors__gamma': [1, 0.1, 0.01, 0.001, 0.0001],\n",
    "'regressors__kernel': ['poly','rbf'],\n",
    "\n",
    "'preprocessor__cat__pca__n_components':range(3,5,1),\n",
    "'preprocessor__num__kbest__k':range(2,5,1)},\n",
    "    \n",
    "{'regressors':[RandomForestClassifier()],\n",
    "'regressors__n_estimators' : [int(x) for x in np.linspace(start = 200, stop = 1000, num = 5)],\n",
    "'regressors__max_depth' : [int(x) for x in np.linspace(10, 60, num = 6)],\n",
    "'regressors__min_samples_leaf' : [1, 2, 4],\n",
    "'regressors__min_samples_split' : [2, 5, 10],\n",
    "\n",
    "'preprocessor__cat__pca__n_components':range(3,5,1),\n",
    "'preprocessor__num__kbest__k':range(2,5,1)},\n",
    "\n",
    "{'regressors':[GradientBoostingClassifier()],\n",
    "'regressors__max_depth':range(5,16,2), \n",
    "'regressors__min_samples_split':range(200,1001,200),\n",
    "'regressors__learning_rate':[0.15,0.1,0.05,0.01,0.005,0.001],\n",
    "\n",
    "'preprocessor__cat__pca__n_components':range(3,5,1),\n",
    "'preprocessor__num__kbest__k':range(2,5,1)}\n",
    "]"
   ]
  },
  {
   "cell_type": "code",
   "execution_count": 16,
   "metadata": {},
   "outputs": [
    {
     "output_type": "stream",
     "name": "stdout",
     "text": [
      "Fitting 5 folds for each of 150 candidates, totalling 750 fits\n",
      "[Parallel(n_jobs=-1)]: Using backend LokyBackend with 16 concurrent workers.\n",
      "[Parallel(n_jobs=-1)]: Done  18 tasks      | elapsed:    2.3s\n",
      "[Parallel(n_jobs=-1)]: Done 168 tasks      | elapsed:    8.2s\n",
      "[Parallel(n_jobs=-1)]: Done 418 tasks      | elapsed:   18.4s\n",
      "[Parallel(n_jobs=-1)]: Done 750 out of 750 | elapsed:   32.4s finished\n"
     ]
    }
   ],
   "source": [
    "base_model2 = Pipeline([('preprocessor', preprocessor),\n",
    "                      ('regressors', SVC())])\n",
    "tuned_model = RandomizedSearchCV(base_model2,params,verbose=1,n_jobs=-1,n_iter=150, cv=5,random_state=42).fit(X_train, y_train)"
   ]
  },
  {
   "cell_type": "code",
   "execution_count": 17,
   "metadata": {},
   "outputs": [
    {
     "output_type": "stream",
     "name": "stdout",
     "text": [
      "model score: 0.849\n",
      "model score: 0.798\n",
      "<bound method Pipeline.get_params of Pipeline(steps=[('preprocessor',\n",
      "                 ColumnTransformer(transformers=[('num',\n",
      "                                                  Pipeline(steps=[('MICE',\n",
      "                                                                   IterativeImputer(initial_strategy='median')),\n",
      "                                                                  ('scaler',\n",
      "                                                                   StandardScaler()),\n",
      "                                                                  ('kbest',\n",
      "                                                                   SelectKBest(k=4))]),\n",
      "                                                  ['ApplicantIncome',\n",
      "                                                   'CoapplicantIncome',\n",
      "                                                   'LoanAmount',\n",
      "                                                   'Loan_Amount_Term',\n",
      "                                                   'Credit_History']),\n",
      "                                                 ('cat',\n",
      "                                                  Pipeline(steps=[('imputer',\n",
      "                                                                   SimpleImputer(fill_value='mis...\n",
      "                                                                                 strategy='constant')),\n",
      "                                                                  ['ohc',\n",
      "                                                                   OneHotEncoder(handle_unknown='ignore')],\n",
      "                                                                  ['to_dense',\n",
      "                                                                   <ccf_module.ToDenseTransformer object at 0x7fe6ee439520>],\n",
      "                                                                  ['pca',\n",
      "                                                                   PCA(n_components=3)]]),\n",
      "                                                  ['Gender', 'Married',\n",
      "                                                   'Dependents', 'Education',\n",
      "                                                   'Self_Employed',\n",
      "                                                   'Property_Area'])])),\n",
      "                ('regressors',\n",
      "                 RandomForestClassifier(max_depth=50, min_samples_leaf=4,\n",
      "                                        min_samples_split=10,\n",
      "                                        n_estimators=1000))])>\n"
     ]
    },
    {
     "output_type": "execute_result",
     "data": {
      "text/plain": [
       "{'regressors__n_estimators': 1000,\n",
       " 'regressors__min_samples_split': 10,\n",
       " 'regressors__min_samples_leaf': 4,\n",
       " 'regressors__max_depth': 50,\n",
       " 'regressors': RandomForestClassifier(max_depth=50, min_samples_leaf=4, min_samples_split=10,\n",
       "                        n_estimators=1000),\n",
       " 'preprocessor__num__kbest__k': 4,\n",
       " 'preprocessor__cat__pca__n_components': 3}"
      ]
     },
     "metadata": {},
     "execution_count": 17
    }
   ],
   "source": [
    "print(\"model score: %.3f\" % tuned_model.score(X_train, y_train)) \n",
    "print(\"model score: %.3f\" % tuned_model.score(X_test, y_test))\n",
    "print(tuned_model.best_estimator_.get_params)\n",
    "tuned_model.best_params_"
   ]
  },
  {
   "cell_type": "code",
   "execution_count": 18,
   "metadata": {},
   "outputs": [],
   "source": [
    "import pickle\n",
    "# save the model to disk\n",
    "filename = 'pickledRandCVModel.sav' # .sav file extension are commonly used in video games as savepoint\n",
    "pickle.dump(tuned_model, open(filename, 'wb'))"
   ]
  },
  {
   "cell_type": "code",
   "execution_count": null,
   "metadata": {},
   "outputs": [],
   "source": []
  },
  {
   "cell_type": "code",
   "execution_count": 19,
   "metadata": {},
   "outputs": [],
   "source": [
    "test2 = ['Male', 'Yes', '0', 'Graduate', 'Yes', 10000, 10000, 10, 10, 1, 'Urban']"
   ]
  },
  {
   "cell_type": "code",
   "execution_count": 22,
   "metadata": {},
   "outputs": [
    {
     "output_type": "execute_result",
     "data": {
      "text/plain": [
       "array(['Y', 'Y', 'Y', 'Y', 'Y', 'Y', 'Y', 'Y', 'Y', 'Y', 'N', 'Y', 'Y',\n",
       "       'Y', 'Y', 'Y', 'Y', 'Y', 'Y', 'Y', 'Y', 'Y', 'Y', 'Y', 'Y', 'Y',\n",
       "       'Y', 'Y', 'Y', 'Y', 'Y', 'Y', 'Y', 'Y', 'Y', 'N', 'Y', 'Y', 'Y',\n",
       "       'Y', 'Y', 'Y', 'Y', 'Y', 'N', 'Y', 'Y', 'N', 'N', 'N', 'Y', 'Y',\n",
       "       'N', 'Y', 'Y', 'Y', 'Y', 'Y', 'N', 'Y', 'N', 'Y', 'N', 'Y', 'Y',\n",
       "       'Y', 'Y', 'Y', 'Y', 'Y', 'N', 'Y', 'Y', 'Y', 'N', 'Y', 'Y', 'N',\n",
       "       'N', 'Y', 'Y', 'Y', 'Y', 'Y', 'Y', 'Y', 'Y', 'N', 'Y', 'Y', 'Y',\n",
       "       'N', 'N', 'Y', 'Y', 'Y', 'Y', 'Y', 'Y', 'Y', 'Y', 'Y', 'Y', 'Y',\n",
       "       'Y', 'N', 'Y', 'N', 'Y', 'Y', 'Y', 'N', 'Y', 'Y', 'Y', 'Y', 'Y',\n",
       "       'Y', 'Y', 'Y', 'Y', 'Y', 'Y', 'Y', 'Y', 'Y', 'Y', 'N', 'Y', 'Y',\n",
       "       'N', 'Y', 'Y', 'N', 'Y', 'Y', 'Y', 'Y', 'Y', 'Y', 'Y', 'Y', 'Y',\n",
       "       'Y', 'Y', 'Y', 'Y', 'N', 'Y', 'Y', 'Y', 'Y', 'N', 'Y', 'Y', 'Y',\n",
       "       'Y', 'Y', 'N', 'Y', 'Y', 'Y', 'Y', 'Y', 'Y', 'Y', 'Y', 'Y', 'N',\n",
       "       'Y', 'N', 'N', 'Y', 'N', 'Y', 'Y', 'Y', 'Y', 'Y', 'Y', 'Y', 'Y',\n",
       "       'Y', 'Y', 'N', 'N', 'Y', 'Y', 'Y', 'Y', 'N', 'Y', 'N', 'Y', 'Y',\n",
       "       'Y', 'Y', 'N', 'N', 'Y', 'N', 'Y', 'Y'], dtype=object)"
      ]
     },
     "metadata": {},
     "execution_count": 22
    }
   ],
   "source": [
    "tuned_model.predict(X_test)"
   ]
  },
  {
   "cell_type": "code",
   "execution_count": 40,
   "metadata": {},
   "outputs": [
    {
     "output_type": "execute_result",
     "data": {
      "text/plain": [
       "     Gender Married Dependents Education Self_Employed  ApplicantIncome  \\\n",
       "350    Male     Yes          0  Graduate            No             9083   \n",
       "377    Male     Yes          0  Graduate            No             4310   \n",
       "163    Male     Yes          2  Graduate            No             4167   \n",
       "609  Female      No          0  Graduate            No             2900   \n",
       "132    Male      No          0  Graduate            No             2718   \n",
       "\n",
       "     CoapplicantIncome  LoanAmount  Loan_Amount_Term  Credit_History  \\\n",
       "350                0.0       228.0             360.0             1.0   \n",
       "377                0.0       130.0             360.0             NaN   \n",
       "163             1447.0       158.0             360.0             1.0   \n",
       "609                0.0        71.0             360.0             1.0   \n",
       "132                0.0        70.0             360.0             1.0   \n",
       "\n",
       "    Property_Area  \n",
       "350     Semiurban  \n",
       "377     Semiurban  \n",
       "163         Rural  \n",
       "609         Rural  \n",
       "132     Semiurban  "
      ],
      "text/html": "<div>\n<style scoped>\n    .dataframe tbody tr th:only-of-type {\n        vertical-align: middle;\n    }\n\n    .dataframe tbody tr th {\n        vertical-align: top;\n    }\n\n    .dataframe thead th {\n        text-align: right;\n    }\n</style>\n<table border=\"1\" class=\"dataframe\">\n  <thead>\n    <tr style=\"text-align: right;\">\n      <th></th>\n      <th>Gender</th>\n      <th>Married</th>\n      <th>Dependents</th>\n      <th>Education</th>\n      <th>Self_Employed</th>\n      <th>ApplicantIncome</th>\n      <th>CoapplicantIncome</th>\n      <th>LoanAmount</th>\n      <th>Loan_Amount_Term</th>\n      <th>Credit_History</th>\n      <th>Property_Area</th>\n    </tr>\n  </thead>\n  <tbody>\n    <tr>\n      <th>350</th>\n      <td>Male</td>\n      <td>Yes</td>\n      <td>0</td>\n      <td>Graduate</td>\n      <td>No</td>\n      <td>9083</td>\n      <td>0.0</td>\n      <td>228.0</td>\n      <td>360.0</td>\n      <td>1.0</td>\n      <td>Semiurban</td>\n    </tr>\n    <tr>\n      <th>377</th>\n      <td>Male</td>\n      <td>Yes</td>\n      <td>0</td>\n      <td>Graduate</td>\n      <td>No</td>\n      <td>4310</td>\n      <td>0.0</td>\n      <td>130.0</td>\n      <td>360.0</td>\n      <td>NaN</td>\n      <td>Semiurban</td>\n    </tr>\n    <tr>\n      <th>163</th>\n      <td>Male</td>\n      <td>Yes</td>\n      <td>2</td>\n      <td>Graduate</td>\n      <td>No</td>\n      <td>4167</td>\n      <td>1447.0</td>\n      <td>158.0</td>\n      <td>360.0</td>\n      <td>1.0</td>\n      <td>Rural</td>\n    </tr>\n    <tr>\n      <th>609</th>\n      <td>Female</td>\n      <td>No</td>\n      <td>0</td>\n      <td>Graduate</td>\n      <td>No</td>\n      <td>2900</td>\n      <td>0.0</td>\n      <td>71.0</td>\n      <td>360.0</td>\n      <td>1.0</td>\n      <td>Rural</td>\n    </tr>\n    <tr>\n      <th>132</th>\n      <td>Male</td>\n      <td>No</td>\n      <td>0</td>\n      <td>Graduate</td>\n      <td>No</td>\n      <td>2718</td>\n      <td>0.0</td>\n      <td>70.0</td>\n      <td>360.0</td>\n      <td>1.0</td>\n      <td>Semiurban</td>\n    </tr>\n  </tbody>\n</table>\n</div>"
     },
     "metadata": {},
     "execution_count": 40
    }
   ],
   "source": [
    "X_test.head()"
   ]
  },
  {
   "cell_type": "code",
   "execution_count": 43,
   "metadata": {},
   "outputs": [
    {
     "output_type": "execute_result",
     "data": {
      "text/plain": [
       "  Gender Married Dependents Education Self_Employed ApplicantIncome  \\\n",
       "0   Male     Yes          0  Graduate           Yes           10000   \n",
       "\n",
       "  CoapplicantIncome LoanAmount Loan_Amount_Term Credit_History Property_Area  \n",
       "0             10000         10               10              1         Urban  "
      ],
      "text/html": "<div>\n<style scoped>\n    .dataframe tbody tr th:only-of-type {\n        vertical-align: middle;\n    }\n\n    .dataframe tbody tr th {\n        vertical-align: top;\n    }\n\n    .dataframe thead th {\n        text-align: right;\n    }\n</style>\n<table border=\"1\" class=\"dataframe\">\n  <thead>\n    <tr style=\"text-align: right;\">\n      <th></th>\n      <th>Gender</th>\n      <th>Married</th>\n      <th>Dependents</th>\n      <th>Education</th>\n      <th>Self_Employed</th>\n      <th>ApplicantIncome</th>\n      <th>CoapplicantIncome</th>\n      <th>LoanAmount</th>\n      <th>Loan_Amount_Term</th>\n      <th>Credit_History</th>\n      <th>Property_Area</th>\n    </tr>\n  </thead>\n  <tbody>\n    <tr>\n      <th>0</th>\n      <td>Male</td>\n      <td>Yes</td>\n      <td>0</td>\n      <td>Graduate</td>\n      <td>Yes</td>\n      <td>10000</td>\n      <td>10000</td>\n      <td>10</td>\n      <td>10</td>\n      <td>1</td>\n      <td>Urban</td>\n    </tr>\n  </tbody>\n</table>\n</div>"
     },
     "metadata": {},
     "execution_count": 43
    }
   ],
   "source": [
    " ds = pd.Series(test2,index=['Gender','Married','Dependents','Education','Self_Employed','ApplicantIncome','CoapplicantIncome','LoanAmount','Loan_Amount_Term','Credit_History','Property_Area',])\n",
    " ds.to_frame().T"
   ]
  },
  {
   "cell_type": "code",
   "execution_count": 44,
   "metadata": {},
   "outputs": [
    {
     "output_type": "execute_result",
     "data": {
      "text/plain": [
       "array(['Y'], dtype=object)"
      ]
     },
     "metadata": {},
     "execution_count": 44
    }
   ],
   "source": [
    "tuned_model.predict( ds.to_frame().T)"
   ]
  },
  {
   "cell_type": "code",
   "execution_count": null,
   "metadata": {},
   "outputs": [],
   "source": [
    "#transferring files from localhost to aws instance\n",
    "#sudo scp -i \"/home/henri/Documents/Lighthouse-lab/keys/lighthouse-lab-ec2-key.pem\" '/home/henri/Documents/Lighthouse-lab/lighthouse-data-notes/ccf_module.py' ec2-user@ec2-99-79-72-222.ca-central-1.compute.amazonaws.com:~/deployedapp/\n"
   ]
  }
 ]
}